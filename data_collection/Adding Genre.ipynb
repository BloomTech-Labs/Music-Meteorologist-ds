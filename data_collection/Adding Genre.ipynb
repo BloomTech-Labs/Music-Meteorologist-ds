{
 "cells": [
  {
   "cell_type": "code",
   "execution_count": 2,
   "metadata": {},
   "outputs": [],
   "source": [
    "from sqlalchemy import create_engine\n",
    "import spotipy\n",
    "from spotipy.oauth2 import SpotifyClientCredentials\n",
    "from env_vars import *\n",
    "import pandas as pd\n",
    "import sqlite3\n",
    "from sqlalchemy import create_engine"
   ]
  },
  {
   "cell_type": "markdown",
   "metadata": {},
   "source": [
    "# Connection to DB for executions"
   ]
  },
  {
   "cell_type": "code",
   "execution_count": 3,
   "metadata": {},
   "outputs": [],
   "source": [
    "engine = create_engine('sqlite:///song_list_v2.db', echo=False)"
   ]
  },
  {
   "cell_type": "markdown",
   "metadata": {},
   "source": [
    "# Functions for use in this notebook"
   ]
  },
  {
   "cell_type": "code",
   "execution_count": 5,
   "metadata": {},
   "outputs": [],
   "source": [
    "def authorize():\n",
    "    client_credentials_manager = SpotifyClientCredentials(client_id=CLIENT_ID,client_secret=CLIENT_SECRET)\n",
    "    sp = spotipy.Spotify(client_credentials_manager=client_credentials_manager)"
   ]
  },
  {
   "cell_type": "code",
   "execution_count": 4,
   "metadata": {},
   "outputs": [],
   "source": [
    "client_credentials_manager = SpotifyClientCredentials(client_id=CLIENT_ID,client_secret=CLIENT_SECRET)\n",
    "sp = spotipy.Spotify(client_credentials_manager=client_credentials_manager)"
   ]
  },
  {
   "cell_type": "code",
   "execution_count": 5,
   "metadata": {},
   "outputs": [
    {
     "data": {
      "text/plain": [
       "{'danceability': 0.693,\n",
       " 'energy': 0.497,\n",
       " 'key': 2,\n",
       " 'loudness': -7.316,\n",
       " 'mode': 1,\n",
       " 'speechiness': 0.119,\n",
       " 'acousticness': 0.679,\n",
       " 'instrumentalness': 0,\n",
       " 'liveness': 0.258,\n",
       " 'valence': 0.473,\n",
       " 'tempo': 81.308,\n",
       " 'type': 'audio_features',\n",
       " 'id': '54flyrjcdnQdco7300avMJ',\n",
       " 'uri': 'spotify:track:54flyrjcdnQdco7300avMJ',\n",
       " 'track_href': 'https://api.spotify.com/v1/tracks/54flyrjcdnQdco7300avMJ',\n",
       " 'analysis_url': 'https://api.spotify.com/v1/audio-analysis/54flyrjcdnQdco7300avMJ',\n",
       " 'duration_ms': 122067,\n",
       " 'time_signature': 4}"
      ]
     },
     "execution_count": 5,
     "metadata": {},
     "output_type": "execute_result"
    }
   ],
   "source": [
    "def get_features(trackID):\n",
    "        return sp.audio_features(trackID)[0]\n",
    "    \n",
    "get_features('54flyrjcdnQdco7300avMJ')"
   ]
  },
  {
   "cell_type": "code",
   "execution_count": 6,
   "metadata": {},
   "outputs": [
    {
     "data": {
      "text/plain": [
       "'1dfeR4HaWDbWqFHLkxsg1d'"
      ]
     },
     "execution_count": 6,
     "metadata": {},
     "output_type": "execute_result"
    }
   ],
   "source": [
    "def get_artist_id(trackID):\n",
    "    return sp.track(trackID)['artists'][0]['id']\n",
    "    \n",
    "\n",
    "\n",
    "get_artist_id('54flyrjcdnQdco7300avMJ')"
   ]
  },
  {
   "cell_type": "code",
   "execution_count": 7,
   "metadata": {},
   "outputs": [
    {
     "data": {
      "text/plain": [
       "['glam rock', 'rock']"
      ]
     },
     "execution_count": 7,
     "metadata": {},
     "output_type": "execute_result"
    }
   ],
   "source": [
    "def get_genres(artistID):\n",
    "    return sp.artist(artistID)['genres']\n",
    "\n",
    "\n",
    "get_genres('1dfeR4HaWDbWqFHLkxsg1d')"
   ]
  },
  {
   "cell_type": "markdown",
   "metadata": {},
   "source": [
    "# [COMPLETED] Inserts Genre Value into Genres Column"
   ]
  },
  {
   "cell_type": "code",
   "execution_count": null,
   "metadata": {},
   "outputs": [],
   "source": [
    "# genres_list = []\n",
    "# for item in engine.execute(\"SELECT songid FROM features\").fetchall()[515122:]:    \n",
    "#     songid = item.values()[0]\n",
    "#     artistid = get_artist_id(songid)\n",
    "#     genres = get_genres(artistid)\n",
    "#     try:\n",
    "#         engine.execute(f'UPDATE features SET genres = \\\"{genres}\\\" WHERE songid = \\\"{songid}\\\"')\n",
    "#         authorize()\n",
    "#     except:\n",
    "#         print(\"couldn't insert\")\n",
    "#         continue"
   ]
  },
  {
   "cell_type": "code",
   "execution_count": 13,
   "metadata": {},
   "outputs": [],
   "source": [
    "# null = []\n",
    "# for genre in genres_list:\n",
    "#     if genre == []:\n",
    "#         null.append(genre)"
   ]
  },
  {
   "cell_type": "markdown",
   "metadata": {},
   "source": [
    "# Convert to PD DF - For Exploration - SEE NULL VALUE RESULT"
   ]
  },
  {
   "cell_type": "code",
   "execution_count": 8,
   "metadata": {},
   "outputs": [],
   "source": [
    "con = sqlite3.connect(\"./song_list_v2.db\")\n",
    "df = pd.read_sql_query(\"SELECT * from features\", con)"
   ]
  },
  {
   "cell_type": "code",
   "execution_count": 9,
   "metadata": {},
   "outputs": [
    {
     "data": {
      "text/plain": [
       "index                  0\n",
       "acousticness           0\n",
       "artist                 0\n",
       "danceability           0\n",
       "duration_ms            0\n",
       "energy                 0\n",
       "instrumentalness       0\n",
       "key                    0\n",
       "liveness               0\n",
       "loudness               0\n",
       "mode                   0\n",
       "songid                 0\n",
       "speechiness            0\n",
       "tempo                  0\n",
       "time_signature         0\n",
       "track                  1\n",
       "valence                0\n",
       "genres              1468\n",
       "dtype: int64"
      ]
     },
     "execution_count": 9,
     "metadata": {},
     "output_type": "execute_result"
    }
   ],
   "source": [
    "df.isnull().sum()"
   ]
  },
  {
   "cell_type": "markdown",
   "metadata": {},
   "source": [
    "# Create List of all Null Values for Investigation"
   ]
  },
  {
   "cell_type": "code",
   "execution_count": 10,
   "metadata": {},
   "outputs": [],
   "source": [
    "nan_rows = df[df['genres'].isnull()].index.tolist()"
   ]
  },
  {
   "cell_type": "code",
   "execution_count": 11,
   "metadata": {},
   "outputs": [
    {
     "data": {
      "text/plain": [
       "1468"
      ]
     },
     "execution_count": 11,
     "metadata": {},
     "output_type": "execute_result"
    }
   ],
   "source": [
    "len(nan_rows)"
   ]
  },
  {
   "cell_type": "code",
   "execution_count": 37,
   "metadata": {},
   "outputs": [
    {
     "data": {
      "text/plain": [
       "index                                  125\n",
       "acousticness                         0.785\n",
       "artist                   Dora The Explorer\n",
       "danceability                         0.766\n",
       "duration_ms                          48787\n",
       "energy                               0.226\n",
       "instrumentalness                         0\n",
       "key                                      9\n",
       "liveness                             0.165\n",
       "loudness                            -5.875\n",
       "mode                                     1\n",
       "songid              4LisLrspORq8IagdLHWkf7\n",
       "speechiness                          0.055\n",
       "tempo                                93.05\n",
       "time_signature                           4\n",
       "track                The Itsy Bitsy Spider\n",
       "valence                              0.877\n",
       "genres                                None\n",
       "Name: 125, dtype: object"
      ]
     },
     "execution_count": 37,
     "metadata": {},
     "output_type": "execute_result"
    }
   ],
   "source": [
    "df.loc[nan_rows[0]]"
   ]
  },
  {
   "cell_type": "code",
   "execution_count": 70,
   "metadata": {},
   "outputs": [
    {
     "data": {
      "text/html": [
       "<div>\n",
       "<style scoped>\n",
       "    .dataframe tbody tr th:only-of-type {\n",
       "        vertical-align: middle;\n",
       "    }\n",
       "\n",
       "    .dataframe tbody tr th {\n",
       "        vertical-align: top;\n",
       "    }\n",
       "\n",
       "    .dataframe thead th {\n",
       "        text-align: right;\n",
       "    }\n",
       "</style>\n",
       "<table border=\"1\" class=\"dataframe\">\n",
       "  <thead>\n",
       "    <tr style=\"text-align: right;\">\n",
       "      <th></th>\n",
       "      <th>index</th>\n",
       "      <th>acousticness</th>\n",
       "      <th>artist</th>\n",
       "      <th>danceability</th>\n",
       "      <th>duration_ms</th>\n",
       "      <th>energy</th>\n",
       "      <th>instrumentalness</th>\n",
       "      <th>key</th>\n",
       "      <th>liveness</th>\n",
       "      <th>loudness</th>\n",
       "      <th>mode</th>\n",
       "      <th>songid</th>\n",
       "      <th>speechiness</th>\n",
       "      <th>tempo</th>\n",
       "      <th>time_signature</th>\n",
       "      <th>track</th>\n",
       "      <th>valence</th>\n",
       "      <th>genres</th>\n",
       "    </tr>\n",
       "  </thead>\n",
       "  <tbody>\n",
       "    <tr>\n",
       "      <th>2</th>\n",
       "      <td>2</td>\n",
       "      <td>0.000725</td>\n",
       "      <td>Der Mystic</td>\n",
       "      <td>0.430</td>\n",
       "      <td>514290.0</td>\n",
       "      <td>0.960</td>\n",
       "      <td>0.925000</td>\n",
       "      <td>5.0</td>\n",
       "      <td>0.123</td>\n",
       "      <td>-7.741</td>\n",
       "      <td>0.0</td>\n",
       "      <td>2poHURuOfVNbzZdivAwtOH</td>\n",
       "      <td>0.0431</td>\n",
       "      <td>140.001</td>\n",
       "      <td>4.0</td>\n",
       "      <td>Tangle Of Aspens</td>\n",
       "      <td>0.225</td>\n",
       "      <td>[]</td>\n",
       "    </tr>\n",
       "    <tr>\n",
       "      <th>3</th>\n",
       "      <td>3</td>\n",
       "      <td>0.245000</td>\n",
       "      <td>Sasha / Turbulence</td>\n",
       "      <td>0.663</td>\n",
       "      <td>212413.0</td>\n",
       "      <td>0.677</td>\n",
       "      <td>0.000000</td>\n",
       "      <td>3.0</td>\n",
       "      <td>0.350</td>\n",
       "      <td>-4.117</td>\n",
       "      <td>0.0</td>\n",
       "      <td>1jg9hZnReygpBvV2axGuPy</td>\n",
       "      <td>0.0755</td>\n",
       "      <td>152.085</td>\n",
       "      <td>4.0</td>\n",
       "      <td>We Have Got Love</td>\n",
       "      <td>0.879</td>\n",
       "      <td>[]</td>\n",
       "    </tr>\n",
       "    <tr>\n",
       "      <th>4</th>\n",
       "      <td>4</td>\n",
       "      <td>0.002760</td>\n",
       "      <td>Kris Kross</td>\n",
       "      <td>0.859</td>\n",
       "      <td>221200.0</td>\n",
       "      <td>0.741</td>\n",
       "      <td>0.000000</td>\n",
       "      <td>11.0</td>\n",
       "      <td>0.325</td>\n",
       "      <td>-12.329</td>\n",
       "      <td>0.0</td>\n",
       "      <td>3GsS8jzoixpCnp4jDWCEvb</td>\n",
       "      <td>0.2710</td>\n",
       "      <td>98.082</td>\n",
       "      <td>4.0</td>\n",
       "      <td>2 Da Beat Ch'yall</td>\n",
       "      <td>0.529</td>\n",
       "      <td>['hip hop', 'new jack swing', 'rap']</td>\n",
       "    </tr>\n",
       "    <tr>\n",
       "      <th>5</th>\n",
       "      <td>5</td>\n",
       "      <td>0.348000</td>\n",
       "      <td>Jorge Negrete</td>\n",
       "      <td>0.361</td>\n",
       "      <td>173573.0</td>\n",
       "      <td>0.483</td>\n",
       "      <td>0.000003</td>\n",
       "      <td>7.0</td>\n",
       "      <td>0.177</td>\n",
       "      <td>-6.875</td>\n",
       "      <td>1.0</td>\n",
       "      <td>0kq75szR7uDEYrZkT2c4Ry</td>\n",
       "      <td>0.0287</td>\n",
       "      <td>94.538</td>\n",
       "      <td>4.0</td>\n",
       "      <td>El hijo del pueblo</td>\n",
       "      <td>0.682</td>\n",
       "      <td>['bolero', 'mariachi', 'ranchera']</td>\n",
       "    </tr>\n",
       "  </tbody>\n",
       "</table>\n",
       "</div>"
      ],
      "text/plain": [
       "   index  acousticness              artist  danceability  duration_ms  energy  \\\n",
       "2      2      0.000725          Der Mystic         0.430     514290.0   0.960   \n",
       "3      3      0.245000  Sasha / Turbulence         0.663     212413.0   0.677   \n",
       "4      4      0.002760          Kris Kross         0.859     221200.0   0.741   \n",
       "5      5      0.348000       Jorge Negrete         0.361     173573.0   0.483   \n",
       "\n",
       "   instrumentalness   key  liveness  loudness  mode                  songid  \\\n",
       "2          0.925000   5.0     0.123    -7.741   0.0  2poHURuOfVNbzZdivAwtOH   \n",
       "3          0.000000   3.0     0.350    -4.117   0.0  1jg9hZnReygpBvV2axGuPy   \n",
       "4          0.000000  11.0     0.325   -12.329   0.0  3GsS8jzoixpCnp4jDWCEvb   \n",
       "5          0.000003   7.0     0.177    -6.875   1.0  0kq75szR7uDEYrZkT2c4Ry   \n",
       "\n",
       "   speechiness    tempo  time_signature               track  valence  \\\n",
       "2       0.0431  140.001             4.0    Tangle Of Aspens    0.225   \n",
       "3       0.0755  152.085             4.0    We Have Got Love    0.879   \n",
       "4       0.2710   98.082             4.0   2 Da Beat Ch'yall    0.529   \n",
       "5       0.0287   94.538             4.0  El hijo del pueblo    0.682   \n",
       "\n",
       "                                 genres  \n",
       "2                                    []  \n",
       "3                                    []  \n",
       "4  ['hip hop', 'new jack swing', 'rap']  \n",
       "5    ['bolero', 'mariachi', 'ranchera']  "
      ]
     },
     "execution_count": 70,
     "metadata": {},
     "output_type": "execute_result"
    }
   ],
   "source": [
    "df.loc[2:5]"
   ]
  },
  {
   "cell_type": "code",
   "execution_count": 18,
   "metadata": {},
   "outputs": [
    {
     "name": "stdout",
     "output_type": "stream",
     "text": [
      "4zMssRZ6iG7sJm54RwFozt\n",
      "['cartoon', \"children's music\"]\n"
     ]
    }
   ],
   "source": [
    "def print_values(songid):    \n",
    "    artistid = get_artist_id(songid)\n",
    "    print(artistid)\n",
    "    genres = get_genres(artistid)\n",
    "    print(genres)\n",
    "\n",
    "print_values('4LisLrspORq8IagdLHWkf7')"
   ]
  },
  {
   "cell_type": "markdown",
   "metadata": {},
   "source": [
    "# [THIS IS WHERE I LEFT OFF - INCOMPLETE] \n",
    "# Retry Genre Lookup / SQL Update on Collected Db for Null Rows"
   ]
  },
  {
   "cell_type": "code",
   "execution_count": 19,
   "metadata": {},
   "outputs": [
    {
     "name": "stdout",
     "output_type": "stream",
     "text": [
      "['cartoon', \"children's music\"]\n",
      "['cartoon', \"children's music\"]\n",
      "couldn't insert 4LisLrspORq8IagdLHWkf7 into table\n"
     ]
    }
   ],
   "source": [
    "for row_index in nan_rows[0:1]:\n",
    "    songid = df.loc[row_index][\"songid\"]\n",
    "    artistid = get_artist_id(songid)\n",
    "    genres = get_genres(artistid)\n",
    "    print(genres)\n",
    "    newgenres = [i.replace('\\\"', \"'\") for i in genres]\n",
    "    print(newgenres)\n",
    "#     for genre in genres:\n",
    "#         for letter in genre:\n",
    "#             print(letter)\n",
    "#     print([i.replace('\\\"',\"'\") for i in genres])\n",
    "#     newgenres = [w.replace('\"',\"'\") for w in genres]\n",
    "#     print(newgenres)\n",
    "    try:\n",
    "        engine.execute(f'UPDATE features SET genres = \\\"{newgenres}\\\" WHERE songid = \\\"{songid}\\\"')\n",
    "        authorize()\n",
    "    except:\n",
    "        print(f\"couldn't insert {songid} into table\")\n",
    "        continue\n",
    "        "
   ]
  },
  {
   "cell_type": "code",
   "execution_count": null,
   "metadata": {},
   "outputs": [],
   "source": []
  }
 ],
 "metadata": {
  "kernelspec": {
   "display_name": "data_collection",
   "language": "python",
   "name": "data_collection"
  },
  "language_info": {
   "codemirror_mode": {
    "name": "ipython",
    "version": 3
   },
   "file_extension": ".py",
   "mimetype": "text/x-python",
   "name": "python",
   "nbconvert_exporter": "python",
   "pygments_lexer": "ipython3",
   "version": "3.7.4"
  }
 },
 "nbformat": 4,
 "nbformat_minor": 4
}
