{
 "cells": [
  {
   "cell_type": "code",
   "execution_count": 3,
   "metadata": {},
   "outputs": [],
   "source": [
    "from sqlalchemy import create_engine\n",
    "import spotipy\n",
    "from spotipy.oauth2 import SpotifyClientCredentials\n",
    "from env_vars import *\n",
    "import pandas as pd\n",
    "import sqlite3\n",
    "from sqlalchemy import create_engine"
   ]
  },
  {
   "cell_type": "code",
   "execution_count": 4,
   "metadata": {},
   "outputs": [],
   "source": [
    "engine = create_engine('sqlite:///song_list_v2.db', echo=False)"
   ]
  },
  {
   "cell_type": "code",
   "execution_count": 5,
   "metadata": {},
   "outputs": [],
   "source": [
    "def authorize():\n",
    "    client_credentials_manager = SpotifyClientCredentials(client_id=CLIENT_ID,client_secret=CLIENT_SECRET)\n",
    "    sp = spotipy.Spotify(client_credentials_manager=client_credentials_manager)"
   ]
  },
  {
   "cell_type": "code",
   "execution_count": 6,
   "metadata": {},
   "outputs": [],
   "source": [
    "client_credentials_manager = SpotifyClientCredentials(client_id=CLIENT_ID,client_secret=CLIENT_SECRET)\n",
    "sp = spotipy.Spotify(client_credentials_manager=client_credentials_manager)"
   ]
  },
  {
   "cell_type": "code",
   "execution_count": 7,
   "metadata": {},
   "outputs": [
    {
     "data": {
      "text/plain": [
       "{'danceability': 0.693,\n",
       " 'energy': 0.497,\n",
       " 'key': 2,\n",
       " 'loudness': -7.316,\n",
       " 'mode': 1,\n",
       " 'speechiness': 0.119,\n",
       " 'acousticness': 0.679,\n",
       " 'instrumentalness': 0,\n",
       " 'liveness': 0.258,\n",
       " 'valence': 0.473,\n",
       " 'tempo': 81.308,\n",
       " 'type': 'audio_features',\n",
       " 'id': '54flyrjcdnQdco7300avMJ',\n",
       " 'uri': 'spotify:track:54flyrjcdnQdco7300avMJ',\n",
       " 'track_href': 'https://api.spotify.com/v1/tracks/54flyrjcdnQdco7300avMJ',\n",
       " 'analysis_url': 'https://api.spotify.com/v1/audio-analysis/54flyrjcdnQdco7300avMJ',\n",
       " 'duration_ms': 122067,\n",
       " 'time_signature': 4}"
      ]
     },
     "execution_count": 7,
     "metadata": {},
     "output_type": "execute_result"
    }
   ],
   "source": [
    "def get_features(trackID):\n",
    "        return sp.audio_features(trackID)[0]\n",
    "    \n",
    "get_features('54flyrjcdnQdco7300avMJ')"
   ]
  },
  {
   "cell_type": "code",
   "execution_count": 8,
   "metadata": {},
   "outputs": [
    {
     "data": {
      "text/plain": [
       "'1dfeR4HaWDbWqFHLkxsg1d'"
      ]
     },
     "execution_count": 8,
     "metadata": {},
     "output_type": "execute_result"
    }
   ],
   "source": [
    "def get_artist_id(trackID):\n",
    "    return sp.track(trackID)['artists'][0]['id']\n",
    "    \n",
    "\n",
    "\n",
    "get_artist_id('54flyrjcdnQdco7300avMJ')"
   ]
  },
  {
   "cell_type": "code",
   "execution_count": 9,
   "metadata": {},
   "outputs": [
    {
     "data": {
      "text/plain": [
       "['glam rock', 'rock']"
      ]
     },
     "execution_count": 9,
     "metadata": {},
     "output_type": "execute_result"
    }
   ],
   "source": [
    "def get_genres(artistID):\n",
    "    return sp.artist(artistID)['genres']\n",
    "\n",
    "\n",
    "get_genres('1dfeR4HaWDbWqFHLkxsg1d')"
   ]
  },
  {
   "cell_type": "markdown",
   "metadata": {},
   "source": [
    "# Inserts Genre Value into Genres Column"
   ]
  },
  {
   "cell_type": "code",
   "execution_count": null,
   "metadata": {},
   "outputs": [],
   "source": [
    "genres_list = []\n",
    "for item in engine.execute(\"SELECT songid FROM features\").fetchall()[515122:]:    \n",
    "    songid = item.values()[0]\n",
    "    artistid = get_artist_id(songid)\n",
    "    genres = get_genres(artistid)\n",
    "    try:\n",
    "        engine.execute(f'UPDATE features SET genres = \\\"{genres}\\\" WHERE songid = \\\"{songid}\\\"')\n",
    "        authorize()\n",
    "    except:\n",
    "        print(\"couldn't insert\")\n",
    "        continue"
   ]
  },
  {
   "cell_type": "code",
   "execution_count": 13,
   "metadata": {},
   "outputs": [],
   "source": [
    "# null = []\n",
    "# for genre in genres_list:\n",
    "#     if genre == []:\n",
    "#         null.append(genre)"
   ]
  },
  {
   "cell_type": "markdown",
   "metadata": {},
   "source": [
    "# Convert to PD DF"
   ]
  },
  {
   "cell_type": "code",
   "execution_count": 14,
   "metadata": {},
   "outputs": [],
   "source": [
    "con = sqlite3.connect(\"./song_list_v2.db\")\n",
    "df = pd.read_sql_query(\"SELECT * from features\", con)"
   ]
  },
  {
   "cell_type": "code",
   "execution_count": 28,
   "metadata": {},
   "outputs": [
    {
     "data": {
      "text/plain": [
       "index                  0\n",
       "acousticness           0\n",
       "artist                 0\n",
       "danceability           0\n",
       "duration_ms            0\n",
       "energy                 0\n",
       "instrumentalness       0\n",
       "key                    0\n",
       "liveness               0\n",
       "loudness               0\n",
       "mode                   0\n",
       "songid                 0\n",
       "speechiness            0\n",
       "tempo                  0\n",
       "time_signature         0\n",
       "track                  1\n",
       "valence                0\n",
       "genres              1468\n",
       "dtype: int64"
      ]
     },
     "execution_count": 28,
     "metadata": {},
     "output_type": "execute_result"
    }
   ],
   "source": [
    "df.isnull().sum()"
   ]
  },
  {
   "cell_type": "markdown",
   "metadata": {},
   "source": [
    "# Create List of all Null Values for Investigation"
   ]
  },
  {
   "cell_type": "code",
   "execution_count": 31,
   "metadata": {},
   "outputs": [],
   "source": [
    "nan_rows = df[df['genres'].isnull()].index.tolist()"
   ]
  },
  {
   "cell_type": "code",
   "execution_count": 33,
   "metadata": {},
   "outputs": [
    {
     "data": {
      "text/plain": [
       "1468"
      ]
     },
     "execution_count": 33,
     "metadata": {},
     "output_type": "execute_result"
    }
   ],
   "source": [
    "len(nan_rows)"
   ]
  },
  {
   "cell_type": "code",
   "execution_count": 37,
   "metadata": {},
   "outputs": [
    {
     "data": {
      "text/plain": [
       "index                                  125\n",
       "acousticness                         0.785\n",
       "artist                   Dora The Explorer\n",
       "danceability                         0.766\n",
       "duration_ms                          48787\n",
       "energy                               0.226\n",
       "instrumentalness                         0\n",
       "key                                      9\n",
       "liveness                             0.165\n",
       "loudness                            -5.875\n",
       "mode                                     1\n",
       "songid              4LisLrspORq8IagdLHWkf7\n",
       "speechiness                          0.055\n",
       "tempo                                93.05\n",
       "time_signature                           4\n",
       "track                The Itsy Bitsy Spider\n",
       "valence                              0.877\n",
       "genres                                None\n",
       "Name: 125, dtype: object"
      ]
     },
     "execution_count": 37,
     "metadata": {},
     "output_type": "execute_result"
    }
   ],
   "source": [
    "df.loc[nan_rows[0]]"
   ]
  },
  {
   "cell_type": "code",
   "execution_count": null,
   "metadata": {},
   "outputs": [],
   "source": [
    "genres_list = []\n",
    "for item in engine.execute(\"SELECT songid FROM features\").fetchall()[515122:]:    \n",
    "    songid = item.values()[0]\n",
    "    artistid = get_artist_id(songid)\n",
    "    genres = get_genres(artistid)\n",
    "    try:\n",
    "        engine.execute(f'UPDATE features SET genres = \\\"{genres}\\\" WHERE songid = \\\"{songid}\\\"')\n",
    "        authorize()\n",
    "    except:\n",
    "        print(\"couldn't insert\")\n",
    "        continue"
   ]
  }
 ],
 "metadata": {
  "kernelspec": {
   "display_name": "data_collection",
   "language": "python",
   "name": "data_collection"
  },
  "language_info": {
   "codemirror_mode": {
    "name": "ipython",
    "version": 3
   },
   "file_extension": ".py",
   "mimetype": "text/x-python",
   "name": "python",
   "nbconvert_exporter": "python",
   "pygments_lexer": "ipython3",
   "version": "3.7.4"
  }
 },
 "nbformat": 4,
 "nbformat_minor": 4
}
