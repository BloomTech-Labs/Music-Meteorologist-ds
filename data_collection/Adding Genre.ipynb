{
 "cells": [
  {
   "cell_type": "code",
   "execution_count": 119,
   "metadata": {},
   "outputs": [],
   "source": [
    "from sqlalchemy import create_engine\n",
    "import spotipy\n",
    "from spotipy.oauth2 import SpotifyClientCredentials\n",
    "from env_vars import *\n",
    "import pandas as pd\n",
    "import sqlite3\n",
    "from sqlalchemy import create_engine\n",
    "import pickle\n",
    "import numpy as np"
   ]
  },
  {
   "cell_type": "markdown",
   "metadata": {},
   "source": [
    "# Connection to DB for executions"
   ]
  },
  {
   "cell_type": "code",
   "execution_count": 2,
   "metadata": {},
   "outputs": [],
   "source": [
    "engine = create_engine('sqlite:///song_list_v2.db', echo=False)"
   ]
  },
  {
   "cell_type": "markdown",
   "metadata": {},
   "source": [
    "# Functions for use in this notebook"
   ]
  },
  {
   "cell_type": "code",
   "execution_count": 3,
   "metadata": {},
   "outputs": [],
   "source": [
    "def authorize():\n",
    "    client_credentials_manager = SpotifyClientCredentials(client_id=CLIENT_ID,client_secret=CLIENT_SECRET)\n",
    "    sp = spotipy.Spotify(client_credentials_manager=client_credentials_manager)"
   ]
  },
  {
   "cell_type": "code",
   "execution_count": 4,
   "metadata": {},
   "outputs": [],
   "source": [
    "client_credentials_manager = SpotifyClientCredentials(client_id=CLIENT_ID,client_secret=CLIENT_SECRET)\n",
    "sp = spotipy.Spotify(client_credentials_manager=client_credentials_manager)"
   ]
  },
  {
   "cell_type": "code",
   "execution_count": 5,
   "metadata": {},
   "outputs": [
    {
     "data": {
      "text/plain": [
       "{'danceability': 0.693,\n",
       " 'energy': 0.497,\n",
       " 'key': 2,\n",
       " 'loudness': -7.316,\n",
       " 'mode': 1,\n",
       " 'speechiness': 0.119,\n",
       " 'acousticness': 0.679,\n",
       " 'instrumentalness': 0,\n",
       " 'liveness': 0.258,\n",
       " 'valence': 0.473,\n",
       " 'tempo': 81.308,\n",
       " 'type': 'audio_features',\n",
       " 'id': '54flyrjcdnQdco7300avMJ',\n",
       " 'uri': 'spotify:track:54flyrjcdnQdco7300avMJ',\n",
       " 'track_href': 'https://api.spotify.com/v1/tracks/54flyrjcdnQdco7300avMJ',\n",
       " 'analysis_url': 'https://api.spotify.com/v1/audio-analysis/54flyrjcdnQdco7300avMJ',\n",
       " 'duration_ms': 122067,\n",
       " 'time_signature': 4}"
      ]
     },
     "execution_count": 5,
     "metadata": {},
     "output_type": "execute_result"
    }
   ],
   "source": [
    "def get_features(trackID):\n",
    "        return sp.audio_features(trackID)[0]\n",
    "    \n",
    "get_features('54flyrjcdnQdco7300avMJ')"
   ]
  },
  {
   "cell_type": "code",
   "execution_count": 6,
   "metadata": {},
   "outputs": [
    {
     "data": {
      "text/plain": [
       "'1dfeR4HaWDbWqFHLkxsg1d'"
      ]
     },
     "execution_count": 6,
     "metadata": {},
     "output_type": "execute_result"
    }
   ],
   "source": [
    "def get_artist_id(trackID):\n",
    "    return sp.track(trackID)['artists'][0]['id']\n",
    "    \n",
    "\n",
    "\n",
    "get_artist_id('54flyrjcdnQdco7300avMJ')"
   ]
  },
  {
   "cell_type": "code",
   "execution_count": 7,
   "metadata": {},
   "outputs": [
    {
     "data": {
      "text/plain": [
       "['glam rock', 'rock']"
      ]
     },
     "execution_count": 7,
     "metadata": {},
     "output_type": "execute_result"
    }
   ],
   "source": [
    "def get_genres(artistID):\n",
    "    return sp.artist(artistID)['genres']\n",
    "\n",
    "\n",
    "get_genres('1dfeR4HaWDbWqFHLkxsg1d')"
   ]
  },
  {
   "cell_type": "markdown",
   "metadata": {},
   "source": [
    "# [COMPLETED] Inserts Genre Value into Genres Column"
   ]
  },
  {
   "cell_type": "code",
   "execution_count": null,
   "metadata": {},
   "outputs": [],
   "source": [
    "for item in engine.execute(\"SELECT songid FROM features\").fetchall()[515122:]:    \n",
    "    songid = item.values()[0]\n",
    "    artistid = get_artist_id(songid)\n",
    "    genres = get_genres(artistid)\n",
    "    try:\n",
    "        engine.execute(f'UPDATE features SET genres = \\\"{genres}\\\" WHERE songid = \\\"{songid}\\\"')\n",
    "        authorize()\n",
    "    except:\n",
    "        print(\"couldn't insert\")\n",
    "        continue"
   ]
  },
  {
   "cell_type": "code",
   "execution_count": 13,
   "metadata": {},
   "outputs": [],
   "source": [
    "# null = []\n",
    "# for genre in genres_list:\n",
    "#     if genre == []:\n",
    "#         null.append(genre)"
   ]
  },
  {
   "cell_type": "markdown",
   "metadata": {},
   "source": [
    "# Convert to PD DF - For Exploration - SEE NULL VALUE RESULT"
   ]
  },
  {
   "cell_type": "code",
   "execution_count": 103,
   "metadata": {},
   "outputs": [],
   "source": [
    "con = sqlite3.connect(\"./song_list_v2.db\")\n",
    "df = pd.read_sql_query(\"SELECT * from features\", con)"
   ]
  },
  {
   "cell_type": "code",
   "execution_count": 65,
   "metadata": {},
   "outputs": [
    {
     "data": {
      "text/plain": [
       "index               0\n",
       "acousticness        0\n",
       "artist              0\n",
       "danceability        0\n",
       "duration_ms         0\n",
       "energy              0\n",
       "instrumentalness    0\n",
       "key                 0\n",
       "liveness            0\n",
       "loudness            0\n",
       "mode                0\n",
       "songid              0\n",
       "speechiness         0\n",
       "tempo               0\n",
       "time_signature      0\n",
       "track               1\n",
       "valence             0\n",
       "genres              0\n",
       "dtype: int64"
      ]
     },
     "execution_count": 65,
     "metadata": {},
     "output_type": "execute_result"
    }
   ],
   "source": [
    "df.isnull().sum()"
   ]
  },
  {
   "cell_type": "markdown",
   "metadata": {},
   "source": [
    "# [Complete] - Create List of all Null Values for Investigation"
   ]
  },
  {
   "cell_type": "code",
   "execution_count": 69,
   "metadata": {},
   "outputs": [],
   "source": [
    "nan_rows = df[df['genres'].isnull()].index.tolist()"
   ]
  },
  {
   "cell_type": "code",
   "execution_count": 70,
   "metadata": {},
   "outputs": [
    {
     "data": {
      "text/plain": [
       "0"
      ]
     },
     "execution_count": 70,
     "metadata": {},
     "output_type": "execute_result"
    }
   ],
   "source": [
    "len(nan_rows)"
   ]
  },
  {
   "cell_type": "code",
   "execution_count": 71,
   "metadata": {},
   "outputs": [],
   "source": [
    "# df.loc[nan_rows[0]]"
   ]
  },
  {
   "cell_type": "code",
   "execution_count": 72,
   "metadata": {},
   "outputs": [
    {
     "data": {
      "text/html": [
       "<div>\n",
       "<style scoped>\n",
       "    .dataframe tbody tr th:only-of-type {\n",
       "        vertical-align: middle;\n",
       "    }\n",
       "\n",
       "    .dataframe tbody tr th {\n",
       "        vertical-align: top;\n",
       "    }\n",
       "\n",
       "    .dataframe thead th {\n",
       "        text-align: right;\n",
       "    }\n",
       "</style>\n",
       "<table border=\"1\" class=\"dataframe\">\n",
       "  <thead>\n",
       "    <tr style=\"text-align: right;\">\n",
       "      <th></th>\n",
       "      <th>index</th>\n",
       "      <th>acousticness</th>\n",
       "      <th>artist</th>\n",
       "      <th>danceability</th>\n",
       "      <th>duration_ms</th>\n",
       "      <th>energy</th>\n",
       "      <th>instrumentalness</th>\n",
       "      <th>key</th>\n",
       "      <th>liveness</th>\n",
       "      <th>loudness</th>\n",
       "      <th>mode</th>\n",
       "      <th>songid</th>\n",
       "      <th>speechiness</th>\n",
       "      <th>tempo</th>\n",
       "      <th>time_signature</th>\n",
       "      <th>track</th>\n",
       "      <th>valence</th>\n",
       "      <th>genres</th>\n",
       "    </tr>\n",
       "  </thead>\n",
       "  <tbody>\n",
       "    <tr>\n",
       "      <th>2</th>\n",
       "      <td>2</td>\n",
       "      <td>0.000725</td>\n",
       "      <td>Der Mystic</td>\n",
       "      <td>0.430</td>\n",
       "      <td>514290.0</td>\n",
       "      <td>0.960</td>\n",
       "      <td>0.925000</td>\n",
       "      <td>5.0</td>\n",
       "      <td>0.123</td>\n",
       "      <td>-7.741</td>\n",
       "      <td>0.0</td>\n",
       "      <td>2poHURuOfVNbzZdivAwtOH</td>\n",
       "      <td>0.0431</td>\n",
       "      <td>140.001</td>\n",
       "      <td>4.0</td>\n",
       "      <td>Tangle Of Aspens</td>\n",
       "      <td>0.225</td>\n",
       "      <td>[]</td>\n",
       "    </tr>\n",
       "    <tr>\n",
       "      <th>3</th>\n",
       "      <td>3</td>\n",
       "      <td>0.245000</td>\n",
       "      <td>Sasha / Turbulence</td>\n",
       "      <td>0.663</td>\n",
       "      <td>212413.0</td>\n",
       "      <td>0.677</td>\n",
       "      <td>0.000000</td>\n",
       "      <td>3.0</td>\n",
       "      <td>0.350</td>\n",
       "      <td>-4.117</td>\n",
       "      <td>0.0</td>\n",
       "      <td>1jg9hZnReygpBvV2axGuPy</td>\n",
       "      <td>0.0755</td>\n",
       "      <td>152.085</td>\n",
       "      <td>4.0</td>\n",
       "      <td>We Have Got Love</td>\n",
       "      <td>0.879</td>\n",
       "      <td>[]</td>\n",
       "    </tr>\n",
       "    <tr>\n",
       "      <th>4</th>\n",
       "      <td>4</td>\n",
       "      <td>0.002760</td>\n",
       "      <td>Kris Kross</td>\n",
       "      <td>0.859</td>\n",
       "      <td>221200.0</td>\n",
       "      <td>0.741</td>\n",
       "      <td>0.000000</td>\n",
       "      <td>11.0</td>\n",
       "      <td>0.325</td>\n",
       "      <td>-12.329</td>\n",
       "      <td>0.0</td>\n",
       "      <td>3GsS8jzoixpCnp4jDWCEvb</td>\n",
       "      <td>0.2710</td>\n",
       "      <td>98.082</td>\n",
       "      <td>4.0</td>\n",
       "      <td>2 Da Beat Ch'yall</td>\n",
       "      <td>0.529</td>\n",
       "      <td>['hip hop', 'new jack swing', 'rap']</td>\n",
       "    </tr>\n",
       "    <tr>\n",
       "      <th>5</th>\n",
       "      <td>5</td>\n",
       "      <td>0.348000</td>\n",
       "      <td>Jorge Negrete</td>\n",
       "      <td>0.361</td>\n",
       "      <td>173573.0</td>\n",
       "      <td>0.483</td>\n",
       "      <td>0.000003</td>\n",
       "      <td>7.0</td>\n",
       "      <td>0.177</td>\n",
       "      <td>-6.875</td>\n",
       "      <td>1.0</td>\n",
       "      <td>0kq75szR7uDEYrZkT2c4Ry</td>\n",
       "      <td>0.0287</td>\n",
       "      <td>94.538</td>\n",
       "      <td>4.0</td>\n",
       "      <td>El hijo del pueblo</td>\n",
       "      <td>0.682</td>\n",
       "      <td>['bolero', 'mariachi', 'ranchera']</td>\n",
       "    </tr>\n",
       "  </tbody>\n",
       "</table>\n",
       "</div>"
      ],
      "text/plain": [
       "   index  acousticness              artist  danceability  duration_ms  energy  \\\n",
       "2      2      0.000725          Der Mystic         0.430     514290.0   0.960   \n",
       "3      3      0.245000  Sasha / Turbulence         0.663     212413.0   0.677   \n",
       "4      4      0.002760          Kris Kross         0.859     221200.0   0.741   \n",
       "5      5      0.348000       Jorge Negrete         0.361     173573.0   0.483   \n",
       "\n",
       "   instrumentalness   key  liveness  loudness  mode                  songid  \\\n",
       "2          0.925000   5.0     0.123    -7.741   0.0  2poHURuOfVNbzZdivAwtOH   \n",
       "3          0.000000   3.0     0.350    -4.117   0.0  1jg9hZnReygpBvV2axGuPy   \n",
       "4          0.000000  11.0     0.325   -12.329   0.0  3GsS8jzoixpCnp4jDWCEvb   \n",
       "5          0.000003   7.0     0.177    -6.875   1.0  0kq75szR7uDEYrZkT2c4Ry   \n",
       "\n",
       "   speechiness    tempo  time_signature               track  valence  \\\n",
       "2       0.0431  140.001             4.0    Tangle Of Aspens    0.225   \n",
       "3       0.0755  152.085             4.0    We Have Got Love    0.879   \n",
       "4       0.2710   98.082             4.0   2 Da Beat Ch'yall    0.529   \n",
       "5       0.0287   94.538             4.0  El hijo del pueblo    0.682   \n",
       "\n",
       "                                 genres  \n",
       "2                                    []  \n",
       "3                                    []  \n",
       "4  ['hip hop', 'new jack swing', 'rap']  \n",
       "5    ['bolero', 'mariachi', 'ranchera']  "
      ]
     },
     "execution_count": 72,
     "metadata": {},
     "output_type": "execute_result"
    }
   ],
   "source": [
    "df.loc[2:5]"
   ]
  },
  {
   "cell_type": "markdown",
   "metadata": {},
   "source": [
    "# Remove track NULL value and reset index and pickle new DF"
   ]
  },
  {
   "cell_type": "code",
   "execution_count": 104,
   "metadata": {},
   "outputs": [],
   "source": [
    "df = df.reset_index()"
   ]
  },
  {
   "cell_type": "code",
   "execution_count": 105,
   "metadata": {},
   "outputs": [],
   "source": [
    "df = df.drop(columns=\"index\")"
   ]
  },
  {
   "cell_type": "code",
   "execution_count": 106,
   "metadata": {},
   "outputs": [],
   "source": [
    "df.loc[[117524], ['track']] = \"Mashin For Mine / Summer In The City\""
   ]
  },
  {
   "cell_type": "code",
   "execution_count": 107,
   "metadata": {},
   "outputs": [
    {
     "data": {
      "text/plain": [
       "[]                                                                                                                                                                                                        154138\n",
       "['baroque', 'classical', 'early music', 'german baroque']                                                                                                                                                   3654\n",
       "['classical', 'classical era']                                                                                                                                                                              1907\n",
       "['cartoon','children's music']                                                                                                                                                                              1468\n",
       "['smooth jazz']                                                                                                                                                                                             1274\n",
       "                                                                                                                                                                                                           ...  \n",
       "['ukrainian metal']                                                                                                                                                                                            1\n",
       "['cali rap', 'pop rap', 'slow game']                                                                                                                                                                           1\n",
       "['andean', 'chilean rock', 'latin funk', 'latin rock', 'nueva cancion', 'rap chileno', 'rap conciencia']                                                                                                       1\n",
       "['jazz brass', 'swedish jazz']                                                                                                                                                                                 1\n",
       "['alternative dance', 'chamber psych', 'dance-punk', 'experimental pop', 'experimental rock', 'freak folk', 'instrumental math rock', 'math rock', 'new rave', 'noise pop', 'noise rock', 'post-rock']         1\n",
       "Name: genres, Length: 20721, dtype: int64"
      ]
     },
     "execution_count": 107,
     "metadata": {},
     "output_type": "execute_result"
    }
   ],
   "source": [
    "df.genres.value_counts()"
   ]
  },
  {
   "cell_type": "code",
   "execution_count": 108,
   "metadata": {},
   "outputs": [],
   "source": [
    "indexNames = df[df['genres'] == \"[]\" ].index"
   ]
  },
  {
   "cell_type": "code",
   "execution_count": 109,
   "metadata": {},
   "outputs": [],
   "source": [
    "df.drop(indexNames , inplace=True)"
   ]
  },
  {
   "cell_type": "code",
   "execution_count": 110,
   "metadata": {},
   "outputs": [
    {
     "data": {
      "text/html": [
       "<div>\n",
       "<style scoped>\n",
       "    .dataframe tbody tr th:only-of-type {\n",
       "        vertical-align: middle;\n",
       "    }\n",
       "\n",
       "    .dataframe tbody tr th {\n",
       "        vertical-align: top;\n",
       "    }\n",
       "\n",
       "    .dataframe thead th {\n",
       "        text-align: right;\n",
       "    }\n",
       "</style>\n",
       "<table border=\"1\" class=\"dataframe\">\n",
       "  <thead>\n",
       "    <tr style=\"text-align: right;\">\n",
       "      <th></th>\n",
       "      <th>level_0</th>\n",
       "      <th>acousticness</th>\n",
       "      <th>danceability</th>\n",
       "      <th>duration_ms</th>\n",
       "      <th>energy</th>\n",
       "      <th>instrumentalness</th>\n",
       "      <th>key</th>\n",
       "      <th>liveness</th>\n",
       "      <th>loudness</th>\n",
       "      <th>mode</th>\n",
       "      <th>speechiness</th>\n",
       "      <th>tempo</th>\n",
       "      <th>time_signature</th>\n",
       "      <th>valence</th>\n",
       "    </tr>\n",
       "  </thead>\n",
       "  <tbody>\n",
       "    <tr>\n",
       "      <th>count</th>\n",
       "      <td>574018.000000</td>\n",
       "      <td>574018.000000</td>\n",
       "      <td>574018.000000</td>\n",
       "      <td>5.740180e+05</td>\n",
       "      <td>574018.000000</td>\n",
       "      <td>574018.000000</td>\n",
       "      <td>574018.000000</td>\n",
       "      <td>574018.000000</td>\n",
       "      <td>574018.000000</td>\n",
       "      <td>574018.000000</td>\n",
       "      <td>574018.000000</td>\n",
       "      <td>574018.000000</td>\n",
       "      <td>574018.000000</td>\n",
       "      <td>574018.000000</td>\n",
       "    </tr>\n",
       "    <tr>\n",
       "      <th>mean</th>\n",
       "      <td>357946.562946</td>\n",
       "      <td>0.317023</td>\n",
       "      <td>0.538694</td>\n",
       "      <td>2.408866e+05</td>\n",
       "      <td>0.612956</td>\n",
       "      <td>0.208388</td>\n",
       "      <td>5.284643</td>\n",
       "      <td>0.214476</td>\n",
       "      <td>-9.581242</td>\n",
       "      <td>0.662383</td>\n",
       "      <td>0.089784</td>\n",
       "      <td>120.748153</td>\n",
       "      <td>3.879729</td>\n",
       "      <td>0.493747</td>\n",
       "    </tr>\n",
       "    <tr>\n",
       "      <th>std</th>\n",
       "      <td>208887.321521</td>\n",
       "      <td>0.341293</td>\n",
       "      <td>0.183636</td>\n",
       "      <td>1.195066e+05</td>\n",
       "      <td>0.261756</td>\n",
       "      <td>0.337502</td>\n",
       "      <td>3.562836</td>\n",
       "      <td>0.191707</td>\n",
       "      <td>5.209874</td>\n",
       "      <td>0.472897</td>\n",
       "      <td>0.113566</td>\n",
       "      <td>30.142483</td>\n",
       "      <td>0.478231</td>\n",
       "      <td>0.267250</td>\n",
       "    </tr>\n",
       "    <tr>\n",
       "      <th>min</th>\n",
       "      <td>0.000000</td>\n",
       "      <td>0.000000</td>\n",
       "      <td>0.000000</td>\n",
       "      <td>1.161000e+03</td>\n",
       "      <td>0.000000</td>\n",
       "      <td>0.000000</td>\n",
       "      <td>0.000000</td>\n",
       "      <td>0.000000</td>\n",
       "      <td>-60.000000</td>\n",
       "      <td>0.000000</td>\n",
       "      <td>0.000000</td>\n",
       "      <td>0.000000</td>\n",
       "      <td>0.000000</td>\n",
       "      <td>0.000000</td>\n",
       "    </tr>\n",
       "    <tr>\n",
       "      <th>25%</th>\n",
       "      <td>177522.250000</td>\n",
       "      <td>0.011900</td>\n",
       "      <td>0.411000</td>\n",
       "      <td>1.789322e+05</td>\n",
       "      <td>0.422000</td>\n",
       "      <td>0.000001</td>\n",
       "      <td>2.000000</td>\n",
       "      <td>0.096400</td>\n",
       "      <td>-11.955000</td>\n",
       "      <td>0.000000</td>\n",
       "      <td>0.035400</td>\n",
       "      <td>97.679000</td>\n",
       "      <td>4.000000</td>\n",
       "      <td>0.272000</td>\n",
       "    </tr>\n",
       "    <tr>\n",
       "      <th>50%</th>\n",
       "      <td>355701.500000</td>\n",
       "      <td>0.161000</td>\n",
       "      <td>0.550000</td>\n",
       "      <td>2.235070e+05</td>\n",
       "      <td>0.649000</td>\n",
       "      <td>0.000905</td>\n",
       "      <td>5.000000</td>\n",
       "      <td>0.133000</td>\n",
       "      <td>-8.399000</td>\n",
       "      <td>1.000000</td>\n",
       "      <td>0.048300</td>\n",
       "      <td>120.005000</td>\n",
       "      <td>4.000000</td>\n",
       "      <td>0.493000</td>\n",
       "    </tr>\n",
       "    <tr>\n",
       "      <th>75%</th>\n",
       "      <td>535066.750000</td>\n",
       "      <td>0.613000</td>\n",
       "      <td>0.677000</td>\n",
       "      <td>2.782760e+05</td>\n",
       "      <td>0.838000</td>\n",
       "      <td>0.341000</td>\n",
       "      <td>9.000000</td>\n",
       "      <td>0.278000</td>\n",
       "      <td>-5.932000</td>\n",
       "      <td>1.000000</td>\n",
       "      <td>0.086800</td>\n",
       "      <td>139.680000</td>\n",
       "      <td>4.000000</td>\n",
       "      <td>0.714000</td>\n",
       "    </tr>\n",
       "    <tr>\n",
       "      <th>max</th>\n",
       "      <td>728154.000000</td>\n",
       "      <td>0.996000</td>\n",
       "      <td>0.997000</td>\n",
       "      <td>4.830606e+06</td>\n",
       "      <td>1.000000</td>\n",
       "      <td>1.000000</td>\n",
       "      <td>11.000000</td>\n",
       "      <td>1.000000</td>\n",
       "      <td>6.336000</td>\n",
       "      <td>1.000000</td>\n",
       "      <td>0.967000</td>\n",
       "      <td>249.859000</td>\n",
       "      <td>5.000000</td>\n",
       "      <td>1.000000</td>\n",
       "    </tr>\n",
       "  </tbody>\n",
       "</table>\n",
       "</div>"
      ],
      "text/plain": [
       "             level_0   acousticness   danceability   duration_ms  \\\n",
       "count  574018.000000  574018.000000  574018.000000  5.740180e+05   \n",
       "mean   357946.562946       0.317023       0.538694  2.408866e+05   \n",
       "std    208887.321521       0.341293       0.183636  1.195066e+05   \n",
       "min         0.000000       0.000000       0.000000  1.161000e+03   \n",
       "25%    177522.250000       0.011900       0.411000  1.789322e+05   \n",
       "50%    355701.500000       0.161000       0.550000  2.235070e+05   \n",
       "75%    535066.750000       0.613000       0.677000  2.782760e+05   \n",
       "max    728154.000000       0.996000       0.997000  4.830606e+06   \n",
       "\n",
       "              energy  instrumentalness            key       liveness  \\\n",
       "count  574018.000000     574018.000000  574018.000000  574018.000000   \n",
       "mean        0.612956          0.208388       5.284643       0.214476   \n",
       "std         0.261756          0.337502       3.562836       0.191707   \n",
       "min         0.000000          0.000000       0.000000       0.000000   \n",
       "25%         0.422000          0.000001       2.000000       0.096400   \n",
       "50%         0.649000          0.000905       5.000000       0.133000   \n",
       "75%         0.838000          0.341000       9.000000       0.278000   \n",
       "max         1.000000          1.000000      11.000000       1.000000   \n",
       "\n",
       "            loudness           mode    speechiness          tempo  \\\n",
       "count  574018.000000  574018.000000  574018.000000  574018.000000   \n",
       "mean       -9.581242       0.662383       0.089784     120.748153   \n",
       "std         5.209874       0.472897       0.113566      30.142483   \n",
       "min       -60.000000       0.000000       0.000000       0.000000   \n",
       "25%       -11.955000       0.000000       0.035400      97.679000   \n",
       "50%        -8.399000       1.000000       0.048300     120.005000   \n",
       "75%        -5.932000       1.000000       0.086800     139.680000   \n",
       "max         6.336000       1.000000       0.967000     249.859000   \n",
       "\n",
       "       time_signature        valence  \n",
       "count   574018.000000  574018.000000  \n",
       "mean         3.879729       0.493747  \n",
       "std          0.478231       0.267250  \n",
       "min          0.000000       0.000000  \n",
       "25%          4.000000       0.272000  \n",
       "50%          4.000000       0.493000  \n",
       "75%          4.000000       0.714000  \n",
       "max          5.000000       1.000000  "
      ]
     },
     "execution_count": 110,
     "metadata": {},
     "output_type": "execute_result"
    }
   ],
   "source": [
    "df.describe()"
   ]
  },
  {
   "cell_type": "code",
   "execution_count": 115,
   "metadata": {},
   "outputs": [],
   "source": [
    "pickle.load(df, open( \"./final_data/DF_v3.pkl\", \"wb\" ) )"
   ]
  },
  {
   "cell_type": "code",
   "execution_count": 127,
   "metadata": {},
   "outputs": [],
   "source": [
    "# unique_genres = np.unique(df[[\"genres\"]])"
   ]
  },
  {
   "cell_type": "code",
   "execution_count": 160,
   "metadata": {},
   "outputs": [],
   "source": [
    "all_genres = []\n",
    "for genre_list in df[\"genres\"]:\n",
    "    genre_list = genre_list.split(\",\")\n",
    "    for genre in genre_list:\n",
    "        genre = genre.strip(\"[\",)\n",
    "        genre = genre.strip(\"]\",)\n",
    "        genre = genre.strip()\n",
    "        all_genres.append(genre)"
   ]
  },
  {
   "cell_type": "code",
   "execution_count": 161,
   "metadata": {},
   "outputs": [
    {
     "data": {
      "text/plain": [
       "2110517"
      ]
     },
     "execution_count": 161,
     "metadata": {},
     "output_type": "execute_result"
    }
   ],
   "source": [
    "len(all_genres)"
   ]
  },
  {
   "cell_type": "code",
   "execution_count": 162,
   "metadata": {},
   "outputs": [
    {
     "data": {
      "text/plain": [
       "[\"'finnish indie'\", \"'suomi rock'\", \"'bass music'\", \"'scottish electronic'\"]"
      ]
     },
     "execution_count": 162,
     "metadata": {},
     "output_type": "execute_result"
    }
   ],
   "source": [
    "all_genres[0:4]"
   ]
  },
  {
   "cell_type": "code",
   "execution_count": 168,
   "metadata": {},
   "outputs": [],
   "source": [
    "df_genres = pd.DataFrame(all_genres,columns=['genres'])"
   ]
  },
  {
   "cell_type": "code",
   "execution_count": 197,
   "metadata": {},
   "outputs": [
    {
     "data": {
      "text/plain": [
       "2110517"
      ]
     },
     "execution_count": 197,
     "metadata": {},
     "output_type": "execute_result"
    }
   ],
   "source": [
    "len(df_genres)"
   ]
  },
  {
   "cell_type": "code",
   "execution_count": 212,
   "metadata": {},
   "outputs": [
    {
     "data": {
      "text/plain": [
       "582"
      ]
     },
     "execution_count": 212,
     "metadata": {},
     "output_type": "execute_result"
    }
   ],
   "source": [
    "3488 - 2906"
   ]
  },
  {
   "cell_type": "code",
   "execution_count": 218,
   "metadata": {},
   "outputs": [
    {
     "data": {
      "text/plain": [
       "848"
      ]
     },
     "execution_count": 218,
     "metadata": {},
     "output_type": "execute_result"
    }
   ],
   "source": [
    "(df['genres'].value_counts() > 100).sum()"
   ]
  },
  {
   "cell_type": "code",
   "execution_count": 195,
   "metadata": {},
   "outputs": [
    {
     "name": "stderr",
     "output_type": "stream",
     "text": [
      "/Users/user/.local/share/virtualenvs/data_collection-PY2mH6bz/lib/python3.7/site-packages/ipykernel_launcher.py:1: UserWarning: Boolean Series key will be reindexed to match DataFrame index.\n",
      "  \"\"\"Entry point for launching an IPython kernel.\n"
     ]
    },
    {
     "ename": "IndexingError",
     "evalue": "Unalignable boolean Series provided as indexer (index of the boolean Series and of the indexed object do not match).",
     "output_type": "error",
     "traceback": [
      "\u001b[0;31m---------------------------------------------------------------------------\u001b[0m",
      "\u001b[0;31mIndexingError\u001b[0m                             Traceback (most recent call last)",
      "\u001b[0;32m<ipython-input-195-7e9aa247095c>\u001b[0m in \u001b[0;36m<module>\u001b[0;34m\u001b[0m\n\u001b[0;32m----> 1\u001b[0;31m \u001b[0mdf_genres\u001b[0m\u001b[0;34m[\u001b[0m\u001b[0mdf_genres\u001b[0m\u001b[0;34m[\u001b[0m\u001b[0mcondition\u001b[0m\u001b[0;34m]\u001b[0m \u001b[0;34m==\u001b[0m \u001b[0;32mTrue\u001b[0m\u001b[0;34m]\u001b[0m\u001b[0;34m\u001b[0m\u001b[0;34m\u001b[0m\u001b[0m\n\u001b[0m",
      "\u001b[0;32m~/.local/share/virtualenvs/data_collection-PY2mH6bz/lib/python3.7/site-packages/pandas/core/frame.py\u001b[0m in \u001b[0;36m__getitem__\u001b[0;34m(self, key)\u001b[0m\n\u001b[1;32m   2789\u001b[0m         \u001b[0;31m# Do we have a (boolean) 1d indexer?\u001b[0m\u001b[0;34m\u001b[0m\u001b[0;34m\u001b[0m\u001b[0;34m\u001b[0m\u001b[0m\n\u001b[1;32m   2790\u001b[0m         \u001b[0;32mif\u001b[0m \u001b[0mcom\u001b[0m\u001b[0;34m.\u001b[0m\u001b[0mis_bool_indexer\u001b[0m\u001b[0;34m(\u001b[0m\u001b[0mkey\u001b[0m\u001b[0;34m)\u001b[0m\u001b[0;34m:\u001b[0m\u001b[0;34m\u001b[0m\u001b[0;34m\u001b[0m\u001b[0m\n\u001b[0;32m-> 2791\u001b[0;31m             \u001b[0;32mreturn\u001b[0m \u001b[0mself\u001b[0m\u001b[0;34m.\u001b[0m\u001b[0m_getitem_bool_array\u001b[0m\u001b[0;34m(\u001b[0m\u001b[0mkey\u001b[0m\u001b[0;34m)\u001b[0m\u001b[0;34m\u001b[0m\u001b[0;34m\u001b[0m\u001b[0m\n\u001b[0m\u001b[1;32m   2792\u001b[0m \u001b[0;34m\u001b[0m\u001b[0m\n\u001b[1;32m   2793\u001b[0m         \u001b[0;31m# We are left with two options: a single key, and a collection of keys,\u001b[0m\u001b[0;34m\u001b[0m\u001b[0;34m\u001b[0m\u001b[0;34m\u001b[0m\u001b[0m\n",
      "\u001b[0;32m~/.local/share/virtualenvs/data_collection-PY2mH6bz/lib/python3.7/site-packages/pandas/core/frame.py\u001b[0m in \u001b[0;36m_getitem_bool_array\u001b[0;34m(self, key)\u001b[0m\n\u001b[1;32m   2841\u001b[0m         \u001b[0;31m# check_bool_indexer will throw exception if Series key cannot\u001b[0m\u001b[0;34m\u001b[0m\u001b[0;34m\u001b[0m\u001b[0;34m\u001b[0m\u001b[0m\n\u001b[1;32m   2842\u001b[0m         \u001b[0;31m# be reindexed to match DataFrame rows\u001b[0m\u001b[0;34m\u001b[0m\u001b[0;34m\u001b[0m\u001b[0;34m\u001b[0m\u001b[0m\n\u001b[0;32m-> 2843\u001b[0;31m         \u001b[0mkey\u001b[0m \u001b[0;34m=\u001b[0m \u001b[0mcheck_bool_indexer\u001b[0m\u001b[0;34m(\u001b[0m\u001b[0mself\u001b[0m\u001b[0;34m.\u001b[0m\u001b[0mindex\u001b[0m\u001b[0;34m,\u001b[0m \u001b[0mkey\u001b[0m\u001b[0;34m)\u001b[0m\u001b[0;34m\u001b[0m\u001b[0;34m\u001b[0m\u001b[0m\n\u001b[0m\u001b[1;32m   2844\u001b[0m         \u001b[0mindexer\u001b[0m \u001b[0;34m=\u001b[0m \u001b[0mkey\u001b[0m\u001b[0;34m.\u001b[0m\u001b[0mnonzero\u001b[0m\u001b[0;34m(\u001b[0m\u001b[0;34m)\u001b[0m\u001b[0;34m[\u001b[0m\u001b[0;36m0\u001b[0m\u001b[0;34m]\u001b[0m\u001b[0;34m\u001b[0m\u001b[0;34m\u001b[0m\u001b[0m\n\u001b[1;32m   2845\u001b[0m         \u001b[0;32mreturn\u001b[0m \u001b[0mself\u001b[0m\u001b[0;34m.\u001b[0m\u001b[0m_take_with_is_copy\u001b[0m\u001b[0;34m(\u001b[0m\u001b[0mindexer\u001b[0m\u001b[0;34m,\u001b[0m \u001b[0maxis\u001b[0m\u001b[0;34m=\u001b[0m\u001b[0;36m0\u001b[0m\u001b[0;34m)\u001b[0m\u001b[0;34m\u001b[0m\u001b[0;34m\u001b[0m\u001b[0m\n",
      "\u001b[0;32m~/.local/share/virtualenvs/data_collection-PY2mH6bz/lib/python3.7/site-packages/pandas/core/indexing.py\u001b[0m in \u001b[0;36mcheck_bool_indexer\u001b[0;34m(index, key)\u001b[0m\n\u001b[1;32m   2315\u001b[0m         \u001b[0;32mif\u001b[0m \u001b[0mmask\u001b[0m\u001b[0;34m.\u001b[0m\u001b[0many\u001b[0m\u001b[0;34m(\u001b[0m\u001b[0;34m)\u001b[0m\u001b[0;34m:\u001b[0m\u001b[0;34m\u001b[0m\u001b[0;34m\u001b[0m\u001b[0m\n\u001b[1;32m   2316\u001b[0m             raise IndexingError(\n\u001b[0;32m-> 2317\u001b[0;31m                 \u001b[0;34m\"Unalignable boolean Series provided as \"\u001b[0m\u001b[0;34m\u001b[0m\u001b[0;34m\u001b[0m\u001b[0m\n\u001b[0m\u001b[1;32m   2318\u001b[0m                 \u001b[0;34m\"indexer (index of the boolean Series and of \"\u001b[0m\u001b[0;34m\u001b[0m\u001b[0;34m\u001b[0m\u001b[0m\n\u001b[1;32m   2319\u001b[0m                 \u001b[0;34m\"the indexed object do not match).\"\u001b[0m\u001b[0;34m\u001b[0m\u001b[0;34m\u001b[0m\u001b[0m\n",
      "\u001b[0;31mIndexingError\u001b[0m: Unalignable boolean Series provided as indexer (index of the boolean Series and of the indexed object do not match)."
     ]
    }
   ],
   "source": [
    "df_genres[df_genres[condition] == True]"
   ]
  },
  {
   "cell_type": "code",
   "execution_count": 176,
   "metadata": {},
   "outputs": [],
   "source": [
    "unique_genres = set(df_genres[\"genres\"])"
   ]
  },
  {
   "cell_type": "code",
   "execution_count": 177,
   "metadata": {},
   "outputs": [
    {
     "data": {
      "text/plain": [
       "3488"
      ]
     },
     "execution_count": 177,
     "metadata": {},
     "output_type": "execute_result"
    }
   ],
   "source": [
    "len(unique_genres)"
   ]
  },
  {
   "cell_type": "markdown",
   "metadata": {},
   "source": [
    "# Print Values for Test - Complete"
   ]
  },
  {
   "cell_type": "code",
   "execution_count": 116,
   "metadata": {},
   "outputs": [
    {
     "name": "stdout",
     "output_type": "stream",
     "text": [
      "4zMssRZ6iG7sJm54RwFozt\n",
      "['cartoon', \"children's music\"]\n"
     ]
    }
   ],
   "source": [
    "def print_values(songid):    \n",
    "    artistid = get_artist_id(songid)\n",
    "    print(artistid)\n",
    "    genres = get_genres(artistid)\n",
    "    print(genres)\n",
    "\n",
    "print_values('4LisLrspORq8IagdLHWkf7')"
   ]
  },
  {
   "cell_type": "markdown",
   "metadata": {},
   "source": [
    "# [Completed] \n",
    "# Retry Genre Lookup / SQL Update on Collected Db for Null Rows"
   ]
  },
  {
   "cell_type": "code",
   "execution_count": 75,
   "metadata": {},
   "outputs": [
    {
     "data": {
      "text/plain": [
       "[]"
      ]
     },
     "execution_count": 75,
     "metadata": {},
     "output_type": "execute_result"
    }
   ],
   "source": [
    "nan_rows"
   ]
  },
  {
   "cell_type": "code",
   "execution_count": 77,
   "metadata": {},
   "outputs": [],
   "source": [
    "# for row_index in nan_rows:\n",
    "#     songid = df.loc[row_index][\"songid\"]\n",
    "#     artistid = get_artist_id(songid)\n",
    "#     genres = get_genres(artistid)\n",
    "#     newgenres = '['\n",
    "#     for item in g:\n",
    "#         newgenres += \"'\" + item + \"',\"\n",
    "#     newgenres = words[:-1]\n",
    "#     newgenres += \"]\" \n",
    "#     try:\n",
    "#         engine.execute(f'UPDATE features SET genres = \\\"{newgenres}\\\" WHERE songid = \\\"{songid}\\\"')\n",
    "#         authorize()\n",
    "#     except:\n",
    "#         print(f\"couldn't insert {songid} into table\")\n",
    "#         continue\n",
    "        "
   ]
  }
 ],
 "metadata": {
  "kernelspec": {
   "display_name": "data_collection",
   "language": "python",
   "name": "data_collection"
  },
  "language_info": {
   "codemirror_mode": {
    "name": "ipython",
    "version": 3
   },
   "file_extension": ".py",
   "mimetype": "text/x-python",
   "name": "python",
   "nbconvert_exporter": "python",
   "pygments_lexer": "ipython3",
   "version": "3.7.4"
  }
 },
 "nbformat": 4,
 "nbformat_minor": 4
}
