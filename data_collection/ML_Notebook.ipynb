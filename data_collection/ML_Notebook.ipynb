{
 "cells": [
  {
   "cell_type": "code",
   "execution_count": 1,
   "metadata": {},
   "outputs": [],
   "source": [
    "from sklearn.neighbors import NearestNeighbors\n",
    "from sklearn.preprocessing import StandardScaler,MinMaxScaler\n",
    "import pandas as pd\n",
    "from pandas_profiling import ProfileReport\n",
    "from textblob import TextBlob\n",
    "\n",
    "\n",
    "song_list = pd.read_pickle(\"./data/df_v2.pkl\")"
   ]
  },
  {
   "cell_type": "code",
   "execution_count": 82,
   "metadata": {},
   "outputs": [],
   "source": [
    "polarity = []\n",
    "subjectivity = []\n",
    "for title in song_list[\"track\"]:\n",
    "    try: \n",
    "        test3 = TextBlob(title)\n",
    "        test4 = test3.sentiment\n",
    "        polarity.append(test4[0])\n",
    "        subjectivity.append(test4[1])\n",
    "    except:\n",
    "        polarity.append(0)\n",
    "        subjectivity.append(0)"
   ]
  },
  {
   "cell_type": "code",
   "execution_count": 86,
   "metadata": {},
   "outputs": [],
   "source": [
    "song_list[\"polarity\"]= polarity\n",
    "song_list[\"subjectivity\"]= subjectivity"
   ]
  },
  {
   "cell_type": "code",
   "execution_count": 87,
   "metadata": {},
   "outputs": [
    {
     "data": {
      "text/plain": [
       "(215383, 19)"
      ]
     },
     "execution_count": 87,
     "metadata": {},
     "output_type": "execute_result"
    }
   ],
   "source": [
    "song_list.shape"
   ]
  },
  {
   "cell_type": "code",
   "execution_count": 88,
   "metadata": {},
   "outputs": [
    {
     "data": {
      "text/html": [
       "<div>\n",
       "<style scoped>\n",
       "    .dataframe tbody tr th:only-of-type {\n",
       "        vertical-align: middle;\n",
       "    }\n",
       "\n",
       "    .dataframe tbody tr th {\n",
       "        vertical-align: top;\n",
       "    }\n",
       "\n",
       "    .dataframe thead th {\n",
       "        text-align: right;\n",
       "    }\n",
       "</style>\n",
       "<table border=\"1\" class=\"dataframe\">\n",
       "  <thead>\n",
       "    <tr style=\"text-align: right;\">\n",
       "      <th></th>\n",
       "      <th>id</th>\n",
       "      <th>songid</th>\n",
       "      <th>artist</th>\n",
       "      <th>track</th>\n",
       "      <th>danceability</th>\n",
       "      <th>energy</th>\n",
       "      <th>key</th>\n",
       "      <th>loudness</th>\n",
       "      <th>mode</th>\n",
       "      <th>speechiness</th>\n",
       "      <th>acousticness</th>\n",
       "      <th>instrumentalness</th>\n",
       "      <th>liveness</th>\n",
       "      <th>valence</th>\n",
       "      <th>tempo</th>\n",
       "      <th>duration_ms</th>\n",
       "      <th>time_signature</th>\n",
       "      <th>polarity</th>\n",
       "      <th>subjectivity</th>\n",
       "    </tr>\n",
       "  </thead>\n",
       "  <tbody>\n",
       "    <tr>\n",
       "      <th>0</th>\n",
       "      <td>0</td>\n",
       "      <td>5PS5dpaLogPzYU9hWiWyZb</td>\n",
       "      <td>Karkkiautomaatti</td>\n",
       "      <td>Tanssi vaan</td>\n",
       "      <td>0.487</td>\n",
       "      <td>0.678</td>\n",
       "      <td>9.0</td>\n",
       "      <td>-7.780</td>\n",
       "      <td>1.0</td>\n",
       "      <td>0.0495</td>\n",
       "      <td>0.001300</td>\n",
       "      <td>0.0551</td>\n",
       "      <td>0.0846</td>\n",
       "      <td>0.870</td>\n",
       "      <td>149.940</td>\n",
       "      <td>157307.0</td>\n",
       "      <td>4.0</td>\n",
       "      <td>0.0</td>\n",
       "      <td>0.0</td>\n",
       "    </tr>\n",
       "    <tr>\n",
       "      <th>1</th>\n",
       "      <td>1</td>\n",
       "      <td>41RpZW2lxAdnqDd2nMBzLQ</td>\n",
       "      <td>Hudson Mohawke</td>\n",
       "      <td>No One Could Ever</td>\n",
       "      <td>0.662</td>\n",
       "      <td>0.823</td>\n",
       "      <td>4.0</td>\n",
       "      <td>-1.711</td>\n",
       "      <td>0.0</td>\n",
       "      <td>0.0662</td>\n",
       "      <td>0.000045</td>\n",
       "      <td>0.9520</td>\n",
       "      <td>0.3430</td>\n",
       "      <td>0.621</td>\n",
       "      <td>177.745</td>\n",
       "      <td>138960.0</td>\n",
       "      <td>4.0</td>\n",
       "      <td>0.0</td>\n",
       "      <td>0.0</td>\n",
       "    </tr>\n",
       "    <tr>\n",
       "      <th>2</th>\n",
       "      <td>2</td>\n",
       "      <td>2poHURuOfVNbzZdivAwtOH</td>\n",
       "      <td>Der Mystic</td>\n",
       "      <td>Tangle Of Aspens</td>\n",
       "      <td>0.430</td>\n",
       "      <td>0.960</td>\n",
       "      <td>5.0</td>\n",
       "      <td>-7.741</td>\n",
       "      <td>0.0</td>\n",
       "      <td>0.0431</td>\n",
       "      <td>0.000725</td>\n",
       "      <td>0.9250</td>\n",
       "      <td>0.1230</td>\n",
       "      <td>0.225</td>\n",
       "      <td>140.001</td>\n",
       "      <td>514290.0</td>\n",
       "      <td>4.0</td>\n",
       "      <td>0.0</td>\n",
       "      <td>0.0</td>\n",
       "    </tr>\n",
       "    <tr>\n",
       "      <th>3</th>\n",
       "      <td>3</td>\n",
       "      <td>1jg9hZnReygpBvV2axGuPy</td>\n",
       "      <td>Sasha / Turbulence</td>\n",
       "      <td>We Have Got Love</td>\n",
       "      <td>0.663</td>\n",
       "      <td>0.677</td>\n",
       "      <td>3.0</td>\n",
       "      <td>-4.117</td>\n",
       "      <td>0.0</td>\n",
       "      <td>0.0755</td>\n",
       "      <td>0.245000</td>\n",
       "      <td>0.0000</td>\n",
       "      <td>0.3500</td>\n",
       "      <td>0.879</td>\n",
       "      <td>152.085</td>\n",
       "      <td>212413.0</td>\n",
       "      <td>4.0</td>\n",
       "      <td>0.5</td>\n",
       "      <td>0.6</td>\n",
       "    </tr>\n",
       "    <tr>\n",
       "      <th>4</th>\n",
       "      <td>4</td>\n",
       "      <td>3GsS8jzoixpCnp4jDWCEvb</td>\n",
       "      <td>Kris Kross</td>\n",
       "      <td>2 Da Beat Ch'yall</td>\n",
       "      <td>0.859</td>\n",
       "      <td>0.741</td>\n",
       "      <td>11.0</td>\n",
       "      <td>-12.329</td>\n",
       "      <td>0.0</td>\n",
       "      <td>0.2710</td>\n",
       "      <td>0.002760</td>\n",
       "      <td>0.0000</td>\n",
       "      <td>0.3250</td>\n",
       "      <td>0.529</td>\n",
       "      <td>98.082</td>\n",
       "      <td>221200.0</td>\n",
       "      <td>4.0</td>\n",
       "      <td>0.0</td>\n",
       "      <td>0.0</td>\n",
       "    </tr>\n",
       "  </tbody>\n",
       "</table>\n",
       "</div>"
      ],
      "text/plain": [
       "   id                  songid              artist              track  \\\n",
       "0   0  5PS5dpaLogPzYU9hWiWyZb    Karkkiautomaatti        Tanssi vaan   \n",
       "1   1  41RpZW2lxAdnqDd2nMBzLQ      Hudson Mohawke  No One Could Ever   \n",
       "2   2  2poHURuOfVNbzZdivAwtOH          Der Mystic   Tangle Of Aspens   \n",
       "3   3  1jg9hZnReygpBvV2axGuPy  Sasha / Turbulence   We Have Got Love   \n",
       "4   4  3GsS8jzoixpCnp4jDWCEvb          Kris Kross  2 Da Beat Ch'yall   \n",
       "\n",
       "   danceability  energy   key  loudness  mode  speechiness  acousticness  \\\n",
       "0         0.487   0.678   9.0    -7.780   1.0       0.0495      0.001300   \n",
       "1         0.662   0.823   4.0    -1.711   0.0       0.0662      0.000045   \n",
       "2         0.430   0.960   5.0    -7.741   0.0       0.0431      0.000725   \n",
       "3         0.663   0.677   3.0    -4.117   0.0       0.0755      0.245000   \n",
       "4         0.859   0.741  11.0   -12.329   0.0       0.2710      0.002760   \n",
       "\n",
       "   instrumentalness  liveness  valence    tempo  duration_ms  time_signature  \\\n",
       "0            0.0551    0.0846    0.870  149.940     157307.0             4.0   \n",
       "1            0.9520    0.3430    0.621  177.745     138960.0             4.0   \n",
       "2            0.9250    0.1230    0.225  140.001     514290.0             4.0   \n",
       "3            0.0000    0.3500    0.879  152.085     212413.0             4.0   \n",
       "4            0.0000    0.3250    0.529   98.082     221200.0             4.0   \n",
       "\n",
       "   polarity  subjectivity  \n",
       "0       0.0           0.0  \n",
       "1       0.0           0.0  \n",
       "2       0.0           0.0  \n",
       "3       0.5           0.6  \n",
       "4       0.0           0.0  "
      ]
     },
     "execution_count": 88,
     "metadata": {},
     "output_type": "execute_result"
    }
   ],
   "source": [
    "song_list.head()"
   ]
  },
  {
   "cell_type": "code",
   "execution_count": 89,
   "metadata": {},
   "outputs": [],
   "source": [
    "X = song_list.drop([\"id\",\"songid\",\"artist\",\"track\",\"key\"], axis=1)"
   ]
  },
  {
   "cell_type": "code",
   "execution_count": 90,
   "metadata": {},
   "outputs": [
    {
     "data": {
      "text/html": [
       "<div>\n",
       "<style scoped>\n",
       "    .dataframe tbody tr th:only-of-type {\n",
       "        vertical-align: middle;\n",
       "    }\n",
       "\n",
       "    .dataframe tbody tr th {\n",
       "        vertical-align: top;\n",
       "    }\n",
       "\n",
       "    .dataframe thead th {\n",
       "        text-align: right;\n",
       "    }\n",
       "</style>\n",
       "<table border=\"1\" class=\"dataframe\">\n",
       "  <thead>\n",
       "    <tr style=\"text-align: right;\">\n",
       "      <th></th>\n",
       "      <th>danceability</th>\n",
       "      <th>energy</th>\n",
       "      <th>loudness</th>\n",
       "      <th>mode</th>\n",
       "      <th>speechiness</th>\n",
       "      <th>acousticness</th>\n",
       "      <th>instrumentalness</th>\n",
       "      <th>liveness</th>\n",
       "      <th>valence</th>\n",
       "      <th>tempo</th>\n",
       "      <th>duration_ms</th>\n",
       "      <th>time_signature</th>\n",
       "      <th>polarity</th>\n",
       "      <th>subjectivity</th>\n",
       "    </tr>\n",
       "  </thead>\n",
       "  <tbody>\n",
       "    <tr>\n",
       "      <th>0</th>\n",
       "      <td>0.487</td>\n",
       "      <td>0.678</td>\n",
       "      <td>-7.780</td>\n",
       "      <td>1.0</td>\n",
       "      <td>0.0495</td>\n",
       "      <td>0.001300</td>\n",
       "      <td>0.0551</td>\n",
       "      <td>0.0846</td>\n",
       "      <td>0.870</td>\n",
       "      <td>149.940</td>\n",
       "      <td>157307.0</td>\n",
       "      <td>4.0</td>\n",
       "      <td>0.0</td>\n",
       "      <td>0.0</td>\n",
       "    </tr>\n",
       "    <tr>\n",
       "      <th>1</th>\n",
       "      <td>0.662</td>\n",
       "      <td>0.823</td>\n",
       "      <td>-1.711</td>\n",
       "      <td>0.0</td>\n",
       "      <td>0.0662</td>\n",
       "      <td>0.000045</td>\n",
       "      <td>0.9520</td>\n",
       "      <td>0.3430</td>\n",
       "      <td>0.621</td>\n",
       "      <td>177.745</td>\n",
       "      <td>138960.0</td>\n",
       "      <td>4.0</td>\n",
       "      <td>0.0</td>\n",
       "      <td>0.0</td>\n",
       "    </tr>\n",
       "    <tr>\n",
       "      <th>2</th>\n",
       "      <td>0.430</td>\n",
       "      <td>0.960</td>\n",
       "      <td>-7.741</td>\n",
       "      <td>0.0</td>\n",
       "      <td>0.0431</td>\n",
       "      <td>0.000725</td>\n",
       "      <td>0.9250</td>\n",
       "      <td>0.1230</td>\n",
       "      <td>0.225</td>\n",
       "      <td>140.001</td>\n",
       "      <td>514290.0</td>\n",
       "      <td>4.0</td>\n",
       "      <td>0.0</td>\n",
       "      <td>0.0</td>\n",
       "    </tr>\n",
       "    <tr>\n",
       "      <th>3</th>\n",
       "      <td>0.663</td>\n",
       "      <td>0.677</td>\n",
       "      <td>-4.117</td>\n",
       "      <td>0.0</td>\n",
       "      <td>0.0755</td>\n",
       "      <td>0.245000</td>\n",
       "      <td>0.0000</td>\n",
       "      <td>0.3500</td>\n",
       "      <td>0.879</td>\n",
       "      <td>152.085</td>\n",
       "      <td>212413.0</td>\n",
       "      <td>4.0</td>\n",
       "      <td>0.5</td>\n",
       "      <td>0.6</td>\n",
       "    </tr>\n",
       "    <tr>\n",
       "      <th>4</th>\n",
       "      <td>0.859</td>\n",
       "      <td>0.741</td>\n",
       "      <td>-12.329</td>\n",
       "      <td>0.0</td>\n",
       "      <td>0.2710</td>\n",
       "      <td>0.002760</td>\n",
       "      <td>0.0000</td>\n",
       "      <td>0.3250</td>\n",
       "      <td>0.529</td>\n",
       "      <td>98.082</td>\n",
       "      <td>221200.0</td>\n",
       "      <td>4.0</td>\n",
       "      <td>0.0</td>\n",
       "      <td>0.0</td>\n",
       "    </tr>\n",
       "  </tbody>\n",
       "</table>\n",
       "</div>"
      ],
      "text/plain": [
       "   danceability  energy  loudness  mode  speechiness  acousticness  \\\n",
       "0         0.487   0.678    -7.780   1.0       0.0495      0.001300   \n",
       "1         0.662   0.823    -1.711   0.0       0.0662      0.000045   \n",
       "2         0.430   0.960    -7.741   0.0       0.0431      0.000725   \n",
       "3         0.663   0.677    -4.117   0.0       0.0755      0.245000   \n",
       "4         0.859   0.741   -12.329   0.0       0.2710      0.002760   \n",
       "\n",
       "   instrumentalness  liveness  valence    tempo  duration_ms  time_signature  \\\n",
       "0            0.0551    0.0846    0.870  149.940     157307.0             4.0   \n",
       "1            0.9520    0.3430    0.621  177.745     138960.0             4.0   \n",
       "2            0.9250    0.1230    0.225  140.001     514290.0             4.0   \n",
       "3            0.0000    0.3500    0.879  152.085     212413.0             4.0   \n",
       "4            0.0000    0.3250    0.529   98.082     221200.0             4.0   \n",
       "\n",
       "   polarity  subjectivity  \n",
       "0       0.0           0.0  \n",
       "1       0.0           0.0  \n",
       "2       0.0           0.0  \n",
       "3       0.5           0.6  \n",
       "4       0.0           0.0  "
      ]
     },
     "execution_count": 90,
     "metadata": {},
     "output_type": "execute_result"
    }
   ],
   "source": [
    "X.head()"
   ]
  },
  {
   "cell_type": "code",
   "execution_count": 91,
   "metadata": {},
   "outputs": [
    {
     "data": {
      "text/html": [
       "<div>\n",
       "<style scoped>\n",
       "    .dataframe tbody tr th:only-of-type {\n",
       "        vertical-align: middle;\n",
       "    }\n",
       "\n",
       "    .dataframe tbody tr th {\n",
       "        vertical-align: top;\n",
       "    }\n",
       "\n",
       "    .dataframe thead th {\n",
       "        text-align: right;\n",
       "    }\n",
       "</style>\n",
       "<table border=\"1\" class=\"dataframe\">\n",
       "  <thead>\n",
       "    <tr style=\"text-align: right;\">\n",
       "      <th></th>\n",
       "      <th>danceability</th>\n",
       "      <th>energy</th>\n",
       "      <th>loudness</th>\n",
       "      <th>mode</th>\n",
       "      <th>speechiness</th>\n",
       "      <th>acousticness</th>\n",
       "      <th>instrumentalness</th>\n",
       "      <th>liveness</th>\n",
       "      <th>valence</th>\n",
       "      <th>tempo</th>\n",
       "      <th>duration_ms</th>\n",
       "      <th>time_signature</th>\n",
       "      <th>polarity</th>\n",
       "      <th>subjectivity</th>\n",
       "    </tr>\n",
       "  </thead>\n",
       "  <tbody>\n",
       "    <tr>\n",
       "      <th>count</th>\n",
       "      <td>215383.000000</td>\n",
       "      <td>215383.000000</td>\n",
       "      <td>215383.000000</td>\n",
       "      <td>215383.000000</td>\n",
       "      <td>215383.000000</td>\n",
       "      <td>215383.000000</td>\n",
       "      <td>215383.000000</td>\n",
       "      <td>215383.000000</td>\n",
       "      <td>215383.000000</td>\n",
       "      <td>215383.000000</td>\n",
       "      <td>2.153830e+05</td>\n",
       "      <td>215383.000000</td>\n",
       "      <td>215383.000000</td>\n",
       "      <td>215383.000000</td>\n",
       "    </tr>\n",
       "    <tr>\n",
       "      <th>mean</th>\n",
       "      <td>0.541175</td>\n",
       "      <td>0.625982</td>\n",
       "      <td>-9.490255</td>\n",
       "      <td>0.665624</td>\n",
       "      <td>0.086236</td>\n",
       "      <td>0.299386</td>\n",
       "      <td>0.221456</td>\n",
       "      <td>0.214271</td>\n",
       "      <td>0.506753</td>\n",
       "      <td>121.385262</td>\n",
       "      <td>2.486060e+05</td>\n",
       "      <td>3.886272</td>\n",
       "      <td>0.024200</td>\n",
       "      <td>0.115418</td>\n",
       "    </tr>\n",
       "    <tr>\n",
       "      <th>std</th>\n",
       "      <td>0.180761</td>\n",
       "      <td>0.257745</td>\n",
       "      <td>4.795421</td>\n",
       "      <td>0.471773</td>\n",
       "      <td>0.112126</td>\n",
       "      <td>0.336653</td>\n",
       "      <td>0.343097</td>\n",
       "      <td>0.191041</td>\n",
       "      <td>0.265551</td>\n",
       "      <td>29.634918</td>\n",
       "      <td>1.216242e+05</td>\n",
       "      <td>0.462237</td>\n",
       "      <td>0.178374</td>\n",
       "      <td>0.250114</td>\n",
       "    </tr>\n",
       "    <tr>\n",
       "      <th>min</th>\n",
       "      <td>0.000000</td>\n",
       "      <td>0.000000</td>\n",
       "      <td>-60.000000</td>\n",
       "      <td>0.000000</td>\n",
       "      <td>0.000000</td>\n",
       "      <td>0.000000</td>\n",
       "      <td>0.000000</td>\n",
       "      <td>0.000000</td>\n",
       "      <td>0.000000</td>\n",
       "      <td>0.000000</td>\n",
       "      <td>2.000000e+03</td>\n",
       "      <td>0.000000</td>\n",
       "      <td>-1.000000</td>\n",
       "      <td>0.000000</td>\n",
       "    </tr>\n",
       "    <tr>\n",
       "      <th>25%</th>\n",
       "      <td>0.416000</td>\n",
       "      <td>0.437000</td>\n",
       "      <td>-11.902000</td>\n",
       "      <td>0.000000</td>\n",
       "      <td>0.035100</td>\n",
       "      <td>0.007740</td>\n",
       "      <td>0.000003</td>\n",
       "      <td>0.095400</td>\n",
       "      <td>0.290000</td>\n",
       "      <td>98.899000</td>\n",
       "      <td>1.821470e+05</td>\n",
       "      <td>4.000000</td>\n",
       "      <td>0.000000</td>\n",
       "      <td>0.000000</td>\n",
       "    </tr>\n",
       "    <tr>\n",
       "      <th>50%</th>\n",
       "      <td>0.552000</td>\n",
       "      <td>0.663000</td>\n",
       "      <td>-8.523000</td>\n",
       "      <td>1.000000</td>\n",
       "      <td>0.047600</td>\n",
       "      <td>0.131000</td>\n",
       "      <td>0.001700</td>\n",
       "      <td>0.133000</td>\n",
       "      <td>0.510000</td>\n",
       "      <td>120.931000</td>\n",
       "      <td>2.290670e+05</td>\n",
       "      <td>4.000000</td>\n",
       "      <td>0.000000</td>\n",
       "      <td>0.000000</td>\n",
       "    </tr>\n",
       "    <tr>\n",
       "      <th>75%</th>\n",
       "      <td>0.677000</td>\n",
       "      <td>0.850000</td>\n",
       "      <td>-6.076000</td>\n",
       "      <td>1.000000</td>\n",
       "      <td>0.081800</td>\n",
       "      <td>0.582000</td>\n",
       "      <td>0.430000</td>\n",
       "      <td>0.281000</td>\n",
       "      <td>0.727000</td>\n",
       "      <td>139.116000</td>\n",
       "      <td>2.885600e+05</td>\n",
       "      <td>4.000000</td>\n",
       "      <td>0.000000</td>\n",
       "      <td>0.000000</td>\n",
       "    </tr>\n",
       "    <tr>\n",
       "      <th>max</th>\n",
       "      <td>0.995000</td>\n",
       "      <td>1.000000</td>\n",
       "      <td>5.963000</td>\n",
       "      <td>1.000000</td>\n",
       "      <td>0.967000</td>\n",
       "      <td>0.996000</td>\n",
       "      <td>1.000000</td>\n",
       "      <td>1.000000</td>\n",
       "      <td>1.000000</td>\n",
       "      <td>249.859000</td>\n",
       "      <td>5.830500e+06</td>\n",
       "      <td>5.000000</td>\n",
       "      <td>1.000000</td>\n",
       "      <td>1.000000</td>\n",
       "    </tr>\n",
       "  </tbody>\n",
       "</table>\n",
       "</div>"
      ],
      "text/plain": [
       "        danceability         energy       loudness           mode  \\\n",
       "count  215383.000000  215383.000000  215383.000000  215383.000000   \n",
       "mean        0.541175       0.625982      -9.490255       0.665624   \n",
       "std         0.180761       0.257745       4.795421       0.471773   \n",
       "min         0.000000       0.000000     -60.000000       0.000000   \n",
       "25%         0.416000       0.437000     -11.902000       0.000000   \n",
       "50%         0.552000       0.663000      -8.523000       1.000000   \n",
       "75%         0.677000       0.850000      -6.076000       1.000000   \n",
       "max         0.995000       1.000000       5.963000       1.000000   \n",
       "\n",
       "         speechiness   acousticness  instrumentalness       liveness  \\\n",
       "count  215383.000000  215383.000000     215383.000000  215383.000000   \n",
       "mean        0.086236       0.299386          0.221456       0.214271   \n",
       "std         0.112126       0.336653          0.343097       0.191041   \n",
       "min         0.000000       0.000000          0.000000       0.000000   \n",
       "25%         0.035100       0.007740          0.000003       0.095400   \n",
       "50%         0.047600       0.131000          0.001700       0.133000   \n",
       "75%         0.081800       0.582000          0.430000       0.281000   \n",
       "max         0.967000       0.996000          1.000000       1.000000   \n",
       "\n",
       "             valence          tempo   duration_ms  time_signature  \\\n",
       "count  215383.000000  215383.000000  2.153830e+05   215383.000000   \n",
       "mean        0.506753     121.385262  2.486060e+05        3.886272   \n",
       "std         0.265551      29.634918  1.216242e+05        0.462237   \n",
       "min         0.000000       0.000000  2.000000e+03        0.000000   \n",
       "25%         0.290000      98.899000  1.821470e+05        4.000000   \n",
       "50%         0.510000     120.931000  2.290670e+05        4.000000   \n",
       "75%         0.727000     139.116000  2.885600e+05        4.000000   \n",
       "max         1.000000     249.859000  5.830500e+06        5.000000   \n",
       "\n",
       "            polarity   subjectivity  \n",
       "count  215383.000000  215383.000000  \n",
       "mean        0.024200       0.115418  \n",
       "std         0.178374       0.250114  \n",
       "min        -1.000000       0.000000  \n",
       "25%         0.000000       0.000000  \n",
       "50%         0.000000       0.000000  \n",
       "75%         0.000000       0.000000  \n",
       "max         1.000000       1.000000  "
      ]
     },
     "execution_count": 91,
     "metadata": {},
     "output_type": "execute_result"
    }
   ],
   "source": [
    "X.describe()"
   ]
  },
  {
   "cell_type": "code",
   "execution_count": 92,
   "metadata": {},
   "outputs": [
    {
     "data": {
      "text/html": [
       "<div>\n",
       "<style scoped>\n",
       "    .dataframe tbody tr th:only-of-type {\n",
       "        vertical-align: middle;\n",
       "    }\n",
       "\n",
       "    .dataframe tbody tr th {\n",
       "        vertical-align: top;\n",
       "    }\n",
       "\n",
       "    .dataframe thead th {\n",
       "        text-align: right;\n",
       "    }\n",
       "</style>\n",
       "<table border=\"1\" class=\"dataframe\">\n",
       "  <thead>\n",
       "    <tr style=\"text-align: right;\">\n",
       "      <th></th>\n",
       "      <th>danceability</th>\n",
       "      <th>energy</th>\n",
       "      <th>loudness</th>\n",
       "      <th>mode</th>\n",
       "      <th>speechiness</th>\n",
       "      <th>acousticness</th>\n",
       "      <th>instrumentalness</th>\n",
       "      <th>liveness</th>\n",
       "      <th>valence</th>\n",
       "      <th>tempo</th>\n",
       "      <th>duration_ms</th>\n",
       "      <th>time_signature</th>\n",
       "      <th>polarity</th>\n",
       "      <th>subjectivity</th>\n",
       "    </tr>\n",
       "  </thead>\n",
       "  <tbody>\n",
       "    <tr>\n",
       "      <th>0</th>\n",
       "      <td>0.487</td>\n",
       "      <td>0.678</td>\n",
       "      <td>-7.780</td>\n",
       "      <td>1.0</td>\n",
       "      <td>0.0495</td>\n",
       "      <td>0.001300</td>\n",
       "      <td>0.0551</td>\n",
       "      <td>0.0846</td>\n",
       "      <td>0.870</td>\n",
       "      <td>149.940</td>\n",
       "      <td>157307.0</td>\n",
       "      <td>4.0</td>\n",
       "      <td>0.0</td>\n",
       "      <td>0.0</td>\n",
       "    </tr>\n",
       "    <tr>\n",
       "      <th>1</th>\n",
       "      <td>0.662</td>\n",
       "      <td>0.823</td>\n",
       "      <td>-1.711</td>\n",
       "      <td>0.0</td>\n",
       "      <td>0.0662</td>\n",
       "      <td>0.000045</td>\n",
       "      <td>0.9520</td>\n",
       "      <td>0.3430</td>\n",
       "      <td>0.621</td>\n",
       "      <td>177.745</td>\n",
       "      <td>138960.0</td>\n",
       "      <td>4.0</td>\n",
       "      <td>0.0</td>\n",
       "      <td>0.0</td>\n",
       "    </tr>\n",
       "    <tr>\n",
       "      <th>2</th>\n",
       "      <td>0.430</td>\n",
       "      <td>0.960</td>\n",
       "      <td>-7.741</td>\n",
       "      <td>0.0</td>\n",
       "      <td>0.0431</td>\n",
       "      <td>0.000725</td>\n",
       "      <td>0.9250</td>\n",
       "      <td>0.1230</td>\n",
       "      <td>0.225</td>\n",
       "      <td>140.001</td>\n",
       "      <td>514290.0</td>\n",
       "      <td>4.0</td>\n",
       "      <td>0.0</td>\n",
       "      <td>0.0</td>\n",
       "    </tr>\n",
       "    <tr>\n",
       "      <th>3</th>\n",
       "      <td>0.663</td>\n",
       "      <td>0.677</td>\n",
       "      <td>-4.117</td>\n",
       "      <td>0.0</td>\n",
       "      <td>0.0755</td>\n",
       "      <td>0.245000</td>\n",
       "      <td>0.0000</td>\n",
       "      <td>0.3500</td>\n",
       "      <td>0.879</td>\n",
       "      <td>152.085</td>\n",
       "      <td>212413.0</td>\n",
       "      <td>4.0</td>\n",
       "      <td>0.5</td>\n",
       "      <td>0.6</td>\n",
       "    </tr>\n",
       "    <tr>\n",
       "      <th>4</th>\n",
       "      <td>0.859</td>\n",
       "      <td>0.741</td>\n",
       "      <td>-12.329</td>\n",
       "      <td>0.0</td>\n",
       "      <td>0.2710</td>\n",
       "      <td>0.002760</td>\n",
       "      <td>0.0000</td>\n",
       "      <td>0.3250</td>\n",
       "      <td>0.529</td>\n",
       "      <td>98.082</td>\n",
       "      <td>221200.0</td>\n",
       "      <td>4.0</td>\n",
       "      <td>0.0</td>\n",
       "      <td>0.0</td>\n",
       "    </tr>\n",
       "  </tbody>\n",
       "</table>\n",
       "</div>"
      ],
      "text/plain": [
       "   danceability  energy  loudness  mode  speechiness  acousticness  \\\n",
       "0         0.487   0.678    -7.780   1.0       0.0495      0.001300   \n",
       "1         0.662   0.823    -1.711   0.0       0.0662      0.000045   \n",
       "2         0.430   0.960    -7.741   0.0       0.0431      0.000725   \n",
       "3         0.663   0.677    -4.117   0.0       0.0755      0.245000   \n",
       "4         0.859   0.741   -12.329   0.0       0.2710      0.002760   \n",
       "\n",
       "   instrumentalness  liveness  valence    tempo  duration_ms  time_signature  \\\n",
       "0            0.0551    0.0846    0.870  149.940     157307.0             4.0   \n",
       "1            0.9520    0.3430    0.621  177.745     138960.0             4.0   \n",
       "2            0.9250    0.1230    0.225  140.001     514290.0             4.0   \n",
       "3            0.0000    0.3500    0.879  152.085     212413.0             4.0   \n",
       "4            0.0000    0.3250    0.529   98.082     221200.0             4.0   \n",
       "\n",
       "   polarity  subjectivity  \n",
       "0       0.0           0.0  \n",
       "1       0.0           0.0  \n",
       "2       0.0           0.0  \n",
       "3       0.5           0.6  \n",
       "4       0.0           0.0  "
      ]
     },
     "execution_count": 92,
     "metadata": {},
     "output_type": "execute_result"
    }
   ],
   "source": [
    "X.head()"
   ]
  },
  {
   "cell_type": "code",
   "execution_count": 93,
   "metadata": {},
   "outputs": [],
   "source": [
    "scaler = MinMaxScaler()\n",
    "X_scaled = scaler.fit_transform(X)"
   ]
  },
  {
   "cell_type": "code",
   "execution_count": 94,
   "metadata": {},
   "outputs": [
    {
     "data": {
      "text/plain": [
       "array([0.48944724, 0.678     , 0.79165593, 1.        , 0.05118925,\n",
       "       0.00130522, 0.0551    , 0.0846    , 0.87      , 0.60009846,\n",
       "       0.02664614, 0.8       , 0.5       , 0.        ])"
      ]
     },
     "execution_count": 94,
     "metadata": {},
     "output_type": "execute_result"
    }
   ],
   "source": [
    "X_scaled[0]"
   ]
  },
  {
   "cell_type": "code",
   "execution_count": 95,
   "metadata": {},
   "outputs": [],
   "source": [
    "nn  = NearestNeighbors(n_neighbors=10,algorithm='kd_tree')\n",
    "model = nn.fit(X_scaled)"
   ]
  },
  {
   "cell_type": "code",
   "execution_count": 96,
   "metadata": {},
   "outputs": [],
   "source": [
    "results = nn.kneighbors([X_scaled[1000]])[1]\n",
    "# nn.kneighbors([dtm.iloc[190].values])"
   ]
  },
  {
   "cell_type": "code",
   "execution_count": 97,
   "metadata": {},
   "outputs": [
    {
     "name": "stdout",
     "output_type": "stream",
     "text": [
      "           id                  songid              artist  \\\n",
      "1000     1000  35SRbUfDRFmqYY2p3nYUWV        Zero Gravity   \n",
      "94505   49933  0GzlRUMBCfdkiA6yoFBHaY             Refused   \n",
      "83859   39287  4Peq1rDGv1kcdjUtJyZsvA          Jah Wobble   \n",
      "48776    4204  25bv6vFUsocE39jLuR3RDZ        Solar Fields   \n",
      "138946  44389  6h5zDsiayGzxV8teWrV6or         New Monsoon   \n",
      "67849   23277  025D9NZ4dhjLJcPRyKHxZk         Jannick Top   \n",
      "87907   43335  4ThKt9q66ZJrtCfY9Kmoq0        Cult Of Luna   \n",
      "95490     933  211RsqZhci2R69sAxch1cg  Dead Voices On Air   \n",
      "27384   27384  3CdpsChKSEZ7IdN4sRfZFP            Modulate   \n",
      "182442  87885  5mg5LZcZMqV5APMwJP0uMC          Ulan Bator   \n",
      "\n",
      "                      track  danceability  energy  key  loudness  mode  \\\n",
      "1000                   Time         0.324   0.511  9.0   -11.767   1.0   \n",
      "94505   Tannhäuser / Derivè         0.332   0.510  2.0   -10.421   1.0   \n",
      "83859     Paternal Kindness         0.339   0.495  1.0   -11.072   1.0   \n",
      "48776              Jacknife         0.254   0.673  8.0    -9.436   1.0   \n",
      "138946     Rattlesnake Ride         0.376   0.583  2.0   -10.915   1.0   \n",
      "67849                Part X         0.364   0.614  4.0    -9.144   1.0   \n",
      "87907                 Curse         0.364   0.608  4.0    -7.362   1.0   \n",
      "95490    Papa Papa Repe Wax         0.301   0.443  1.0   -13.574   1.0   \n",
      "27384       Raising Lucifer         0.428   0.625  0.0    -7.585   1.0   \n",
      "182442        Vol aux vents         0.332   0.540  8.0   -10.232   1.0   \n",
      "\n",
      "        speechiness  acousticness  instrumentalness  liveness  valence  \\\n",
      "1000         0.0290      0.000560             0.893     0.557   0.0383   \n",
      "94505        0.0443      0.025600             0.804     0.455   0.0572   \n",
      "83859        0.0348      0.020700             0.878     0.655   0.0663   \n",
      "48776        0.0385      0.002570             0.868     0.631   0.0359   \n",
      "138946       0.0345      0.031700             0.912     0.674   0.1470   \n",
      "67849        0.0357      0.009140             0.873     0.424   0.1520   \n",
      "87907        0.0320      0.000020             0.919     0.399   0.0787   \n",
      "95490        0.0422      0.000033             0.760     0.395   0.0811   \n",
      "27384        0.0309      0.000419             0.852     0.396   0.0484   \n",
      "182442       0.0423      0.000981             0.769     0.377   0.0370   \n",
      "\n",
      "          tempo  duration_ms  time_signature  polarity  subjectivity  \n",
      "1000    153.719     215000.0             4.0       0.0           0.0  \n",
      "94505   134.150     489440.0             4.0       0.0           0.0  \n",
      "83859   121.202     212133.0             4.0       0.0           0.0  \n",
      "48776   162.015     385280.0             4.0       0.0           0.0  \n",
      "138946  135.784     514653.0             4.0       0.0           0.0  \n",
      "67849   169.741     193520.0             4.0       0.0           0.0  \n",
      "87907   133.026     390520.0             4.0       0.0           0.0  \n",
      "95490   147.549     176267.0             4.0       0.0           0.0  \n",
      "27384   155.053     247587.0             4.0       0.0           0.0  \n",
      "182442  129.954     418067.0             4.0       0.0           0.0  \n"
     ]
    }
   ],
   "source": [
    "song_list.loc[0]\n",
    "\n",
    "for song in results:\n",
    "    print(song_list.loc[song])"
   ]
  },
  {
   "cell_type": "markdown",
   "metadata": {},
   "source": [
    "# Pickling Model"
   ]
  },
  {
   "cell_type": "code",
   "execution_count": 98,
   "metadata": {},
   "outputs": [],
   "source": [
    "import pickle\n",
    "\n",
    "filename = './models/kn_model.pkl'\n",
    "pickle.dump(model, open(filename, 'wb'))"
   ]
  },
  {
   "cell_type": "code",
   "execution_count": 99,
   "metadata": {},
   "outputs": [],
   "source": [
    "loaded_model = pickle.load(open(filename, 'rb'))"
   ]
  },
  {
   "cell_type": "code",
   "execution_count": 100,
   "metadata": {},
   "outputs": [],
   "source": [
    "results = loaded_model.kneighbors([X_scaled[1000]])[1]"
   ]
  },
  {
   "cell_type": "code",
   "execution_count": 101,
   "metadata": {},
   "outputs": [
    {
     "data": {
      "text/plain": [
       "array([[  1000,  94505,  83859,  48776, 138946,  67849,  87907,  95490,\n",
       "         27384, 182442]])"
      ]
     },
     "execution_count": 101,
     "metadata": {},
     "output_type": "execute_result"
    }
   ],
   "source": [
    "results"
   ]
  },
  {
   "cell_type": "code",
   "execution_count": 102,
   "metadata": {},
   "outputs": [],
   "source": [
    "from sklearn.neighbors import NearestNeighbors\n",
    "\n",
    "def predict(id):\n",
    "    loaded_model = pickle.load(open(filename, 'rb'))\n",
    "    results = loaded_model.kneighbors([X_scaled[id]])[1]\n",
    "    return results"
   ]
  },
  {
   "cell_type": "code",
   "execution_count": 103,
   "metadata": {},
   "outputs": [
    {
     "data": {
      "text/plain": [
       "array([[     0, 156094, 108365,  76803, 183544, 181102, 114651,  74925,\n",
       "         46577, 168993]])"
      ]
     },
     "execution_count": 103,
     "metadata": {},
     "output_type": "execute_result"
    }
   ],
   "source": [
    "predict(0)"
   ]
  },
  {
   "cell_type": "markdown",
   "metadata": {},
   "source": [
    "# Pickling the scaled DF"
   ]
  },
  {
   "cell_type": "code",
   "execution_count": 104,
   "metadata": {},
   "outputs": [],
   "source": [
    "import pandas as pd"
   ]
  },
  {
   "cell_type": "code",
   "execution_count": 105,
   "metadata": {},
   "outputs": [],
   "source": [
    "X = song_list.drop([\"id\",\"songid\",\"artist\",\"track\",\"key\"], axis=1)"
   ]
  },
  {
   "cell_type": "code",
   "execution_count": 106,
   "metadata": {},
   "outputs": [],
   "source": [
    "scaler = MinMaxScaler()\n",
    "X_scaled = scaler.fit_transform(X)"
   ]
  },
  {
   "cell_type": "code",
   "execution_count": 107,
   "metadata": {},
   "outputs": [
    {
     "data": {
      "text/plain": [
       "215383"
      ]
     },
     "execution_count": 107,
     "metadata": {},
     "output_type": "execute_result"
    }
   ],
   "source": [
    "len(X_scaled)"
   ]
  },
  {
   "cell_type": "code",
   "execution_count": 109,
   "metadata": {},
   "outputs": [
    {
     "data": {
      "text/plain": [
       "(215383, 14)"
      ]
     },
     "execution_count": 109,
     "metadata": {},
     "output_type": "execute_result"
    }
   ],
   "source": [
    "X_scaled.shape"
   ]
  },
  {
   "cell_type": "code",
   "execution_count": 110,
   "metadata": {},
   "outputs": [],
   "source": [
    "filename2 = './data/X_scaled.pkl'\n",
    "pickle.dump(X_scaled, open(filename2, 'wb'))"
   ]
  },
  {
   "cell_type": "code",
   "execution_count": 111,
   "metadata": {},
   "outputs": [
    {
     "data": {
      "text/plain": [
       "(215383, 14)"
      ]
     },
     "execution_count": 111,
     "metadata": {},
     "output_type": "execute_result"
    }
   ],
   "source": [
    "X_scaled.shape"
   ]
  },
  {
   "cell_type": "markdown",
   "metadata": {},
   "source": [
    "# Test Prediction from two Pickles!!!!"
   ]
  },
  {
   "cell_type": "code",
   "execution_count": 3,
   "metadata": {},
   "outputs": [],
   "source": [
    "import pandas as pd\n",
    "from sklearn.neighbors import NearestNeighbors\n",
    "import pickle\n",
    "\n",
    "\n",
    "def predict(id):\n",
    "    X = pickle.load(open('./data/X_scaled.pkl', 'rb'))\n",
    "    loaded_model = pickle.load(open('./models/kn_model.pkl', 'rb'))\n",
    "    results = loaded_model.kneighbors([X[id]])[1]\n",
    "    return results"
   ]
  },
  {
   "cell_type": "code",
   "execution_count": 4,
   "metadata": {},
   "outputs": [
    {
     "data": {
      "text/plain": [
       "array([[     0, 156094, 108365,  76803, 183544, 181102, 114651,  74925,\n",
       "         46577, 168993]])"
      ]
     },
     "execution_count": 4,
     "metadata": {},
     "output_type": "execute_result"
    }
   ],
   "source": [
    "predict(0)"
   ]
  },
  {
   "cell_type": "code",
   "execution_count": null,
   "metadata": {},
   "outputs": [],
   "source": []
  }
 ],
 "metadata": {
  "kernelspec": {
   "display_name": "sss",
   "language": "python",
   "name": "sss"
  },
  "language_info": {
   "codemirror_mode": {
    "name": "ipython",
    "version": 3
   },
   "file_extension": ".py",
   "mimetype": "text/x-python",
   "name": "python",
   "nbconvert_exporter": "python",
   "pygments_lexer": "ipython3",
   "version": "3.7.4"
  }
 },
 "nbformat": 4,
 "nbformat_minor": 4
}
