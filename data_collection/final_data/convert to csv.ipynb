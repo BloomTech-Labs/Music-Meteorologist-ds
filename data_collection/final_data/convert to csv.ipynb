{
 "cells": [
  {
   "cell_type": "code",
   "execution_count": 5,
   "metadata": {},
   "outputs": [],
   "source": [
    "import pickle\n",
    "import pandas as pd\n",
    "from joblib import load\n",
    "import timeit"
   ]
  },
  {
   "cell_type": "markdown",
   "metadata": {},
   "source": [
    "# Prepare File For Export"
   ]
  },
  {
   "cell_type": "code",
   "execution_count": 2,
   "metadata": {},
   "outputs": [],
   "source": [
    "df = load(\"./DF_v1.pkl\")"
   ]
  },
  {
   "cell_type": "code",
   "execution_count": 3,
   "metadata": {},
   "outputs": [
    {
     "data": {
      "text/html": [
       "<div>\n",
       "<style scoped>\n",
       "    .dataframe tbody tr th:only-of-type {\n",
       "        vertical-align: middle;\n",
       "    }\n",
       "\n",
       "    .dataframe tbody tr th {\n",
       "        vertical-align: top;\n",
       "    }\n",
       "\n",
       "    .dataframe thead th {\n",
       "        text-align: right;\n",
       "    }\n",
       "</style>\n",
       "<table border=\"1\" class=\"dataframe\">\n",
       "  <thead>\n",
       "    <tr style=\"text-align: right;\">\n",
       "      <th></th>\n",
       "      <th>acousticness</th>\n",
       "      <th>artist</th>\n",
       "      <th>danceability</th>\n",
       "      <th>duration_ms</th>\n",
       "      <th>energy</th>\n",
       "      <th>instrumentalness</th>\n",
       "      <th>key</th>\n",
       "      <th>liveness</th>\n",
       "      <th>loudness</th>\n",
       "      <th>mode</th>\n",
       "      <th>songid</th>\n",
       "      <th>speechiness</th>\n",
       "      <th>tempo</th>\n",
       "      <th>time_signature</th>\n",
       "      <th>track</th>\n",
       "      <th>valence</th>\n",
       "    </tr>\n",
       "  </thead>\n",
       "  <tbody>\n",
       "    <tr>\n",
       "      <th>0</th>\n",
       "      <td>0.001300</td>\n",
       "      <td>Karkkiautomaatti</td>\n",
       "      <td>0.487</td>\n",
       "      <td>157307.0</td>\n",
       "      <td>0.678</td>\n",
       "      <td>0.0551</td>\n",
       "      <td>9.0</td>\n",
       "      <td>0.0846</td>\n",
       "      <td>-7.780</td>\n",
       "      <td>1.0</td>\n",
       "      <td>5PS5dpaLogPzYU9hWiWyZb</td>\n",
       "      <td>0.0495</td>\n",
       "      <td>149.940</td>\n",
       "      <td>4.0</td>\n",
       "      <td>Tanssi vaan</td>\n",
       "      <td>0.870</td>\n",
       "    </tr>\n",
       "    <tr>\n",
       "      <th>1</th>\n",
       "      <td>0.000045</td>\n",
       "      <td>Hudson Mohawke</td>\n",
       "      <td>0.662</td>\n",
       "      <td>138960.0</td>\n",
       "      <td>0.823</td>\n",
       "      <td>0.9520</td>\n",
       "      <td>4.0</td>\n",
       "      <td>0.3430</td>\n",
       "      <td>-1.711</td>\n",
       "      <td>0.0</td>\n",
       "      <td>41RpZW2lxAdnqDd2nMBzLQ</td>\n",
       "      <td>0.0662</td>\n",
       "      <td>177.745</td>\n",
       "      <td>4.0</td>\n",
       "      <td>No One Could Ever</td>\n",
       "      <td>0.621</td>\n",
       "    </tr>\n",
       "    <tr>\n",
       "      <th>2</th>\n",
       "      <td>0.000725</td>\n",
       "      <td>Der Mystic</td>\n",
       "      <td>0.430</td>\n",
       "      <td>514290.0</td>\n",
       "      <td>0.960</td>\n",
       "      <td>0.9250</td>\n",
       "      <td>5.0</td>\n",
       "      <td>0.1230</td>\n",
       "      <td>-7.741</td>\n",
       "      <td>0.0</td>\n",
       "      <td>2poHURuOfVNbzZdivAwtOH</td>\n",
       "      <td>0.0431</td>\n",
       "      <td>140.001</td>\n",
       "      <td>4.0</td>\n",
       "      <td>Tangle Of Aspens</td>\n",
       "      <td>0.225</td>\n",
       "    </tr>\n",
       "    <tr>\n",
       "      <th>3</th>\n",
       "      <td>0.245000</td>\n",
       "      <td>Sasha / Turbulence</td>\n",
       "      <td>0.663</td>\n",
       "      <td>212413.0</td>\n",
       "      <td>0.677</td>\n",
       "      <td>0.0000</td>\n",
       "      <td>3.0</td>\n",
       "      <td>0.3500</td>\n",
       "      <td>-4.117</td>\n",
       "      <td>0.0</td>\n",
       "      <td>1jg9hZnReygpBvV2axGuPy</td>\n",
       "      <td>0.0755</td>\n",
       "      <td>152.085</td>\n",
       "      <td>4.0</td>\n",
       "      <td>We Have Got Love</td>\n",
       "      <td>0.879</td>\n",
       "    </tr>\n",
       "    <tr>\n",
       "      <th>4</th>\n",
       "      <td>0.002760</td>\n",
       "      <td>Kris Kross</td>\n",
       "      <td>0.859</td>\n",
       "      <td>221200.0</td>\n",
       "      <td>0.741</td>\n",
       "      <td>0.0000</td>\n",
       "      <td>11.0</td>\n",
       "      <td>0.3250</td>\n",
       "      <td>-12.329</td>\n",
       "      <td>0.0</td>\n",
       "      <td>3GsS8jzoixpCnp4jDWCEvb</td>\n",
       "      <td>0.2710</td>\n",
       "      <td>98.082</td>\n",
       "      <td>4.0</td>\n",
       "      <td>2 Da Beat Ch'yall</td>\n",
       "      <td>0.529</td>\n",
       "    </tr>\n",
       "  </tbody>\n",
       "</table>\n",
       "</div>"
      ],
      "text/plain": [
       "   acousticness              artist  danceability  duration_ms  energy  \\\n",
       "0      0.001300    Karkkiautomaatti         0.487     157307.0   0.678   \n",
       "1      0.000045      Hudson Mohawke         0.662     138960.0   0.823   \n",
       "2      0.000725          Der Mystic         0.430     514290.0   0.960   \n",
       "3      0.245000  Sasha / Turbulence         0.663     212413.0   0.677   \n",
       "4      0.002760          Kris Kross         0.859     221200.0   0.741   \n",
       "\n",
       "   instrumentalness   key  liveness  loudness  mode                  songid  \\\n",
       "0            0.0551   9.0    0.0846    -7.780   1.0  5PS5dpaLogPzYU9hWiWyZb   \n",
       "1            0.9520   4.0    0.3430    -1.711   0.0  41RpZW2lxAdnqDd2nMBzLQ   \n",
       "2            0.9250   5.0    0.1230    -7.741   0.0  2poHURuOfVNbzZdivAwtOH   \n",
       "3            0.0000   3.0    0.3500    -4.117   0.0  1jg9hZnReygpBvV2axGuPy   \n",
       "4            0.0000  11.0    0.3250   -12.329   0.0  3GsS8jzoixpCnp4jDWCEvb   \n",
       "\n",
       "   speechiness    tempo  time_signature              track  valence  \n",
       "0       0.0495  149.940             4.0        Tanssi vaan    0.870  \n",
       "1       0.0662  177.745             4.0  No One Could Ever    0.621  \n",
       "2       0.0431  140.001             4.0   Tangle Of Aspens    0.225  \n",
       "3       0.0755  152.085             4.0   We Have Got Love    0.879  \n",
       "4       0.2710   98.082             4.0  2 Da Beat Ch'yall    0.529  "
      ]
     },
     "execution_count": 3,
     "metadata": {},
     "output_type": "execute_result"
    }
   ],
   "source": [
    "df.head()"
   ]
  },
  {
   "cell_type": "code",
   "execution_count": 13,
   "metadata": {},
   "outputs": [
    {
     "data": {
      "text/plain": [
       "0.647427131000029"
      ]
     },
     "execution_count": 13,
     "metadata": {},
     "output_type": "execute_result"
    }
   ],
   "source": [
    "def get_runtime(function):\n",
    "    runtime = timeit.timeit(function,globals=globals(),number=1)\n",
    "    return runtime\n",
    "\n",
    "get_runtime('df.describe()')"
   ]
  },
  {
   "cell_type": "code",
   "execution_count": 18,
   "metadata": {},
   "outputs": [],
   "source": [
    "df = df.reset_index()"
   ]
  },
  {
   "cell_type": "code",
   "execution_count": 19,
   "metadata": {},
   "outputs": [],
   "source": [
    "df = df.drop(columns=\"index\")"
   ]
  },
  {
   "cell_type": "code",
   "execution_count": 21,
   "metadata": {},
   "outputs": [],
   "source": [
    "df.loc[[117524], ['track']] = \"Mashin For Mine / Summer In The City\""
   ]
  },
  {
   "cell_type": "markdown",
   "metadata": {},
   "source": [
    "### Dump pickle for updated definitive data file "
   ]
  },
  {
   "cell_type": "code",
   "execution_count": 25,
   "metadata": {},
   "outputs": [],
   "source": [
    "pickle.dump(df,open(\"./DF_v2.pkl\",\"wb\"))"
   ]
  },
  {
   "cell_type": "markdown",
   "metadata": {},
   "source": [
    "# Export Master CSV for Athena Usage"
   ]
  },
  {
   "cell_type": "code",
   "execution_count": 27,
   "metadata": {},
   "outputs": [],
   "source": [
    "df.to_csv(\"./DF_v2.csv\")"
   ]
  },
  {
   "cell_type": "code",
   "execution_count": null,
   "metadata": {},
   "outputs": [],
   "source": []
  }
 ],
 "metadata": {
  "kernelspec": {
   "display_name": "model_validation",
   "language": "python",
   "name": "model_validation"
  },
  "language_info": {
   "codemirror_mode": {
    "name": "ipython",
    "version": 3
   },
   "file_extension": ".py",
   "mimetype": "text/x-python",
   "name": "python",
   "nbconvert_exporter": "python",
   "pygments_lexer": "ipython3",
   "version": "3.7.4"
  }
 },
 "nbformat": 4,
 "nbformat_minor": 4
}
