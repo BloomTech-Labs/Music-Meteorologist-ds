{
 "cells": [
  {
   "cell_type": "code",
   "execution_count": 13,
   "metadata": {},
   "outputs": [],
   "source": [
    "from sqlalchemy import create_engine\n",
    "import spotipy\n",
    "from spotipy.oauth2 import SpotifyClientCredentials\n",
    "from env_vars import *\n",
    "import pandas as pd\n",
    "import sqlite3\n",
    "from sqlalchemy import engine\n",
    "import pickle\n",
    "import numpy as np"
   ]
  },
  {
   "cell_type": "code",
   "execution_count": 14,
   "metadata": {},
   "outputs": [],
   "source": [
    "def authorize():\n",
    "    client_credentials_manager = SpotifyClientCredentials(client_id=CLIENT_ID,client_secret=CLIENT_SECRET)\n",
    "    sp = spotipy.Spotify(client_credentials_manager=client_credentials_manager)\n",
    "    \n",
    "client_credentials_manager = SpotifyClientCredentials(client_id=CLIENT_ID,client_secret=CLIENT_SECRET)\n",
    "sp = spotipy.Spotify(client_credentials_manager=client_credentials_manager)\n",
    "\n",
    "def get_features(trackID):\n",
    "        return sp.audio_features(trackID)[0]\n",
    "\n",
    "def get_popularity(trackID):\n",
    "    return sp.track(trackID)['popularity']\n",
    "\n",
    "def get_markets(trackID):\n",
    "    foo = sp.track(trackID)['available_markets']\n",
    "    if foo != None:\n",
    "        return 1\n",
    "    else:\n",
    "        return 0"
   ]
  },
  {
   "cell_type": "code",
   "execution_count": 15,
   "metadata": {},
   "outputs": [],
   "source": [
    "def get_markets(trackID):\n",
    "    foo = sp.track(trackID)['available_markets']\n",
    "    if foo != []:\n",
    "        return 1\n",
    "    else:\n",
    "        return 0"
   ]
  },
  {
   "cell_type": "code",
   "execution_count": 16,
   "metadata": {},
   "outputs": [],
   "source": [
    "con = sqlite3.connect(\"song_list_v3_raw.db\")"
   ]
  },
  {
   "cell_type": "code",
   "execution_count": 17,
   "metadata": {},
   "outputs": [],
   "source": [
    "# Load the data into a DataFrame\n",
    "X = pd.read_sql_query(\"SELECT * from songs\", con)\n",
    "con.close()"
   ]
  },
  {
   "cell_type": "code",
   "execution_count": 18,
   "metadata": {},
   "outputs": [],
   "source": [
    "X = X.drop('level_0', axis=1)"
   ]
  },
  {
   "cell_type": "code",
   "execution_count": 19,
   "metadata": {},
   "outputs": [
    {
     "data": {
      "text/html": [
       "<div>\n",
       "<style scoped>\n",
       "    .dataframe tbody tr th:only-of-type {\n",
       "        vertical-align: middle;\n",
       "    }\n",
       "\n",
       "    .dataframe tbody tr th {\n",
       "        vertical-align: top;\n",
       "    }\n",
       "\n",
       "    .dataframe thead th {\n",
       "        text-align: right;\n",
       "    }\n",
       "</style>\n",
       "<table border=\"1\" class=\"dataframe\">\n",
       "  <thead>\n",
       "    <tr style=\"text-align: right;\">\n",
       "      <th></th>\n",
       "      <th>index</th>\n",
       "      <th>acousticness</th>\n",
       "      <th>artist</th>\n",
       "      <th>danceability</th>\n",
       "      <th>duration_ms</th>\n",
       "      <th>energy</th>\n",
       "      <th>instrumentalness</th>\n",
       "      <th>key</th>\n",
       "      <th>liveness</th>\n",
       "      <th>loudness</th>\n",
       "      <th>mode</th>\n",
       "      <th>songid</th>\n",
       "      <th>speechiness</th>\n",
       "      <th>tempo</th>\n",
       "      <th>time_signature</th>\n",
       "      <th>track</th>\n",
       "      <th>valence</th>\n",
       "      <th>genres</th>\n",
       "      <th>popularity</th>\n",
       "      <th>availability</th>\n",
       "    </tr>\n",
       "  </thead>\n",
       "  <tbody>\n",
       "    <tr>\n",
       "      <th>0</th>\n",
       "      <td>0</td>\n",
       "      <td>0.0013</td>\n",
       "      <td>Karkkiautomaatti</td>\n",
       "      <td>0.487</td>\n",
       "      <td>157307.0</td>\n",
       "      <td>0.678</td>\n",
       "      <td>0.0551</td>\n",
       "      <td>9.0</td>\n",
       "      <td>0.0846</td>\n",
       "      <td>-7.78</td>\n",
       "      <td>1.0</td>\n",
       "      <td>5PS5dpaLogPzYU9hWiWyZb</td>\n",
       "      <td>0.0495</td>\n",
       "      <td>149.94</td>\n",
       "      <td>4.0</td>\n",
       "      <td>Tanssi vaan</td>\n",
       "      <td>0.87</td>\n",
       "      <td>['finnish indie', 'suomi rock']</td>\n",
       "      <td>0</td>\n",
       "      <td>1</td>\n",
       "    </tr>\n",
       "  </tbody>\n",
       "</table>\n",
       "</div>"
      ],
      "text/plain": [
       "   index  acousticness            artist  danceability  duration_ms  energy  \\\n",
       "0      0        0.0013  Karkkiautomaatti         0.487     157307.0   0.678   \n",
       "\n",
       "   instrumentalness  key  liveness  loudness  mode                  songid  \\\n",
       "0            0.0551  9.0    0.0846     -7.78   1.0  5PS5dpaLogPzYU9hWiWyZb   \n",
       "\n",
       "   speechiness   tempo  time_signature        track  valence  \\\n",
       "0       0.0495  149.94             4.0  Tanssi vaan     0.87   \n",
       "\n",
       "                            genres popularity availability  \n",
       "0  ['finnish indie', 'suomi rock']          0            1  "
      ]
     },
     "execution_count": 19,
     "metadata": {},
     "output_type": "execute_result"
    }
   ],
   "source": [
    "X.head(1)"
   ]
  },
  {
   "cell_type": "code",
   "execution_count": 20,
   "metadata": {},
   "outputs": [
    {
     "data": {
      "text/plain": [
       "(0, 0, 0.0013, 'Karkkiautomaatti', 0.487, 157307.0, 0.678, 0.0551, 9.0, 0.0846, -7.78, 1.0, '5PS5dpaLogPzYU9hWiWyZb', 0.0495, 149.94, 4.0, 'Tanssi vaan', 0.87, \"['finnish indie', 'suomi rock']\", '0', '1')"
      ]
     },
     "execution_count": 20,
     "metadata": {},
     "output_type": "execute_result"
    }
   ],
   "source": [
    "engine = create_engine('sqlite:///song_list_v3_22.db', echo=False)\n",
    "X.to_sql('songs', con=engine)\n",
    "engine.execute('SELECT * FROM songs;').fetchone()"
   ]
  },
  {
   "cell_type": "code",
   "execution_count": null,
   "metadata": {
    "scrolled": true
   },
   "outputs": [],
   "source": [
    "for row_index in X['songid'][500000:574019]:\n",
    "    songid = row_index\n",
    "    #print(songid)\n",
    "    popularity = get_popularity(songid)\n",
    "    #print(popularity)\n",
    "    markets = get_markets(songid)\n",
    "    #print(markets)\n",
    "    try:\n",
    "        engine.execute(f'UPDATE songs SET popularity = \"{popularity}\", availability = \"{markets}\" WHERE songid = \\\"{songid}\\\"')\n",
    "        authorize()\n",
    "    except:\n",
    "        print(f\"couldn't insert {markets} or {popularity} into table\")\n",
    "        continue"
   ]
  },
  {
   "cell_type": "code",
   "execution_count": null,
   "metadata": {},
   "outputs": [],
   "source": []
  }
 ],
 "metadata": {
  "kernelspec": {
   "display_name": "Python 3",
   "language": "python",
   "name": "python3"
  },
  "language_info": {
   "codemirror_mode": {
    "name": "ipython",
    "version": 3
   },
   "file_extension": ".py",
   "mimetype": "text/x-python",
   "name": "python",
   "nbconvert_exporter": "python",
   "pygments_lexer": "ipython3",
   "version": "3.7.3"
  }
 },
 "nbformat": 4,
 "nbformat_minor": 4
}
