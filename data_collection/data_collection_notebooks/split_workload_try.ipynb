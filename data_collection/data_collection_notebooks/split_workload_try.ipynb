{
 "cells": [
  {
   "cell_type": "code",
   "execution_count": 1,
   "metadata": {},
   "outputs": [],
   "source": [
    "from sqlalchemy import create_engine\n",
    "import spotipy\n",
    "from spotipy.oauth2 import SpotifyClientCredentials\n",
    "from env_vars import *\n",
    "import pandas as pd\n",
    "import sqlite3\n",
    "from sqlalchemy import engine\n",
    "import pickle\n",
    "import numpy as np"
   ]
  },
  {
   "cell_type": "code",
   "execution_count": 2,
   "metadata": {},
   "outputs": [],
   "source": [
    "def authorize():\n",
    "    client_credentials_manager = SpotifyClientCredentials(client_id=CLIENT_ID,client_secret=CLIENT_SECRET)\n",
    "    sp = spotipy.Spotify(client_credentials_manager=client_credentials_manager)\n",
    "    \n",
    "client_credentials_manager = SpotifyClientCredentials(client_id=CLIENT_ID,client_secret=CLIENT_SECRET)\n",
    "sp = spotipy.Spotify(client_credentials_manager=client_credentials_manager)\n",
    "\n",
    "def get_features(trackID):\n",
    "        return sp.audio_features(trackID)[0]\n",
    "\n",
    "def get_popularity(trackID):\n",
    "    return sp.track(trackID)['popularity']\n",
    "\n",
    "def get_markets(trackID):\n",
    "    foo = sp.track(trackID)['available_markets']\n",
    "    if foo != None:\n",
    "        return 1\n",
    "    else:\n",
    "        return 0"
   ]
  },
  {
   "cell_type": "code",
   "execution_count": 3,
   "metadata": {},
   "outputs": [],
   "source": [
    "con = sqlite3.connect(\"song_list_v3_raw.db\")"
   ]
  },
  {
   "cell_type": "code",
   "execution_count": 4,
   "metadata": {},
   "outputs": [],
   "source": [
    "# Load the data into a DataFrame\n",
    "df = pd.read_sql_query(\"SELECT * from songs\", con)\n",
    "con.close()\n",
    "X = df.loc[df['index'][202912:274019]]\n",
    "X = X.drop('level_0', axis=1)"
   ]
  },
  {
   "cell_type": "code",
   "execution_count": 5,
   "metadata": {},
   "outputs": [
    {
     "data": {
      "text/plain": [
       "(251132, 311092, 0.0062, 'Bettie Serveert', 0.561, 500440.0, 0.611, 2.13e-05, 7.0, 0.11, -9.093, 1.0, '48dznNK9WF1I2UyIQPAiLc', 0.0307, 114.932, 4.0, 'White Dogs', 0.346, \"['alternative pop', 'dutch indie', 'dutch indie rock', 'dutch rock']\", 'NaN', 'NaN')"
      ]
     },
     "execution_count": 5,
     "metadata": {},
     "output_type": "execute_result"
    }
   ],
   "source": [
    "engine = create_engine('sqlite:///song_list_v3_11.db', echo=False)\n",
    "X.to_sql('songs', con=engine)\n",
    "engine.execute('SELECT * FROM songs;').fetchone()"
   ]
  },
  {
   "cell_type": "code",
   "execution_count": null,
   "metadata": {},
   "outputs": [
    {
     "name": "stdout",
     "output_type": "stream",
     "text": [
      "retrying ...1secs\n",
      "retrying ...4secs\n",
      "retrying ...7secs\n",
      "retrying ...5secs\n",
      "retrying ...5secs\n",
      "retrying ...5secs\n",
      "retrying ...6secs\n",
      "retrying ...6secs\n",
      "retrying ...6secs\n",
      "retrying ...6secs\n",
      "retrying ...4secs\n",
      "retrying ...6secs\n",
      "retrying ...4secs\n",
      "retrying ...6secs\n",
      "retrying ...5secs\n",
      "retrying ...4secs\n",
      "retrying ...6secs\n",
      "retrying ...6secs\n",
      "retrying ...6secs\n",
      "retrying ...4secs\n",
      "retrying ...5secs\n",
      "retrying ...6secs\n",
      "retrying ...6secs\n",
      "retrying ...4secs\n",
      "retrying ...5secs\n",
      "retrying ...6secs\n",
      "retrying ...6secs\n",
      "retrying ...7secs\n"
     ]
    }
   ],
   "source": [
    "for row_index in X['songid']:\n",
    "    songid = row_index\n",
    "    #print(songid)\n",
    "    popularity = get_popularity(songid)\n",
    "    #print(popularity)\n",
    "    markets = get_markets(songid)\n",
    "    #print(markets)\n",
    "    try:\n",
    "        engine.execute(f'UPDATE songs SET popularity = \"{popularity}\", availability = \"{markets}\" WHERE songid = \\\"{songid}\\\"')\n",
    "        authorize()\n",
    "    except:\n",
    "        print(f\"couldn't insert {markets} or {popularity} into table\")\n",
    "        continue"
   ]
  }
 ],
 "metadata": {
  "kernelspec": {
   "display_name": "Python 3",
   "language": "python",
   "name": "python3"
  },
  "language_info": {
   "codemirror_mode": {
    "name": "ipython",
    "version": 3
   },
   "file_extension": ".py",
   "mimetype": "text/x-python",
   "name": "python",
   "nbconvert_exporter": "python",
   "pygments_lexer": "ipython3",
   "version": "3.8.1"
  }
 },
 "nbformat": 4,
 "nbformat_minor": 4
}
