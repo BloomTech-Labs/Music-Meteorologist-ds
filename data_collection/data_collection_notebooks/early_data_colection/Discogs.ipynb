{
 "cells": [
  {
   "cell_type": "code",
   "execution_count": 1,
   "metadata": {},
   "outputs": [],
   "source": [
    "import pandas as pd"
   ]
  },
  {
   "cell_type": "code",
   "execution_count": 4,
   "metadata": {},
   "outputs": [],
   "source": [
    "import pandas as pd\n",
    "import xml.etree.ElementTree as et\n",
    "\n",
    "def parse_XML(xml_file, df_cols): \n",
    "    \"\"\"Parse the input XML file and store the result in a pandas \n",
    "    DataFrame with the given columns. \n",
    "    \n",
    "    The first element of df_cols is supposed to be the identifier \n",
    "    variable, which is an attribute of each node element in the \n",
    "    XML data; other features will be parsed from the text content \n",
    "    of each sub-element. \n",
    "    \"\"\"\n",
    "    \n",
    "    xtree = et.parse(xml_file)\n",
    "    xroot = xtree.getroot()\n",
    "    rows = []\n",
    "    \n",
    "    for node in xroot: \n",
    "        res = []\n",
    "        res.append(node.attrib.get(df_cols[0]))\n",
    "        for el in df_cols[1:]: \n",
    "            if node is not None and node.find(el) is not None:\n",
    "                res.append(node.find(el).text)\n",
    "            else: \n",
    "                res.append(None)\n",
    "        rows.append({df_cols[i]: res[i] \n",
    "                     for i, _ in enumerate(df_cols)})\n",
    "    \n",
    "    out_df = pd.DataFrame(rows, columns=df_cols)\n",
    "        \n",
    "    return out_df"
   ]
  },
  {
   "cell_type": "code",
   "execution_count": 6,
   "metadata": {},
   "outputs": [
    {
     "ename": "SyntaxError",
     "evalue": "invalid syntax (<ipython-input-6-90aaf656dd48>, line 1)",
     "output_type": "error",
     "traceback": [
      "\u001b[0;36m  File \u001b[0;32m\"<ipython-input-6-90aaf656dd48>\"\u001b[0;36m, line \u001b[0;32m1\u001b[0m\n\u001b[0;31m    et.parse(\"<?xml version=\"1.0\" encoding=\"UTF-8\"?>\u001b[0m\n\u001b[0m                               ^\u001b[0m\n\u001b[0;31mSyntaxError\u001b[0m\u001b[0;31m:\u001b[0m invalid syntax\n"
     ]
    }
   ],
   "source": [
    "et.parse(\"<?xml version=\"1.0\" encoding=\"UTF-8\"?>\n",
    "<release id=\"1\" status=\"Accepted\">\n",
    "   <images>\n",
    "      <image height=\"600\" type=\"primary\" uri=\"http://www.discogs.com/image/R-1-1193812031.jpeg\" uri150=\"http://www.discogs.com/image/R-150-1-1193812031.jpeg\" width=\"600\" />\n",
    "      <image height=\"600\" type=\"secondary\" uri=\"http://www.discogs.com/image/R-1-1193812053.jpeg\" uri150=\"http://www.discogs.com/image/R-150-1-1193812053.jpeg\" width=\"600\" />\n",
    "      <image height=\"600\" type=\"secondary\" uri=\"http://www.discogs.com/image/R-1-1193812072.jpeg\" uri150=\"http://www.discogs.com/image/R-150-1-1193812072.jpeg\" width=\"600\" />\n",
    "      <image height=\"600\" type=\"secondary\" uri=\"http://www.discogs.com/image/R-1-1193812091.jpeg\" uri150=\"http://www.discogs.com/image/R-150-1-1193812091.jpeg\" width=\"600\" />\n",
    "   </images>\n",
    "   <artists>\n",
    "      <artist>\n",
    "         <name>Persuader, The</name>\n",
    "      </artist>\n",
    "   </artists>\n",
    "   <title>Stockholm</title>\n",
    "   <labels>\n",
    "      <label catno=\"SK032\" name=\"Svek\" />\n",
    "   </labels>\n",
    "   <formats>\n",
    "      <format name=\"Vinyl\" qty=\"2\">\n",
    "         <descriptions>\n",
    "            <description>12\"</description>\n",
    "         </descriptions>\n",
    "      </format>\n",
    "   </formats>\n",
    "   <genres>\n",
    "      <genre>Electronic</genre>\n",
    "   </genres>\n",
    "   <styles>\n",
    "      <style>Deep House</style>\n",
    "   </styles>\n",
    "   <country>Sweden</country>\n",
    "   <released>1999-03-00</released>\n",
    "   <notes>The titles are the names of Stockholm's districts.</notes>\n",
    "   <tracklist>\n",
    "      <track>\n",
    "         <position>A</position>\n",
    "         <title>Ã–stermalm</title>\n",
    "         <duration>4:45</duration>\n",
    "      </track>\n",
    "      <track>\n",
    "         <position>B1</position>\n",
    "         <title>Vasastaden</title>\n",
    "         <duration>6:11</duration>\n",
    "      </track>\n",
    "      <track>\n",
    "         <position>B2</position>\n",
    "         <title>Kungsholmen</title>\n",
    "         <duration>2:49</duration>\n",
    "      </track>\n",
    "      <track>\n",
    "         <position>C1</position>\n",
    "         <title>SÃ¶dermalm</title>\n",
    "         <duration>5:38</duration>\n",
    "      </track>\n",
    "      <track>\n",
    "         <position>C2</position>\n",
    "         <title>Norrmalm</title>\n",
    "         <duration>4:52</duration>\n",
    "      </track>\n",
    "      <track>\n",
    "         <position>D</position>\n",
    "         <title>Gamla Stan</title>\n",
    "         <duration>5:16</duration>\n",
    "      </track>\n",
    "   </tracklist>\n",
    "</release>\")"
   ]
  },
  {
   "cell_type": "code",
   "execution_count": null,
   "metadata": {},
   "outputs": [],
   "source": []
  }
 ],
 "metadata": {
  "kernelspec": {
   "display_name": "sss",
   "language": "python",
   "name": "sss"
  },
  "language_info": {
   "codemirror_mode": {
    "name": "ipython",
    "version": 3
   },
   "file_extension": ".py",
   "mimetype": "text/x-python",
   "name": "python",
   "nbconvert_exporter": "python",
   "pygments_lexer": "ipython3",
   "version": "3.7.4"
  }
 },
 "nbformat": 4,
 "nbformat_minor": 4
}
