{
 "cells": [
  {
   "cell_type": "code",
   "execution_count": 1,
   "metadata": {},
   "outputs": [],
   "source": [
    "# %time\n",
    "\n",
    "# import os\n",
    "# import sys\n",
    "# import json\n",
    "# import spotipy\n",
    "# import webbrowser\n",
    "# import spotipy.util as util\n",
    "# from json.decoder import JSONDecodeError\n",
    "# import pandas as pd\n",
    "# from env_vars import *\n",
    "\n",
    "# # ps. REDIRECT_URI is crucial here. if http://localhost:8000 is not set, or with a single '/' misplaced, it will generate a connection error.\n",
    "\n",
    "# # then pass them:\n",
    "\n",
    "\n",
    "# def authorize():\n",
    "#     token = util.prompt_for_user_token(username = SPOTIFYUSERNAME, \n",
    "#                                        scope = SCOPE, \n",
    "#                                        client_id = CLIENT_ID, \n",
    "#                                        client_secret = CLIENT_SECRET, \n",
    "#                                        redirect_uri = REDIRECT_URI)\n",
    "#     if token:\n",
    "#        sp = spotipy.Spotify(auth=token)"
   ]
  },
  {
   "cell_type": "code",
   "execution_count": 2,
   "metadata": {},
   "outputs": [],
   "source": [
    "# !pip install python-oath2"
   ]
  },
  {
   "cell_type": "code",
   "execution_count": 3,
   "metadata": {},
   "outputs": [],
   "source": [
    "# import spotipy.oauth2 as oauth2\n",
    "\n",
    "# sp_oauth = oauth2.SpotifyOAuth(client_id=CLIENT_ID,client_secret=CLIENT_SECRET,redirect_uri=REDIRECT_URI,scope=SCOPE)\n",
    "# token_info = sp_oauth.get_cached_token() \n",
    "# if not token_info:\n",
    "#     auth_url = sp_oauth.get_authorize_url()\n",
    "#     print(auth_url)\n",
    "#     response = input('Paste the above link into your browser, then paste the redirect url here: ')\n",
    "\n",
    "#     code = sp_oauth.parse_response_code(response)\n",
    "#     token_info = sp_oauth.get_access_token(code)\n",
    "\n",
    "#     token = token_info['access_token']\n",
    "\n",
    "# sp = spotipy.Spotify(auth=token)"
   ]
  },
  {
   "cell_type": "code",
   "execution_count": 4,
   "metadata": {},
   "outputs": [
    {
     "ename": "NameError",
     "evalue": "name 'sp' is not defined",
     "output_type": "error",
     "traceback": [
      "\u001b[0;31m---------------------------------------------------------------------------\u001b[0m",
      "\u001b[0;31mNameError\u001b[0m                                 Traceback (most recent call last)",
      "\u001b[0;32m<ipython-input-4-71a117a3e67a>\u001b[0m in \u001b[0;36m<module>\u001b[0;34m\u001b[0m\n\u001b[0;32m----> 1\u001b[0;31m \u001b[0;32mfor\u001b[0m \u001b[0mk\u001b[0m\u001b[0;34m,\u001b[0m\u001b[0mv\u001b[0m \u001b[0;32min\u001b[0m \u001b[0msp\u001b[0m\u001b[0;34m.\u001b[0m\u001b[0maudio_features\u001b[0m\u001b[0;34m(\u001b[0m\u001b[0;34m'54flyrjcdnQdco7300avMJ'\u001b[0m\u001b[0;34m)\u001b[0m\u001b[0;34m[\u001b[0m\u001b[0;36m0\u001b[0m\u001b[0;34m]\u001b[0m\u001b[0;34m.\u001b[0m\u001b[0mitems\u001b[0m\u001b[0;34m(\u001b[0m\u001b[0;34m)\u001b[0m\u001b[0;34m:\u001b[0m\u001b[0;34m\u001b[0m\u001b[0;34m\u001b[0m\u001b[0m\n\u001b[0m\u001b[1;32m      2\u001b[0m     \u001b[0mprint\u001b[0m\u001b[0;34m(\u001b[0m\u001b[0mk\u001b[0m\u001b[0;34m,\u001b[0m\u001b[0mv\u001b[0m\u001b[0;34m)\u001b[0m\u001b[0;34m\u001b[0m\u001b[0;34m\u001b[0m\u001b[0m\n",
      "\u001b[0;31mNameError\u001b[0m: name 'sp' is not defined"
     ]
    }
   ],
   "source": [
    "for k,v in sp.audio_features('54flyrjcdnQdco7300avMJ')[0].items():\n",
    "    print(k,v)"
   ]
  },
  {
   "cell_type": "code",
   "execution_count": 17,
   "metadata": {},
   "outputs": [],
   "source": [
    "import spotipy\n",
    "from spotipy.oauth2 import SpotifyClientCredentials\n",
    "\n",
    "def authorize2():\n",
    "    client_credentials_manager = SpotifyClientCredentials(client_id=CLIENT_ID,client_secret=CLIENT_SECRET)\n",
    "    sp = spotipy.Spotify(client_credentials_manager=client_credentials_manager)"
   ]
  },
  {
   "cell_type": "code",
   "execution_count": 18,
   "metadata": {},
   "outputs": [
    {
     "name": "stdout",
     "output_type": "stream",
     "text": [
      "CPU times: user 2 µs, sys: 1 µs, total: 3 µs\n",
      "Wall time: 4.77 µs\n"
     ]
    },
    {
     "data": {
      "text/plain": [
       "{'danceability': 0.693,\n",
       " 'energy': 0.497,\n",
       " 'key': 2,\n",
       " 'loudness': -7.316,\n",
       " 'mode': 1,\n",
       " 'speechiness': 0.119,\n",
       " 'acousticness': 0.679,\n",
       " 'instrumentalness': 0,\n",
       " 'liveness': 0.258,\n",
       " 'valence': 0.473,\n",
       " 'tempo': 81.308,\n",
       " 'type': 'audio_features',\n",
       " 'id': '54flyrjcdnQdco7300avMJ',\n",
       " 'uri': 'spotify:track:54flyrjcdnQdco7300avMJ',\n",
       " 'track_href': 'https://api.spotify.com/v1/tracks/54flyrjcdnQdco7300avMJ',\n",
       " 'analysis_url': 'https://api.spotify.com/v1/audio-analysis/54flyrjcdnQdco7300avMJ',\n",
       " 'duration_ms': 122067,\n",
       " 'time_signature': 4}"
      ]
     },
     "execution_count": 18,
     "metadata": {},
     "output_type": "execute_result"
    }
   ],
   "source": [
    "%time\n",
    "\n",
    "def get_features(trackID):\n",
    "        return sp.audio_features(trackID)[0]\n",
    "    \n",
    "get_features('54flyrjcdnQdco7300avMJ')"
   ]
  },
  {
   "cell_type": "code",
   "execution_count": 19,
   "metadata": {},
   "outputs": [
    {
     "name": "stdout",
     "output_type": "stream",
     "text": [
      "CPU times: user 3 µs, sys: 0 ns, total: 3 µs\n",
      "Wall time: 7.15 µs\n"
     ]
    },
    {
     "data": {
      "text/plain": [
       "'54flyrjcdnQdco7300avMJ'"
      ]
     },
     "execution_count": 19,
     "metadata": {},
     "output_type": "execute_result"
    }
   ],
   "source": [
    "%time\n",
    "\n",
    "#Function to retrieve Spotify Track ID from Artist / Song via Spotipy\n",
    "\n",
    "def get_spotify_id(artist,track):\n",
    "    results = sp.search(q='artist:' + artist + ' ' + 'track:' + track, type='track')\n",
    "    return results[\"tracks\"][\"items\"][0][\"id\"]\n",
    "\n",
    "get_spotify_id(\"Queen\",\"We Will Rock You\")"
   ]
  },
  {
   "cell_type": "code",
   "execution_count": 20,
   "metadata": {},
   "outputs": [],
   "source": [
    "song_list = pd.read_pickle(\"./data/songs_with_quotes.pkl\")"
   ]
  },
  {
   "cell_type": "code",
   "execution_count": 21,
   "metadata": {},
   "outputs": [],
   "source": [
    "song_list2 = song_list[[\"artist\",\"track\"]]"
   ]
  },
  {
   "cell_type": "code",
   "execution_count": 22,
   "metadata": {},
   "outputs": [
    {
     "data": {
      "text/plain": [
       "(4354, 2)"
      ]
     },
     "execution_count": 22,
     "metadata": {},
     "output_type": "execute_result"
    }
   ],
   "source": [
    "song_list2.shape"
   ]
  },
  {
   "cell_type": "code",
   "execution_count": 48,
   "metadata": {},
   "outputs": [
    {
     "data": {
      "text/html": [
       "<div>\n",
       "<style scoped>\n",
       "    .dataframe tbody tr th:only-of-type {\n",
       "        vertical-align: middle;\n",
       "    }\n",
       "\n",
       "    .dataframe tbody tr th {\n",
       "        vertical-align: top;\n",
       "    }\n",
       "\n",
       "    .dataframe thead th {\n",
       "        text-align: right;\n",
       "    }\n",
       "</style>\n",
       "<table border=\"1\" class=\"dataframe\">\n",
       "  <thead>\n",
       "    <tr style=\"text-align: right;\">\n",
       "      <th></th>\n",
       "      <th>artist</th>\n",
       "      <th>track</th>\n",
       "    </tr>\n",
       "  </thead>\n",
       "  <tbody>\n",
       "    <tr>\n",
       "      <th>267458</th>\n",
       "      <td>Bobby Hutcherson</td>\n",
       "      <td>Theme From \"Blow Up\" (2005 Digital Remaster)</td>\n",
       "    </tr>\n",
       "    <tr>\n",
       "      <th>267639</th>\n",
       "      <td>Swirlies</td>\n",
       "      <td>Exempt Boys Protect Yourselves From Aliens (Dj...</td>\n",
       "    </tr>\n",
       "    <tr>\n",
       "      <th>267720</th>\n",
       "      <td>Roberta Gambarini</td>\n",
       "      <td>Medley From \"Cinema Paradiso\": Main Theme/ Son...</td>\n",
       "    </tr>\n",
       "  </tbody>\n",
       "</table>\n",
       "</div>"
      ],
      "text/plain": [
       "                   artist                                              track\n",
       "267458   Bobby Hutcherson       Theme From \"Blow Up\" (2005 Digital Remaster)\n",
       "267639           Swirlies  Exempt Boys Protect Yourselves From Aliens (Dj...\n",
       "267720  Roberta Gambarini  Medley From \"Cinema Paradiso\": Main Theme/ Son..."
      ]
     },
     "execution_count": 48,
     "metadata": {},
     "output_type": "execute_result"
    }
   ],
   "source": [
    "song_list2.iloc[1181:1184]"
   ]
  },
  {
   "cell_type": "code",
   "execution_count": 23,
   "metadata": {},
   "outputs": [],
   "source": [
    "import sqlite3\n",
    "\n",
    "def create_table(name):\n",
    "    conn = sqlite3.connect(f'./{name}.sqlite3')\n",
    "    curs = conn.cursor()\n",
    "    create_table = 'CREATE TABLE File (songid varchar(1000),artist varchar(1000),track varchar(1000), danceability float, energy float, key float, loudness float, mode float, speechiness float, acousticness float, instrumentalness float, liveness float, valence float, tempo float, duration_ms float,time_signature float);' \n",
    "    curs.execute(create_table)\n",
    "    return conn\n",
    "\n",
    "def insert(conn,f):    \n",
    "    curs = conn.cursor()    \n",
    "    query = (f'INSERT INTO File (songid, artist, track, danceability, energy, key, loudness, mode, speechiness, acousticness, instrumentalness, liveness, valence, tempo, duration_ms,time_signature) VALUES (\\\"{f[\"songid\"]}\\\",\\\"{f[\"artist\"]}\\\",\\\"{f[\"track\"]}\\\", {f[\"danceability\"]}, {f[\"energy\"]}, {f[\"key\"]}, {f[\"loudness\"]}, {f[\"mode\"]}, {f[\"speechiness\"]}, {f[\"acousticness\"]},  {f[\"instrumentalness\"]}, {f[\"liveness\"]}, {f[\"valence\"]}, {f[\"tempo\"]}, {f[\"duration_ms\"]},{f[\"time_signature\"]});')\n",
    "    curs.execute(query)\n",
    "    curs.close()\n",
    "    conn.commit()"
   ]
  },
  {
   "cell_type": "code",
   "execution_count": 39,
   "metadata": {},
   "outputs": [
    {
     "name": "stdout",
     "output_type": "stream",
     "text": [
      "\n",
      "\n",
      "            User authentication requires interaction with your\n",
      "            web browser. Once you enter your credentials and\n",
      "            give authorization, you will be redirected to\n",
      "            a url.  Paste that url you were directed to to\n",
      "            complete the authorization.\n",
      "\n",
      "        \n",
      "Opened https://accounts.spotify.com/authorize?client_id=63594c9b2f99411a8cbd18df04851fc4&response_type=code&redirect_uri=http%3A%2F%2Fgoogle.com%2F&scope=user-library-read in your browser\n",
      "\n",
      "\n"
     ]
    },
    {
     "name": "stdin",
     "output_type": "stream",
     "text": [
      "Enter the URL you were redirected to:  https://www.google.com/?code=AQB02jTAb2gbQFn9rWiCrOyF7lR_EH3OK2fNHBjNgvkdX57KPwW7phwKqISvbl3sn6LaKnTD-rFVy3IAOyTiLjYRi7is-dPs5bLT9fDhJJqvy4W3jzH1SsUGkqK0XUcRc9T89xolW2J3GR1slpTcxJWJ61Yf0T31hWqpXJYGfCiRxOVAdrL8bVeqeqjZtIH6RbQyf_x9wko5gpg\n"
     ]
    },
    {
     "name": "stdout",
     "output_type": "stream",
     "text": [
      "\n",
      "\n",
      "retrying ...1secs\n",
      "retrying ...1secs\n",
      "retrying ...1secs\n",
      "retrying ...1secs\n",
      "retrying ...1secs\n",
      "retrying ...1secs\n",
      "retrying ...1secs\n",
      "retrying ...1secs\n",
      "retrying ...1secs\n",
      "retrying ...1secs\n",
      "retrying ...1secs\n",
      "retrying ...1secs\n",
      "retrying ...1secs\n",
      "retrying ...1secs\n",
      "retrying ...1secs\n",
      "retrying ...1secs\n",
      "retrying ...1secs\n",
      "retrying ...1secs\n",
      "retrying ...1secs\n",
      "retrying ...1secs\n",
      "retrying ...1secs\n",
      "retrying ...1secs\n",
      "retrying ...1secs\n",
      "retrying ...1secs\n",
      "retrying ...1secs\n"
     ]
    }
   ],
   "source": [
    "def retrieve_track_features(rownumbers,tablename):\n",
    "    feature_list = []\n",
    "    conn = create_table(tablename)\n",
    "    for entry,row in song_list2.head(rownumbers).iterrows():\n",
    "        f = {}\n",
    "        artist = row[\"artist\"]\n",
    "        track = row[\"track\"]\n",
    "        try:\n",
    "            spotifyid = get_spotify_id(artist,track)\n",
    "            features = get_features(spotifyid)\n",
    "            artist = artist.replace('\"','')\n",
    "            track = track.replace('\"','')\n",
    "            f = {\"songid\":spotifyid,\"artist\":artist,\"track\":track,'danceability':features['danceability'],\n",
    "                                 'energy':features['energy'],'key':features['key'],\n",
    "                                 'loudness':features['loudness'],'mode':features['mode'],\n",
    "                                'speechiness':features['speechiness'],'acousticness':features['acousticness'],\n",
    "                                 'instrumentalness':features['instrumentalness'],'liveness':features['liveness'],\n",
    "                                 'valence':features['valence'],'tempo':features['tempo'],'duration_ms':features['duration_ms'],'time_signature':features['time_signature']}\n",
    "            try:\n",
    "                insert(conn,f)\n",
    "                authorize()\n",
    "            except:\n",
    "                print(artist,track,\"Insert Statement failed\")\n",
    "        except:\n",
    "            continue\n",
    "\n",
    "\n",
    "retrieve_track_features(4354,\"songs_with_quotes\")"
   ]
  },
  {
   "cell_type": "code",
   "execution_count": null,
   "metadata": {},
   "outputs": [],
   "source": []
  }
 ],
 "metadata": {
  "kernelspec": {
   "display_name": "data_collection",
   "language": "python",
   "name": "data_collection"
  },
  "language_info": {
   "codemirror_mode": {
    "name": "ipython",
    "version": 3
   },
   "file_extension": ".py",
   "mimetype": "text/x-python",
   "name": "python",
   "nbconvert_exporter": "python",
   "pygments_lexer": "ipython3",
   "version": "3.7.4"
  }
 },
 "nbformat": 4,
 "nbformat_minor": 4
}
