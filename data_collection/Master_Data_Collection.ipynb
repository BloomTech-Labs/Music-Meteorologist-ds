{
 "cells": [
  {
   "cell_type": "code",
   "execution_count": 1,
   "metadata": {},
   "outputs": [],
   "source": [
    "import os\n",
    "import sys\n",
    "import json\n",
    "import spotipy\n",
    "import webbrowser\n",
    "import spotipy.util as util\n",
    "from json.decoder import JSONDecodeError\n",
    "import pandas as pd\n",
    "\n",
    "USERNAME = 'basslaughter' #your spotify username\n",
    "CLIENT_ID = '63594c9b2f99411a8cbd18df04851fc4' #set at your developer account\n",
    "CLIENT_SECRET = '096168b2bd1f4378ae410726955c9ed8' #set at your developer account\n",
    "REDIRECT_URI = 'http://google.com/' #set at your developer account, usually \"http://localhost:8000\"\n",
    "SCOPE = 'user-library-read' # or else\n",
    "# ps. REDIRECT_URI is crucial here. if http://localhost:8000 is not set, or with a single '/' misplaced, it will generate a connection error.\n",
    "\n",
    "# then pass them:\n",
    "\n",
    "token = util.prompt_for_user_token(username = USERNAME, \n",
    "                                   scope = SCOPE, \n",
    "                                   client_id = CLIENT_ID, \n",
    "                                   client_secret = CLIENT_SECRET, \n",
    "                                   redirect_uri = REDIRECT_URI)\n",
    "\n",
    "if token:\n",
    "   sp = spotipy.Spotify(auth=token)"
   ]
  },
  {
   "cell_type": "code",
   "execution_count": 2,
   "metadata": {},
   "outputs": [
    {
     "name": "stdout",
     "output_type": "stream",
     "text": [
      "danceability 0.693\n",
      "energy 0.497\n",
      "key 2\n",
      "loudness -7.316\n",
      "mode 1\n",
      "speechiness 0.119\n",
      "acousticness 0.679\n",
      "instrumentalness 0\n",
      "liveness 0.258\n",
      "valence 0.473\n",
      "tempo 81.308\n",
      "type audio_features\n",
      "id 54flyrjcdnQdco7300avMJ\n",
      "uri spotify:track:54flyrjcdnQdco7300avMJ\n",
      "track_href https://api.spotify.com/v1/tracks/54flyrjcdnQdco7300avMJ\n",
      "analysis_url https://api.spotify.com/v1/audio-analysis/54flyrjcdnQdco7300avMJ\n",
      "duration_ms 122067\n",
      "time_signature 4\n"
     ]
    }
   ],
   "source": [
    "#TEST the API lookup\n",
    "\n",
    "for k,v in sp.audio_features('54flyrjcdnQdco7300avMJ')[0].items():\n",
    "    print(k,v)"
   ]
  },
  {
   "cell_type": "code",
   "execution_count": 3,
   "metadata": {},
   "outputs": [
    {
     "data": {
      "text/plain": [
       "{'danceability': 0.693,\n",
       " 'energy': 0.497,\n",
       " 'key': 2,\n",
       " 'loudness': -7.316,\n",
       " 'mode': 1,\n",
       " 'speechiness': 0.119,\n",
       " 'acousticness': 0.679,\n",
       " 'instrumentalness': 0,\n",
       " 'liveness': 0.258,\n",
       " 'valence': 0.473,\n",
       " 'tempo': 81.308,\n",
       " 'type': 'audio_features',\n",
       " 'id': '54flyrjcdnQdco7300avMJ',\n",
       " 'uri': 'spotify:track:54flyrjcdnQdco7300avMJ',\n",
       " 'track_href': 'https://api.spotify.com/v1/tracks/54flyrjcdnQdco7300avMJ',\n",
       " 'analysis_url': 'https://api.spotify.com/v1/audio-analysis/54flyrjcdnQdco7300avMJ',\n",
       " 'duration_ms': 122067,\n",
       " 'time_signature': 4}"
      ]
     },
     "execution_count": 3,
     "metadata": {},
     "output_type": "execute_result"
    }
   ],
   "source": [
    "#Function to extract audio features with Spotify Track ID via Spotipy\n",
    "\n",
    "def get_features(trackID):\n",
    "        return sp.audio_features(trackID)[0]\n",
    "    \n",
    "get_features('54flyrjcdnQdco7300avMJ')"
   ]
  },
  {
   "cell_type": "code",
   "execution_count": 6,
   "metadata": {},
   "outputs": [
    {
     "data": {
      "text/plain": [
       "'54flyrjcdnQdco7300avMJ'"
      ]
     },
     "execution_count": 6,
     "metadata": {},
     "output_type": "execute_result"
    }
   ],
   "source": [
    "#Function to retrieve Spotify Track ID from Artist / Song via Spotipy\n",
    "\n",
    "def get_spotify_id(artist,track):\n",
    "    results = sp.search(q='artist:' + artist + ' ' + 'track:' + track, type='track')\n",
    "    return results[\"tracks\"][\"items\"][0][\"id\"]\n",
    "\n",
    "get_spotify_id(\"Queen\",\"We Will Rock You\")"
   ]
  },
  {
   "cell_type": "code",
   "execution_count": 7,
   "metadata": {},
   "outputs": [],
   "source": [
    "song_list = pd.read_pickle(\"./song_list.pkl\")"
   ]
  },
  {
   "cell_type": "code",
   "execution_count": 8,
   "metadata": {},
   "outputs": [
    {
     "data": {
      "text/html": [
       "<div>\n",
       "<style scoped>\n",
       "    .dataframe tbody tr th:only-of-type {\n",
       "        vertical-align: middle;\n",
       "    }\n",
       "\n",
       "    .dataframe tbody tr th {\n",
       "        vertical-align: top;\n",
       "    }\n",
       "\n",
       "    .dataframe thead th {\n",
       "        text-align: right;\n",
       "    }\n",
       "</style>\n",
       "<table border=\"1\" class=\"dataframe\">\n",
       "  <thead>\n",
       "    <tr style=\"text-align: right;\">\n",
       "      <th></th>\n",
       "      <th>trackId</th>\n",
       "      <th>songId</th>\n",
       "      <th>artist</th>\n",
       "      <th>track</th>\n",
       "    </tr>\n",
       "  </thead>\n",
       "  <tbody>\n",
       "    <tr>\n",
       "      <th>0</th>\n",
       "      <td>TRMMMYQ128F932D901</td>\n",
       "      <td>SOQMMHC12AB0180CB8</td>\n",
       "      <td>Faster Pussy cat</td>\n",
       "      <td>Silent Night</td>\n",
       "    </tr>\n",
       "    <tr>\n",
       "      <th>1</th>\n",
       "      <td>TRMMMKD128F425225D</td>\n",
       "      <td>SOVFVAK12A8C1350D9</td>\n",
       "      <td>Karkkiautomaatti</td>\n",
       "      <td>Tanssi vaan</td>\n",
       "    </tr>\n",
       "  </tbody>\n",
       "</table>\n",
       "</div>"
      ],
      "text/plain": [
       "              trackId              songId            artist         track\n",
       "0  TRMMMYQ128F932D901  SOQMMHC12AB0180CB8  Faster Pussy cat  Silent Night\n",
       "1  TRMMMKD128F425225D  SOVFVAK12A8C1350D9  Karkkiautomaatti   Tanssi vaan"
      ]
     },
     "execution_count": 8,
     "metadata": {},
     "output_type": "execute_result"
    }
   ],
   "source": [
    "song_list.head(2)"
   ]
  },
  {
   "cell_type": "code",
   "execution_count": 9,
   "metadata": {},
   "outputs": [
    {
     "data": {
      "text/html": [
       "<div>\n",
       "<style scoped>\n",
       "    .dataframe tbody tr th:only-of-type {\n",
       "        vertical-align: middle;\n",
       "    }\n",
       "\n",
       "    .dataframe tbody tr th {\n",
       "        vertical-align: top;\n",
       "    }\n",
       "\n",
       "    .dataframe thead th {\n",
       "        text-align: right;\n",
       "    }\n",
       "</style>\n",
       "<table border=\"1\" class=\"dataframe\">\n",
       "  <thead>\n",
       "    <tr style=\"text-align: right;\">\n",
       "      <th></th>\n",
       "      <th>trackId</th>\n",
       "      <th>songId</th>\n",
       "      <th>artist</th>\n",
       "      <th>track</th>\n",
       "    </tr>\n",
       "  </thead>\n",
       "  <tbody>\n",
       "    <tr>\n",
       "      <th>0</th>\n",
       "      <td>TRMMMYQ128F932D901</td>\n",
       "      <td>SOQMMHC12AB0180CB8</td>\n",
       "      <td>Faster Pussy cat</td>\n",
       "      <td>Silent Night</td>\n",
       "    </tr>\n",
       "    <tr>\n",
       "      <th>1</th>\n",
       "      <td>TRMMMKD128F425225D</td>\n",
       "      <td>SOVFVAK12A8C1350D9</td>\n",
       "      <td>Karkkiautomaatti</td>\n",
       "      <td>Tanssi vaan</td>\n",
       "    </tr>\n",
       "    <tr>\n",
       "      <th>2</th>\n",
       "      <td>TRMMMRX128F93187D9</td>\n",
       "      <td>SOGTUKN12AB017F4F1</td>\n",
       "      <td>Hudson Mohawke</td>\n",
       "      <td>No One Could Ever</td>\n",
       "    </tr>\n",
       "    <tr>\n",
       "      <th>3</th>\n",
       "      <td>TRMMMCH128F425532C</td>\n",
       "      <td>SOBNYVR12A8C13558C</td>\n",
       "      <td>Yerba Brava</td>\n",
       "      <td>Si Vos Querés</td>\n",
       "    </tr>\n",
       "    <tr>\n",
       "      <th>4</th>\n",
       "      <td>TRMMMWA128F426B589</td>\n",
       "      <td>SOHSBXH12A8C13B0DF</td>\n",
       "      <td>Der Mystic</td>\n",
       "      <td>Tangle Of Aspens</td>\n",
       "    </tr>\n",
       "  </tbody>\n",
       "</table>\n",
       "</div>"
      ],
      "text/plain": [
       "              trackId              songId            artist              track\n",
       "0  TRMMMYQ128F932D901  SOQMMHC12AB0180CB8  Faster Pussy cat       Silent Night\n",
       "1  TRMMMKD128F425225D  SOVFVAK12A8C1350D9  Karkkiautomaatti        Tanssi vaan\n",
       "2  TRMMMRX128F93187D9  SOGTUKN12AB017F4F1    Hudson Mohawke  No One Could Ever\n",
       "3  TRMMMCH128F425532C  SOBNYVR12A8C13558C       Yerba Brava      Si Vos Querés\n",
       "4  TRMMMWA128F426B589  SOHSBXH12A8C13B0DF        Der Mystic   Tangle Of Aspens"
      ]
     },
     "execution_count": 9,
     "metadata": {},
     "output_type": "execute_result"
    }
   ],
   "source": [
    "song_list.head()"
   ]
  },
  {
   "cell_type": "code",
   "execution_count": 10,
   "metadata": {},
   "outputs": [],
   "source": [
    "song_list2 = song_list[[\"artist\",\"track\"]]"
   ]
  },
  {
   "cell_type": "code",
   "execution_count": 11,
   "metadata": {},
   "outputs": [
    {
     "data": {
      "text/html": [
       "<div>\n",
       "<style scoped>\n",
       "    .dataframe tbody tr th:only-of-type {\n",
       "        vertical-align: middle;\n",
       "    }\n",
       "\n",
       "    .dataframe tbody tr th {\n",
       "        vertical-align: top;\n",
       "    }\n",
       "\n",
       "    .dataframe thead th {\n",
       "        text-align: right;\n",
       "    }\n",
       "</style>\n",
       "<table border=\"1\" class=\"dataframe\">\n",
       "  <thead>\n",
       "    <tr style=\"text-align: right;\">\n",
       "      <th></th>\n",
       "      <th>artist</th>\n",
       "      <th>track</th>\n",
       "    </tr>\n",
       "  </thead>\n",
       "  <tbody>\n",
       "    <tr>\n",
       "      <th>0</th>\n",
       "      <td>Faster Pussy cat</td>\n",
       "      <td>Silent Night</td>\n",
       "    </tr>\n",
       "    <tr>\n",
       "      <th>1</th>\n",
       "      <td>Karkkiautomaatti</td>\n",
       "      <td>Tanssi vaan</td>\n",
       "    </tr>\n",
       "    <tr>\n",
       "      <th>2</th>\n",
       "      <td>Hudson Mohawke</td>\n",
       "      <td>No One Could Ever</td>\n",
       "    </tr>\n",
       "    <tr>\n",
       "      <th>3</th>\n",
       "      <td>Yerba Brava</td>\n",
       "      <td>Si Vos Querés</td>\n",
       "    </tr>\n",
       "    <tr>\n",
       "      <th>4</th>\n",
       "      <td>Der Mystic</td>\n",
       "      <td>Tangle Of Aspens</td>\n",
       "    </tr>\n",
       "  </tbody>\n",
       "</table>\n",
       "</div>"
      ],
      "text/plain": [
       "             artist              track\n",
       "0  Faster Pussy cat       Silent Night\n",
       "1  Karkkiautomaatti        Tanssi vaan\n",
       "2    Hudson Mohawke  No One Could Ever\n",
       "3       Yerba Brava      Si Vos Querés\n",
       "4        Der Mystic   Tangle Of Aspens"
      ]
     },
     "execution_count": 11,
     "metadata": {},
     "output_type": "execute_result"
    }
   ],
   "source": [
    "song_list2.head()"
   ]
  },
  {
   "cell_type": "code",
   "execution_count": 12,
   "metadata": {},
   "outputs": [],
   "source": [
    "import sqlite3\n",
    "\n",
    "def create_table(name):\n",
    "    conn = sqlite3.connect(f'./{name}.sqlite3')\n",
    "    curs = conn.cursor()\n",
    "    create_table = 'CREATE TABLE File (artist varchar(1000),track varchar(1000), danceability float, energy float, key float, loudness float, mode float, speechiness float, acousticness float, instrumentalness float, liveness float, valence float, tempo float, duration_ms float,time_signature float);' \n",
    "    curs.execute(create_table)\n",
    "    return conn\n",
    "\n",
    "def insert(conn,f):    \n",
    "    curs = conn.cursor()    \n",
    "    query = (f'INSERT INTO File (artist, track, danceability, energy, key, loudness, mode, speechiness, acousticness, instrumentalness, liveness, valence, tempo, duration_ms,time_signature) VALUES (\\\"{f[\"artist\"]}\\\",\\\"{f[\"track\"]}\\\", {f[\"danceability\"]}, {f[\"energy\"]}, {f[\"key\"]}, {f[\"loudness\"]}, {f[\"mode\"]}, {f[\"speechiness\"]}, {f[\"acousticness\"]},  {f[\"instrumentalness\"]}, {f[\"liveness\"]}, {f[\"valence\"]}, {f[\"tempo\"]}, {f[\"duration_ms\"]},{f[\"time_signature\"]});')\n",
    "#     print(query)\n",
    "    curs.execute(query)\n",
    "    curs.close()\n",
    "    conn.commit()\n",
    "#     print('Inserted into DB: ', s['filename'])"
   ]
  },
  {
   "cell_type": "code",
   "execution_count": 223,
   "metadata": {},
   "outputs": [
    {
     "data": {
      "text/plain": [
       "<sqlite3.Connection at 0x170dca490>"
      ]
     },
     "execution_count": 223,
     "metadata": {},
     "output_type": "execute_result"
    }
   ],
   "source": [
    "# create_table(\"bronco\")"
   ]
  },
  {
   "cell_type": "code",
   "execution_count": 225,
   "metadata": {},
   "outputs": [],
   "source": [
    "conn = create_table(\"bronco\")\n",
    "insert(conn,feature_list[0])"
   ]
  },
  {
   "cell_type": "code",
   "execution_count": 218,
   "metadata": {},
   "outputs": [],
   "source": [
    "# def retrieve_track_features(rownumbers):\n",
    "#     feature_list = []\n",
    "#     for entry,row in song_list2.head(rownumbers).iterrows():\n",
    "#         f = {}\n",
    "#         artist = row[\"artist\"]\n",
    "#         track = row[\"track\"]\n",
    "#         try:\n",
    "#             spotifyid = get_spotify_id(artist,track)\n",
    "#             features = get_features(spotifyid)\n",
    "# #             f = {\"artist\":artist,\"track\":track,'danceability':features['danceability'],\n",
    "# #                                  'energy':features['energy'],'key':features['key'],\n",
    "# #                                  'loudness':features['loudness'],'mode':features['mode'],\n",
    "# #                                 'speechiness':features['speechiness'],'acousticness':features['acousticness'],\n",
    "# #                                  'instrumentalness':features['instrumentalness'],'liveness':features['liveness'],\n",
    "# #                                  'valence':features['valence'],'tempo':features['tempo'],'duration_ms':features['duration_ms'],'time_signature':features['time_signature']}\n",
    "#             feature_list.append({\"artist\":artist,\"track\":track,'danceability':features['danceability'],\n",
    "#                                  'energy':features['energy'],'key':features['key'],\n",
    "#                                  'loudness':features['loudness'],'mode':features['mode'],\n",
    "#                                 'speechiness':features['speechiness'],'acousticness':features['acousticness'],\n",
    "#                                  'instrumentalness':features['instrumentalness'],'liveness':features['liveness'],\n",
    "#                                  'valence':features['valence'],'tempo':features['tempo'],'duration_ms':features['duration_ms'],'time_signature':features['time_signature']})\n",
    "#         except:\n",
    "#             continue\n",
    "# #         return f\n",
    "#     return feature_list\n",
    "\n",
    "\n",
    "# # retrieve_track_features(10,\"bronco\")\n",
    "# # print(len(retrieve_track_name(1000)))\n",
    "# feature_list = retrieve_track_features(10) \n",
    "# # print(len(retrieve_track_name(1000)))"
   ]
  },
  {
   "cell_type": "code",
   "execution_count": 227,
   "metadata": {},
   "outputs": [
    {
     "data": {
      "text/plain": [
       "(1000000, 2)"
      ]
     },
     "execution_count": 227,
     "metadata": {},
     "output_type": "execute_result"
    }
   ],
   "source": [
    "song_list2.shape"
   ]
  },
  {
   "cell_type": "code",
   "execution_count": null,
   "metadata": {},
   "outputs": [
    {
     "name": "stdout",
     "output_type": "stream",
     "text": [
      "Insert Statement failed\n",
      "Insert Statement failed\n",
      "Insert Statement failed\n",
      "Insert Statement failed\n",
      "Insert Statement failed\n",
      "Insert Statement failed\n",
      "Insert Statement failed\n",
      "Insert Statement failed\n",
      "Insert Statement failed\n",
      "Insert Statement failed\n",
      "Insert Statement failed\n",
      "Insert Statement failed\n"
     ]
    }
   ],
   "source": [
    "def retrieve_track_features(rownumbers,tablename):\n",
    "    feature_list = []\n",
    "    conn = create_table(tablename)\n",
    "    for entry,row in song_list2.head(rownumbers).iterrows():\n",
    "        f = {}\n",
    "        artist = row[\"artist\"]\n",
    "        track = row[\"track\"]\n",
    "        try:\n",
    "            spotifyid = get_spotify_id(artist,track)\n",
    "            features = get_features(spotifyid)\n",
    "            f = {\"artist\":artist,\"track\":track,'danceability':features['danceability'],\n",
    "                                 'energy':features['energy'],'key':features['key'],\n",
    "                                 'loudness':features['loudness'],'mode':features['mode'],\n",
    "                                'speechiness':features['speechiness'],'acousticness':features['acousticness'],\n",
    "                                 'instrumentalness':features['instrumentalness'],'liveness':features['liveness'],\n",
    "                                 'valence':features['valence'],'tempo':features['tempo'],'duration_ms':features['duration_ms'],'time_signature':features['time_signature']}\n",
    "            try:\n",
    "                insert(conn,f)\n",
    "            except:\n",
    "                print(\"Insert Statement failed\")\n",
    "        except:\n",
    "            continue\n",
    "\n",
    "\n",
    "retrieve_track_features(1000000,\"song_list2\")\n",
    "# print(len(retrieve_track_name(1000)))\n",
    "# feature_list = retrieve_track_features(10) \n",
    "# print(len(retrieve_track_name(1000)))"
   ]
  },
  {
   "cell_type": "code",
   "execution_count": null,
   "metadata": {},
   "outputs": [],
   "source": []
  }
 ],
 "metadata": {
  "kernelspec": {
   "display_name": "Python 3",
   "language": "python",
   "name": "python3"
  },
  "language_info": {
   "codemirror_mode": {
    "name": "ipython",
    "version": 3
   },
   "file_extension": ".py",
   "mimetype": "text/x-python",
   "name": "python",
   "nbconvert_exporter": "python",
   "pygments_lexer": "ipython3",
   "version": "3.7.6"
  }
 },
 "nbformat": 4,
 "nbformat_minor": 4
}
