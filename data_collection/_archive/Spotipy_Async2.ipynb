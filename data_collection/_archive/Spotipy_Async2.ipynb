{
 "cells": [
  {
   "cell_type": "code",
   "execution_count": 9,
   "metadata": {},
   "outputs": [],
   "source": [
    "from spotipy.oauth2 import SpotifyClientCredentials\n",
    "from env_vars import *\n",
    "import spotipy\n",
    "\n",
    "def spotify_object():\n",
    "    client_credentials_manager = SpotifyClientCredentials(client_id=CLIENT_ID,client_secret=CLIENT_SECRET)\n",
    "    sp = spotipy.Spotify(client_credentials_manager=client_credentials_manager)\n",
    "    return sp"
   ]
  },
  {
   "cell_type": "code",
   "execution_count": 10,
   "metadata": {},
   "outputs": [],
   "source": [
    "spotify = spotify_object()"
   ]
  },
  {
   "cell_type": "code",
   "execution_count": 11,
   "metadata": {},
   "outputs": [],
   "source": [
    "import spotipy\n",
    "from spotipy.oauth2 import SpotifyClientCredentials\n",
    "from env_vars import *\n",
    "import pandas as pd\n",
    "\n",
    "\n",
    "def get_df():\n",
    "    song_list = pd.read_pickle(\"./song_list.pkl\")\n",
    "    song_list2 = song_list[[\"artist\",\"track\"]]\n",
    "    return song_list2 \n",
    "\n",
    "async def retrieve_track_features(rownumbers,tablename):\n",
    "    feature_list = []\n",
    "    conn = create_table(tablename)\n",
    "    for entry,row in get_df().head(rownumbers).iterrows():\n",
    "        f = {}\n",
    "        artist = row[\"artist\"]\n",
    "        track = row[\"track\"]\n",
    "        spotifyid = get_spotify_id(artist,track)\n",
    "#         try:\n",
    "#             spotifyid = get_spotify_id(artist,track)\n",
    "#             features = get_features(spotifyid)\n",
    "#             f = {\"songid\":spotifyid,\"artist\":artist,\"track\":track,'danceability':features['danceability'],\n",
    "#                                  'energy':features['energy'],'key':features['key'],\n",
    "#                                  'loudness':features['loudness'],'mode':features['mode'],\n",
    "#                                 'speechiness':features['speechiness'],'acousticness':features['acousticness'],\n",
    "#                                  'instrumentalness':features['instrumentalness'],'liveness':features['liveness'],\n",
    "#                                  'valence':features['valence'],'tempo':features['tempo'],'duration_ms':features['duration_ms'],'time_signature':features['time_signature']}\n",
    "#             try:\n",
    "#                 insert(conn,f)\n",
    "#                 authorize()\n",
    "#             except:\n",
    "#                 print(\"Insert Statement failed\")\n",
    "#         except:\n",
    "#             continue\n",
    "            \n",
    "            \n",
    "async def get_spotify_id(artist,track):\n",
    "    query = f\"q='artist:' + {artist} + ' ' + 'track:' + {track}, type='track'\"\n",
    "    async with sp.search(query) as response:\n",
    "        return await response.text()\n",
    "#         return results[\"tracks\"][\"items\"][0][\"id\"]\n",
    "\n",
    "# async def get_features(trackID):\n",
    "#     return sp.audio_features(trackID)[0]\n",
    "\n",
    "\n",
    "# def create_table(name):\n",
    "#     conn = sqlite3.connect(f'./{name}.sqlite3')\n",
    "#     curs = conn.cursor()\n",
    "#     create_table = 'CREATE TABLE File (songid varchar(1000),artist varchar(1000),track varchar(1000), danceability float, energy float, key float, loudness float, mode float, speechiness float, acousticness float, instrumentalness float, liveness float, valence float, tempo float, duration_ms float,time_signature float);' \n",
    "#     curs.execute(create_table)\n",
    "#     return conn\n",
    "\n",
    "# def insert(conn,f):    \n",
    "#     curs = conn.cursor()    \n",
    "#     query = (f'INSERT INTO File (songid, artist, track, danceability, energy, key, loudness, mode, speechiness, acousticness, instrumentalness, liveness, valence, tempo, duration_ms,time_signature) VALUES (\\\"{f[\"songid\"]}\\\",\\\"{f[\"artist\"]}\\\",\\\"{f[\"track\"]}\\\", {f[\"danceability\"]}, {f[\"energy\"]}, {f[\"key\"]}, {f[\"loudness\"]}, {f[\"mode\"]}, {f[\"speechiness\"]}, {f[\"acousticness\"]},  {f[\"instrumentalness\"]}, {f[\"liveness\"]}, {f[\"valence\"]}, {f[\"tempo\"]}, {f[\"duration_ms\"]},{f[\"time_signature\"]});')\n",
    "#     curs.execute(query)\n",
    "#     curs.close()\n",
    "#     conn.commit()"
   ]
  },
  {
   "cell_type": "code",
   "execution_count": 12,
   "metadata": {},
   "outputs": [],
   "source": [
    "song_list = pd.read_pickle(\"./song_list.pkl\")\n",
    "song_list2 = song_list[[\"artist\",\"track\"]]"
   ]
  },
  {
   "cell_type": "code",
   "execution_count": 13,
   "metadata": {},
   "outputs": [
    {
     "data": {
      "text/html": [
       "<div>\n",
       "<style scoped>\n",
       "    .dataframe tbody tr th:only-of-type {\n",
       "        vertical-align: middle;\n",
       "    }\n",
       "\n",
       "    .dataframe tbody tr th {\n",
       "        vertical-align: top;\n",
       "    }\n",
       "\n",
       "    .dataframe thead th {\n",
       "        text-align: right;\n",
       "    }\n",
       "</style>\n",
       "<table border=\"1\" class=\"dataframe\">\n",
       "  <thead>\n",
       "    <tr style=\"text-align: right;\">\n",
       "      <th></th>\n",
       "      <th>artist</th>\n",
       "      <th>track</th>\n",
       "    </tr>\n",
       "  </thead>\n",
       "  <tbody>\n",
       "    <tr>\n",
       "      <th>0</th>\n",
       "      <td>Faster Pussy cat</td>\n",
       "      <td>Silent Night</td>\n",
       "    </tr>\n",
       "    <tr>\n",
       "      <th>1</th>\n",
       "      <td>Karkkiautomaatti</td>\n",
       "      <td>Tanssi vaan</td>\n",
       "    </tr>\n",
       "  </tbody>\n",
       "</table>\n",
       "</div>"
      ],
      "text/plain": [
       "             artist         track\n",
       "0  Faster Pussy cat  Silent Night\n",
       "1  Karkkiautomaatti   Tanssi vaan"
      ]
     },
     "execution_count": 13,
     "metadata": {},
     "output_type": "execute_result"
    }
   ],
   "source": [
    "song_list2.head(2)"
   ]
  },
  {
   "cell_type": "markdown",
   "metadata": {},
   "source": [
    "# Trying With Method Listed Here\n",
    "\n",
    "\n",
    "https://cobuildlab.com/development-blog/connecting-aiohttp-with-spotify/"
   ]
  },
  {
   "cell_type": "code",
   "execution_count": 47,
   "metadata": {},
   "outputs": [
    {
     "name": "stdout",
     "output_type": "stream",
     "text": [
      "Requirement already satisfied: aiohttp in /Library/Frameworks/Python.framework/Versions/3.7/lib/python3.7/site-packages (3.6.2)\n",
      "Requirement already satisfied: attrs>=17.3.0 in /Library/Frameworks/Python.framework/Versions/3.7/lib/python3.7/site-packages (from aiohttp) (19.3.0)\n",
      "Requirement already satisfied: chardet<4.0,>=2.0 in /Library/Frameworks/Python.framework/Versions/3.7/lib/python3.7/site-packages (from aiohttp) (3.0.4)\n",
      "Requirement already satisfied: async-timeout<4.0,>=3.0 in /Library/Frameworks/Python.framework/Versions/3.7/lib/python3.7/site-packages (from aiohttp) (3.0.1)\n",
      "Requirement already satisfied: yarl<2.0,>=1.0 in /Library/Frameworks/Python.framework/Versions/3.7/lib/python3.7/site-packages (from aiohttp) (1.4.2)\n",
      "Requirement already satisfied: multidict<5.0,>=4.5 in /Library/Frameworks/Python.framework/Versions/3.7/lib/python3.7/site-packages (from aiohttp) (4.7.3)\n",
      "Requirement already satisfied: idna>=2.0 in /Library/Frameworks/Python.framework/Versions/3.7/lib/python3.7/site-packages (from yarl<2.0,>=1.0->aiohttp) (2.8)\n",
      "\u001b[33mWARNING: You are using pip version 19.3; however, version 19.3.1 is available.\n",
      "You should consider upgrading via the 'pip install --upgrade pip' command.\u001b[0m\n"
     ]
    }
   ],
   "source": [
    "!pip install aiohttp"
   ]
  },
  {
   "cell_type": "code",
   "execution_count": 48,
   "metadata": {},
   "outputs": [
    {
     "name": "stdout",
     "output_type": "stream",
     "text": [
      "Collecting cchardet\n",
      "\u001b[?25l  Downloading https://files.pythonhosted.org/packages/73/25/73649708a30aa97124631bd088a22f1bf721d05d4e72fb9cc9bedb97de51/cchardet-2.1.5.tar.gz (653kB)\n",
      "\u001b[K     |████████████████████████████████| 655kB 2.7MB/s eta 0:00:01\n",
      "\u001b[?25hBuilding wheels for collected packages: cchardet\n",
      "  Building wheel for cchardet (setup.py) ... \u001b[?25ldone\n",
      "\u001b[?25h  Created wheel for cchardet: filename=cchardet-2.1.5-cp37-cp37m-macosx_10_9_x86_64.whl size=124688 sha256=13b42ccc7df3cf58d49ad0fa166b1de7f9eaceeab0944a098a69c3e5d64e0d53\n",
      "  Stored in directory: /Users/user/Library/Caches/pip/wheels/e1/03/16/b369b586163cc2fdd075314e612869ef9aa4e4e4078c1dfaaa\n",
      "Successfully built cchardet\n",
      "Installing collected packages: cchardet\n",
      "Successfully installed cchardet-2.1.5\n",
      "\u001b[33mWARNING: You are using pip version 19.3; however, version 19.3.1 is available.\n",
      "You should consider upgrading via the 'pip install --upgrade pip' command.\u001b[0m\n"
     ]
    }
   ],
   "source": [
    "!pip install cchardet"
   ]
  },
  {
   "cell_type": "code",
   "execution_count": 49,
   "metadata": {},
   "outputs": [
    {
     "name": "stdout",
     "output_type": "stream",
     "text": [
      "Collecting aiodns\n",
      "  Downloading https://files.pythonhosted.org/packages/da/01/8f2d49b441573fd2478833bdba91cf0b853b4c750a1fbb9e98de1b94bb22/aiodns-2.0.0-py2.py3-none-any.whl\n",
      "Collecting pycares>=3.0.0\n",
      "\u001b[?25l  Downloading https://files.pythonhosted.org/packages/b7/3b/c4d56c225f7711674a5ba05eaf54026e6b2f18c97995bfca6f83c623d96d/pycares-3.1.0-cp37-cp37m-macosx_10_6_intel.whl (121kB)\n",
      "\u001b[K     |████████████████████████████████| 122kB 2.1MB/s eta 0:00:01\n",
      "\u001b[?25hCollecting cffi>=1.5.0\n",
      "\u001b[?25l  Downloading https://files.pythonhosted.org/packages/d5/61/32b1aa5ef1bf60be4ef679c4aae082a7ceef98517e0e0fde68072c6ef8b6/cffi-1.13.2-cp37-cp37m-macosx_10_6_intel.whl (258kB)\n",
      "\u001b[K     |████████████████████████████████| 266kB 18.5MB/s eta 0:00:01\n",
      "\u001b[?25hCollecting pycparser\n",
      "\u001b[?25l  Downloading https://files.pythonhosted.org/packages/68/9e/49196946aee219aead1290e00d1e7fdeab8567783e83e1b9ab5585e6206a/pycparser-2.19.tar.gz (158kB)\n",
      "\u001b[K     |████████████████████████████████| 163kB 20.9MB/s eta 0:00:01\n",
      "\u001b[?25hBuilding wheels for collected packages: pycparser\n",
      "  Building wheel for pycparser (setup.py) ... \u001b[?25ldone\n",
      "\u001b[?25h  Created wheel for pycparser: filename=pycparser-2.19-py2.py3-none-any.whl size=111029 sha256=91e0d212af43da4616d84a44c6415bea62b618fd9a0a9fa3bef014b7bc37cb7f\n",
      "  Stored in directory: /Users/user/Library/Caches/pip/wheels/f2/9a/90/de94f8556265ddc9d9c8b271b0f63e57b26fb1d67a45564511\n",
      "Successfully built pycparser\n",
      "Installing collected packages: pycparser, cffi, pycares, aiodns\n",
      "Successfully installed aiodns-2.0.0 cffi-1.13.2 pycares-3.1.0 pycparser-2.19\n",
      "\u001b[33mWARNING: You are using pip version 19.3; however, version 19.3.1 is available.\n",
      "You should consider upgrading via the 'pip install --upgrade pip' command.\u001b[0m\n"
     ]
    }
   ],
   "source": [
    "!pip install aiodns"
   ]
  },
  {
   "cell_type": "code",
   "execution_count": 50,
   "metadata": {},
   "outputs": [
    {
     "name": "stdout",
     "output_type": "stream",
     "text": [
      "Requirement already satisfied: requests in /Library/Frameworks/Python.framework/Versions/3.7/lib/python3.7/site-packages (2.22.0)\n",
      "Requirement already satisfied: urllib3!=1.25.0,!=1.25.1,<1.26,>=1.21.1 in /Library/Frameworks/Python.framework/Versions/3.7/lib/python3.7/site-packages (from requests) (1.25.7)\n",
      "Requirement already satisfied: idna<2.9,>=2.5 in /Library/Frameworks/Python.framework/Versions/3.7/lib/python3.7/site-packages (from requests) (2.8)\n",
      "Requirement already satisfied: certifi>=2017.4.17 in /Library/Frameworks/Python.framework/Versions/3.7/lib/python3.7/site-packages (from requests) (2019.9.11)\n",
      "Requirement already satisfied: chardet<3.1.0,>=3.0.2 in /Library/Frameworks/Python.framework/Versions/3.7/lib/python3.7/site-packages (from requests) (3.0.4)\n",
      "\u001b[33mWARNING: You are using pip version 19.3; however, version 19.3.1 is available.\n",
      "You should consider upgrading via the 'pip install --upgrade pip' command.\u001b[0m\n"
     ]
    }
   ],
   "source": [
    "!pip install requests"
   ]
  },
  {
   "cell_type": "code",
   "execution_count": 54,
   "metadata": {},
   "outputs": [
    {
     "name": "stdout",
     "output_type": "stream",
     "text": [
      "Collecting spoffy\n",
      "  Downloading https://files.pythonhosted.org/packages/84/41/7513144bb5154651d8913b2aa82e7b4d5274c426258b969ad1a5e135ed12/spoffy-0.4.0-py3-none-any.whl\n",
      "Collecting pydantic>=0.23\n",
      "\u001b[?25l  Downloading https://files.pythonhosted.org/packages/d8/f2/faaf43cd311d6b2381a2623140c9d99d7aa7885100dc4f707fc868b3b199/pydantic-1.3-py36.py37.py38-none-any.whl (85kB)\n",
      "\u001b[K     |████████████████████████████████| 92kB 4.1MB/s eta 0:00:011\n",
      "\u001b[?25hCollecting urlobject<3,>=2\n",
      "  Downloading https://files.pythonhosted.org/packages/e2/b8/1d0a916f4b34c4618846e6da0e4eeaa8fcb4a2f39e006434fe38acb74b34/URLObject-2.4.3.tar.gz\n",
      "Building wheels for collected packages: urlobject\n",
      "  Building wheel for urlobject (setup.py) ... \u001b[?25ldone\n",
      "\u001b[?25h  Created wheel for urlobject: filename=URLObject-2.4.3-cp37-none-any.whl size=14534 sha256=6fa5b48b42bf405bbe51f71e584b1cb62859dd2694676b779087f2130f810ab0\n",
      "  Stored in directory: /Users/user/Library/Caches/pip/wheels/fd/7e/18/ccb55ecc2834f945b769c1ff1df12ca5a14400ccfc58e3c515\n",
      "Successfully built urlobject\n",
      "Installing collected packages: pydantic, urlobject, spoffy\n",
      "Successfully installed pydantic-1.3 spoffy-0.4.0 urlobject-2.4.3\n",
      "\u001b[33mWARNING: You are using pip version 19.3; however, version 19.3.1 is available.\n",
      "You should consider upgrading via the 'pip install --upgrade pip' command.\u001b[0m\n"
     ]
    }
   ],
   "source": [
    "!pip install spoffy"
   ]
  },
  {
   "cell_type": "code",
   "execution_count": 57,
   "metadata": {},
   "outputs": [
    {
     "name": "stdout",
     "output_type": "stream",
     "text": [
      "Requirement already satisfied: nest_asyncio in /Library/Frameworks/Python.framework/Versions/3.7/lib/python3.7/site-packages (1.2.1)\n",
      "\u001b[33mWARNING: You are using pip version 19.3; however, version 19.3.1 is available.\n",
      "You should consider upgrading via the 'pip install --upgrade pip' command.\u001b[0m\n"
     ]
    }
   ],
   "source": [
    "!pip install nest_asyncio"
   ]
  },
  {
   "cell_type": "code",
   "execution_count": 20,
   "metadata": {},
   "outputs": [],
   "source": [
    "import nest_asyncio\n",
    "nest_asyncio.apply()"
   ]
  },
  {
   "cell_type": "code",
   "execution_count": 31,
   "metadata": {},
   "outputs": [
    {
     "name": "stdout",
     "output_type": "stream",
     "text": [
      "(0, 'Jango')\n",
      "(1, 'Mucky')\n"
     ]
    }
   ],
   "source": [
    "for i in enumerate([\"Jango\",\"Mucky\"]):\n",
    "    print(i)"
   ]
  },
  {
   "cell_type": "code",
   "execution_count": 32,
   "metadata": {},
   "outputs": [
    {
     "name": "stdout",
     "output_type": "stream",
     "text": [
      "Faster Pussy cat NO!\n",
      "16\n",
      "54\n",
      "57\n",
      "0\n",
      "4\n",
      "4\n",
      "73\n",
      "15\n",
      "The Sun Harbor's Chorus-Documentary Recordings NO!\n",
      "19\n",
      "53\n",
      "23\n",
      "39\n",
      "27\n",
      "54\n",
      "54\n",
      "50\n",
      "64\n",
      "52\n",
      "36\n",
      "44\n",
      "44\n",
      "41\n",
      "31\n",
      "Christian Castro NO!\n",
      "81\n",
      "30\n",
      "0\n",
      "45\n",
      "7\n",
      "39\n",
      "77\n",
      "55\n",
      "27\n",
      "42\n",
      "43\n",
      "47\n",
      "29\n",
      "19\n",
      "18\n",
      "66\n",
      "11\n",
      "58\n",
      "62\n",
      "61\n",
      "39\n",
      "72\n",
      "0\n",
      "20\n",
      "13\n",
      "45\n",
      "35\n",
      "74\n",
      "33\n",
      "Ray Conniff;Billy Butterfield NO!\n",
      "32\n",
      "64\n",
      "50\n",
      "2\n",
      "38\n",
      "81\n",
      "35\n",
      "4\n",
      "35\n",
      "4\n",
      "27\n",
      "42\n",
      "35\n",
      "17\n",
      "19\n",
      "21\n",
      "60\n",
      "0\n",
      "40\n",
      "29\n",
      "36\n",
      "6\n",
      "8\n",
      "47\n",
      "40\n",
      "14\n",
      "52\n",
      "40\n",
      "Diablo Swing Orchestra NO!\n",
      "John Williams NO!\n",
      "Fucked Up NO!\n",
      "3\n",
      "47\n",
      "70\n",
      "46\n",
      "6\n",
      "44\n",
      "55\n",
      "32\n",
      "27\n",
      "40\n",
      "10\n",
      "57\n",
      "4\n",
      "CPU times: user 5 µs, sys: 2 µs, total: 7 µs\n",
      "Wall time: 13.1 µs\n"
     ]
    }
   ],
   "source": [
    "import os\n",
    "import asyncio\n",
    "import aiohttp\n",
    "from spoffy.io.aiohttp import make_spotify\n",
    "from spoffy.models import Artist\n",
    "from env_vars import *\n",
    "\n",
    "\n",
    "async def get_artist(name: str) -> Artist:\n",
    "    async with aiohttp.ClientSession() as session:\n",
    "        spotify = make_spotify(session=session, client_id=CLIENT_ID, client_secret=CLIENT_SECRET)\n",
    "        await spotify.auth.authorize_client()\n",
    "        result = await spotify.search.artists(name)\n",
    "        return result.artists.items[0]\n",
    "    \n",
    "loop = asyncio.get_event_loop()\n",
    "# data = loop.run_until_complete(get_artist(retrieve_artist_list()))\n",
    "for artist in retrieve_artist_list():\n",
    "    try:\n",
    "        data = loop.run_until_complete(get_artist(artist))\n",
    "        print(data.popularity)\n",
    "    except:\n",
    "        print(artist,\"NO!\")\n",
    "%time"
   ]
  },
  {
   "cell_type": "code",
   "execution_count": 16,
   "metadata": {},
   "outputs": [],
   "source": [
    "def retrieve_artist_list():\n",
    "    artist_list = []\n",
    "    for item in song_list2[:100][\"artist\"]:\n",
    "        artist_list.append(item)\n",
    "    return artist_list"
   ]
  },
  {
   "cell_type": "code",
   "execution_count": 18,
   "metadata": {},
   "outputs": [
    {
     "name": "stdout",
     "output_type": "stream",
     "text": [
      "CPU times: user 3 µs, sys: 1e+03 ns, total: 4 µs\n",
      "Wall time: 8.34 µs\n"
     ]
    },
    {
     "ename": "NameError",
     "evalue": "name 'Artist' is not defined",
     "output_type": "error",
     "traceback": [
      "\u001b[0;31m---------------------------------------------------------------------------\u001b[0m",
      "\u001b[0;31mNameError\u001b[0m                                 Traceback (most recent call last)",
      "\u001b[0;32m<ipython-input-18-5055d3ad4eb3>\u001b[0m in \u001b[0;36m<module>\u001b[0;34m\u001b[0m\n\u001b[1;32m      1\u001b[0m \u001b[0mget_ipython\u001b[0m\u001b[0;34m(\u001b[0m\u001b[0;34m)\u001b[0m\u001b[0;34m.\u001b[0m\u001b[0mrun_line_magic\u001b[0m\u001b[0;34m(\u001b[0m\u001b[0;34m'time'\u001b[0m\u001b[0;34m,\u001b[0m \u001b[0;34m''\u001b[0m\u001b[0;34m)\u001b[0m\u001b[0;34m\u001b[0m\u001b[0;34m\u001b[0m\u001b[0m\n\u001b[1;32m      2\u001b[0m \u001b[0;34m\u001b[0m\u001b[0m\n\u001b[0;32m----> 3\u001b[0;31m \u001b[0;32masync\u001b[0m \u001b[0;32mdef\u001b[0m \u001b[0mget_artist\u001b[0m\u001b[0;34m(\u001b[0m\u001b[0mname\u001b[0m\u001b[0;34m:\u001b[0m \u001b[0mstr\u001b[0m\u001b[0;34m)\u001b[0m \u001b[0;34m->\u001b[0m \u001b[0mArtist\u001b[0m\u001b[0;34m:\u001b[0m\u001b[0;34m\u001b[0m\u001b[0;34m\u001b[0m\u001b[0m\n\u001b[0m\u001b[1;32m      4\u001b[0m     \u001b[0;32masync\u001b[0m \u001b[0;32mwith\u001b[0m \u001b[0maiohttp\u001b[0m\u001b[0;34m.\u001b[0m\u001b[0mClientSession\u001b[0m\u001b[0;34m(\u001b[0m\u001b[0;34m)\u001b[0m \u001b[0;32mas\u001b[0m \u001b[0msession\u001b[0m\u001b[0;34m:\u001b[0m\u001b[0;34m\u001b[0m\u001b[0;34m\u001b[0m\u001b[0m\n\u001b[1;32m      5\u001b[0m         \u001b[0mspotify\u001b[0m \u001b[0;34m=\u001b[0m \u001b[0mmake_spotify\u001b[0m\u001b[0;34m(\u001b[0m\u001b[0msession\u001b[0m\u001b[0;34m=\u001b[0m\u001b[0msession\u001b[0m\u001b[0;34m,\u001b[0m \u001b[0mclient_id\u001b[0m\u001b[0;34m=\u001b[0m\u001b[0mCLIENT_ID\u001b[0m\u001b[0;34m,\u001b[0m \u001b[0mclient_secret\u001b[0m\u001b[0;34m=\u001b[0m\u001b[0mCLIENT_SECRET\u001b[0m\u001b[0;34m)\u001b[0m\u001b[0;34m\u001b[0m\u001b[0;34m\u001b[0m\u001b[0m\n",
      "\u001b[0;31mNameError\u001b[0m: name 'Artist' is not defined"
     ]
    }
   ],
   "source": [
    "%time \n",
    "\n",
    "async def get_artist(name: str) -> Artist:\n",
    "    async with aiohttp.ClientSession() as session:\n",
    "        spotify = make_spotify(session=session, client_id=CLIENT_ID, client_secret=CLIENT_SECRET)\n",
    "        await spotify.auth.authorize_client()\n",
    "        result = await spotify.search.artists(name)\n",
    "        return result.artists.items[0]\n",
    "\n",
    "\n",
    "\n",
    "loop = asyncio.get_event_loop()\n",
    "# data = loop.run_until_complete(get_artist(retrieve_artist_list()))\n",
    "artists = []\n",
    "for artist in retrieve_artist_list():\n",
    "    try:\n",
    "        data = loop.run_until_complete(get_artist(artist))\n",
    "        artists.append(data)\n",
    "    except:\n",
    "        print(\"nopes!\")"
   ]
  },
  {
   "cell_type": "code",
   "execution_count": null,
   "metadata": {},
   "outputs": [],
   "source": [
    "feature_list = []\n",
    "conn = create_table(tablename)\n",
    "for entry,row in get_df().head(rownumbers).iterrows():\n",
    "    f = {}\n",
    "    artist = row[\"artist\"]\n",
    "    track = row[\"track\"]\n",
    "    spotifyid = get_spotify_id(artist,track)"
   ]
  }
 ],
 "metadata": {
  "kernelspec": {
   "display_name": "sss",
   "language": "python",
   "name": "sss"
  },
  "language_info": {
   "codemirror_mode": {
    "name": "ipython",
    "version": 3
   },
   "file_extension": ".py",
   "mimetype": "text/x-python",
   "name": "python",
   "nbconvert_exporter": "python",
   "pygments_lexer": "ipython3",
   "version": "3.7.4"
  }
 },
 "nbformat": 4,
 "nbformat_minor": 4
}
