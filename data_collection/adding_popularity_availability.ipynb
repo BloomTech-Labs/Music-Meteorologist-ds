{
 "cells": [
  {
   "cell_type": "code",
   "execution_count": 1,
   "metadata": {},
   "outputs": [],
   "source": [
    "from sqlalchemy import create_engine\n",
    "import spotipy\n",
    "from spotipy.oauth2 import SpotifyClientCredentials\n",
    "from env_vars import *\n",
    "import pandas as pd\n",
    "import sqlite3\n",
    "from sqlalchemy import engine\n",
    "import pickle\n",
    "import numpy as np"
   ]
  },
  {
   "cell_type": "code",
   "execution_count": 2,
   "metadata": {},
   "outputs": [],
   "source": [
    "def authorize():\n",
    "    client_credentials_manager = SpotifyClientCredentials(client_id=CLIENT_ID,client_secret=CLIENT_SECRET)\n",
    "    sp = spotipy.Spotify(client_credentials_manager=client_credentials_manager)\n",
    "    \n",
    "client_credentials_manager = SpotifyClientCredentials(client_id=CLIENT_ID,client_secret=CLIENT_SECRET)\n",
    "sp = spotipy.Spotify(client_credentials_manager=client_credentials_manager)\n",
    "\n",
    "def get_features(trackID):\n",
    "        return sp.audio_features(trackID)[0]\n",
    "\n",
    "def get_popularity(trackID):\n",
    "    return sp.track(trackID)['popularity']\n",
    "\n",
    "# def get_markets(trackID):\n",
    "#     foo = sp.track(trackID)['available_markets']\n",
    "#     if foo != None:\n",
    "#         return 1\n",
    "#     else:\n",
    "#         return 0"
   ]
  },
  {
   "cell_type": "code",
   "execution_count": 3,
   "metadata": {},
   "outputs": [],
   "source": [
    "def get_markets(trackID):\n",
    "    foo = sp.track(trackID)['available_markets']\n",
    "    if foo != []:\n",
    "        return 1\n",
    "    else:\n",
    "        return 0"
   ]
  },
  {
   "cell_type": "code",
   "execution_count": 16,
   "metadata": {},
   "outputs": [],
   "source": [
    "con = sqlite3.connect(\"song_list_v3_raw.db\")"
   ]
  },
  {
   "cell_type": "code",
   "execution_count": 17,
   "metadata": {},
   "outputs": [],
   "source": [
    "# Load the data into a DataFrame\n",
    "X = pd.read_sql_query(\"SELECT * from songs\", con)\n",
    "con.close()"
   ]
  },
  {
   "cell_type": "code",
   "execution_count": 5,
   "metadata": {},
   "outputs": [],
   "source": [
    "X = pickle.load( open( \"./final_data/DF_v4.pkl\", \"rb\"))"
   ]
  },
  {
   "cell_type": "code",
   "execution_count": 6,
   "metadata": {},
   "outputs": [
    {
     "data": {
      "text/html": [
       "<div>\n",
       "<style scoped>\n",
       "    .dataframe tbody tr th:only-of-type {\n",
       "        vertical-align: middle;\n",
       "    }\n",
       "\n",
       "    .dataframe tbody tr th {\n",
       "        vertical-align: top;\n",
       "    }\n",
       "\n",
       "    .dataframe thead th {\n",
       "        text-align: right;\n",
       "    }\n",
       "</style>\n",
       "<table border=\"1\" class=\"dataframe\">\n",
       "  <thead>\n",
       "    <tr style=\"text-align: right;\">\n",
       "      <th></th>\n",
       "      <th>acousticness</th>\n",
       "      <th>artist</th>\n",
       "      <th>danceability</th>\n",
       "      <th>duration_ms</th>\n",
       "      <th>energy</th>\n",
       "      <th>instrumentalness</th>\n",
       "      <th>key</th>\n",
       "      <th>liveness</th>\n",
       "      <th>loudness</th>\n",
       "      <th>mode</th>\n",
       "      <th>songid</th>\n",
       "      <th>speechiness</th>\n",
       "      <th>tempo</th>\n",
       "      <th>time_signature</th>\n",
       "      <th>track</th>\n",
       "      <th>valence</th>\n",
       "      <th>genres</th>\n",
       "      <th>genres_stripped</th>\n",
       "      <th>tokens</th>\n",
       "    </tr>\n",
       "  </thead>\n",
       "  <tbody>\n",
       "    <tr>\n",
       "      <th>0</th>\n",
       "      <td>0.001300</td>\n",
       "      <td>Karkkiautomaatti</td>\n",
       "      <td>0.487</td>\n",
       "      <td>157307.0</td>\n",
       "      <td>0.678</td>\n",
       "      <td>0.055100</td>\n",
       "      <td>9.0</td>\n",
       "      <td>0.0846</td>\n",
       "      <td>-7.780</td>\n",
       "      <td>1.0</td>\n",
       "      <td>5PS5dpaLogPzYU9hWiWyZb</td>\n",
       "      <td>0.0495</td>\n",
       "      <td>149.940</td>\n",
       "      <td>4.0</td>\n",
       "      <td>Tanssi vaan</td>\n",
       "      <td>0.870</td>\n",
       "      <td>['finnish indie', 'suomi rock']</td>\n",
       "      <td>'finnish indie', 'suomi rock'</td>\n",
       "      <td>[['finnish, indie',, 'suomi, rock']]</td>\n",
       "    </tr>\n",
       "    <tr>\n",
       "      <th>1</th>\n",
       "      <td>0.000045</td>\n",
       "      <td>Hudson Mohawke</td>\n",
       "      <td>0.662</td>\n",
       "      <td>138960.0</td>\n",
       "      <td>0.823</td>\n",
       "      <td>0.952000</td>\n",
       "      <td>4.0</td>\n",
       "      <td>0.3430</td>\n",
       "      <td>-1.711</td>\n",
       "      <td>0.0</td>\n",
       "      <td>41RpZW2lxAdnqDd2nMBzLQ</td>\n",
       "      <td>0.0662</td>\n",
       "      <td>177.745</td>\n",
       "      <td>4.0</td>\n",
       "      <td>No One Could Ever</td>\n",
       "      <td>0.621</td>\n",
       "      <td>['bass music', 'scottish electronic', 'scottis...</td>\n",
       "      <td>'bass music', 'scottish electronic', 'scottish...</td>\n",
       "      <td>[['bass, music',, 'scottish, electronic',, 'sc...</td>\n",
       "    </tr>\n",
       "    <tr>\n",
       "      <th>2</th>\n",
       "      <td>0.002760</td>\n",
       "      <td>Kris Kross</td>\n",
       "      <td>0.859</td>\n",
       "      <td>221200.0</td>\n",
       "      <td>0.741</td>\n",
       "      <td>0.000000</td>\n",
       "      <td>11.0</td>\n",
       "      <td>0.3250</td>\n",
       "      <td>-12.329</td>\n",
       "      <td>0.0</td>\n",
       "      <td>3GsS8jzoixpCnp4jDWCEvb</td>\n",
       "      <td>0.2710</td>\n",
       "      <td>98.082</td>\n",
       "      <td>4.0</td>\n",
       "      <td>2 Da Beat Ch'yall</td>\n",
       "      <td>0.529</td>\n",
       "      <td>['hip hop', 'new jack swing', 'rap']</td>\n",
       "      <td>'hip hop', 'new jack swing', 'rap'</td>\n",
       "      <td>[['hip, hop',, 'new, jack, swing',, 'rap']]</td>\n",
       "    </tr>\n",
       "    <tr>\n",
       "      <th>3</th>\n",
       "      <td>0.348000</td>\n",
       "      <td>Jorge Negrete</td>\n",
       "      <td>0.361</td>\n",
       "      <td>173573.0</td>\n",
       "      <td>0.483</td>\n",
       "      <td>0.000003</td>\n",
       "      <td>7.0</td>\n",
       "      <td>0.1770</td>\n",
       "      <td>-6.875</td>\n",
       "      <td>1.0</td>\n",
       "      <td>0kq75szR7uDEYrZkT2c4Ry</td>\n",
       "      <td>0.0287</td>\n",
       "      <td>94.538</td>\n",
       "      <td>4.0</td>\n",
       "      <td>El hijo del pueblo</td>\n",
       "      <td>0.682</td>\n",
       "      <td>['bolero', 'mariachi', 'ranchera']</td>\n",
       "      <td>'bolero', 'mariachi', 'ranchera'</td>\n",
       "      <td>[['bolero',, 'mariachi',, 'ranchera']]</td>\n",
       "    </tr>\n",
       "    <tr>\n",
       "      <th>4</th>\n",
       "      <td>0.340000</td>\n",
       "      <td>Tiger Lou</td>\n",
       "      <td>0.533</td>\n",
       "      <td>318467.0</td>\n",
       "      <td>0.302</td>\n",
       "      <td>0.179000</td>\n",
       "      <td>10.0</td>\n",
       "      <td>0.1110</td>\n",
       "      <td>-10.308</td>\n",
       "      <td>1.0</td>\n",
       "      <td>2HyFpkX9J7vv3OZNDaraHZ</td>\n",
       "      <td>0.0307</td>\n",
       "      <td>134.959</td>\n",
       "      <td>3.0</td>\n",
       "      <td>Pilots</td>\n",
       "      <td>0.294</td>\n",
       "      <td>['swedish indie rock']</td>\n",
       "      <td>'swedish indie rock'</td>\n",
       "      <td>[['swedish, indie, rock']]</td>\n",
       "    </tr>\n",
       "  </tbody>\n",
       "</table>\n",
       "</div>"
      ],
      "text/plain": [
       "   acousticness            artist  danceability  duration_ms  energy  \\\n",
       "0      0.001300  Karkkiautomaatti         0.487     157307.0   0.678   \n",
       "1      0.000045    Hudson Mohawke         0.662     138960.0   0.823   \n",
       "2      0.002760        Kris Kross         0.859     221200.0   0.741   \n",
       "3      0.348000     Jorge Negrete         0.361     173573.0   0.483   \n",
       "4      0.340000         Tiger Lou         0.533     318467.0   0.302   \n",
       "\n",
       "   instrumentalness   key  liveness  loudness  mode                  songid  \\\n",
       "0          0.055100   9.0    0.0846    -7.780   1.0  5PS5dpaLogPzYU9hWiWyZb   \n",
       "1          0.952000   4.0    0.3430    -1.711   0.0  41RpZW2lxAdnqDd2nMBzLQ   \n",
       "2          0.000000  11.0    0.3250   -12.329   0.0  3GsS8jzoixpCnp4jDWCEvb   \n",
       "3          0.000003   7.0    0.1770    -6.875   1.0  0kq75szR7uDEYrZkT2c4Ry   \n",
       "4          0.179000  10.0    0.1110   -10.308   1.0  2HyFpkX9J7vv3OZNDaraHZ   \n",
       "\n",
       "   speechiness    tempo  time_signature               track  valence  \\\n",
       "0       0.0495  149.940             4.0         Tanssi vaan    0.870   \n",
       "1       0.0662  177.745             4.0   No One Could Ever    0.621   \n",
       "2       0.2710   98.082             4.0   2 Da Beat Ch'yall    0.529   \n",
       "3       0.0287   94.538             4.0  El hijo del pueblo    0.682   \n",
       "4       0.0307  134.959             3.0              Pilots    0.294   \n",
       "\n",
       "                                              genres  \\\n",
       "0                    ['finnish indie', 'suomi rock']   \n",
       "1  ['bass music', 'scottish electronic', 'scottis...   \n",
       "2               ['hip hop', 'new jack swing', 'rap']   \n",
       "3                 ['bolero', 'mariachi', 'ranchera']   \n",
       "4                             ['swedish indie rock']   \n",
       "\n",
       "                                     genres_stripped  \\\n",
       "0                      'finnish indie', 'suomi rock'   \n",
       "1  'bass music', 'scottish electronic', 'scottish...   \n",
       "2                 'hip hop', 'new jack swing', 'rap'   \n",
       "3                   'bolero', 'mariachi', 'ranchera'   \n",
       "4                               'swedish indie rock'   \n",
       "\n",
       "                                              tokens  \n",
       "0               [['finnish, indie',, 'suomi, rock']]  \n",
       "1  [['bass, music',, 'scottish, electronic',, 'sc...  \n",
       "2        [['hip, hop',, 'new, jack, swing',, 'rap']]  \n",
       "3             [['bolero',, 'mariachi',, 'ranchera']]  \n",
       "4                         [['swedish, indie, rock']]  "
      ]
     },
     "execution_count": 6,
     "metadata": {},
     "output_type": "execute_result"
    }
   ],
   "source": [
    "X.head()"
   ]
  },
  {
   "cell_type": "code",
   "execution_count": 18,
   "metadata": {},
   "outputs": [],
   "source": [
    "X = X.drop('level_0', axis=1)"
   ]
  },
  {
   "cell_type": "code",
   "execution_count": 19,
   "metadata": {},
   "outputs": [
    {
     "data": {
      "text/html": [
       "<div>\n",
       "<style scoped>\n",
       "    .dataframe tbody tr th:only-of-type {\n",
       "        vertical-align: middle;\n",
       "    }\n",
       "\n",
       "    .dataframe tbody tr th {\n",
       "        vertical-align: top;\n",
       "    }\n",
       "\n",
       "    .dataframe thead th {\n",
       "        text-align: right;\n",
       "    }\n",
       "</style>\n",
       "<table border=\"1\" class=\"dataframe\">\n",
       "  <thead>\n",
       "    <tr style=\"text-align: right;\">\n",
       "      <th></th>\n",
       "      <th>index</th>\n",
       "      <th>acousticness</th>\n",
       "      <th>artist</th>\n",
       "      <th>danceability</th>\n",
       "      <th>duration_ms</th>\n",
       "      <th>energy</th>\n",
       "      <th>instrumentalness</th>\n",
       "      <th>key</th>\n",
       "      <th>liveness</th>\n",
       "      <th>loudness</th>\n",
       "      <th>mode</th>\n",
       "      <th>songid</th>\n",
       "      <th>speechiness</th>\n",
       "      <th>tempo</th>\n",
       "      <th>time_signature</th>\n",
       "      <th>track</th>\n",
       "      <th>valence</th>\n",
       "      <th>genres</th>\n",
       "      <th>popularity</th>\n",
       "      <th>availability</th>\n",
       "    </tr>\n",
       "  </thead>\n",
       "  <tbody>\n",
       "    <tr>\n",
       "      <th>0</th>\n",
       "      <td>0</td>\n",
       "      <td>0.0013</td>\n",
       "      <td>Karkkiautomaatti</td>\n",
       "      <td>0.487</td>\n",
       "      <td>157307.0</td>\n",
       "      <td>0.678</td>\n",
       "      <td>0.0551</td>\n",
       "      <td>9.0</td>\n",
       "      <td>0.0846</td>\n",
       "      <td>-7.78</td>\n",
       "      <td>1.0</td>\n",
       "      <td>5PS5dpaLogPzYU9hWiWyZb</td>\n",
       "      <td>0.0495</td>\n",
       "      <td>149.94</td>\n",
       "      <td>4.0</td>\n",
       "      <td>Tanssi vaan</td>\n",
       "      <td>0.87</td>\n",
       "      <td>['finnish indie', 'suomi rock']</td>\n",
       "      <td>0</td>\n",
       "      <td>1</td>\n",
       "    </tr>\n",
       "  </tbody>\n",
       "</table>\n",
       "</div>"
      ],
      "text/plain": [
       "   index  acousticness            artist  danceability  duration_ms  energy  \\\n",
       "0      0        0.0013  Karkkiautomaatti         0.487     157307.0   0.678   \n",
       "\n",
       "   instrumentalness  key  liveness  loudness  mode                  songid  \\\n",
       "0            0.0551  9.0    0.0846     -7.78   1.0  5PS5dpaLogPzYU9hWiWyZb   \n",
       "\n",
       "   speechiness   tempo  time_signature        track  valence  \\\n",
       "0       0.0495  149.94             4.0  Tanssi vaan     0.87   \n",
       "\n",
       "                            genres popularity availability  \n",
       "0  ['finnish indie', 'suomi rock']          0            1  "
      ]
     },
     "execution_count": 19,
     "metadata": {},
     "output_type": "execute_result"
    }
   ],
   "source": [
    "X.head(1)"
   ]
  },
  {
   "cell_type": "code",
   "execution_count": 20,
   "metadata": {},
   "outputs": [
    {
     "data": {
      "text/plain": [
       "(0, 0, 0.0013, 'Karkkiautomaatti', 0.487, 157307.0, 0.678, 0.0551, 9.0, 0.0846, -7.78, 1.0, '5PS5dpaLogPzYU9hWiWyZb', 0.0495, 149.94, 4.0, 'Tanssi vaan', 0.87, \"['finnish indie', 'suomi rock']\", '0', '1')"
      ]
     },
     "execution_count": 20,
     "metadata": {},
     "output_type": "execute_result"
    }
   ],
   "source": [
    "engine = create_engine('sqlite:///song_list_v3_22.db', echo=False)\n",
    "X.to_sql('songs', con=engine)\n",
    "engine.execute('SELECT * FROM songs;').fetchone()"
   ]
  },
  {
   "cell_type": "code",
   "execution_count": 8,
   "metadata": {
    "scrolled": true
   },
   "outputs": [
    {
     "name": "stdout",
     "output_type": "stream",
     "text": [
      "retrying ...1secs\n",
      "retrying ...2secs\n",
      "retrying ...3secs\n"
     ]
    }
   ],
   "source": [
    "markets_list = []\n",
    "for row_index in X['songid'][0:1000]:\n",
    "    songid = row_index\n",
    "#     #print(songid)\n",
    "#     popularity = get_popularity(songid)\n",
    "#     #print(popularity)\n",
    "    markets = get_markets(songid)\n",
    "    markets_list.append(markets)\n",
    "#     #print(markets)\n",
    "#     try:\n",
    "#         engine.execute(f'UPDATE songs SET popularity = \"{popularity}\", availability = \"{markets}\" WHERE songid = \\\"{songid}\\\"')\n",
    "#         authorize()\n",
    "#     except:\n",
    "#         print(f\"couldn't insert {markets} or {popularity} into table\")\n",
    "#         continue"
   ]
  },
  {
   "cell_type": "code",
   "execution_count": 9,
   "metadata": {},
   "outputs": [
    {
     "data": {
      "text/plain": [
       "1000"
      ]
     },
     "execution_count": 9,
     "metadata": {},
     "output_type": "execute_result"
    }
   ],
   "source": [
    "len(markets_list)"
   ]
  },
  {
   "cell_type": "code",
   "execution_count": 10,
   "metadata": {},
   "outputs": [
    {
     "data": {
      "text/plain": [
       "984"
      ]
     },
     "execution_count": 10,
     "metadata": {},
     "output_type": "execute_result"
    }
   ],
   "source": [
    "markets_list.count(1) "
   ]
  },
  {
   "cell_type": "code",
   "execution_count": 12,
   "metadata": {},
   "outputs": [
    {
     "data": {
      "text/plain": [
       "1.016260162601626"
      ]
     },
     "execution_count": 12,
     "metadata": {},
     "output_type": "execute_result"
    }
   ],
   "source": [
    "1000 / 984"
   ]
  },
  {
   "cell_type": "code",
   "execution_count": null,
   "metadata": {},
   "outputs": [],
   "source": []
  }
 ],
 "metadata": {
  "kernelspec": {
   "display_name": "data_collection",
   "language": "python",
   "name": "data_collection"
  },
  "language_info": {
   "codemirror_mode": {
    "name": "ipython",
    "version": 3
   },
   "file_extension": ".py",
   "mimetype": "text/x-python",
   "name": "python",
   "nbconvert_exporter": "python",
   "pygments_lexer": "ipython3",
   "version": "3.7.4"
  }
 },
 "nbformat": 4,
 "nbformat_minor": 4
}
