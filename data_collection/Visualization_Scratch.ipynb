{
 "cells": [
  {
   "cell_type": "code",
   "execution_count": 1,
   "metadata": {},
   "outputs": [
    {
     "ename": "SyntaxError",
     "evalue": "invalid syntax (<ipython-input-1-a78361a27bba>, line 27)",
     "output_type": "error",
     "traceback": [
      "\u001b[0;36m  File \u001b[0;32m\"<ipython-input-1-a78361a27bba>\"\u001b[0;36m, line \u001b[0;32m27\u001b[0m\n\u001b[0;31m    ax.text(x=-0.5, y=features[0]+0.05, s=f'{np.round(df.loc[id, 'loudness'], 1)} dB', fontsize=12)\u001b[0m\n\u001b[0m                                                                         ^\u001b[0m\n\u001b[0;31mSyntaxError\u001b[0m\u001b[0;31m:\u001b[0m invalid syntax\n"
     ]
    }
   ],
   "source": [
    "def make_visualization(id, df):\n",
    "\timport numpy as np\n",
    "\timport pandas as pd\n",
    "\timport matplotlib.pyplot as plt\n",
    "\tfrom scipy.stats import percentileofscore\n",
    "\t\n",
    "\tkey_notation = {0: 'C', 1: 'C-sharp', 2: 'D', 3: 'D-sharp',\n",
    "                4: 'E', 5: 'F', 6: 'F-sharp', 7: 'G', 8: 'G-sharp',\n",
    "                9: 'A', 10: 'B-flat', 11: 'B'}\n",
    "\tmode_notation = {0: 'Minor', 1: 'Major'}\n",
    "\n",
    "\tdf2 = df.drop(['id', 'artist', 'track', 'loudness', 'tempo'], axis=1)\n",
    "\tloudness = percentileofscore(df['loudness'], df.loc[id, 'loudness']) / 100\n",
    "\ttempo = percentileofscore(df['tempo'], df.loc[id, 'tempo']) / 100\n",
    "\tfeatures = [loudness, tempo]\n",
    "\tfor column in df2.columns:\n",
    "\t    features.append(df2.loc[id, column])\n",
    "    \n",
    "\tfig, ax = plt.subplots()\n",
    "\tfig.set_size_inches(10,5)\n",
    "\tax.bar(x=np.arange(9), height=features)\n",
    "\tax.set_ylim(0,1)\n",
    "\tax.set_xticks(np.arange(9))\n",
    "\tax.set_xticklabels(['loudness', 'tempo'] + df2.columns.tolist(), rotation=45)\n",
    "\tax.set_yticks([0, 0.5, 1])\n",
    "\tax.set_yticklabels(['Low', 'Medium', 'High'])\n",
    "\tax.text(x=-0.5, y=features[0]+0.05, s=f'{np.round(df.loc[id, 'loudness'], 1)} dB', fontsize=12)\n",
    "\tax.text(x=0.6, y=features[1]+0.05, s=f'{df.loc[id, 'tempo']} BPM', fontsize=12)\n",
    "\tax.text(x=3, y=0.9, s=f'Pitch: {key_notation[df.loc[id, 'key']]} {mode_notation[df.loc[id, 'mode']}',\n",
    "        \tfontsize=12)\n",
    "\tax.text(x=3, y=0.8, s=f'Time signature: {int(df.loc[id, 'time_signature'])} / 4', fontsize=12)\n",
    "\tax.text(x=3, y=0.7, s=f'Duration: {np.round(df.loc[id, 'duration_ms'] / 3600, 2)} minutes', fontsize=12)\n",
    "\t\n",
    "\treturn fig, ax"
   ]
  },
  {
   "cell_type": "code",
   "execution_count": 5,
   "metadata": {},
   "outputs": [
    {
     "data": {
      "image/png": "[encoded data removed]",
      "text/plain": [
       "<Figure size 432x288 with 1 Axes>"
      ]
     },
     "metadata": {
      "needs_background": "light"
     },
     "output_type": "display_data"
    }
   ],
   "source": [
    "import matplotlib.pyplot as plt\n",
    "import numpy as np\n",
    "\n",
    "t = np.arange(0.0, 2.0, 0.01)\n",
    "s = 1 + np.sin(2*np.pi*t)\n",
    "plt.plot(t, s)\n",
    "\n",
    "plt.xlabel('time (s)')\n",
    "plt.ylabel('voltage (mV)')\n",
    "plt.title('About as simple as it gets, folks')\n",
    "plt.grid(True)\n",
    "plt.savefig(f\"./images/{id}.png\")\n",
    "plt.show()"
   ]
  },
  {
   "cell_type": "code",
   "execution_count": 11,
   "metadata": {},
   "outputs": [],
   "source": [
    "import pandas as pd\n",
    "\n",
    "song_list = pd.read_csv(\"./song_list5.csv\")"
   ]
  },
  {
   "cell_type": "code",
   "execution_count": 12,
   "metadata": {},
   "outputs": [],
   "source": [
    "df = song_list.reset_index()"
   ]
  },
  {
   "cell_type": "code",
   "execution_count": 17,
   "metadata": {},
   "outputs": [],
   "source": [
    "df = df.rename(columns={\"index\": \"id\"})"
   ]
  },
  {
   "cell_type": "code",
   "execution_count": 22,
   "metadata": {},
   "outputs": [
    {
     "data": {
      "text/html": [
       "<div>\n",
       "<style scoped>\n",
       "    .dataframe tbody tr th:only-of-type {\n",
       "        vertical-align: middle;\n",
       "    }\n",
       "\n",
       "    .dataframe tbody tr th {\n",
       "        vertical-align: top;\n",
       "    }\n",
       "\n",
       "    .dataframe thead th {\n",
       "        text-align: right;\n",
       "    }\n",
       "</style>\n",
       "<table border=\"1\" class=\"dataframe\">\n",
       "  <thead>\n",
       "    <tr style=\"text-align: right;\">\n",
       "      <th></th>\n",
       "      <th>id</th>\n",
       "      <th>songid</th>\n",
       "      <th>artist</th>\n",
       "      <th>track</th>\n",
       "      <th>danceability</th>\n",
       "      <th>energy</th>\n",
       "      <th>key</th>\n",
       "      <th>loudness</th>\n",
       "      <th>mode</th>\n",
       "      <th>speechiness</th>\n",
       "      <th>acousticness</th>\n",
       "      <th>instrumentalness</th>\n",
       "      <th>liveness</th>\n",
       "      <th>valence</th>\n",
       "      <th>tempo</th>\n",
       "      <th>duration_ms</th>\n",
       "      <th>time_signature</th>\n",
       "    </tr>\n",
       "  </thead>\n",
       "  <tbody>\n",
       "    <tr>\n",
       "      <th>0</th>\n",
       "      <td>0</td>\n",
       "      <td>5X4Qm0rVLcZeeO4tSDmBg3</td>\n",
       "      <td>Jack Bruce</td>\n",
       "      <td>Running Thro' Our Hands</td>\n",
       "      <td>0.456</td>\n",
       "      <td>0.255</td>\n",
       "      <td>9.0</td>\n",
       "      <td>-15.805</td>\n",
       "      <td>1.0</td>\n",
       "      <td>0.0480</td>\n",
       "      <td>0.94600</td>\n",
       "      <td>0.170000</td>\n",
       "      <td>0.951</td>\n",
       "      <td>0.0532</td>\n",
       "      <td>116.424</td>\n",
       "      <td>253067.0</td>\n",
       "      <td>4.0</td>\n",
       "    </tr>\n",
       "    <tr>\n",
       "      <th>1</th>\n",
       "      <td>1</td>\n",
       "      <td>1pNpt53PZPet9dvJN3RKGr</td>\n",
       "      <td>Prefuse 73</td>\n",
       "      <td>Parachute Panador</td>\n",
       "      <td>0.535</td>\n",
       "      <td>0.806</td>\n",
       "      <td>7.0</td>\n",
       "      <td>-10.289</td>\n",
       "      <td>1.0</td>\n",
       "      <td>0.0642</td>\n",
       "      <td>0.00436</td>\n",
       "      <td>0.019100</td>\n",
       "      <td>0.457</td>\n",
       "      <td>0.3760</td>\n",
       "      <td>90.089</td>\n",
       "      <td>63733.0</td>\n",
       "      <td>4.0</td>\n",
       "    </tr>\n",
       "    <tr>\n",
       "      <th>2</th>\n",
       "      <td>2</td>\n",
       "      <td>3oxz2oCzAWdPzA6In2zA5u</td>\n",
       "      <td>Pasion Vega</td>\n",
       "      <td>La Gata Bajo La Lluvia</td>\n",
       "      <td>0.294</td>\n",
       "      <td>0.482</td>\n",
       "      <td>5.0</td>\n",
       "      <td>-6.406</td>\n",
       "      <td>1.0</td>\n",
       "      <td>0.0430</td>\n",
       "      <td>0.46300</td>\n",
       "      <td>0.000000</td>\n",
       "      <td>0.335</td>\n",
       "      <td>0.2040</td>\n",
       "      <td>166.693</td>\n",
       "      <td>255280.0</td>\n",
       "      <td>3.0</td>\n",
       "    </tr>\n",
       "    <tr>\n",
       "      <th>3</th>\n",
       "      <td>3</td>\n",
       "      <td>05JGVUwt7XJk5FPqH0Wsch</td>\n",
       "      <td>Jonny Lang</td>\n",
       "      <td>Walking Away</td>\n",
       "      <td>0.563</td>\n",
       "      <td>0.631</td>\n",
       "      <td>0.0</td>\n",
       "      <td>-5.144</td>\n",
       "      <td>1.0</td>\n",
       "      <td>0.0324</td>\n",
       "      <td>0.06350</td>\n",
       "      <td>0.000008</td>\n",
       "      <td>0.163</td>\n",
       "      <td>0.5400</td>\n",
       "      <td>115.657</td>\n",
       "      <td>254827.0</td>\n",
       "      <td>4.0</td>\n",
       "    </tr>\n",
       "    <tr>\n",
       "      <th>4</th>\n",
       "      <td>4</td>\n",
       "      <td>3xdgCFMTn6ut8fZYxfAuR0</td>\n",
       "      <td>Skye</td>\n",
       "      <td>All the Promises</td>\n",
       "      <td>0.358</td>\n",
       "      <td>0.611</td>\n",
       "      <td>2.0</td>\n",
       "      <td>-9.752</td>\n",
       "      <td>0.0</td>\n",
       "      <td>0.0454</td>\n",
       "      <td>0.51500</td>\n",
       "      <td>0.000468</td>\n",
       "      <td>0.149</td>\n",
       "      <td>0.1640</td>\n",
       "      <td>171.596</td>\n",
       "      <td>256933.0</td>\n",
       "      <td>4.0</td>\n",
       "    </tr>\n",
       "  </tbody>\n",
       "</table>\n",
       "</div>"
      ],
      "text/plain": [
       "   id                  songid       artist                    track  \\\n",
       "0   0  5X4Qm0rVLcZeeO4tSDmBg3   Jack Bruce  Running Thro' Our Hands   \n",
       "1   1  1pNpt53PZPet9dvJN3RKGr   Prefuse 73        Parachute Panador   \n",
       "2   2  3oxz2oCzAWdPzA6In2zA5u  Pasion Vega   La Gata Bajo La Lluvia   \n",
       "3   3  05JGVUwt7XJk5FPqH0Wsch   Jonny Lang             Walking Away   \n",
       "4   4  3xdgCFMTn6ut8fZYxfAuR0         Skye         All the Promises   \n",
       "\n",
       "   danceability  energy  key  loudness  mode  speechiness  acousticness  \\\n",
       "0         0.456   0.255  9.0   -15.805   1.0       0.0480       0.94600   \n",
       "1         0.535   0.806  7.0   -10.289   1.0       0.0642       0.00436   \n",
       "2         0.294   0.482  5.0    -6.406   1.0       0.0430       0.46300   \n",
       "3         0.563   0.631  0.0    -5.144   1.0       0.0324       0.06350   \n",
       "4         0.358   0.611  2.0    -9.752   0.0       0.0454       0.51500   \n",
       "\n",
       "   instrumentalness  liveness  valence    tempo  duration_ms  time_signature  \n",
       "0          0.170000     0.951   0.0532  116.424     253067.0             4.0  \n",
       "1          0.019100     0.457   0.3760   90.089      63733.0             4.0  \n",
       "2          0.000000     0.335   0.2040  166.693     255280.0             3.0  \n",
       "3          0.000008     0.163   0.5400  115.657     254827.0             4.0  \n",
       "4          0.000468     0.149   0.1640  171.596     256933.0             4.0  "
      ]
     },
     "execution_count": 22,
     "metadata": {},
     "output_type": "execute_result"
    }
   ],
   "source": [
    "df.head()"
   ]
  },
  {
   "cell_type": "code",
   "execution_count": 27,
   "metadata": {},
   "outputs": [],
   "source": [
    "def make_visualization(id, df):\n",
    "    import numpy as np\n",
    "    import pandas as pd\n",
    "    import matplotlib.pyplot as plt\n",
    "    from scipy.stats import percentileofscore\n",
    "    key_notation = {0: 'C', 1: 'C-sharp', 2: 'D', 3: 'D-sharp',\n",
    "                4: 'E', 5: 'F', 6: 'F-sharp', 7: 'G', 8: 'G-sharp',\n",
    "                9: 'A', 10: 'B-flat', 11: 'B'}\n",
    "    mode_notation = {0: 'Minor', 1: 'Major'}\n",
    "    df2 = df.drop(['id', 'artist', 'track', 'loudness', 'tempo', 'key', 'mode', 'time_signature', 'duration_ms','songid'], axis=1)\n",
    "    loudness = percentileofscore(df['loudness'], df.loc[id, 'loudness']) / 100\n",
    "    tempo = percentileofscore(df['tempo'], df.loc[id, 'tempo']) / 100\n",
    "    features = [loudness, tempo]\n",
    "    for column in df2.columns:\n",
    "        features.append(df2.loc[id, column])\n",
    "    \n",
    "    fig, ax = plt.subplots()\n",
    "    fig.set_size_inches(10,5)\n",
    "    ax.bar(x=np.arange(9), height=features)\n",
    "    ax.set_ylim(0,1)\n",
    "    ax.set_xticks(np.arange(9))\n",
    "    ax.set_xticklabels(['loudness', 'tempo'] + df2.columns.tolist(), rotation=45)\n",
    "    ax.set_yticks([0, 0.5, 1])\n",
    "    ax.set_yticklabels(['Low', 'Medium', 'High'])\n",
    "    ax.text(x=-0.4, y=features[0]+0.05, s=f'{np.round(df.loudness[id], 1)} dB',\n",
    "            fontsize=12, color='r', fontweight='bold')\n",
    "    ax.text(x=0.6, y=features[1]+0.05, s=f'{np.round(df.tempo[id], 2)} BPM',\n",
    "            fontsize=12, color='r', fontweight='bold')\n",
    "    ax.text(x=3, y=0.9, s=f\"Pitch: {key_notation[df.loc[id, 'key']]} {mode_notation[df.loc[id, 'mode']]}\",\n",
    "            fontsize=12, color='r', fontweight='bold')\n",
    "    ax.text(x=3, y=0.8, s=f'Time signature: {int(df.time_signature[id])} / 4',\n",
    "            fontsize=12, color='r', fontweight='bold')\n",
    "    ax.text(x=3, y=0.7, s=f'Duration: {np.round(df.duration_ms[id] / 3600, 2)} minutes',\n",
    "            fontsize=12, color='r', fontweight='bold')\n",
    "    plt.savefig(f\"./images/{id}.png\")"
   ]
  },
  {
   "cell_type": "code",
   "execution_count": 28,
   "metadata": {},
   "outputs": [
    {
     "data": {
      "image/png": "[encoded data removed]",
      "text/plain": [
       "<Figure size 720x360 with 1 Axes>"
      ]
     },
     "metadata": {
      "needs_background": "light"
     },
     "output_type": "display_data"
    }
   ],
   "source": [
    "make_visualization(1,df)"
   ]
  },
  {
   "cell_type": "code",
   "execution_count": 29,
   "metadata": {},
   "outputs": [],
   "source": [
    "df.to_pickle(\"./for_images.pkl\")"
   ]
  }
 ],
 "metadata": {
  "kernelspec": {
   "display_name": "sss",
   "language": "python",
   "name": "sss"
  },
  "language_info": {
   "codemirror_mode": {
    "name": "ipython",
    "version": 3
   },
   "file_extension": ".py",
   "mimetype": "text/x-python",
   "name": "python",
   "nbconvert_exporter": "python",
   "pygments_lexer": "ipython3",
   "version": "3.7.4"
  }
 },
 "nbformat": 4,
 "nbformat_minor": 4
}
