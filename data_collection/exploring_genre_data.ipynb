{
 "cells": [
  {
   "cell_type": "code",
   "execution_count": 18,
   "metadata": {},
   "outputs": [],
   "source": [
    "import pandas as pd\n",
    "import pickle\n",
    "import numpy as np\n",
    "import seaborn as sns\n",
    "import re"
   ]
  },
  {
   "cell_type": "code",
   "execution_count": 5,
   "metadata": {},
   "outputs": [],
   "source": [
    "df = pd.read_pickle('./final_data/DF_v3.pkl')"
   ]
  },
  {
   "cell_type": "code",
   "execution_count": 28,
   "metadata": {},
   "outputs": [],
   "source": [
    "def extract_all_genres():\n",
    "    all_genres = []\n",
    "    for genre_list in df[\"genres\"][0:4]:\n",
    "        genre_list = genre_list.split(\",\")\n",
    "        print(genre_list)\n",
    "#         for genre in genre_list:\n",
    "#             genre = genre.strip(\"[\",)\n",
    "#             genre = genre.strip(\"]\",)\n",
    "#             genre = genre.strip()\n",
    "#             all_genres.append(genre)\n",
    "#     return all_genres"
   ]
  },
  {
   "cell_type": "code",
   "execution_count": 30,
   "metadata": {},
   "outputs": [
    {
     "name": "stdout",
     "output_type": "stream",
     "text": [
      "[\"['finnish indie'\", \" 'suomi rock']\"]\n",
      "[\"['bass music'\", \" 'scottish electronic'\", \" 'scottish hip hop'\", \" 'uk experimental electronic'\", \" 'wonky']\"]\n",
      "[\"['hip hop'\", \" 'new jack swing'\", \" 'rap']\"]\n",
      "[\"['bolero'\", \" 'mariachi'\", \" 'ranchera']\"]\n"
     ]
    }
   ],
   "source": [
    "extract_all_genres()"
   ]
  },
  {
   "cell_type": "code",
   "execution_count": 7,
   "metadata": {},
   "outputs": [],
   "source": [
    "all_genres = extract_all_genres()"
   ]
  },
  {
   "cell_type": "code",
   "execution_count": 9,
   "metadata": {},
   "outputs": [],
   "source": [
    "df_genres = pd.DataFrame(all_genres,columns=['genres'])"
   ]
  },
  {
   "cell_type": "code",
   "execution_count": 10,
   "metadata": {},
   "outputs": [
    {
     "data": {
      "text/html": [
       "<div>\n",
       "<style scoped>\n",
       "    .dataframe tbody tr th:only-of-type {\n",
       "        vertical-align: middle;\n",
       "    }\n",
       "\n",
       "    .dataframe tbody tr th {\n",
       "        vertical-align: top;\n",
       "    }\n",
       "\n",
       "    .dataframe thead th {\n",
       "        text-align: right;\n",
       "    }\n",
       "</style>\n",
       "<table border=\"1\" class=\"dataframe\">\n",
       "  <thead>\n",
       "    <tr style=\"text-align: right;\">\n",
       "      <th></th>\n",
       "      <th>genres</th>\n",
       "    </tr>\n",
       "  </thead>\n",
       "  <tbody>\n",
       "    <tr>\n",
       "      <th>0</th>\n",
       "      <td>'finnish indie'</td>\n",
       "    </tr>\n",
       "    <tr>\n",
       "      <th>1</th>\n",
       "      <td>'suomi rock'</td>\n",
       "    </tr>\n",
       "    <tr>\n",
       "      <th>2</th>\n",
       "      <td>'bass music'</td>\n",
       "    </tr>\n",
       "    <tr>\n",
       "      <th>3</th>\n",
       "      <td>'scottish electronic'</td>\n",
       "    </tr>\n",
       "    <tr>\n",
       "      <th>4</th>\n",
       "      <td>'scottish hip hop'</td>\n",
       "    </tr>\n",
       "  </tbody>\n",
       "</table>\n",
       "</div>"
      ],
      "text/plain": [
       "                  genres\n",
       "0        'finnish indie'\n",
       "1           'suomi rock'\n",
       "2           'bass music'\n",
       "3  'scottish electronic'\n",
       "4     'scottish hip hop'"
      ]
     },
     "execution_count": 10,
     "metadata": {},
     "output_type": "execute_result"
    }
   ],
   "source": [
    "df_genres.head()"
   ]
  },
  {
   "cell_type": "code",
   "execution_count": 39,
   "metadata": {},
   "outputs": [
    {
     "data": {
      "text/plain": [
       "Index([''rock'', ''mellow gold'', ''dance pop'', ''country rock'',\n",
       "       ''soft rock'', ''alternative rock'', ''classic rock'',\n",
       "       ''adult standards'', ''new wave pop'', ''folk rock'',\n",
       "       ...\n",
       "       ''psalmen'', ''orthodox chant'', ''bard'', ''recorder'', ''viola'',\n",
       "       ''thai folk pop'', ''spanish renaissance'', ''greek trap'',\n",
       "       ''tunisian pop'', ''maloya''],\n",
       "      dtype='object', length=3488)"
      ]
     },
     "execution_count": 39,
     "metadata": {},
     "output_type": "execute_result"
    }
   ],
   "source": [
    "df_genres[\"genres\"].value_counts().index"
   ]
  },
  {
   "cell_type": "markdown",
   "metadata": {},
   "source": [
    "# Attempting Tokenization Approach for Genre Similarity Analysis"
   ]
  },
  {
   "cell_type": "code",
   "execution_count": 76,
   "metadata": {},
   "outputs": [],
   "source": [
    "def tokenize(text):\n",
    "    \"\"\"Parses a string into a list of semantic units (words)\n",
    "\n",
    "    Args:\n",
    "        text (str): The string that the function will tokenize.\n",
    "\n",
    "    Returns:\n",
    "        list: tokens parsed out by the mechanics of your choice\n",
    "    \"\"\"\n",
    "    \n",
    "    tokens = re.sub(r'[^a-zA-Z ^0-9]', '', text)\n",
    "    tokens = text.strip('\"')\n",
    "    tokens = text.strip(\"'\")\n",
    "    tokens = tokens.split(\" \")\n",
    "    return tokens"
   ]
  },
  {
   "cell_type": "code",
   "execution_count": 78,
   "metadata": {},
   "outputs": [
    {
     "name": "stdout",
     "output_type": "stream",
     "text": [
      "['rock']\n",
      "['mellow', 'gold']\n",
      "['dance', 'pop']\n",
      "['country', 'rock']\n",
      "['soft', 'rock']\n",
      "['alternative', 'rock']\n",
      "['classic', 'rock']\n",
      "['adult', 'standards']\n",
      "['new', 'wave', 'pop']\n",
      "['folk', 'rock']\n",
      "['dance', 'rock']\n",
      "['folk']\n",
      "['album', 'rock']\n",
      "['hip', 'hop']\n",
      "['rap']\n",
      "['hard', 'rock']\n",
      "['pop']\n",
      "['art', 'rock']\n",
      "['metal']\n",
      "['classical']\n"
     ]
    }
   ],
   "source": [
    "for genre in df_genres[\"genres\"].value_counts().index[0:20]:\n",
    "    print(tokenize(genre))"
   ]
  },
  {
   "cell_type": "code",
   "execution_count": 79,
   "metadata": {},
   "outputs": [],
   "source": [
    "df['tokens'] = df['genres'].apply(tokenize)"
   ]
  },
  {
   "cell_type": "code",
   "execution_count": 82,
   "metadata": {},
   "outputs": [
    {
     "data": {
      "text/plain": [
       "[(\"rock',\", 225680),\n",
       " (\"pop',\", 137038),\n",
       " (\"metal',\", 101594),\n",
       " (\"rock']\", 65397),\n",
       " ('hip', 51488),\n",
       " (\"hop',\", 50171),\n",
       " (\"'new\", 45628),\n",
       " (\"pop']\", 44803),\n",
       " (\"blues',\", 33378),\n",
       " (\"['alternative\", 33336)]"
      ]
     },
     "execution_count": 82,
     "metadata": {},
     "output_type": "execute_result"
    }
   ],
   "source": [
    "# Object from Base Python\n",
    "from collections import Counter\n",
    "\n",
    "# The object `Counter` takes an iterable, but you can instaniate an empty one and update it. \n",
    "word_counts = Counter()\n",
    "\n",
    "# Update it based on a split of each of our documents\n",
    "df['tokens'].apply(lambda x: word_counts.update(x))\n",
    "\n",
    "# Print out the 10 most common words\n",
    "word_counts.most_common(10)"
   ]
  },
  {
   "cell_type": "code",
   "execution_count": null,
   "metadata": {},
   "outputs": [],
   "source": []
  }
 ],
 "metadata": {
  "kernelspec": {
   "display_name": "U4-S1-NLP",
   "language": "python",
   "name": "u4-s1-nlp"
  },
  "language_info": {
   "codemirror_mode": {
    "name": "ipython",
    "version": 3
   },
   "file_extension": ".py",
   "mimetype": "text/x-python",
   "name": "python",
   "nbconvert_exporter": "python",
   "pygments_lexer": "ipython3",
   "version": "3.7.4"
  }
 },
 "nbformat": 4,
 "nbformat_minor": 4
}
