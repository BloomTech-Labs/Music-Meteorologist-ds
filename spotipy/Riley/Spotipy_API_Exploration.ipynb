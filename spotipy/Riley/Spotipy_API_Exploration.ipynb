{
 "cells": [
  {
   "cell_type": "code",
   "execution_count": 7,
   "metadata": {},
   "outputs": [],
   "source": [
    "# !export SPOTIPY_CLIENT_ID='63594c9b2f99411a8cbd18df04851fc4'"
   ]
  },
  {
   "cell_type": "code",
   "execution_count": 8,
   "metadata": {},
   "outputs": [],
   "source": [
    "# !export SPOTIPY_CLIENT_SECRET='096168b2bd1f4378ae410726955c9ed8'"
   ]
  },
  {
   "cell_type": "code",
   "execution_count": 9,
   "metadata": {},
   "outputs": [],
   "source": [
    "# !export SPOTIPY_REDIRECT_URI='https://www.google.com/'"
   ]
  },
  {
   "cell_type": "code",
   "execution_count": 15,
   "metadata": {},
   "outputs": [
    {
     "name": "stdout",
     "output_type": "stream",
     "text": [
      "/bin/sh: SPOTIPY_CLIENT_ID: command not found\n"
     ]
    }
   ],
   "source": [
    "# ! SPOTIPY_CLIENT_ID"
   ]
  },
  {
   "cell_type": "code",
   "execution_count": 1,
   "metadata": {},
   "outputs": [
    {
     "name": "stdout",
     "output_type": "stream",
     "text": [
      "\n",
      "\n",
      "            User authentication requires interaction with your\n",
      "            web browser. Once you enter your credentials and\n",
      "            give authorization, you will be redirected to\n",
      "            a url.  Paste that url you were directed to to\n",
      "            complete the authorization.\n",
      "\n",
      "        \n",
      "Opened https://accounts.spotify.com/authorize?client_id=47c4f0d3dcaa433c9ef4ec6686e5b1f1&response_type=code&redirect_uri=https%3A%2F%2Fgoogle.com%2F&scope=user-library-read in your browser\n",
      "\n",
      "\n"
     ]
    },
    {
     "name": "stdin",
     "output_type": "stream",
     "text": [
      "Enter the URL you were redirected to:  https://www.google.com/?code=AQAEMZcklsSbobPiepMUvp-vdBXPFDXLin62_svWsD1jkHjVyOKXbn7EgnWY8-ZltxkFPb1HpOyJQXfMMzm5UBiS5tEqR5XhiPiW8RKUsb8guW1mLTP6C0VfmyRnjJGCQ8eT4m-s4oLvWn31F-L7PE_4iJZdIeyGX76zDPZPEf6qk4KWxUeHZ2tf0Nj86sJrFY_snUyGw5DgYM65\n"
     ]
    },
    {
     "name": "stdout",
     "output_type": "stream",
     "text": [
      "\n",
      "\n"
     ]
    },
    {
     "data": {
      "text/plain": [
       "'BQC-rkIS_d4ayUqDGJ4tqzQNEO5MCK4z-Mcs66TMcnMFKp58ScJhuQKy1gqRXqkgcesVQNnEy3DPBpQBLMO7ClzONag3AHYW_egb3ngAdfu6ORq88KQnWFjYKNTMTfuIJ_ZCImoiSb5MsP6U1-7JLKkf9zK9gw'"
      ]
     },
     "execution_count": 1,
     "metadata": {},
     "output_type": "execute_result"
    }
   ],
   "source": [
    "import os\n",
    "import sys\n",
    "import json\n",
    "import spotipy\n",
    "import webbrowser\n",
    "import spotipy.util as util\n",
    "from json.decoder import JSONDecodeError\n",
    "\n",
    "USERNAME = 'rileypence4' #your spotify username\n",
    "CLIENT_ID = '47c4f0d3dcaa433c9ef4ec6686e5b1f1' #set at your developer account\n",
    "CLIENT_SECRET = '65812a5fb52b4a3486f59ec672d499ff' #set at your developer account\n",
    "REDIRECT_URI = 'https://google.com/' #set at your developer account, usually \"http://localhost:8000\"\n",
    "SCOPE = 'user-library-read' # or else\n",
    "# ps. REDIRECT_URI is crucial here. if http://localhost:8000 is not set, or with a single '/' misplaced, it will generate a connection error.\n",
    "\n",
    "# then pass them:\n",
    "\n",
    "token = util.prompt_for_user_token(username = USERNAME, \n",
    "                                   scope = SCOPE, \n",
    "                                   client_id = CLIENT_ID, \n",
    "                                   client_secret = CLIENT_SECRET, \n",
    "                                   redirect_uri = REDIRECT_URI)\n",
    "\n",
    "token\n",
    "\n",
    "# if token:\n",
    "#    sp = spotipy.Spotify(auth=token)"
   ]
  },
  {
   "cell_type": "code",
   "execution_count": 4,
   "metadata": {},
   "outputs": [
    {
     "name": "stdout",
     "output_type": "stream",
     "text": [
      "Give Me A Reason - Hurshel\n",
      "2MHuNy7E66luj3tjmLbXUr\n",
      "Lazy River - The Mills Brothers\n",
      "2QEj9jE13oz8bnZABUAlDI\n",
      "Together - Element Six\n",
      "3cfiHXIkMjftWTkmNic8zm\n",
      "I Want You Back - Berry Gordy\n",
      "5Ysbm2Ee2V0TH7tQtAaYMN\n",
      "Jurassic Park Theme - John Williams\n",
      "5F6nH9kNbB48FusY2hFH01\n",
      "Fathers' Eyes - The Piano Guys\n",
      "12sBT9hQ7GE9X72Nbem1ty\n",
      "Soffia La Notte - Night Breaths - Fabrizio Paterlini\n",
      "7Jkje7JNbeulTOCmYGiXYS\n",
      "Berceuse (Scaled Down Version) - Lo Mimieux\n",
      "73xaHditQrP92Sia1pVvom\n"
     ]
    }
   ],
   "source": [
    "\n",
    "sp = spotipy.Spotify(auth=token)\n",
    "results = sp.current_user_saved_tracks()\n",
    "for item in results['items']:\n",
    "    track = item['track']\n",
    "    song_id = item['track']['id']\n",
    "    print (track['name'] + ' - ' + track['artists'][0]['name'])\n",
    "    print (song_id)"
   ]
  },
  {
   "cell_type": "code",
   "execution_count": 15,
   "metadata": {
    "scrolled": true
   },
   "outputs": [
    {
     "data": {
      "text/plain": [
       "'2MHuNy7E66luj3tjmLbXUr'"
      ]
     },
     "execution_count": 15,
     "metadata": {},
     "output_type": "execute_result"
    }
   ],
   "source": [
    "results['items'][0]['track']['id']"
   ]
  },
  {
   "cell_type": "code",
   "execution_count": 16,
   "metadata": {},
   "outputs": [],
   "source": [
    "def get_id(token):\n",
    "    sp = spotipy.Spotify(auth=token)\n",
    "    results = sp.current_user_saved_tracks()\n",
    "    song_id = results['items'][0]['track']['id']\n",
    "    return song_id"
   ]
  },
  {
   "cell_type": "code",
   "execution_count": 17,
   "metadata": {},
   "outputs": [
    {
     "data": {
      "text/plain": [
       "'2MHuNy7E66luj3tjmLbXUr'"
      ]
     },
     "execution_count": 17,
     "metadata": {},
     "output_type": "execute_result"
    }
   ],
   "source": [
    "get_id('BQC-rkIS_d4ayUqDGJ4tqzQNEO5MCK4z-Mcs66TMcnMFKp58ScJhuQKy1gqRXqkgcesVQNnEy3DPBpQBLMO7ClzONag3AHYW_egb3ngAdfu6ORq88KQnWFjYKNTMTfuIJ_ZCImoiSb5MsP6U1-7JLKkf9zK9gw')"
   ]
  },
  {
   "cell_type": "code",
   "execution_count": 39,
   "metadata": {},
   "outputs": [],
   "source": [
    "def get_features(song_id):\n",
    "    results_dict = sp.audio_features(song_id)[0]\n",
    "    audio_features = {\"audio_features\":{key: results_dict[key] for key in results_dict.keys() & {'danceability', 'energy',\n",
    "                                                                                                'key', 'loudness', 'mode',\n",
    "                                                                                                'speechiness', 'acousticness',\n",
    "                                                                                                'instrumentalness', 'liveness',\n",
    "                                                                                                'valence', 'tempo', 'time_signature'}}}\n",
    "        \n",
    "    return audio_features"
   ]
  },
  {
   "cell_type": "code",
   "execution_count": 43,
   "metadata": {},
   "outputs": [
    {
     "data": {
      "text/plain": [
       "{'audio_features': {'key': 1,\n",
       "  'instrumentalness': 0,\n",
       "  'time_signature': 4,\n",
       "  'energy': 0.608,\n",
       "  'liveness': 0.353,\n",
       "  'danceability': 0.386,\n",
       "  'mode': 0,\n",
       "  'acousticness': 0.38,\n",
       "  'tempo': 179.802,\n",
       "  'loudness': -4.564,\n",
       "  'valence': 0.388,\n",
       "  'speechiness': 0.0528}}"
      ]
     },
     "execution_count": 43,
     "metadata": {},
     "output_type": "execute_result"
    }
   ],
   "source": [
    "get_features(get_id('BQC-rkIS_d4ayUqDGJ4tqzQNEO5MCK4z-Mcs66TMcnMFKp58ScJhuQKy1gqRXqkgcesVQNnEy3DPBpQBLMO7ClzONag3AHYW_egb3ngAdfu6ORq88KQnWFjYKNTMTfuIJ_ZCImoiSb5MsP6U1-7JLKkf9zK9gw'))"
   ]
  },
  {
   "cell_type": "code",
   "execution_count": 42,
   "metadata": {},
   "outputs": [
    {
     "ename": "IndentationError",
     "evalue": "unexpected indent (<ipython-input-42-d24569ca5071>, line 2)",
     "output_type": "error",
     "traceback": [
      "\u001b[1;36m  File \u001b[1;32m\"<ipython-input-42-d24569ca5071>\"\u001b[1;36m, line \u001b[1;32m2\u001b[0m\n\u001b[1;33m    audio_features = {\"audio_features\":{key: results_dict[key] for key in results_dict.keys() & {'danceability', 'energy',\u001b[0m\n\u001b[1;37m    ^\u001b[0m\n\u001b[1;31mIndentationError\u001b[0m\u001b[1;31m:\u001b[0m unexpected indent\n"
     ]
    }
   ],
   "source": [
    "results_dict = sp.audio_features('BQC-rkIS_d4ayUqDGJ4tqzQNEO5MCK4z-Mcs66TMcnMFKp58ScJhuQKy1gqRXqkgcesVQNnEy3DPBpQBLMO7ClzONag3AHYW_egb3ngAdfu6ORq88KQnWFjYKNTMTfuIJ_ZCImoiSb5MsP6U1-7JLKkf9zK9gw')[0]\n",
    "    audio_features = {\"audio_features\":{key: results_dict[key] for key in results_dict.keys() & {'danceability', 'energy',\n",
    "                                                                                                'key', 'loudness', 'mode',\n",
    "                                                                                                'speechiness', 'acousticness',\n",
    "                                                                                                'instrumentalness', 'liveness',\n",
    "                                                                                                'valence', 'tempo', 'time_signature'}}}"
   ]
  },
  {
   "cell_type": "code",
   "execution_count": null,
   "metadata": {},
   "outputs": [],
   "source": [
    "# results = sp.search()\n",
    "\n",
    "# q=artist%3Aqueen%20track%3Awe%20will%20rock%20you\n",
    "\n",
    "# name = \"Queen We Will Rock You\"\n",
    "artist = \"Queen\"\n",
    "track = \"We Will Rock You\"\n",
    "# query = f'q=artist:{artist}%20track:{track}&type=album'\n",
    "results = sp.search(q='artist:' + artist + ' ' + 'track:' + track, type='track')\n",
    "# results = sp.search(q='artist:' + name, type='track')\n",
    "# results = sp.search(q=name, type='track')\n",
    "results\n",
    "# items = results['artists']['items']\n",
    "# if len(items) > 0:\n",
    "#     artist = items[0]\n",
    "#     print(artist['name'], artist['images'][0]['url'])"
   ]
  },
  {
   "cell_type": "code",
   "execution_count": 108,
   "metadata": {},
   "outputs": [],
   "source": [
    "# query=artist%3Aqueen+track%3Awe+will+rock+you&type=track&offset=0&limit=20\""
   ]
  },
  {
   "cell_type": "code",
   "execution_count": 109,
   "metadata": {},
   "outputs": [
    {
     "data": {
      "text/plain": [
       "'54flyrjcdnQdco7300avMJ'"
      ]
     },
     "execution_count": 109,
     "metadata": {},
     "output_type": "execute_result"
    }
   ],
   "source": [
    "results[\"tracks\"][\"items\"][0][\"id\"]"
   ]
  },
  {
   "cell_type": "code",
   "execution_count": 20,
   "metadata": {},
   "outputs": [
    {
     "name": "stdout",
     "output_type": "stream",
     "text": [
      "danceability 0.693\n",
      "energy 0.497\n",
      "key 2\n",
      "loudness -7.316\n",
      "mode 1\n",
      "speechiness 0.119\n",
      "acousticness 0.679\n",
      "instrumentalness 0\n",
      "liveness 0.258\n",
      "valence 0.473\n",
      "tempo 81.308\n",
      "type audio_features\n",
      "id 54flyrjcdnQdco7300avMJ\n",
      "uri spotify:track:54flyrjcdnQdco7300avMJ\n",
      "track_href https://api.spotify.com/v1/tracks/54flyrjcdnQdco7300avMJ\n",
      "analysis_url https://api.spotify.com/v1/audio-analysis/54flyrjcdnQdco7300avMJ\n",
      "duration_ms 122067\n",
      "time_signature 4\n"
     ]
    }
   ],
   "source": [
    "for k,v in sp.audio_features('54flyrjcdnQdco7300avMJ')[0].items():\n",
    "    print(k,v)"
   ]
  },
  {
   "cell_type": "code",
   "execution_count": 41,
   "metadata": {},
   "outputs": [
    {
     "data": {
      "text/plain": [
       "{'audio_features': {'key': 2,\n",
       "  'instrumentalness': 0,\n",
       "  'time_signature': 4,\n",
       "  'energy': 0.497,\n",
       "  'liveness': 0.258,\n",
       "  'danceability': 0.693,\n",
       "  'mode': 1,\n",
       "  'acousticness': 0.679,\n",
       "  'tempo': 81.308,\n",
       "  'loudness': -7.316,\n",
       "  'valence': 0.473,\n",
       "  'speechiness': 0.119}}"
      ]
     },
     "execution_count": 41,
     "metadata": {},
     "output_type": "execute_result"
    }
   ],
   "source": [
    "test_dict = sp.audio_features('54flyrjcdnQdco7300avMJ')[0]\n",
    "{\"audio_features\":{key: test_dict[key] for key in test_dict.keys() & {'danceability', 'energy',\n",
    "                                                                      'key', 'loudness', 'mode',\n",
    "                                                                      'speechiness', 'acousticness',\n",
    "                                                                      'instrumentalness', 'liveness',\n",
    "                                                                      'valence', 'tempo', 'time_signature'}}}\n"
   ]
  },
  {
   "cell_type": "code",
   "execution_count": 79,
   "metadata": {},
   "outputs": [],
   "source": [
    "import pandas as pd\n",
    "\n",
    "song_list = pd.read_pickle(\"./song_list.pkl\")"
   ]
  },
  {
   "cell_type": "code",
   "execution_count": 80,
   "metadata": {},
   "outputs": [
    {
     "data": {
      "text/html": [
       "<div>\n",
       "<style scoped>\n",
       "    .dataframe tbody tr th:only-of-type {\n",
       "        vertical-align: middle;\n",
       "    }\n",
       "\n",
       "    .dataframe tbody tr th {\n",
       "        vertical-align: top;\n",
       "    }\n",
       "\n",
       "    .dataframe thead th {\n",
       "        text-align: right;\n",
       "    }\n",
       "</style>\n",
       "<table border=\"1\" class=\"dataframe\">\n",
       "  <thead>\n",
       "    <tr style=\"text-align: right;\">\n",
       "      <th></th>\n",
       "      <th>0</th>\n",
       "      <th>1</th>\n",
       "      <th>2</th>\n",
       "      <th>3</th>\n",
       "    </tr>\n",
       "  </thead>\n",
       "  <tbody>\n",
       "    <tr>\n",
       "      <th>0</th>\n",
       "      <td>TRMMMYQ128F932D901</td>\n",
       "      <td>SOQMMHC12AB0180CB8</td>\n",
       "      <td>Faster Pussy cat</td>\n",
       "      <td>Silent Night</td>\n",
       "    </tr>\n",
       "    <tr>\n",
       "      <th>1</th>\n",
       "      <td>TRMMMKD128F425225D</td>\n",
       "      <td>SOVFVAK12A8C1350D9</td>\n",
       "      <td>Karkkiautomaatti</td>\n",
       "      <td>Tanssi vaan</td>\n",
       "    </tr>\n",
       "    <tr>\n",
       "      <th>2</th>\n",
       "      <td>TRMMMRX128F93187D9</td>\n",
       "      <td>SOGTUKN12AB017F4F1</td>\n",
       "      <td>Hudson Mohawke</td>\n",
       "      <td>No One Could Ever</td>\n",
       "    </tr>\n",
       "    <tr>\n",
       "      <th>3</th>\n",
       "      <td>TRMMMCH128F425532C</td>\n",
       "      <td>SOBNYVR12A8C13558C</td>\n",
       "      <td>Yerba Brava</td>\n",
       "      <td>Si Vos Querés</td>\n",
       "    </tr>\n",
       "    <tr>\n",
       "      <th>4</th>\n",
       "      <td>TRMMMWA128F426B589</td>\n",
       "      <td>SOHSBXH12A8C13B0DF</td>\n",
       "      <td>Der Mystic</td>\n",
       "      <td>Tangle Of Aspens</td>\n",
       "    </tr>\n",
       "  </tbody>\n",
       "</table>\n",
       "</div>"
      ],
      "text/plain": [
       "                    0                   1                 2                  3\n",
       "0  TRMMMYQ128F932D901  SOQMMHC12AB0180CB8  Faster Pussy cat       Silent Night\n",
       "1  TRMMMKD128F425225D  SOVFVAK12A8C1350D9  Karkkiautomaatti        Tanssi vaan\n",
       "2  TRMMMRX128F93187D9  SOGTUKN12AB017F4F1    Hudson Mohawke  No One Could Ever\n",
       "3  TRMMMCH128F425532C  SOBNYVR12A8C13558C       Yerba Brava      Si Vos Querés\n",
       "4  TRMMMWA128F426B589  SOHSBXH12A8C13B0DF        Der Mystic   Tangle Of Aspens"
      ]
     },
     "execution_count": 80,
     "metadata": {},
     "output_type": "execute_result"
    }
   ],
   "source": [
    "song_list.head()"
   ]
  },
  {
   "cell_type": "code",
   "execution_count": 82,
   "metadata": {},
   "outputs": [],
   "source": [
    "song_list = song_list.drop([0,1], axis=1)"
   ]
  },
  {
   "cell_type": "code",
   "execution_count": 83,
   "metadata": {},
   "outputs": [
    {
     "data": {
      "text/html": [
       "<div>\n",
       "<style scoped>\n",
       "    .dataframe tbody tr th:only-of-type {\n",
       "        vertical-align: middle;\n",
       "    }\n",
       "\n",
       "    .dataframe tbody tr th {\n",
       "        vertical-align: top;\n",
       "    }\n",
       "\n",
       "    .dataframe thead th {\n",
       "        text-align: right;\n",
       "    }\n",
       "</style>\n",
       "<table border=\"1\" class=\"dataframe\">\n",
       "  <thead>\n",
       "    <tr style=\"text-align: right;\">\n",
       "      <th></th>\n",
       "      <th>2</th>\n",
       "      <th>3</th>\n",
       "    </tr>\n",
       "  </thead>\n",
       "  <tbody>\n",
       "    <tr>\n",
       "      <th>0</th>\n",
       "      <td>Faster Pussy cat</td>\n",
       "      <td>Silent Night</td>\n",
       "    </tr>\n",
       "    <tr>\n",
       "      <th>1</th>\n",
       "      <td>Karkkiautomaatti</td>\n",
       "      <td>Tanssi vaan</td>\n",
       "    </tr>\n",
       "    <tr>\n",
       "      <th>2</th>\n",
       "      <td>Hudson Mohawke</td>\n",
       "      <td>No One Could Ever</td>\n",
       "    </tr>\n",
       "    <tr>\n",
       "      <th>3</th>\n",
       "      <td>Yerba Brava</td>\n",
       "      <td>Si Vos Querés</td>\n",
       "    </tr>\n",
       "    <tr>\n",
       "      <th>4</th>\n",
       "      <td>Der Mystic</td>\n",
       "      <td>Tangle Of Aspens</td>\n",
       "    </tr>\n",
       "  </tbody>\n",
       "</table>\n",
       "</div>"
      ],
      "text/plain": [
       "                  2                  3\n",
       "0  Faster Pussy cat       Silent Night\n",
       "1  Karkkiautomaatti        Tanssi vaan\n",
       "2    Hudson Mohawke  No One Could Ever\n",
       "3       Yerba Brava      Si Vos Querés\n",
       "4        Der Mystic   Tangle Of Aspens"
      ]
     },
     "execution_count": 83,
     "metadata": {},
     "output_type": "execute_result"
    }
   ],
   "source": [
    "song_list.head()"
   ]
  },
  {
   "cell_type": "code",
   "execution_count": null,
   "metadata": {},
   "outputs": [],
   "source": [
    "{'danceability': 0.693,\n",
    " 'energy': 0.497,\n",
    " 'key': 2,\n",
    " 'loudness': -7.316,\n",
    " 'mode': 1,\n",
    " 'speechiness': 0.119,\n",
    " 'acousticness': 0.679,\n",
    " 'instrumentalness': 0,\n",
    " 'liveness': 0.258,\n",
    " 'valence': 0.473,\n",
    " 'tempo': 81.308,\n",
    " 'type': 'audio_features',\n",
    " 'id': '54flyrjcdnQdco7300avMJ',\n",
    " 'uri': 'spotify:track:54flyrjcdnQdco7300avMJ',\n",
    " 'track_href': 'https://api.spotify.com/v1/tracks/54flyrjcdnQdco7300avMJ',\n",
    " 'analysis_url': 'https://api.spotify.com/v1/audio-analysis/54flyrjcdnQdco7300avMJ',\n",
    " 'duration_ms': 122067,\n",
    " 'time_signature': 4}"
   ]
  }
 ],
 "metadata": {
  "kernelspec": {
   "display_name": "spotipy_test",
   "language": "python",
   "name": "spotipy_test"
  },
  "language_info": {
   "codemirror_mode": {
    "name": "ipython",
    "version": 3
   },
   "file_extension": ".py",
   "mimetype": "text/x-python",
   "name": "python",
   "nbconvert_exporter": "python",
   "pygments_lexer": "ipython3",
   "version": "3.7.4"
  }
 },
 "nbformat": 4,
 "nbformat_minor": 4
}
