{
 "cells": [
  {
   "cell_type": "code",
   "execution_count": 1,
   "metadata": {},
   "outputs": [],
   "source": [
    "import pandas as pd\n",
    "import numpy as np\n",
    "import pickle"
   ]
  },
  {
   "cell_type": "code",
   "execution_count": 16,
   "metadata": {},
   "outputs": [],
   "source": [
    "df = pickle.load(open(\"/Users/user/Documents/GitHub/Lambda/labs/Music-Meteorologist-ds/model_notebooks/data/song_list_v5_hashed.pkl\",\"rb\"))"
   ]
  },
  {
   "cell_type": "code",
   "execution_count": 17,
   "metadata": {},
   "outputs": [
    {
     "data": {
      "text/html": [
       "<div>\n",
       "<style scoped>\n",
       "    .dataframe tbody tr th:only-of-type {\n",
       "        vertical-align: middle;\n",
       "    }\n",
       "\n",
       "    .dataframe tbody tr th {\n",
       "        vertical-align: top;\n",
       "    }\n",
       "\n",
       "    .dataframe thead th {\n",
       "        text-align: right;\n",
       "    }\n",
       "</style>\n",
       "<table border=\"1\" class=\"dataframe\">\n",
       "  <thead>\n",
       "    <tr style=\"text-align: right;\">\n",
       "      <th></th>\n",
       "      <th>songid</th>\n",
       "      <th>popularity</th>\n",
       "      <th>acousticness</th>\n",
       "      <th>artist</th>\n",
       "      <th>danceability</th>\n",
       "      <th>duration_ms</th>\n",
       "      <th>energy</th>\n",
       "      <th>instrumentalness</th>\n",
       "      <th>key</th>\n",
       "      <th>liveness</th>\n",
       "      <th>...</th>\n",
       "      <th>40</th>\n",
       "      <th>41</th>\n",
       "      <th>42</th>\n",
       "      <th>43</th>\n",
       "      <th>44</th>\n",
       "      <th>45</th>\n",
       "      <th>46</th>\n",
       "      <th>47</th>\n",
       "      <th>48</th>\n",
       "      <th>49</th>\n",
       "    </tr>\n",
       "  </thead>\n",
       "  <tbody>\n",
       "    <tr>\n",
       "      <th>0</th>\n",
       "      <td>5PS5dpaLogPzYU9hWiWyZb</td>\n",
       "      <td>0</td>\n",
       "      <td>0.001300</td>\n",
       "      <td>Karkkiautomaatti</td>\n",
       "      <td>0.487</td>\n",
       "      <td>157307.0</td>\n",
       "      <td>0.678</td>\n",
       "      <td>0.055100</td>\n",
       "      <td>9.0</td>\n",
       "      <td>0.0846</td>\n",
       "      <td>...</td>\n",
       "      <td>0.0</td>\n",
       "      <td>-1.0</td>\n",
       "      <td>1.0</td>\n",
       "      <td>2.0</td>\n",
       "      <td>-3.0</td>\n",
       "      <td>0.0</td>\n",
       "      <td>0.0</td>\n",
       "      <td>0.0</td>\n",
       "      <td>0.0</td>\n",
       "      <td>-2.0</td>\n",
       "    </tr>\n",
       "    <tr>\n",
       "      <th>1</th>\n",
       "      <td>41RpZW2lxAdnqDd2nMBzLQ</td>\n",
       "      <td>15</td>\n",
       "      <td>0.000045</td>\n",
       "      <td>Hudson Mohawke</td>\n",
       "      <td>0.662</td>\n",
       "      <td>138960.0</td>\n",
       "      <td>0.823</td>\n",
       "      <td>0.952000</td>\n",
       "      <td>4.0</td>\n",
       "      <td>0.3430</td>\n",
       "      <td>...</td>\n",
       "      <td>0.0</td>\n",
       "      <td>-4.0</td>\n",
       "      <td>5.0</td>\n",
       "      <td>7.0</td>\n",
       "      <td>-4.0</td>\n",
       "      <td>-1.0</td>\n",
       "      <td>0.0</td>\n",
       "      <td>0.0</td>\n",
       "      <td>0.0</td>\n",
       "      <td>-7.0</td>\n",
       "    </tr>\n",
       "    <tr>\n",
       "      <th>2</th>\n",
       "      <td>3GsS8jzoixpCnp4jDWCEvb</td>\n",
       "      <td>17</td>\n",
       "      <td>0.002760</td>\n",
       "      <td>Kris Kross</td>\n",
       "      <td>0.859</td>\n",
       "      <td>221200.0</td>\n",
       "      <td>0.741</td>\n",
       "      <td>0.000000</td>\n",
       "      <td>11.0</td>\n",
       "      <td>0.3250</td>\n",
       "      <td>...</td>\n",
       "      <td>0.0</td>\n",
       "      <td>-3.0</td>\n",
       "      <td>0.0</td>\n",
       "      <td>1.0</td>\n",
       "      <td>-2.0</td>\n",
       "      <td>-1.0</td>\n",
       "      <td>0.0</td>\n",
       "      <td>0.0</td>\n",
       "      <td>0.0</td>\n",
       "      <td>-1.0</td>\n",
       "    </tr>\n",
       "    <tr>\n",
       "      <th>3</th>\n",
       "      <td>0kq75szR7uDEYrZkT2c4Ry</td>\n",
       "      <td>21</td>\n",
       "      <td>0.348000</td>\n",
       "      <td>Jorge Negrete</td>\n",
       "      <td>0.361</td>\n",
       "      <td>173573.0</td>\n",
       "      <td>0.483</td>\n",
       "      <td>0.000003</td>\n",
       "      <td>7.0</td>\n",
       "      <td>0.1770</td>\n",
       "      <td>...</td>\n",
       "      <td>0.0</td>\n",
       "      <td>-2.0</td>\n",
       "      <td>1.0</td>\n",
       "      <td>2.0</td>\n",
       "      <td>-1.0</td>\n",
       "      <td>2.0</td>\n",
       "      <td>0.0</td>\n",
       "      <td>0.0</td>\n",
       "      <td>0.0</td>\n",
       "      <td>0.0</td>\n",
       "    </tr>\n",
       "    <tr>\n",
       "      <th>4</th>\n",
       "      <td>2HyFpkX9J7vv3OZNDaraHZ</td>\n",
       "      <td>1</td>\n",
       "      <td>0.340000</td>\n",
       "      <td>Tiger Lou</td>\n",
       "      <td>0.533</td>\n",
       "      <td>318467.0</td>\n",
       "      <td>0.302</td>\n",
       "      <td>0.179000</td>\n",
       "      <td>10.0</td>\n",
       "      <td>0.1110</td>\n",
       "      <td>...</td>\n",
       "      <td>0.0</td>\n",
       "      <td>0.0</td>\n",
       "      <td>0.0</td>\n",
       "      <td>1.0</td>\n",
       "      <td>-1.0</td>\n",
       "      <td>0.0</td>\n",
       "      <td>0.0</td>\n",
       "      <td>0.0</td>\n",
       "      <td>0.0</td>\n",
       "      <td>-2.0</td>\n",
       "    </tr>\n",
       "  </tbody>\n",
       "</table>\n",
       "<p>5 rows × 69 columns</p>\n",
       "</div>"
      ],
      "text/plain": [
       "                   songid popularity  acousticness            artist  \\\n",
       "0  5PS5dpaLogPzYU9hWiWyZb          0      0.001300  Karkkiautomaatti   \n",
       "1  41RpZW2lxAdnqDd2nMBzLQ         15      0.000045    Hudson Mohawke   \n",
       "2  3GsS8jzoixpCnp4jDWCEvb         17      0.002760        Kris Kross   \n",
       "3  0kq75szR7uDEYrZkT2c4Ry         21      0.348000     Jorge Negrete   \n",
       "4  2HyFpkX9J7vv3OZNDaraHZ          1      0.340000         Tiger Lou   \n",
       "\n",
       "   danceability  duration_ms  energy  instrumentalness   key  liveness  ...  \\\n",
       "0         0.487     157307.0   0.678          0.055100   9.0    0.0846  ...   \n",
       "1         0.662     138960.0   0.823          0.952000   4.0    0.3430  ...   \n",
       "2         0.859     221200.0   0.741          0.000000  11.0    0.3250  ...   \n",
       "3         0.361     173573.0   0.483          0.000003   7.0    0.1770  ...   \n",
       "4         0.533     318467.0   0.302          0.179000  10.0    0.1110  ...   \n",
       "\n",
       "    40   41   42   43   44   45   46   47   48   49  \n",
       "0  0.0 -1.0  1.0  2.0 -3.0  0.0  0.0  0.0  0.0 -2.0  \n",
       "1  0.0 -4.0  5.0  7.0 -4.0 -1.0  0.0  0.0  0.0 -7.0  \n",
       "2  0.0 -3.0  0.0  1.0 -2.0 -1.0  0.0  0.0  0.0 -1.0  \n",
       "3  0.0 -2.0  1.0  2.0 -1.0  2.0  0.0  0.0  0.0  0.0  \n",
       "4  0.0  0.0  0.0  1.0 -1.0  0.0  0.0  0.0  0.0 -2.0  \n",
       "\n",
       "[5 rows x 69 columns]"
      ]
     },
     "execution_count": 17,
     "metadata": {},
     "output_type": "execute_result"
    }
   ],
   "source": [
    "df.head()"
   ]
  },
  {
   "cell_type": "code",
   "execution_count": 18,
   "metadata": {},
   "outputs": [],
   "source": [
    "columns_to_drop = df.columns[18:]"
   ]
  },
  {
   "cell_type": "code",
   "execution_count": 19,
   "metadata": {},
   "outputs": [
    {
     "data": {
      "text/plain": [
       "Index(['genres_stripped',                 0,                 1,\n",
       "                       2,                 3,                 4,\n",
       "                       5,                 6,                 7,\n",
       "                       8,                 9,                10,\n",
       "                      11,                12,                13,\n",
       "                      14,                15,                16,\n",
       "                      17,                18,                19,\n",
       "                      20,                21,                22,\n",
       "                      23,                24,                25,\n",
       "                      26,                27,                28,\n",
       "                      29,                30,                31,\n",
       "                      32,                33,                34,\n",
       "                      35,                36,                37,\n",
       "                      38,                39,                40,\n",
       "                      41,                42,                43,\n",
       "                      44,                45,                46,\n",
       "                      47,                48,                49],\n",
       "      dtype='object')"
      ]
     },
     "execution_count": 19,
     "metadata": {},
     "output_type": "execute_result"
    }
   ],
   "source": [
    "columns_to_drop"
   ]
  },
  {
   "cell_type": "code",
   "execution_count": 20,
   "metadata": {},
   "outputs": [],
   "source": [
    "df.drop(df.iloc[:, 18:], inplace = True, axis = 1)"
   ]
  },
  {
   "cell_type": "code",
   "execution_count": 21,
   "metadata": {},
   "outputs": [
    {
     "data": {
      "text/html": [
       "<div>\n",
       "<style scoped>\n",
       "    .dataframe tbody tr th:only-of-type {\n",
       "        vertical-align: middle;\n",
       "    }\n",
       "\n",
       "    .dataframe tbody tr th {\n",
       "        vertical-align: top;\n",
       "    }\n",
       "\n",
       "    .dataframe thead th {\n",
       "        text-align: right;\n",
       "    }\n",
       "</style>\n",
       "<table border=\"1\" class=\"dataframe\">\n",
       "  <thead>\n",
       "    <tr style=\"text-align: right;\">\n",
       "      <th></th>\n",
       "      <th>songid</th>\n",
       "      <th>popularity</th>\n",
       "      <th>acousticness</th>\n",
       "      <th>artist</th>\n",
       "      <th>danceability</th>\n",
       "      <th>duration_ms</th>\n",
       "      <th>energy</th>\n",
       "      <th>instrumentalness</th>\n",
       "      <th>key</th>\n",
       "      <th>liveness</th>\n",
       "      <th>loudness</th>\n",
       "      <th>mode</th>\n",
       "      <th>speechiness</th>\n",
       "      <th>tempo</th>\n",
       "      <th>time_signature</th>\n",
       "      <th>track</th>\n",
       "      <th>valence</th>\n",
       "      <th>genres</th>\n",
       "    </tr>\n",
       "  </thead>\n",
       "  <tbody>\n",
       "    <tr>\n",
       "      <th>0</th>\n",
       "      <td>5PS5dpaLogPzYU9hWiWyZb</td>\n",
       "      <td>0</td>\n",
       "      <td>0.001300</td>\n",
       "      <td>Karkkiautomaatti</td>\n",
       "      <td>0.487</td>\n",
       "      <td>157307.0</td>\n",
       "      <td>0.678</td>\n",
       "      <td>0.055100</td>\n",
       "      <td>9.0</td>\n",
       "      <td>0.0846</td>\n",
       "      <td>-7.780</td>\n",
       "      <td>1.0</td>\n",
       "      <td>0.0495</td>\n",
       "      <td>149.940</td>\n",
       "      <td>4.0</td>\n",
       "      <td>Tanssi vaan</td>\n",
       "      <td>0.870</td>\n",
       "      <td>['finnish indie', 'suomi rock']</td>\n",
       "    </tr>\n",
       "    <tr>\n",
       "      <th>1</th>\n",
       "      <td>41RpZW2lxAdnqDd2nMBzLQ</td>\n",
       "      <td>15</td>\n",
       "      <td>0.000045</td>\n",
       "      <td>Hudson Mohawke</td>\n",
       "      <td>0.662</td>\n",
       "      <td>138960.0</td>\n",
       "      <td>0.823</td>\n",
       "      <td>0.952000</td>\n",
       "      <td>4.0</td>\n",
       "      <td>0.3430</td>\n",
       "      <td>-1.711</td>\n",
       "      <td>0.0</td>\n",
       "      <td>0.0662</td>\n",
       "      <td>177.745</td>\n",
       "      <td>4.0</td>\n",
       "      <td>No One Could Ever</td>\n",
       "      <td>0.621</td>\n",
       "      <td>['bass music', 'scottish electronic', 'scottis...</td>\n",
       "    </tr>\n",
       "    <tr>\n",
       "      <th>2</th>\n",
       "      <td>3GsS8jzoixpCnp4jDWCEvb</td>\n",
       "      <td>17</td>\n",
       "      <td>0.002760</td>\n",
       "      <td>Kris Kross</td>\n",
       "      <td>0.859</td>\n",
       "      <td>221200.0</td>\n",
       "      <td>0.741</td>\n",
       "      <td>0.000000</td>\n",
       "      <td>11.0</td>\n",
       "      <td>0.3250</td>\n",
       "      <td>-12.329</td>\n",
       "      <td>0.0</td>\n",
       "      <td>0.2710</td>\n",
       "      <td>98.082</td>\n",
       "      <td>4.0</td>\n",
       "      <td>2 Da Beat Ch'yall</td>\n",
       "      <td>0.529</td>\n",
       "      <td>['hip hop', 'new jack swing', 'rap']</td>\n",
       "    </tr>\n",
       "    <tr>\n",
       "      <th>3</th>\n",
       "      <td>0kq75szR7uDEYrZkT2c4Ry</td>\n",
       "      <td>21</td>\n",
       "      <td>0.348000</td>\n",
       "      <td>Jorge Negrete</td>\n",
       "      <td>0.361</td>\n",
       "      <td>173573.0</td>\n",
       "      <td>0.483</td>\n",
       "      <td>0.000003</td>\n",
       "      <td>7.0</td>\n",
       "      <td>0.1770</td>\n",
       "      <td>-6.875</td>\n",
       "      <td>1.0</td>\n",
       "      <td>0.0287</td>\n",
       "      <td>94.538</td>\n",
       "      <td>4.0</td>\n",
       "      <td>El hijo del pueblo</td>\n",
       "      <td>0.682</td>\n",
       "      <td>['bolero', 'mariachi', 'ranchera']</td>\n",
       "    </tr>\n",
       "    <tr>\n",
       "      <th>4</th>\n",
       "      <td>2HyFpkX9J7vv3OZNDaraHZ</td>\n",
       "      <td>1</td>\n",
       "      <td>0.340000</td>\n",
       "      <td>Tiger Lou</td>\n",
       "      <td>0.533</td>\n",
       "      <td>318467.0</td>\n",
       "      <td>0.302</td>\n",
       "      <td>0.179000</td>\n",
       "      <td>10.0</td>\n",
       "      <td>0.1110</td>\n",
       "      <td>-10.308</td>\n",
       "      <td>1.0</td>\n",
       "      <td>0.0307</td>\n",
       "      <td>134.959</td>\n",
       "      <td>3.0</td>\n",
       "      <td>Pilots</td>\n",
       "      <td>0.294</td>\n",
       "      <td>['swedish indie rock']</td>\n",
       "    </tr>\n",
       "  </tbody>\n",
       "</table>\n",
       "</div>"
      ],
      "text/plain": [
       "                   songid popularity  acousticness            artist  \\\n",
       "0  5PS5dpaLogPzYU9hWiWyZb          0      0.001300  Karkkiautomaatti   \n",
       "1  41RpZW2lxAdnqDd2nMBzLQ         15      0.000045    Hudson Mohawke   \n",
       "2  3GsS8jzoixpCnp4jDWCEvb         17      0.002760        Kris Kross   \n",
       "3  0kq75szR7uDEYrZkT2c4Ry         21      0.348000     Jorge Negrete   \n",
       "4  2HyFpkX9J7vv3OZNDaraHZ          1      0.340000         Tiger Lou   \n",
       "\n",
       "   danceability  duration_ms  energy  instrumentalness   key  liveness  \\\n",
       "0         0.487     157307.0   0.678          0.055100   9.0    0.0846   \n",
       "1         0.662     138960.0   0.823          0.952000   4.0    0.3430   \n",
       "2         0.859     221200.0   0.741          0.000000  11.0    0.3250   \n",
       "3         0.361     173573.0   0.483          0.000003   7.0    0.1770   \n",
       "4         0.533     318467.0   0.302          0.179000  10.0    0.1110   \n",
       "\n",
       "   loudness  mode  speechiness    tempo  time_signature               track  \\\n",
       "0    -7.780   1.0       0.0495  149.940             4.0         Tanssi vaan   \n",
       "1    -1.711   0.0       0.0662  177.745             4.0   No One Could Ever   \n",
       "2   -12.329   0.0       0.2710   98.082             4.0   2 Da Beat Ch'yall   \n",
       "3    -6.875   1.0       0.0287   94.538             4.0  El hijo del pueblo   \n",
       "4   -10.308   1.0       0.0307  134.959             3.0              Pilots   \n",
       "\n",
       "   valence                                             genres  \n",
       "0    0.870                    ['finnish indie', 'suomi rock']  \n",
       "1    0.621  ['bass music', 'scottish electronic', 'scottis...  \n",
       "2    0.529               ['hip hop', 'new jack swing', 'rap']  \n",
       "3    0.682                 ['bolero', 'mariachi', 'ranchera']  \n",
       "4    0.294                             ['swedish indie rock']  "
      ]
     },
     "execution_count": 21,
     "metadata": {},
     "output_type": "execute_result"
    }
   ],
   "source": [
    "df.head()"
   ]
  },
  {
   "cell_type": "code",
   "execution_count": 22,
   "metadata": {},
   "outputs": [],
   "source": [
    "all_genres = []\n",
    "for genre_list in df[\"genres\"]:\n",
    "    genre_list = genre_list.split(\",\")\n",
    "    for genre in genre_list:\n",
    "        genre = genre.strip(\"[\",)\n",
    "        genre = genre.strip(\"]\",)\n",
    "        genre = genre.strip()\n",
    "        all_genres.append(genre)"
   ]
  },
  {
   "cell_type": "code",
   "execution_count": 23,
   "metadata": {},
   "outputs": [
    {
     "data": {
      "text/plain": [
       "2110517"
      ]
     },
     "execution_count": 23,
     "metadata": {},
     "output_type": "execute_result"
    }
   ],
   "source": [
    "len(all_genres)"
   ]
  },
  {
   "cell_type": "code",
   "execution_count": 24,
   "metadata": {},
   "outputs": [],
   "source": [
    "unique_genres = list(set(all_genres))"
   ]
  },
  {
   "cell_type": "code",
   "execution_count": 25,
   "metadata": {},
   "outputs": [
    {
     "data": {
      "text/plain": [
       "3488"
      ]
     },
     "execution_count": 25,
     "metadata": {},
     "output_type": "execute_result"
    }
   ],
   "source": [
    "len(unique_genres)"
   ]
  },
  {
   "cell_type": "code",
   "execution_count": 26,
   "metadata": {},
   "outputs": [
    {
     "name": "stdout",
     "output_type": "stream",
     "text": [
      "'irish rock'\n",
      "'microhouse'\n",
      "'classic nz country'\n",
      "'british country'\n",
      "'quebec death metal'\n",
      "'re:techno'\n",
      "'zimdancehall'\n",
      "'latvian indie'\n",
      "'franco-flemish school'\n",
      "'viola caipira'\n"
     ]
    }
   ],
   "source": [
    "for i in unique_genres[0:10]:\n",
    "    print(i)"
   ]
  },
  {
   "cell_type": "code",
   "execution_count": 27,
   "metadata": {},
   "outputs": [],
   "source": [
    "for i in unique_genres[0:50]:\n",
    "    df[i]= 0 "
   ]
  },
  {
   "cell_type": "code",
   "execution_count": 28,
   "metadata": {},
   "outputs": [
    {
     "data": {
      "text/plain": [
       "Index(['genres', ''irish rock'', ''microhouse'', ''classic nz country'',\n",
       "       ''british country'', ''quebec death metal'', ''re:techno'',\n",
       "       ''zimdancehall'', ''latvian indie'', ''franco-flemish school'',\n",
       "       ''viola caipira'', ''guinean pop'', ''merida indie'', ''nitzhonot'',\n",
       "       ''slovak metal'', ''outlaw country'', ''j-pixie'', ''kantele'',\n",
       "       ''louvor'', ''mbira'', ''drill and bass'', ''psychedelic punk'',\n",
       "       ''gothenburg metal'', ''birdsong'', ''british invasion'',\n",
       "       ''norwegian pop rap'', ''cumbia ecuatoriana'', ''pinoy pop punk'',\n",
       "       ''irish neo-traditional'', ''indie psych-pop'', ''speed metal'',\n",
       "       ''stuttgart indie'', ''belgian new wave'', ''french folk'',\n",
       "       ''jazz drums'', ''morna'', ''kansas indie'', ''psych gaze'',\n",
       "       ''vapor soul'', ''hungarian punk'', ''nz metal'', ''british math rock'',\n",
       "       ''albany ny indie'', ''dutch hip hop'', ''oshare kei'',\n",
       "       ''hungarian contemporary classical'', ''sarangi'', ''lincoln ne indie'',\n",
       "       ''traditional blues'', ''uk pop'', ''experimental jazz''],\n",
       "      dtype='object')"
      ]
     },
     "execution_count": 28,
     "metadata": {},
     "output_type": "execute_result"
    }
   ],
   "source": [
    "df.columns[17:]"
   ]
  },
  {
   "cell_type": "code",
   "execution_count": 38,
   "metadata": {},
   "outputs": [
    {
     "name": "stdout",
     "output_type": "stream",
     "text": [
      "'drill and bass'\n",
      "'microhouse'\n",
      "'outlaw country'\n",
      "'jazz drums'\n",
      "'traditional blues'\n",
      "'lincoln ne indie'\n",
      "'uk pop'\n",
      "'irish rock'\n",
      "'traditional blues'\n",
      "'drill and bass'\n",
      "'microhouse'\n",
      "'traditional blues'\n",
      "'british invasion'\n",
      "'british invasion'\n"
     ]
    }
   ],
   "source": [
    "counter = -1 \n",
    "for genre_list in df[\"genres\"][0:200]:\n",
    "#     print(genre_list)\n",
    "    counter += 1 \n",
    "    genre_list = genre_list.split(\",\")\n",
    "    for genre in genre_list:\n",
    "        genre = genre.strip(\"]\")\n",
    "        genre = genre.strip(\"[\")\n",
    "        genre = genre.strip(\" \") \n",
    "#         print(\"source_genre:\",genre)\n",
    "        for column in df.columns[18:]:\n",
    "#             print(\"output_column:\",column)\n",
    "#             columns = column.strip(\" \")\n",
    "            if column == genre:\n",
    "                print(column)\n",
    "                df[column].loc[counter] = 1 \n",
    "                "
   ]
  },
  {
   "cell_type": "code",
   "execution_count": 40,
   "metadata": {},
   "outputs": [
    {
     "data": {
      "text/plain": [
       "0    198\n",
       "1      2\n",
       "Name: 'drill and bass', dtype: int64"
      ]
     },
     "execution_count": 40,
     "metadata": {},
     "output_type": "execute_result"
    }
   ],
   "source": [
    "df[\"'drill and bass'\"][0:200].value_counts()"
   ]
  },
  {
   "cell_type": "code",
   "execution_count": 74,
   "metadata": {},
   "outputs": [],
   "source": [
    "import boto3\n",
    "import pandas as pd\n",
    "from sagemaker import get_execution_role"
   ]
  },
  {
   "cell_type": "code",
   "execution_count": 76,
   "metadata": {},
   "outputs": [
    {
     "name": "stderr",
     "output_type": "stream",
     "text": [
      "Couldn't call 'get_role' to get Role ARN from role name zhenya.warshavsky to get Role path.\n"
     ]
    },
    {
     "ename": "ValueError",
     "evalue": "The current AWS identity is not a role: arn:aws:iam::039512347950:user/zhenya.warshavsky, therefore it cannot be used as a SageMaker execution role",
     "output_type": "error",
     "traceback": [
      "\u001b[0;31m---------------------------------------------------------------------------\u001b[0m",
      "\u001b[0;31mValueError\u001b[0m                                Traceback (most recent call last)",
      "\u001b[0;32m<ipython-input-76-ca72bdc89e47>\u001b[0m in \u001b[0;36m<module>\u001b[0;34m\u001b[0m\n\u001b[0;32m----> 1\u001b[0;31m \u001b[0mrole\u001b[0m \u001b[0;34m=\u001b[0m \u001b[0mget_execution_role\u001b[0m\u001b[0;34m(\u001b[0m\u001b[0;34m)\u001b[0m\u001b[0;34m\u001b[0m\u001b[0;34m\u001b[0m\u001b[0m\n\u001b[0m\u001b[1;32m      2\u001b[0m \u001b[0mbucket\u001b[0m\u001b[0;34m=\u001b[0m\u001b[0;34m'zwarshavsky'\u001b[0m\u001b[0;34m\u001b[0m\u001b[0;34m\u001b[0m\u001b[0m\n\u001b[1;32m      3\u001b[0m \u001b[0mdata_key\u001b[0m \u001b[0;34m=\u001b[0m \u001b[0;34m'song_list_v5_hashed.pkl'\u001b[0m\u001b[0;34m\u001b[0m\u001b[0;34m\u001b[0m\u001b[0m\n\u001b[1;32m      4\u001b[0m \u001b[0mdata_location\u001b[0m \u001b[0;34m=\u001b[0m \u001b[0;34m's3://{}/{}'\u001b[0m\u001b[0;34m.\u001b[0m\u001b[0mformat\u001b[0m\u001b[0;34m(\u001b[0m\u001b[0mbucket\u001b[0m\u001b[0;34m,\u001b[0m \u001b[0mdata_key\u001b[0m\u001b[0;34m)\u001b[0m\u001b[0;34m\u001b[0m\u001b[0;34m\u001b[0m\u001b[0m\n\u001b[1;32m      5\u001b[0m \u001b[0mdf\u001b[0m \u001b[0;34m=\u001b[0m \u001b[0mpickle\u001b[0m\u001b[0;34m.\u001b[0m\u001b[0mload\u001b[0m\u001b[0;34m(\u001b[0m\u001b[0mopen\u001b[0m\u001b[0;34m(\u001b[0m\u001b[0mdata_location\u001b[0m\u001b[0;34m,\u001b[0m\u001b[0;34m\"rb\"\u001b[0m\u001b[0;34m)\u001b[0m\u001b[0;34m)\u001b[0m\u001b[0;34m\u001b[0m\u001b[0;34m\u001b[0m\u001b[0m\n",
      "\u001b[0;32m~/.local/share/virtualenvs/data_collection-PY2mH6bz/lib/python3.7/site-packages/sagemaker/session.py\u001b[0m in \u001b[0;36mget_execution_role\u001b[0;34m(sagemaker_session)\u001b[0m\n\u001b[1;32m   3299\u001b[0m         \u001b[0;34m\"SageMaker execution role\"\u001b[0m\u001b[0;34m\u001b[0m\u001b[0;34m\u001b[0m\u001b[0m\n\u001b[1;32m   3300\u001b[0m     )\n\u001b[0;32m-> 3301\u001b[0;31m     \u001b[0;32mraise\u001b[0m \u001b[0mValueError\u001b[0m\u001b[0;34m(\u001b[0m\u001b[0mmessage\u001b[0m\u001b[0;34m.\u001b[0m\u001b[0mformat\u001b[0m\u001b[0;34m(\u001b[0m\u001b[0marn\u001b[0m\u001b[0;34m)\u001b[0m\u001b[0;34m)\u001b[0m\u001b[0;34m\u001b[0m\u001b[0;34m\u001b[0m\u001b[0m\n\u001b[0m\u001b[1;32m   3302\u001b[0m \u001b[0;34m\u001b[0m\u001b[0m\n\u001b[1;32m   3303\u001b[0m \u001b[0;34m\u001b[0m\u001b[0m\n",
      "\u001b[0;31mValueError\u001b[0m: The current AWS identity is not a role: arn:aws:iam::039512347950:user/zhenya.warshavsky, therefore it cannot be used as a SageMaker execution role"
     ]
    }
   ],
   "source": [
    "role = get_execution_role()\n",
    "bucket='zwarshavsky'\n",
    "data_key = 'song_list_v5_hashed.pkl'\n",
    "data_location = 's3://{}/{}'.format(bucket, data_key)\n",
    "df = pickle.load(open(data_location,\"rb\"))"
   ]
  },
  {
   "cell_type": "code",
   "execution_count": null,
   "metadata": {},
   "outputs": [],
   "source": []
  }
 ],
 "metadata": {
  "kernelspec": {
   "display_name": "data_collection",
   "language": "python",
   "name": "data_collection"
  },
  "language_info": {
   "codemirror_mode": {
    "name": "ipython",
    "version": 3
   },
   "file_extension": ".py",
   "mimetype": "text/x-python",
   "name": "python",
   "nbconvert_exporter": "python",
   "pygments_lexer": "ipython3",
   "version": "3.7.4"
  }
 },
 "nbformat": 4,
 "nbformat_minor": 4
}
