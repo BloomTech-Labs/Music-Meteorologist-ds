{
 "cells": [
  {
   "cell_type": "code",
   "execution_count": 31,
   "metadata": {},
   "outputs": [],
   "source": [
    "import psycopg2 as ps\n",
    "from env_vars import *"
   ]
  },
  {
   "cell_type": "code",
   "execution_count": 41,
   "metadata": {},
   "outputs": [],
   "source": [
    "def reconnect():\n",
    "    # create connection and cursor    \n",
    "    conn = ps.connect(host=POSTGRES_ADDRESS,\n",
    "                      database=POSTGRES_DBNAME,\n",
    "                      user=POSTGRES_USERNAME,\n",
    "                      password=POSTGRES_PASSWORD,\n",
    "                      port=POSTGRES_PORT)\n",
    "    cur = conn.cursor()\n",
    "    return cur"
   ]
  },
  {
   "cell_type": "code",
   "execution_count": 42,
   "metadata": {},
   "outputs": [],
   "source": [
    "# def run_query():\n",
    "#     try:\n",
    "#         cur.execute(query)\n",
    "#     except Exception as e:\n",
    "#         print (e.message)\n",
    "#         return reconnect()"
   ]
  },
  {
   "cell_type": "code",
   "execution_count": 43,
   "metadata": {},
   "outputs": [],
   "source": [
    "# run_query()"
   ]
  },
  {
   "cell_type": "code",
   "execution_count": null,
   "metadata": {},
   "outputs": [],
   "source": [
    "# query = \"\"\"SELECT * FROM users\n",
    "#             WHERE schemaname != 'pg_catalog'\n",
    "#             AND schemaname != 'information_schema';\"\"\"\n",
    "# cur.execute(query)\n",
    "# cur.fetchall()"
   ]
  },
  {
   "cell_type": "code",
   "execution_count": 45,
   "metadata": {},
   "outputs": [
    {
     "data": {
      "text/plain": [
       "[]"
      ]
     },
     "execution_count": 45,
     "metadata": {},
     "output_type": "execute_result"
    }
   ],
   "source": [
    "cur = reconnect()\n",
    "query = \"\"\"SELECT * FROM users;\"\"\"\n",
    "\n",
    "cur.execute(query)\n",
    "cur.fetchall()"
   ]
  },
  {
   "cell_type": "code",
   "execution_count": null,
   "metadata": {},
   "outputs": [],
   "source": [
    "# cur.execute(\"\"\"CREATE TABLE users\n",
    "#                 (ID integer, \n",
    "#                 display_name varchar(50)\n",
    "#                 );\"\"\")\n",
    "# # Commit table creation\n",
    "# conn.commit()"
   ]
  },
  {
   "cell_type": "code",
   "execution_count": 51,
   "metadata": {},
   "outputs": [],
   "source": [
    "cur = reconnect()\n",
    "cur.execute(\"\"\"CREATE TABLE recommendations\n",
    "                (userID integer, \n",
    "                songID integer,\n",
    "                recDate DATE \n",
    "                );\"\"\")\n",
    "# Commit table creation\n",
    "conn.commit()"
   ]
  },
  {
   "cell_type": "code",
   "execution_count": null,
   "metadata": {},
   "outputs": [],
   "source": []
  }
 ],
 "metadata": {
  "kernelspec": {
   "display_name": "unique-song-reqs",
   "language": "python",
   "name": "unique-song-reqs"
  },
  "language_info": {
   "codemirror_mode": {
    "name": "ipython",
    "version": 3
   },
   "file_extension": ".py",
   "mimetype": "text/x-python",
   "name": "python",
   "nbconvert_exporter": "python",
   "pygments_lexer": "ipython3",
   "version": "3.7.4"
  }
 },
 "nbformat": 4,
 "nbformat_minor": 4
}
