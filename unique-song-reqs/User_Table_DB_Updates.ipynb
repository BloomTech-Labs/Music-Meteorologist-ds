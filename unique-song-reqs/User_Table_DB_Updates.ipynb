{
 "cells": [
  {
   "cell_type": "code",
   "execution_count": 2,
   "metadata": {},
   "outputs": [],
   "source": [
    "import psycopg2 as ps\n",
    "from env_vars import *"
   ]
  },
  {
   "cell_type": "code",
   "execution_count": 3,
   "metadata": {},
   "outputs": [],
   "source": [
    "# def reconnect():\n",
    "#     # create connection and cursor    \n",
    "#     conn = ps.connect(host=POSTGRES_ADDRESS,\n",
    "#                       database=POSTGRES_DBNAME,\n",
    "#                       user=POSTGRES_USERNAME,\n",
    "#                       password=POSTGRES_PASSWORD,\n",
    "#                       port=POSTGRES_PORT)\n",
    "#     cur = conn.cursor()\n",
    "#     return cur"
   ]
  },
  {
   "cell_type": "code",
   "execution_count": 7,
   "metadata": {},
   "outputs": [],
   "source": [
    "def reconnect:\n",
    "    conn = ps.connect(host=POSTGRES_ADDRESS,\n",
    "                  database=POSTGRES_DBNAME,\n",
    "                  user=POSTGRES_USERNAME,\n",
    "                  password=POSTGRES_PASSWORD,\n",
    "                  port=POSTGRES_PORT)\n",
    "    cur = conn.cursor()"
   ]
  },
  {
   "cell_type": "code",
   "execution_count": 42,
   "metadata": {},
   "outputs": [],
   "source": [
    "# def run_query():\n",
    "#     try:\n",
    "#         cur.execute(query)\n",
    "#     except Exception as e:\n",
    "#         print (e.message)\n",
    "#         return reconnect()"
   ]
  },
  {
   "cell_type": "code",
   "execution_count": 43,
   "metadata": {},
   "outputs": [],
   "source": [
    "# run_query()"
   ]
  },
  {
   "cell_type": "code",
   "execution_count": null,
   "metadata": {},
   "outputs": [],
   "source": [
    "# query = \"\"\"SELECT * FROM users\n",
    "#             WHERE schemaname != 'pg_catalog'\n",
    "#             AND schemaname != 'information_schema';\"\"\"\n",
    "# cur.execute(query)\n",
    "# cur.fetchall()"
   ]
  },
  {
   "cell_type": "code",
   "execution_count": 4,
   "metadata": {},
   "outputs": [
    {
     "data": {
      "text/plain": [
       "[]"
      ]
     },
     "execution_count": 4,
     "metadata": {},
     "output_type": "execute_result"
    }
   ],
   "source": [
    "query = \"\"\"SELECT * FROM users;\"\"\"\n",
    "\n",
    "cur.execute(query)\n",
    "cur.fetchall()"
   ]
  },
  {
   "cell_type": "code",
   "execution_count": 9,
   "metadata": {},
   "outputs": [
    {
     "data": {
      "text/plain": [
       "[]"
      ]
     },
     "execution_count": 9,
     "metadata": {},
     "output_type": "execute_result"
    }
   ],
   "source": [
    "query = \"\"\"SELECT * FROM recommendations\"\"\"\n",
    "\n",
    "cur.execute(query)\n",
    "cur.fetchall()"
   ]
  },
  {
   "cell_type": "code",
   "execution_count": null,
   "metadata": {},
   "outputs": [],
   "source": [
    "# cur.execute(\"\"\"CREATE TABLE users\n",
    "#                 (ID integer, \n",
    "#                 display_name varchar(50)\n",
    "#                 );\"\"\")\n",
    "# # Commit table creation\n",
    "# conn.commit()"
   ]
  },
  {
   "cell_type": "code",
   "execution_count": 8,
   "metadata": {},
   "outputs": [],
   "source": [
    "cur.execute(\"\"\"CREATE TABLE recommendations\n",
    "                (id serial PRIMARY KEY,\n",
    "                userID varchar(50), \n",
    "                songID varchar(50),\n",
    "                recDate DATE \n",
    "                )\"\"\")\n",
    "# Commit table creation\n",
    "conn.commit()"
   ]
  },
  {
   "cell_type": "code",
   "execution_count": 18,
   "metadata": {},
   "outputs": [],
   "source": [
    "cur.execute(\"\"\"CREATE TABLE account(\n",
    "               user_id serial PRIMARY KEY,\n",
    "               username VARCHAR (50) UNIQUE NOT NULL,\n",
    "               password VARCHAR (50) NOT NULL,\n",
    "               email VARCHAR (355) UNIQUE NOT NULL,\n",
    "               created_on TIMESTAMP NOT NULL,\n",
    "               last_login TIMESTAMP\n",
    "               );\"\"\")\n",
    "# Commit table creation\n",
    "conn.commit()"
   ]
  },
  {
   "cell_type": "code",
   "execution_count": null,
   "metadata": {},
   "outputs": [],
   "source": [
    "cursor.execute(\"\"\"CREATE TABLE survival(\n",
    "id SERIAL PRIMARY KEY,\n",
    "survived integer)\"\"\")"
   ]
  }
 ],
 "metadata": {
  "kernelspec": {
   "display_name": "unique-song-reqs",
   "language": "python",
   "name": "unique-song-reqs"
  },
  "language_info": {
   "codemirror_mode": {
    "name": "ipython",
    "version": 3
   },
   "file_extension": ".py",
   "mimetype": "text/x-python",
   "name": "python",
   "nbconvert_exporter": "python",
   "pygments_lexer": "ipython3",
   "version": "3.7.4"
  }
 },
 "nbformat": 4,
 "nbformat_minor": 4
}
