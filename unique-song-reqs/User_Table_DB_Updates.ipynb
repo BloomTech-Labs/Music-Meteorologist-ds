{
 "cells": [
  {
   "cell_type": "code",
   "execution_count": 1,
   "metadata": {},
   "outputs": [],
   "source": [
    "import psycopg2 as ps\n",
    "from env_vars import *"
   ]
  },
  {
   "cell_type": "code",
   "execution_count": 3,
   "metadata": {},
   "outputs": [],
   "source": [
    "# create connection and cursor    \n",
    "conn = ps.connect(host=POSTGRES_ADDRESS,\n",
    "                  database=POSTGRES_DBNAME,\n",
    "                  user=POSTGRES_USERNAME,\n",
    "                  password=POSTGRES_PASSWORD,\n",
    "                  port=POSTGRES_PORT)\n",
    "cur = conn.cursor()"
   ]
  },
  {
   "cell_type": "code",
   "execution_count": null,
   "metadata": {},
   "outputs": [],
   "source": []
  }
 ],
 "metadata": {
  "kernelspec": {
   "display_name": "unique-song-reqs",
   "language": "python",
   "name": "unique-song-reqs"
  },
  "language_info": {
   "codemirror_mode": {
    "name": "ipython",
    "version": 3
   },
   "file_extension": ".py",
   "mimetype": "text/x-python",
   "name": "python",
   "nbconvert_exporter": "python",
   "pygments_lexer": "ipython3",
   "version": "3.7.4"
  }
 },
 "nbformat": 4,
 "nbformat_minor": 4
}
