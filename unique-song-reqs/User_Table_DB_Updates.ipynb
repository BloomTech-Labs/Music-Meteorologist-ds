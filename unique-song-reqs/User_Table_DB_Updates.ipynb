{
 "cells": [
  {
   "cell_type": "code",
   "execution_count": 1,
   "metadata": {},
   "outputs": [],
   "source": [
    "import psycopg2 as ps\n",
    "from env_vars import *\n",
    "import spotipy\n",
    "\n",
    "import spotipy\n",
    "import spotipy.util as util\n",
    "from sklearn.neighbors import NearestNeighbors\n",
    "from sklearn.preprocessing import MinMaxScaler, Normalizer\n",
    "import pandas as pd\n",
    "from pandas.io.json import json_normalize\n",
    "from flask import jsonify\n",
    "from joblib import load\n",
    "import pickle\n",
    "import numpy as np\n",
    "from flask import request\n",
    "from joblib import dump\n",
    "from joblib import load\n",
    "import pandas as pd\n",
    "\n",
    "from env_vars import * "
   ]
  },
  {
   "cell_type": "markdown",
   "metadata": {},
   "source": [
    "# Variables for DB inserts"
   ]
  },
  {
   "cell_type": "code",
   "execution_count": 2,
   "metadata": {},
   "outputs": [],
   "source": [
    "# USERNAME = 'rileypence4' #your spotify username\n",
    "# CLIENT_ID = '47c4f0d3dcaa433c9ef4ec6686e5b1f1' #set at your developer account\n",
    "# CLIENT_SECRET = '65812a5fb52b4a3486f59ec672d499ff' #set at your developer account\n",
    "# REDIRECT_URI = 'https://google.com/' #set at your developer account, usually \"http://localhost:8000\"\n",
    "# SCOPE = 'user-library-read' # or else\n",
    "# # ps. REDIRECT_URI is crucial here. if http://localhost:8000 is not set, or with a single '/' misplaced, it will generate a connection error.\n",
    "\n",
    "# then pass them:\n",
    "\n",
    "token = util.prompt_for_user_token(username = USERNAME, \n",
    "                                   scope = SCOPE, \n",
    "                                   client_id = CLIENT_ID, \n",
    "                                   client_secret = CLIENT_SECRET, \n",
    "                                   redirect_uri = REDIRECT_URI)\n",
    "\n",
    "if token:\n",
    "   sp = spotipy.Spotify(auth=token)"
   ]
  },
  {
   "cell_type": "code",
   "execution_count": 3,
   "metadata": {},
   "outputs": [
    {
     "data": {
      "text/plain": [
       "'BQD0Mg1tGefC-uhH9A4MvF7O6ZkZNZCoAOJMJchJPldflgZ6qktAxUFTy91Yf4MxPMvWheNSOsKrLN7YJpBIyH6JAQJrcwyBPHRLHKjRuRRkHSbDOpkqCuqlPXjyOWcqj11EsB9ikycKmEGMTdma8KYtSIwJJ42siaDK9GQQ_7kZ'"
      ]
     },
     "execution_count": 3,
     "metadata": {},
     "output_type": "execute_result"
    }
   ],
   "source": [
    "token"
   ]
  },
  {
   "cell_type": "code",
   "execution_count": 4,
   "metadata": {},
   "outputs": [],
   "source": [
    "# def reconnect():\n",
    "#     # create connection and cursor    \n",
    "#     conn = ps.connect(host=POSTGRES_ADDRESS,\n",
    "#                       database=POSTGRES_DBNAME,\n",
    "#                       user=POSTGRES_USERNAME,\n",
    "#                       password=POSTGRES_PASSWORD,\n",
    "#                       port=POSTGRES_PORT)\n",
    "#     cur = conn.cursor()\n",
    "#     return cur"
   ]
  },
  {
   "cell_type": "code",
   "execution_count": 14,
   "metadata": {},
   "outputs": [],
   "source": [
    "class Sound_Drip:\n",
    "    \n",
    "    def __init__(self, token):\n",
    "        self.token = token\n",
    "    \n",
    "    def instantiate_sp(self,token):\n",
    "        sp = spotipy.Spotify(auth=token)\n",
    "        return sp\n",
    "\n",
    "    def get_user_song_id(self,sp):\n",
    "        results = sp.current_user_saved_tracks()\n",
    "        genre = []\n",
    "        counter = 0 \n",
    "        for song_number in range(0,19):\n",
    "            counter += 1 \n",
    "            song_id = results['items'][song_number]['track']['id']\n",
    "            artist_id = self.get_artist_id(song_id)\n",
    "            genre = self.get_genres(artist_id)\n",
    "            if genre != []:\n",
    "                break\n",
    "        return song_id\n",
    "\n",
    "    def get_acoustical_features(self,song_id,sp):\n",
    "        acoustical_features = sp.audio_features(song_id)[0]\n",
    "        return acoustical_features\n",
    "\n",
    "    def get_popularity(self, song_id):\n",
    "        popularity =  sp.track(song_id)['popularity']\n",
    "        return popularity\n",
    "\n",
    "    def get_artist_id(self, song_id):\n",
    "        artist = sp.track(song_id)['artists'][0]['id']\n",
    "        return artist\n",
    "\n",
    "    def get_genres(self, artist):\n",
    "        genre = sp.artist(artist)['genres']\n",
    "        return genre\n",
    "    \n",
    "    def create_feature_object(self,popularity, acoustical_features):\n",
    "        popularity_dict = {'popularity': popularity}\n",
    "        song_features = acoustical_features\n",
    "        song_features.update(popularity_dict)\n",
    "        song_features = {\n",
    "    \"audio_features\": {\n",
    "        key: song_features[key] for key in song_features.keys() & {\n",
    "            'popularity',\n",
    "            'acousticness',\n",
    "            'danceability',\n",
    "            'energy',\n",
    "            'instrumentalness',\n",
    "            'key',\n",
    "            'liveness',\n",
    "            'loudness',\n",
    "            'mode',\n",
    "            'speechiness',\n",
    "            'tempo',\n",
    "            'time_signature',\n",
    "            'valence'}}}\n",
    "\n",
    "        df = pd.DataFrame.from_dict(json_normalize(song_features[\"audio_features\"]),orient='columns')   \n",
    "        df = df.reindex(sorted(df.columns), axis=1)\n",
    "        return df\n",
    "    \n",
    "    def get_results(self,song_features_df):\n",
    "        scaler = load(\"./models/scalar3.joblib\")\n",
    "        print('Scaling data...')\n",
    "        data_scaled = scaler.transform(song_features_df)\n",
    "        normalizer = Normalizer()\n",
    "        data_normalized = normalizer.fit_transform(data_scaled)\n",
    "        print('Loading pickled model...')\n",
    "        model = load('./models/model5.joblib')\n",
    "        results = model.kneighbors([data_normalized][0])[1:]\n",
    "        print('results returned')\n",
    "        return results[0]\n",
    "    \n",
    "    def filter_model(self,model_results,source_genre_list): \n",
    "        #loop takes KNN results and filters by source track genres\n",
    "        print(\"filter for genres initiated\")\n",
    "        genre_array = pickle.load(open(\"./data/genres_array_2.pkl\",\"rb\"))\n",
    "        filtered_list = []\n",
    "        song_list_length = 20\n",
    "        for output_song_index in model_results[0][1:]:\n",
    "            output_genre_list = genre_array[output_song_index]\n",
    "            for output_genre in output_genre_list:\n",
    "                output_genre = output_genre.strip(\" \")\n",
    "                for source_genre in source_genre_list:\n",
    "                    source_genre = \"'\" + source_genre + \"'\"\n",
    "                    if source_genre == output_genre:\n",
    "                        filtered_list.append(output_song_index)\n",
    "                    else:\n",
    "                        continue\n",
    "        if len(set(filtered_list)) > song_list_length:\n",
    "            print(\"filter found at least 20 genre matches\")\n",
    "            filtered_list = set(filtered_list)\n",
    "            filtered_list = list(filtered_list)[0:20]\n",
    "        else:\n",
    "            counter = song_list_length - len(set(filtered_list))\n",
    "            print(len(set(filtered_list)))\n",
    "            print(counter)\n",
    "            print(f'need to add {counter} items to final song output')\n",
    "            for output_song_index in model_results[1:]:\n",
    "                if output_song_index not in filtered_list:\n",
    "                    if counter > 0:\n",
    "                        filtered_list.append(output_song_index)\n",
    "                        counter -= 1\n",
    "                    else:\n",
    "                        break\n",
    "        print(\"filtered list with 20 unique song indices returned\")\n",
    "        return filtered_list\n",
    "    \n",
    "    def song_id_prediction_output(self,filtered_list): \n",
    "        similar_songs = []\n",
    "        print('song_id_list loading...')\n",
    "        song_id_array = pickle.load(open('./data/song_id_array3.pkl', 'rb'))\n",
    "        print('song_id_list loaded')\n",
    "        for song_row in filtered_list:\n",
    "            song_id = song_id_array[song_row]\n",
    "            similar_songs.append({'similarity': [.99], 'values': song_id})\n",
    "        json_dict = {\"songs\": similar_songs}\n",
    "        print(\"Results returned\")\n",
    "        return json_dict\n",
    "    \n",
    "    def get_user_ids(self, sp):\n",
    "        current_user_dict = sp.current_user()\n",
    "        display_name = current_user_dict['display_name']\n",
    "        user_id = current_user_dict['id']\n",
    "        return user_id, display_name"
   ]
  },
  {
   "cell_type": "code",
   "execution_count": 15,
   "metadata": {},
   "outputs": [
    {
     "data": {
      "text/plain": [
       "'BQD0Mg1tGefC-uhH9A4MvF7O6ZkZNZCoAOJMJchJPldflgZ6qktAxUFTy91Yf4MxPMvWheNSOsKrLN7YJpBIyH6JAQJrcwyBPHRLHKjRuRRkHSbDOpkqCuqlPXjyOWcqj11EsB9ikycKmEGMTdma8KYtSIwJJ42siaDK9GQQ_7kZ'"
      ]
     },
     "execution_count": 15,
     "metadata": {},
     "output_type": "execute_result"
    }
   ],
   "source": [
    "token"
   ]
  },
  {
   "cell_type": "code",
   "execution_count": 16,
   "metadata": {},
   "outputs": [],
   "source": [
    "sd_obj = Sound_Drip(token)"
   ]
  },
  {
   "cell_type": "code",
   "execution_count": 17,
   "metadata": {},
   "outputs": [],
   "source": [
    "sp = sd_obj.instantiate_sp(token)"
   ]
  },
  {
   "cell_type": "code",
   "execution_count": 18,
   "metadata": {},
   "outputs": [
    {
     "data": {
      "text/plain": [
       "<spotipy.client.Spotify at 0x117c8c1d0>"
      ]
     },
     "execution_count": 18,
     "metadata": {},
     "output_type": "execute_result"
    }
   ],
   "source": [
    "sp"
   ]
  },
  {
   "cell_type": "code",
   "execution_count": 19,
   "metadata": {},
   "outputs": [],
   "source": [
    "user_id, display_name = sd_obj.get_user_ids(sp)"
   ]
  },
  {
   "cell_type": "code",
   "execution_count": 20,
   "metadata": {},
   "outputs": [
    {
     "data": {
      "text/plain": [
       "('augt12ocf9csxa4s8kbq9reg8', 'Xander')"
      ]
     },
     "execution_count": 20,
     "metadata": {},
     "output_type": "execute_result"
    }
   ],
   "source": [
    "user_id, display_name"
   ]
  },
  {
   "cell_type": "code",
   "execution_count": 22,
   "metadata": {},
   "outputs": [],
   "source": [
    "user_song_id = sd_obj.get_user_song_id(sp)"
   ]
  },
  {
   "cell_type": "code",
   "execution_count": null,
   "metadata": {},
   "outputs": [],
   "source": []
  },
  {
   "cell_type": "markdown",
   "metadata": {},
   "source": [
    "# Db Calls"
   ]
  },
  {
   "cell_type": "code",
   "execution_count": 5,
   "metadata": {},
   "outputs": [],
   "source": [
    "def reconnect():\n",
    "    conn = ps.connect(host=POSTGRES_ADDRESS,\n",
    "                  database=POSTGRES_DBNAME,\n",
    "                  user=POSTGRES_USERNAME,\n",
    "                  password=POSTGRES_PASSWORD,\n",
    "                  port=POSTGRES_PORT)\n",
    "    cur = conn.cursor()"
   ]
  },
  {
   "cell_type": "code",
   "execution_count": 42,
   "metadata": {},
   "outputs": [],
   "source": [
    "# def run_query():\n",
    "#     try:\n",
    "#         cur.execute(query)\n",
    "#     except Exception as e:\n",
    "#         print (e.message)\n",
    "#         return reconnect()"
   ]
  },
  {
   "cell_type": "code",
   "execution_count": 43,
   "metadata": {},
   "outputs": [],
   "source": [
    "# run_query()"
   ]
  },
  {
   "cell_type": "code",
   "execution_count": null,
   "metadata": {},
   "outputs": [],
   "source": [
    "# query = \"\"\"SELECT * FROM users\n",
    "#             WHERE schemaname != 'pg_catalog'\n",
    "#             AND schemaname != 'information_schema';\"\"\"\n",
    "# cur.execute(query)\n",
    "# cur.fetchall()"
   ]
  },
  {
   "cell_type": "code",
   "execution_count": 4,
   "metadata": {},
   "outputs": [
    {
     "data": {
      "text/plain": [
       "[]"
      ]
     },
     "execution_count": 4,
     "metadata": {},
     "output_type": "execute_result"
    }
   ],
   "source": [
    "query = \"\"\"SELECT * FROM users;\"\"\"\n",
    "\n",
    "cur.execute(query)\n",
    "cur.fetchall()"
   ]
  },
  {
   "cell_type": "code",
   "execution_count": 9,
   "metadata": {},
   "outputs": [
    {
     "data": {
      "text/plain": [
       "[]"
      ]
     },
     "execution_count": 9,
     "metadata": {},
     "output_type": "execute_result"
    }
   ],
   "source": [
    "query = \"\"\"SELECT * FROM recommendations\"\"\"\n",
    "\n",
    "cur.execute(query)\n",
    "cur.fetchall()"
   ]
  },
  {
   "cell_type": "code",
   "execution_count": null,
   "metadata": {},
   "outputs": [],
   "source": [
    "# cur.execute(\"\"\"CREATE TABLE users\n",
    "#                 (ID integer, \n",
    "#                 display_name varchar(50)\n",
    "#                 );\"\"\")\n",
    "# # Commit table creation\n",
    "# conn.commit()"
   ]
  },
  {
   "cell_type": "code",
   "execution_count": 8,
   "metadata": {},
   "outputs": [],
   "source": [
    "cur.execute(\"\"\"CREATE TABLE recommendations\n",
    "                (id serial PRIMARY KEY,\n",
    "                userID varchar(50), \n",
    "                songID varchar(50),\n",
    "                recDate DATE \n",
    "                )\"\"\")\n",
    "# Commit table creation\n",
    "conn.commit()"
   ]
  },
  {
   "cell_type": "code",
   "execution_count": 18,
   "metadata": {},
   "outputs": [],
   "source": [
    "cur.execute(\"\"\"CREATE TABLE account(\n",
    "               user_id serial PRIMARY KEY,\n",
    "               username VARCHAR (50) UNIQUE NOT NULL,\n",
    "               password VARCHAR (50) NOT NULL,\n",
    "               email VARCHAR (355) UNIQUE NOT NULL,\n",
    "               created_on TIMESTAMP NOT NULL,\n",
    "               last_login TIMESTAMP\n",
    "               );\"\"\")\n",
    "# Commit table creation\n",
    "conn.commit()"
   ]
  },
  {
   "cell_type": "code",
   "execution_count": null,
   "metadata": {},
   "outputs": [],
   "source": [
    "cursor.execute(\"\"\"CREATE TABLE survival(\n",
    "id SERIAL PRIMARY KEY,\n",
    "survived integer)\"\"\")"
   ]
  }
 ],
 "metadata": {
  "kernelspec": {
   "display_name": "unique-song-reqs",
   "language": "python",
   "name": "unique-song-reqs"
  },
  "language_info": {
   "codemirror_mode": {
    "name": "ipython",
    "version": 3
   },
   "file_extension": ".py",
   "mimetype": "text/x-python",
   "name": "python",
   "nbconvert_exporter": "python",
   "pygments_lexer": "ipython3",
   "version": "3.7.4"
  }
 },
 "nbformat": 4,
 "nbformat_minor": 4
}
