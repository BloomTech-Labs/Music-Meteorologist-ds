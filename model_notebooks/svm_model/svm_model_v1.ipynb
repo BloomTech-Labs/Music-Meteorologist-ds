{
 "cells": [
  {
   "cell_type": "code",
   "execution_count": 6,
   "metadata": {},
   "outputs": [],
   "source": [
    "# Importing libraries\n",
    "\n",
    "import pandas as pd\n",
    "import numpy as np\n",
    "import sqlite3\n",
    "import matplotlib.pyplot as plt\n",
    "from sklearn.preprocessing import StandardScaler, MinMaxScaler\n",
    "from sklearn.model_selection import train_test_split\n",
    "from sklearn.svm import SVC\n",
    "from sklearn.metrics import classification_report, confusion_matrix"
   ]
  },
  {
   "cell_type": "markdown",
   "metadata": {},
   "source": [
    "# Import Data"
   ]
  },
  {
   "cell_type": "code",
   "execution_count": 3,
   "metadata": {},
   "outputs": [],
   "source": [
    "con = sqlite3.connect(\"song_list_v3.db\")\n",
    "# Load the data into a DataFrame\n",
    "main_df = pd.read_sql_query(\"SELECT * from songs\", con)\n",
    "con.close()"
   ]
  },
  {
   "cell_type": "markdown",
   "metadata": {},
   "source": [
    "# Cleaning/Scaling Data"
   ]
  },
  {
   "cell_type": "code",
   "execution_count": 7,
   "metadata": {},
   "outputs": [
    {
     "data": {
      "text/plain": [
       "((574018, 20),\n",
       " Index(['index', 'acousticness', 'artist', 'danceability', 'duration_ms',\n",
       "        'energy', 'instrumentalness', 'key', 'liveness', 'loudness', 'mode',\n",
       "        'songid', 'speechiness', 'tempo', 'time_signature', 'track', 'valence',\n",
       "        'genres', 'popularity', 'availability'],\n",
       "       dtype='object'))"
      ]
     },
     "execution_count": 7,
     "metadata": {},
     "output_type": "execute_result"
    }
   ],
   "source": [
    "main_df.shape, main_df.columns"
   ]
  },
  {
   "cell_type": "code",
   "execution_count": 27,
   "metadata": {},
   "outputs": [
    {
     "data": {
      "text/plain": [
       "(574018, 13)"
      ]
     },
     "execution_count": 27,
     "metadata": {},
     "output_type": "execute_result"
    }
   ],
   "source": [
    "# dropping unnecessary columns\n",
    "X = main_df.drop([\"songid\",\"artist\",\"track\", \"duration_ms\", \"popularity\", \"availability\", \"genres\"], axis=1)\n",
    "y = main_df[\"genres\"]\n",
    "# checking that they're dropped\n",
    "X.shape"
   ]
  },
  {
   "cell_type": "code",
   "execution_count": 28,
   "metadata": {},
   "outputs": [
    {
     "data": {
      "text/plain": [
       "(574018,)"
      ]
     },
     "execution_count": 28,
     "metadata": {},
     "output_type": "execute_result"
    }
   ],
   "source": [
    "y.shape"
   ]
  },
  {
   "cell_type": "code",
   "execution_count": 24,
   "metadata": {},
   "outputs": [
    {
     "data": {
      "text/html": [
       "<div>\n",
       "<style scoped>\n",
       "    .dataframe tbody tr th:only-of-type {\n",
       "        vertical-align: middle;\n",
       "    }\n",
       "\n",
       "    .dataframe tbody tr th {\n",
       "        vertical-align: top;\n",
       "    }\n",
       "\n",
       "    .dataframe thead th {\n",
       "        text-align: right;\n",
       "    }\n",
       "</style>\n",
       "<table border=\"1\" class=\"dataframe\">\n",
       "  <thead>\n",
       "    <tr style=\"text-align: right;\">\n",
       "      <th></th>\n",
       "      <th>index</th>\n",
       "      <th>acousticness</th>\n",
       "      <th>danceability</th>\n",
       "      <th>energy</th>\n",
       "      <th>instrumentalness</th>\n",
       "      <th>key</th>\n",
       "      <th>liveness</th>\n",
       "      <th>loudness</th>\n",
       "      <th>mode</th>\n",
       "      <th>speechiness</th>\n",
       "      <th>tempo</th>\n",
       "      <th>time_signature</th>\n",
       "      <th>valence</th>\n",
       "    </tr>\n",
       "  </thead>\n",
       "  <tbody>\n",
       "    <tr>\n",
       "      <th>0</th>\n",
       "      <td>0</td>\n",
       "      <td>0.001300</td>\n",
       "      <td>0.487</td>\n",
       "      <td>0.678</td>\n",
       "      <td>0.055100</td>\n",
       "      <td>9.0</td>\n",
       "      <td>0.0846</td>\n",
       "      <td>-7.780</td>\n",
       "      <td>1.0</td>\n",
       "      <td>0.0495</td>\n",
       "      <td>149.940</td>\n",
       "      <td>4.0</td>\n",
       "      <td>0.870</td>\n",
       "    </tr>\n",
       "    <tr>\n",
       "      <th>1</th>\n",
       "      <td>1</td>\n",
       "      <td>0.000045</td>\n",
       "      <td>0.662</td>\n",
       "      <td>0.823</td>\n",
       "      <td>0.952000</td>\n",
       "      <td>4.0</td>\n",
       "      <td>0.3430</td>\n",
       "      <td>-1.711</td>\n",
       "      <td>0.0</td>\n",
       "      <td>0.0662</td>\n",
       "      <td>177.745</td>\n",
       "      <td>4.0</td>\n",
       "      <td>0.621</td>\n",
       "    </tr>\n",
       "    <tr>\n",
       "      <th>2</th>\n",
       "      <td>4</td>\n",
       "      <td>0.002760</td>\n",
       "      <td>0.859</td>\n",
       "      <td>0.741</td>\n",
       "      <td>0.000000</td>\n",
       "      <td>11.0</td>\n",
       "      <td>0.3250</td>\n",
       "      <td>-12.329</td>\n",
       "      <td>0.0</td>\n",
       "      <td>0.2710</td>\n",
       "      <td>98.082</td>\n",
       "      <td>4.0</td>\n",
       "      <td>0.529</td>\n",
       "    </tr>\n",
       "    <tr>\n",
       "      <th>3</th>\n",
       "      <td>5</td>\n",
       "      <td>0.348000</td>\n",
       "      <td>0.361</td>\n",
       "      <td>0.483</td>\n",
       "      <td>0.000003</td>\n",
       "      <td>7.0</td>\n",
       "      <td>0.1770</td>\n",
       "      <td>-6.875</td>\n",
       "      <td>1.0</td>\n",
       "      <td>0.0287</td>\n",
       "      <td>94.538</td>\n",
       "      <td>4.0</td>\n",
       "      <td>0.682</td>\n",
       "    </tr>\n",
       "    <tr>\n",
       "      <th>4</th>\n",
       "      <td>6</td>\n",
       "      <td>0.340000</td>\n",
       "      <td>0.533</td>\n",
       "      <td>0.302</td>\n",
       "      <td>0.179000</td>\n",
       "      <td>10.0</td>\n",
       "      <td>0.1110</td>\n",
       "      <td>-10.308</td>\n",
       "      <td>1.0</td>\n",
       "      <td>0.0307</td>\n",
       "      <td>134.959</td>\n",
       "      <td>3.0</td>\n",
       "      <td>0.294</td>\n",
       "    </tr>\n",
       "  </tbody>\n",
       "</table>\n",
       "</div>"
      ],
      "text/plain": [
       "   index  acousticness  danceability  energy  instrumentalness   key  \\\n",
       "0      0      0.001300         0.487   0.678          0.055100   9.0   \n",
       "1      1      0.000045         0.662   0.823          0.952000   4.0   \n",
       "2      4      0.002760         0.859   0.741          0.000000  11.0   \n",
       "3      5      0.348000         0.361   0.483          0.000003   7.0   \n",
       "4      6      0.340000         0.533   0.302          0.179000  10.0   \n",
       "\n",
       "   liveness  loudness  mode  speechiness    tempo  time_signature  valence  \n",
       "0    0.0846    -7.780   1.0       0.0495  149.940             4.0    0.870  \n",
       "1    0.3430    -1.711   0.0       0.0662  177.745             4.0    0.621  \n",
       "2    0.3250   -12.329   0.0       0.2710   98.082             4.0    0.529  \n",
       "3    0.1770    -6.875   1.0       0.0287   94.538             4.0    0.682  \n",
       "4    0.1110   -10.308   1.0       0.0307  134.959             3.0    0.294  "
      ]
     },
     "execution_count": 24,
     "metadata": {},
     "output_type": "execute_result"
    }
   ],
   "source": [
    "X.head()"
   ]
  },
  {
   "cell_type": "code",
   "execution_count": 25,
   "metadata": {},
   "outputs": [
    {
     "data": {
      "text/plain": [
       "array([0.        , 0.00130522, 0.4884654 , 0.678     , 0.0551    ,\n",
       "       0.81818182, 0.0846    , 0.78720453, 1.        , 0.05118925,\n",
       "       0.60009846, 0.8       , 0.87      ])"
      ]
     },
     "execution_count": 25,
     "metadata": {},
     "output_type": "execute_result"
    }
   ],
   "source": [
    "# instantiating scaler\n",
    "scaler = MinMaxScaler()\n",
    "\n",
    "# scaling data\n",
    "data_scaled = scaler.fit_transform(X)\n",
    "\n",
    "# confirming scaling took place\n",
    "data_scaled[0]"
   ]
  },
  {
   "cell_type": "markdown",
   "metadata": {},
   "source": [
    "Data is scaled and ready to be fed to the model"
   ]
  },
  {
   "cell_type": "markdown",
   "metadata": {},
   "source": [
    "#  support vector machine"
   ]
  },
  {
   "cell_type": "code",
   "execution_count": 10,
   "metadata": {},
   "outputs": [],
   "source": [
    "# instantiating model class\n",
    "knn = NearestNeighbors(n_neighbors=21,algorithm='kd_tree')\n",
    "\n",
    "# fitting model\n",
    "model = knn.fit(data_scaled)\n",
    "\n",
    "# running model to test output\n",
    "knn_results = knn.kneighbors([data_scaled[1000]])[1]"
   ]
  },
  {
   "cell_type": "code",
   "execution_count": 11,
   "metadata": {},
   "outputs": [
    {
     "data": {
      "text/plain": [
       "array([[  1000, 647630, 304823, 412399,  48174, 411195, 240739, 537833,\n",
       "         50765, 450355, 151925, 707048, 557285, 508280, 175165, 510531,\n",
       "        652499, 267268, 161932, 587960,  79755]])"
      ]
     },
     "execution_count": 11,
     "metadata": {},
     "output_type": "execute_result"
    }
   ],
   "source": [
    "knn_results"
   ]
  },
  {
   "cell_type": "markdown",
   "metadata": {},
   "source": [
    "# Pickling model"
   ]
  },
  {
   "cell_type": "code",
   "execution_count": 8,
   "metadata": {},
   "outputs": [],
   "source": [
    "import pickle\n",
    "\n",
    "filename = './models/knn_model_v1.pkl'\n",
    "pickle.dump(model, open(filename, 'wb'))"
   ]
  },
  {
   "cell_type": "code",
   "execution_count": 9,
   "metadata": {},
   "outputs": [],
   "source": [
    "# pulling in the (now) pickled model\n",
    "model_pickle = pickle.load(open(filename, 'rb'))"
   ]
  },
  {
   "cell_type": "code",
   "execution_count": 10,
   "metadata": {},
   "outputs": [
    {
     "data": {
      "text/plain": [
       "array([[  1000, 647630, 304823, 412399,  48174, 411195, 240739, 537833,\n",
       "         50765, 450355, 151925, 707048, 557285, 508280, 175165, 510531,\n",
       "        652499, 267268, 161932, 587960,  79755]])"
      ]
     },
     "execution_count": 10,
     "metadata": {},
     "output_type": "execute_result"
    }
   ],
   "source": [
    "# Loading model to test on scaled data (not pickled data)\n",
    "pickle_results = model_pickle.kneighbors([data_scaled[1000]])[1]\n",
    "\n",
    "# displaying output\n",
    "pickle_results"
   ]
  },
  {
   "cell_type": "markdown",
   "metadata": {},
   "source": [
    "# Pickling Scaled Data"
   ]
  },
  {
   "cell_type": "code",
   "execution_count": 11,
   "metadata": {},
   "outputs": [],
   "source": [
    "filename2 = './data_scaled.pkl'\n",
    "pickle.dump(data_scaled, open(filename2, 'wb'))"
   ]
  },
  {
   "cell_type": "markdown",
   "metadata": {},
   "source": [
    "# (OLD) Testing both pickles for dataset, model"
   ]
  },
  {
   "cell_type": "code",
   "execution_count": 12,
   "metadata": {},
   "outputs": [],
   "source": [
    "# importing libraries (even though they are visible above)\n",
    "# to illustrate which packages are needed to create the function below\n",
    "\n",
    "import pandas as pd \n",
    "from sklearn.neighbors import NearestNeighbors\n",
    "import pickle\n",
    "\n",
    "\n",
    "# this function predicts on a song id\n",
    "\n",
    "def predict(id):\n",
    "    #loads in pickled data and model\n",
    "    X = pickle.load(open('./data_scaled.pkl', 'rb'))\n",
    "    loaded_pickle = pickle.load(open('./models/knn_model_v1.pkl', 'rb'))\n",
    "    #calculates results\n",
    "    results = loaded_pickle.kneighbors([X[id]])[1]\n",
    "    return results"
   ]
  },
  {
   "cell_type": "code",
   "execution_count": 13,
   "metadata": {},
   "outputs": [
    {
     "data": {
      "text/plain": [
       "array([[     0, 341644, 462704, 499704, 105639, 347586,  27005, 553442,\n",
       "        594846, 273222, 636137, 218622, 375716,  40341, 510427, 518171,\n",
       "        209537, 168110, 453579, 456931,  89949]])"
      ]
     },
     "execution_count": 13,
     "metadata": {},
     "output_type": "execute_result"
    }
   ],
   "source": [
    "predict(0)"
   ]
  },
  {
   "cell_type": "code",
   "execution_count": 14,
   "metadata": {},
   "outputs": [],
   "source": [
    "content = {\n",
    "    \"audio_features\": {\n",
    "        \"acousticness\": 0.934,\n",
    "        \"danceability\": 0.186,\n",
    "        \"energy\": 0.107,\n",
    "        \"instrumentalness\": 0,\n",
    "        \"key\": 5,\n",
    "        \"liveness\": 0.297,\n",
    "        \"loudness\": -14.802,\n",
    "        \"mode\": 1,\n",
    "        \"speechiness\": 0.0347,\n",
    "        \"tempo\": 107.095,\n",
    "        \"time_signature\": 4,\n",
    "        \"valence\": 0.149\n",
    "    }\n",
    "}"
   ]
  },
  {
   "cell_type": "code",
   "execution_count": 15,
   "metadata": {},
   "outputs": [],
   "source": [
    "dataframe = pd.DataFrame.from_dict(\n",
    "        json_normalize(content['audio_features']),\n",
    "                                orient='columns')"
   ]
  },
  {
   "cell_type": "code",
   "execution_count": 16,
   "metadata": {},
   "outputs": [
    {
     "data": {
      "text/html": [
       "<div>\n",
       "<style scoped>\n",
       "    .dataframe tbody tr th:only-of-type {\n",
       "        vertical-align: middle;\n",
       "    }\n",
       "\n",
       "    .dataframe tbody tr th {\n",
       "        vertical-align: top;\n",
       "    }\n",
       "\n",
       "    .dataframe thead th {\n",
       "        text-align: right;\n",
       "    }\n",
       "</style>\n",
       "<table border=\"1\" class=\"dataframe\">\n",
       "  <thead>\n",
       "    <tr style=\"text-align: right;\">\n",
       "      <th></th>\n",
       "      <th>acousticness</th>\n",
       "      <th>danceability</th>\n",
       "      <th>energy</th>\n",
       "      <th>instrumentalness</th>\n",
       "      <th>key</th>\n",
       "      <th>liveness</th>\n",
       "      <th>loudness</th>\n",
       "      <th>mode</th>\n",
       "      <th>speechiness</th>\n",
       "      <th>tempo</th>\n",
       "      <th>time_signature</th>\n",
       "      <th>valence</th>\n",
       "    </tr>\n",
       "  </thead>\n",
       "  <tbody>\n",
       "    <tr>\n",
       "      <th>0</th>\n",
       "      <td>0.934</td>\n",
       "      <td>0.186</td>\n",
       "      <td>0.107</td>\n",
       "      <td>0</td>\n",
       "      <td>5</td>\n",
       "      <td>0.297</td>\n",
       "      <td>-14.802</td>\n",
       "      <td>1</td>\n",
       "      <td>0.0347</td>\n",
       "      <td>107.095</td>\n",
       "      <td>4</td>\n",
       "      <td>0.149</td>\n",
       "    </tr>\n",
       "  </tbody>\n",
       "</table>\n",
       "</div>"
      ],
      "text/plain": [
       "   acousticness  danceability  energy  instrumentalness  key  liveness  \\\n",
       "0         0.934         0.186   0.107                 0    5     0.297   \n",
       "\n",
       "   loudness  mode  speechiness    tempo  time_signature  valence  \n",
       "0   -14.802     1       0.0347  107.095               4    0.149  "
      ]
     },
     "execution_count": 16,
     "metadata": {},
     "output_type": "execute_result"
    }
   ],
   "source": [
    "dataframe"
   ]
  },
  {
   "cell_type": "code",
   "execution_count": 17,
   "metadata": {},
   "outputs": [
    {
     "data": {
      "text/plain": [
       "array([[0.937751  , 0.18655968, 0.107     , 0.        , 0.45454545,\n",
       "        0.297     , 0.68134949, 1.        , 0.03584711, 0.42840913,\n",
       "        0.8       , 0.149     ]])"
      ]
     },
     "execution_count": 17,
     "metadata": {},
     "output_type": "execute_result"
    }
   ],
   "source": [
    "dataframe_scaled = scaler.transform(dataframe)\n",
    "\n",
    "dataframe_scaled"
   ]
  },
  {
   "cell_type": "code",
   "execution_count": 22,
   "metadata": {},
   "outputs": [],
   "source": [
    "import pickle\n",
    "\n",
    "filename = './models/scaler.pkl'\n",
    "pickle.dump(scaler, open(filename, 'wb'))"
   ]
  },
  {
   "cell_type": "code",
   "execution_count": 14,
   "metadata": {},
   "outputs": [],
   "source": [
    "target = 'songid'\n",
    "\n",
    "song_id_array = song_list[target]"
   ]
  },
  {
   "cell_type": "code",
   "execution_count": 15,
   "metadata": {},
   "outputs": [
    {
     "data": {
      "text/plain": [
       "0         5PS5dpaLogPzYU9hWiWyZb\n",
       "1         41RpZW2lxAdnqDd2nMBzLQ\n",
       "2         2poHURuOfVNbzZdivAwtOH\n",
       "3         1jg9hZnReygpBvV2axGuPy\n",
       "4         3GsS8jzoixpCnp4jDWCEvb\n",
       "                   ...          \n",
       "116091    1xm8J6EFMA6N8JDqH8vzuz\n",
       "116238    4NwmHBjPb9i9N3naLCMVCG\n",
       "116261    5Xo8AsEz0gpW6Rpo2jXvBN\n",
       "116308    4Fnz6vDqufd3ens0Gf9LC5\n",
       "116324    2tolmRzbUfgL5KRplIqHlu\n",
       "Name: songid, Length: 728156, dtype: object"
      ]
     },
     "execution_count": 15,
     "metadata": {},
     "output_type": "execute_result"
    }
   ],
   "source": [
    "song_id_array"
   ]
  },
  {
   "cell_type": "code",
   "execution_count": 16,
   "metadata": {},
   "outputs": [
    {
     "ename": "NameError",
     "evalue": "name 'sys' is not defined",
     "output_type": "error",
     "traceback": [
      "\u001b[0;31m---------------------------------------------------------------------------\u001b[0m",
      "\u001b[0;31mNameError\u001b[0m                                 Traceback (most recent call last)",
      "\u001b[0;32m<ipython-input-16-114c8637e68c>\u001b[0m in \u001b[0;36m<module>\u001b[0;34m\u001b[0m\n\u001b[0;32m----> 1\u001b[0;31m \u001b[0msys\u001b[0m\u001b[0;34m.\u001b[0m\u001b[0mgetsizeof\u001b[0m\u001b[0;34m(\u001b[0m\u001b[0msong_id_array\u001b[0m\u001b[0;34m)\u001b[0m\u001b[0;34m\u001b[0m\u001b[0;34m\u001b[0m\u001b[0m\n\u001b[0m",
      "\u001b[0;31mNameError\u001b[0m: name 'sys' is not defined"
     ]
    }
   ],
   "source": [
    "sys.getsizeof(song_id_array)"
   ]
  },
  {
   "cell_type": "code",
   "execution_count": 17,
   "metadata": {},
   "outputs": [],
   "source": [
    "song_id_list = song_id_array.tolist()"
   ]
  },
  {
   "cell_type": "code",
   "execution_count": 37,
   "metadata": {},
   "outputs": [
    {
     "data": {
      "text/plain": [
       "5825312"
      ]
     },
     "execution_count": 37,
     "metadata": {},
     "output_type": "execute_result"
    }
   ],
   "source": [
    "sys.getsizeof(song_id_list)"
   ]
  },
  {
   "cell_type": "code",
   "execution_count": 39,
   "metadata": {},
   "outputs": [],
   "source": [
    "import pickle\n",
    "\n",
    "filename = 'Flask_API/SOUNDDRIP/data/song_id_array.pkl'\n",
    "pickle.dump(song_id_array, open(filename, 'wb'))"
   ]
  },
  {
   "cell_type": "code",
   "execution_count": 30,
   "metadata": {},
   "outputs": [],
   "source": [
    "import pickle\n",
    "\n",
    "filename = 'song_id_list2.pkl'\n",
    "pickle.dump(song_id_list, open(filename, 'wb'))"
   ]
  },
  {
   "cell_type": "code",
   "execution_count": 3,
   "metadata": {},
   "outputs": [],
   "source": [
    "content = {\n",
    "    \"audio_features\": {\n",
    "        \"acousticness\": 0.934,\n",
    "        \"danceability\": 0.186,\n",
    "        \"energy\": 0.107,\n",
    "        \"instrumentalness\": 0,\n",
    "        \"key\": 5,\n",
    "        \"liveness\": 0.297,\n",
    "        \"loudness\": -14.802,\n",
    "        \"mode\": 1,\n",
    "        \"speechiness\": 0.0347,\n",
    "        \"tempo\": 107.095,\n",
    "        \"time_signature\": 4,\n",
    "        \"valence\": 0.149\n",
    "    }\n",
    "}\n",
    "\n",
    "def predict(content):\n",
    "    print('Loading dataframe...')\n",
    "    dataframe = pd.DataFrame.from_dict(\n",
    "        json_normalize(content['audio_features']),\n",
    "                                orient='columns')\n",
    "    print('Dataframe Object Created')\n",
    "    print('Loading pickled scaler...')\n",
    "    scaler = pickle.load(open('models/scaler.pkl', 'rb'))\n",
    "    print('Pickled scaler loaded')\n",
    "    print('Scaling dataframe object...')\n",
    "    dataframe_scaled = scaler.transform(dataframe)\n",
    "    print('Dataframe scaled')\n",
    "    print('Loading pickled model...')\n",
    "    model = pickle.load(open('./models/knn_model_v1.pkl', 'rb'))\n",
    "    print('Model loaded')\n",
    "    results = model.kneighbors([dataframe_scaled][0])[1]\n",
    "    print('Prediction executed')\n",
    "\n",
    "    return results\n"
   ]
  },
  {
   "cell_type": "code",
   "execution_count": 4,
   "metadata": {},
   "outputs": [
    {
     "name": "stdout",
     "output_type": "stream",
     "text": [
      "Loading dataframe...\n",
      "Dataframe Object Created\n",
      "Loading pickled scaler...\n"
     ]
    },
    {
     "ename": "NameError",
     "evalue": "name 'pickle' is not defined",
     "output_type": "error",
     "traceback": [
      "\u001b[0;31m---------------------------------------------------------------------------\u001b[0m",
      "\u001b[0;31mNameError\u001b[0m                                 Traceback (most recent call last)",
      "\u001b[0;32m<ipython-input-4-f66d5e90177c>\u001b[0m in \u001b[0;36m<module>\u001b[0;34m\u001b[0m\n\u001b[0;32m----> 1\u001b[0;31m \u001b[0mpredict\u001b[0m\u001b[0;34m(\u001b[0m\u001b[0mcontent\u001b[0m\u001b[0;34m)\u001b[0m\u001b[0;34m\u001b[0m\u001b[0;34m\u001b[0m\u001b[0m\n\u001b[0m",
      "\u001b[0;32m<ipython-input-3-95fb355ce8eb>\u001b[0m in \u001b[0;36mpredict\u001b[0;34m(content)\u001b[0m\n\u001b[1;32m     23\u001b[0m     \u001b[0mprint\u001b[0m\u001b[0;34m(\u001b[0m\u001b[0;34m'Dataframe Object Created'\u001b[0m\u001b[0;34m)\u001b[0m\u001b[0;34m\u001b[0m\u001b[0;34m\u001b[0m\u001b[0m\n\u001b[1;32m     24\u001b[0m     \u001b[0mprint\u001b[0m\u001b[0;34m(\u001b[0m\u001b[0;34m'Loading pickled scaler...'\u001b[0m\u001b[0;34m)\u001b[0m\u001b[0;34m\u001b[0m\u001b[0;34m\u001b[0m\u001b[0m\n\u001b[0;32m---> 25\u001b[0;31m     \u001b[0mscaler\u001b[0m \u001b[0;34m=\u001b[0m \u001b[0mpickle\u001b[0m\u001b[0;34m.\u001b[0m\u001b[0mload\u001b[0m\u001b[0;34m(\u001b[0m\u001b[0mopen\u001b[0m\u001b[0;34m(\u001b[0m\u001b[0;34m'models/scaler.pkl'\u001b[0m\u001b[0;34m,\u001b[0m \u001b[0;34m'rb'\u001b[0m\u001b[0;34m)\u001b[0m\u001b[0;34m)\u001b[0m\u001b[0;34m\u001b[0m\u001b[0;34m\u001b[0m\u001b[0m\n\u001b[0m\u001b[1;32m     26\u001b[0m     \u001b[0mprint\u001b[0m\u001b[0;34m(\u001b[0m\u001b[0;34m'Pickled scaler loaded'\u001b[0m\u001b[0;34m)\u001b[0m\u001b[0;34m\u001b[0m\u001b[0;34m\u001b[0m\u001b[0m\n\u001b[1;32m     27\u001b[0m     \u001b[0mprint\u001b[0m\u001b[0;34m(\u001b[0m\u001b[0;34m'Scaling dataframe object...'\u001b[0m\u001b[0;34m)\u001b[0m\u001b[0;34m\u001b[0m\u001b[0;34m\u001b[0m\u001b[0m\n",
      "\u001b[0;31mNameError\u001b[0m: name 'pickle' is not defined"
     ]
    }
   ],
   "source": [
    "predict(content)"
   ]
  },
  {
   "cell_type": "code",
   "execution_count": 127,
   "metadata": {},
   "outputs": [],
   "source": [
    "  # For-loop for returning 20 songs\n",
    "def all_similarities(data_result):\n",
    "    similar_songs = []\n",
    "    print('song_id_list loading...')\n",
    "    song_id_list = pickle.load(open('Flask_API/SOUNDDRIP/data/song_id_list.pkl', 'rb'))\n",
    "    print('song_id_list loaded')\n",
    "    print('beginning for loop...')\n",
    "    \n",
    "    for song_row in data_result[0][1:]:\n",
    "        song_id = song_id_list[song_row]\n",
    "        similar_songs.append({'similarity': [.99], 'values': song_id})\n",
    "    json_dict = {\"songs\": similar_songs}\n",
    "    return json_dict"
   ]
  },
  {
   "cell_type": "code",
   "execution_count": 128,
   "metadata": {},
   "outputs": [
    {
     "name": "stdout",
     "output_type": "stream",
     "text": [
      "Loading dataframe...\n",
      "Dataframe Object Created\n",
      "Loading pickled scaler...\n",
      "Pickled scaler loaded\n",
      "Scaling dataframe object...\n",
      "Dataframe scaled\n",
      "Loading pickled model...\n",
      "Model loaded\n",
      "Prediction executed\n",
      "song_id_list loading...\n",
      "song_id_list loaded\n",
      "beginning for loop...\n"
     ]
    },
    {
     "data": {
      "text/plain": [
       "{'songs': [{'similarity': [0.99], 'values': '3JeSeOxS09vw7ZaQXyDtkn'},\n",
       "  {'similarity': [0.99], 'values': '0lkEvsJLWu7HjurNUnMYqt'},\n",
       "  {'similarity': [0.99], 'values': '7GrCeh9O4Salm3oEoiDWmf'},\n",
       "  {'similarity': [0.99], 'values': '705JQ49YZOupAYQXrny5Vb'},\n",
       "  {'similarity': [0.99], 'values': '7v6maEWDjrKHQMVFoL8Tq3'},\n",
       "  {'similarity': [0.99], 'values': '6pJeuRa8dj6Hph2r9Unn5H'},\n",
       "  {'similarity': [0.99], 'values': '1XsXX5Q8mCdlDjroYAUs8r'},\n",
       "  {'similarity': [0.99], 'values': '6nl7z8eqCRRNSPJevUg5yJ'},\n",
       "  {'similarity': [0.99], 'values': '4Swt07x4GyojZApyerQ8Ta'},\n",
       "  {'similarity': [0.99], 'values': '68PGQTrsU7NTe6hfcFD3Fh'},\n",
       "  {'similarity': [0.99], 'values': '5jTnsVnWuxdSQnRv124hwL'},\n",
       "  {'similarity': [0.99], 'values': '5YsyWAtEDsStifCxF5d7wJ'},\n",
       "  {'similarity': [0.99], 'values': '4RKMHiQ1sQCJVcPEbqcXR2'},\n",
       "  {'similarity': [0.99], 'values': '7dXTqzYBW6LcuMvfmhKjeS'},\n",
       "  {'similarity': [0.99], 'values': '1pQPfwF8yZejKeu2rZOIwI'},\n",
       "  {'similarity': [0.99], 'values': '2ydHMFR78xJCTaUSgQsY1d'},\n",
       "  {'similarity': [0.99], 'values': '6eUz2WehcJdZamP5qY6Dxh'},\n",
       "  {'similarity': [0.99], 'values': '1JssSjrnWKYEHGNUJ9YgTh'},\n",
       "  {'similarity': [0.99], 'values': '5XmLezxb1jaMurxejpKKYO'},\n",
       "  {'similarity': [0.99], 'values': '3XDBH8yNPbCfuO5xKW1nHI'}]}"
      ]
     },
     "execution_count": 128,
     "metadata": {},
     "output_type": "execute_result"
    }
   ],
   "source": [
    "all_similarities(predict(content))"
   ]
  },
  {
   "cell_type": "code",
   "execution_count": 111,
   "metadata": {},
   "outputs": [
    {
     "data": {
      "text/plain": [
       "'70jVRf1KHVa4eROjpdmaja'"
      ]
     },
     "execution_count": 111,
     "metadata": {},
     "output_type": "execute_result"
    }
   ],
   "source": [
    "sorted_list = sorted(similarities, key=lambda i: i['similarity'], \n",
    "                                                         reverse=True)[:20]\n",
    "      json_dict = {\"songs\": sorted_list}\n",
    "      #data = json.dumps(json_dict)\n",
    "      return jsonify(json_dict), print('yay')"
   ]
  },
  {
   "cell_type": "markdown",
   "metadata": {},
   "source": [
    "# Get Spotify API Token / Output Audio Features"
   ]
  },
  {
   "cell_type": "code",
   "execution_count": 1,
   "metadata": {},
   "outputs": [],
   "source": [
    "import spotipy\n",
    "import spotipy.util as util"
   ]
  },
  {
   "cell_type": "code",
   "execution_count": 2,
   "metadata": {},
   "outputs": [
    {
     "name": "stdout",
     "output_type": "stream",
     "text": [
      "\n",
      "\n",
      "            User authentication requires interaction with your\n",
      "            web browser. Once you enter your credentials and\n",
      "            give authorization, you will be redirected to\n",
      "            a url.  Paste that url you were directed to to\n",
      "            complete the authorization.\n",
      "\n",
      "        \n",
      "Opened https://accounts.spotify.com/authorize?client_id=b954b92b9a674e6a9cf7322649da82d1&response_type=code&redirect_uri=https%3A%2F%2Fgoogle.com%2F&scope=user-library-read in your browser\n",
      "\n",
      "\n"
     ]
    },
    {
     "name": "stdin",
     "output_type": "stream",
     "text": [
      "Enter the URL you were redirected to:  https://www.google.com/?code=AQB6_guH_Q9DO3bhNcW534HrKK8bs0qvOZuuUDkWgYuzBXz-cdVz2uFdXlFM4X3nkXIfZ-yyx5-LVeSxJWtGp5j6cH3PhdznuNqVhfrh02QG0eF38xbO-UiPvtFg-lfr6FudpyjfwIQouNkiDbe6SfGR4yEM_MV7SBFEZ3FA7sWicsF7vXl38ekWg9Qui4D_Awk0pdBTDVkbFAwT\n"
     ]
    },
    {
     "name": "stdout",
     "output_type": "stream",
     "text": [
      "\n",
      "\n"
     ]
    }
   ],
   "source": [
    "USERNAME = 'augt12ocf9csxa4s8kbq9reg8' #your spotify username\n",
    "CLIENT_ID = 'b954b92b9a674e6a9cf7322649da82d1' #set at your developer account\n",
    "CLIENT_SECRET = '920cd41023994b1a99210243ce8967b2' #set at your developer account\n",
    "REDIRECT_URI = 'https://google.com/' #set at your developer account, usually \"http://localhost:8000\"\n",
    "SCOPE = 'user-library-read' # or else\n",
    "# ps. REDIRECT_URI is crucial here. if http://localhost:8000 is not set, or with a single '/' misplaced, it will generate a connection error.\n",
    "\n",
    "# then pass them:\n",
    "\n",
    "token = util.prompt_for_user_token(username = USERNAME, \n",
    "                                   scope = SCOPE, \n",
    "                                   client_id = CLIENT_ID, \n",
    "                                   client_secret = CLIENT_SECRET, \n",
    "                                   redirect_uri = REDIRECT_URI)\n",
    "\n",
    "if token:\n",
    "   sp = spotipy.Spotify(auth=token)"
   ]
  },
  {
   "cell_type": "code",
   "execution_count": 4,
   "metadata": {},
   "outputs": [
    {
     "data": {
      "text/plain": [
       "'BQAzm9VZMwr75qsRL2WkGWTyRVqFn9OYXIEFEzlOZfijT07_L8W5VBu0KymszA5Eg3n2_4np7yS6zibHQnfDt-DS8GZQ-7heWLAh51v4J15HzBCZhMdLJYZKgVq8aPaWU6Rfj52bmNPKnIUCvClGq-ixU2Laml5q_oUZwN7-sPko'"
      ]
     },
     "execution_count": 4,
     "metadata": {},
     "output_type": "execute_result"
    }
   ],
   "source": [
    "token"
   ]
  },
  {
   "cell_type": "code",
   "execution_count": 7,
   "metadata": {},
   "outputs": [],
   "source": [
    "token_content = {'token': token}"
   ]
  },
  {
   "cell_type": "code",
   "execution_count": 8,
   "metadata": {},
   "outputs": [
    {
     "data": {
      "text/plain": [
       "dict"
      ]
     },
     "execution_count": 8,
     "metadata": {},
     "output_type": "execute_result"
    }
   ],
   "source": [
    "type(token_content)"
   ]
  },
  {
   "cell_type": "code",
   "execution_count": 9,
   "metadata": {},
   "outputs": [
    {
     "data": {
      "text/plain": [
       "'BQAuxAqZlqyiBIPC-2MnrYjFH2amjQm8tLkh_ZYI_HkJ8MUHepG_lQrofpN--fGXM8b3tfXMfshOUvoF2Dkuh8iCepPvIvXqxCfrfSi52Rr8Njq0cnyLpde4_xo1v0-lMDjpMpeEOccK7yV_PPBVadskMoOr'"
      ]
     },
     "execution_count": 9,
     "metadata": {},
     "output_type": "execute_result"
    }
   ],
   "source": [
    "token_content['token']"
   ]
  },
  {
   "cell_type": "code",
   "execution_count": 10,
   "metadata": {},
   "outputs": [],
   "source": [
    "def get_id(token):\n",
    "    sp = spotipy.Spotify(auth=token)\n",
    "    results = sp.current_user_saved_tracks()\n",
    "    song_id = results['items'][0]['track']['id']\n",
    "    return song_id"
   ]
  },
  {
   "cell_type": "code",
   "execution_count": 11,
   "metadata": {},
   "outputs": [],
   "source": [
    "def get_features(song_id):\n",
    "    results_dict = sp.audio_features(song_id)[0]\n",
    "    audio_features = {\"audio_features\":{key: results_dict[key] for key in results_dict.keys() & {'danceability', 'energy',\n",
    "                                                                                                'key', 'loudness', 'mode',\n",
    "                                                                                                'speechiness', 'acousticness',\n",
    "                                                                                                'instrumentalness', 'liveness',\n",
    "                                                                                                'valence', 'tempo', 'time_signature'}}}\n",
    "        \n",
    "    return audio_features"
   ]
  },
  {
   "cell_type": "code",
   "execution_count": 12,
   "metadata": {},
   "outputs": [],
   "source": [
    " acoustical_features = get_features(get_id(token))"
   ]
  },
  {
   "cell_type": "code",
   "execution_count": 13,
   "metadata": {},
   "outputs": [
    {
     "data": {
      "text/plain": [
       "{'audio_features': {'liveness': 0.204,\n",
       "  'acousticness': 0.472,\n",
       "  'key': 9,\n",
       "  'danceability': 0.889,\n",
       "  'energy': 0.816,\n",
       "  'speechiness': 0.247,\n",
       "  'mode': 1,\n",
       "  'loudness': -4.67,\n",
       "  'valence': 0.777,\n",
       "  'instrumentalness': 0,\n",
       "  'time_signature': 4,\n",
       "  'tempo': 96.056}}"
      ]
     },
     "execution_count": 13,
     "metadata": {},
     "output_type": "execute_result"
    }
   ],
   "source": [
    "acoustical_features"
   ]
  },
  {
   "cell_type": "markdown",
   "metadata": {},
   "source": [
    "# Flask Predict function"
   ]
  },
  {
   "cell_type": "code",
   "execution_count": 14,
   "metadata": {},
   "outputs": [],
   "source": [
    "def predict(content):\n",
    "    similar_songs = []\n",
    "    print('Loading dataframe...')\n",
    "    dataframe = pd.DataFrame.from_dict(\n",
    "        json_normalize(content['audio_features']),\n",
    "                                orient='columns')\n",
    "    print('Dataframe Object Created')\n",
    "    print('Loading pickled scaler...')\n",
    "    scalar = load('scalar2.joblib')\n",
    "    print('Pickled scaler loaded')\n",
    "    print('Scaling dataframe object...')\n",
    "    dataframe_scaled = scalar.transform(dataframe)\n",
    "    print('Dataframe scaled')\n",
    "    print('Loading pickled model...')\n",
    "    model = load('model2.joblib')\n",
    "    print('Model loaded')\n",
    "    results = model.kneighbors([dataframe_scaled][0])[1]\n",
    "    print('Prediction executed')\n",
    "    print('song_id_list loading...')\n",
    "    song_id_list = load('song_id_list2.joblib')\n",
    "    print('song_id_list loaded')\n",
    "    \n",
    "    print('beginning for loop...')\n",
    "    for song_row in results[0][1:]:\n",
    "        song_id = song_id_list[song_row]\n",
    "        similar_songs.append({'similarity': [.99], 'values': song_id})\n",
    "    json_dict = {\"songs\": similar_songs}\n",
    "    return json_dict\n"
   ]
  },
  {
   "cell_type": "code",
   "execution_count": 17,
   "metadata": {},
   "outputs": [],
   "source": [
    "from sklearn.neighbors import NearestNeighbors\n",
    "from sklearn.preprocessing import StandardScaler, MinMaxScaler\n",
    "from flask import request\n",
    "from joblib import dump\n",
    "from joblib import load\n",
    "\n",
    "import pandas as pd\n",
    "from pandas.io.json import json_normalize\n",
    "from flask import jsonify"
   ]
  },
  {
   "cell_type": "code",
   "execution_count": 18,
   "metadata": {},
   "outputs": [
    {
     "name": "stdout",
     "output_type": "stream",
     "text": [
      "Loading dataframe...\n",
      "Dataframe Object Created\n",
      "Loading pickled scaler...\n",
      "Pickled scaler loaded\n",
      "Scaling dataframe object...\n",
      "Dataframe scaled\n",
      "Loading pickled model...\n",
      "Model loaded\n",
      "Prediction executed\n",
      "song_id_list loading...\n",
      "song_id_list loaded\n",
      "beginning for loop...\n"
     ]
    },
    {
     "data": {
      "text/plain": [
       "{'songs': [{'similarity': [0.99], 'values': '5YdNeg0onlsEFoNdFjwG9X'},\n",
       "  {'similarity': [0.99], 'values': '3XDPtaCpjC83LW1E7wfeVW'},\n",
       "  {'similarity': [0.99], 'values': '6Ycon1DmLHH4xVVZaJqEdI'},\n",
       "  {'similarity': [0.99], 'values': '6T8DFxrmY8y03FGYDxkmpg'},\n",
       "  {'similarity': [0.99], 'values': '0lO6VPXcW9wIOKxZ0wecjG'},\n",
       "  {'similarity': [0.99], 'values': '56KyV36puztkiJ62ca3D1t'},\n",
       "  {'similarity': [0.99], 'values': '2UUIpe2Jtflo8dX9jeTSqQ'},\n",
       "  {'similarity': [0.99], 'values': '6lneyspCLiV4hfccAidPeU'},\n",
       "  {'similarity': [0.99], 'values': '4nKjzgBwU9ksBUG4VJ787c'},\n",
       "  {'similarity': [0.99], 'values': '6galGfTFHHzsPieYkReYyN'},\n",
       "  {'similarity': [0.99], 'values': '7F9Dbj9ul1FtOPcsXDF3R9'},\n",
       "  {'similarity': [0.99], 'values': '0e7jY6MjiJdKNwUiwDhyxM'},\n",
       "  {'similarity': [0.99], 'values': '1LVfv8UzT0Zw3YjAbfcl4U'},\n",
       "  {'similarity': [0.99], 'values': '3QUgFGZvPhtdioo1MRepuE'},\n",
       "  {'similarity': [0.99], 'values': '6SuyOjhiF6vssCI7URWLDZ'},\n",
       "  {'similarity': [0.99], 'values': '015p8TgFahkz0viuux9YGJ'},\n",
       "  {'similarity': [0.99], 'values': '498Mc4zwlG8CVY41WAU738'},\n",
       "  {'similarity': [0.99], 'values': '6Gg5fvbFY39W8k50vDknJY'},\n",
       "  {'similarity': [0.99], 'values': '1bDVFRCoYuy0uf5o3rThLJ'},\n",
       "  {'similarity': [0.99], 'values': '7jWQ4T9tMiZWge0GTUPvDX'}]}"
      ]
     },
     "execution_count": 18,
     "metadata": {},
     "output_type": "execute_result"
    }
   ],
   "source": [
    "%timeit\n",
    "\n",
    "predict(acoustical_features)"
   ]
  },
  {
   "cell_type": "markdown",
   "metadata": {},
   "source": [
    "# Dump"
   ]
  },
  {
   "cell_type": "code",
   "execution_count": 12,
   "metadata": {},
   "outputs": [
    {
     "data": {
      "text/plain": [
       "['model2.joblib']"
      ]
     },
     "execution_count": 12,
     "metadata": {},
     "output_type": "execute_result"
    }
   ],
   "source": [
    "dump(model, 'model2.joblib', compress=True)"
   ]
  },
  {
   "cell_type": "code",
   "execution_count": 4,
   "metadata": {},
   "outputs": [],
   "source": [
    "# %time\n",
    "\n",
    "# pickle_loaded = pickle.load(open('Flask_API/SOUNDDRIP/models/knn_model_v1.pkl', 'rb'))\n",
    "# joblib_loaded = load('model.joblib')\n",
    "\n"
   ]
  },
  {
   "cell_type": "code",
   "execution_count": 5,
   "metadata": {},
   "outputs": [],
   "source": [
    "# dump(data_scaled, 'data_scaled.joblib', compress=True)"
   ]
  },
  {
   "cell_type": "code",
   "execution_count": 13,
   "metadata": {},
   "outputs": [
    {
     "data": {
      "text/plain": [
       "['scalar2.joblib']"
      ]
     },
     "execution_count": 13,
     "metadata": {},
     "output_type": "execute_result"
    }
   ],
   "source": [
    "dump(scaler, 'scalar2.joblib', compress=True)"
   ]
  },
  {
   "cell_type": "code",
   "execution_count": 18,
   "metadata": {},
   "outputs": [
    {
     "data": {
      "text/plain": [
       "['song_id_list2.joblib']"
      ]
     },
     "execution_count": 18,
     "metadata": {},
     "output_type": "execute_result"
    }
   ],
   "source": [
    "dump(song_id_list, 'song_id_list2.joblib', compress=True)"
   ]
  },
  {
   "cell_type": "code",
   "execution_count": null,
   "metadata": {},
   "outputs": [],
   "source": []
  }
 ],
 "metadata": {
  "kernelspec": {
   "display_name": "Python 3",
   "language": "python",
   "name": "python3"
  },
  "language_info": {
   "codemirror_mode": {
    "name": "ipython",
    "version": 3
   },
   "file_extension": ".py",
   "mimetype": "text/x-python",
   "name": "python",
   "nbconvert_exporter": "python",
   "pygments_lexer": "ipython3",
   "version": "3.8.1"
  }
 },
 "nbformat": 4,
 "nbformat_minor": 4
}
