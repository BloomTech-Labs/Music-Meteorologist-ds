{
 "cells": [
  {
   "cell_type": "markdown",
   "metadata": {},
   "source": [
    "# Unpickling DF"
   ]
  },
  {
   "cell_type": "code",
   "execution_count": 1,
   "metadata": {},
   "outputs": [],
   "source": [
    "import pickle"
   ]
  },
  {
   "cell_type": "code",
   "execution_count": 2,
   "metadata": {},
   "outputs": [],
   "source": [
    "df = pickle.load(open(\"./data/song_list_v5_hashed.pkl\",\"rb\"))"
   ]
  },
  {
   "cell_type": "code",
   "execution_count": 6,
   "metadata": {},
   "outputs": [],
   "source": [
    "df = df[df.columns[0:18]]"
   ]
  },
  {
   "cell_type": "code",
   "execution_count": 7,
   "metadata": {},
   "outputs": [
    {
     "data": {
      "text/html": [
       "<div>\n",
       "<style scoped>\n",
       "    .dataframe tbody tr th:only-of-type {\n",
       "        vertical-align: middle;\n",
       "    }\n",
       "\n",
       "    .dataframe tbody tr th {\n",
       "        vertical-align: top;\n",
       "    }\n",
       "\n",
       "    .dataframe thead th {\n",
       "        text-align: right;\n",
       "    }\n",
       "</style>\n",
       "<table border=\"1\" class=\"dataframe\">\n",
       "  <thead>\n",
       "    <tr style=\"text-align: right;\">\n",
       "      <th></th>\n",
       "      <th>songid</th>\n",
       "      <th>popularity</th>\n",
       "      <th>acousticness</th>\n",
       "      <th>artist</th>\n",
       "      <th>danceability</th>\n",
       "      <th>duration_ms</th>\n",
       "      <th>energy</th>\n",
       "      <th>instrumentalness</th>\n",
       "      <th>key</th>\n",
       "      <th>liveness</th>\n",
       "      <th>loudness</th>\n",
       "      <th>mode</th>\n",
       "      <th>speechiness</th>\n",
       "      <th>tempo</th>\n",
       "      <th>time_signature</th>\n",
       "      <th>track</th>\n",
       "      <th>valence</th>\n",
       "      <th>genres</th>\n",
       "    </tr>\n",
       "  </thead>\n",
       "  <tbody>\n",
       "    <tr>\n",
       "      <th>0</th>\n",
       "      <td>5PS5dpaLogPzYU9hWiWyZb</td>\n",
       "      <td>0</td>\n",
       "      <td>0.001300</td>\n",
       "      <td>Karkkiautomaatti</td>\n",
       "      <td>0.487</td>\n",
       "      <td>157307.0</td>\n",
       "      <td>0.678</td>\n",
       "      <td>0.055100</td>\n",
       "      <td>9.0</td>\n",
       "      <td>0.0846</td>\n",
       "      <td>-7.780</td>\n",
       "      <td>1.0</td>\n",
       "      <td>0.0495</td>\n",
       "      <td>149.940</td>\n",
       "      <td>4.0</td>\n",
       "      <td>Tanssi vaan</td>\n",
       "      <td>0.870</td>\n",
       "      <td>['finnish indie', 'suomi rock']</td>\n",
       "    </tr>\n",
       "    <tr>\n",
       "      <th>1</th>\n",
       "      <td>41RpZW2lxAdnqDd2nMBzLQ</td>\n",
       "      <td>15</td>\n",
       "      <td>0.000045</td>\n",
       "      <td>Hudson Mohawke</td>\n",
       "      <td>0.662</td>\n",
       "      <td>138960.0</td>\n",
       "      <td>0.823</td>\n",
       "      <td>0.952000</td>\n",
       "      <td>4.0</td>\n",
       "      <td>0.3430</td>\n",
       "      <td>-1.711</td>\n",
       "      <td>0.0</td>\n",
       "      <td>0.0662</td>\n",
       "      <td>177.745</td>\n",
       "      <td>4.0</td>\n",
       "      <td>No One Could Ever</td>\n",
       "      <td>0.621</td>\n",
       "      <td>['bass music', 'scottish electronic', 'scottis...</td>\n",
       "    </tr>\n",
       "    <tr>\n",
       "      <th>2</th>\n",
       "      <td>3GsS8jzoixpCnp4jDWCEvb</td>\n",
       "      <td>17</td>\n",
       "      <td>0.002760</td>\n",
       "      <td>Kris Kross</td>\n",
       "      <td>0.859</td>\n",
       "      <td>221200.0</td>\n",
       "      <td>0.741</td>\n",
       "      <td>0.000000</td>\n",
       "      <td>11.0</td>\n",
       "      <td>0.3250</td>\n",
       "      <td>-12.329</td>\n",
       "      <td>0.0</td>\n",
       "      <td>0.2710</td>\n",
       "      <td>98.082</td>\n",
       "      <td>4.0</td>\n",
       "      <td>2 Da Beat Ch'yall</td>\n",
       "      <td>0.529</td>\n",
       "      <td>['hip hop', 'new jack swing', 'rap']</td>\n",
       "    </tr>\n",
       "    <tr>\n",
       "      <th>3</th>\n",
       "      <td>0kq75szR7uDEYrZkT2c4Ry</td>\n",
       "      <td>21</td>\n",
       "      <td>0.348000</td>\n",
       "      <td>Jorge Negrete</td>\n",
       "      <td>0.361</td>\n",
       "      <td>173573.0</td>\n",
       "      <td>0.483</td>\n",
       "      <td>0.000003</td>\n",
       "      <td>7.0</td>\n",
       "      <td>0.1770</td>\n",
       "      <td>-6.875</td>\n",
       "      <td>1.0</td>\n",
       "      <td>0.0287</td>\n",
       "      <td>94.538</td>\n",
       "      <td>4.0</td>\n",
       "      <td>El hijo del pueblo</td>\n",
       "      <td>0.682</td>\n",
       "      <td>['bolero', 'mariachi', 'ranchera']</td>\n",
       "    </tr>\n",
       "    <tr>\n",
       "      <th>4</th>\n",
       "      <td>2HyFpkX9J7vv3OZNDaraHZ</td>\n",
       "      <td>1</td>\n",
       "      <td>0.340000</td>\n",
       "      <td>Tiger Lou</td>\n",
       "      <td>0.533</td>\n",
       "      <td>318467.0</td>\n",
       "      <td>0.302</td>\n",
       "      <td>0.179000</td>\n",
       "      <td>10.0</td>\n",
       "      <td>0.1110</td>\n",
       "      <td>-10.308</td>\n",
       "      <td>1.0</td>\n",
       "      <td>0.0307</td>\n",
       "      <td>134.959</td>\n",
       "      <td>3.0</td>\n",
       "      <td>Pilots</td>\n",
       "      <td>0.294</td>\n",
       "      <td>['swedish indie rock']</td>\n",
       "    </tr>\n",
       "  </tbody>\n",
       "</table>\n",
       "</div>"
      ],
      "text/plain": [
       "                   songid popularity  acousticness            artist  \\\n",
       "0  5PS5dpaLogPzYU9hWiWyZb          0      0.001300  Karkkiautomaatti   \n",
       "1  41RpZW2lxAdnqDd2nMBzLQ         15      0.000045    Hudson Mohawke   \n",
       "2  3GsS8jzoixpCnp4jDWCEvb         17      0.002760        Kris Kross   \n",
       "3  0kq75szR7uDEYrZkT2c4Ry         21      0.348000     Jorge Negrete   \n",
       "4  2HyFpkX9J7vv3OZNDaraHZ          1      0.340000         Tiger Lou   \n",
       "\n",
       "   danceability  duration_ms  energy  instrumentalness   key  liveness  \\\n",
       "0         0.487     157307.0   0.678          0.055100   9.0    0.0846   \n",
       "1         0.662     138960.0   0.823          0.952000   4.0    0.3430   \n",
       "2         0.859     221200.0   0.741          0.000000  11.0    0.3250   \n",
       "3         0.361     173573.0   0.483          0.000003   7.0    0.1770   \n",
       "4         0.533     318467.0   0.302          0.179000  10.0    0.1110   \n",
       "\n",
       "   loudness  mode  speechiness    tempo  time_signature               track  \\\n",
       "0    -7.780   1.0       0.0495  149.940             4.0         Tanssi vaan   \n",
       "1    -1.711   0.0       0.0662  177.745             4.0   No One Could Ever   \n",
       "2   -12.329   0.0       0.2710   98.082             4.0   2 Da Beat Ch'yall   \n",
       "3    -6.875   1.0       0.0287   94.538             4.0  El hijo del pueblo   \n",
       "4   -10.308   1.0       0.0307  134.959             3.0              Pilots   \n",
       "\n",
       "   valence                                             genres  \n",
       "0    0.870                    ['finnish indie', 'suomi rock']  \n",
       "1    0.621  ['bass music', 'scottish electronic', 'scottis...  \n",
       "2    0.529               ['hip hop', 'new jack swing', 'rap']  \n",
       "3    0.682                 ['bolero', 'mariachi', 'ranchera']  \n",
       "4    0.294                             ['swedish indie rock']  "
      ]
     },
     "execution_count": 7,
     "metadata": {},
     "output_type": "execute_result"
    }
   ],
   "source": [
    "df.head()"
   ]
  },
  {
   "cell_type": "markdown",
   "metadata": {},
   "source": [
    "# Create Genre List"
   ]
  },
  {
   "cell_type": "code",
   "execution_count": 125,
   "metadata": {},
   "outputs": [],
   "source": [
    "#clean up the genre list column for string matching formatting consistency\n",
    "\n",
    "new_genres_list = []\n",
    "for index,genre_list in enumerate(df[\"genres\"]):\n",
    "    genre_list = genre_list.split(\",\")\n",
    "    new_genre_list = []\n",
    "    for genre in genre_list:\n",
    "        genre = genre.strip(\"]\")\n",
    "        genre = genre.strip(\"[\")\n",
    "        genre = genre.strip(\" \")\n",
    "        genre = genre.strip(\"'\")\n",
    "        new_genre_list.append(genre)\n",
    "    new_genres_list.append(new_genre_list)"
   ]
  },
  {
   "cell_type": "code",
   "execution_count": 129,
   "metadata": {},
   "outputs": [],
   "source": [
    "df[\"genres\"] = new_genres_list"
   ]
  },
  {
   "cell_type": "code",
   "execution_count": 133,
   "metadata": {},
   "outputs": [],
   "source": [
    "all_genres = []\n",
    "for genres in df[\"genres\"]:\n",
    "    for genre in genres:\n",
    "        all_genres.append(genre)"
   ]
  },
  {
   "cell_type": "code",
   "execution_count": 135,
   "metadata": {},
   "outputs": [
    {
     "data": {
      "text/plain": [
       "2110517"
      ]
     },
     "execution_count": 135,
     "metadata": {},
     "output_type": "execute_result"
    }
   ],
   "source": [
    "len(all_genres)"
   ]
  },
  {
   "cell_type": "markdown",
   "metadata": {},
   "source": [
    "# Limited Embeddding\n",
    "\n",
    "Create bitwise embedding for fast vector addition of arbitrary elements in a set\n",
    "\n",
    "> Mimic inverted indices in DB"
   ]
  },
  {
   "cell_type": "code",
   "execution_count": 136,
   "metadata": {},
   "outputs": [
    {
     "data": {
      "text/plain": [
       "['21st century classical',\n",
       " '432hz',\n",
       " '8-bit',\n",
       " 'a cappella',\n",
       " 'aarhus indie',\n",
       " 'aberdeen indie',\n",
       " 'abstract',\n",
       " 'abstract beats',\n",
       " 'abstract hip hop',\n",
       " 'abstract idm']"
      ]
     },
     "execution_count": 136,
     "metadata": {},
     "output_type": "execute_result"
    }
   ],
   "source": [
    "## Get a set of items\n",
    "\n",
    "items = sorted(list(set(all_genres)))\n",
    "items[0:10]"
   ]
  },
  {
   "cell_type": "code",
   "execution_count": 137,
   "metadata": {},
   "outputs": [],
   "source": [
    "## Create a lookup table for these items\n",
    "\n",
    "import numpy as np\n",
    "\n",
    "def create_lookup(item_set):\n",
    "    lookup = {}  # initialize empty lookup\n",
    "    max_len = len(item_set)  # get size of empty array\n",
    "    base_array = np.zeros(max_len)  # initialize an empty array to copy for each embedding/vector\n",
    "    \n",
    "    # Iterate through each item in set and create unique embedding, storing embeddings in dictionary\n",
    "    for index, item in enumerate(item_set):\n",
    "        temp_array = base_array.copy()\n",
    "        temp_array[index] = 1\n",
    "        lookup[item] = temp_array\n",
    "        \n",
    "    return lookup\n",
    "\n",
    "lookup_dict = create_lookup(items)"
   ]
  },
  {
   "cell_type": "code",
   "execution_count": 138,
   "metadata": {},
   "outputs": [
    {
     "name": "stdout",
     "output_type": "stream",
     "text": [
      "[1. 0. 0. ... 0. 0. 0.]\n",
      "[0. 1. 0. ... 0. 0. 0.]\n",
      "[0. 0. 1. ... 0. 0. 0.]\n",
      "[0. 0. 0. ... 0. 0. 0.]\n",
      "[0. 0. 0. ... 0. 0. 0.]\n",
      "[0. 0. 0. ... 0. 0. 0.]\n",
      "[0. 0. 0. ... 0. 0. 0.]\n",
      "[0. 0. 0. ... 0. 0. 0.]\n",
      "[0. 0. 0. ... 0. 0. 0.]\n",
      "[0. 0. 0. ... 0. 0. 0.]\n"
     ]
    }
   ],
   "source": [
    "for item in list(lookup_dict.items())[0:10]:\n",
    "    print(item[1])"
   ]
  },
  {
   "cell_type": "code",
   "execution_count": 139,
   "metadata": {},
   "outputs": [],
   "source": [
    "def compress_list(items, lookup_dict=lookup_dict):\n",
    "    vec_list = np.array([lookup_dict[item] for item in items])\n",
    "    return np.sum(vec_list, axis=0)"
   ]
  },
  {
   "cell_type": "code",
   "execution_count": 81,
   "metadata": {},
   "outputs": [],
   "source": [
    "## Example usage\n",
    "\n",
    "# Given two rows of data:\n",
    "\n",
    "# row_a = ['a', 'c']\n",
    "# row_b = ['a', 'b']\n",
    "# row_c = ['a', 'c', 'd']\n",
    "# row_d = ['b', 'c', 'd']\n",
    "\n",
    "# # Calculate their respective vectors\n",
    "\n",
    "# vec_a = compress_list(row_a)\n",
    "# vec_b = compress_list(row_b)\n",
    "# vec_c = compress_list(row_c)\n",
    "# vec_d = compress_list(row_d)\n",
    "\n",
    "# vec_a"
   ]
  },
  {
   "cell_type": "code",
   "execution_count": 140,
   "metadata": {},
   "outputs": [],
   "source": [
    "df['genre_embed'] = df.genres.apply(compress_list)"
   ]
  },
  {
   "cell_type": "code",
   "execution_count": 144,
   "metadata": {},
   "outputs": [
    {
     "data": {
      "text/plain": [
       "array([0., 0., 0., ..., 0., 0., 0.])"
      ]
     },
     "execution_count": 144,
     "metadata": {},
     "output_type": "execute_result"
    }
   ],
   "source": [
    "df['genre_embed'][0]"
   ]
  },
  {
   "cell_type": "code",
   "execution_count": 147,
   "metadata": {},
   "outputs": [
    {
     "name": "stdout",
     "output_type": "stream",
     "text": [
      "1226 1.0\n",
      "3065 1.0\n"
     ]
    }
   ],
   "source": [
    "for index,val in enumerate(df['genre_embed'][0]):\n",
    "    if val == 1:\n",
    "        print(index,val)"
   ]
  },
  {
   "cell_type": "code",
   "execution_count": 164,
   "metadata": {},
   "outputs": [
    {
     "name": "stdout",
     "output_type": "stream",
     "text": [
      "1226 1.0\n",
      "3065 1.0\n"
     ]
    }
   ],
   "source": [
    "for index,val in enumerate(df['genre_embed'][0]):\n",
    "    if val == 1:\n",
    "        print(index,val)"
   ]
  },
  {
   "cell_type": "code",
   "execution_count": 159,
   "metadata": {},
   "outputs": [
    {
     "data": {
      "text/plain": [
       "1.0"
      ]
     },
     "execution_count": 159,
     "metadata": {},
     "output_type": "execute_result"
    }
   ],
   "source": [
    "df[\"genre_embed\"][0][1226]"
   ]
  },
  {
   "cell_type": "code",
   "execution_count": 160,
   "metadata": {},
   "outputs": [
    {
     "data": {
      "text/plain": [
       "['dancehall', 'lovers rock', 'modern reggae', 'riddim', 'soca']"
      ]
     },
     "execution_count": 160,
     "metadata": {},
     "output_type": "execute_result"
    }
   ],
   "source": [
    "df[\"genres\"].loc[1226]"
   ]
  },
  {
   "cell_type": "code",
   "execution_count": 153,
   "metadata": {},
   "outputs": [
    {
     "data": {
      "text/plain": [
       "['acoustic blues',\n",
       " 'blues',\n",
       " 'country blues',\n",
       " 'piedmont blues',\n",
       " 'traditional blues']"
      ]
     },
     "execution_count": 153,
     "metadata": {},
     "output_type": "execute_result"
    }
   ],
   "source": [
    "df[\"genres\"].loc[3065]"
   ]
  },
  {
   "cell_type": "code",
   "execution_count": 151,
   "metadata": {},
   "outputs": [
    {
     "data": {
      "text/plain": [
       "['finnish indie', 'suomi rock']"
      ]
     },
     "execution_count": 151,
     "metadata": {},
     "output_type": "execute_result"
    }
   ],
   "source": [
    "df[\"genres\"][0]"
   ]
  },
  {
   "cell_type": "code",
   "execution_count": 162,
   "metadata": {},
   "outputs": [
    {
     "data": {
      "text/plain": [
       "'suomi rock'"
      ]
     },
     "execution_count": 162,
     "metadata": {},
     "output_type": "execute_result"
    }
   ],
   "source": [
    "items[3065]"
   ]
  },
  {
   "cell_type": "markdown",
   "metadata": {},
   "source": [
    "# Pickling to Try out on KNN model in another notebook w/ Genre Embeds"
   ]
  },
  {
   "cell_type": "code",
   "execution_count": 167,
   "metadata": {},
   "outputs": [],
   "source": [
    "# pickle.dump(df, open( \"./data/song_list_v6_genre_embeds.pkl\", \"wb\" ) )"
   ]
  },
  {
   "cell_type": "markdown",
   "metadata": {},
   "source": [
    "# Pickling without Genre Embeds"
   ]
  },
  {
   "cell_type": "code",
   "execution_count": 175,
   "metadata": {},
   "outputs": [],
   "source": [
    "pickle.dump(df[df.columns[0:18]],open( \"./data/song_list_v6\", \"wb\" ))"
   ]
  },
  {
   "cell_type": "markdown",
   "metadata": {},
   "source": [
    "### Using with Pandas\n",
    "\n",
    "compress_list can be applied to your genre series via:\n",
    "> df['genre_embed'] = df.genres.apply(compress_list)"
   ]
  },
  {
   "cell_type": "markdown",
   "metadata": {},
   "source": [
    "## Compare vectors\n",
    "\n",
    "Use cosine distance to compare vectors (will be more meaningful if set is pre-ordered by similarity prior to making lookup_dict)"
   ]
  },
  {
   "cell_type": "code",
   "execution_count": 26,
   "metadata": {},
   "outputs": [
    {
     "data": {
      "text/plain": [
       "(0.0,\n",
       " 0.5,\n",
       " 0.18350341907227385,\n",
       " 0.5917517095361369,\n",
       " 0.5917517095361369,\n",
       " 0.33333333333333337)"
      ]
     },
     "execution_count": 26,
     "metadata": {},
     "output_type": "execute_result"
    }
   ],
   "source": [
    "from scipy.spatial.distance import cosine\n",
    "\n",
    "cosine(vec_a, vec_a), cosine(vec_a, vec_b), cosine(vec_a, vec_c), cosine(vec_b, vec_c), cosine(vec_a, vec_d), cosine(vec_c, vec_d)"
   ]
  },
  {
   "cell_type": "code",
   "execution_count": null,
   "metadata": {},
   "outputs": [],
   "source": [
    "# counter = -1 \n",
    "for index,genre_list in enumerate(df[\"genres\"][0:1000]):\n",
    "#     counter += 1 \n",
    "    genre_list = genre_list.split(\",\")\n",
    "    for genre in genre_list:\n",
    "        genre = genre.strip(\"]\")\n",
    "        genre = genre.strip(\"[\")\n",
    "        genre = genre.strip(\" \") \n",
    "        print(genre)\n",
    "# #         genre = '\"' + genre + '\"'\n",
    "#         for column in df.columns[18:]:\n",
    "#             if column == genre:\n",
    "#                 print(column,genre)\n",
    "# #                 df[column].loc[counter] = 1\n",
    "#             else:\n",
    "#                 continue"
   ]
  },
  {
   "cell_type": "markdown",
   "metadata": {},
   "source": [
    "### Comparing cosine similarity\n",
    "\n",
    "Now that you have multi-dimensional vectors, you can quickly compute cosine similarity"
   ]
  },
  {
   "cell_type": "markdown",
   "metadata": {},
   "source": [
    "### Other Options\n",
    "\n",
    "> k-means or kd-tree (very fast, gives neighbors)\n",
    "> neural network matching (various types)\n",
    "> logistic regression (use scores.  very good in combination with clustering.  very fast)"
   ]
  },
  {
   "cell_type": "code",
   "execution_count": null,
   "metadata": {},
   "outputs": [],
   "source": []
  }
 ],
 "metadata": {
  "kernelspec": {
   "display_name": "Python 3",
   "language": "python",
   "name": "python3"
  },
  "language_info": {
   "codemirror_mode": {
    "name": "ipython",
    "version": 3
   },
   "file_extension": ".py",
   "mimetype": "text/x-python",
   "name": "python",
   "nbconvert_exporter": "python",
   "pygments_lexer": "ipython3",
   "version": "3.7.4"
  }
 },
 "nbformat": 4,
 "nbformat_minor": 4
}
