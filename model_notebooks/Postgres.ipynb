{
 "cells": [
  {
   "cell_type": "markdown",
   "metadata": {},
   "source": [
    "Connect to DB"
   ]
  },
  {
   "cell_type": "code",
   "execution_count": 2,
   "metadata": {},
   "outputs": [],
   "source": [
    "import psycopg2 as ps\n",
    "\n",
    "# define credentials \n",
    "credentials = {'POSTGRES_ADDRESS' : 'test-1.cuxogj7vdjwn.us-east-1.rds.amazonaws.com', # change to your endpoint\n",
    "               'POSTGRES_PORT' : '', # change to your port\n",
    "               'POSTGRES_USERNAME' : 'postgres', # change to your username\n",
    "               'POSTGRES_PASSWORD' : 'mypassword1!', # change to your password\n",
    "               'POSTGRES_DBNAME' : 'postgres'} # change to your db name\n",
    "\n",
    "\n",
    "# create connection and cursor    \n",
    "conn = ps.connect(host=credentials['POSTGRES_ADDRESS'],\n",
    "                  database=credentials['POSTGRES_DBNAME'],\n",
    "                  user=credentials['POSTGRES_USERNAME'],\n",
    "                  password=credentials['POSTGRES_PASSWORD'],\n",
    "                  port=credentials['POSTGRES_PORT'])\n",
    "\n",
    "cur = conn.cursor()"
   ]
  },
  {
   "cell_type": "code",
   "execution_count": 3,
   "metadata": {},
   "outputs": [
    {
     "data": {
      "text/plain": [
       "[]"
      ]
     },
     "execution_count": 3,
     "metadata": {},
     "output_type": "execute_result"
    }
   ],
   "source": [
    "query = \"\"\"SELECT * FROM pg_catalog.pg_tables\n",
    "            WHERE schemaname != 'pg_catalog'\n",
    "            AND schemaname != 'information_schema';\"\"\"\n",
    "\n",
    "cur.execute(query)\n",
    "cur.fetchall()"
   ]
  },
  {
   "cell_type": "markdown",
   "metadata": {},
   "source": [
    "Create a table"
   ]
  },
  {
   "cell_type": "code",
   "execution_count": 4,
   "metadata": {},
   "outputs": [
    {
     "name": "stdout",
     "output_type": "stream",
     "text": [
      "Table created successfully!\n"
     ]
    }
   ],
   "source": [
    "cur.execute(\"\"\"CREATE TABLE table_1\n",
    "                (column_1 int,\n",
    "                column_2 float,\n",
    "                column_3 varchar(50),\n",
    "                column_4 boolean);\"\"\")\n",
    "\n",
    "# Commit table creation\n",
    "conn.commit()\n",
    "\n",
    "print(\"Table created successfully!\")"
   ]
  },
  {
   "cell_type": "code",
   "execution_count": 5,
   "metadata": {},
   "outputs": [
    {
     "data": {
      "text/plain": [
       "[('public', 'table_1', 'postgres', None, False, False, False, False)]"
      ]
     },
     "execution_count": 5,
     "metadata": {},
     "output_type": "execute_result"
    }
   ],
   "source": [
    "query = \"\"\"SELECT * FROM pg_catalog.pg_tables\n",
    "            WHERE schemaname != 'pg_catalog'\n",
    "            AND schemaname != 'information_schema';\"\"\"\n",
    "\n",
    "cur.execute(query)\n",
    "cur.fetchall()"
   ]
  },
  {
   "cell_type": "markdown",
   "metadata": {},
   "source": [
    "Create many tables"
   ]
  },
  {
   "cell_type": "code",
   "execution_count": 6,
   "metadata": {},
   "outputs": [
    {
     "name": "stdout",
     "output_type": "stream",
     "text": [
      "Tables created successfully!\n"
     ]
    }
   ],
   "source": [
    "table_list = ['table_2', 'table_3', 'table_4', 'table_5']\n",
    "for table_name in table_list:\n",
    "    cur.execute(\"\"\"CREATE TABLE {table_name}\n",
    "                (column_1 float,\n",
    "                column_2 float,\n",
    "                column_3 float,\n",
    "                column_4 float,\n",
    "                column_5 float);\"\"\".format(table_name=table_name))\n",
    "\n",
    "# Commit and close. Verify that tables were created successfully.\n",
    "conn.commit()\n",
    "\n",
    "print(\"Tables created successfully!\")\n",
    "# conn.close()"
   ]
  },
  {
   "cell_type": "code",
   "execution_count": 7,
   "metadata": {},
   "outputs": [
    {
     "data": {
      "text/plain": [
       "[('public', 'table_1', 'postgres', None, False, False, False, False),\n",
       " ('public', 'table_2', 'postgres', None, False, False, False, False),\n",
       " ('public', 'table_3', 'postgres', None, False, False, False, False),\n",
       " ('public', 'table_4', 'postgres', None, False, False, False, False),\n",
       " ('public', 'table_5', 'postgres', None, False, False, False, False)]"
      ]
     },
     "execution_count": 7,
     "metadata": {},
     "output_type": "execute_result"
    }
   ],
   "source": [
    "query = \"\"\"SELECT * FROM pg_catalog.pg_tables\n",
    "            WHERE schemaname != 'pg_catalog'\n",
    "            AND schemaname != 'information_schema';\"\"\"\n",
    "\n",
    "cur.execute(query)\n",
    "cur.fetchall()"
   ]
  },
  {
   "cell_type": "markdown",
   "metadata": {},
   "source": [
    "Insert one data entry"
   ]
  },
  {
   "cell_type": "code",
   "execution_count": 8,
   "metadata": {},
   "outputs": [],
   "source": [
    "data = [1, 2.2, 'three', True]\n",
    "insert_query = \"\"\"INSERT INTO table_1\n",
    "                   (column_1, column_2, column_3, column_4)\n",
    "                   VALUES (%s, %s, %s, %s);\"\"\"\n",
    "\n",
    "# execute insert\n",
    "cur.execute(insert_query, data)\n",
    "            \n",
    "# commit data insert\n",
    "conn.commit()"
   ]
  },
  {
   "cell_type": "code",
   "execution_count": 9,
   "metadata": {},
   "outputs": [
    {
     "data": {
      "text/plain": [
       "[(1, 2.2, 'three', True)]"
      ]
     },
     "execution_count": 9,
     "metadata": {},
     "output_type": "execute_result"
    }
   ],
   "source": [
    "cur.execute(\"\"\"SELECT * FROM table_1;\"\"\")\n",
    "cur.fetchall()"
   ]
  },
  {
   "cell_type": "markdown",
   "metadata": {},
   "source": [
    "Insert multiple entries"
   ]
  },
  {
   "cell_type": "code",
   "execution_count": 10,
   "metadata": {},
   "outputs": [],
   "source": [
    "data = [[5, 5.5, 'five', True], [5, 5.5, 'five', True], [5, 5.5, 'five', True]]\n",
    "insert_query = \"\"\"INSERT INTO table_1\n",
    "                   (column_1, column_2, column_3, column_4)\n",
    "                   VALUES (%s, %s, %s, %s);\"\"\"\n",
    "\n",
    "# execute multiple inserts\n",
    "cur.executemany(insert_query, data)\n",
    "            \n",
    "# commit data insert\n",
    "conn.commit()"
   ]
  },
  {
   "cell_type": "code",
   "execution_count": 11,
   "metadata": {},
   "outputs": [
    {
     "data": {
      "text/plain": [
       "[(1, 2.2, 'three', True),\n",
       " (5, 5.5, 'five', True),\n",
       " (5, 5.5, 'five', True),\n",
       " (5, 5.5, 'five', True)]"
      ]
     },
     "execution_count": 11,
     "metadata": {},
     "output_type": "execute_result"
    }
   ],
   "source": [
    "cur.execute(\"\"\"SELECT * FROM table_1;\"\"\")\n",
    "cur.fetchall()"
   ]
  },
  {
   "cell_type": "markdown",
   "metadata": {},
   "source": [
    "Drop Tables"
   ]
  },
  {
   "cell_type": "code",
   "execution_count": 12,
   "metadata": {},
   "outputs": [],
   "source": [
    "cur.execute(\"\"\"DROP TABLE table_1\"\"\")\n",
    "conn.commit()"
   ]
  },
  {
   "cell_type": "code",
   "execution_count": 13,
   "metadata": {},
   "outputs": [],
   "source": [
    "conn.close()"
   ]
  },
  {
   "cell_type": "code",
   "execution_count": null,
   "metadata": {},
   "outputs": [],
   "source": []
  }
 ],
 "metadata": {
  "kernelspec": {
   "display_name": "sounddrip",
   "language": "python",
   "name": "sounddrip"
  },
  "language_info": {
   "codemirror_mode": {
    "name": "ipython",
    "version": 3
   },
   "file_extension": ".py",
   "mimetype": "text/x-python",
   "name": "python",
   "nbconvert_exporter": "python",
   "pygments_lexer": "ipython3",
   "version": "3.7.3"
  }
 },
 "nbformat": 4,
 "nbformat_minor": 4
}
