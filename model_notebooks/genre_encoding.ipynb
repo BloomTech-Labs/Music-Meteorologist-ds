{
 "cells": [
  {
   "cell_type": "code",
   "execution_count": 1,
   "metadata": {},
   "outputs": [],
   "source": [
    "import pickle\n",
    "import pandas as pd\n",
    "import numpy as np\n",
    "\n",
    "with open('./DF_genres_hashed.pkl', 'rb') as f:\n",
    "    df = pickle.load(f)"
   ]
  },
  {
   "cell_type": "code",
   "execution_count": 2,
   "metadata": {},
   "outputs": [
    {
     "data": {
      "text/plain": [
       "['baroque', 'classical', 'early music', 'german baroque']     3654\n",
       "['classical', 'classical era']                                1907\n",
       "['cartoon','children's music']                                1468\n",
       "['smooth jazz']                                               1274\n",
       "['edm', 'progressive house', 'trance']                        1131\n",
       "                                                              ... \n",
       "['alternative r&b', 'deep pop r&b', 'trap soul']                 1\n",
       "['chinese indie']                                                1\n",
       "['perreo', 'pop reggaeton', 'reggaeton', 'reggaeton flow']       1\n",
       "['funk carioca', 'sertanejo pop']                                1\n",
       "['banda', 'deep regional mexican', 'norteno']                    1\n",
       "Name: genres, Length: 20720, dtype: int64"
      ]
     },
     "execution_count": 2,
     "metadata": {},
     "output_type": "execute_result"
    }
   ],
   "source": [
    "df[\"genres\"].value_counts()"
   ]
  },
  {
   "cell_type": "code",
   "execution_count": 3,
   "metadata": {},
   "outputs": [
    {
     "data": {
      "text/html": [
       "<div>\n",
       "<style scoped>\n",
       "    .dataframe tbody tr th:only-of-type {\n",
       "        vertical-align: middle;\n",
       "    }\n",
       "\n",
       "    .dataframe tbody tr th {\n",
       "        vertical-align: top;\n",
       "    }\n",
       "\n",
       "    .dataframe thead th {\n",
       "        text-align: right;\n",
       "    }\n",
       "</style>\n",
       "<table border=\"1\" class=\"dataframe\">\n",
       "  <thead>\n",
       "    <tr style=\"text-align: right;\">\n",
       "      <th></th>\n",
       "      <th>acousticness</th>\n",
       "      <th>artist</th>\n",
       "      <th>danceability</th>\n",
       "      <th>duration_ms</th>\n",
       "      <th>energy</th>\n",
       "      <th>instrumentalness</th>\n",
       "      <th>key</th>\n",
       "      <th>liveness</th>\n",
       "      <th>loudness</th>\n",
       "      <th>mode</th>\n",
       "      <th>...</th>\n",
       "      <th>40</th>\n",
       "      <th>41</th>\n",
       "      <th>42</th>\n",
       "      <th>43</th>\n",
       "      <th>44</th>\n",
       "      <th>45</th>\n",
       "      <th>46</th>\n",
       "      <th>47</th>\n",
       "      <th>48</th>\n",
       "      <th>49</th>\n",
       "    </tr>\n",
       "  </thead>\n",
       "  <tbody>\n",
       "    <tr>\n",
       "      <th>0</th>\n",
       "      <td>0.001300</td>\n",
       "      <td>Karkkiautomaatti</td>\n",
       "      <td>0.487</td>\n",
       "      <td>157307.0</td>\n",
       "      <td>0.678</td>\n",
       "      <td>0.055100</td>\n",
       "      <td>9.0</td>\n",
       "      <td>0.0846</td>\n",
       "      <td>-7.780</td>\n",
       "      <td>1.0</td>\n",
       "      <td>...</td>\n",
       "      <td>0.0</td>\n",
       "      <td>-1.0</td>\n",
       "      <td>1.0</td>\n",
       "      <td>2.0</td>\n",
       "      <td>-3.0</td>\n",
       "      <td>0.0</td>\n",
       "      <td>0.0</td>\n",
       "      <td>0.0</td>\n",
       "      <td>0.0</td>\n",
       "      <td>-2.0</td>\n",
       "    </tr>\n",
       "    <tr>\n",
       "      <th>1</th>\n",
       "      <td>0.000045</td>\n",
       "      <td>Hudson Mohawke</td>\n",
       "      <td>0.662</td>\n",
       "      <td>138960.0</td>\n",
       "      <td>0.823</td>\n",
       "      <td>0.952000</td>\n",
       "      <td>4.0</td>\n",
       "      <td>0.3430</td>\n",
       "      <td>-1.711</td>\n",
       "      <td>0.0</td>\n",
       "      <td>...</td>\n",
       "      <td>0.0</td>\n",
       "      <td>-4.0</td>\n",
       "      <td>5.0</td>\n",
       "      <td>7.0</td>\n",
       "      <td>-4.0</td>\n",
       "      <td>-1.0</td>\n",
       "      <td>0.0</td>\n",
       "      <td>0.0</td>\n",
       "      <td>0.0</td>\n",
       "      <td>-7.0</td>\n",
       "    </tr>\n",
       "    <tr>\n",
       "      <th>2</th>\n",
       "      <td>0.002760</td>\n",
       "      <td>Kris Kross</td>\n",
       "      <td>0.859</td>\n",
       "      <td>221200.0</td>\n",
       "      <td>0.741</td>\n",
       "      <td>0.000000</td>\n",
       "      <td>11.0</td>\n",
       "      <td>0.3250</td>\n",
       "      <td>-12.329</td>\n",
       "      <td>0.0</td>\n",
       "      <td>...</td>\n",
       "      <td>0.0</td>\n",
       "      <td>-3.0</td>\n",
       "      <td>0.0</td>\n",
       "      <td>1.0</td>\n",
       "      <td>-2.0</td>\n",
       "      <td>-1.0</td>\n",
       "      <td>0.0</td>\n",
       "      <td>0.0</td>\n",
       "      <td>0.0</td>\n",
       "      <td>-1.0</td>\n",
       "    </tr>\n",
       "    <tr>\n",
       "      <th>3</th>\n",
       "      <td>0.348000</td>\n",
       "      <td>Jorge Negrete</td>\n",
       "      <td>0.361</td>\n",
       "      <td>173573.0</td>\n",
       "      <td>0.483</td>\n",
       "      <td>0.000003</td>\n",
       "      <td>7.0</td>\n",
       "      <td>0.1770</td>\n",
       "      <td>-6.875</td>\n",
       "      <td>1.0</td>\n",
       "      <td>...</td>\n",
       "      <td>0.0</td>\n",
       "      <td>-2.0</td>\n",
       "      <td>1.0</td>\n",
       "      <td>2.0</td>\n",
       "      <td>-1.0</td>\n",
       "      <td>2.0</td>\n",
       "      <td>0.0</td>\n",
       "      <td>0.0</td>\n",
       "      <td>0.0</td>\n",
       "      <td>0.0</td>\n",
       "    </tr>\n",
       "    <tr>\n",
       "      <th>4</th>\n",
       "      <td>0.340000</td>\n",
       "      <td>Tiger Lou</td>\n",
       "      <td>0.533</td>\n",
       "      <td>318467.0</td>\n",
       "      <td>0.302</td>\n",
       "      <td>0.179000</td>\n",
       "      <td>10.0</td>\n",
       "      <td>0.1110</td>\n",
       "      <td>-10.308</td>\n",
       "      <td>1.0</td>\n",
       "      <td>...</td>\n",
       "      <td>0.0</td>\n",
       "      <td>0.0</td>\n",
       "      <td>0.0</td>\n",
       "      <td>1.0</td>\n",
       "      <td>-1.0</td>\n",
       "      <td>0.0</td>\n",
       "      <td>0.0</td>\n",
       "      <td>0.0</td>\n",
       "      <td>0.0</td>\n",
       "      <td>-2.0</td>\n",
       "    </tr>\n",
       "  </tbody>\n",
       "</table>\n",
       "<p>5 rows × 68 columns</p>\n",
       "</div>"
      ],
      "text/plain": [
       "   acousticness            artist  danceability  duration_ms  energy  \\\n",
       "0      0.001300  Karkkiautomaatti         0.487     157307.0   0.678   \n",
       "1      0.000045    Hudson Mohawke         0.662     138960.0   0.823   \n",
       "2      0.002760        Kris Kross         0.859     221200.0   0.741   \n",
       "3      0.348000     Jorge Negrete         0.361     173573.0   0.483   \n",
       "4      0.340000         Tiger Lou         0.533     318467.0   0.302   \n",
       "\n",
       "   instrumentalness   key  liveness  loudness  mode  ...   40   41   42   43  \\\n",
       "0          0.055100   9.0    0.0846    -7.780   1.0  ...  0.0 -1.0  1.0  2.0   \n",
       "1          0.952000   4.0    0.3430    -1.711   0.0  ...  0.0 -4.0  5.0  7.0   \n",
       "2          0.000000  11.0    0.3250   -12.329   0.0  ...  0.0 -3.0  0.0  1.0   \n",
       "3          0.000003   7.0    0.1770    -6.875   1.0  ...  0.0 -2.0  1.0  2.0   \n",
       "4          0.179000  10.0    0.1110   -10.308   1.0  ...  0.0  0.0  0.0  1.0   \n",
       "\n",
       "    44   45   46   47   48   49  \n",
       "0 -3.0  0.0  0.0  0.0  0.0 -2.0  \n",
       "1 -4.0 -1.0  0.0  0.0  0.0 -7.0  \n",
       "2 -2.0 -1.0  0.0  0.0  0.0 -1.0  \n",
       "3 -1.0  2.0  0.0  0.0  0.0  0.0  \n",
       "4 -1.0  0.0  0.0  0.0  0.0 -2.0  \n",
       "\n",
       "[5 rows x 68 columns]"
      ]
     },
     "execution_count": 3,
     "metadata": {},
     "output_type": "execute_result"
    }
   ],
   "source": [
    "df.head()"
   ]
  },
  {
   "cell_type": "code",
   "execution_count": 4,
   "metadata": {},
   "outputs": [],
   "source": [
    "all_genres = []\n",
    "for genre_list in df[\"genres\"]:\n",
    "    genre_list = genre_list.split(\",\")\n",
    "    for genre in genre_list:\n",
    "        genre = genre.strip(\"[\",)\n",
    "        genre = genre.strip(\"]\",)\n",
    "        genre = genre.strip()\n",
    "        all_genres.append(genre)"
   ]
  },
  {
   "cell_type": "code",
   "execution_count": 5,
   "metadata": {},
   "outputs": [
    {
     "data": {
      "text/plain": [
       "2110517"
      ]
     },
     "execution_count": 5,
     "metadata": {},
     "output_type": "execute_result"
    }
   ],
   "source": [
    "len(all_genres)"
   ]
  },
  {
   "cell_type": "code",
   "execution_count": 6,
   "metadata": {},
   "outputs": [],
   "source": [
    "import pandas as pd\n",
    "import numpy as np"
   ]
  },
  {
   "cell_type": "code",
   "execution_count": 7,
   "metadata": {},
   "outputs": [],
   "source": [
    "df_genres = pd.DataFrame(all_genres,columns=['genres'])"
   ]
  },
  {
   "cell_type": "markdown",
   "metadata": {},
   "source": [
    "# Picking DF_Genres Dataframe"
   ]
  },
  {
   "cell_type": "code",
   "execution_count": 8,
   "metadata": {},
   "outputs": [],
   "source": [
    "pickle.dump(df_genres, open(\"./data/DF_Genres_List_v1.pkl\",\"wb\"))\n",
    "\n",
    "# pickle.dump( df_genres_hashed, open( \"DF_genres_hashed.pkl\", \"wb\" ) )"
   ]
  },
  {
   "cell_type": "code",
   "execution_count": 103,
   "metadata": {},
   "outputs": [
    {
     "data": {
      "text/plain": [
       "'rock'                  22625\n",
       "'mellow gold'           12409\n",
       "'dance pop'             12358\n",
       "'country rock'          12306\n",
       "'soft rock'             12065\n",
       "                        ...  \n",
       "'fremantle indie'           1\n",
       "'murga'                     1\n",
       "'deep eurodance'            1\n",
       "'tunisian pop'              1\n",
       "'african electronic'        1\n",
       "Name: genres, Length: 3488, dtype: int64"
      ]
     },
     "execution_count": 103,
     "metadata": {},
     "output_type": "execute_result"
    }
   ],
   "source": [
    "df_genres[\"genres\"].value_counts()"
   ]
  },
  {
   "cell_type": "markdown",
   "metadata": {},
   "source": [
    "# Feature Engineering"
   ]
  },
  {
   "cell_type": "markdown",
   "metadata": {},
   "source": [
    "Goal - have only the highest occuring genre in 'genres' column."
   ]
  },
  {
   "cell_type": "code",
   "execution_count": 43,
   "metadata": {},
   "outputs": [
    {
     "data": {
      "text/plain": [
       "'rock'            22625\n",
       "'mellow gold'     12409\n",
       "'dance pop'       12358\n",
       "'country rock'    12306\n",
       "Name: genres, dtype: int64"
      ]
     },
     "execution_count": 43,
     "metadata": {},
     "output_type": "execute_result"
    }
   ],
   "source": [
    "df_genres[\"genres\"].value_counts()[0:4]"
   ]
  },
  {
   "cell_type": "code",
   "execution_count": 48,
   "metadata": {},
   "outputs": [
    {
     "data": {
      "text/plain": [
       "0    ['finnish indie', 'suomi rock']\n",
       "Name: genres, dtype: object"
      ]
     },
     "execution_count": 48,
     "metadata": {},
     "output_type": "execute_result"
    }
   ],
   "source": [
    "df[\"genres\"][0:1]"
   ]
  },
  {
   "cell_type": "code",
   "execution_count": 67,
   "metadata": {},
   "outputs": [
    {
     "data": {
      "text/plain": [
       "0"
      ]
     },
     "execution_count": 67,
     "metadata": {},
     "output_type": "execute_result"
    }
   ],
   "source": [
    "((df_genres[\"genres\"].value_counts().index=='rock').tolist()).index(False)"
   ]
  },
  {
   "cell_type": "code",
   "execution_count": 8,
   "metadata": {},
   "outputs": [],
   "source": [
    "unique_genres = set(df_genres[\"genres\"])"
   ]
  },
  {
   "cell_type": "code",
   "execution_count": 9,
   "metadata": {},
   "outputs": [
    {
     "data": {
      "text/plain": [
       "3488"
      ]
     },
     "execution_count": 9,
     "metadata": {},
     "output_type": "execute_result"
    }
   ],
   "source": [
    "len(unique_genres)"
   ]
  },
  {
   "cell_type": "code",
   "execution_count": 10,
   "metadata": {},
   "outputs": [
    {
     "data": {
      "text/html": [
       "<div>\n",
       "<style scoped>\n",
       "    .dataframe tbody tr th:only-of-type {\n",
       "        vertical-align: middle;\n",
       "    }\n",
       "\n",
       "    .dataframe tbody tr th {\n",
       "        vertical-align: top;\n",
       "    }\n",
       "\n",
       "    .dataframe thead th {\n",
       "        text-align: right;\n",
       "    }\n",
       "</style>\n",
       "<table border=\"1\" class=\"dataframe\">\n",
       "  <thead>\n",
       "    <tr style=\"text-align: right;\">\n",
       "      <th></th>\n",
       "      <th>genres</th>\n",
       "    </tr>\n",
       "  </thead>\n",
       "  <tbody>\n",
       "    <tr>\n",
       "      <th>0</th>\n",
       "      <td>'finnish indie'</td>\n",
       "    </tr>\n",
       "    <tr>\n",
       "      <th>1</th>\n",
       "      <td>'suomi rock'</td>\n",
       "    </tr>\n",
       "    <tr>\n",
       "      <th>2</th>\n",
       "      <td>'bass music'</td>\n",
       "    </tr>\n",
       "    <tr>\n",
       "      <th>3</th>\n",
       "      <td>'scottish electronic'</td>\n",
       "    </tr>\n",
       "    <tr>\n",
       "      <th>4</th>\n",
       "      <td>'scottish hip hop'</td>\n",
       "    </tr>\n",
       "    <tr>\n",
       "      <th>...</th>\n",
       "      <td>...</td>\n",
       "    </tr>\n",
       "    <tr>\n",
       "      <th>2110512</th>\n",
       "      <td>'stomp and holler'</td>\n",
       "    </tr>\n",
       "    <tr>\n",
       "      <th>2110513</th>\n",
       "      <td>'ccm'</td>\n",
       "    </tr>\n",
       "    <tr>\n",
       "      <th>2110514</th>\n",
       "      <td>'christian music'</td>\n",
       "    </tr>\n",
       "    <tr>\n",
       "      <th>2110515</th>\n",
       "      <td>'world worship'</td>\n",
       "    </tr>\n",
       "    <tr>\n",
       "      <th>2110516</th>\n",
       "      <td>'worship'</td>\n",
       "    </tr>\n",
       "  </tbody>\n",
       "</table>\n",
       "<p>2110517 rows × 1 columns</p>\n",
       "</div>"
      ],
      "text/plain": [
       "                        genres\n",
       "0              'finnish indie'\n",
       "1                 'suomi rock'\n",
       "2                 'bass music'\n",
       "3        'scottish electronic'\n",
       "4           'scottish hip hop'\n",
       "...                        ...\n",
       "2110512     'stomp and holler'\n",
       "2110513                  'ccm'\n",
       "2110514      'christian music'\n",
       "2110515        'world worship'\n",
       "2110516              'worship'\n",
       "\n",
       "[2110517 rows x 1 columns]"
      ]
     },
     "execution_count": 10,
     "metadata": {},
     "output_type": "execute_result"
    }
   ],
   "source": [
    "df_genres"
   ]
  },
  {
   "cell_type": "code",
   "execution_count": 39,
   "metadata": {},
   "outputs": [
    {
     "data": {
      "text/html": [
       "<div>\n",
       "<style scoped>\n",
       "    .dataframe tbody tr th:only-of-type {\n",
       "        vertical-align: middle;\n",
       "    }\n",
       "\n",
       "    .dataframe tbody tr th {\n",
       "        vertical-align: top;\n",
       "    }\n",
       "\n",
       "    .dataframe thead th {\n",
       "        text-align: right;\n",
       "    }\n",
       "</style>\n",
       "<table border=\"1\" class=\"dataframe\">\n",
       "  <thead>\n",
       "    <tr style=\"text-align: right;\">\n",
       "      <th></th>\n",
       "      <th>acousticness</th>\n",
       "      <th>artist</th>\n",
       "      <th>danceability</th>\n",
       "      <th>duration_ms</th>\n",
       "      <th>energy</th>\n",
       "      <th>instrumentalness</th>\n",
       "      <th>key</th>\n",
       "      <th>liveness</th>\n",
       "      <th>loudness</th>\n",
       "      <th>mode</th>\n",
       "      <th>songid</th>\n",
       "      <th>speechiness</th>\n",
       "      <th>tempo</th>\n",
       "      <th>time_signature</th>\n",
       "      <th>track</th>\n",
       "      <th>valence</th>\n",
       "      <th>genres</th>\n",
       "    </tr>\n",
       "  </thead>\n",
       "  <tbody>\n",
       "    <tr>\n",
       "      <th>0</th>\n",
       "      <td>0.000962</td>\n",
       "      <td>Karkkiautomaatti</td>\n",
       "      <td>0.360344</td>\n",
       "      <td>157307.0</td>\n",
       "      <td>0.501670</td>\n",
       "      <td>0.040770</td>\n",
       "      <td>9.0</td>\n",
       "      <td>0.062598</td>\n",
       "      <td>-7.780</td>\n",
       "      <td>1.0</td>\n",
       "      <td>5PS5dpaLogPzYU9hWiWyZb</td>\n",
       "      <td>0.036626</td>\n",
       "      <td>0.444028</td>\n",
       "      <td>4.0</td>\n",
       "      <td>Tanssi vaan</td>\n",
       "      <td>0.643736</td>\n",
       "      <td>['finnish indie', 'suomi rock']</td>\n",
       "    </tr>\n",
       "    <tr>\n",
       "      <th>1</th>\n",
       "      <td>0.000026</td>\n",
       "      <td>Hudson Mohawke</td>\n",
       "      <td>0.379957</td>\n",
       "      <td>138960.0</td>\n",
       "      <td>0.472364</td>\n",
       "      <td>0.546404</td>\n",
       "      <td>4.0</td>\n",
       "      <td>0.196866</td>\n",
       "      <td>-1.711</td>\n",
       "      <td>0.0</td>\n",
       "      <td>41RpZW2lxAdnqDd2nMBzLQ</td>\n",
       "      <td>0.037996</td>\n",
       "      <td>0.408300</td>\n",
       "      <td>4.0</td>\n",
       "      <td>No One Could Ever</td>\n",
       "      <td>0.356425</td>\n",
       "      <td>['bass music', 'scottish electronic', 'scottis...</td>\n",
       "    </tr>\n",
       "    <tr>\n",
       "      <th>4</th>\n",
       "      <td>0.002002</td>\n",
       "      <td>Kris Kross</td>\n",
       "      <td>0.623189</td>\n",
       "      <td>221200.0</td>\n",
       "      <td>0.537582</td>\n",
       "      <td>0.000000</td>\n",
       "      <td>11.0</td>\n",
       "      <td>0.235782</td>\n",
       "      <td>-12.329</td>\n",
       "      <td>0.0</td>\n",
       "      <td>3GsS8jzoixpCnp4jDWCEvb</td>\n",
       "      <td>0.196606</td>\n",
       "      <td>0.284787</td>\n",
       "      <td>4.0</td>\n",
       "      <td>2 Da Beat Ch'yall</td>\n",
       "      <td>0.383780</td>\n",
       "      <td>['hip hop', 'new jack swing', 'rap']</td>\n",
       "    </tr>\n",
       "    <tr>\n",
       "      <th>5</th>\n",
       "      <td>0.328076</td>\n",
       "      <td>Jorge Negrete</td>\n",
       "      <td>0.340331</td>\n",
       "      <td>173573.0</td>\n",
       "      <td>0.455346</td>\n",
       "      <td>0.000003</td>\n",
       "      <td>7.0</td>\n",
       "      <td>0.166866</td>\n",
       "      <td>-6.875</td>\n",
       "      <td>1.0</td>\n",
       "      <td>0kq75szR7uDEYrZkT2c4Ry</td>\n",
       "      <td>0.027057</td>\n",
       "      <td>0.356702</td>\n",
       "      <td>4.0</td>\n",
       "      <td>El hijo del pueblo</td>\n",
       "      <td>0.642953</td>\n",
       "      <td>['bolero', 'mariachi', 'ranchera']</td>\n",
       "    </tr>\n",
       "    <tr>\n",
       "      <th>6</th>\n",
       "      <td>0.355561</td>\n",
       "      <td>Tiger Lou</td>\n",
       "      <td>0.557394</td>\n",
       "      <td>318467.0</td>\n",
       "      <td>0.315822</td>\n",
       "      <td>0.187192</td>\n",
       "      <td>10.0</td>\n",
       "      <td>0.116080</td>\n",
       "      <td>-10.308</td>\n",
       "      <td>1.0</td>\n",
       "      <td>2HyFpkX9J7vv3OZNDaraHZ</td>\n",
       "      <td>0.032105</td>\n",
       "      <td>0.564862</td>\n",
       "      <td>3.0</td>\n",
       "      <td>Pilots</td>\n",
       "      <td>0.307456</td>\n",
       "      <td>['swedish indie rock']</td>\n",
       "    </tr>\n",
       "  </tbody>\n",
       "</table>\n",
       "</div>"
      ],
      "text/plain": [
       "   acousticness            artist  danceability  duration_ms    energy  \\\n",
       "0      0.000962  Karkkiautomaatti      0.360344     157307.0  0.501670   \n",
       "1      0.000026    Hudson Mohawke      0.379957     138960.0  0.472364   \n",
       "4      0.002002        Kris Kross      0.623189     221200.0  0.537582   \n",
       "5      0.328076     Jorge Negrete      0.340331     173573.0  0.455346   \n",
       "6      0.355561         Tiger Lou      0.557394     318467.0  0.315822   \n",
       "\n",
       "   instrumentalness   key  liveness  loudness  mode                  songid  \\\n",
       "0          0.040770   9.0  0.062598    -7.780   1.0  5PS5dpaLogPzYU9hWiWyZb   \n",
       "1          0.546404   4.0  0.196866    -1.711   0.0  41RpZW2lxAdnqDd2nMBzLQ   \n",
       "4          0.000000  11.0  0.235782   -12.329   0.0  3GsS8jzoixpCnp4jDWCEvb   \n",
       "5          0.000003   7.0  0.166866    -6.875   1.0  0kq75szR7uDEYrZkT2c4Ry   \n",
       "6          0.187192  10.0  0.116080   -10.308   1.0  2HyFpkX9J7vv3OZNDaraHZ   \n",
       "\n",
       "   speechiness     tempo  time_signature               track   valence  \\\n",
       "0     0.036626  0.444028             4.0         Tanssi vaan  0.643736   \n",
       "1     0.037996  0.408300             4.0   No One Could Ever  0.356425   \n",
       "4     0.196606  0.284787             4.0   2 Da Beat Ch'yall  0.383780   \n",
       "5     0.027057  0.356702             4.0  El hijo del pueblo  0.642953   \n",
       "6     0.032105  0.564862             3.0              Pilots  0.307456   \n",
       "\n",
       "                                              genres  \n",
       "0                    ['finnish indie', 'suomi rock']  \n",
       "1  ['bass music', 'scottish electronic', 'scottis...  \n",
       "4               ['hip hop', 'new jack swing', 'rap']  \n",
       "5                 ['bolero', 'mariachi', 'ranchera']  \n",
       "6                             ['swedish indie rock']  "
      ]
     },
     "execution_count": 39,
     "metadata": {},
     "output_type": "execute_result"
    }
   ],
   "source": [
    "df.head()"
   ]
  },
  {
   "cell_type": "markdown",
   "metadata": {},
   "source": [
    "# Feature Hashing"
   ]
  },
  {
   "cell_type": "code",
   "execution_count": 5,
   "metadata": {},
   "outputs": [],
   "source": [
    "from sklearn.feature_extraction import FeatureHasher"
   ]
  },
  {
   "cell_type": "code",
   "execution_count": 7,
   "metadata": {},
   "outputs": [],
   "source": [
    "fh = FeatureHasher(input_type='string',n_features=50)\n",
    "hashed_features = fh.fit_transform(df['genres_stripped'])\n",
    "hashed_features = hashed_features.toarray()\n",
    "df_genres_hashed = pd.concat([df, pd.DataFrame(hashed_features)], \n",
    "          axis=1)"
   ]
  },
  {
   "cell_type": "code",
   "execution_count": 8,
   "metadata": {},
   "outputs": [],
   "source": [
    "pickle.dump( df_genres_hashed, open( \"DF_genres_hashed.pkl\", \"wb\" ) )"
   ]
  },
  {
   "cell_type": "markdown",
   "metadata": {},
   "source": [
    "# Genre Clustering"
   ]
  },
  {
   "cell_type": "code",
   "execution_count": 11,
   "metadata": {},
   "outputs": [
    {
     "data": {
      "text/plain": [
       "0                             'finnish indie', 'suomi rock'\n",
       "1         'bass music', 'scottish electronic', 'scottish...\n",
       "2                        'hip hop', 'new jack swing', 'rap'\n",
       "3                          'bolero', 'mariachi', 'ranchera'\n",
       "4                                      'swedish indie rock'\n",
       "                                ...                        \n",
       "574013    'art pop', 'brooklyn indie', 'chamber pop', 'd...\n",
       "574014                                        'lo-fi beats'\n",
       "574015    'contemporary country', 'country pop', 'heartl...\n",
       "574016    'garage rock', 'indie pop', 'indie rock', 'mod...\n",
       "574017    'ccm', 'christian music', 'world worship', 'wo...\n",
       "Name: genres_stripped, Length: 574018, dtype: object"
      ]
     },
     "execution_count": 11,
     "metadata": {},
     "output_type": "execute_result"
    }
   ],
   "source": [
    "df[\"genres_stripped\"]"
   ]
  },
  {
   "cell_type": "markdown",
   "metadata": {},
   "source": [
    "# Embedding"
   ]
  },
  {
   "cell_type": "code",
   "execution_count": 16,
   "metadata": {},
   "outputs": [],
   "source": [
    "import ast\n",
    "import IPython.display as ipd\n",
    "import numpy as np\n",
    "import pandas as pd\n",
    "import matplotlib.pyplot as plt\n",
    "import seaborn as sns\n",
    "from sklearn.preprocessing import Normalizer, MinMaxScaler\n",
    "from sklearn.cluster import MeanShift, KMeans, AffinityPropagation, AgglomerativeClustering, FeatureAgglomeration, SpectralClustering, estimate_bandwidth\n",
    "from sklearn.pipeline import Pipeline\n",
    "from sklearn.decomposition import PCA\n",
    "from sklearn.metrics import adjusted_rand_score, adjusted_mutual_info_score, silhouette_score, v_measure_score"
   ]
  },
  {
   "cell_type": "code",
   "execution_count": 28,
   "metadata": {},
   "outputs": [],
   "source": [
    "audio_df = df.drop([\"artist\",\"songid\",\"genres\",\"genres_stripped\",\"track\"],axis=1)"
   ]
  },
  {
   "cell_type": "code",
   "execution_count": 29,
   "metadata": {},
   "outputs": [],
   "source": [
    "audio_columns = audio_df.columns"
   ]
  },
  {
   "cell_type": "code",
   "execution_count": 30,
   "metadata": {},
   "outputs": [
    {
     "data": {
      "text/plain": [
       "Index([    'acousticness',     'danceability',      'duration_ms',\n",
       "                 'energy', 'instrumentalness',              'key',\n",
       "               'liveness',         'loudness',             'mode',\n",
       "            'speechiness',            'tempo',   'time_signature',\n",
       "                'valence',                  0,                  1,\n",
       "                        2,                  3,                  4,\n",
       "                        5,                  6,                  7,\n",
       "                        8,                  9,                 10,\n",
       "                       11,                 12,                 13,\n",
       "                       14,                 15,                 16,\n",
       "                       17,                 18,                 19,\n",
       "                       20,                 21,                 22,\n",
       "                       23,                 24,                 25,\n",
       "                       26,                 27,                 28,\n",
       "                       29,                 30,                 31,\n",
       "                       32,                 33,                 34,\n",
       "                       35,                 36,                 37,\n",
       "                       38,                 39,                 40,\n",
       "                       41,                 42,                 43,\n",
       "                       44,                 45,                 46,\n",
       "                       47,                 48,                 49],\n",
       "      dtype='object')"
      ]
     },
     "execution_count": 30,
     "metadata": {},
     "output_type": "execute_result"
    }
   ],
   "source": [
    "audio_columns"
   ]
  },
  {
   "cell_type": "code",
   "execution_count": 34,
   "metadata": {},
   "outputs": [],
   "source": [
    "audio_features_columns = audio_columns[0:13]"
   ]
  },
  {
   "cell_type": "code",
   "execution_count": 37,
   "metadata": {},
   "outputs": [],
   "source": [
    "audio_genres_columns = audio_columns[13:]"
   ]
  },
  {
   "cell_type": "code",
   "execution_count": 38,
   "metadata": {},
   "outputs": [
    {
     "data": {
      "text/html": [
       "<div>\n",
       "<style scoped>\n",
       "    .dataframe tbody tr th:only-of-type {\n",
       "        vertical-align: middle;\n",
       "    }\n",
       "\n",
       "    .dataframe tbody tr th {\n",
       "        vertical-align: top;\n",
       "    }\n",
       "\n",
       "    .dataframe thead th {\n",
       "        text-align: right;\n",
       "    }\n",
       "</style>\n",
       "<table border=\"1\" class=\"dataframe\">\n",
       "  <thead>\n",
       "    <tr style=\"text-align: right;\">\n",
       "      <th></th>\n",
       "      <th>acousticness</th>\n",
       "      <th>danceability</th>\n",
       "      <th>duration_ms</th>\n",
       "      <th>energy</th>\n",
       "      <th>instrumentalness</th>\n",
       "      <th>key</th>\n",
       "      <th>liveness</th>\n",
       "      <th>loudness</th>\n",
       "      <th>mode</th>\n",
       "      <th>speechiness</th>\n",
       "      <th>tempo</th>\n",
       "      <th>time_signature</th>\n",
       "      <th>valence</th>\n",
       "    </tr>\n",
       "  </thead>\n",
       "  <tbody>\n",
       "    <tr>\n",
       "      <th>0</th>\n",
       "      <td>0.001300</td>\n",
       "      <td>0.487</td>\n",
       "      <td>157307.0</td>\n",
       "      <td>0.678</td>\n",
       "      <td>0.055100</td>\n",
       "      <td>9.0</td>\n",
       "      <td>0.0846</td>\n",
       "      <td>-7.780</td>\n",
       "      <td>1.0</td>\n",
       "      <td>0.0495</td>\n",
       "      <td>149.940</td>\n",
       "      <td>4.0</td>\n",
       "      <td>0.8700</td>\n",
       "    </tr>\n",
       "    <tr>\n",
       "      <th>1</th>\n",
       "      <td>0.000045</td>\n",
       "      <td>0.662</td>\n",
       "      <td>138960.0</td>\n",
       "      <td>0.823</td>\n",
       "      <td>0.952000</td>\n",
       "      <td>4.0</td>\n",
       "      <td>0.3430</td>\n",
       "      <td>-1.711</td>\n",
       "      <td>0.0</td>\n",
       "      <td>0.0662</td>\n",
       "      <td>177.745</td>\n",
       "      <td>4.0</td>\n",
       "      <td>0.6210</td>\n",
       "    </tr>\n",
       "    <tr>\n",
       "      <th>2</th>\n",
       "      <td>0.002760</td>\n",
       "      <td>0.859</td>\n",
       "      <td>221200.0</td>\n",
       "      <td>0.741</td>\n",
       "      <td>0.000000</td>\n",
       "      <td>11.0</td>\n",
       "      <td>0.3250</td>\n",
       "      <td>-12.329</td>\n",
       "      <td>0.0</td>\n",
       "      <td>0.2710</td>\n",
       "      <td>98.082</td>\n",
       "      <td>4.0</td>\n",
       "      <td>0.5290</td>\n",
       "    </tr>\n",
       "    <tr>\n",
       "      <th>3</th>\n",
       "      <td>0.348000</td>\n",
       "      <td>0.361</td>\n",
       "      <td>173573.0</td>\n",
       "      <td>0.483</td>\n",
       "      <td>0.000003</td>\n",
       "      <td>7.0</td>\n",
       "      <td>0.1770</td>\n",
       "      <td>-6.875</td>\n",
       "      <td>1.0</td>\n",
       "      <td>0.0287</td>\n",
       "      <td>94.538</td>\n",
       "      <td>4.0</td>\n",
       "      <td>0.6820</td>\n",
       "    </tr>\n",
       "    <tr>\n",
       "      <th>4</th>\n",
       "      <td>0.340000</td>\n",
       "      <td>0.533</td>\n",
       "      <td>318467.0</td>\n",
       "      <td>0.302</td>\n",
       "      <td>0.179000</td>\n",
       "      <td>10.0</td>\n",
       "      <td>0.1110</td>\n",
       "      <td>-10.308</td>\n",
       "      <td>1.0</td>\n",
       "      <td>0.0307</td>\n",
       "      <td>134.959</td>\n",
       "      <td>3.0</td>\n",
       "      <td>0.2940</td>\n",
       "    </tr>\n",
       "    <tr>\n",
       "      <th>...</th>\n",
       "      <td>...</td>\n",
       "      <td>...</td>\n",
       "      <td>...</td>\n",
       "      <td>...</td>\n",
       "      <td>...</td>\n",
       "      <td>...</td>\n",
       "      <td>...</td>\n",
       "      <td>...</td>\n",
       "      <td>...</td>\n",
       "      <td>...</td>\n",
       "      <td>...</td>\n",
       "      <td>...</td>\n",
       "      <td>...</td>\n",
       "    </tr>\n",
       "    <tr>\n",
       "      <th>574013</th>\n",
       "      <td>0.798000</td>\n",
       "      <td>0.320</td>\n",
       "      <td>239304.0</td>\n",
       "      <td>0.104</td>\n",
       "      <td>0.000750</td>\n",
       "      <td>0.0</td>\n",
       "      <td>0.1060</td>\n",
       "      <td>-13.162</td>\n",
       "      <td>1.0</td>\n",
       "      <td>0.0342</td>\n",
       "      <td>124.677</td>\n",
       "      <td>3.0</td>\n",
       "      <td>0.0566</td>\n",
       "    </tr>\n",
       "    <tr>\n",
       "      <th>574014</th>\n",
       "      <td>0.820000</td>\n",
       "      <td>0.418</td>\n",
       "      <td>235771.0</td>\n",
       "      <td>0.204</td>\n",
       "      <td>0.936000</td>\n",
       "      <td>8.0</td>\n",
       "      <td>0.0866</td>\n",
       "      <td>-13.522</td>\n",
       "      <td>1.0</td>\n",
       "      <td>0.0370</td>\n",
       "      <td>110.022</td>\n",
       "      <td>4.0</td>\n",
       "      <td>0.0375</td>\n",
       "    </tr>\n",
       "    <tr>\n",
       "      <th>574015</th>\n",
       "      <td>0.070400</td>\n",
       "      <td>0.614</td>\n",
       "      <td>209032.0</td>\n",
       "      <td>0.952</td>\n",
       "      <td>0.000000</td>\n",
       "      <td>6.0</td>\n",
       "      <td>0.3620</td>\n",
       "      <td>-2.782</td>\n",
       "      <td>1.0</td>\n",
       "      <td>0.0718</td>\n",
       "      <td>148.079</td>\n",
       "      <td>4.0</td>\n",
       "      <td>0.8200</td>\n",
       "    </tr>\n",
       "    <tr>\n",
       "      <th>574016</th>\n",
       "      <td>0.064000</td>\n",
       "      <td>0.343</td>\n",
       "      <td>324920.0</td>\n",
       "      <td>0.487</td>\n",
       "      <td>0.000000</td>\n",
       "      <td>2.0</td>\n",
       "      <td>0.1070</td>\n",
       "      <td>-9.462</td>\n",
       "      <td>1.0</td>\n",
       "      <td>0.0473</td>\n",
       "      <td>171.217</td>\n",
       "      <td>4.0</td>\n",
       "      <td>0.3650</td>\n",
       "    </tr>\n",
       "    <tr>\n",
       "      <th>574017</th>\n",
       "      <td>0.029200</td>\n",
       "      <td>0.380</td>\n",
       "      <td>423377.0</td>\n",
       "      <td>0.399</td>\n",
       "      <td>0.000000</td>\n",
       "      <td>2.0</td>\n",
       "      <td>0.8910</td>\n",
       "      <td>-8.466</td>\n",
       "      <td>1.0</td>\n",
       "      <td>0.0321</td>\n",
       "      <td>125.800</td>\n",
       "      <td>3.0</td>\n",
       "      <td>0.1050</td>\n",
       "    </tr>\n",
       "  </tbody>\n",
       "</table>\n",
       "<p>574018 rows × 13 columns</p>\n",
       "</div>"
      ],
      "text/plain": [
       "        acousticness  danceability  duration_ms  energy  instrumentalness  \\\n",
       "0           0.001300         0.487     157307.0   0.678          0.055100   \n",
       "1           0.000045         0.662     138960.0   0.823          0.952000   \n",
       "2           0.002760         0.859     221200.0   0.741          0.000000   \n",
       "3           0.348000         0.361     173573.0   0.483          0.000003   \n",
       "4           0.340000         0.533     318467.0   0.302          0.179000   \n",
       "...              ...           ...          ...     ...               ...   \n",
       "574013      0.798000         0.320     239304.0   0.104          0.000750   \n",
       "574014      0.820000         0.418     235771.0   0.204          0.936000   \n",
       "574015      0.070400         0.614     209032.0   0.952          0.000000   \n",
       "574016      0.064000         0.343     324920.0   0.487          0.000000   \n",
       "574017      0.029200         0.380     423377.0   0.399          0.000000   \n",
       "\n",
       "         key  liveness  loudness  mode  speechiness    tempo  time_signature  \\\n",
       "0        9.0    0.0846    -7.780   1.0       0.0495  149.940             4.0   \n",
       "1        4.0    0.3430    -1.711   0.0       0.0662  177.745             4.0   \n",
       "2       11.0    0.3250   -12.329   0.0       0.2710   98.082             4.0   \n",
       "3        7.0    0.1770    -6.875   1.0       0.0287   94.538             4.0   \n",
       "4       10.0    0.1110   -10.308   1.0       0.0307  134.959             3.0   \n",
       "...      ...       ...       ...   ...          ...      ...             ...   \n",
       "574013   0.0    0.1060   -13.162   1.0       0.0342  124.677             3.0   \n",
       "574014   8.0    0.0866   -13.522   1.0       0.0370  110.022             4.0   \n",
       "574015   6.0    0.3620    -2.782   1.0       0.0718  148.079             4.0   \n",
       "574016   2.0    0.1070    -9.462   1.0       0.0473  171.217             4.0   \n",
       "574017   2.0    0.8910    -8.466   1.0       0.0321  125.800             3.0   \n",
       "\n",
       "        valence  \n",
       "0        0.8700  \n",
       "1        0.6210  \n",
       "2        0.5290  \n",
       "3        0.6820  \n",
       "4        0.2940  \n",
       "...         ...  \n",
       "574013   0.0566  \n",
       "574014   0.0375  \n",
       "574015   0.8200  \n",
       "574016   0.3650  \n",
       "574017   0.1050  \n",
       "\n",
       "[574018 rows x 13 columns]"
      ]
     },
     "execution_count": 38,
     "metadata": {},
     "output_type": "execute_result"
    }
   ],
   "source": [
    "df[audio_features_columns]"
   ]
  },
  {
   "cell_type": "code",
   "execution_count": 45,
   "metadata": {},
   "outputs": [],
   "source": [
    "# scale tempo\n",
    "tempo = df['tempo'].values.reshape(-1,1)\n",
    "tempo_scaled = MinMaxScaler().fit_transform(tempo)\n",
    "\n",
    "# normalize audio columns\n",
    "norm = Normalizer()\n",
    "audio_features_normalized = norm.fit_transform(df[audio_features_columns])"
   ]
  },
  {
   "cell_type": "code",
   "execution_count": 42,
   "metadata": {},
   "outputs": [
    {
     "data": {
      "text/plain": [
       "array([[0.60009846],\n",
       "       [0.71138122],\n",
       "       [0.3925494 ],\n",
       "       ...,\n",
       "       [0.59265025],\n",
       "       [0.68525448],\n",
       "       [0.50348396]])"
      ]
     },
     "execution_count": 42,
     "metadata": {},
     "output_type": "execute_result"
    }
   ],
   "source": []
  },
  {
   "cell_type": "code",
   "execution_count": 41,
   "metadata": {},
   "outputs": [
    {
     "data": {
      "text/plain": [
       "array([[8.26409127e-09, 3.09585573e-06, 9.99999543e-01, ...,\n",
       "        9.53167573e-04, 2.54279731e-05, 5.53058416e-06],\n",
       "       [3.26712455e-10, 4.76395695e-06, 9.99999181e-01, ...,\n",
       "        1.27910805e-03, 2.87852384e-05, 4.46890826e-06],\n",
       "       [1.24773948e-08, 3.88336308e-06, 9.99999899e-01, ...,\n",
       "        4.43408635e-04, 1.80831808e-05, 2.39150066e-06],\n",
       "       ...,\n",
       "       [3.36790454e-07, 2.93734857e-06, 9.99999748e-01, ...,\n",
       "        7.08403320e-04, 1.91358213e-05, 3.92284336e-06],\n",
       "       [1.96971535e-07, 1.05564432e-06, 9.99999861e-01, ...,\n",
       "        5.26951176e-04, 1.23107209e-05, 1.12335328e-06],\n",
       "       [6.89692607e-08, 8.97545174e-07, 9.99999956e-01, ...,\n",
       "        2.97134692e-04, 7.08588295e-06, 2.48005903e-07]])"
      ]
     },
     "execution_count": 41,
     "metadata": {},
     "output_type": "execute_result"
    }
   ],
   "source": [
    "norm.fit_transform(df[audio_features_columns])"
   ]
  },
  {
   "cell_type": "code",
   "execution_count": 51,
   "metadata": {},
   "outputs": [
    {
     "data": {
      "text/plain": [
       "Text(0.5, 1.0, 'Elbow Method')"
      ]
     },
     "execution_count": 51,
     "metadata": {},
     "output_type": "execute_result"
    },
    {
     "data": {
      "image/png": "[encoded data removed]",
      "text/plain": [
       "<Figure size 576x576 with 1 Axes>"
      ]
     },
     "metadata": {
      "needs_background": "light"
     },
     "output_type": "display_data"
    }
   ],
   "source": [
    "data_for_model = np.concatenate((tempo_scaled,audio_features_normalized,df[audio_genres_columns]),axis=1)\n",
    "\n",
    "X = data_for_model\n",
    "\n",
    "Ks = np.arange(1, 20)\n",
    "[KMeans(n_clusters=i, random_state=1986) for i in Ks]\n",
    "km = [KMeans(n_clusters=i, random_state=1986) for i in Ks]\n",
    "score = [-km[i].fit(X).score(X) for i in range(len(km))]\n",
    "Ks.dtype = int\n",
    "plt.figure(figsize=(8,8))\n",
    "plt.plot(Ks,score)\n",
    "plt.xlim(0,18)\n",
    "plt.grid(True)\n",
    "plt.xlabel('K')\n",
    "plt.ylabel('Error')\n",
    "plt.title('Elbow Method')"
   ]
  },
  {
   "cell_type": "code",
   "execution_count": 53,
   "metadata": {},
   "outputs": [],
   "source": [
    "#K-means clustering doesn't appear to be a good choice here. \n",
    "\n",
    "# km = KMeans(n_clusters=9, n_init=10, random_state=1986)\n",
    "# km.fit(X)\n",
    "# labels = km.labels_\n",
    "# cluster_centers = km.cluster_centers_\n",
    "# labels_unique = np.unique(labels)\n",
    "# n_clusters = len(labels_unique)\n",
    "# km_clusters = pd.DataFrame(cluster_centers, columns=audio_cols)\n",
    "# km_clusters['cluster'] = ['KM{}'.format(l) for l in labels_unique]\n",
    "# km_clusters['method'] = 'KMeans'\n",
    "# clusters = km_clusters\n",
    "# cols = ['cluster'] + audio_cols + ['method']\n",
    "# clusters = clusters[cols]"
   ]
  },
  {
   "cell_type": "code",
   "execution_count": 54,
   "metadata": {},
   "outputs": [],
   "source": [
    "# clusters"
   ]
  },
  {
   "cell_type": "code",
   "execution_count": 55,
   "metadata": {},
   "outputs": [],
   "source": [
    "# plt.figure(figsize=(10,10))\n",
    "# sns.set(font_scale=1.5)\n",
    "# sns.heatmap(\n",
    "#     data=clusters.loc[clusters.method=='KMeans', audio_cols],\n",
    "#     cmap='Purples',\n",
    "#     annot=True\n",
    "# )\n",
    "# plt.ylabel(\"KMeansLabel\")\n",
    "# plt.savefig('heatmap_all.png')"
   ]
  },
  {
   "cell_type": "code",
   "execution_count": 96,
   "metadata": {},
   "outputs": [],
   "source": [
    "pickle.dump( X, open( \"./data/X_array.pkl\", \"wb\" ) )"
   ]
  },
  {
   "cell_type": "markdown",
   "metadata": {},
   "source": [
    "# DBSCAN Attempt - Takes too long on local machine - Will try Sagemaker"
   ]
  },
  {
   "cell_type": "code",
   "execution_count": 94,
   "metadata": {},
   "outputs": [],
   "source": [
    "from sklearn.cluster import DBSCAN\n",
    "\n",
    "dbscan = DBSCAN(eps=3, metric='euclidean', min_samples=50, n_jobs=-1) "
   ]
  },
  {
   "cell_type": "code",
   "execution_count": 95,
   "metadata": {},
   "outputs": [
    {
     "ename": "KeyboardInterrupt",
     "evalue": "",
     "output_type": "error",
     "traceback": [
      "\u001b[0;31m---------------------------------------------------------------------------\u001b[0m",
      "\u001b[0;31mKeyboardInterrupt\u001b[0m                         Traceback (most recent call last)",
      "\u001b[0;32m<ipython-input-95-cceac519110f>\u001b[0m in \u001b[0;36m<module>\u001b[0;34m\u001b[0m\n\u001b[0;32m----> 1\u001b[0;31m \u001b[0mdbscan\u001b[0m\u001b[0;34m.\u001b[0m\u001b[0mfit\u001b[0m\u001b[0;34m(\u001b[0m\u001b[0mX\u001b[0m\u001b[0;34m)\u001b[0m\u001b[0;34m\u001b[0m\u001b[0;34m\u001b[0m\u001b[0m\n\u001b[0m",
      "\u001b[0;32m~/.local/share/virtualenvs/model_notebooks-inW34qmC/lib/python3.7/site-packages/sklearn/cluster/_dbscan.py\u001b[0m in \u001b[0;36mfit\u001b[0;34m(self, X, y, sample_weight)\u001b[0m\n\u001b[1;32m    333\u001b[0m         \u001b[0;31m# This has worst case O(n^2) memory complexity\u001b[0m\u001b[0;34m\u001b[0m\u001b[0;34m\u001b[0m\u001b[0;34m\u001b[0m\u001b[0m\n\u001b[1;32m    334\u001b[0m         neighborhoods = neighbors_model.radius_neighbors(X,\n\u001b[0;32m--> 335\u001b[0;31m                                                          return_distance=False)\n\u001b[0m\u001b[1;32m    336\u001b[0m \u001b[0;34m\u001b[0m\u001b[0m\n\u001b[1;32m    337\u001b[0m         \u001b[0;32mif\u001b[0m \u001b[0msample_weight\u001b[0m \u001b[0;32mis\u001b[0m \u001b[0;32mNone\u001b[0m\u001b[0;34m:\u001b[0m\u001b[0;34m\u001b[0m\u001b[0;34m\u001b[0m\u001b[0m\n",
      "\u001b[0;32m~/.local/share/virtualenvs/model_notebooks-inW34qmC/lib/python3.7/site-packages/sklearn/neighbors/_base.py\u001b[0m in \u001b[0;36mradius_neighbors\u001b[0;34m(self, X, radius, return_distance, sort_results)\u001b[0m\n\u001b[1;32m    973\u001b[0m                               sort_results=sort_results)\n\u001b[1;32m    974\u001b[0m \u001b[0;34m\u001b[0m\u001b[0m\n\u001b[0;32m--> 975\u001b[0;31m                 \u001b[0;32mfor\u001b[0m \u001b[0ms\u001b[0m \u001b[0;32min\u001b[0m \u001b[0mgen_even_slices\u001b[0m\u001b[0;34m(\u001b[0m\u001b[0mX\u001b[0m\u001b[0;34m.\u001b[0m\u001b[0mshape\u001b[0m\u001b[0;34m[\u001b[0m\u001b[0;36m0\u001b[0m\u001b[0;34m]\u001b[0m\u001b[0;34m,\u001b[0m \u001b[0mn_jobs\u001b[0m\u001b[0;34m)\u001b[0m\u001b[0;34m\u001b[0m\u001b[0;34m\u001b[0m\u001b[0m\n\u001b[0m\u001b[1;32m    976\u001b[0m             )\n\u001b[1;32m    977\u001b[0m             \u001b[0;32mif\u001b[0m \u001b[0mreturn_distance\u001b[0m\u001b[0;34m:\u001b[0m\u001b[0;34m\u001b[0m\u001b[0;34m\u001b[0m\u001b[0m\n",
      "\u001b[0;32m~/.local/share/virtualenvs/model_notebooks-inW34qmC/lib/python3.7/site-packages/joblib/parallel.py\u001b[0m in \u001b[0;36m__call__\u001b[0;34m(self, iterable)\u001b[0m\n\u001b[1;32m   1015\u001b[0m \u001b[0;34m\u001b[0m\u001b[0m\n\u001b[1;32m   1016\u001b[0m             \u001b[0;32mwith\u001b[0m \u001b[0mself\u001b[0m\u001b[0;34m.\u001b[0m\u001b[0m_backend\u001b[0m\u001b[0;34m.\u001b[0m\u001b[0mretrieval_context\u001b[0m\u001b[0;34m(\u001b[0m\u001b[0;34m)\u001b[0m\u001b[0;34m:\u001b[0m\u001b[0;34m\u001b[0m\u001b[0;34m\u001b[0m\u001b[0m\n\u001b[0;32m-> 1017\u001b[0;31m                 \u001b[0mself\u001b[0m\u001b[0;34m.\u001b[0m\u001b[0mretrieve\u001b[0m\u001b[0;34m(\u001b[0m\u001b[0;34m)\u001b[0m\u001b[0;34m\u001b[0m\u001b[0;34m\u001b[0m\u001b[0m\n\u001b[0m\u001b[1;32m   1018\u001b[0m             \u001b[0;31m# Make sure that we get a last message telling us we are done\u001b[0m\u001b[0;34m\u001b[0m\u001b[0;34m\u001b[0m\u001b[0;34m\u001b[0m\u001b[0m\n\u001b[1;32m   1019\u001b[0m             \u001b[0melapsed_time\u001b[0m \u001b[0;34m=\u001b[0m \u001b[0mtime\u001b[0m\u001b[0;34m.\u001b[0m\u001b[0mtime\u001b[0m\u001b[0;34m(\u001b[0m\u001b[0;34m)\u001b[0m \u001b[0;34m-\u001b[0m \u001b[0mself\u001b[0m\u001b[0;34m.\u001b[0m\u001b[0m_start_time\u001b[0m\u001b[0;34m\u001b[0m\u001b[0;34m\u001b[0m\u001b[0m\n",
      "\u001b[0;32m~/.local/share/virtualenvs/model_notebooks-inW34qmC/lib/python3.7/site-packages/joblib/parallel.py\u001b[0m in \u001b[0;36mretrieve\u001b[0;34m(self)\u001b[0m\n\u001b[1;32m    907\u001b[0m             \u001b[0;32mtry\u001b[0m\u001b[0;34m:\u001b[0m\u001b[0;34m\u001b[0m\u001b[0;34m\u001b[0m\u001b[0m\n\u001b[1;32m    908\u001b[0m                 \u001b[0;32mif\u001b[0m \u001b[0mgetattr\u001b[0m\u001b[0;34m(\u001b[0m\u001b[0mself\u001b[0m\u001b[0;34m.\u001b[0m\u001b[0m_backend\u001b[0m\u001b[0;34m,\u001b[0m \u001b[0;34m'supports_timeout'\u001b[0m\u001b[0;34m,\u001b[0m \u001b[0;32mFalse\u001b[0m\u001b[0;34m)\u001b[0m\u001b[0;34m:\u001b[0m\u001b[0;34m\u001b[0m\u001b[0;34m\u001b[0m\u001b[0m\n\u001b[0;32m--> 909\u001b[0;31m                     \u001b[0mself\u001b[0m\u001b[0;34m.\u001b[0m\u001b[0m_output\u001b[0m\u001b[0;34m.\u001b[0m\u001b[0mextend\u001b[0m\u001b[0;34m(\u001b[0m\u001b[0mjob\u001b[0m\u001b[0;34m.\u001b[0m\u001b[0mget\u001b[0m\u001b[0;34m(\u001b[0m\u001b[0mtimeout\u001b[0m\u001b[0;34m=\u001b[0m\u001b[0mself\u001b[0m\u001b[0;34m.\u001b[0m\u001b[0mtimeout\u001b[0m\u001b[0;34m)\u001b[0m\u001b[0;34m)\u001b[0m\u001b[0;34m\u001b[0m\u001b[0;34m\u001b[0m\u001b[0m\n\u001b[0m\u001b[1;32m    910\u001b[0m                 \u001b[0;32melse\u001b[0m\u001b[0;34m:\u001b[0m\u001b[0;34m\u001b[0m\u001b[0;34m\u001b[0m\u001b[0m\n\u001b[1;32m    911\u001b[0m                     \u001b[0mself\u001b[0m\u001b[0;34m.\u001b[0m\u001b[0m_output\u001b[0m\u001b[0;34m.\u001b[0m\u001b[0mextend\u001b[0m\u001b[0;34m(\u001b[0m\u001b[0mjob\u001b[0m\u001b[0;34m.\u001b[0m\u001b[0mget\u001b[0m\u001b[0;34m(\u001b[0m\u001b[0;34m)\u001b[0m\u001b[0;34m)\u001b[0m\u001b[0;34m\u001b[0m\u001b[0;34m\u001b[0m\u001b[0m\n",
      "\u001b[0;32m/Library/Frameworks/Python.framework/Versions/3.7/lib/python3.7/multiprocessing/pool.py\u001b[0m in \u001b[0;36mget\u001b[0;34m(self, timeout)\u001b[0m\n\u001b[1;32m    649\u001b[0m \u001b[0;34m\u001b[0m\u001b[0m\n\u001b[1;32m    650\u001b[0m     \u001b[0;32mdef\u001b[0m \u001b[0mget\u001b[0m\u001b[0;34m(\u001b[0m\u001b[0mself\u001b[0m\u001b[0;34m,\u001b[0m \u001b[0mtimeout\u001b[0m\u001b[0;34m=\u001b[0m\u001b[0;32mNone\u001b[0m\u001b[0;34m)\u001b[0m\u001b[0;34m:\u001b[0m\u001b[0;34m\u001b[0m\u001b[0;34m\u001b[0m\u001b[0m\n\u001b[0;32m--> 651\u001b[0;31m         \u001b[0mself\u001b[0m\u001b[0;34m.\u001b[0m\u001b[0mwait\u001b[0m\u001b[0;34m(\u001b[0m\u001b[0mtimeout\u001b[0m\u001b[0;34m)\u001b[0m\u001b[0;34m\u001b[0m\u001b[0;34m\u001b[0m\u001b[0m\n\u001b[0m\u001b[1;32m    652\u001b[0m         \u001b[0;32mif\u001b[0m \u001b[0;32mnot\u001b[0m \u001b[0mself\u001b[0m\u001b[0;34m.\u001b[0m\u001b[0mready\u001b[0m\u001b[0;34m(\u001b[0m\u001b[0;34m)\u001b[0m\u001b[0;34m:\u001b[0m\u001b[0;34m\u001b[0m\u001b[0;34m\u001b[0m\u001b[0m\n\u001b[1;32m    653\u001b[0m             \u001b[0;32mraise\u001b[0m \u001b[0mTimeoutError\u001b[0m\u001b[0;34m\u001b[0m\u001b[0;34m\u001b[0m\u001b[0m\n",
      "\u001b[0;32m/Library/Frameworks/Python.framework/Versions/3.7/lib/python3.7/multiprocessing/pool.py\u001b[0m in \u001b[0;36mwait\u001b[0;34m(self, timeout)\u001b[0m\n\u001b[1;32m    646\u001b[0m \u001b[0;34m\u001b[0m\u001b[0m\n\u001b[1;32m    647\u001b[0m     \u001b[0;32mdef\u001b[0m \u001b[0mwait\u001b[0m\u001b[0;34m(\u001b[0m\u001b[0mself\u001b[0m\u001b[0;34m,\u001b[0m \u001b[0mtimeout\u001b[0m\u001b[0;34m=\u001b[0m\u001b[0;32mNone\u001b[0m\u001b[0;34m)\u001b[0m\u001b[0;34m:\u001b[0m\u001b[0;34m\u001b[0m\u001b[0;34m\u001b[0m\u001b[0m\n\u001b[0;32m--> 648\u001b[0;31m         \u001b[0mself\u001b[0m\u001b[0;34m.\u001b[0m\u001b[0m_event\u001b[0m\u001b[0;34m.\u001b[0m\u001b[0mwait\u001b[0m\u001b[0;34m(\u001b[0m\u001b[0mtimeout\u001b[0m\u001b[0;34m)\u001b[0m\u001b[0;34m\u001b[0m\u001b[0;34m\u001b[0m\u001b[0m\n\u001b[0m\u001b[1;32m    649\u001b[0m \u001b[0;34m\u001b[0m\u001b[0m\n\u001b[1;32m    650\u001b[0m     \u001b[0;32mdef\u001b[0m \u001b[0mget\u001b[0m\u001b[0;34m(\u001b[0m\u001b[0mself\u001b[0m\u001b[0;34m,\u001b[0m \u001b[0mtimeout\u001b[0m\u001b[0;34m=\u001b[0m\u001b[0;32mNone\u001b[0m\u001b[0;34m)\u001b[0m\u001b[0;34m:\u001b[0m\u001b[0;34m\u001b[0m\u001b[0;34m\u001b[0m\u001b[0m\n",
      "\u001b[0;32m/Library/Frameworks/Python.framework/Versions/3.7/lib/python3.7/threading.py\u001b[0m in \u001b[0;36mwait\u001b[0;34m(self, timeout)\u001b[0m\n\u001b[1;32m    550\u001b[0m             \u001b[0msignaled\u001b[0m \u001b[0;34m=\u001b[0m \u001b[0mself\u001b[0m\u001b[0;34m.\u001b[0m\u001b[0m_flag\u001b[0m\u001b[0;34m\u001b[0m\u001b[0;34m\u001b[0m\u001b[0m\n\u001b[1;32m    551\u001b[0m             \u001b[0;32mif\u001b[0m \u001b[0;32mnot\u001b[0m \u001b[0msignaled\u001b[0m\u001b[0;34m:\u001b[0m\u001b[0;34m\u001b[0m\u001b[0;34m\u001b[0m\u001b[0m\n\u001b[0;32m--> 552\u001b[0;31m                 \u001b[0msignaled\u001b[0m \u001b[0;34m=\u001b[0m \u001b[0mself\u001b[0m\u001b[0;34m.\u001b[0m\u001b[0m_cond\u001b[0m\u001b[0;34m.\u001b[0m\u001b[0mwait\u001b[0m\u001b[0;34m(\u001b[0m\u001b[0mtimeout\u001b[0m\u001b[0;34m)\u001b[0m\u001b[0;34m\u001b[0m\u001b[0;34m\u001b[0m\u001b[0m\n\u001b[0m\u001b[1;32m    553\u001b[0m             \u001b[0;32mreturn\u001b[0m \u001b[0msignaled\u001b[0m\u001b[0;34m\u001b[0m\u001b[0;34m\u001b[0m\u001b[0m\n\u001b[1;32m    554\u001b[0m \u001b[0;34m\u001b[0m\u001b[0m\n",
      "\u001b[0;32m/Library/Frameworks/Python.framework/Versions/3.7/lib/python3.7/threading.py\u001b[0m in \u001b[0;36mwait\u001b[0;34m(self, timeout)\u001b[0m\n\u001b[1;32m    294\u001b[0m         \u001b[0;32mtry\u001b[0m\u001b[0;34m:\u001b[0m    \u001b[0;31m# restore state no matter what (e.g., KeyboardInterrupt)\u001b[0m\u001b[0;34m\u001b[0m\u001b[0;34m\u001b[0m\u001b[0m\n\u001b[1;32m    295\u001b[0m             \u001b[0;32mif\u001b[0m \u001b[0mtimeout\u001b[0m \u001b[0;32mis\u001b[0m \u001b[0;32mNone\u001b[0m\u001b[0;34m:\u001b[0m\u001b[0;34m\u001b[0m\u001b[0;34m\u001b[0m\u001b[0m\n\u001b[0;32m--> 296\u001b[0;31m                 \u001b[0mwaiter\u001b[0m\u001b[0;34m.\u001b[0m\u001b[0macquire\u001b[0m\u001b[0;34m(\u001b[0m\u001b[0;34m)\u001b[0m\u001b[0;34m\u001b[0m\u001b[0;34m\u001b[0m\u001b[0m\n\u001b[0m\u001b[1;32m    297\u001b[0m                 \u001b[0mgotit\u001b[0m \u001b[0;34m=\u001b[0m \u001b[0;32mTrue\u001b[0m\u001b[0;34m\u001b[0m\u001b[0;34m\u001b[0m\u001b[0m\n\u001b[1;32m    298\u001b[0m             \u001b[0;32melse\u001b[0m\u001b[0;34m:\u001b[0m\u001b[0;34m\u001b[0m\u001b[0;34m\u001b[0m\u001b[0m\n",
      "\u001b[0;31mKeyboardInterrupt\u001b[0m: "
     ]
    }
   ],
   "source": [
    "dbscan.fit(X)"
   ]
  },
  {
   "cell_type": "code",
   "execution_count": 68,
   "metadata": {},
   "outputs": [
    {
     "data": {
      "text/plain": [
       "574018"
      ]
     },
     "execution_count": 68,
     "metadata": {},
     "output_type": "execute_result"
    }
   ],
   "source": [
    "len(dbscan.labels_)"
   ]
  },
  {
   "cell_type": "code",
   "execution_count": 67,
   "metadata": {},
   "outputs": [
    {
     "data": {
      "text/plain": [
       "14741"
      ]
     },
     "execution_count": 67,
     "metadata": {},
     "output_type": "execute_result"
    }
   ],
   "source": [
    "len(set(dbscan.labels_))"
   ]
  },
  {
   "cell_type": "code",
   "execution_count": 88,
   "metadata": {},
   "outputs": [
    {
     "data": {
      "text/plain": [
       "1"
      ]
     },
     "execution_count": 88,
     "metadata": {},
     "output_type": "execute_result"
    }
   ],
   "source": [
    "dbscan.labels_[1]"
   ]
  },
  {
   "cell_type": "code",
   "execution_count": 93,
   "metadata": {},
   "outputs": [
    {
     "data": {
      "text/plain": [
       "array([     1,   7356,  29886,  41466,  46615, 155284, 183275, 189867,\n",
       "       254445, 280660, 324065, 353040, 386550, 387436, 399202, 432767,\n",
       "       439313])"
      ]
     },
     "execution_count": 93,
     "metadata": {},
     "output_type": "execute_result"
    }
   ],
   "source": [
    "np.where(dbscan.labels_ == 1)[0]"
   ]
  },
  {
   "cell_type": "code",
   "execution_count": 90,
   "metadata": {},
   "outputs": [
    {
     "data": {
      "text/html": [
       "<div>\n",
       "<style scoped>\n",
       "    .dataframe tbody tr th:only-of-type {\n",
       "        vertical-align: middle;\n",
       "    }\n",
       "\n",
       "    .dataframe tbody tr th {\n",
       "        vertical-align: top;\n",
       "    }\n",
       "\n",
       "    .dataframe thead th {\n",
       "        text-align: right;\n",
       "    }\n",
       "</style>\n",
       "<table border=\"1\" class=\"dataframe\">\n",
       "  <thead>\n",
       "    <tr style=\"text-align: right;\">\n",
       "      <th></th>\n",
       "      <th>1</th>\n",
       "    </tr>\n",
       "  </thead>\n",
       "  <tbody>\n",
       "    <tr>\n",
       "      <th>songid</th>\n",
       "      <td>41RpZW2lxAdnqDd2nMBzLQ</td>\n",
       "    </tr>\n",
       "  </tbody>\n",
       "</table>\n",
       "</div>"
      ],
      "text/plain": [
       "                             1\n",
       "songid  41RpZW2lxAdnqDd2nMBzLQ"
      ]
     },
     "metadata": {},
     "output_type": "display_data"
    },
    {
     "data": {
      "text/html": [
       "<div>\n",
       "<style scoped>\n",
       "    .dataframe tbody tr th:only-of-type {\n",
       "        vertical-align: middle;\n",
       "    }\n",
       "\n",
       "    .dataframe tbody tr th {\n",
       "        vertical-align: top;\n",
       "    }\n",
       "\n",
       "    .dataframe thead th {\n",
       "        text-align: right;\n",
       "    }\n",
       "</style>\n",
       "<table border=\"1\" class=\"dataframe\">\n",
       "  <thead>\n",
       "    <tr style=\"text-align: right;\">\n",
       "      <th></th>\n",
       "      <th>1</th>\n",
       "    </tr>\n",
       "  </thead>\n",
       "  <tbody>\n",
       "    <tr>\n",
       "      <th>genres_stripped</th>\n",
       "      <td>'bass music', 'scottish electronic', 'scottish...</td>\n",
       "    </tr>\n",
       "  </tbody>\n",
       "</table>\n",
       "</div>"
      ],
      "text/plain": [
       "                                                                 1\n",
       "genres_stripped  'bass music', 'scottish electronic', 'scottish..."
      ]
     },
     "metadata": {},
     "output_type": "display_data"
    },
    {
     "data": {
      "text/html": [
       "<div>\n",
       "<style scoped>\n",
       "    .dataframe tbody tr th:only-of-type {\n",
       "        vertical-align: middle;\n",
       "    }\n",
       "\n",
       "    .dataframe tbody tr th {\n",
       "        vertical-align: top;\n",
       "    }\n",
       "\n",
       "    .dataframe thead th {\n",
       "        text-align: right;\n",
       "    }\n",
       "</style>\n",
       "<table border=\"1\" class=\"dataframe\">\n",
       "  <thead>\n",
       "    <tr style=\"text-align: right;\">\n",
       "      <th></th>\n",
       "      <th>7356</th>\n",
       "    </tr>\n",
       "  </thead>\n",
       "  <tbody>\n",
       "    <tr>\n",
       "      <th>songid</th>\n",
       "      <td>5KrT43gJer7GAmW7lzDswI</td>\n",
       "    </tr>\n",
       "  </tbody>\n",
       "</table>\n",
       "</div>"
      ],
      "text/plain": [
       "                          7356\n",
       "songid  5KrT43gJer7GAmW7lzDswI"
      ]
     },
     "metadata": {},
     "output_type": "display_data"
    },
    {
     "data": {
      "text/html": [
       "<div>\n",
       "<style scoped>\n",
       "    .dataframe tbody tr th:only-of-type {\n",
       "        vertical-align: middle;\n",
       "    }\n",
       "\n",
       "    .dataframe tbody tr th {\n",
       "        vertical-align: top;\n",
       "    }\n",
       "\n",
       "    .dataframe thead th {\n",
       "        text-align: right;\n",
       "    }\n",
       "</style>\n",
       "<table border=\"1\" class=\"dataframe\">\n",
       "  <thead>\n",
       "    <tr style=\"text-align: right;\">\n",
       "      <th></th>\n",
       "      <th>7356</th>\n",
       "    </tr>\n",
       "  </thead>\n",
       "  <tbody>\n",
       "    <tr>\n",
       "      <th>genres_stripped</th>\n",
       "      <td>'bass music', 'scottish electronic', 'scottish...</td>\n",
       "    </tr>\n",
       "  </tbody>\n",
       "</table>\n",
       "</div>"
      ],
      "text/plain": [
       "                                                              7356\n",
       "genres_stripped  'bass music', 'scottish electronic', 'scottish..."
      ]
     },
     "metadata": {},
     "output_type": "display_data"
    },
    {
     "data": {
      "text/html": [
       "<div>\n",
       "<style scoped>\n",
       "    .dataframe tbody tr th:only-of-type {\n",
       "        vertical-align: middle;\n",
       "    }\n",
       "\n",
       "    .dataframe tbody tr th {\n",
       "        vertical-align: top;\n",
       "    }\n",
       "\n",
       "    .dataframe thead th {\n",
       "        text-align: right;\n",
       "    }\n",
       "</style>\n",
       "<table border=\"1\" class=\"dataframe\">\n",
       "  <thead>\n",
       "    <tr style=\"text-align: right;\">\n",
       "      <th></th>\n",
       "      <th>29886</th>\n",
       "    </tr>\n",
       "  </thead>\n",
       "  <tbody>\n",
       "    <tr>\n",
       "      <th>songid</th>\n",
       "      <td>5U9yhINyd8DQzKOAcL3KxZ</td>\n",
       "    </tr>\n",
       "  </tbody>\n",
       "</table>\n",
       "</div>"
      ],
      "text/plain": [
       "                         29886\n",
       "songid  5U9yhINyd8DQzKOAcL3KxZ"
      ]
     },
     "metadata": {},
     "output_type": "display_data"
    },
    {
     "data": {
      "text/html": [
       "<div>\n",
       "<style scoped>\n",
       "    .dataframe tbody tr th:only-of-type {\n",
       "        vertical-align: middle;\n",
       "    }\n",
       "\n",
       "    .dataframe tbody tr th {\n",
       "        vertical-align: top;\n",
       "    }\n",
       "\n",
       "    .dataframe thead th {\n",
       "        text-align: right;\n",
       "    }\n",
       "</style>\n",
       "<table border=\"1\" class=\"dataframe\">\n",
       "  <thead>\n",
       "    <tr style=\"text-align: right;\">\n",
       "      <th></th>\n",
       "      <th>29886</th>\n",
       "    </tr>\n",
       "  </thead>\n",
       "  <tbody>\n",
       "    <tr>\n",
       "      <th>genres_stripped</th>\n",
       "      <td>'bass music', 'scottish electronic', 'scottish...</td>\n",
       "    </tr>\n",
       "  </tbody>\n",
       "</table>\n",
       "</div>"
      ],
      "text/plain": [
       "                                                             29886\n",
       "genres_stripped  'bass music', 'scottish electronic', 'scottish..."
      ]
     },
     "metadata": {},
     "output_type": "display_data"
    },
    {
     "data": {
      "text/html": [
       "<div>\n",
       "<style scoped>\n",
       "    .dataframe tbody tr th:only-of-type {\n",
       "        vertical-align: middle;\n",
       "    }\n",
       "\n",
       "    .dataframe tbody tr th {\n",
       "        vertical-align: top;\n",
       "    }\n",
       "\n",
       "    .dataframe thead th {\n",
       "        text-align: right;\n",
       "    }\n",
       "</style>\n",
       "<table border=\"1\" class=\"dataframe\">\n",
       "  <thead>\n",
       "    <tr style=\"text-align: right;\">\n",
       "      <th></th>\n",
       "      <th>41466</th>\n",
       "    </tr>\n",
       "  </thead>\n",
       "  <tbody>\n",
       "    <tr>\n",
       "      <th>songid</th>\n",
       "      <td>4g0iPH8W6MVIIsDmOma48J</td>\n",
       "    </tr>\n",
       "  </tbody>\n",
       "</table>\n",
       "</div>"
      ],
      "text/plain": [
       "                         41466\n",
       "songid  4g0iPH8W6MVIIsDmOma48J"
      ]
     },
     "metadata": {},
     "output_type": "display_data"
    },
    {
     "data": {
      "text/html": [
       "<div>\n",
       "<style scoped>\n",
       "    .dataframe tbody tr th:only-of-type {\n",
       "        vertical-align: middle;\n",
       "    }\n",
       "\n",
       "    .dataframe tbody tr th {\n",
       "        vertical-align: top;\n",
       "    }\n",
       "\n",
       "    .dataframe thead th {\n",
       "        text-align: right;\n",
       "    }\n",
       "</style>\n",
       "<table border=\"1\" class=\"dataframe\">\n",
       "  <thead>\n",
       "    <tr style=\"text-align: right;\">\n",
       "      <th></th>\n",
       "      <th>41466</th>\n",
       "    </tr>\n",
       "  </thead>\n",
       "  <tbody>\n",
       "    <tr>\n",
       "      <th>genres_stripped</th>\n",
       "      <td>'bass music', 'scottish electronic', 'scottish...</td>\n",
       "    </tr>\n",
       "  </tbody>\n",
       "</table>\n",
       "</div>"
      ],
      "text/plain": [
       "                                                             41466\n",
       "genres_stripped  'bass music', 'scottish electronic', 'scottish..."
      ]
     },
     "metadata": {},
     "output_type": "display_data"
    },
    {
     "data": {
      "text/html": [
       "<div>\n",
       "<style scoped>\n",
       "    .dataframe tbody tr th:only-of-type {\n",
       "        vertical-align: middle;\n",
       "    }\n",
       "\n",
       "    .dataframe tbody tr th {\n",
       "        vertical-align: top;\n",
       "    }\n",
       "\n",
       "    .dataframe thead th {\n",
       "        text-align: right;\n",
       "    }\n",
       "</style>\n",
       "<table border=\"1\" class=\"dataframe\">\n",
       "  <thead>\n",
       "    <tr style=\"text-align: right;\">\n",
       "      <th></th>\n",
       "      <th>46615</th>\n",
       "    </tr>\n",
       "  </thead>\n",
       "  <tbody>\n",
       "    <tr>\n",
       "      <th>songid</th>\n",
       "      <td>2ELdgpcrH5KTT3aZRjOFzq</td>\n",
       "    </tr>\n",
       "  </tbody>\n",
       "</table>\n",
       "</div>"
      ],
      "text/plain": [
       "                         46615\n",
       "songid  2ELdgpcrH5KTT3aZRjOFzq"
      ]
     },
     "metadata": {},
     "output_type": "display_data"
    },
    {
     "data": {
      "text/html": [
       "<div>\n",
       "<style scoped>\n",
       "    .dataframe tbody tr th:only-of-type {\n",
       "        vertical-align: middle;\n",
       "    }\n",
       "\n",
       "    .dataframe tbody tr th {\n",
       "        vertical-align: top;\n",
       "    }\n",
       "\n",
       "    .dataframe thead th {\n",
       "        text-align: right;\n",
       "    }\n",
       "</style>\n",
       "<table border=\"1\" class=\"dataframe\">\n",
       "  <thead>\n",
       "    <tr style=\"text-align: right;\">\n",
       "      <th></th>\n",
       "      <th>46615</th>\n",
       "    </tr>\n",
       "  </thead>\n",
       "  <tbody>\n",
       "    <tr>\n",
       "      <th>genres_stripped</th>\n",
       "      <td>'bass music', 'scottish electronic', 'scottish...</td>\n",
       "    </tr>\n",
       "  </tbody>\n",
       "</table>\n",
       "</div>"
      ],
      "text/plain": [
       "                                                             46615\n",
       "genres_stripped  'bass music', 'scottish electronic', 'scottish..."
      ]
     },
     "metadata": {},
     "output_type": "display_data"
    },
    {
     "data": {
      "text/html": [
       "<div>\n",
       "<style scoped>\n",
       "    .dataframe tbody tr th:only-of-type {\n",
       "        vertical-align: middle;\n",
       "    }\n",
       "\n",
       "    .dataframe tbody tr th {\n",
       "        vertical-align: top;\n",
       "    }\n",
       "\n",
       "    .dataframe thead th {\n",
       "        text-align: right;\n",
       "    }\n",
       "</style>\n",
       "<table border=\"1\" class=\"dataframe\">\n",
       "  <thead>\n",
       "    <tr style=\"text-align: right;\">\n",
       "      <th></th>\n",
       "      <th>155284</th>\n",
       "    </tr>\n",
       "  </thead>\n",
       "  <tbody>\n",
       "    <tr>\n",
       "      <th>songid</th>\n",
       "      <td>0lo18DoW62vTW9uyosl8aA</td>\n",
       "    </tr>\n",
       "  </tbody>\n",
       "</table>\n",
       "</div>"
      ],
      "text/plain": [
       "                        155284\n",
       "songid  0lo18DoW62vTW9uyosl8aA"
      ]
     },
     "metadata": {},
     "output_type": "display_data"
    },
    {
     "data": {
      "text/html": [
       "<div>\n",
       "<style scoped>\n",
       "    .dataframe tbody tr th:only-of-type {\n",
       "        vertical-align: middle;\n",
       "    }\n",
       "\n",
       "    .dataframe tbody tr th {\n",
       "        vertical-align: top;\n",
       "    }\n",
       "\n",
       "    .dataframe thead th {\n",
       "        text-align: right;\n",
       "    }\n",
       "</style>\n",
       "<table border=\"1\" class=\"dataframe\">\n",
       "  <thead>\n",
       "    <tr style=\"text-align: right;\">\n",
       "      <th></th>\n",
       "      <th>155284</th>\n",
       "    </tr>\n",
       "  </thead>\n",
       "  <tbody>\n",
       "    <tr>\n",
       "      <th>genres_stripped</th>\n",
       "      <td>'bass music', 'scottish electronic', 'scottish...</td>\n",
       "    </tr>\n",
       "  </tbody>\n",
       "</table>\n",
       "</div>"
      ],
      "text/plain": [
       "                                                            155284\n",
       "genres_stripped  'bass music', 'scottish electronic', 'scottish..."
      ]
     },
     "metadata": {},
     "output_type": "display_data"
    },
    {
     "data": {
      "text/html": [
       "<div>\n",
       "<style scoped>\n",
       "    .dataframe tbody tr th:only-of-type {\n",
       "        vertical-align: middle;\n",
       "    }\n",
       "\n",
       "    .dataframe tbody tr th {\n",
       "        vertical-align: top;\n",
       "    }\n",
       "\n",
       "    .dataframe thead th {\n",
       "        text-align: right;\n",
       "    }\n",
       "</style>\n",
       "<table border=\"1\" class=\"dataframe\">\n",
       "  <thead>\n",
       "    <tr style=\"text-align: right;\">\n",
       "      <th></th>\n",
       "      <th>183275</th>\n",
       "    </tr>\n",
       "  </thead>\n",
       "  <tbody>\n",
       "    <tr>\n",
       "      <th>songid</th>\n",
       "      <td>3xVIcDuxudSY3Vcvx02pcl</td>\n",
       "    </tr>\n",
       "  </tbody>\n",
       "</table>\n",
       "</div>"
      ],
      "text/plain": [
       "                        183275\n",
       "songid  3xVIcDuxudSY3Vcvx02pcl"
      ]
     },
     "metadata": {},
     "output_type": "display_data"
    },
    {
     "data": {
      "text/html": [
       "<div>\n",
       "<style scoped>\n",
       "    .dataframe tbody tr th:only-of-type {\n",
       "        vertical-align: middle;\n",
       "    }\n",
       "\n",
       "    .dataframe tbody tr th {\n",
       "        vertical-align: top;\n",
       "    }\n",
       "\n",
       "    .dataframe thead th {\n",
       "        text-align: right;\n",
       "    }\n",
       "</style>\n",
       "<table border=\"1\" class=\"dataframe\">\n",
       "  <thead>\n",
       "    <tr style=\"text-align: right;\">\n",
       "      <th></th>\n",
       "      <th>183275</th>\n",
       "    </tr>\n",
       "  </thead>\n",
       "  <tbody>\n",
       "    <tr>\n",
       "      <th>genres_stripped</th>\n",
       "      <td>'bass music', 'scottish electronic', 'scottish...</td>\n",
       "    </tr>\n",
       "  </tbody>\n",
       "</table>\n",
       "</div>"
      ],
      "text/plain": [
       "                                                            183275\n",
       "genres_stripped  'bass music', 'scottish electronic', 'scottish..."
      ]
     },
     "metadata": {},
     "output_type": "display_data"
    },
    {
     "data": {
      "text/html": [
       "<div>\n",
       "<style scoped>\n",
       "    .dataframe tbody tr th:only-of-type {\n",
       "        vertical-align: middle;\n",
       "    }\n",
       "\n",
       "    .dataframe tbody tr th {\n",
       "        vertical-align: top;\n",
       "    }\n",
       "\n",
       "    .dataframe thead th {\n",
       "        text-align: right;\n",
       "    }\n",
       "</style>\n",
       "<table border=\"1\" class=\"dataframe\">\n",
       "  <thead>\n",
       "    <tr style=\"text-align: right;\">\n",
       "      <th></th>\n",
       "      <th>189867</th>\n",
       "    </tr>\n",
       "  </thead>\n",
       "  <tbody>\n",
       "    <tr>\n",
       "      <th>songid</th>\n",
       "      <td>6GyahSBWjd9NOdVmnZdBwL</td>\n",
       "    </tr>\n",
       "  </tbody>\n",
       "</table>\n",
       "</div>"
      ],
      "text/plain": [
       "                        189867\n",
       "songid  6GyahSBWjd9NOdVmnZdBwL"
      ]
     },
     "metadata": {},
     "output_type": "display_data"
    },
    {
     "data": {
      "text/html": [
       "<div>\n",
       "<style scoped>\n",
       "    .dataframe tbody tr th:only-of-type {\n",
       "        vertical-align: middle;\n",
       "    }\n",
       "\n",
       "    .dataframe tbody tr th {\n",
       "        vertical-align: top;\n",
       "    }\n",
       "\n",
       "    .dataframe thead th {\n",
       "        text-align: right;\n",
       "    }\n",
       "</style>\n",
       "<table border=\"1\" class=\"dataframe\">\n",
       "  <thead>\n",
       "    <tr style=\"text-align: right;\">\n",
       "      <th></th>\n",
       "      <th>189867</th>\n",
       "    </tr>\n",
       "  </thead>\n",
       "  <tbody>\n",
       "    <tr>\n",
       "      <th>genres_stripped</th>\n",
       "      <td>'bass music', 'scottish electronic', 'scottish...</td>\n",
       "    </tr>\n",
       "  </tbody>\n",
       "</table>\n",
       "</div>"
      ],
      "text/plain": [
       "                                                            189867\n",
       "genres_stripped  'bass music', 'scottish electronic', 'scottish..."
      ]
     },
     "metadata": {},
     "output_type": "display_data"
    },
    {
     "data": {
      "text/html": [
       "<div>\n",
       "<style scoped>\n",
       "    .dataframe tbody tr th:only-of-type {\n",
       "        vertical-align: middle;\n",
       "    }\n",
       "\n",
       "    .dataframe tbody tr th {\n",
       "        vertical-align: top;\n",
       "    }\n",
       "\n",
       "    .dataframe thead th {\n",
       "        text-align: right;\n",
       "    }\n",
       "</style>\n",
       "<table border=\"1\" class=\"dataframe\">\n",
       "  <thead>\n",
       "    <tr style=\"text-align: right;\">\n",
       "      <th></th>\n",
       "      <th>254445</th>\n",
       "    </tr>\n",
       "  </thead>\n",
       "  <tbody>\n",
       "    <tr>\n",
       "      <th>songid</th>\n",
       "      <td>0b2C1ICFJI0fT9E2iGmr7z</td>\n",
       "    </tr>\n",
       "  </tbody>\n",
       "</table>\n",
       "</div>"
      ],
      "text/plain": [
       "                        254445\n",
       "songid  0b2C1ICFJI0fT9E2iGmr7z"
      ]
     },
     "metadata": {},
     "output_type": "display_data"
    },
    {
     "data": {
      "text/html": [
       "<div>\n",
       "<style scoped>\n",
       "    .dataframe tbody tr th:only-of-type {\n",
       "        vertical-align: middle;\n",
       "    }\n",
       "\n",
       "    .dataframe tbody tr th {\n",
       "        vertical-align: top;\n",
       "    }\n",
       "\n",
       "    .dataframe thead th {\n",
       "        text-align: right;\n",
       "    }\n",
       "</style>\n",
       "<table border=\"1\" class=\"dataframe\">\n",
       "  <thead>\n",
       "    <tr style=\"text-align: right;\">\n",
       "      <th></th>\n",
       "      <th>254445</th>\n",
       "    </tr>\n",
       "  </thead>\n",
       "  <tbody>\n",
       "    <tr>\n",
       "      <th>genres_stripped</th>\n",
       "      <td>'bass music', 'scottish electronic', 'scottish...</td>\n",
       "    </tr>\n",
       "  </tbody>\n",
       "</table>\n",
       "</div>"
      ],
      "text/plain": [
       "                                                            254445\n",
       "genres_stripped  'bass music', 'scottish electronic', 'scottish..."
      ]
     },
     "metadata": {},
     "output_type": "display_data"
    },
    {
     "data": {
      "text/html": [
       "<div>\n",
       "<style scoped>\n",
       "    .dataframe tbody tr th:only-of-type {\n",
       "        vertical-align: middle;\n",
       "    }\n",
       "\n",
       "    .dataframe tbody tr th {\n",
       "        vertical-align: top;\n",
       "    }\n",
       "\n",
       "    .dataframe thead th {\n",
       "        text-align: right;\n",
       "    }\n",
       "</style>\n",
       "<table border=\"1\" class=\"dataframe\">\n",
       "  <thead>\n",
       "    <tr style=\"text-align: right;\">\n",
       "      <th></th>\n",
       "      <th>280660</th>\n",
       "    </tr>\n",
       "  </thead>\n",
       "  <tbody>\n",
       "    <tr>\n",
       "      <th>songid</th>\n",
       "      <td>6SWvFS3J48z1eED88Htg2x</td>\n",
       "    </tr>\n",
       "  </tbody>\n",
       "</table>\n",
       "</div>"
      ],
      "text/plain": [
       "                        280660\n",
       "songid  6SWvFS3J48z1eED88Htg2x"
      ]
     },
     "metadata": {},
     "output_type": "display_data"
    },
    {
     "data": {
      "text/html": [
       "<div>\n",
       "<style scoped>\n",
       "    .dataframe tbody tr th:only-of-type {\n",
       "        vertical-align: middle;\n",
       "    }\n",
       "\n",
       "    .dataframe tbody tr th {\n",
       "        vertical-align: top;\n",
       "    }\n",
       "\n",
       "    .dataframe thead th {\n",
       "        text-align: right;\n",
       "    }\n",
       "</style>\n",
       "<table border=\"1\" class=\"dataframe\">\n",
       "  <thead>\n",
       "    <tr style=\"text-align: right;\">\n",
       "      <th></th>\n",
       "      <th>280660</th>\n",
       "    </tr>\n",
       "  </thead>\n",
       "  <tbody>\n",
       "    <tr>\n",
       "      <th>genres_stripped</th>\n",
       "      <td>'bass music', 'scottish electronic', 'scottish...</td>\n",
       "    </tr>\n",
       "  </tbody>\n",
       "</table>\n",
       "</div>"
      ],
      "text/plain": [
       "                                                            280660\n",
       "genres_stripped  'bass music', 'scottish electronic', 'scottish..."
      ]
     },
     "metadata": {},
     "output_type": "display_data"
    },
    {
     "data": {
      "text/html": [
       "<div>\n",
       "<style scoped>\n",
       "    .dataframe tbody tr th:only-of-type {\n",
       "        vertical-align: middle;\n",
       "    }\n",
       "\n",
       "    .dataframe tbody tr th {\n",
       "        vertical-align: top;\n",
       "    }\n",
       "\n",
       "    .dataframe thead th {\n",
       "        text-align: right;\n",
       "    }\n",
       "</style>\n",
       "<table border=\"1\" class=\"dataframe\">\n",
       "  <thead>\n",
       "    <tr style=\"text-align: right;\">\n",
       "      <th></th>\n",
       "      <th>324065</th>\n",
       "    </tr>\n",
       "  </thead>\n",
       "  <tbody>\n",
       "    <tr>\n",
       "      <th>songid</th>\n",
       "      <td>3niLZux4YrPkROBiQ5n10L</td>\n",
       "    </tr>\n",
       "  </tbody>\n",
       "</table>\n",
       "</div>"
      ],
      "text/plain": [
       "                        324065\n",
       "songid  3niLZux4YrPkROBiQ5n10L"
      ]
     },
     "metadata": {},
     "output_type": "display_data"
    },
    {
     "data": {
      "text/html": [
       "<div>\n",
       "<style scoped>\n",
       "    .dataframe tbody tr th:only-of-type {\n",
       "        vertical-align: middle;\n",
       "    }\n",
       "\n",
       "    .dataframe tbody tr th {\n",
       "        vertical-align: top;\n",
       "    }\n",
       "\n",
       "    .dataframe thead th {\n",
       "        text-align: right;\n",
       "    }\n",
       "</style>\n",
       "<table border=\"1\" class=\"dataframe\">\n",
       "  <thead>\n",
       "    <tr style=\"text-align: right;\">\n",
       "      <th></th>\n",
       "      <th>324065</th>\n",
       "    </tr>\n",
       "  </thead>\n",
       "  <tbody>\n",
       "    <tr>\n",
       "      <th>genres_stripped</th>\n",
       "      <td>'bass music', 'scottish electronic', 'scottish...</td>\n",
       "    </tr>\n",
       "  </tbody>\n",
       "</table>\n",
       "</div>"
      ],
      "text/plain": [
       "                                                            324065\n",
       "genres_stripped  'bass music', 'scottish electronic', 'scottish..."
      ]
     },
     "metadata": {},
     "output_type": "display_data"
    },
    {
     "data": {
      "text/html": [
       "<div>\n",
       "<style scoped>\n",
       "    .dataframe tbody tr th:only-of-type {\n",
       "        vertical-align: middle;\n",
       "    }\n",
       "\n",
       "    .dataframe tbody tr th {\n",
       "        vertical-align: top;\n",
       "    }\n",
       "\n",
       "    .dataframe thead th {\n",
       "        text-align: right;\n",
       "    }\n",
       "</style>\n",
       "<table border=\"1\" class=\"dataframe\">\n",
       "  <thead>\n",
       "    <tr style=\"text-align: right;\">\n",
       "      <th></th>\n",
       "      <th>353040</th>\n",
       "    </tr>\n",
       "  </thead>\n",
       "  <tbody>\n",
       "    <tr>\n",
       "      <th>songid</th>\n",
       "      <td>5HfSwVjTloGEAluKw3T3nh</td>\n",
       "    </tr>\n",
       "  </tbody>\n",
       "</table>\n",
       "</div>"
      ],
      "text/plain": [
       "                        353040\n",
       "songid  5HfSwVjTloGEAluKw3T3nh"
      ]
     },
     "metadata": {},
     "output_type": "display_data"
    },
    {
     "data": {
      "text/html": [
       "<div>\n",
       "<style scoped>\n",
       "    .dataframe tbody tr th:only-of-type {\n",
       "        vertical-align: middle;\n",
       "    }\n",
       "\n",
       "    .dataframe tbody tr th {\n",
       "        vertical-align: top;\n",
       "    }\n",
       "\n",
       "    .dataframe thead th {\n",
       "        text-align: right;\n",
       "    }\n",
       "</style>\n",
       "<table border=\"1\" class=\"dataframe\">\n",
       "  <thead>\n",
       "    <tr style=\"text-align: right;\">\n",
       "      <th></th>\n",
       "      <th>353040</th>\n",
       "    </tr>\n",
       "  </thead>\n",
       "  <tbody>\n",
       "    <tr>\n",
       "      <th>genres_stripped</th>\n",
       "      <td>'bass music', 'scottish electronic', 'scottish...</td>\n",
       "    </tr>\n",
       "  </tbody>\n",
       "</table>\n",
       "</div>"
      ],
      "text/plain": [
       "                                                            353040\n",
       "genres_stripped  'bass music', 'scottish electronic', 'scottish..."
      ]
     },
     "metadata": {},
     "output_type": "display_data"
    },
    {
     "data": {
      "text/html": [
       "<div>\n",
       "<style scoped>\n",
       "    .dataframe tbody tr th:only-of-type {\n",
       "        vertical-align: middle;\n",
       "    }\n",
       "\n",
       "    .dataframe tbody tr th {\n",
       "        vertical-align: top;\n",
       "    }\n",
       "\n",
       "    .dataframe thead th {\n",
       "        text-align: right;\n",
       "    }\n",
       "</style>\n",
       "<table border=\"1\" class=\"dataframe\">\n",
       "  <thead>\n",
       "    <tr style=\"text-align: right;\">\n",
       "      <th></th>\n",
       "      <th>386550</th>\n",
       "    </tr>\n",
       "  </thead>\n",
       "  <tbody>\n",
       "    <tr>\n",
       "      <th>songid</th>\n",
       "      <td>6iHHO8hU7viCgZyU3LYi4i</td>\n",
       "    </tr>\n",
       "  </tbody>\n",
       "</table>\n",
       "</div>"
      ],
      "text/plain": [
       "                        386550\n",
       "songid  6iHHO8hU7viCgZyU3LYi4i"
      ]
     },
     "metadata": {},
     "output_type": "display_data"
    },
    {
     "data": {
      "text/html": [
       "<div>\n",
       "<style scoped>\n",
       "    .dataframe tbody tr th:only-of-type {\n",
       "        vertical-align: middle;\n",
       "    }\n",
       "\n",
       "    .dataframe tbody tr th {\n",
       "        vertical-align: top;\n",
       "    }\n",
       "\n",
       "    .dataframe thead th {\n",
       "        text-align: right;\n",
       "    }\n",
       "</style>\n",
       "<table border=\"1\" class=\"dataframe\">\n",
       "  <thead>\n",
       "    <tr style=\"text-align: right;\">\n",
       "      <th></th>\n",
       "      <th>386550</th>\n",
       "    </tr>\n",
       "  </thead>\n",
       "  <tbody>\n",
       "    <tr>\n",
       "      <th>genres_stripped</th>\n",
       "      <td>'bass music', 'scottish electronic', 'scottish...</td>\n",
       "    </tr>\n",
       "  </tbody>\n",
       "</table>\n",
       "</div>"
      ],
      "text/plain": [
       "                                                            386550\n",
       "genres_stripped  'bass music', 'scottish electronic', 'scottish..."
      ]
     },
     "metadata": {},
     "output_type": "display_data"
    },
    {
     "data": {
      "text/html": [
       "<div>\n",
       "<style scoped>\n",
       "    .dataframe tbody tr th:only-of-type {\n",
       "        vertical-align: middle;\n",
       "    }\n",
       "\n",
       "    .dataframe tbody tr th {\n",
       "        vertical-align: top;\n",
       "    }\n",
       "\n",
       "    .dataframe thead th {\n",
       "        text-align: right;\n",
       "    }\n",
       "</style>\n",
       "<table border=\"1\" class=\"dataframe\">\n",
       "  <thead>\n",
       "    <tr style=\"text-align: right;\">\n",
       "      <th></th>\n",
       "      <th>387436</th>\n",
       "    </tr>\n",
       "  </thead>\n",
       "  <tbody>\n",
       "    <tr>\n",
       "      <th>songid</th>\n",
       "      <td>1ymVpc3PgmD4Fi5Udid5bS</td>\n",
       "    </tr>\n",
       "  </tbody>\n",
       "</table>\n",
       "</div>"
      ],
      "text/plain": [
       "                        387436\n",
       "songid  1ymVpc3PgmD4Fi5Udid5bS"
      ]
     },
     "metadata": {},
     "output_type": "display_data"
    },
    {
     "data": {
      "text/html": [
       "<div>\n",
       "<style scoped>\n",
       "    .dataframe tbody tr th:only-of-type {\n",
       "        vertical-align: middle;\n",
       "    }\n",
       "\n",
       "    .dataframe tbody tr th {\n",
       "        vertical-align: top;\n",
       "    }\n",
       "\n",
       "    .dataframe thead th {\n",
       "        text-align: right;\n",
       "    }\n",
       "</style>\n",
       "<table border=\"1\" class=\"dataframe\">\n",
       "  <thead>\n",
       "    <tr style=\"text-align: right;\">\n",
       "      <th></th>\n",
       "      <th>387436</th>\n",
       "    </tr>\n",
       "  </thead>\n",
       "  <tbody>\n",
       "    <tr>\n",
       "      <th>genres_stripped</th>\n",
       "      <td>'bass music', 'scottish electronic', 'scottish...</td>\n",
       "    </tr>\n",
       "  </tbody>\n",
       "</table>\n",
       "</div>"
      ],
      "text/plain": [
       "                                                            387436\n",
       "genres_stripped  'bass music', 'scottish electronic', 'scottish..."
      ]
     },
     "metadata": {},
     "output_type": "display_data"
    },
    {
     "data": {
      "text/html": [
       "<div>\n",
       "<style scoped>\n",
       "    .dataframe tbody tr th:only-of-type {\n",
       "        vertical-align: middle;\n",
       "    }\n",
       "\n",
       "    .dataframe tbody tr th {\n",
       "        vertical-align: top;\n",
       "    }\n",
       "\n",
       "    .dataframe thead th {\n",
       "        text-align: right;\n",
       "    }\n",
       "</style>\n",
       "<table border=\"1\" class=\"dataframe\">\n",
       "  <thead>\n",
       "    <tr style=\"text-align: right;\">\n",
       "      <th></th>\n",
       "      <th>399202</th>\n",
       "    </tr>\n",
       "  </thead>\n",
       "  <tbody>\n",
       "    <tr>\n",
       "      <th>songid</th>\n",
       "      <td>4Q2ghKdoEfrpleKAG03a5R</td>\n",
       "    </tr>\n",
       "  </tbody>\n",
       "</table>\n",
       "</div>"
      ],
      "text/plain": [
       "                        399202\n",
       "songid  4Q2ghKdoEfrpleKAG03a5R"
      ]
     },
     "metadata": {},
     "output_type": "display_data"
    },
    {
     "data": {
      "text/html": [
       "<div>\n",
       "<style scoped>\n",
       "    .dataframe tbody tr th:only-of-type {\n",
       "        vertical-align: middle;\n",
       "    }\n",
       "\n",
       "    .dataframe tbody tr th {\n",
       "        vertical-align: top;\n",
       "    }\n",
       "\n",
       "    .dataframe thead th {\n",
       "        text-align: right;\n",
       "    }\n",
       "</style>\n",
       "<table border=\"1\" class=\"dataframe\">\n",
       "  <thead>\n",
       "    <tr style=\"text-align: right;\">\n",
       "      <th></th>\n",
       "      <th>399202</th>\n",
       "    </tr>\n",
       "  </thead>\n",
       "  <tbody>\n",
       "    <tr>\n",
       "      <th>genres_stripped</th>\n",
       "      <td>'bass music', 'scottish electronic', 'scottish...</td>\n",
       "    </tr>\n",
       "  </tbody>\n",
       "</table>\n",
       "</div>"
      ],
      "text/plain": [
       "                                                            399202\n",
       "genres_stripped  'bass music', 'scottish electronic', 'scottish..."
      ]
     },
     "metadata": {},
     "output_type": "display_data"
    },
    {
     "data": {
      "text/html": [
       "<div>\n",
       "<style scoped>\n",
       "    .dataframe tbody tr th:only-of-type {\n",
       "        vertical-align: middle;\n",
       "    }\n",
       "\n",
       "    .dataframe tbody tr th {\n",
       "        vertical-align: top;\n",
       "    }\n",
       "\n",
       "    .dataframe thead th {\n",
       "        text-align: right;\n",
       "    }\n",
       "</style>\n",
       "<table border=\"1\" class=\"dataframe\">\n",
       "  <thead>\n",
       "    <tr style=\"text-align: right;\">\n",
       "      <th></th>\n",
       "      <th>432767</th>\n",
       "    </tr>\n",
       "  </thead>\n",
       "  <tbody>\n",
       "    <tr>\n",
       "      <th>songid</th>\n",
       "      <td>2VYLZO3LakAgSWK9DTLWE3</td>\n",
       "    </tr>\n",
       "  </tbody>\n",
       "</table>\n",
       "</div>"
      ],
      "text/plain": [
       "                        432767\n",
       "songid  2VYLZO3LakAgSWK9DTLWE3"
      ]
     },
     "metadata": {},
     "output_type": "display_data"
    },
    {
     "data": {
      "text/html": [
       "<div>\n",
       "<style scoped>\n",
       "    .dataframe tbody tr th:only-of-type {\n",
       "        vertical-align: middle;\n",
       "    }\n",
       "\n",
       "    .dataframe tbody tr th {\n",
       "        vertical-align: top;\n",
       "    }\n",
       "\n",
       "    .dataframe thead th {\n",
       "        text-align: right;\n",
       "    }\n",
       "</style>\n",
       "<table border=\"1\" class=\"dataframe\">\n",
       "  <thead>\n",
       "    <tr style=\"text-align: right;\">\n",
       "      <th></th>\n",
       "      <th>432767</th>\n",
       "    </tr>\n",
       "  </thead>\n",
       "  <tbody>\n",
       "    <tr>\n",
       "      <th>genres_stripped</th>\n",
       "      <td>'bass music', 'scottish electronic', 'scottish...</td>\n",
       "    </tr>\n",
       "  </tbody>\n",
       "</table>\n",
       "</div>"
      ],
      "text/plain": [
       "                                                            432767\n",
       "genres_stripped  'bass music', 'scottish electronic', 'scottish..."
      ]
     },
     "metadata": {},
     "output_type": "display_data"
    },
    {
     "data": {
      "text/html": [
       "<div>\n",
       "<style scoped>\n",
       "    .dataframe tbody tr th:only-of-type {\n",
       "        vertical-align: middle;\n",
       "    }\n",
       "\n",
       "    .dataframe tbody tr th {\n",
       "        vertical-align: top;\n",
       "    }\n",
       "\n",
       "    .dataframe thead th {\n",
       "        text-align: right;\n",
       "    }\n",
       "</style>\n",
       "<table border=\"1\" class=\"dataframe\">\n",
       "  <thead>\n",
       "    <tr style=\"text-align: right;\">\n",
       "      <th></th>\n",
       "      <th>439313</th>\n",
       "    </tr>\n",
       "  </thead>\n",
       "  <tbody>\n",
       "    <tr>\n",
       "      <th>songid</th>\n",
       "      <td>5jHWYX0vFoCTo9Vfi2oL5Y</td>\n",
       "    </tr>\n",
       "  </tbody>\n",
       "</table>\n",
       "</div>"
      ],
      "text/plain": [
       "                        439313\n",
       "songid  5jHWYX0vFoCTo9Vfi2oL5Y"
      ]
     },
     "metadata": {},
     "output_type": "display_data"
    },
    {
     "data": {
      "text/html": [
       "<div>\n",
       "<style scoped>\n",
       "    .dataframe tbody tr th:only-of-type {\n",
       "        vertical-align: middle;\n",
       "    }\n",
       "\n",
       "    .dataframe tbody tr th {\n",
       "        vertical-align: top;\n",
       "    }\n",
       "\n",
       "    .dataframe thead th {\n",
       "        text-align: right;\n",
       "    }\n",
       "</style>\n",
       "<table border=\"1\" class=\"dataframe\">\n",
       "  <thead>\n",
       "    <tr style=\"text-align: right;\">\n",
       "      <th></th>\n",
       "      <th>439313</th>\n",
       "    </tr>\n",
       "  </thead>\n",
       "  <tbody>\n",
       "    <tr>\n",
       "      <th>genres_stripped</th>\n",
       "      <td>'bass music', 'scottish electronic', 'scottish...</td>\n",
       "    </tr>\n",
       "  </tbody>\n",
       "</table>\n",
       "</div>"
      ],
      "text/plain": [
       "                                                            439313\n",
       "genres_stripped  'bass music', 'scottish electronic', 'scottish..."
      ]
     },
     "metadata": {},
     "output_type": "display_data"
    }
   ],
   "source": [
    "for result in np.where(dbscan.labels_ == 1)[0]:\n",
    "    display(pd.DataFrame(df.loc[result][10:11]),pd.DataFrame(df.loc[result][17:18]))"
   ]
  },
  {
   "cell_type": "markdown",
   "metadata": {},
   "source": [
    "# Genre Replace with 200 > Value_Counts"
   ]
  },
  {
   "cell_type": "code",
   "execution_count": 109,
   "metadata": {},
   "outputs": [],
   "source": [
    "unique_genres = df_genres[\"genres\"].value_counts().index"
   ]
  },
  {
   "cell_type": "code",
   "execution_count": 111,
   "metadata": {},
   "outputs": [
    {
     "data": {
      "text/plain": [
       "Index([''rock'', ''mellow gold'', ''dance pop'', ''country rock'',\n",
       "       ''soft rock'', ''alternative rock'', ''classic rock'',\n",
       "       ''adult standards'', ''new wave pop'', ''folk rock'',\n",
       "       ...\n",
       "       ''egyptian hip hop'', ''thai instrumental'',\n",
       "       ''chinese classical performance'', ''police band'',\n",
       "       ''cornetas y tambores'', ''fremantle indie'', ''murga'',\n",
       "       ''deep eurodance'', ''tunisian pop'', ''african electronic''],\n",
       "      dtype='object', length=3488)"
      ]
     },
     "execution_count": 111,
     "metadata": {},
     "output_type": "execute_result"
    }
   ],
   "source": [
    "unique_genres"
   ]
  },
  {
   "cell_type": "code",
   "execution_count": 236,
   "metadata": {},
   "outputs": [
    {
     "data": {
      "text/plain": [
       "'rock'                  22625\n",
       "'mellow gold'           12409\n",
       "'dance pop'             12358\n",
       "'country rock'          12306\n",
       "'soft rock'             12065\n",
       "                        ...  \n",
       "'fremantle indie'           1\n",
       "'murga'                     1\n",
       "'deep eurodance'            1\n",
       "'tunisian pop'              1\n",
       "'african electronic'        1\n",
       "Name: genres, Length: 3488, dtype: int64"
      ]
     },
     "execution_count": 236,
     "metadata": {},
     "output_type": "execute_result"
    }
   ],
   "source": [
    "df_genres[\"genres\"].value_counts()"
   ]
  },
  {
   "cell_type": "code",
   "execution_count": 10,
   "metadata": {},
   "outputs": [
    {
     "name": "stdout",
     "output_type": "stream",
     "text": [
      "list_appended!\n",
      "[(\"'rock'\", 22625)]\n",
      "'rock'\n"
     ]
    }
   ],
   "source": [
    "high_occuring = []\n",
    "for i in df_genres[\"genres\"].value_counts().iteritems():\n",
    "    if high_occuring == []:\n",
    "        high_occuring.append(i)\n",
    "        print(\"list_appended!\")\n",
    "        print(high_occuring)\n",
    "        continue\n",
    "    if i[1] > high_occuring[0][1]:\n",
    "        vals = [(val)]\n",
    "        print(vals)\n",
    "    else:\n",
    "        continue\n",
    "\n",
    "print(high_occuring[0][0])"
   ]
  },
  {
   "cell_type": "code",
   "execution_count": 311,
   "metadata": {},
   "outputs": [
    {
     "data": {
      "text/plain": [
       "[12409]"
      ]
     },
     "execution_count": 311,
     "metadata": {},
     "output_type": "execute_result"
    }
   ],
   "source": [
    "vals"
   ]
  },
  {
   "cell_type": "code",
   "execution_count": 291,
   "metadata": {},
   "outputs": [
    {
     "data": {
      "text/plain": [
       "'rock'                22625\n",
       "'mellow gold'         12409\n",
       "'dance pop'           12358\n",
       "'country rock'        12306\n",
       "'soft rock'           12065\n",
       "'alternative rock'    12038\n",
       "'classic rock'        12029\n",
       "'adult standards'     11381\n",
       "'new wave pop'        11320\n",
       "'folk rock'           11216\n",
       "Name: genres, dtype: int64"
      ]
     },
     "execution_count": 291,
     "metadata": {},
     "output_type": "execute_result"
    }
   ],
   "source": [
    "df_genres[\"genres\"].value_counts()[0:10]"
   ]
  },
  {
   "cell_type": "code",
   "execution_count": 286,
   "metadata": {},
   "outputs": [
    {
     "data": {
      "text/plain": [
       "22625"
      ]
     },
     "execution_count": 286,
     "metadata": {},
     "output_type": "execute_result"
    }
   ],
   "source": [
    "vals[0][1]"
   ]
  },
  {
   "cell_type": "code",
   "execution_count": 136,
   "metadata": {},
   "outputs": [
    {
     "ename": "IndexingError",
     "evalue": "Unalignable boolean Series provided as indexer (index of the boolean Series and of the indexed object do not match).",
     "output_type": "error",
     "traceback": [
      "\u001b[0;31m---------------------------------------------------------------------------\u001b[0m",
      "\u001b[0;31mIndexingError\u001b[0m                             Traceback (most recent call last)",
      "\u001b[0;32m<ipython-input-136-f4beb10e7bb2>\u001b[0m in \u001b[0;36m<module>\u001b[0;34m\u001b[0m\n\u001b[0;32m----> 1\u001b[0;31m \u001b[0mdf_genres\u001b[0m\u001b[0;34m[\u001b[0m\u001b[0;34m\"genres\"\u001b[0m\u001b[0;34m]\u001b[0m\u001b[0;34m[\u001b[0m\u001b[0mdf_genres\u001b[0m\u001b[0;34m[\u001b[0m\u001b[0;34m\"genres\"\u001b[0m\u001b[0;34m]\u001b[0m\u001b[0;34m.\u001b[0m\u001b[0mvalue_counts\u001b[0m\u001b[0;34m(\u001b[0m\u001b[0;34m)\u001b[0m \u001b[0;34m>\u001b[0m \u001b[0;36m200\u001b[0m\u001b[0;34m]\u001b[0m\u001b[0;34m\u001b[0m\u001b[0;34m\u001b[0m\u001b[0m\n\u001b[0m",
      "\u001b[0;32m~/.local/share/virtualenvs/model_notebooks-inW34qmC/lib/python3.7/site-packages/pandas/core/series.py\u001b[0m in \u001b[0;36m__getitem__\u001b[0;34m(self, key)\u001b[0m\n\u001b[1;32m   1109\u001b[0m         \u001b[0;32mif\u001b[0m \u001b[0misinstance\u001b[0m\u001b[0;34m(\u001b[0m\u001b[0mkey\u001b[0m\u001b[0;34m,\u001b[0m \u001b[0mSeries\u001b[0m\u001b[0;34m)\u001b[0m\u001b[0;34m:\u001b[0m\u001b[0;34m\u001b[0m\u001b[0;34m\u001b[0m\u001b[0m\n\u001b[1;32m   1110\u001b[0m             \u001b[0mkey\u001b[0m \u001b[0;34m=\u001b[0m \u001b[0mkey\u001b[0m\u001b[0;34m.\u001b[0m\u001b[0m_values\u001b[0m\u001b[0;34m\u001b[0m\u001b[0;34m\u001b[0m\u001b[0m\n\u001b[0;32m-> 1111\u001b[0;31m         \u001b[0mself\u001b[0m\u001b[0;34m.\u001b[0m\u001b[0m_data\u001b[0m \u001b[0;34m=\u001b[0m \u001b[0mself\u001b[0m\u001b[0;34m.\u001b[0m\u001b[0m_data\u001b[0m\u001b[0;34m.\u001b[0m\u001b[0msetitem\u001b[0m\u001b[0;34m(\u001b[0m\u001b[0mindexer\u001b[0m\u001b[0;34m=\u001b[0m\u001b[0mkey\u001b[0m\u001b[0;34m,\u001b[0m \u001b[0mvalue\u001b[0m\u001b[0;34m=\u001b[0m\u001b[0mvalue\u001b[0m\u001b[0;34m)\u001b[0m\u001b[0;34m\u001b[0m\u001b[0;34m\u001b[0m\u001b[0m\n\u001b[0m\u001b[1;32m   1112\u001b[0m         \u001b[0mself\u001b[0m\u001b[0;34m.\u001b[0m\u001b[0m_maybe_update_cacher\u001b[0m\u001b[0;34m(\u001b[0m\u001b[0;34m)\u001b[0m\u001b[0;34m\u001b[0m\u001b[0;34m\u001b[0m\u001b[0m\n\u001b[1;32m   1113\u001b[0m \u001b[0;34m\u001b[0m\u001b[0m\n",
      "\u001b[0;32m~/.local/share/virtualenvs/model_notebooks-inW34qmC/lib/python3.7/site-packages/pandas/core/indexing.py\u001b[0m in \u001b[0;36mcheck_bool_indexer\u001b[0;34m(index, key)\u001b[0m\n\u001b[1;32m   2409\u001b[0m         \u001b[0;32mor\u001b[0m \u001b[0mobj\u001b[0m\u001b[0;34m.\u001b[0m\u001b[0mstop\u001b[0m \u001b[0;32mis\u001b[0m \u001b[0;32mnot\u001b[0m \u001b[0;32mNone\u001b[0m\u001b[0;34m\u001b[0m\u001b[0;34m\u001b[0m\u001b[0m\n\u001b[1;32m   2410\u001b[0m         \u001b[0;32mor\u001b[0m \u001b[0;34m(\u001b[0m\u001b[0mobj\u001b[0m\u001b[0;34m.\u001b[0m\u001b[0mstep\u001b[0m \u001b[0;32mis\u001b[0m \u001b[0;32mnot\u001b[0m \u001b[0;32mNone\u001b[0m \u001b[0;32mand\u001b[0m \u001b[0mobj\u001b[0m\u001b[0;34m.\u001b[0m\u001b[0mstep\u001b[0m \u001b[0;34m!=\u001b[0m \u001b[0;36m1\u001b[0m\u001b[0;34m)\u001b[0m\u001b[0;34m\u001b[0m\u001b[0;34m\u001b[0m\u001b[0m\n\u001b[0;32m-> 2411\u001b[0;31m     )\n\u001b[0m\u001b[1;32m   2412\u001b[0m \u001b[0;34m\u001b[0m\u001b[0m\n\u001b[1;32m   2413\u001b[0m \u001b[0;34m\u001b[0m\u001b[0m\n",
      "\u001b[0;31mIndexingError\u001b[0m: Unalignable boolean Series provided as indexer (index of the boolean Series and of the indexed object do not match)."
     ]
    }
   ],
   "source": [
    "df_genres[\"genres\"][df_genres[\"genres\"].value_counts() > 200]"
   ]
  },
  {
   "cell_type": "code",
   "execution_count": 334,
   "metadata": {},
   "outputs": [],
   "source": [
    "high_occuring = df_genres[\"genres\"].value_counts()[df_genres[\"genres\"].value_counts() > 100]"
   ]
  },
  {
   "cell_type": "code",
   "execution_count": 335,
   "metadata": {},
   "outputs": [],
   "source": [
    "high_occuring_list = high_occuring.index"
   ]
  },
  {
   "cell_type": "code",
   "execution_count": 13,
   "metadata": {},
   "outputs": [],
   "source": [
    "def convert_to_list(string):\n",
    "    return list(string.split(\",\"))"
   ]
  },
  {
   "cell_type": "code",
   "execution_count": 174,
   "metadata": {},
   "outputs": [
    {
     "data": {
      "text/plain": [
       "\"'finnish indie', 'suomi rock'\""
      ]
     },
     "execution_count": 174,
     "metadata": {},
     "output_type": "execute_result"
    }
   ],
   "source": [
    "df[\"genres_stripped\"][0]"
   ]
  },
  {
   "cell_type": "code",
   "execution_count": 175,
   "metadata": {},
   "outputs": [
    {
     "data": {
      "text/plain": [
       "[\"'finnish indie'\", \" 'suomi rock'\"]"
      ]
     },
     "execution_count": 175,
     "metadata": {},
     "output_type": "execute_result"
    }
   ],
   "source": [
    "df[\"genres_stripped\"][0].split(\",\")"
   ]
  },
  {
   "cell_type": "code",
   "execution_count": 209,
   "metadata": {},
   "outputs": [],
   "source": [
    "if \"suomi rock\" in df[\"pop_genres\"][0]:\n",
    "    print(\"yes\")"
   ]
  },
  {
   "cell_type": "code",
   "execution_count": 212,
   "metadata": {},
   "outputs": [
    {
     "data": {
      "text/plain": [
       "0                          ['finnish indie',  'suomi rock']\n",
       "1         ['bass music',  'scottish electronic',  'scott...\n",
       "2                    ['hip hop',  'new jack swing',  'rap']\n",
       "3                      ['bolero',  'mariachi',  'ranchera']\n",
       "4                                    ['swedish indie rock']\n",
       "                                ...                        \n",
       "574013    ['art pop',  'brooklyn indie',  'chamber pop',...\n",
       "574014                                      ['lo-fi beats']\n",
       "574015    ['contemporary country',  'country pop',  'hea...\n",
       "574016    ['garage rock',  'indie pop',  'indie rock',  ...\n",
       "574017    ['ccm',  'christian music',  'world worship', ...\n",
       "Name: pop_genres, Length: 574018, dtype: object"
      ]
     },
     "execution_count": 212,
     "metadata": {},
     "output_type": "execute_result"
    }
   ],
   "source": [
    "df[\"pop_genres\"]"
   ]
  },
  {
   "cell_type": "code",
   "execution_count": 195,
   "metadata": {},
   "outputs": [
    {
     "data": {
      "text/plain": [
       "\"'finnish indie', 'suomi rock'\""
      ]
     },
     "execution_count": 195,
     "metadata": {},
     "output_type": "execute_result"
    }
   ],
   "source": [
    "df[\"genres_stripped\"][0]"
   ]
  },
  {
   "cell_type": "code",
   "execution_count": 14,
   "metadata": {},
   "outputs": [],
   "source": [
    "df[\"pop_genres\"] = df[\"genres_stripped\"].apply(convert_to_list)"
   ]
  },
  {
   "cell_type": "code",
   "execution_count": 426,
   "metadata": {},
   "outputs": [
    {
     "data": {
      "text/plain": [
       "'suomi rock'    1712\n",
       "Name: genres, dtype: int64"
      ]
     },
     "execution_count": 426,
     "metadata": {},
     "output_type": "execute_result"
    }
   ],
   "source": [
    "value = 'suomi rock'\n",
    "value = \"'\" + value + \"'\"\n",
    "df_genres[\"genres\"].value_counts()[df_genres[\"genres\"].value_counts().index == value ]"
   ]
  },
  {
   "cell_type": "code",
   "execution_count": 399,
   "metadata": {},
   "outputs": [
    {
     "data": {
      "text/plain": [
       "array([ True, False, False, ..., False, False, False])"
      ]
     },
     "execution_count": 399,
     "metadata": {},
     "output_type": "execute_result"
    }
   ],
   "source": [
    "df_genres[\"genres\"].value_counts().index == \"'rock'\""
   ]
  },
  {
   "cell_type": "code",
   "execution_count": 19,
   "metadata": {},
   "outputs": [
    {
     "name": "stdout",
     "output_type": "stream",
     "text": [
      "(\"'finnish indie'\", 317)\n",
      "added 1st time\n",
      "(\"'suomi rock'\", 1712)\n",
      "replaced!\n",
      "'suomi rock'\n",
      "(\"'bass music'\", 888)\n",
      "added 1st time\n",
      "(\"'scottish electronic'\", 140)\n",
      "(\"'scottish hip hop'\", 30)\n",
      "(\"'uk experimental electronic'\", 435)\n",
      "(\"'wonky'\", 1093)\n",
      "replaced!\n",
      "'wonky'\n",
      "(\"'hip hop'\", 10665)\n",
      "added 1st time\n",
      "(\"'new jack swing'\", 3460)\n",
      "(\"'rap'\", 10578)\n",
      "'hip hop'\n",
      "(\"'bolero'\", 2683)\n",
      "added 1st time\n",
      "(\"'mariachi'\", 1685)\n",
      "(\"'ranchera'\", 5307)\n",
      "replaced!\n",
      "'ranchera'\n",
      "(\"'swedish indie rock'\", 1053)\n",
      "added 1st time\n",
      "'swedish indie rock'\n"
     ]
    }
   ],
   "source": [
    "for item in df[\"pop_genres\"][0:5]:\n",
    "    high_occuring = []\n",
    "    for genre in item:\n",
    "        genre = genre.strip(\" \")\n",
    "        for i in df_genres[\"genres\"].value_counts()[df_genres[\"genres\"].value_counts().index == genre].iteritems():\n",
    "            print(i)\n",
    "            if high_occuring == []:\n",
    "                high_occuring = [(i)]\n",
    "                print(\"added 1st time\")\n",
    "                continue\n",
    "            if i[1] > high_occuring[0][1]:\n",
    "                print(\"replaced!\")\n",
    "                high_occuring = [(i)] \n",
    "            else:\n",
    "                continue\n",
    "\n",
    "    print(high_occuring[0][0])\n",
    "    "
   ]
  },
  {
   "cell_type": "code",
   "execution_count": 23,
   "metadata": {},
   "outputs": [],
   "source": [
    "def keep_highest_occuring(list):\n",
    "    high_occuring = []\n",
    "    for genre in list:\n",
    "        genre = genre.strip(\" \")   \n",
    "        for i in df_genres[\"genres\"].value_counts()[df_genres[\"genres\"].value_counts().index == genre].iteritems():\n",
    "            if high_occuring == []:\n",
    "                high_occuring = [(i)]\n",
    "                continue\n",
    "            if i[1] > high_occuring[0][1]:\n",
    "                high_occuring = [(i)] \n",
    "            else:\n",
    "                continue\n",
    "    print (high_occuring[0][0])    \n",
    "    return high_occuring[0][0]"
   ]
  },
  {
   "cell_type": "code",
   "execution_count": 24,
   "metadata": {},
   "outputs": [
    {
     "name": "stdout",
     "output_type": "stream",
     "text": [
      "'suomi rock'\n",
      "'wonky'\n",
      "'hip hop'\n",
      "'ranchera'\n",
      "'swedish indie rock'\n",
      "'semba'\n",
      "'europop'\n",
      "'new wave pop'\n",
      "'groove metal'\n",
      "'post-hardcore'\n"
     ]
    }
   ],
   "source": [
    "df[\"most_pop_genre\"] = df[\"pop_genres\"][:10].apply(keep_highest_occuring)"
   ]
  },
  {
   "cell_type": "code",
   "execution_count": 28,
   "metadata": {},
   "outputs": [],
   "source": [
    "def keep_highest_occuring_2(list):\n",
    "    val_counts_array = np.array(df_genres[\"genres\"].value_counts().reset_index())\n",
    "    high_occuring = []\n",
    "    for genre in list:\n",
    "        genre = genre.strip(\" \")   \n",
    "        for i in val_counts_array:\n",
    "            if i[0] == genre:\n",
    "                if high_occuring == []:\n",
    "                    high_occuring = [(i)]\n",
    "                    continue\n",
    "                if i[1] > high_occuring[0][1]:\n",
    "                    high_occuring = [(i)] \n",
    "                else:\n",
    "                    continue\n",
    "    return high_occuring[0][0]"
   ]
  },
  {
   "cell_type": "code",
   "execution_count": null,
   "metadata": {},
   "outputs": [],
   "source": [
    "df[\"most_pop_genre\"] = df[\"pop_genres\"].apply(keep_highest_occuring_2)"
   ]
  },
  {
   "cell_type": "code",
   "execution_count": 1,
   "metadata": {},
   "outputs": [
    {
     "ename": "NameError",
     "evalue": "name 'df' is not defined",
     "output_type": "error",
     "traceback": [
      "\u001b[0;31m---------------------------------------------------------------------------\u001b[0m",
      "\u001b[0;31mNameError\u001b[0m                                 Traceback (most recent call last)",
      "\u001b[0;32m<ipython-input-1-cb3c06ddd4e7>\u001b[0m in \u001b[0;36m<module>\u001b[0;34m\u001b[0m\n\u001b[0;32m----> 1\u001b[0;31m \u001b[0mdf\u001b[0m\u001b[0;34m[\u001b[0m\u001b[0;34m\"most_pop_genre\"\u001b[0m\u001b[0;34m]\u001b[0m\u001b[0;34m[\u001b[0m\u001b[0;36m0\u001b[0m\u001b[0;34m:\u001b[0m\u001b[0;36m100\u001b[0m\u001b[0;34m]\u001b[0m\u001b[0;34m\u001b[0m\u001b[0;34m\u001b[0m\u001b[0m\n\u001b[0m",
      "\u001b[0;31mNameError\u001b[0m: name 'df' is not defined"
     ]
    }
   ],
   "source": [
    "df[\"most_pop_genre\"][0:100]"
   ]
  },
  {
   "cell_type": "code",
   "execution_count": null,
   "metadata": {},
   "outputs": [],
   "source": [
    "def keep_highest_occuring(list):\n",
    "    high_occuring = []\n",
    "    for i in df_genres[\"genres\"].value_counts().iteritems():\n",
    "        if high_occuring == []:\n",
    "            high_occuring.append(i)\n",
    "            print(\"list_appended!\")\n",
    "            print(high_occuring)\n",
    "            continue\n",
    "        if i[1] > high_occuring[0][1]:\n",
    "            vals = [(val)] \n",
    "        else:\n",
    "            continue\n",
    "\n",
    "    return(high_occuring[0][0])"
   ]
  },
  {
   "cell_type": "code",
   "execution_count": null,
   "metadata": {},
   "outputs": [],
   "source": [
    "df[[\"genres\",\"pop_genres\"]][df[\"genres\"].str.contains(\"finnish indie\")]"
   ]
  },
  {
   "cell_type": "code",
   "execution_count": 365,
   "metadata": {},
   "outputs": [
    {
     "name": "stdout",
     "output_type": "stream",
     "text": [
      "['finnish indie', 'suomi rock']\n",
      "['bass music', 'scottish electronic', 'scottish hip hop', 'uk experimental electronic', 'wonky']\n",
      "['hip hop', 'new jack swing', 'rap']\n",
      "['bolero', 'mariachi', 'ranchera']\n"
     ]
    }
   ],
   "source": [
    "for item in df[\"genres\"][0:4]:\n",
    "    print(item)\n",
    "#     high_occuring = []\n",
    "#     for song in item:\n",
    "#         for \n",
    "        "
   ]
  },
  {
   "cell_type": "code",
   "execution_count": 345,
   "metadata": {},
   "outputs": [
    {
     "data": {
      "text/plain": [
       "Index([''rock'', ''mellow gold'', ''dance pop'', ''country rock'',\n",
       "       ''soft rock'', ''alternative rock'', ''classic rock'',\n",
       "       ''adult standards'', ''new wave pop'', ''folk rock'',\n",
       "       ...\n",
       "       ''deep deep house'', ''vintage tango'', ''north carolina indie'',\n",
       "       ''classic french pop'', ''italian black metal'', ''oceania soundtrack'',\n",
       "       ''deep chill-out'', ''romanian rock'', ''christian dance'',\n",
       "       ''middle earth''],\n",
       "      dtype='object', length=1852)"
      ]
     },
     "execution_count": 345,
     "metadata": {},
     "output_type": "execute_result"
    }
   ],
   "source": [
    "high_occuring_list"
   ]
  },
  {
   "cell_type": "code",
   "execution_count": 346,
   "metadata": {},
   "outputs": [
    {
     "name": "stdout",
     "output_type": "stream",
     "text": [
      "item isn't popular:  'suomi rock'\n"
     ]
    },
    {
     "data": {
      "text/plain": [
       "0    None\n",
       "Name: pop_genres, dtype: object"
      ]
     },
     "execution_count": 346,
     "metadata": {},
     "output_type": "execute_result"
    }
   ],
   "source": [
    "df[\"pop_genres\"][0:1].apply(remove_lower_occuring) "
   ]
  },
  {
   "cell_type": "code",
   "execution_count": null,
   "metadata": {},
   "outputs": [],
   "source": []
  },
  {
   "cell_type": "code",
   "execution_count": 235,
   "metadata": {},
   "outputs": [
    {
     "name": "stdout",
     "output_type": "stream",
     "text": [
      "'finnish indie', 'suomi rock'\n",
      "'bass music', 'scottish electronic', 'scottish hip hop', 'uk experimental electronic', 'wonky'\n",
      "'hip hop', 'new jack swing', 'rap'\n",
      "'bolero', 'mariachi', 'ranchera'\n",
      "'swedish indie rock'\n",
      "'semba'\n",
      "'classic swedish pop', 'europop', 'swedish pop'\n",
      "'ectofolk', 'folk', 'lilith', 'new wave pop', 'pop rock', 'singer-songwriter', 'traditional folk'\n",
      "'brutal death metal', 'death metal', 'deathgrind', 'groove metal', 'technical death metal'\n",
      "'christian metal', 'christian rock', 'dreamo', 'post-hardcore', 'progressive post-hardcore', 'screamo'\n",
      "'contemporary gospel', 'gospel'\n",
      "'alternative americana', 'folk'\n",
      "'alternative metal', 'groove metal', 'industrial metal', 'nu metal', 'rap rock'\n",
      "'italian hip hop', 'italian reggae'\n",
      "'gospel rap'\n",
      "'free folk'\n",
      "'deep disco', 'disco', 'turbo folk'\n",
      "'album rock', 'art rock', 'blues rock', 'british blues', 'classic rock', 'classic uk pop', 'hard rock', 'progressive rock', 'psychedelic rock', 'rock', 'symphonic rock'\n",
      "'zouk'\n",
      "'alternative roots rock', 'gbvfi'\n"
     ]
    }
   ],
   "source": [
    "for item in df[\"genres_stripped\"][0:20]:\n",
    "    print(item)"
   ]
  },
  {
   "cell_type": "code",
   "execution_count": 229,
   "metadata": {},
   "outputs": [
    {
     "name": "stdout",
     "output_type": "stream",
     "text": [
      "[\"'finnish indie'\"]\n",
      "[\"'bass music'\", \" 'uk experimental electronic'\", \" 'wonky'\"]\n",
      "[\"'hip hop'\", \" 'new jack swing'\", \" 'rap'\"]\n",
      "[\"'bolero'\", \" 'mariachi'\", \" 'ranchera'\"]\n",
      "[\"'swedish indie rock'\"]\n",
      "[\"'semba'\"]\n",
      "[\"'classic swedish pop'\", \" 'europop'\", \" 'swedish pop'\"]\n",
      "[\"'ectofolk'\", \" 'folk'\", \" 'lilith'\", \" 'new wave pop'\", \" 'pop rock'\", \" 'singer-songwriter'\", \" 'traditional folk'\"]\n",
      "[\"'brutal death metal'\", \" 'death metal'\", \" 'deathgrind'\", \" 'groove metal'\", \" 'technical death metal'\"]\n",
      "[\"'christian metal'\", \" 'christian rock'\", \" 'dreamo'\", \" 'post-hardcore'\", \" 'progressive post-hardcore'\", \" 'screamo'\"]\n",
      "[\"'contemporary gospel'\", \" 'gospel'\"]\n",
      "[\"'alternative americana'\", \" 'folk'\"]\n",
      "[\"'alternative metal'\", \" 'groove metal'\", \" 'industrial metal'\", \" 'nu metal'\", \" 'rap rock'\"]\n",
      "[\"'italian hip hop'\", \" 'italian reggae'\"]\n",
      "[\"'gospel rap'\"]\n",
      "[\"'free folk'\"]\n",
      "[\"'deep disco'\", \" 'disco'\", \" 'turbo folk'\"]\n",
      "[\"'album rock'\", \" 'art rock'\", \" 'blues rock'\", \" 'british blues'\", \" 'classic rock'\", \" 'classic uk pop'\", \" 'hard rock'\", \" 'progressive rock'\", \" 'psychedelic rock'\", \" 'rock'\", \" 'symphonic rock'\"]\n",
      "[\"'zouk'\"]\n",
      "[\"'alternative roots rock'\", \" 'gbvfi'\"]\n",
      "[\"'canadian country'\", \" 'country dawn'\", \" 'deep contemporary country'\"]\n",
      "[\"'chicago soul'\", \" 'classic soul'\", \" 'disco'\", \" 'funk'\", \" 'girl group'\", \" 'jazz funk'\", \" 'motown'\", \" 'post-disco'\", \" 'quiet storm'\", \" 'soul'\", \" 'southern soul'\", \" 'urban contemporary'\"]\n",
      "[\"'psychedelic trance'\"]\n",
      "[\"'dayton indie'\", \" 'emo'\", \" 'neon pop punk'\", \" 'pop punk'\", \" 'post-hardcore'\", \" 'screamo'\"]\n",
      "[\"'reggae'\", \" 'rock steady'\", \" 'ska'\"]\n",
      "[\"'classic italian pop'\", \" 'italian alternative'\", \" 'italian arena pop'\", \" 'italian hip hop'\", \" 'italian pop'\", \" 'italian underground hip hop'\", \" 'rap napoletano'\"]\n",
      "[\"'crunk'\", \" 'deep southern trap'\", \" 'dirty south rap'\", \" 'dirty texas rap'\", \" 'gangster rap'\", \" 'houston rap'\"]\n",
      "[\"'album rock'\", \" 'classic rock'\", \" 'dance rock'\", \" 'hard rock'\", \" 'mellow gold'\", \" 'new romantic'\", \" 'new wave'\", \" 'new wave pop'\", \" 'rock'\", \" 'soft rock'\"]\n",
      "[\"'cambridgeshire indie'\"]\n",
      "[\"'deep christian rock'\"]\n",
      "[\"'bolero'\", \" 'pop romantico'\", \" 'ranchera'\"]\n",
      "[\"'adult standards'\", \" 'contemporary vocal jazz'\", \" 'soul'\", \" 'vocal jazz'\"]\n",
      "[\"'classic uk pop'\"]\n",
      "[\"'chaotic hardcore'\", \" 'chicago hardcore'\", \" 'grindcore'\", \" 'powerviolence'\", \" 'thrash core'\"]\n",
      "[\"'country'\", \" 'country road'\", \" 'country rock'\", \" 'oklahoma country'\", \" 'redneck'\"]\n",
      "[\"'buffalo ny metal'\", \" 'nu metal'\"]\n",
      "[\"'album rock'\", \" 'classic rock'\", \" 'hard rock'\", \" 'rock'\"]\n",
      "[\"'big band'\", \" 'jazz blues'\", \" 'jazz trumpet'\", \" 'stride'\", \" 'swing'\"]\n",
      "[\"'swedish hip hop'\", \" 'swedish reggae'\"]\n",
      "[\"'french hip hop'\", \" 'pop urbaine'\"]\n",
      "[\"'gospel'\"]\n",
      "[\"'ccm'\", \" 'christian alternative rock'\", \" 'christian music'\", \" 'worship'\"]\n",
      "[\"'vienna indie'\"]\n",
      "[\"'classic rock'\", \" 'country rock'\", \" 'folk'\", \" 'folk rock'\", \" 'heartland rock'\", \" 'mellow gold'\", \" 'piano rock'\", \" 'power pop'\", \" 'rock'\", \" 'roots rock'\", \" 'singer-songwriter'\", \" 'soft rock'\", \" 'traditional folk'\"]\n",
      "[\"'c86'\", \" 'madchester'\", \" 'scottish indie'\"]\n",
      "[\"'christian rock'\"]\n",
      "[\"'classic soundtrack'\"]\n",
      "[\"'chanson'\", \" 'laboratorio'\"]\n",
      "[\"'bubblegum dance'\", \" 'eurodance'\", \" 'europop'\", \" 'hip house'\"]\n",
      "[\"'jazz metal'\", \" 'progressive metal'\", \" 'steampunk'\", \" 'swedish metal'\", \" 'symphonic metal'\"]\n",
      "[\"'album rock'\", \" 'art rock'\", \" 'classic rock'\", \" 'folk rock'\", \" 'mellow gold'\", \" 'psychedelic rock'\", \" 'rock'\"]\n",
      "[\"'canadian hardcore'\", \" 'canadian metal'\", \" 'canadian punk'\", \" 'hardcore punk'\", \" 'indie punk'\", \" 'noise pop'\", \" 'noise rock'\", \" 'post-hardcore'\"]\n",
      "[\"'ska punk'\"]\n",
      "[\"'surf music'\"]\n",
      "[\"'deep german hip hop'\", \" 'german hip hop'\", \" 'turkish hip hop'\"]\n",
      "[\"'album rock'\", \" 'german hard rock'\", \" 'glam metal'\", \" 'hard rock'\", \" 'metal'\"]\n",
      "[\"'europop'\", \" 'italian arena pop'\", \" 'italian hip hop'\", \" 'italian pop'\"]\n",
      "[\"'electroclash'\", \" 'swedish electropop'\", \" 'swedish synthpop'\"]\n",
      "[\"'finnish pop'\"]\n",
      "[\"'classic schlager'\", \" 'easy listening'\", \" 'schlager'\"]\n",
      "[\"'big room'\", \" 'brostep'\", \" 'dance pop'\", \" 'dutch edm'\", \" 'edm'\", \" 'electro house'\", \" 'house'\", \" 'pop'\", \" 'trance'\", \" 'tropical house'\"]\n",
      "[\"'appalachian folk'\", \" 'bluegrass'\", \" 'bluegrass gospel'\", \" 'instrumental bluegrass'\", \" 'old-time'\", \" 'progressive bluegrass'\", \" 'traditional country'\", \" 'traditional folk'\"]\n",
      "[\"'cantautor'\", \" 'nueva cancion'\", \" 'spanish pop'\", \" 'trova'\"]\n",
      "[\"'banjo'\", \" 'bluegrass'\", \" 'bluegrass gospel'\", \" 'old-time'\", \" 'progressive bluegrass'\"]\n",
      "[\"'healing'\", \" 'new age'\"]\n",
      "[\"'contemporary country'\", \" 'country'\", \" 'country road'\"]\n",
      "[\"'jovem guarda'\", \" 'mpb'\"]\n",
      "[\"'colombian pop'\", \" 'cumbia'\", \" 'latin'\", \" 'latin pop'\", \" 'pop'\", \" 'rock en espanol'\"]\n",
      "[\"'classic uk pop'\", \" 'dance rock'\", \" 'new romantic'\", \" 'new wave'\", \" 'new wave pop'\", \" 'zolo'\"]\n",
      "[\"'classic italian pop'\", \" 'italian pop'\"]\n",
      "[\"'crack rock steady'\", \" 'modern ska punk'\", \" 'ska'\", \" 'ska punk'\"]\n",
      "[\"'deep house'\", \" 'deep soul house'\", \" 'float house'\", \" 'minimal tech house'\", \" 'scottish electronic'\"]\n",
      "[\"'jazz funk'\", \" 'jazz fusion'\", \" 'progressive jazz fusion'\", \" 'smooth jazz'\"]\n",
      "[\"'crossover prog'\", \" 'modern progressive rock'\", \" 'neo-progressive'\", \" 'symphonic rock'\"]\n",
      "[\"'ebm'\"]\n",
      "[\"'old school thrash'\"]\n",
      "[\"'emo'\", \" 'emo punk'\", \" 'indie emo rock'\"]\n",
      "[\"'banjo'\", \" 'bluegrass'\", \" 'bluegrass gospel'\", \" 'old-time'\", \" 'progressive bluegrass'\"]\n",
      "[\"'hardcore techno'\", \" 'hip house'\"]\n",
      "[\"'alternative dance'\", \" 'big beat'\", \" 'electronica'\"]\n",
      "[\"'classic soul'\", \" 'funk'\", \" 'memphis soul'\", \" 'quiet storm'\", \" 'soul'\", \" 'soul blues'\", \" 'southern soul'\"]\n",
      "[\"'electro jazz'\", \" 'nu jazz'\"]\n",
      "[\"'abstract'\", \" 'ambient'\", \" 'ambient techno'\", \" 'art pop'\", \" 'dark jazz'\", \" 'deep idm'\", \" 'drill and bass'\", \" 'drone'\", \" 'dub techno'\", \" 'electro'\", \" 'electronica'\", \" 'experimental'\", \" 'fourth world'\", \" 'glitch'\", \" 'intelligent dance music'\", \" 'microhouse'\", \" 'minimal techno'\", \" 'ninja'\", \" 'outsider house'\", \" 'techno'\", \" 'uk experimental electronic'\"]\n",
      "[\"'electric blues'\", \" 'modern blues'\"]\n",
      "[\"'alternative metal'\", \" 'doom metal'\", \" 'gothic metal'\", \" 'melodic death metal'\", \" 'metal'\", \" 'pagan black metal'\", \" 'progressive metal'\", \" 'swedish doom metal'\", \" 'swedish metal'\"]\n",
      "[\"'finnish pop'\", \" 'iskelma'\", \" 'suomi rock'\"]\n",
      "[\"'norwegian hip hop'\"]\n",
      "[\"'french punk'\"]\n",
      "[\"'chanson'\", \" 'french folk pop'\", \" 'french rock'\"]\n",
      "[\"'neo-rockabilly'\", \" 'rock-and-roll'\", \" 'rockabilly'\", \" 'traditional rockabilly'\"]\n",
      "[\"'classic swedish pop'\", \" 'folkmusik'\", \" 'nordic folk'\", \" 'swedish jazz'\", \" 'swedish singer-songwriter'\"]\n",
      "[\"'brega'\", \" 'jovem guarda'\"]\n",
      "[\"'glam metal'\", \" 'hard rock'\", \" 'sleaze rock'\"]\n",
      "[\"'deep pop r&b'\", \" 'hip pop'\", \" 'r&b'\", \" 'urban contemporary'\"]\n",
      "[\"'athens indie'\"]\n",
      "[\"'modern rock'\", \" 'rock'\", \" 'scottish rock'\"]\n",
      "[\"'balearic'\", \" 'norwegian space disco'\", \" 'norwegian techno'\"]\n",
      "[\"'brutal death metal'\", \" 'death metal'\", \" 'deathgrind'\", \" 'goregrind'\", \" 'grindcore'\", \" 'technical death metal'\"]\n",
      "[\"'arkansas country'\", \" 'outlaw country'\"]\n",
      "[\"'dream pop'\", \" 'electronica'\"]\n"
     ]
    }
   ],
   "source": [
    "for item in df[\"pop_genres\"][0:100]:\n",
    "    print(item)"
   ]
  },
  {
   "cell_type": "code",
   "execution_count": 224,
   "metadata": {},
   "outputs": [
    {
     "data": {
      "text/plain": [
       "0"
      ]
     },
     "execution_count": 224,
     "metadata": {},
     "output_type": "execute_result"
    }
   ],
   "source": [
    "df[\"pop_genres\"].isna().sum()"
   ]
  },
  {
   "cell_type": "code",
   "execution_count": 170,
   "metadata": {},
   "outputs": [
    {
     "data": {
      "text/plain": [
       "Index([    'acousticness',           'artist',     'danceability',\n",
       "            'duration_ms',           'energy', 'instrumentalness',\n",
       "                    'key',         'liveness',         'loudness',\n",
       "                   'mode',           'songid',      'speechiness',\n",
       "                  'tempo',   'time_signature',            'track',\n",
       "                'valence',           'genres',  'genres_stripped',\n",
       "                        0,                  1,                  2,\n",
       "                        3,                  4,                  5,\n",
       "                        6,                  7,                  8,\n",
       "                        9,                 10,                 11,\n",
       "                       12,                 13,                 14,\n",
       "                       15,                 16,                 17,\n",
       "                       18,                 19,                 20,\n",
       "                       21,                 22,                 23,\n",
       "                       24,                 25,                 26,\n",
       "                       27,                 28,                 29,\n",
       "                       30,                 31,                 32,\n",
       "                       33,                 34,                 35,\n",
       "                       36,                 37,                 38,\n",
       "                       39,                 40,                 41,\n",
       "                       42,                 43,                 44,\n",
       "                       45,                 46,                 47,\n",
       "                       48,                 49,       'pop_genres'],\n",
       "      dtype='object')"
      ]
     },
     "execution_count": 170,
     "metadata": {},
     "output_type": "execute_result"
    }
   ],
   "source": [
    "df.columns"
   ]
  },
  {
   "cell_type": "code",
   "execution_count": 155,
   "metadata": {},
   "outputs": [],
   "source": [
    "with open('./DF_genres_hashed.pkl', 'rb') as f:\n",
    "    df = pickle.load(f)"
   ]
  },
  {
   "cell_type": "code",
   "execution_count": 200,
   "metadata": {},
   "outputs": [
    {
     "data": {
      "text/plain": [
       "\"'worship'\""
      ]
     },
     "execution_count": 200,
     "metadata": {},
     "output_type": "execute_result"
    }
   ],
   "source": [
    "genre"
   ]
  },
  {
   "cell_type": "code",
   "execution_count": null,
   "metadata": {},
   "outputs": [],
   "source": []
  }
 ],
 "metadata": {
  "kernelspec": {
   "display_name": "model_notebooks",
   "language": "python",
   "name": "model_notebooks"
  },
  "language_info": {
   "codemirror_mode": {
    "name": "ipython",
    "version": 3
   },
   "file_extension": ".py",
   "mimetype": "text/x-python",
   "name": "python",
   "nbconvert_exporter": "python",
   "pygments_lexer": "ipython3",
   "version": "3.7.3"
  }
 },
 "nbformat": 4,
 "nbformat_minor": 4
}
