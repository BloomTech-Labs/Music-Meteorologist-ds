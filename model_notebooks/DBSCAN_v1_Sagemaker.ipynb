{
 "cells": [
  {
   "cell_type": "code",
   "execution_count": 1,
   "metadata": {},
   "outputs": [],
   "source": [
    "import pickle\n",
    "from sklearn.cluster import DBSCAN"
   ]
  },
  {
   "cell_type": "code",
   "execution_count": 2,
   "metadata": {},
   "outputs": [],
   "source": [
    "X = pickle.load(open('X_array.pkl', 'rb'))"
   ]
  },
  {
   "cell_type": "code",
   "execution_count": 5,
   "metadata": {},
   "outputs": [],
   "source": [
    "dbscan = DBSCAN(eps=.5, metric='euclidean', min_samples=50, n_jobs=-1) "
   ]
  },
  {
   "cell_type": "code",
   "execution_count": 6,
   "metadata": {},
   "outputs": [
    {
     "data": {
      "text/plain": [
       "DBSCAN(algorithm='auto', eps=0.5, leaf_size=30, metric='euclidean',\n",
       "    metric_params=None, min_samples=50, n_jobs=-1, p=None)"
      ]
     },
     "execution_count": 6,
     "metadata": {},
     "output_type": "execute_result"
    }
   ],
   "source": [
    "dbscan.fit(X)"
   ]
  },
  {
   "cell_type": "code",
   "execution_count": 7,
   "metadata": {},
   "outputs": [
    {
     "data": {
      "text/plain": [
       "574018"
      ]
     },
     "execution_count": 7,
     "metadata": {},
     "output_type": "execute_result"
    }
   ],
   "source": [
    "len(dbscan.labels_)"
   ]
  },
  {
   "cell_type": "code",
   "execution_count": 8,
   "metadata": {},
   "outputs": [
    {
     "data": {
      "text/plain": [
       "2944"
      ]
     },
     "execution_count": 8,
     "metadata": {},
     "output_type": "execute_result"
    }
   ],
   "source": [
    "len(set(dbscan.labels_))"
   ]
  },
  {
   "cell_type": "code",
   "execution_count": 14,
   "metadata": {},
   "outputs": [],
   "source": [
    "pickle.dump(dbscan,open(\"DBSCAN_Model.pkl\",\"wb\"))"
   ]
  },
  {
   "cell_type": "code",
   "execution_count": 15,
   "metadata": {},
   "outputs": [
    {
     "name": "stdout",
     "output_type": "stream",
     "text": [
      "total 978452\n",
      "-rw-rw-r-- 1 ec2-user ec2-user 169786334 Feb 19 03:20 DBSCAN_Model.pkl\n",
      "-rw-rw-r-- 1 ec2-user ec2-user      3677 Feb 19 03:19 DBSCAN_v1_Sagemaker.ipynb\n",
      "-rw-rw-r-- 1 ec2-user ec2-user 411192848 Feb 19 03:17 DF_genres_hashed.pkl\n",
      "-rw-rw-r-- 1 ec2-user ec2-user  49212916 Feb 19 03:11 DF_Genres_List_v1.pkl\n",
      "-rw-rw-r-- 1 ec2-user ec2-user    147661 Feb 19 03:20 genre_encoding.ipynb\n",
      "-rw-rw-r-- 1 ec2-user ec2-user     89499 Feb 18 22:03 heatmap_all.png\n",
      "-rw-rw-r-- 1 ec2-user ec2-user     35496 Feb 18 22:03 knn_model_v1.ipynb\n",
      "-rw-rw-r-- 1 ec2-user ec2-user    352984 Feb 18 22:03 knn_model_v2_with_genre_hashing.ipynb\n",
      "-rw-rw-r-- 1 ec2-user ec2-user    420656 Feb 18 22:03 knn_model_v3_with_genre_filtering.ipynb\n",
      "-rw-rw-r-- 1 ec2-user ec2-user  61661650 Feb 18 22:03 model2.joblib\n",
      "-rw-rw-r-- 1 ec2-user ec2-user      3540 Feb 18 22:03 model_notebook_v1.ipynb\n",
      "-rw-rw-r-- 1 ec2-user ec2-user       286 Feb 18 22:03 Pipfile\n",
      "-rw-rw-r-- 1 ec2-user ec2-user     30409 Feb 18 22:03 Pipfile.lock\n",
      "-rw-rw-r-- 1 ec2-user ec2-user       612 Feb 18 22:03 scalar2.joblib\n",
      "-rw-rw-r-- 1 ec2-user ec2-user  14977070 Feb 18 22:03 song_id_list2.joblib\n",
      "-rw-rw-r-- 1 ec2-user ec2-user       133 Feb 18 22:03 song_id_list2.pkl\n",
      "-rw-rw-r-- 1 ec2-user ec2-user     66381 Feb 18 22:03 Spotipy_API_Exploration.ipynb\n",
      "-rw-rw-r-- 1 ec2-user ec2-user        72 Feb 18 22:03 Untitled.ipynb\n",
      "-rw-rw-r-- 1 ec2-user ec2-user 293897379 Feb 19 02:43 X_array.pkl\n",
      "-rw-rw-r-- 1 ec2-user ec2-user      1524 Feb 18 22:03 XGBoost_model_v1.ipynb\n"
     ]
    }
   ],
   "source": [
    "!ls -l"
   ]
  },
  {
   "cell_type": "code",
   "execution_count": null,
   "metadata": {},
   "outputs": [],
   "source": []
  }
 ],
 "metadata": {
  "kernelspec": {
   "display_name": "model_notebooks",
   "language": "python",
   "name": "model_notebooks"
  },
  "language_info": {
   "codemirror_mode": {
    "name": "ipython",
    "version": 3
   },
   "file_extension": ".py",
   "mimetype": "text/x-python",
   "name": "python",
   "nbconvert_exporter": "python",
   "pygments_lexer": "ipython3",
   "version": "3.7.4"
  }
 },
 "nbformat": 4,
 "nbformat_minor": 4
}
