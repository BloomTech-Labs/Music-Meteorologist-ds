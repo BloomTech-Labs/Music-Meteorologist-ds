{
 "cells": [
  {
   "cell_type": "code",
   "execution_count": 1,
   "metadata": {},
   "outputs": [],
   "source": [
    "# Importing necessary libraries\n",
    "\n",
    "# Nearest neighbors will be the v1 model for sound drip\n",
    "# will give logistic regressiona nd \n",
    "from sklearn.neighbors import NearestNeighbors\n",
    "from sklearn.preprocessing import StandardScaler, MinMaxScaler, Normalizer\n",
    "from joblib import dump\n",
    "from joblib import load\n",
    "import pickle\n",
    "import numpy as np\n",
    "\n",
    "import pandas as pd\n",
    "from pandas.io.json import json_normalize"
   ]
  },
  {
   "cell_type": "markdown",
   "metadata": {},
   "source": [
    "# Loading Latest PKL"
   ]
  },
  {
   "cell_type": "code",
   "execution_count": 2,
   "metadata": {},
   "outputs": [],
   "source": [
    "X = pickle.load(open(\"./data/song_list_v5_hashed.pkl\", \"rb\"))"
   ]
  },
  {
   "cell_type": "markdown",
   "metadata": {},
   "source": [
    "# Preparing for Scaling"
   ]
  },
  {
   "cell_type": "code",
   "execution_count": 3,
   "metadata": {},
   "outputs": [
    {
     "data": {
      "text/plain": [
       "(574018, 63)"
      ]
     },
     "execution_count": 3,
     "metadata": {},
     "output_type": "execute_result"
    }
   ],
   "source": [
    "# dropping unnecessary columns\n",
    "X = X.drop([\"songid\",\"artist\",\"track\", \"duration_ms\",\"genres\",\"genres_stripped\"], axis=1)\n",
    "\n",
    "# checking that they're dropped\n",
    "X.shape"
   ]
  },
  {
   "cell_type": "code",
   "execution_count": 4,
   "metadata": {},
   "outputs": [],
   "source": [
    "columns_for_scaling = X.columns[0:13]"
   ]
  },
  {
   "cell_type": "code",
   "execution_count": 5,
   "metadata": {},
   "outputs": [],
   "source": [
    "# columns_genre_hashed = X.columns[13:]"
   ]
  },
  {
   "cell_type": "code",
   "execution_count": 6,
   "metadata": {},
   "outputs": [
    {
     "data": {
      "text/html": [
       "<div>\n",
       "<style scoped>\n",
       "    .dataframe tbody tr th:only-of-type {\n",
       "        vertical-align: middle;\n",
       "    }\n",
       "\n",
       "    .dataframe tbody tr th {\n",
       "        vertical-align: top;\n",
       "    }\n",
       "\n",
       "    .dataframe thead th {\n",
       "        text-align: right;\n",
       "    }\n",
       "</style>\n",
       "<table border=\"1\" class=\"dataframe\">\n",
       "  <thead>\n",
       "    <tr style=\"text-align: right;\">\n",
       "      <th></th>\n",
       "      <th>popularity</th>\n",
       "      <th>acousticness</th>\n",
       "      <th>danceability</th>\n",
       "      <th>energy</th>\n",
       "      <th>instrumentalness</th>\n",
       "      <th>key</th>\n",
       "      <th>liveness</th>\n",
       "      <th>loudness</th>\n",
       "      <th>mode</th>\n",
       "      <th>speechiness</th>\n",
       "      <th>tempo</th>\n",
       "      <th>time_signature</th>\n",
       "      <th>valence</th>\n",
       "    </tr>\n",
       "  </thead>\n",
       "  <tbody>\n",
       "    <tr>\n",
       "      <th>0</th>\n",
       "      <td>0</td>\n",
       "      <td>0.001300</td>\n",
       "      <td>0.487</td>\n",
       "      <td>0.678</td>\n",
       "      <td>0.055100</td>\n",
       "      <td>9.0</td>\n",
       "      <td>0.0846</td>\n",
       "      <td>-7.780</td>\n",
       "      <td>1.0</td>\n",
       "      <td>0.0495</td>\n",
       "      <td>149.940</td>\n",
       "      <td>4.0</td>\n",
       "      <td>0.8700</td>\n",
       "    </tr>\n",
       "    <tr>\n",
       "      <th>1</th>\n",
       "      <td>15</td>\n",
       "      <td>0.000045</td>\n",
       "      <td>0.662</td>\n",
       "      <td>0.823</td>\n",
       "      <td>0.952000</td>\n",
       "      <td>4.0</td>\n",
       "      <td>0.3430</td>\n",
       "      <td>-1.711</td>\n",
       "      <td>0.0</td>\n",
       "      <td>0.0662</td>\n",
       "      <td>177.745</td>\n",
       "      <td>4.0</td>\n",
       "      <td>0.6210</td>\n",
       "    </tr>\n",
       "    <tr>\n",
       "      <th>2</th>\n",
       "      <td>17</td>\n",
       "      <td>0.002760</td>\n",
       "      <td>0.859</td>\n",
       "      <td>0.741</td>\n",
       "      <td>0.000000</td>\n",
       "      <td>11.0</td>\n",
       "      <td>0.3250</td>\n",
       "      <td>-12.329</td>\n",
       "      <td>0.0</td>\n",
       "      <td>0.2710</td>\n",
       "      <td>98.082</td>\n",
       "      <td>4.0</td>\n",
       "      <td>0.5290</td>\n",
       "    </tr>\n",
       "    <tr>\n",
       "      <th>3</th>\n",
       "      <td>21</td>\n",
       "      <td>0.348000</td>\n",
       "      <td>0.361</td>\n",
       "      <td>0.483</td>\n",
       "      <td>0.000003</td>\n",
       "      <td>7.0</td>\n",
       "      <td>0.1770</td>\n",
       "      <td>-6.875</td>\n",
       "      <td>1.0</td>\n",
       "      <td>0.0287</td>\n",
       "      <td>94.538</td>\n",
       "      <td>4.0</td>\n",
       "      <td>0.6820</td>\n",
       "    </tr>\n",
       "    <tr>\n",
       "      <th>4</th>\n",
       "      <td>1</td>\n",
       "      <td>0.340000</td>\n",
       "      <td>0.533</td>\n",
       "      <td>0.302</td>\n",
       "      <td>0.179000</td>\n",
       "      <td>10.0</td>\n",
       "      <td>0.1110</td>\n",
       "      <td>-10.308</td>\n",
       "      <td>1.0</td>\n",
       "      <td>0.0307</td>\n",
       "      <td>134.959</td>\n",
       "      <td>3.0</td>\n",
       "      <td>0.2940</td>\n",
       "    </tr>\n",
       "    <tr>\n",
       "      <th>...</th>\n",
       "      <td>...</td>\n",
       "      <td>...</td>\n",
       "      <td>...</td>\n",
       "      <td>...</td>\n",
       "      <td>...</td>\n",
       "      <td>...</td>\n",
       "      <td>...</td>\n",
       "      <td>...</td>\n",
       "      <td>...</td>\n",
       "      <td>...</td>\n",
       "      <td>...</td>\n",
       "      <td>...</td>\n",
       "      <td>...</td>\n",
       "    </tr>\n",
       "    <tr>\n",
       "      <th>574013</th>\n",
       "      <td>33</td>\n",
       "      <td>0.798000</td>\n",
       "      <td>0.320</td>\n",
       "      <td>0.104</td>\n",
       "      <td>0.000750</td>\n",
       "      <td>0.0</td>\n",
       "      <td>0.1060</td>\n",
       "      <td>-13.162</td>\n",
       "      <td>1.0</td>\n",
       "      <td>0.0342</td>\n",
       "      <td>124.677</td>\n",
       "      <td>3.0</td>\n",
       "      <td>0.0566</td>\n",
       "    </tr>\n",
       "    <tr>\n",
       "      <th>574014</th>\n",
       "      <td>50</td>\n",
       "      <td>0.820000</td>\n",
       "      <td>0.418</td>\n",
       "      <td>0.204</td>\n",
       "      <td>0.936000</td>\n",
       "      <td>8.0</td>\n",
       "      <td>0.0866</td>\n",
       "      <td>-13.522</td>\n",
       "      <td>1.0</td>\n",
       "      <td>0.0370</td>\n",
       "      <td>110.022</td>\n",
       "      <td>4.0</td>\n",
       "      <td>0.0375</td>\n",
       "    </tr>\n",
       "    <tr>\n",
       "      <th>574015</th>\n",
       "      <td>0</td>\n",
       "      <td>0.070400</td>\n",
       "      <td>0.614</td>\n",
       "      <td>0.952</td>\n",
       "      <td>0.000000</td>\n",
       "      <td>6.0</td>\n",
       "      <td>0.3620</td>\n",
       "      <td>-2.782</td>\n",
       "      <td>1.0</td>\n",
       "      <td>0.0718</td>\n",
       "      <td>148.079</td>\n",
       "      <td>4.0</td>\n",
       "      <td>0.8200</td>\n",
       "    </tr>\n",
       "    <tr>\n",
       "      <th>574016</th>\n",
       "      <td>18</td>\n",
       "      <td>0.064000</td>\n",
       "      <td>0.343</td>\n",
       "      <td>0.487</td>\n",
       "      <td>0.000000</td>\n",
       "      <td>2.0</td>\n",
       "      <td>0.1070</td>\n",
       "      <td>-9.462</td>\n",
       "      <td>1.0</td>\n",
       "      <td>0.0473</td>\n",
       "      <td>171.217</td>\n",
       "      <td>4.0</td>\n",
       "      <td>0.3650</td>\n",
       "    </tr>\n",
       "    <tr>\n",
       "      <th>574017</th>\n",
       "      <td>47</td>\n",
       "      <td>0.029200</td>\n",
       "      <td>0.380</td>\n",
       "      <td>0.399</td>\n",
       "      <td>0.000000</td>\n",
       "      <td>2.0</td>\n",
       "      <td>0.8910</td>\n",
       "      <td>-8.466</td>\n",
       "      <td>1.0</td>\n",
       "      <td>0.0321</td>\n",
       "      <td>125.800</td>\n",
       "      <td>3.0</td>\n",
       "      <td>0.1050</td>\n",
       "    </tr>\n",
       "  </tbody>\n",
       "</table>\n",
       "<p>574018 rows × 13 columns</p>\n",
       "</div>"
      ],
      "text/plain": [
       "       popularity  acousticness  danceability  energy  instrumentalness   key  \\\n",
       "0               0      0.001300         0.487   0.678          0.055100   9.0   \n",
       "1              15      0.000045         0.662   0.823          0.952000   4.0   \n",
       "2              17      0.002760         0.859   0.741          0.000000  11.0   \n",
       "3              21      0.348000         0.361   0.483          0.000003   7.0   \n",
       "4               1      0.340000         0.533   0.302          0.179000  10.0   \n",
       "...           ...           ...           ...     ...               ...   ...   \n",
       "574013         33      0.798000         0.320   0.104          0.000750   0.0   \n",
       "574014         50      0.820000         0.418   0.204          0.936000   8.0   \n",
       "574015          0      0.070400         0.614   0.952          0.000000   6.0   \n",
       "574016         18      0.064000         0.343   0.487          0.000000   2.0   \n",
       "574017         47      0.029200         0.380   0.399          0.000000   2.0   \n",
       "\n",
       "        liveness  loudness  mode  speechiness    tempo  time_signature  \\\n",
       "0         0.0846    -7.780   1.0       0.0495  149.940             4.0   \n",
       "1         0.3430    -1.711   0.0       0.0662  177.745             4.0   \n",
       "2         0.3250   -12.329   0.0       0.2710   98.082             4.0   \n",
       "3         0.1770    -6.875   1.0       0.0287   94.538             4.0   \n",
       "4         0.1110   -10.308   1.0       0.0307  134.959             3.0   \n",
       "...          ...       ...   ...          ...      ...             ...   \n",
       "574013    0.1060   -13.162   1.0       0.0342  124.677             3.0   \n",
       "574014    0.0866   -13.522   1.0       0.0370  110.022             4.0   \n",
       "574015    0.3620    -2.782   1.0       0.0718  148.079             4.0   \n",
       "574016    0.1070    -9.462   1.0       0.0473  171.217             4.0   \n",
       "574017    0.8910    -8.466   1.0       0.0321  125.800             3.0   \n",
       "\n",
       "        valence  \n",
       "0        0.8700  \n",
       "1        0.6210  \n",
       "2        0.5290  \n",
       "3        0.6820  \n",
       "4        0.2940  \n",
       "...         ...  \n",
       "574013   0.0566  \n",
       "574014   0.0375  \n",
       "574015   0.8200  \n",
       "574016   0.3650  \n",
       "574017   0.1050  \n",
       "\n",
       "[574018 rows x 13 columns]"
      ]
     },
     "execution_count": 6,
     "metadata": {},
     "output_type": "execute_result"
    }
   ],
   "source": [
    "X[columns_for_scaling]"
   ]
  },
  {
   "cell_type": "code",
   "execution_count": 7,
   "metadata": {},
   "outputs": [],
   "source": [
    "X_new = X[columns_for_scaling].reindex(sorted(X[columns_for_scaling].columns), axis=1)"
   ]
  },
  {
   "cell_type": "code",
   "execution_count": 8,
   "metadata": {},
   "outputs": [
    {
     "data": {
      "text/html": [
       "<div>\n",
       "<style scoped>\n",
       "    .dataframe tbody tr th:only-of-type {\n",
       "        vertical-align: middle;\n",
       "    }\n",
       "\n",
       "    .dataframe tbody tr th {\n",
       "        vertical-align: top;\n",
       "    }\n",
       "\n",
       "    .dataframe thead th {\n",
       "        text-align: right;\n",
       "    }\n",
       "</style>\n",
       "<table border=\"1\" class=\"dataframe\">\n",
       "  <thead>\n",
       "    <tr style=\"text-align: right;\">\n",
       "      <th></th>\n",
       "      <th>acousticness</th>\n",
       "      <th>danceability</th>\n",
       "      <th>energy</th>\n",
       "      <th>instrumentalness</th>\n",
       "      <th>key</th>\n",
       "      <th>liveness</th>\n",
       "      <th>loudness</th>\n",
       "      <th>mode</th>\n",
       "      <th>popularity</th>\n",
       "      <th>speechiness</th>\n",
       "      <th>tempo</th>\n",
       "      <th>time_signature</th>\n",
       "      <th>valence</th>\n",
       "    </tr>\n",
       "  </thead>\n",
       "  <tbody>\n",
       "    <tr>\n",
       "      <th>0</th>\n",
       "      <td>0.001300</td>\n",
       "      <td>0.487</td>\n",
       "      <td>0.678</td>\n",
       "      <td>0.055100</td>\n",
       "      <td>9.0</td>\n",
       "      <td>0.0846</td>\n",
       "      <td>-7.780</td>\n",
       "      <td>1.0</td>\n",
       "      <td>0</td>\n",
       "      <td>0.0495</td>\n",
       "      <td>149.940</td>\n",
       "      <td>4.0</td>\n",
       "      <td>0.8700</td>\n",
       "    </tr>\n",
       "    <tr>\n",
       "      <th>1</th>\n",
       "      <td>0.000045</td>\n",
       "      <td>0.662</td>\n",
       "      <td>0.823</td>\n",
       "      <td>0.952000</td>\n",
       "      <td>4.0</td>\n",
       "      <td>0.3430</td>\n",
       "      <td>-1.711</td>\n",
       "      <td>0.0</td>\n",
       "      <td>15</td>\n",
       "      <td>0.0662</td>\n",
       "      <td>177.745</td>\n",
       "      <td>4.0</td>\n",
       "      <td>0.6210</td>\n",
       "    </tr>\n",
       "    <tr>\n",
       "      <th>2</th>\n",
       "      <td>0.002760</td>\n",
       "      <td>0.859</td>\n",
       "      <td>0.741</td>\n",
       "      <td>0.000000</td>\n",
       "      <td>11.0</td>\n",
       "      <td>0.3250</td>\n",
       "      <td>-12.329</td>\n",
       "      <td>0.0</td>\n",
       "      <td>17</td>\n",
       "      <td>0.2710</td>\n",
       "      <td>98.082</td>\n",
       "      <td>4.0</td>\n",
       "      <td>0.5290</td>\n",
       "    </tr>\n",
       "    <tr>\n",
       "      <th>3</th>\n",
       "      <td>0.348000</td>\n",
       "      <td>0.361</td>\n",
       "      <td>0.483</td>\n",
       "      <td>0.000003</td>\n",
       "      <td>7.0</td>\n",
       "      <td>0.1770</td>\n",
       "      <td>-6.875</td>\n",
       "      <td>1.0</td>\n",
       "      <td>21</td>\n",
       "      <td>0.0287</td>\n",
       "      <td>94.538</td>\n",
       "      <td>4.0</td>\n",
       "      <td>0.6820</td>\n",
       "    </tr>\n",
       "    <tr>\n",
       "      <th>4</th>\n",
       "      <td>0.340000</td>\n",
       "      <td>0.533</td>\n",
       "      <td>0.302</td>\n",
       "      <td>0.179000</td>\n",
       "      <td>10.0</td>\n",
       "      <td>0.1110</td>\n",
       "      <td>-10.308</td>\n",
       "      <td>1.0</td>\n",
       "      <td>1</td>\n",
       "      <td>0.0307</td>\n",
       "      <td>134.959</td>\n",
       "      <td>3.0</td>\n",
       "      <td>0.2940</td>\n",
       "    </tr>\n",
       "    <tr>\n",
       "      <th>...</th>\n",
       "      <td>...</td>\n",
       "      <td>...</td>\n",
       "      <td>...</td>\n",
       "      <td>...</td>\n",
       "      <td>...</td>\n",
       "      <td>...</td>\n",
       "      <td>...</td>\n",
       "      <td>...</td>\n",
       "      <td>...</td>\n",
       "      <td>...</td>\n",
       "      <td>...</td>\n",
       "      <td>...</td>\n",
       "      <td>...</td>\n",
       "    </tr>\n",
       "    <tr>\n",
       "      <th>574013</th>\n",
       "      <td>0.798000</td>\n",
       "      <td>0.320</td>\n",
       "      <td>0.104</td>\n",
       "      <td>0.000750</td>\n",
       "      <td>0.0</td>\n",
       "      <td>0.1060</td>\n",
       "      <td>-13.162</td>\n",
       "      <td>1.0</td>\n",
       "      <td>33</td>\n",
       "      <td>0.0342</td>\n",
       "      <td>124.677</td>\n",
       "      <td>3.0</td>\n",
       "      <td>0.0566</td>\n",
       "    </tr>\n",
       "    <tr>\n",
       "      <th>574014</th>\n",
       "      <td>0.820000</td>\n",
       "      <td>0.418</td>\n",
       "      <td>0.204</td>\n",
       "      <td>0.936000</td>\n",
       "      <td>8.0</td>\n",
       "      <td>0.0866</td>\n",
       "      <td>-13.522</td>\n",
       "      <td>1.0</td>\n",
       "      <td>50</td>\n",
       "      <td>0.0370</td>\n",
       "      <td>110.022</td>\n",
       "      <td>4.0</td>\n",
       "      <td>0.0375</td>\n",
       "    </tr>\n",
       "    <tr>\n",
       "      <th>574015</th>\n",
       "      <td>0.070400</td>\n",
       "      <td>0.614</td>\n",
       "      <td>0.952</td>\n",
       "      <td>0.000000</td>\n",
       "      <td>6.0</td>\n",
       "      <td>0.3620</td>\n",
       "      <td>-2.782</td>\n",
       "      <td>1.0</td>\n",
       "      <td>0</td>\n",
       "      <td>0.0718</td>\n",
       "      <td>148.079</td>\n",
       "      <td>4.0</td>\n",
       "      <td>0.8200</td>\n",
       "    </tr>\n",
       "    <tr>\n",
       "      <th>574016</th>\n",
       "      <td>0.064000</td>\n",
       "      <td>0.343</td>\n",
       "      <td>0.487</td>\n",
       "      <td>0.000000</td>\n",
       "      <td>2.0</td>\n",
       "      <td>0.1070</td>\n",
       "      <td>-9.462</td>\n",
       "      <td>1.0</td>\n",
       "      <td>18</td>\n",
       "      <td>0.0473</td>\n",
       "      <td>171.217</td>\n",
       "      <td>4.0</td>\n",
       "      <td>0.3650</td>\n",
       "    </tr>\n",
       "    <tr>\n",
       "      <th>574017</th>\n",
       "      <td>0.029200</td>\n",
       "      <td>0.380</td>\n",
       "      <td>0.399</td>\n",
       "      <td>0.000000</td>\n",
       "      <td>2.0</td>\n",
       "      <td>0.8910</td>\n",
       "      <td>-8.466</td>\n",
       "      <td>1.0</td>\n",
       "      <td>47</td>\n",
       "      <td>0.0321</td>\n",
       "      <td>125.800</td>\n",
       "      <td>3.0</td>\n",
       "      <td>0.1050</td>\n",
       "    </tr>\n",
       "  </tbody>\n",
       "</table>\n",
       "<p>574018 rows × 13 columns</p>\n",
       "</div>"
      ],
      "text/plain": [
       "        acousticness  danceability  energy  instrumentalness   key  liveness  \\\n",
       "0           0.001300         0.487   0.678          0.055100   9.0    0.0846   \n",
       "1           0.000045         0.662   0.823          0.952000   4.0    0.3430   \n",
       "2           0.002760         0.859   0.741          0.000000  11.0    0.3250   \n",
       "3           0.348000         0.361   0.483          0.000003   7.0    0.1770   \n",
       "4           0.340000         0.533   0.302          0.179000  10.0    0.1110   \n",
       "...              ...           ...     ...               ...   ...       ...   \n",
       "574013      0.798000         0.320   0.104          0.000750   0.0    0.1060   \n",
       "574014      0.820000         0.418   0.204          0.936000   8.0    0.0866   \n",
       "574015      0.070400         0.614   0.952          0.000000   6.0    0.3620   \n",
       "574016      0.064000         0.343   0.487          0.000000   2.0    0.1070   \n",
       "574017      0.029200         0.380   0.399          0.000000   2.0    0.8910   \n",
       "\n",
       "        loudness  mode popularity  speechiness    tempo  time_signature  \\\n",
       "0         -7.780   1.0          0       0.0495  149.940             4.0   \n",
       "1         -1.711   0.0         15       0.0662  177.745             4.0   \n",
       "2        -12.329   0.0         17       0.2710   98.082             4.0   \n",
       "3         -6.875   1.0         21       0.0287   94.538             4.0   \n",
       "4        -10.308   1.0          1       0.0307  134.959             3.0   \n",
       "...          ...   ...        ...          ...      ...             ...   \n",
       "574013   -13.162   1.0         33       0.0342  124.677             3.0   \n",
       "574014   -13.522   1.0         50       0.0370  110.022             4.0   \n",
       "574015    -2.782   1.0          0       0.0718  148.079             4.0   \n",
       "574016    -9.462   1.0         18       0.0473  171.217             4.0   \n",
       "574017    -8.466   1.0         47       0.0321  125.800             3.0   \n",
       "\n",
       "        valence  \n",
       "0        0.8700  \n",
       "1        0.6210  \n",
       "2        0.5290  \n",
       "3        0.6820  \n",
       "4        0.2940  \n",
       "...         ...  \n",
       "574013   0.0566  \n",
       "574014   0.0375  \n",
       "574015   0.8200  \n",
       "574016   0.3650  \n",
       "574017   0.1050  \n",
       "\n",
       "[574018 rows x 13 columns]"
      ]
     },
     "execution_count": 8,
     "metadata": {},
     "output_type": "execute_result"
    }
   ],
   "source": [
    "X_new"
   ]
  },
  {
   "cell_type": "code",
   "execution_count": 9,
   "metadata": {},
   "outputs": [
    {
     "data": {
      "text/plain": [
       "array([0.        , 0.00130522, 0.4884654 , 0.678     , 0.0551    ,\n",
       "       0.81818182, 0.0846    , 0.78720453, 1.        , 0.05118925,\n",
       "       0.60009846, 0.8       , 0.87      ])"
      ]
     },
     "execution_count": 9,
     "metadata": {},
     "output_type": "execute_result"
    }
   ],
   "source": [
    "# instantiating scaler\n",
    "scaler = MinMaxScaler()\n",
    "\n",
    "# scaling data\n",
    "# data_fitted = scaler.fit(X_new)\n",
    "data_scaled = scaler.fit_transform(X[columns_for_scaling])\n",
    "\n",
    "# confirming scaling took place\n",
    "data_scaled[0]"
   ]
  },
  {
   "cell_type": "code",
   "execution_count": 13,
   "metadata": {},
   "outputs": [
    {
     "data": {
      "text/plain": [
       "(574018, 13)"
      ]
     },
     "execution_count": 13,
     "metadata": {},
     "output_type": "execute_result"
    }
   ],
   "source": [
    "data_scaled.shape"
   ]
  },
  {
   "cell_type": "markdown",
   "metadata": {},
   "source": [
    "# Normalization - Necessary Part of the Production App"
   ]
  },
  {
   "cell_type": "code",
   "execution_count": 15,
   "metadata": {},
   "outputs": [
    {
     "data": {
      "text/plain": [
       "array([[0.00000000e+00, 1.30522088e-03, 4.88465396e-01, ...,\n",
       "        6.00098456e-01, 8.00000000e-01, 8.70000000e-01],\n",
       "       [1.54639175e-01, 4.55823293e-05, 6.63991976e-01, ...,\n",
       "        7.11381219e-01, 8.00000000e-01, 6.21000000e-01],\n",
       "       [1.75257732e-01, 2.77108434e-03, 8.61584754e-01, ...,\n",
       "        3.92549398e-01, 8.00000000e-01, 5.29000000e-01],\n",
       "       ...,\n",
       "       [0.00000000e+00, 7.06827309e-02, 6.15847543e-01, ...,\n",
       "        5.92650255e-01, 8.00000000e-01, 8.20000000e-01],\n",
       "       [1.85567010e-01, 6.42570281e-02, 3.44032096e-01, ...,\n",
       "        6.85254484e-01, 8.00000000e-01, 3.65000000e-01],\n",
       "       [4.84536082e-01, 2.93172691e-02, 3.81143430e-01, ...,\n",
       "        5.03483965e-01, 6.00000000e-01, 1.05000000e-01]])"
      ]
     },
     "execution_count": 15,
     "metadata": {},
     "output_type": "execute_result"
    }
   ],
   "source": [
    "data_scaled"
   ]
  },
  {
   "cell_type": "code",
   "execution_count": 16,
   "metadata": {},
   "outputs": [],
   "source": [
    "columns_for_normalization = columns_for_scaling"
   ]
  },
  {
   "cell_type": "code",
   "execution_count": 18,
   "metadata": {},
   "outputs": [
    {
     "data": {
      "text/plain": [
       "13"
      ]
     },
     "execution_count": 18,
     "metadata": {},
     "output_type": "execute_result"
    }
   ],
   "source": [
    "len(columns_for_normalization)"
   ]
  },
  {
   "cell_type": "code",
   "execution_count": 19,
   "metadata": {},
   "outputs": [],
   "source": [
    "normalizer = Normalizer()\n",
    "data_normalized = normalizer.fit_transform(data_scaled)"
   ]
  },
  {
   "cell_type": "markdown",
   "metadata": {},
   "source": [
    "# K-Nearest Neighbors Classifier w/ Data scaled and Normalized"
   ]
  },
  {
   "cell_type": "code",
   "execution_count": 20,
   "metadata": {},
   "outputs": [],
   "source": [
    "# instantiating model class\n",
    "knn1 = NearestNeighbors(n_neighbors=20,algorithm='kd_tree',n_jobs=-1)\n",
    "\n",
    "# fitting model\n",
    "knn1 = knn1.fit(data_normalized)"
   ]
  },
  {
   "cell_type": "markdown",
   "metadata": {},
   "source": [
    "# Dump Model If n_neighbors param needs to be adjusted"
   ]
  },
  {
   "cell_type": "code",
   "execution_count": 21,
   "metadata": {},
   "outputs": [
    {
     "data": {
      "text/plain": [
       "['./data/slider_model6.joblib']"
      ]
     },
     "execution_count": 21,
     "metadata": {},
     "output_type": "execute_result"
    }
   ],
   "source": [
    "dump(knn1, './data/slider_model6.joblib', compress=True)"
   ]
  },
  {
   "cell_type": "markdown",
   "metadata": {},
   "source": [
    "# Song_ID Array for Predict Flask Function"
   ]
  },
  {
   "cell_type": "code",
   "execution_count": 255,
   "metadata": {},
   "outputs": [],
   "source": [
    "# # converting song id column from df to an array\n",
    "\n",
    "# song_id_array3 = np.array(df['songid'])\n",
    "\n",
    "# filename5 = './data/song_id_array3.pkl'\n",
    "# pickle.dump(song_id_array3, open(filename5, 'wb'))"
   ]
  },
  {
   "cell_type": "markdown",
   "metadata": {},
   "source": [
    "# Loading Joblibbed Model"
   ]
  },
  {
   "cell_type": "code",
   "execution_count": 22,
   "metadata": {},
   "outputs": [],
   "source": [
    "knn1 = load('./data/slider_model6.joblib')"
   ]
  },
  {
   "cell_type": "code",
   "execution_count": 23,
   "metadata": {},
   "outputs": [],
   "source": [
    "# running model to test output\n",
    "knn_results1 = knn1.kneighbors([data_normalized[2]])[1]"
   ]
  },
  {
   "cell_type": "code",
   "execution_count": 25,
   "metadata": {},
   "outputs": [
    {
     "data": {
      "text/plain": [
       "(1, 20)"
      ]
     },
     "execution_count": 25,
     "metadata": {},
     "output_type": "execute_result"
    }
   ],
   "source": [
    "knn_results1.shape"
   ]
  },
  {
   "cell_type": "code",
   "execution_count": 28,
   "metadata": {},
   "outputs": [
    {
     "data": {
      "text/plain": [
       "array([     2,  39565, 265926, 532028, 407709, 438331, 473470, 259888,\n",
       "       420313, 213790, 352801, 303257, 551492, 106525, 452963,  64608,\n",
       "       124604,  46919, 433612, 572160])"
      ]
     },
     "execution_count": 28,
     "metadata": {},
     "output_type": "execute_result"
    }
   ],
   "source": [
    "knn_results1[0]"
   ]
  },
  {
   "cell_type": "code",
   "execution_count": null,
   "metadata": {},
   "outputs": [],
   "source": []
  }
 ],
 "metadata": {
  "kernelspec": {
   "display_name": "model_notebooks",
   "language": "python",
   "name": "model_notebooks"
  },
  "language_info": {
   "codemirror_mode": {
    "name": "ipython",
    "version": 3
   },
   "file_extension": ".py",
   "mimetype": "text/x-python",
   "name": "python",
   "nbconvert_exporter": "python",
   "pygments_lexer": "ipython3",
   "version": "3.7.4"
  }
 },
 "nbformat": 4,
 "nbformat_minor": 4
}
