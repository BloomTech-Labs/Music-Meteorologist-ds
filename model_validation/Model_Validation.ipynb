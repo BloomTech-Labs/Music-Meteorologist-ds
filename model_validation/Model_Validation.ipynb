{
 "cells": [
  {
   "cell_type": "code",
   "execution_count": 4,
   "metadata": {},
   "outputs": [],
   "source": [
    "from sklearn.neighbors import NearestNeighbors\n",
    "from sklearn.preprocessing import StandardScaler, MinMaxScaler\n",
    "from joblib import load\n",
    "import pandas as pd"
   ]
  },
  {
   "cell_type": "markdown",
   "metadata": {},
   "source": [
    "# Test Model by Inputting Artist name and Track name as found verbatim on Spotify"
   ]
  },
  {
   "cell_type": "code",
   "execution_count": 5,
   "metadata": {},
   "outputs": [],
   "source": [
    "rootpath = '/Users/user/Documents/GitHub/Lambda/labs/Music-Meteorologist-ds/'"
   ]
  },
  {
   "cell_type": "code",
   "execution_count": 6,
   "metadata": {},
   "outputs": [],
   "source": [
    "songdf = pd.read_pickle(rootpath + 'data_collection/final_data/DF_v1.pkl')"
   ]
  },
  {
   "cell_type": "code",
   "execution_count": 7,
   "metadata": {},
   "outputs": [],
   "source": [
    "songdf = songdf.reset_index()"
   ]
  },
  {
   "cell_type": "code",
   "execution_count": 8,
   "metadata": {},
   "outputs": [],
   "source": [
    "songdf = songdf.drop(columns=\"index\")"
   ]
  },
  {
   "cell_type": "code",
   "execution_count": 9,
   "metadata": {},
   "outputs": [],
   "source": [
    "songdf.loc[[117524], ['track']] = \"Mashin For Mine / Summer In The City\""
   ]
  },
  {
   "cell_type": "code",
   "execution_count": 12,
   "metadata": {},
   "outputs": [],
   "source": [
    "def predict(artist,track):\n",
    "    similar_songs = []\n",
    "    baseurl = 'https://open.spotify.com/track/'\n",
    "    try: \n",
    "        results = songdf[(songdf[\"artist\"].str.contains(artist,case=False,regex=True)) & (songdf[\"track\"].str.contains(track,case=False,regex=True))]\n",
    "        sourcetrackartist = results['artist'].iloc[0]\n",
    "        sourcetracktrack = results['track'].iloc[0]\n",
    "        sourcetrackid = results['songid'].iloc[0]\n",
    "        results = results.drop([\"artist\",\"track\",\"duration_ms\",\"songid\"],axis=1)\n",
    "        scalar = load(rootpath + 'Flask_API/SOUNDDRIP/models/scalar2.joblib')\n",
    "        dataframe_scaled = scalar.transform(results)\n",
    "        model = load(rootpath + 'Flask_API/SOUNDDRIP/models/model2.joblib')\n",
    "        results = model.kneighbors([dataframe_scaled][0])[1]\n",
    "        song_id_list = load(rootpath + 'Flask_API/SOUNDDRIP/data/song_id_list2.pkl')\n",
    "        for song_row in results[0][1:]:\n",
    "            song_id = song_id_list[song_row]\n",
    "            similar_songs.append(baseurl + song_id)\n",
    "        print(f'Source URL for \"{sourcetracktrack}\" by \"{sourcetrackartist}\":\\n')\n",
    "        print(f'{baseurl + sourcetrackid} \\n')\n",
    "        print(f' Paste Results into your browser: \\n')\n",
    "        return similar_songs\n",
    "    except:\n",
    "        print(\"Song not available try tnother\")"
   ]
  },
  {
   "cell_type": "code",
   "execution_count": 18,
   "metadata": {},
   "outputs": [
    {
     "name": "stdout",
     "output_type": "stream",
     "text": [
      "Source URL for \"Mysterious Blues\" by \"Charles Mingus\":\n",
      "\n",
      "https://open.spotify.com/track/68sul6RgkT96VXCZ6GOw7S \n",
      "\n",
      " Paste Results into your browser: \n",
      "\n"
     ]
    },
    {
     "data": {
      "text/plain": [
       "['https://open.spotify.com/track/07vWECuSPPGuLtgDsKjFpH',\n",
       " 'https://open.spotify.com/track/7pOqhU1qAuztIJAZPE9euA',\n",
       " 'https://open.spotify.com/track/2gvC0LvRT1SywLoAUn6mpJ',\n",
       " 'https://open.spotify.com/track/5kfMK2NR4aHUZihf4X1TmX',\n",
       " 'https://open.spotify.com/track/5RnAqy2y9k8iPPgOgfgnfL',\n",
       " 'https://open.spotify.com/track/5u44fxHnBRTm0fvhJ96xF6',\n",
       " 'https://open.spotify.com/track/66WdiO3hTfALU9XzT5yjQD',\n",
       " 'https://open.spotify.com/track/3k3nVFLnWCkhuKQTZOnioK',\n",
       " 'https://open.spotify.com/track/2uwN3PDudlRkAKE3wA0OqJ',\n",
       " 'https://open.spotify.com/track/2P9pZ7nvNLjbGoyUkDW0uz',\n",
       " 'https://open.spotify.com/track/7hprRJCryRlzKcVWGLmYZ3',\n",
       " 'https://open.spotify.com/track/3AFqF9dB0W2Q330YLINMMg',\n",
       " 'https://open.spotify.com/track/31eivkYRGNUWHvhHKivdu6',\n",
       " 'https://open.spotify.com/track/4ud32i87FJondAYpnVphFD',\n",
       " 'https://open.spotify.com/track/5YlCq3RoCO2YSMiK51x5Jh',\n",
       " 'https://open.spotify.com/track/0gwzu9Q24dIhgkhPdQNaLS',\n",
       " 'https://open.spotify.com/track/3CNEJhpXkoNnEINDEkAq9k',\n",
       " 'https://open.spotify.com/track/0UQUoI94W9xliT8xGlgpDY',\n",
       " 'https://open.spotify.com/track/0ZzRFRDztzbdH0w2HwyRsm',\n",
       " 'https://open.spotify.com/track/4Sr1dLwKBxw6YmJpNZ7Ijz']"
      ]
     },
     "execution_count": 18,
     "metadata": {},
     "output_type": "execute_result"
    }
   ],
   "source": [
    "predict(\"Charles Mingus\",\"Blues\")"
   ]
  },
  {
   "cell_type": "code",
   "execution_count": null,
   "metadata": {},
   "outputs": [],
   "source": []
  }
 ],
 "metadata": {
  "kernelspec": {
   "display_name": "model_validation",
   "language": "python",
   "name": "model_validation"
  },
  "language_info": {
   "codemirror_mode": {
    "name": "ipython",
    "version": 3
   },
   "file_extension": ".py",
   "mimetype": "text/x-python",
   "name": "python",
   "nbconvert_exporter": "python",
   "pygments_lexer": "ipython3",
   "version": "3.7.4"
  }
 },
 "nbformat": 4,
 "nbformat_minor": 4
}
