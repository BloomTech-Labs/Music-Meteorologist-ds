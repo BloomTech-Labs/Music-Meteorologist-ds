{
 "cells": [
  {
   "cell_type": "code",
   "execution_count": 24,
   "metadata": {},
   "outputs": [],
   "source": [
    "from sklearn.neighbors import NearestNeighbors\n",
    "from sklearn.preprocessing import StandardScaler, MinMaxScaler\n",
    "from joblib import load\n",
    "import pandas as pd\n",
    "import timeit\n",
    "import numpy as np\n",
    "import pickle"
   ]
  },
  {
   "cell_type": "markdown",
   "metadata": {},
   "source": [
    "# Test Model by Inputting Artist name and Track name as found verbatim on Spotify"
   ]
  },
  {
   "cell_type": "code",
   "execution_count": 2,
   "metadata": {},
   "outputs": [],
   "source": [
    "rootpath = '/Users/user/Documents/GitHub/Lambda/labs/Music-Meteorologist-ds/'"
   ]
  },
  {
   "cell_type": "code",
   "execution_count": 3,
   "metadata": {},
   "outputs": [],
   "source": [
    "songdf = pd.read_pickle(rootpath + 'data_collection/final_data/DF_v1.pkl')"
   ]
  },
  {
   "cell_type": "code",
   "execution_count": 4,
   "metadata": {},
   "outputs": [],
   "source": [
    "songdf = songdf.reset_index()"
   ]
  },
  {
   "cell_type": "code",
   "execution_count": 5,
   "metadata": {},
   "outputs": [],
   "source": [
    "songdf = songdf.drop(columns=\"index\")"
   ]
  },
  {
   "cell_type": "code",
   "execution_count": 6,
   "metadata": {},
   "outputs": [],
   "source": [
    "songdf.loc[[117524], ['track']] = \"Mashin For Mine / Summer In The City\""
   ]
  },
  {
   "cell_type": "code",
   "execution_count": 10,
   "metadata": {},
   "outputs": [],
   "source": [
    "def get_runtime(function):\n",
    "    runtime = timeit.timeit(function,globals=globals(),number=1)\n",
    "    return runtime"
   ]
  },
  {
   "cell_type": "code",
   "execution_count": 35,
   "metadata": {},
   "outputs": [],
   "source": [
    "def predict(artist,track):\n",
    "    similar_songs = []\n",
    "    baseurl = 'https://open.spotify.com/track/'\n",
    "    try: \n",
    "        results = songdf[(songdf[\"artist\"].str.contains(artist,case=False,regex=True)) & (songdf[\"track\"].str.contains(track,case=False,regex=True))]\n",
    "        sourcetrackartist = results['artist'].iloc[0]\n",
    "        sourcetracktrack = results['track'].iloc[0]\n",
    "        sourcetrackid = results['songid'].iloc[0]\n",
    "        results = results.drop([\"artist\",\"track\",\"duration_ms\",\"songid\"],axis=1)\n",
    "        scalar = load(rootpath + 'Flask_API/SOUNDDRIP/models/scalar2.joblib')\n",
    "        dataframe_scaled = scalar.transform(results)\n",
    "        model = load(rootpath + 'Flask_API/SOUNDDRIP/models/model2.joblib')\n",
    "        results = model.kneighbors([dataframe_scaled][0])[1]\n",
    "        song_id_list = load(rootpath + 'Flask_API/SOUNDDRIP/data/song_id_list2.pkl')\n",
    "        for song_row in results[0][1:]:\n",
    "            song_id = song_id_list[song_row]\n",
    "            similar_songs.append(baseurl + song_id)\n",
    "        print(f'Source URL for \"{sourcetracktrack}\" by \"{sourcetrackartist}\":\\n')\n",
    "        print(f'{baseurl + sourcetrackid} \\n')\n",
    "        print(f' Paste Results into your browser or Spotify desktop app: \\n')\n",
    "        return similar_songs\n",
    "    except:\n",
    "        print(\"Song not available try another\")"
   ]
  },
  {
   "cell_type": "code",
   "execution_count": 36,
   "metadata": {},
   "outputs": [
    {
     "name": "stdout",
     "output_type": "stream",
     "text": [
      "Source URL for \"In Spite of Ourselves\" by \"John Prine\":\n",
      "\n",
      "https://open.spotify.com/track/1k691v8ChLgDiuLLKnjyj6 \n",
      "\n",
      " Paste Results into your browser or Spotify desktop app: \n",
      "\n"
     ]
    },
    {
     "data": {
      "text/plain": [
       "4.061245822005731"
      ]
     },
     "execution_count": 36,
     "metadata": {},
     "output_type": "execute_result"
    }
   ],
   "source": [
    "get_runtime('predict(\"John Prine\",\"In Spite\")')"
   ]
  },
  {
   "cell_type": "code",
   "execution_count": 13,
   "metadata": {},
   "outputs": [
    {
     "name": "stdout",
     "output_type": "stream",
     "text": [
      "Source URL for \"In Spite of Ourselves\" by \"John Prine\":\n",
      "\n",
      "https://open.spotify.com/track/1k691v8ChLgDiuLLKnjyj6 \n",
      "\n",
      " Paste Results into your browser or Spotify desktop app: \n",
      "\n"
     ]
    },
    {
     "data": {
      "text/plain": [
       "['https://open.spotify.com/track/1GpBKCgTE36OcXo31Lczfm',\n",
       " 'https://open.spotify.com/track/69c3Wl5T403bSguMAChBrQ',\n",
       " 'https://open.spotify.com/track/5Uj8HsBIMHazq25i01MTBr',\n",
       " 'https://open.spotify.com/track/1mNSRoPAoN46kkWrpPNPbn',\n",
       " 'https://open.spotify.com/track/5bozEdb0TmHWm2l3WycChm',\n",
       " 'https://open.spotify.com/track/7bx61QNxXYml26aIWs1qgq',\n",
       " 'https://open.spotify.com/track/4ttkCOm2gP96QgZ4wIMVup',\n",
       " 'https://open.spotify.com/track/3Mf07yl9BYhL3q2wZdxx6E',\n",
       " 'https://open.spotify.com/track/7t0GWb6NnzQ71vXE8Ck8NQ',\n",
       " 'https://open.spotify.com/track/67rre5G3WNEQVB83vaZ4Ik',\n",
       " 'https://open.spotify.com/track/3FiWMIJGF3bBKTlfgMtSDH',\n",
       " 'https://open.spotify.com/track/3jRHXv5LZLQ8LMVDHR4UYS',\n",
       " 'https://open.spotify.com/track/4w74JUePQ6FfaUlpLAG0En',\n",
       " 'https://open.spotify.com/track/7s8aaehJPGjlsYS2sms535',\n",
       " 'https://open.spotify.com/track/5RtkSGx5aSrPQpdwUq5bfr',\n",
       " 'https://open.spotify.com/track/7BouMSNhqPKQr4UElON59R',\n",
       " 'https://open.spotify.com/track/3xVYHRXGgMISYnyGee9Lkb',\n",
       " 'https://open.spotify.com/track/5cNw7IwtzcZhMA8CDVKTRB',\n",
       " 'https://open.spotify.com/track/2Q4u2zDWQfWc2zgPSEYacO',\n",
       " 'https://open.spotify.com/track/0tP6mrtcLOYPDmE0QNA1Q7']"
      ]
     },
     "execution_count": 13,
     "metadata": {},
     "output_type": "execute_result"
    }
   ],
   "source": [
    "predict(\"John Prine\",\"In Spite\")"
   ]
  },
  {
   "cell_type": "code",
   "execution_count": 28,
   "metadata": {},
   "outputs": [
    {
     "data": {
      "text/plain": [
       "2.3308735379978316"
      ]
     },
     "execution_count": 28,
     "metadata": {},
     "output_type": "execute_result"
    }
   ],
   "source": [
    "get_runtime(\"load(rootpath + 'Flask_API/SOUNDDRIP/data/song_id_list2.pkl')\")"
   ]
  },
  {
   "cell_type": "code",
   "execution_count": 19,
   "metadata": {},
   "outputs": [
    {
     "data": {
      "text/plain": [
       "728156"
      ]
     },
     "execution_count": 19,
     "metadata": {},
     "output_type": "execute_result"
    }
   ],
   "source": [
    "len(song_id_list"
   ]
  },
  {
   "cell_type": "code",
   "execution_count": 22,
   "metadata": {},
   "outputs": [],
   "source": [
    "song_id_array = np.asarray(song_id_list)"
   ]
  },
  {
   "cell_type": "code",
   "execution_count": 29,
   "metadata": {},
   "outputs": [
    {
     "data": {
      "text/plain": [
       "0.06417388599948026"
      ]
     },
     "execution_count": 29,
     "metadata": {},
     "output_type": "execute_result"
    }
   ],
   "source": [
    "get_runtime('load(\"./song_id_array.pkl\")')"
   ]
  },
  {
   "cell_type": "code",
   "execution_count": 30,
   "metadata": {},
   "outputs": [],
   "source": [
    "song_id_array = load(\"./song_id_array.pkl\")"
   ]
  },
  {
   "cell_type": "code",
   "execution_count": 31,
   "metadata": {},
   "outputs": [
    {
     "data": {
      "text/plain": [
       "728156"
      ]
     },
     "execution_count": 31,
     "metadata": {},
     "output_type": "execute_result"
    }
   ],
   "source": [
    "len(song_id_array)"
   ]
  },
  {
   "cell_type": "code",
   "execution_count": 37,
   "metadata": {},
   "outputs": [],
   "source": [
    "def predict(artist,track):\n",
    "    similar_songs = []\n",
    "    baseurl = 'https://open.spotify.com/track/'\n",
    "    try: \n",
    "        results = songdf[(songdf[\"artist\"].str.contains(artist,case=False,regex=True)) & (songdf[\"track\"].str.contains(track,case=False,regex=True))]\n",
    "        sourcetrackartist = results['artist'].iloc[0]\n",
    "        sourcetracktrack = results['track'].iloc[0]\n",
    "        sourcetrackid = results['songid'].iloc[0]\n",
    "        results = results.drop([\"artist\",\"track\",\"duration_ms\",\"songid\"],axis=1)\n",
    "        scalar = load(rootpath + 'Flask_API/SOUNDDRIP/models/scalar2.joblib')\n",
    "        dataframe_scaled = scalar.transform(results)\n",
    "        model = load(rootpath + 'Flask_API/SOUNDDRIP/models/model2.joblib')\n",
    "        results = model.kneighbors([dataframe_scaled][0])[1]\n",
    "        song_id_array = load(\"./song_id_array.pkl\")\n",
    "        for song_row in results[0][1:]:\n",
    "            song_id = song_id_array[song_row]\n",
    "            similar_songs.append(baseurl + song_id)\n",
    "        print(f'Source URL for \"{sourcetracktrack}\" by \"{sourcetrackartist}\":\\n')\n",
    "        print(f'{baseurl + sourcetrackid} \\n')\n",
    "        print(f' Paste Results into your browser or Spotify desktop app: \\n')\n",
    "        return similar_songs\n",
    "    except:\n",
    "        print(\"Song not available try another\")"
   ]
  },
  {
   "cell_type": "code",
   "execution_count": 38,
   "metadata": {},
   "outputs": [
    {
     "name": "stdout",
     "output_type": "stream",
     "text": [
      "Source URL for \"In Spite of Ourselves\" by \"John Prine\":\n",
      "\n",
      "https://open.spotify.com/track/1k691v8ChLgDiuLLKnjyj6 \n",
      "\n",
      " Paste Results into your browser or Spotify desktop app: \n",
      "\n"
     ]
    },
    {
     "data": {
      "text/plain": [
       "1.896755433997896"
      ]
     },
     "execution_count": 38,
     "metadata": {},
     "output_type": "execute_result"
    }
   ],
   "source": [
    "get_runtime('predict(\"John Prine\",\"In Spite\")')"
   ]
  },
  {
   "cell_type": "code",
   "execution_count": null,
   "metadata": {},
   "outputs": [],
   "source": []
  }
 ],
 "metadata": {
  "kernelspec": {
   "display_name": "Python 3.8.1 64-bit ('sound_drip': conda)",
   "language": "python",
   "name": "python38164bitsounddripcondaa88c6a5ea4794892a06f49613f47c5a4"
  },
  "language_info": {
   "codemirror_mode": {
    "name": "ipython",
    "version": 3
   },
   "file_extension": ".py",
   "mimetype": "text/x-python",
   "name": "python",
   "nbconvert_exporter": "python",
   "pygments_lexer": "ipython3",
   "version": "3.8.1"
  }
 },
 "nbformat": 4,
 "nbformat_minor": 4
}
