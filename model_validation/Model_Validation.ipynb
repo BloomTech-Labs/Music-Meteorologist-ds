{
 "cells": [
  {
   "cell_type": "code",
   "execution_count": 32,
   "metadata": {},
   "outputs": [],
   "source": [
    "from sklearn.neighbors import NearestNeighbors\n",
    "from sklearn.preprocessing import StandardScaler, MinMaxScaler\n",
    "from joblib import load\n",
    "import pandas as pd"
   ]
  },
  {
   "cell_type": "markdown",
   "metadata": {},
   "source": [
    "# Test Model by Inputting Artist name and Track name as found verbatim on Spotify"
   ]
  },
  {
   "cell_type": "code",
   "execution_count": 33,
   "metadata": {},
   "outputs": [],
   "source": [
    "rootpath = '/Users/user/Documents/GitHub/Lambda/labs/Music-Meteorologist-ds/'"
   ]
  },
  {
   "cell_type": "code",
   "execution_count": 34,
   "metadata": {},
   "outputs": [],
   "source": [
    "songdf = pd.read_pickle(rootpath + 'data_collection/final_data/DF_v1.pkl')"
   ]
  },
  {
   "cell_type": "code",
   "execution_count": 45,
   "metadata": {},
   "outputs": [],
   "source": [
    "def predict(songdf,artist,track):\n",
    "    similar_songs = []\n",
    "    baseurl = 'https://open.spotify.com/track/'\n",
    "    results = songdf[(songdf[\"artist\"].str.contains(artist)) & (songdf[\"track\"].str.contains(track))]\n",
    "    sourcetrack = results['songid'].iloc[0]\n",
    "    results = results.drop([\"artist\",\"track\",\"duration_ms\",\"songid\"],axis=1)\n",
    "    scalar = load(rootpath + 'Flask_API/SOUNDDRIP/models/scalar2.joblib')\n",
    "    dataframe_scaled = scalar.transform(results)\n",
    "    model = load(rootpath + 'Flask_API/SOUNDDRIP/models/model2.joblib')\n",
    "    results = model.kneighbors([dataframe_scaled][0])[1]\n",
    "    song_id_list = load(rootpath + 'Flask_API/SOUNDDRIP/data/song_id_list2.pkl')\n",
    "    for song_row in results[0][1:]:\n",
    "        song_id = song_id_list[song_row]\n",
    "        similar_songs.append(baseurl + song_id)\n",
    "    print(f'Source URL for \"{track}\" by \"{artist}\":\\n')\n",
    "    print(f'{baseurl + sourcetrack} \\n')\n",
    "    print(f' Paste Results into your browser: \\n')\n",
    "    return similar_songs"
   ]
  },
  {
   "cell_type": "code",
   "execution_count": 46,
   "metadata": {},
   "outputs": [
    {
     "name": "stdout",
     "output_type": "stream",
     "text": [
      "Source URL for \"We Are One\" by \"The Offspring\":\n",
      "\n",
      "https://open.spotify.com/track/5jSBMsmCD2saSHxFNhcklm \n",
      "\n",
      " Paste Results into your browser: \n",
      "\n"
     ]
    },
    {
     "data": {
      "text/plain": [
       "['https://open.spotify.com/track/1EQazXNkdLui1FPmCfmKwQ',\n",
       " 'https://open.spotify.com/track/5dSDProyMRkcQjYUX9hxvu',\n",
       " 'https://open.spotify.com/track/2nN0TuOh8mYG7Gvu5LJTWM',\n",
       " 'https://open.spotify.com/track/7dFV6iIkHlhQDIkmx3o2Hf',\n",
       " 'https://open.spotify.com/track/3gEqeV6EwaOEy4p7hrTPCW',\n",
       " 'https://open.spotify.com/track/46ey5AuTuH6EsoevCpWjbm',\n",
       " 'https://open.spotify.com/track/4iaYoP7xHTwhLHGHBLlY0I',\n",
       " 'https://open.spotify.com/track/7AJSXNOwmHjCHeYUuy9hnq',\n",
       " 'https://open.spotify.com/track/5x63wo2rvKpRglhsXpJ7f4',\n",
       " 'https://open.spotify.com/track/1ca9bzgddAFf3d1qs2Hgq2',\n",
       " 'https://open.spotify.com/track/55E87i38kI81gLD2Ccljzy',\n",
       " 'https://open.spotify.com/track/4r9GzEzfq6nfVmThPwUlPO',\n",
       " 'https://open.spotify.com/track/5VVBhrl7kLswWfQFgnYnjc',\n",
       " 'https://open.spotify.com/track/30CWdgDkoMWHlmwuWoBhSx',\n",
       " 'https://open.spotify.com/track/5Sh3ryYxqOqHMW7oCQy9Cs',\n",
       " 'https://open.spotify.com/track/4e831DgyEPaeviCqxCCdeH',\n",
       " 'https://open.spotify.com/track/5Uu0dsqjlIVEy9h6tGIcML',\n",
       " 'https://open.spotify.com/track/2UhDrIkSMDBMpNf67YRAq9',\n",
       " 'https://open.spotify.com/track/6HmrdpoAWsYTC6nE339rE4',\n",
       " 'https://open.spotify.com/track/3FxfjoFarSIWKtAXk7TBOE']"
      ]
     },
     "execution_count": 46,
     "metadata": {},
     "output_type": "execute_result"
    }
   ],
   "source": [
    "predict(songdf,\"The Offspring\",\"We Are One\")"
   ]
  },
  {
   "cell_type": "code",
   "execution_count": null,
   "metadata": {},
   "outputs": [],
   "source": []
  }
 ],
 "metadata": {
  "kernelspec": {
   "display_name": "model_validation",
   "language": "python",
   "name": "model_validation"
  },
  "language_info": {
   "codemirror_mode": {
    "name": "ipython",
    "version": 3
   },
   "file_extension": ".py",
   "mimetype": "text/x-python",
   "name": "python",
   "nbconvert_exporter": "python",
   "pygments_lexer": "ipython3",
   "version": "3.7.4"
  }
 },
 "nbformat": 4,
 "nbformat_minor": 4
}
