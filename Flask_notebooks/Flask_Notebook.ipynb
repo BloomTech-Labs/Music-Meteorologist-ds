{
 "cells": [
  {
   "cell_type": "code",
   "execution_count": 1,
   "metadata": {},
   "outputs": [],
   "source": [
    "import spotipy\n",
    "import spotipy.util as util\n",
    "from sklearn.neighbors import NearestNeighbors\n",
    "from sklearn.preprocessing import MinMaxScaler, Normalizer\n",
    "import pandas as pd\n",
    "from pandas.io.json import json_normalize\n",
    "from flask import jsonify\n",
    "from joblib import load\n",
    "import pickle\n",
    "import numpy as np\n",
    "from flask import request\n",
    "from joblib import dump\n",
    "from joblib import load\n",
    "import pandas as pd\n",
    "\n",
    "from env_vars import * "
   ]
  },
  {
   "cell_type": "code",
   "execution_count": 122,
   "metadata": {},
   "outputs": [],
   "source": [
    "USERNAME = USERNAME #your spotify username\n",
    "CLIENT_ID = CLIENT_ID #set at your developer account\n",
    "CLIENT_SECRET = CLIENT_SECRET #set at your developer account\n",
    "REDIRECT_URI = 'http://google.com/' #set at your developer account, usually \"http://localhost:8000\"\n",
    "SCOPE = 'user-library-read' # or else\n",
    "# ps. REDIRECT_URI is crucial here. if http://localhost:8000 is not set, or with a single '/' misplaced, it will generate a connection error.\n",
    "\n",
    "# then pass them:\n",
    "\n",
    "token = util.prompt_for_user_token(username = USERNAME, \n",
    "                                   scope = SCOPE, \n",
    "                                   client_id = CLIENT_ID, \n",
    "                                   client_secret = CLIENT_SECRET, \n",
    "                                   redirect_uri = REDIRECT_URI)\n",
    "\n",
    "if token:\n",
    "   sp = spotipy.Spotify(auth=token)"
   ]
  },
  {
   "cell_type": "markdown",
   "metadata": {},
   "source": [
    "# From predict.py - Production"
   ]
  },
  {
   "cell_type": "code",
   "execution_count": 3,
   "metadata": {},
   "outputs": [],
   "source": [
    "def instantiate_sp(token):\n",
    "    sp = spotipy.Spotify(auth=token)\n",
    "    return sp"
   ]
  },
  {
   "cell_type": "code",
   "execution_count": 4,
   "metadata": {},
   "outputs": [
    {
     "data": {
      "text/plain": [
       "<spotipy.client.Spotify at 0x124937ed0>"
      ]
     },
     "execution_count": 4,
     "metadata": {},
     "output_type": "execute_result"
    }
   ],
   "source": [
    "instantiate_sp(token)"
   ]
  },
  {
   "cell_type": "code",
   "execution_count": 5,
   "metadata": {},
   "outputs": [],
   "source": [
    "def get_user_song_id(sp):\n",
    "    results = sp.current_user_saved_tracks()\n",
    "    genre = []\n",
    "    counter = 0 \n",
    "    for song_number in range(0,19):\n",
    "        counter += 1 \n",
    "        song_id = results['items'][song_number]['track']['id']\n",
    "        artist_id = get_artist_id(song_id)\n",
    "        genre = get_genres(artist_id)\n",
    "        if genre != []:\n",
    "            break\n",
    "    return song_id"
   ]
  },
  {
   "cell_type": "code",
   "execution_count": 6,
   "metadata": {},
   "outputs": [],
   "source": [
    "def get_acoustical_features(song_id,sp):\n",
    "    return sp.audio_features(song_id)[0]"
   ]
  },
  {
   "cell_type": "code",
   "execution_count": 7,
   "metadata": {},
   "outputs": [],
   "source": [
    "def get_popularity(trackID):\n",
    "    return sp.track(trackID)['popularity']"
   ]
  },
  {
   "cell_type": "code",
   "execution_count": 8,
   "metadata": {},
   "outputs": [],
   "source": [
    "def get_artist_id(trackID):\n",
    "    return sp.track(trackID)['artists'][0]['id']"
   ]
  },
  {
   "cell_type": "code",
   "execution_count": 9,
   "metadata": {},
   "outputs": [],
   "source": [
    "def get_genres(artistID):\n",
    "    return sp.artist(artistID)['genres']"
   ]
  },
  {
   "cell_type": "code",
   "execution_count": 10,
   "metadata": {},
   "outputs": [],
   "source": [
    "song_id = get_user_song_id(instantiate_sp(token))"
   ]
  },
  {
   "cell_type": "code",
   "execution_count": 11,
   "metadata": {},
   "outputs": [
    {
     "data": {
      "text/plain": [
       "'1WbwlYiiMZGQlrFGirRnHv'"
      ]
     },
     "execution_count": 11,
     "metadata": {},
     "output_type": "execute_result"
    }
   ],
   "source": [
    "song_id"
   ]
  },
  {
   "cell_type": "markdown",
   "metadata": {},
   "source": [
    "# Production Flask Predict function"
   ]
  },
  {
   "cell_type": "code",
   "execution_count": 12,
   "metadata": {},
   "outputs": [],
   "source": [
    "def get_features(song_id,sp):\n",
    "    results_dict = sp.audio_features(song_id)[0]\n",
    "    audio_features = {\n",
    "        \"audio_features\": {\n",
    "            key: results_dict[key] for key in results_dict.keys() & {\n",
    "                'danceability',\n",
    "                'energy',\n",
    "                'key',\n",
    "                'loudness',\n",
    "                'mode',\n",
    "                'speechiness',\n",
    "                'acousticness',\n",
    "                'instrumentalness',\n",
    "                'liveness',\n",
    "                'valence',\n",
    "                'tempo',\n",
    "                'time_signature'}}}\n",
    "\n",
    "    return audio_features"
   ]
  },
  {
   "cell_type": "code",
   "execution_count": 13,
   "metadata": {},
   "outputs": [],
   "source": [
    "def predict(content):\n",
    "    similar_songs = []\n",
    "    print('Loading dataframe...')\n",
    "    dataframe = pd.DataFrame.from_dict(\n",
    "        json_normalize(content['audio_features']),\n",
    "                                orient='columns')\n",
    "    print(dataframe)\n",
    "    print('Dataframe Object Created')\n",
    "    print('Loading pickled scaler...')\n",
    "    scalar = load('./models/scalar2.joblib')\n",
    "    print('Pickled scaler loaded')\n",
    "    print('Scaling dataframe object...')\n",
    "    df_array = np.array(dataframe)\n",
    "    print(df_array)\n",
    "    dataframe_scaled = scalar.transform(df_array)\n",
    "    print(dataframe_scaled)\n",
    "    print('Dataframe scaled')\n",
    "    print('Loading pickled model...')\n",
    "    model = load('./models/model2.joblib')\n",
    "    print('Model loaded')\n",
    "    results = model.kneighbors([dataframe_scaled][0])[1]\n",
    "    print('Prediction executed')\n",
    "    print('song_id_list loading...')\n",
    "    song_id_list = load('./data/song_id_list2.joblib')\n",
    "    print('song_id_list loaded')\n",
    "    \n",
    "    print('beginning for loop...')\n",
    "    for song_row in results[0][1:]:\n",
    "        song_id = song_id_list[song_row]\n",
    "        similar_songs.append({'similarity': [.99], 'values': song_id})\n",
    "    json_dict = {\"songs\": similar_songs}\n",
    "    return json_dict"
   ]
  },
  {
   "cell_type": "code",
   "execution_count": 14,
   "metadata": {},
   "outputs": [
    {
     "name": "stdout",
     "output_type": "stream",
     "text": [
      "Loading dataframe...\n",
      "   danceability  energy    tempo  speechiness  key  liveness  valence  \\\n",
      "0          0.62   0.231  104.853       0.0486   11    0.0741    0.053   \n",
      "\n",
      "   instrumentalness  loudness  time_signature  acousticness  mode  \n",
      "0             0.911   -23.873               4         0.961     1  \n",
      "Dataframe Object Created\n",
      "Loading pickled scaler...\n",
      "Pickled scaler loaded\n",
      "Scaling dataframe object...\n",
      "[[ 6.20000e-01  2.31000e-01  1.04853e+02  4.86000e-02  1.10000e+01\n",
      "   7.41000e-02  5.30000e-02  9.11000e-01 -2.38730e+01  4.00000e+00\n",
      "   9.61000e-01  1.00000e+00]]\n",
      "[[ 6.22489960e-01  2.31695085e-01  1.04853000e+02  4.86000000e-02\n",
      "   1.00000000e+00  7.41000000e-02  9.05285215e-01  9.11000000e-01\n",
      "  -2.46621901e+01  1.60010881e-02  1.92200000e-01  1.00000000e+00]]\n",
      "Dataframe scaled\n",
      "Loading pickled model...\n",
      "Model loaded\n",
      "Prediction executed\n",
      "song_id_list loading...\n",
      "song_id_list loaded\n",
      "beginning for loop...\n"
     ]
    },
    {
     "data": {
      "text/plain": [
       "{'songs': [{'similarity': [0.99], 'values': '5JCOty8yyvF9TViLuErnGs'},\n",
       "  {'similarity': [0.99], 'values': '6TlIKA2WbzqMe5XYSfZlAN'},\n",
       "  {'similarity': [0.99], 'values': '55GUHzqAzcnLQxxXUzUXBG'},\n",
       "  {'similarity': [0.99], 'values': '25KWesixaxoMc9pw0yKTJ5'},\n",
       "  {'similarity': [0.99], 'values': '3ga81Ra1zTzxrdl1QEi1Vq'},\n",
       "  {'similarity': [0.99], 'values': '0YsxUUcK9nAbDBMKyAQrxK'},\n",
       "  {'similarity': [0.99], 'values': '41hQCtZslX1BMRB8bsswlm'},\n",
       "  {'similarity': [0.99], 'values': '3iM84eZQ6JLFfWLcqF9mCd'},\n",
       "  {'similarity': [0.99], 'values': '2BW7QcTMnChZR8XGTVZzf9'},\n",
       "  {'similarity': [0.99], 'values': '53E0iLvaSlApDIcIdL7Q3G'},\n",
       "  {'similarity': [0.99], 'values': '1jb95UllYPKzg0tZaEhj78'},\n",
       "  {'similarity': [0.99], 'values': '6wzvPnGC7pnB2Yms834o1l'},\n",
       "  {'similarity': [0.99], 'values': '4PWlZhmZSuSvfne0jXMNSg'},\n",
       "  {'similarity': [0.99], 'values': '4WnqkG5DAC8GWM6d4Hyqdf'},\n",
       "  {'similarity': [0.99], 'values': '3LCA1ZrMYxeQ9j9ZeIE9uN'},\n",
       "  {'similarity': [0.99], 'values': '4Tr0syfaxqpeq3MlVvmJdb'},\n",
       "  {'similarity': [0.99], 'values': '65FpzER0tiiz7InVpBEOqZ'},\n",
       "  {'similarity': [0.99], 'values': '5ILPFVn0wOiihxfSaSwTkR'},\n",
       "  {'similarity': [0.99], 'values': '2qCHgh9suraXWzvB9kUkmH'},\n",
       "  {'similarity': [0.99], 'values': '0L6sa3YZFykpGrekkYyRTo'}]}"
      ]
     },
     "execution_count": 14,
     "metadata": {},
     "output_type": "execute_result"
    }
   ],
   "source": [
    "predict(get_features(song_id,sp))"
   ]
  },
  {
   "cell_type": "code",
   "execution_count": 15,
   "metadata": {},
   "outputs": [
    {
     "data": {
      "text/plain": [
       "'1WbwlYiiMZGQlrFGirRnHv'"
      ]
     },
     "execution_count": 15,
     "metadata": {},
     "output_type": "execute_result"
    }
   ],
   "source": [
    "song_id"
   ]
  },
  {
   "cell_type": "code",
   "execution_count": 172,
   "metadata": {},
   "outputs": [],
   "source": [
    "class Sound_Drip:\n",
    "    \n",
    "    def __init__(self, token):\n",
    "        self.token = token\n",
    "    \n",
    "    def instantiate_sp(self,token):\n",
    "        sp = spotipy.Spotify(auth=token)\n",
    "        return sp\n",
    "\n",
    "    def get_user_song_id(self,sp):\n",
    "        results = sp.current_user_saved_tracks()\n",
    "        genre = []\n",
    "        counter = 0 \n",
    "        for song_number in range(0,19):\n",
    "            counter += 1 \n",
    "            song_id = results['items'][song_number]['track']['id']\n",
    "            artist_id = get_artist_id(song_id)\n",
    "            genre = get_genres(artist_id)\n",
    "            if genre != []:\n",
    "                break\n",
    "        return song_id\n",
    "\n",
    "    def get_acoustical_features(self,song_id,sp):\n",
    "        acoustical_features = sp.audio_features(song_id)[0]\n",
    "        return acoustical_features\n",
    "\n",
    "    def get_popularity(self, song_id):\n",
    "        popularity =  sp.track(song_id)['popularity']\n",
    "        return popularity\n",
    "\n",
    "    def get_artist_id(self, song_id):\n",
    "        artist = sp.track(song_id)['artists'][0]['id']\n",
    "        return artist\n",
    "\n",
    "    def get_genres(self, artist):\n",
    "        genre = sp.artist(artist)['genres']\n",
    "        return genre\n",
    "    \n",
    "    def create_feature_object(self,popularity, acoustical_features):\n",
    "        popularity_dict = {'popularity': popularity}\n",
    "        song_features = acoustical_features\n",
    "        song_features.update(popularity_dict)\n",
    "        song_features = {\n",
    "    \"audio_features\": {\n",
    "        key: song_features[key] for key in song_features.keys() & {\n",
    "            'popularity',\n",
    "            'acousticness',\n",
    "            'danceability',\n",
    "            'energy',\n",
    "            'instrumentalness',\n",
    "            'key',\n",
    "            'liveness',\n",
    "            'loudness',\n",
    "            'mode',\n",
    "            'speechiness',\n",
    "            'tempo',\n",
    "            'time_signature',\n",
    "            'valence'}}}\n",
    "\n",
    "        df = pd.DataFrame.from_dict(json_normalize(song_features[\"audio_features\"]),orient='columns')   \n",
    "        df = df.reindex(sorted(df.columns), axis=1)\n",
    "        return df\n",
    "    \n",
    "    def filter_model(model_results,source_genre_list): \n",
    "        #loop takes KNN results and filters by source track genres\n",
    "        genre_array = pickle.load(open(\"./data/genres_array_2.pkl\",\"rb\"))\n",
    "        filtered_list = []\n",
    "        song_list_length = 20\n",
    "        for output_song_index in model_results[0][1:]:\n",
    "            output_genre_list = genre_array[output_song_index]\n",
    "            for output_genre in output_genre_list:\n",
    "                output_genre = output_genre.strip(\" \")\n",
    "                for source_genre in source_genre_list:\n",
    "                    source_genre = \"'\" + source_genre + \"'\"\n",
    "                    if source_genre == output_genre:\n",
    "                        filtered_list.append(output_song_index)\n",
    "                    else:\n",
    "                        continue\n",
    "        if len(set(filtered_list)) > song_list_length:\n",
    "            filtered_list = set(filtered_list)\n",
    "            filtered_list = list(filtered_list)[0:20]\n",
    "        else:\n",
    "            counter = song_list_length - len(set(filtered_list))\n",
    "            print(len(set(filtered_list)))\n",
    "            print(counter)\n",
    "            print(f'need to add {counter} items to final song output')\n",
    "            for output_song_index in model_results[1:]:\n",
    "                if output_song_index not in filtered_list:\n",
    "                    if counter > 0:\n",
    "                        filtered_list.append(output_song_index)\n",
    "                        counter -= 1\n",
    "                    else:\n",
    "                        break\n",
    "        return filtered_list"
   ]
  },
  {
   "cell_type": "code",
   "execution_count": 17,
   "metadata": {},
   "outputs": [],
   "source": [
    "#         audio_features = {\n",
    "#             \"audio_features\": {\n",
    "#                 key: raw_results[key] for key in results_dict.keys() & {\n",
    "#                     'danceability',\n",
    "#                     'energy',\n",
    "#                     'key',\n",
    "#                     'loudness',\n",
    "#                     'mode',\n",
    "#                     'speechiness',\n",
    "#                     'acousticness',\n",
    "#                     'instrumentalness',\n",
    "#                     'liveness',\n",
    "#                     'valence',\n",
    "#                     'tempo',\n",
    "#                     'time_signature'}}}"
   ]
  },
  {
   "cell_type": "code",
   "execution_count": 123,
   "metadata": {},
   "outputs": [],
   "source": [
    "sd = Sound_Drip(token)"
   ]
  },
  {
   "cell_type": "code",
   "execution_count": 124,
   "metadata": {},
   "outputs": [],
   "source": [
    "sp = sd.instantiate_sp(token)"
   ]
  },
  {
   "cell_type": "code",
   "execution_count": 125,
   "metadata": {},
   "outputs": [],
   "source": [
    "song_id = sd.get_user_song_id(sp)"
   ]
  },
  {
   "cell_type": "code",
   "execution_count": 121,
   "metadata": {},
   "outputs": [
    {
     "data": {
      "text/plain": [
       "'1WbwlYiiMZGQlrFGirRnHv'"
      ]
     },
     "execution_count": 121,
     "metadata": {},
     "output_type": "execute_result"
    }
   ],
   "source": [
    "song_id"
   ]
  },
  {
   "cell_type": "code",
   "execution_count": 22,
   "metadata": {},
   "outputs": [],
   "source": [
    "acoustical_features = sd.get_acoustical_features(song_id, sp)"
   ]
  },
  {
   "cell_type": "code",
   "execution_count": 23,
   "metadata": {},
   "outputs": [
    {
     "data": {
      "text/plain": [
       "'1WbwlYiiMZGQlrFGirRnHv'"
      ]
     },
     "execution_count": 23,
     "metadata": {},
     "output_type": "execute_result"
    }
   ],
   "source": [
    "song_id"
   ]
  },
  {
   "cell_type": "code",
   "execution_count": 24,
   "metadata": {},
   "outputs": [],
   "source": [
    "popularity = sd.get_popularity(song_id)"
   ]
  },
  {
   "cell_type": "code",
   "execution_count": 25,
   "metadata": {},
   "outputs": [
    {
     "data": {
      "text/plain": [
       "31"
      ]
     },
     "execution_count": 25,
     "metadata": {},
     "output_type": "execute_result"
    }
   ],
   "source": [
    "popularity"
   ]
  },
  {
   "cell_type": "code",
   "execution_count": 26,
   "metadata": {},
   "outputs": [],
   "source": [
    "artist = sd.get_artist_id(song_id)"
   ]
  },
  {
   "cell_type": "code",
   "execution_count": 27,
   "metadata": {},
   "outputs": [
    {
     "data": {
      "text/plain": [
       "'5mNY0NPszdalbrb4ITO3M8'"
      ]
     },
     "execution_count": 27,
     "metadata": {},
     "output_type": "execute_result"
    }
   ],
   "source": [
    "artist"
   ]
  },
  {
   "cell_type": "code",
   "execution_count": 28,
   "metadata": {},
   "outputs": [],
   "source": [
    "genre = sd.get_genres(artist)"
   ]
  },
  {
   "cell_type": "code",
   "execution_count": 29,
   "metadata": {},
   "outputs": [
    {
     "data": {
      "text/plain": [
       "['ambient',\n",
       " 'art pop',\n",
       " 'art rock',\n",
       " 'berlin school',\n",
       " 'canterbury scene',\n",
       " 'drone',\n",
       " 'experimental',\n",
       " 'experimental pop',\n",
       " 'experimental rock',\n",
       " 'fourth world',\n",
       " 'free improvisation',\n",
       " 'industrial',\n",
       " 'krautrock',\n",
       " 'no wave',\n",
       " 'post-punk']"
      ]
     },
     "execution_count": 29,
     "metadata": {},
     "output_type": "execute_result"
    }
   ],
   "source": [
    "genre"
   ]
  },
  {
   "cell_type": "code",
   "execution_count": 30,
   "metadata": {},
   "outputs": [],
   "source": [
    "song_features = sd.create_feature_object(popularity, acoustical_features)"
   ]
  },
  {
   "cell_type": "code",
   "execution_count": 31,
   "metadata": {},
   "outputs": [
    {
     "data": {
      "text/html": [
       "<div>\n",
       "<style scoped>\n",
       "    .dataframe tbody tr th:only-of-type {\n",
       "        vertical-align: middle;\n",
       "    }\n",
       "\n",
       "    .dataframe tbody tr th {\n",
       "        vertical-align: top;\n",
       "    }\n",
       "\n",
       "    .dataframe thead th {\n",
       "        text-align: right;\n",
       "    }\n",
       "</style>\n",
       "<table border=\"1\" class=\"dataframe\">\n",
       "  <thead>\n",
       "    <tr style=\"text-align: right;\">\n",
       "      <th></th>\n",
       "      <th>acousticness</th>\n",
       "      <th>danceability</th>\n",
       "      <th>energy</th>\n",
       "      <th>instrumentalness</th>\n",
       "      <th>key</th>\n",
       "      <th>liveness</th>\n",
       "      <th>loudness</th>\n",
       "      <th>mode</th>\n",
       "      <th>popularity</th>\n",
       "      <th>speechiness</th>\n",
       "      <th>tempo</th>\n",
       "      <th>time_signature</th>\n",
       "      <th>valence</th>\n",
       "    </tr>\n",
       "  </thead>\n",
       "  <tbody>\n",
       "    <tr>\n",
       "      <th>0</th>\n",
       "      <td>0.961</td>\n",
       "      <td>0.62</td>\n",
       "      <td>0.231</td>\n",
       "      <td>0.911</td>\n",
       "      <td>11</td>\n",
       "      <td>0.0741</td>\n",
       "      <td>-23.873</td>\n",
       "      <td>1</td>\n",
       "      <td>31</td>\n",
       "      <td>0.0486</td>\n",
       "      <td>104.853</td>\n",
       "      <td>4</td>\n",
       "      <td>0.053</td>\n",
       "    </tr>\n",
       "  </tbody>\n",
       "</table>\n",
       "</div>"
      ],
      "text/plain": [
       "   acousticness  danceability  energy  instrumentalness  key  liveness  \\\n",
       "0         0.961          0.62   0.231             0.911   11    0.0741   \n",
       "\n",
       "   loudness  mode  popularity  speechiness    tempo  time_signature  valence  \n",
       "0   -23.873     1          31       0.0486  104.853               4    0.053  "
      ]
     },
     "execution_count": 31,
     "metadata": {},
     "output_type": "execute_result"
    }
   ],
   "source": [
    "song_features"
   ]
  },
  {
   "cell_type": "code",
   "execution_count": 32,
   "metadata": {},
   "outputs": [],
   "source": [
    "# array([[ 2.0800e-02,  4.4900e-01,  7.0400e-01,  0.0000e+00,  5.0000e+00,\n",
    "#          3.2200e-01, -2.8300e+00,  0.0000e+00,  4.6000e+01,  3.3500e-02,\n",
    "#          7.4985e+01,  4.0000e+00,  2.3400e-01]])"
   ]
  },
  {
   "cell_type": "code",
   "execution_count": 143,
   "metadata": {},
   "outputs": [],
   "source": [
    "## Updated function - Not in Flask - \n",
    "\n",
    "def get_results(song_features_df):\n",
    "    scaler = load(\"./data/scalar3.joblib\")\n",
    "#     print('Scaling data...')\n",
    "    data_scaled = scaler.transform(song_features_df)\n",
    "#     print(data_scaled)\n",
    "#     print('Data scaled')\n",
    "    normalizer = Normalizer()\n",
    "#     print('Normalizing data...')\n",
    "    data_normalized = normalizer.fit_transform(data_scaled)\n",
    "#     print(data_normalized)\n",
    "#     print('Data normalized')\n",
    "#     print('Loading pickled model...')\n",
    "    model = load('./models/model5.joblib')\n",
    "    results = model.kneighbors([data_normalized][0])[1:]\n",
    "    print('Prediction executed')\n",
    "    return results[0]"
   ]
  },
  {
   "cell_type": "code",
   "execution_count": 137,
   "metadata": {},
   "outputs": [
    {
     "data": {
      "text/plain": [
       "array([[222673, 188930, 389656, ..., 113323, 198794,  52503]])"
      ]
     },
     "execution_count": 137,
     "metadata": {},
     "output_type": "execute_result"
    }
   ],
   "source": [
    "get_results(song_features)"
   ]
  },
  {
   "cell_type": "code",
   "execution_count": 138,
   "metadata": {},
   "outputs": [],
   "source": [
    "results = get_results(song_features)"
   ]
  },
  {
   "cell_type": "code",
   "execution_count": 139,
   "metadata": {},
   "outputs": [
    {
     "data": {
      "text/plain": [
       "array([188930, 389656, 546188, 492763, 448984, 570380, 526192, 569447,\n",
       "       490760])"
      ]
     },
     "execution_count": 139,
     "metadata": {},
     "output_type": "execute_result"
    }
   ],
   "source": [
    "results[0][1:10]"
   ]
  },
  {
   "cell_type": "code",
   "execution_count": 148,
   "metadata": {},
   "outputs": [],
   "source": [
    "song_id_array = pickle.load(open(\"./data/song_id_array3.pkl\",\"rb\"))"
   ]
  },
  {
   "cell_type": "code",
   "execution_count": 154,
   "metadata": {},
   "outputs": [
    {
     "data": {
      "text/plain": [
       "'41RpZW2lxAdnqDd2nMBzLQ'"
      ]
     },
     "execution_count": 154,
     "metadata": {},
     "output_type": "execute_result"
    }
   ],
   "source": [
    "song_id_array[1]"
   ]
  },
  {
   "cell_type": "code",
   "execution_count": 157,
   "metadata": {},
   "outputs": [],
   "source": [
    "def song_id_prediction_output(filtered_list): \n",
    "    similar_songs = []\n",
    "    print('song_id_list loading...')\n",
    "    song_id_array = pickle.load(open('./data/song_id_array3.pkl', 'rb'))\n",
    "    print('song_id_list loaded')\n",
    "    print('beginning for loop...')\n",
    "    for song_row in filtered_list:\n",
    "        song_id = song_id_array[song_row]\n",
    "        similar_songs.append({'similarity': [.99], 'values': song_id})\n",
    "    json_dict = {\"songs\": similar_songs}\n",
    "    print(\"Results returned\")\n",
    "    return json_dict"
   ]
  },
  {
   "cell_type": "code",
   "execution_count": 171,
   "metadata": {},
   "outputs": [
    {
     "name": "stdout",
     "output_type": "stream",
     "text": [
      "song_id_list loading...\n",
      "song_id_list loaded\n",
      "beginning for loop...\n",
      "Results returned\n"
     ]
    },
    {
     "data": {
      "text/plain": [
       "{'songs': [{'similarity': [0.99], 'values': '2C1FzUUtHp31ZdQsTGDM2f'},\n",
       "  {'similarity': [0.99], 'values': '1NVsdk9Z0xNG2sUhZmkbD0'},\n",
       "  {'similarity': [0.99], 'values': '5SwPRje7oQV5RP0saxoZp8'},\n",
       "  {'similarity': [0.99], 'values': '5RrWu7ddslbnrRImeW7LOs'},\n",
       "  {'similarity': [0.99], 'values': '0FQjfJB4cdkVfxZHz8RV4M'},\n",
       "  {'similarity': [0.99], 'values': '6PF0WYSCH6OhGKHRHOQSxG'},\n",
       "  {'similarity': [0.99], 'values': '6vEAyRqugkWBfQpccdiWFU'},\n",
       "  {'similarity': [0.99], 'values': '7g7aNOC904ne2PUc14Xevb'},\n",
       "  {'similarity': [0.99], 'values': '4jJwm24UagUP51wTp657Xp'},\n",
       "  {'similarity': [0.99], 'values': '6roY6Z2b0Q7DH3ZM4SRoTz'},\n",
       "  {'similarity': [0.99], 'values': '5wmn1zWhSSDLUmLLwYO9Rj'},\n",
       "  {'similarity': [0.99], 'values': '34tFidHrETMAjsiK87WVVW'},\n",
       "  {'similarity': [0.99], 'values': '0rUyA7P4nPKCRVvKhFo7XL'},\n",
       "  {'similarity': [0.99], 'values': '5i2859ZJXGPOzDwdZSOMiH'},\n",
       "  {'similarity': [0.99], 'values': '3QOQEObqJvCi4M2SNeko7V'},\n",
       "  {'similarity': [0.99], 'values': '2raNLL2FWxWNA4veLZIuAj'},\n",
       "  {'similarity': [0.99], 'values': '5UORiENC2iuNTFWopBTJKV'},\n",
       "  {'similarity': [0.99], 'values': '4vTZpkN2Ri8Lfk2149NqWC'},\n",
       "  {'similarity': [0.99], 'values': '56RfNBJGUgL1ZFCB1KEJrQ'},\n",
       "  {'similarity': [0.99], 'values': '2jw0Fejobu4pxfJ1RRNT4W'}]}"
      ]
     },
     "execution_count": 171,
     "metadata": {},
     "output_type": "execute_result"
    }
   ],
   "source": [
    "song_id_prediction_output(filtered_list)"
   ]
  },
  {
   "cell_type": "markdown",
   "metadata": {},
   "source": [
    "# For prediction.py - New Functions"
   ]
  },
  {
   "cell_type": "code",
   "execution_count": 69,
   "metadata": {},
   "outputs": [],
   "source": []
  },
  {
   "cell_type": "code",
   "execution_count": 168,
   "metadata": {},
   "outputs": [],
   "source": [
    "def filter_model(model_results,source_genre_list): \n",
    "    #loop takes KNN results and filters by source track genres\n",
    "    genre_array = pickle.load(open(\"./data/genres_array_2.pkl\",\"rb\"))\n",
    "    filtered_list = []\n",
    "    song_list_length = 20\n",
    "    for output_song_index in model_results[0][1:]:\n",
    "        output_genre_list = genre_array[output_song_index]\n",
    "        for output_genre in output_genre_list:\n",
    "            output_genre = output_genre.strip(\" \")\n",
    "            for source_genre in source_genre_list:\n",
    "                source_genre = \"'\" + source_genre + \"'\"\n",
    "                if source_genre == output_genre:\n",
    "                    filtered_list.append(output_song_index)\n",
    "                else:\n",
    "                    continue\n",
    "    if len(set(filtered_list)) > song_list_length:\n",
    "        filtered_list = set(filtered_list)\n",
    "        filtered_list = list(filtered_list)[0:20]\n",
    "    else:\n",
    "        counter = song_list_length - len(set(filtered_list))\n",
    "        print(len(set(filtered_list)))\n",
    "        print(counter)\n",
    "        print(f'need to add {counter} items to final song output')\n",
    "        for output_song_index in model_results[1:]:\n",
    "            if output_song_index not in filtered_list:\n",
    "                if counter > 0:\n",
    "                    filtered_list.append(output_song_index)\n",
    "                    counter -= 1\n",
    "                else:\n",
    "                    break\n",
    "    return filtered_list    "
   ]
  },
  {
   "cell_type": "code",
   "execution_count": 169,
   "metadata": {},
   "outputs": [],
   "source": [
    "# results = predictfunc(song_features)\n",
    "source_genre_list = (get_genres(get_artist_id(song_id)))\n",
    "# source_genre_list =['techno']\n",
    "# print(source_genre_list)\n",
    "filtered_list = filter_model(results,source_genre_list)"
   ]
  },
  {
   "cell_type": "code",
   "execution_count": 170,
   "metadata": {},
   "outputs": [
    {
     "data": {
      "text/plain": [
       "20"
      ]
     },
     "execution_count": 170,
     "metadata": {},
     "output_type": "execute_result"
    }
   ],
   "source": [
    "len(filtered_list)"
   ]
  },
  {
   "cell_type": "code",
   "execution_count": 261,
   "metadata": {},
   "outputs": [
    {
     "data": {
      "text/plain": [
       "4999"
      ]
     },
     "execution_count": 261,
     "metadata": {},
     "output_type": "execute_result"
    }
   ],
   "source": [
    "len(results[1:])"
   ]
  },
  {
   "cell_type": "markdown",
   "metadata": {},
   "source": [
    "# Sandbox - Play Dirty!"
   ]
  },
  {
   "cell_type": "code",
   "execution_count": 53,
   "metadata": {},
   "outputs": [],
   "source": [
    "# import numpy as np\n",
    "\n",
    "# old_song_list = load('data/song_id_list2(1).joblib')\n",
    "\n",
    "# old_song_array = np.array(old_song_list)\n",
    "\n",
    "# pickle.dump(old_song_array, open('data/old_song_array.pkl', 'wb'))"
   ]
  },
  {
   "cell_type": "code",
   "execution_count": 152,
   "metadata": {},
   "outputs": [],
   "source": []
  },
  {
   "cell_type": "code",
   "execution_count": 74,
   "metadata": {},
   "outputs": [
    {
     "ename": "ReadTimeout",
     "evalue": "HTTPSConnectionPool(host='api.spotify.com', port=443): Read timed out. (read timeout=None)",
     "output_type": "error",
     "traceback": [
      "\u001b[0;31m---------------------------------------------------------------------------\u001b[0m",
      "\u001b[0;31mTimeoutError\u001b[0m                              Traceback (most recent call last)",
      "\u001b[0;32m/Library/Frameworks/Python.framework/Versions/3.7/lib/python3.7/site-packages/urllib3/connectionpool.py\u001b[0m in \u001b[0;36m_make_request\u001b[0;34m(self, conn, method, url, timeout, chunked, **httplib_request_kw)\u001b[0m\n\u001b[1;32m    420\u001b[0m                     \u001b[0;31m# Otherwise it looks like a bug in the code.\u001b[0m\u001b[0;34m\u001b[0m\u001b[0;34m\u001b[0m\u001b[0;34m\u001b[0m\u001b[0m\n\u001b[0;32m--> 421\u001b[0;31m                     \u001b[0msix\u001b[0m\u001b[0;34m.\u001b[0m\u001b[0mraise_from\u001b[0m\u001b[0;34m(\u001b[0m\u001b[0me\u001b[0m\u001b[0;34m,\u001b[0m \u001b[0;32mNone\u001b[0m\u001b[0;34m)\u001b[0m\u001b[0;34m\u001b[0m\u001b[0;34m\u001b[0m\u001b[0m\n\u001b[0m\u001b[1;32m    422\u001b[0m         \u001b[0;32mexcept\u001b[0m \u001b[0;34m(\u001b[0m\u001b[0mSocketTimeout\u001b[0m\u001b[0;34m,\u001b[0m \u001b[0mBaseSSLError\u001b[0m\u001b[0;34m,\u001b[0m \u001b[0mSocketError\u001b[0m\u001b[0;34m)\u001b[0m \u001b[0;32mas\u001b[0m \u001b[0me\u001b[0m\u001b[0;34m:\u001b[0m\u001b[0;34m\u001b[0m\u001b[0;34m\u001b[0m\u001b[0m\n",
      "\u001b[0;32m/Library/Frameworks/Python.framework/Versions/3.7/lib/python3.7/site-packages/urllib3/packages/six.py\u001b[0m in \u001b[0;36mraise_from\u001b[0;34m(value, from_value)\u001b[0m\n",
      "\u001b[0;32m/Library/Frameworks/Python.framework/Versions/3.7/lib/python3.7/site-packages/urllib3/connectionpool.py\u001b[0m in \u001b[0;36m_make_request\u001b[0;34m(self, conn, method, url, timeout, chunked, **httplib_request_kw)\u001b[0m\n\u001b[1;32m    415\u001b[0m                 \u001b[0;32mtry\u001b[0m\u001b[0;34m:\u001b[0m\u001b[0;34m\u001b[0m\u001b[0;34m\u001b[0m\u001b[0m\n\u001b[0;32m--> 416\u001b[0;31m                     \u001b[0mhttplib_response\u001b[0m \u001b[0;34m=\u001b[0m \u001b[0mconn\u001b[0m\u001b[0;34m.\u001b[0m\u001b[0mgetresponse\u001b[0m\u001b[0;34m(\u001b[0m\u001b[0;34m)\u001b[0m\u001b[0;34m\u001b[0m\u001b[0;34m\u001b[0m\u001b[0m\n\u001b[0m\u001b[1;32m    417\u001b[0m                 \u001b[0;32mexcept\u001b[0m \u001b[0mBaseException\u001b[0m \u001b[0;32mas\u001b[0m \u001b[0me\u001b[0m\u001b[0;34m:\u001b[0m\u001b[0;34m\u001b[0m\u001b[0;34m\u001b[0m\u001b[0m\n",
      "\u001b[0;32m/Library/Frameworks/Python.framework/Versions/3.7/lib/python3.7/http/client.py\u001b[0m in \u001b[0;36mgetresponse\u001b[0;34m(self)\u001b[0m\n\u001b[1;32m   1335\u001b[0m             \u001b[0;32mtry\u001b[0m\u001b[0;34m:\u001b[0m\u001b[0;34m\u001b[0m\u001b[0;34m\u001b[0m\u001b[0m\n\u001b[0;32m-> 1336\u001b[0;31m                 \u001b[0mresponse\u001b[0m\u001b[0;34m.\u001b[0m\u001b[0mbegin\u001b[0m\u001b[0;34m(\u001b[0m\u001b[0;34m)\u001b[0m\u001b[0;34m\u001b[0m\u001b[0;34m\u001b[0m\u001b[0m\n\u001b[0m\u001b[1;32m   1337\u001b[0m             \u001b[0;32mexcept\u001b[0m \u001b[0mConnectionError\u001b[0m\u001b[0;34m:\u001b[0m\u001b[0;34m\u001b[0m\u001b[0;34m\u001b[0m\u001b[0m\n",
      "\u001b[0;32m/Library/Frameworks/Python.framework/Versions/3.7/lib/python3.7/http/client.py\u001b[0m in \u001b[0;36mbegin\u001b[0;34m(self)\u001b[0m\n\u001b[1;32m    305\u001b[0m         \u001b[0;32mwhile\u001b[0m \u001b[0;32mTrue\u001b[0m\u001b[0;34m:\u001b[0m\u001b[0;34m\u001b[0m\u001b[0;34m\u001b[0m\u001b[0m\n\u001b[0;32m--> 306\u001b[0;31m             \u001b[0mversion\u001b[0m\u001b[0;34m,\u001b[0m \u001b[0mstatus\u001b[0m\u001b[0;34m,\u001b[0m \u001b[0mreason\u001b[0m \u001b[0;34m=\u001b[0m \u001b[0mself\u001b[0m\u001b[0;34m.\u001b[0m\u001b[0m_read_status\u001b[0m\u001b[0;34m(\u001b[0m\u001b[0;34m)\u001b[0m\u001b[0;34m\u001b[0m\u001b[0;34m\u001b[0m\u001b[0m\n\u001b[0m\u001b[1;32m    307\u001b[0m             \u001b[0;32mif\u001b[0m \u001b[0mstatus\u001b[0m \u001b[0;34m!=\u001b[0m \u001b[0mCONTINUE\u001b[0m\u001b[0;34m:\u001b[0m\u001b[0;34m\u001b[0m\u001b[0;34m\u001b[0m\u001b[0m\n",
      "\u001b[0;32m/Library/Frameworks/Python.framework/Versions/3.7/lib/python3.7/http/client.py\u001b[0m in \u001b[0;36m_read_status\u001b[0;34m(self)\u001b[0m\n\u001b[1;32m    266\u001b[0m     \u001b[0;32mdef\u001b[0m \u001b[0m_read_status\u001b[0m\u001b[0;34m(\u001b[0m\u001b[0mself\u001b[0m\u001b[0;34m)\u001b[0m\u001b[0;34m:\u001b[0m\u001b[0;34m\u001b[0m\u001b[0;34m\u001b[0m\u001b[0m\n\u001b[0;32m--> 267\u001b[0;31m         \u001b[0mline\u001b[0m \u001b[0;34m=\u001b[0m \u001b[0mstr\u001b[0m\u001b[0;34m(\u001b[0m\u001b[0mself\u001b[0m\u001b[0;34m.\u001b[0m\u001b[0mfp\u001b[0m\u001b[0;34m.\u001b[0m\u001b[0mreadline\u001b[0m\u001b[0;34m(\u001b[0m\u001b[0m_MAXLINE\u001b[0m \u001b[0;34m+\u001b[0m \u001b[0;36m1\u001b[0m\u001b[0;34m)\u001b[0m\u001b[0;34m,\u001b[0m \u001b[0;34m\"iso-8859-1\"\u001b[0m\u001b[0;34m)\u001b[0m\u001b[0;34m\u001b[0m\u001b[0;34m\u001b[0m\u001b[0m\n\u001b[0m\u001b[1;32m    268\u001b[0m         \u001b[0;32mif\u001b[0m \u001b[0mlen\u001b[0m\u001b[0;34m(\u001b[0m\u001b[0mline\u001b[0m\u001b[0;34m)\u001b[0m \u001b[0;34m>\u001b[0m \u001b[0m_MAXLINE\u001b[0m\u001b[0;34m:\u001b[0m\u001b[0;34m\u001b[0m\u001b[0;34m\u001b[0m\u001b[0m\n",
      "\u001b[0;32m/Library/Frameworks/Python.framework/Versions/3.7/lib/python3.7/socket.py\u001b[0m in \u001b[0;36mreadinto\u001b[0;34m(self, b)\u001b[0m\n\u001b[1;32m    588\u001b[0m             \u001b[0;32mtry\u001b[0m\u001b[0;34m:\u001b[0m\u001b[0;34m\u001b[0m\u001b[0;34m\u001b[0m\u001b[0m\n\u001b[0;32m--> 589\u001b[0;31m                 \u001b[0;32mreturn\u001b[0m \u001b[0mself\u001b[0m\u001b[0;34m.\u001b[0m\u001b[0m_sock\u001b[0m\u001b[0;34m.\u001b[0m\u001b[0mrecv_into\u001b[0m\u001b[0;34m(\u001b[0m\u001b[0mb\u001b[0m\u001b[0;34m)\u001b[0m\u001b[0;34m\u001b[0m\u001b[0;34m\u001b[0m\u001b[0m\n\u001b[0m\u001b[1;32m    590\u001b[0m             \u001b[0;32mexcept\u001b[0m \u001b[0mtimeout\u001b[0m\u001b[0;34m:\u001b[0m\u001b[0;34m\u001b[0m\u001b[0;34m\u001b[0m\u001b[0m\n",
      "\u001b[0;32m/Library/Frameworks/Python.framework/Versions/3.7/lib/python3.7/ssl.py\u001b[0m in \u001b[0;36mrecv_into\u001b[0;34m(self, buffer, nbytes, flags)\u001b[0m\n\u001b[1;32m   1070\u001b[0m                   self.__class__)\n\u001b[0;32m-> 1071\u001b[0;31m             \u001b[0;32mreturn\u001b[0m \u001b[0mself\u001b[0m\u001b[0;34m.\u001b[0m\u001b[0mread\u001b[0m\u001b[0;34m(\u001b[0m\u001b[0mnbytes\u001b[0m\u001b[0;34m,\u001b[0m \u001b[0mbuffer\u001b[0m\u001b[0;34m)\u001b[0m\u001b[0;34m\u001b[0m\u001b[0;34m\u001b[0m\u001b[0m\n\u001b[0m\u001b[1;32m   1072\u001b[0m         \u001b[0;32melse\u001b[0m\u001b[0;34m:\u001b[0m\u001b[0;34m\u001b[0m\u001b[0;34m\u001b[0m\u001b[0m\n",
      "\u001b[0;32m/Library/Frameworks/Python.framework/Versions/3.7/lib/python3.7/ssl.py\u001b[0m in \u001b[0;36mread\u001b[0;34m(self, len, buffer)\u001b[0m\n\u001b[1;32m    928\u001b[0m             \u001b[0;32mif\u001b[0m \u001b[0mbuffer\u001b[0m \u001b[0;32mis\u001b[0m \u001b[0;32mnot\u001b[0m \u001b[0;32mNone\u001b[0m\u001b[0;34m:\u001b[0m\u001b[0;34m\u001b[0m\u001b[0;34m\u001b[0m\u001b[0m\n\u001b[0;32m--> 929\u001b[0;31m                 \u001b[0;32mreturn\u001b[0m \u001b[0mself\u001b[0m\u001b[0;34m.\u001b[0m\u001b[0m_sslobj\u001b[0m\u001b[0;34m.\u001b[0m\u001b[0mread\u001b[0m\u001b[0;34m(\u001b[0m\u001b[0mlen\u001b[0m\u001b[0;34m,\u001b[0m \u001b[0mbuffer\u001b[0m\u001b[0;34m)\u001b[0m\u001b[0;34m\u001b[0m\u001b[0;34m\u001b[0m\u001b[0m\n\u001b[0m\u001b[1;32m    930\u001b[0m             \u001b[0;32melse\u001b[0m\u001b[0;34m:\u001b[0m\u001b[0;34m\u001b[0m\u001b[0;34m\u001b[0m\u001b[0m\n",
      "\u001b[0;31mTimeoutError\u001b[0m: [Errno 60] Operation timed out",
      "\nDuring handling of the above exception, another exception occurred:\n",
      "\u001b[0;31mReadTimeoutError\u001b[0m                          Traceback (most recent call last)",
      "\u001b[0;32m/Library/Frameworks/Python.framework/Versions/3.7/lib/python3.7/site-packages/requests/adapters.py\u001b[0m in \u001b[0;36msend\u001b[0;34m(self, request, stream, timeout, verify, cert, proxies)\u001b[0m\n\u001b[1;32m    448\u001b[0m                     \u001b[0mretries\u001b[0m\u001b[0;34m=\u001b[0m\u001b[0mself\u001b[0m\u001b[0;34m.\u001b[0m\u001b[0mmax_retries\u001b[0m\u001b[0;34m,\u001b[0m\u001b[0;34m\u001b[0m\u001b[0;34m\u001b[0m\u001b[0m\n\u001b[0;32m--> 449\u001b[0;31m                     \u001b[0mtimeout\u001b[0m\u001b[0;34m=\u001b[0m\u001b[0mtimeout\u001b[0m\u001b[0;34m\u001b[0m\u001b[0;34m\u001b[0m\u001b[0m\n\u001b[0m\u001b[1;32m    450\u001b[0m                 )\n",
      "\u001b[0;32m/Library/Frameworks/Python.framework/Versions/3.7/lib/python3.7/site-packages/urllib3/connectionpool.py\u001b[0m in \u001b[0;36murlopen\u001b[0;34m(self, method, url, body, headers, retries, redirect, assert_same_host, timeout, pool_timeout, release_conn, chunked, body_pos, **response_kw)\u001b[0m\n\u001b[1;32m    719\u001b[0m             retries = retries.increment(\n\u001b[0;32m--> 720\u001b[0;31m                 \u001b[0mmethod\u001b[0m\u001b[0;34m,\u001b[0m \u001b[0murl\u001b[0m\u001b[0;34m,\u001b[0m \u001b[0merror\u001b[0m\u001b[0;34m=\u001b[0m\u001b[0me\u001b[0m\u001b[0;34m,\u001b[0m \u001b[0m_pool\u001b[0m\u001b[0;34m=\u001b[0m\u001b[0mself\u001b[0m\u001b[0;34m,\u001b[0m \u001b[0m_stacktrace\u001b[0m\u001b[0;34m=\u001b[0m\u001b[0msys\u001b[0m\u001b[0;34m.\u001b[0m\u001b[0mexc_info\u001b[0m\u001b[0;34m(\u001b[0m\u001b[0;34m)\u001b[0m\u001b[0;34m[\u001b[0m\u001b[0;36m2\u001b[0m\u001b[0;34m]\u001b[0m\u001b[0;34m\u001b[0m\u001b[0;34m\u001b[0m\u001b[0m\n\u001b[0m\u001b[1;32m    721\u001b[0m             )\n",
      "\u001b[0;32m/Library/Frameworks/Python.framework/Versions/3.7/lib/python3.7/site-packages/urllib3/util/retry.py\u001b[0m in \u001b[0;36mincrement\u001b[0;34m(self, method, url, response, error, _pool, _stacktrace)\u001b[0m\n\u001b[1;32m    399\u001b[0m             \u001b[0;32mif\u001b[0m \u001b[0mread\u001b[0m \u001b[0;32mis\u001b[0m \u001b[0;32mFalse\u001b[0m \u001b[0;32mor\u001b[0m \u001b[0;32mnot\u001b[0m \u001b[0mself\u001b[0m\u001b[0;34m.\u001b[0m\u001b[0m_is_method_retryable\u001b[0m\u001b[0;34m(\u001b[0m\u001b[0mmethod\u001b[0m\u001b[0;34m)\u001b[0m\u001b[0;34m:\u001b[0m\u001b[0;34m\u001b[0m\u001b[0;34m\u001b[0m\u001b[0m\n\u001b[0;32m--> 400\u001b[0;31m                 \u001b[0;32mraise\u001b[0m \u001b[0msix\u001b[0m\u001b[0;34m.\u001b[0m\u001b[0mreraise\u001b[0m\u001b[0;34m(\u001b[0m\u001b[0mtype\u001b[0m\u001b[0;34m(\u001b[0m\u001b[0merror\u001b[0m\u001b[0;34m)\u001b[0m\u001b[0;34m,\u001b[0m \u001b[0merror\u001b[0m\u001b[0;34m,\u001b[0m \u001b[0m_stacktrace\u001b[0m\u001b[0;34m)\u001b[0m\u001b[0;34m\u001b[0m\u001b[0;34m\u001b[0m\u001b[0m\n\u001b[0m\u001b[1;32m    401\u001b[0m             \u001b[0;32melif\u001b[0m \u001b[0mread\u001b[0m \u001b[0;32mis\u001b[0m \u001b[0;32mnot\u001b[0m \u001b[0;32mNone\u001b[0m\u001b[0;34m:\u001b[0m\u001b[0;34m\u001b[0m\u001b[0;34m\u001b[0m\u001b[0m\n",
      "\u001b[0;32m/Library/Frameworks/Python.framework/Versions/3.7/lib/python3.7/site-packages/urllib3/packages/six.py\u001b[0m in \u001b[0;36mreraise\u001b[0;34m(tp, value, tb)\u001b[0m\n\u001b[1;32m    734\u001b[0m                 \u001b[0;32mraise\u001b[0m \u001b[0mvalue\u001b[0m\u001b[0;34m.\u001b[0m\u001b[0mwith_traceback\u001b[0m\u001b[0;34m(\u001b[0m\u001b[0mtb\u001b[0m\u001b[0;34m)\u001b[0m\u001b[0;34m\u001b[0m\u001b[0;34m\u001b[0m\u001b[0m\n\u001b[0;32m--> 735\u001b[0;31m             \u001b[0;32mraise\u001b[0m \u001b[0mvalue\u001b[0m\u001b[0;34m\u001b[0m\u001b[0;34m\u001b[0m\u001b[0m\n\u001b[0m\u001b[1;32m    736\u001b[0m         \u001b[0;32mfinally\u001b[0m\u001b[0;34m:\u001b[0m\u001b[0;34m\u001b[0m\u001b[0;34m\u001b[0m\u001b[0m\n",
      "\u001b[0;32m/Library/Frameworks/Python.framework/Versions/3.7/lib/python3.7/site-packages/urllib3/connectionpool.py\u001b[0m in \u001b[0;36murlopen\u001b[0;34m(self, method, url, body, headers, retries, redirect, assert_same_host, timeout, pool_timeout, release_conn, chunked, body_pos, **response_kw)\u001b[0m\n\u001b[1;32m    671\u001b[0m                 \u001b[0mheaders\u001b[0m\u001b[0;34m=\u001b[0m\u001b[0mheaders\u001b[0m\u001b[0;34m,\u001b[0m\u001b[0;34m\u001b[0m\u001b[0;34m\u001b[0m\u001b[0m\n\u001b[0;32m--> 672\u001b[0;31m                 \u001b[0mchunked\u001b[0m\u001b[0;34m=\u001b[0m\u001b[0mchunked\u001b[0m\u001b[0;34m,\u001b[0m\u001b[0;34m\u001b[0m\u001b[0;34m\u001b[0m\u001b[0m\n\u001b[0m\u001b[1;32m    673\u001b[0m             )\n",
      "\u001b[0;32m/Library/Frameworks/Python.framework/Versions/3.7/lib/python3.7/site-packages/urllib3/connectionpool.py\u001b[0m in \u001b[0;36m_make_request\u001b[0;34m(self, conn, method, url, timeout, chunked, **httplib_request_kw)\u001b[0m\n\u001b[1;32m    422\u001b[0m         \u001b[0;32mexcept\u001b[0m \u001b[0;34m(\u001b[0m\u001b[0mSocketTimeout\u001b[0m\u001b[0;34m,\u001b[0m \u001b[0mBaseSSLError\u001b[0m\u001b[0;34m,\u001b[0m \u001b[0mSocketError\u001b[0m\u001b[0;34m)\u001b[0m \u001b[0;32mas\u001b[0m \u001b[0me\u001b[0m\u001b[0;34m:\u001b[0m\u001b[0;34m\u001b[0m\u001b[0;34m\u001b[0m\u001b[0m\n\u001b[0;32m--> 423\u001b[0;31m             \u001b[0mself\u001b[0m\u001b[0;34m.\u001b[0m\u001b[0m_raise_timeout\u001b[0m\u001b[0;34m(\u001b[0m\u001b[0merr\u001b[0m\u001b[0;34m=\u001b[0m\u001b[0me\u001b[0m\u001b[0;34m,\u001b[0m \u001b[0murl\u001b[0m\u001b[0;34m=\u001b[0m\u001b[0murl\u001b[0m\u001b[0;34m,\u001b[0m \u001b[0mtimeout_value\u001b[0m\u001b[0;34m=\u001b[0m\u001b[0mread_timeout\u001b[0m\u001b[0;34m)\u001b[0m\u001b[0;34m\u001b[0m\u001b[0;34m\u001b[0m\u001b[0m\n\u001b[0m\u001b[1;32m    424\u001b[0m             \u001b[0;32mraise\u001b[0m\u001b[0;34m\u001b[0m\u001b[0;34m\u001b[0m\u001b[0m\n",
      "\u001b[0;32m/Library/Frameworks/Python.framework/Versions/3.7/lib/python3.7/site-packages/urllib3/connectionpool.py\u001b[0m in \u001b[0;36m_raise_timeout\u001b[0;34m(self, err, url, timeout_value)\u001b[0m\n\u001b[1;32m    347\u001b[0m             raise ReadTimeoutError(\n\u001b[0;32m--> 348\u001b[0;31m                 \u001b[0mself\u001b[0m\u001b[0;34m,\u001b[0m \u001b[0murl\u001b[0m\u001b[0;34m,\u001b[0m \u001b[0;34m\"Read timed out. (read timeout=%s)\"\u001b[0m \u001b[0;34m%\u001b[0m \u001b[0mtimeout_value\u001b[0m\u001b[0;34m\u001b[0m\u001b[0;34m\u001b[0m\u001b[0m\n\u001b[0m\u001b[1;32m    349\u001b[0m             )\n",
      "\u001b[0;31mReadTimeoutError\u001b[0m: HTTPSConnectionPool(host='api.spotify.com', port=443): Read timed out. (read timeout=None)",
      "\nDuring handling of the above exception, another exception occurred:\n",
      "\u001b[0;31mReadTimeout\u001b[0m                               Traceback (most recent call last)",
      "\u001b[0;32m<ipython-input-74-72d9f5596322>\u001b[0m in \u001b[0;36m<module>\u001b[0;34m\u001b[0m\n\u001b[0;32m----> 1\u001b[0;31m \u001b[0mget_user_song_id\u001b[0m\u001b[0;34m(\u001b[0m\u001b[0msp\u001b[0m\u001b[0;34m)\u001b[0m\u001b[0;34m\u001b[0m\u001b[0;34m\u001b[0m\u001b[0m\n\u001b[0m",
      "\u001b[0;32m<ipython-input-26-e8d7dee5c4bd>\u001b[0m in \u001b[0;36mget_user_song_id\u001b[0;34m(sp)\u001b[0m\n\u001b[1;32m      1\u001b[0m \u001b[0;32mdef\u001b[0m \u001b[0mget_user_song_id\u001b[0m\u001b[0;34m(\u001b[0m\u001b[0msp\u001b[0m\u001b[0;34m)\u001b[0m\u001b[0;34m:\u001b[0m\u001b[0;34m\u001b[0m\u001b[0;34m\u001b[0m\u001b[0m\n\u001b[0;32m----> 2\u001b[0;31m     \u001b[0mresults\u001b[0m \u001b[0;34m=\u001b[0m \u001b[0msp\u001b[0m\u001b[0;34m.\u001b[0m\u001b[0mcurrent_user_saved_tracks\u001b[0m\u001b[0;34m(\u001b[0m\u001b[0;34m)\u001b[0m\u001b[0;34m\u001b[0m\u001b[0;34m\u001b[0m\u001b[0m\n\u001b[0m\u001b[1;32m      3\u001b[0m     \u001b[0mgenre\u001b[0m \u001b[0;34m=\u001b[0m \u001b[0;34m[\u001b[0m\u001b[0;34m]\u001b[0m\u001b[0;34m\u001b[0m\u001b[0;34m\u001b[0m\u001b[0m\n\u001b[1;32m      4\u001b[0m     \u001b[0mcounter\u001b[0m \u001b[0;34m=\u001b[0m \u001b[0;36m0\u001b[0m\u001b[0;34m\u001b[0m\u001b[0;34m\u001b[0m\u001b[0m\n\u001b[1;32m      5\u001b[0m     \u001b[0;32mfor\u001b[0m \u001b[0msong_number\u001b[0m \u001b[0;32min\u001b[0m \u001b[0mrange\u001b[0m\u001b[0;34m(\u001b[0m\u001b[0;36m0\u001b[0m\u001b[0;34m,\u001b[0m\u001b[0;36m19\u001b[0m\u001b[0;34m)\u001b[0m\u001b[0;34m:\u001b[0m\u001b[0;34m\u001b[0m\u001b[0;34m\u001b[0m\u001b[0m\n",
      "\u001b[0;32m/Library/Frameworks/Python.framework/Versions/3.7/lib/python3.7/site-packages/spotipy/client.py\u001b[0m in \u001b[0;36mcurrent_user_saved_tracks\u001b[0;34m(self, limit, offset)\u001b[0m\n\u001b[1;32m    676\u001b[0m \u001b[0;34m\u001b[0m\u001b[0m\n\u001b[1;32m    677\u001b[0m         \"\"\"\n\u001b[0;32m--> 678\u001b[0;31m         \u001b[0;32mreturn\u001b[0m \u001b[0mself\u001b[0m\u001b[0;34m.\u001b[0m\u001b[0m_get\u001b[0m\u001b[0;34m(\u001b[0m\u001b[0;34m'me/tracks'\u001b[0m\u001b[0;34m,\u001b[0m \u001b[0mlimit\u001b[0m\u001b[0;34m=\u001b[0m\u001b[0mlimit\u001b[0m\u001b[0;34m,\u001b[0m \u001b[0moffset\u001b[0m\u001b[0;34m=\u001b[0m\u001b[0moffset\u001b[0m\u001b[0;34m)\u001b[0m\u001b[0;34m\u001b[0m\u001b[0;34m\u001b[0m\u001b[0m\n\u001b[0m\u001b[1;32m    679\u001b[0m \u001b[0;34m\u001b[0m\u001b[0m\n\u001b[1;32m    680\u001b[0m     \u001b[0;32mdef\u001b[0m \u001b[0mcurrent_user_followed_artists\u001b[0m\u001b[0;34m(\u001b[0m\u001b[0mself\u001b[0m\u001b[0;34m,\u001b[0m \u001b[0mlimit\u001b[0m\u001b[0;34m=\u001b[0m\u001b[0;36m20\u001b[0m\u001b[0;34m,\u001b[0m \u001b[0mafter\u001b[0m\u001b[0;34m=\u001b[0m\u001b[0;32mNone\u001b[0m\u001b[0;34m)\u001b[0m\u001b[0;34m:\u001b[0m\u001b[0;34m\u001b[0m\u001b[0;34m\u001b[0m\u001b[0m\n",
      "\u001b[0;32m/Library/Frameworks/Python.framework/Versions/3.7/lib/python3.7/site-packages/spotipy/client.py\u001b[0m in \u001b[0;36m_get\u001b[0;34m(self, url, args, payload, **kwargs)\u001b[0m\n\u001b[1;32m    162\u001b[0m         \u001b[0;32mwhile\u001b[0m \u001b[0mretries\u001b[0m \u001b[0;34m>\u001b[0m \u001b[0;36m0\u001b[0m\u001b[0;34m:\u001b[0m\u001b[0;34m\u001b[0m\u001b[0;34m\u001b[0m\u001b[0m\n\u001b[1;32m    163\u001b[0m             \u001b[0;32mtry\u001b[0m\u001b[0;34m:\u001b[0m\u001b[0;34m\u001b[0m\u001b[0;34m\u001b[0m\u001b[0m\n\u001b[0;32m--> 164\u001b[0;31m                 \u001b[0;32mreturn\u001b[0m \u001b[0mself\u001b[0m\u001b[0;34m.\u001b[0m\u001b[0m_internal_call\u001b[0m\u001b[0;34m(\u001b[0m\u001b[0;34m'GET'\u001b[0m\u001b[0;34m,\u001b[0m \u001b[0murl\u001b[0m\u001b[0;34m,\u001b[0m \u001b[0mpayload\u001b[0m\u001b[0;34m,\u001b[0m \u001b[0mkwargs\u001b[0m\u001b[0;34m)\u001b[0m\u001b[0;34m\u001b[0m\u001b[0;34m\u001b[0m\u001b[0m\n\u001b[0m\u001b[1;32m    165\u001b[0m             \u001b[0;32mexcept\u001b[0m \u001b[0mSpotifyException\u001b[0m \u001b[0;32mas\u001b[0m \u001b[0me\u001b[0m\u001b[0;34m:\u001b[0m\u001b[0;34m\u001b[0m\u001b[0;34m\u001b[0m\u001b[0m\n\u001b[1;32m    166\u001b[0m                 \u001b[0mretries\u001b[0m \u001b[0;34m-=\u001b[0m \u001b[0;36m1\u001b[0m\u001b[0;34m\u001b[0m\u001b[0;34m\u001b[0m\u001b[0m\n",
      "\u001b[0;32m/Library/Frameworks/Python.framework/Versions/3.7/lib/python3.7/site-packages/spotipy/client.py\u001b[0m in \u001b[0;36m_internal_call\u001b[0;34m(self, method, url, payload, params)\u001b[0m\n\u001b[1;32m    123\u001b[0m \u001b[0;34m\u001b[0m\u001b[0m\n\u001b[1;32m    124\u001b[0m         with self._session.request(method, url, headers=headers,\n\u001b[0;32m--> 125\u001b[0;31m                                    proxies=self.proxies, **args) as r:\n\u001b[0m\u001b[1;32m    126\u001b[0m \u001b[0;34m\u001b[0m\u001b[0m\n\u001b[1;32m    127\u001b[0m             \u001b[0;32mif\u001b[0m \u001b[0mself\u001b[0m\u001b[0;34m.\u001b[0m\u001b[0mtrace\u001b[0m\u001b[0;34m:\u001b[0m  \u001b[0;31m# pragma: no cover\u001b[0m\u001b[0;34m\u001b[0m\u001b[0;34m\u001b[0m\u001b[0m\n",
      "\u001b[0;32m/Library/Frameworks/Python.framework/Versions/3.7/lib/python3.7/site-packages/requests/sessions.py\u001b[0m in \u001b[0;36mrequest\u001b[0;34m(self, method, url, params, data, headers, cookies, files, auth, timeout, allow_redirects, proxies, hooks, stream, verify, cert, json)\u001b[0m\n\u001b[1;32m    531\u001b[0m         }\n\u001b[1;32m    532\u001b[0m         \u001b[0msend_kwargs\u001b[0m\u001b[0;34m.\u001b[0m\u001b[0mupdate\u001b[0m\u001b[0;34m(\u001b[0m\u001b[0msettings\u001b[0m\u001b[0;34m)\u001b[0m\u001b[0;34m\u001b[0m\u001b[0;34m\u001b[0m\u001b[0m\n\u001b[0;32m--> 533\u001b[0;31m         \u001b[0mresp\u001b[0m \u001b[0;34m=\u001b[0m \u001b[0mself\u001b[0m\u001b[0;34m.\u001b[0m\u001b[0msend\u001b[0m\u001b[0;34m(\u001b[0m\u001b[0mprep\u001b[0m\u001b[0;34m,\u001b[0m \u001b[0;34m**\u001b[0m\u001b[0msend_kwargs\u001b[0m\u001b[0;34m)\u001b[0m\u001b[0;34m\u001b[0m\u001b[0;34m\u001b[0m\u001b[0m\n\u001b[0m\u001b[1;32m    534\u001b[0m \u001b[0;34m\u001b[0m\u001b[0m\n\u001b[1;32m    535\u001b[0m         \u001b[0;32mreturn\u001b[0m \u001b[0mresp\u001b[0m\u001b[0;34m\u001b[0m\u001b[0;34m\u001b[0m\u001b[0m\n",
      "\u001b[0;32m/Library/Frameworks/Python.framework/Versions/3.7/lib/python3.7/site-packages/requests/sessions.py\u001b[0m in \u001b[0;36msend\u001b[0;34m(self, request, **kwargs)\u001b[0m\n\u001b[1;32m    644\u001b[0m \u001b[0;34m\u001b[0m\u001b[0m\n\u001b[1;32m    645\u001b[0m         \u001b[0;31m# Send the request\u001b[0m\u001b[0;34m\u001b[0m\u001b[0;34m\u001b[0m\u001b[0;34m\u001b[0m\u001b[0m\n\u001b[0;32m--> 646\u001b[0;31m         \u001b[0mr\u001b[0m \u001b[0;34m=\u001b[0m \u001b[0madapter\u001b[0m\u001b[0;34m.\u001b[0m\u001b[0msend\u001b[0m\u001b[0;34m(\u001b[0m\u001b[0mrequest\u001b[0m\u001b[0;34m,\u001b[0m \u001b[0;34m**\u001b[0m\u001b[0mkwargs\u001b[0m\u001b[0;34m)\u001b[0m\u001b[0;34m\u001b[0m\u001b[0;34m\u001b[0m\u001b[0m\n\u001b[0m\u001b[1;32m    647\u001b[0m \u001b[0;34m\u001b[0m\u001b[0m\n\u001b[1;32m    648\u001b[0m         \u001b[0;31m# Total elapsed time of the request (approximately)\u001b[0m\u001b[0;34m\u001b[0m\u001b[0;34m\u001b[0m\u001b[0;34m\u001b[0m\u001b[0m\n",
      "\u001b[0;32m/Library/Frameworks/Python.framework/Versions/3.7/lib/python3.7/site-packages/requests/adapters.py\u001b[0m in \u001b[0;36msend\u001b[0;34m(self, request, stream, timeout, verify, cert, proxies)\u001b[0m\n\u001b[1;32m    527\u001b[0m                 \u001b[0;32mraise\u001b[0m \u001b[0mSSLError\u001b[0m\u001b[0;34m(\u001b[0m\u001b[0me\u001b[0m\u001b[0;34m,\u001b[0m \u001b[0mrequest\u001b[0m\u001b[0;34m=\u001b[0m\u001b[0mrequest\u001b[0m\u001b[0;34m)\u001b[0m\u001b[0;34m\u001b[0m\u001b[0;34m\u001b[0m\u001b[0m\n\u001b[1;32m    528\u001b[0m             \u001b[0;32melif\u001b[0m \u001b[0misinstance\u001b[0m\u001b[0;34m(\u001b[0m\u001b[0me\u001b[0m\u001b[0;34m,\u001b[0m \u001b[0mReadTimeoutError\u001b[0m\u001b[0;34m)\u001b[0m\u001b[0;34m:\u001b[0m\u001b[0;34m\u001b[0m\u001b[0;34m\u001b[0m\u001b[0m\n\u001b[0;32m--> 529\u001b[0;31m                 \u001b[0;32mraise\u001b[0m \u001b[0mReadTimeout\u001b[0m\u001b[0;34m(\u001b[0m\u001b[0me\u001b[0m\u001b[0;34m,\u001b[0m \u001b[0mrequest\u001b[0m\u001b[0;34m=\u001b[0m\u001b[0mrequest\u001b[0m\u001b[0;34m)\u001b[0m\u001b[0;34m\u001b[0m\u001b[0;34m\u001b[0m\u001b[0m\n\u001b[0m\u001b[1;32m    530\u001b[0m             \u001b[0;32melse\u001b[0m\u001b[0;34m:\u001b[0m\u001b[0;34m\u001b[0m\u001b[0;34m\u001b[0m\u001b[0m\n\u001b[1;32m    531\u001b[0m                 \u001b[0;32mraise\u001b[0m\u001b[0;34m\u001b[0m\u001b[0;34m\u001b[0m\u001b[0m\n",
      "\u001b[0;31mReadTimeout\u001b[0m: HTTPSConnectionPool(host='api.spotify.com', port=443): Read timed out. (read timeout=None)"
     ]
    }
   ],
   "source": [
    "get_user_song_id(sp)"
   ]
  },
  {
   "cell_type": "markdown",
   "metadata": {},
   "source": [
    "# Older Genre Filtering Code for Reference - Attemping another approach using dataframe"
   ]
  },
  {
   "cell_type": "code",
   "execution_count": 306,
   "metadata": {},
   "outputs": [
    {
     "name": "stdout",
     "output_type": "stream",
     "text": [
      "807 !!!!!\n"
     ]
    }
   ],
   "source": [
    "# #loop takes KNN results and filters by source track genres\n",
    "# # old\n",
    "# filtered_list = []\n",
    "# # filtered_lists = []\n",
    "# source_song_index = knn_results1[0][0]\n",
    "# source_genre_list = df.loc[source_song_index][\"genres_stripped\"].split(\",\")\n",
    "# # print(source_genre_list)\n",
    "# for output_song_index in knn_results1[0][1:]:\n",
    "# #     print(output_song_index)\n",
    "#     output_genre_list = df.loc[output_song_index][\"genres_stripped\"].split(\",\")\n",
    "# #     print(output_genre_list)\n",
    "#     for output_genre in output_genre_list:\n",
    "#         output_genre = output_genre.strip(' ')\n",
    "# #         print(output_genre)\n",
    "#         for source_genre in source_genre_list:\n",
    "#             source_genre = source_genre.strip(' ')\n",
    "# #             print(source_genre)\n",
    "#             if source_genre == output_genre:\n",
    "# #                 print(output_song_index,source_genre,output_genre)\n",
    "#                 filtered_list.append(output_song_index)\n",
    "# #             print(filtered_list)\n",
    "#             else:\n",
    "# # #             print(\"source genre does not match output genre!\")\n",
    "#                 continue\n",
    "# #     filtered_lists.append(filtered_list)\n",
    "# print(len(set(filtered_list)),\"!!!!!\")"
   ]
  },
  {
   "cell_type": "markdown",
   "metadata": {},
   "source": [
    "# For Reference - Working code in KNN Model 3 Notebook - \n",
    "# Ready for Production - Load in Genre Array and Utilize in updated function for genre filtering"
   ]
  },
  {
   "cell_type": "code",
   "execution_count": null,
   "metadata": {},
   "outputs": [],
   "source": [
    "def filter_model(): \n",
    "    #loop takes KNN results and filters by source track genres\n",
    "    filtered_list = []\n",
    "    song_list_length = 364\n",
    "    source_song_index = knn_results1[0][0]\n",
    "    source_genre_list = genre_array[source_song_index]\n",
    "    for output_song_index in knn_results1[0][1:]:\n",
    "        output_genre_list = genre_array[output_song_index]\n",
    "        for output_genre in output_genre_list:\n",
    "            for source_genre in source_genre_list:\n",
    "                if source_genre == output_genre:\n",
    "                    filtered_list.append(output_song_index)\n",
    "                else:\n",
    "                    continue\n",
    "    if len(set(filtered_list)) > song_list_length:\n",
    "        print(\"list large enough\")\n",
    "    else:\n",
    "        counter = song_list_length - len(set(filtered_list))\n",
    "        print(len(set(filtered_list)))\n",
    "        print(counter)\n",
    "        print(f'need to add {counter} items to final song output')\n",
    "        for output_song_index in knn_results1[0][1:]:\n",
    "            if output_song_index not in filtered_list:\n",
    "                if counter > 0:\n",
    "                    filtered_list.append(output_song_index)\n",
    "                    counter -= 1\n",
    "                else:\n",
    "                    break\n",
    "            \n",
    "#     print(len(output_song_index_list),\"!!!!!\")    "
   ]
  },
  {
   "cell_type": "code",
   "execution_count": null,
   "metadata": {},
   "outputs": [],
   "source": [
    "filter_model()"
   ]
  },
  {
   "cell_type": "markdown",
   "metadata": {},
   "source": [
    "# Test Multiple Rows - Functional!"
   ]
  },
  {
   "cell_type": "code",
   "execution_count": 272,
   "metadata": {},
   "outputs": [],
   "source": [
    "def output_len_of_lists(list_of_lists):\n",
    "    for list_item in list_of_lists:\n",
    "        print(len(list_item))"
   ]
  },
  {
   "cell_type": "code",
   "execution_count": null,
   "metadata": {},
   "outputs": [],
   "source": [
    "#loop takes range of KNN results per defined track range and filter matches by source track genres\n",
    "filtered_lists = []\n",
    "for source_song_index in range(0,1000):\n",
    "    knn_results1 = knn1.kneighbors([data_normalized[source_song_index]])[1]\n",
    "    knn_result_ouputs = knn_results1[0][1:]\n",
    "    filtered_list = []\n",
    "    source_genre_list = genre_array[source_song_index]\n",
    "    for output_song_index in knn_result_ouputs:\n",
    "        output_genre_list = genre_array[output_song_index]\n",
    "        for output_genre in output_genre_list:\n",
    "            for source_genre in source_genre_list:\n",
    "                if source_genre == output_genre:\n",
    "                    filtered_list.append(output_song_index)\n",
    "                else:\n",
    "                    continue\n",
    "    filtered_lists.append(set(filtered_list))\n",
    "    \n",
    "output_len_of_lists(filtered_lists)"
   ]
  },
  {
   "cell_type": "markdown",
   "metadata": {},
   "source": [
    "# Definining New Class for Use in Predict.py"
   ]
  },
  {
   "cell_type": "code",
   "execution_count": null,
   "metadata": {},
   "outputs": [],
   "source": []
  }
 ],
 "metadata": {
  "kernelspec": {
   "display_name": "Flask_notebooks",
   "language": "python",
   "name": "flask_notebooks"
  },
  "language_info": {
   "codemirror_mode": {
    "name": "ipython",
    "version": 3
   },
   "file_extension": ".py",
   "mimetype": "text/x-python",
   "name": "python",
   "nbconvert_exporter": "python",
   "pygments_lexer": "ipython3",
   "version": "3.7.4"
  }
 },
 "nbformat": 4,
 "nbformat_minor": 4
}
