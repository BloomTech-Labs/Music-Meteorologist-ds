{
 "cells": [
  {
   "cell_type": "code",
   "execution_count": 1,
   "metadata": {},
   "outputs": [],
   "source": [
    "import spotipy\n",
    "import spotipy.util as util\n",
    "from sklearn.neighbors import NearestNeighbors\n",
    "from sklearn.preprocessing import MinMaxScaler, Normalizer\n",
    "import pandas as pd\n",
    "from pandas.io.json import json_normalize\n",
    "from flask import jsonify\n",
    "from joblib import load\n",
    "import pickle\n",
    "import numpy as np\n",
    "from flask import request\n",
    "from joblib import dump\n",
    "from joblib import load\n",
    "import pandas as pd\n",
    "\n",
    "from env_vars import * "
   ]
  },
  {
   "cell_type": "code",
   "execution_count": 2,
   "metadata": {},
   "outputs": [],
   "source": [
    "# USERNAME = USERNAME #your spotify username\n",
    "# CLIENT_ID = CLIENT_ID #set at your developer account\n",
    "# CLIENT_SECRET = CLIENT_SECRET #set at your developer account\n",
    "# REDIRECT_URI = 'http://google.com/' #set at your developer account, usually \"http://localhost:8000\"\n",
    "# SCOPE = 'user-library-read' # or else\n",
    "# ps. REDIRECT_URI is crucial here. if http://localhost:8000 is not set, or with a single '/' misplaced, it will generate a connection error.\n",
    "\n",
    "# then pass them:\n",
    "\n",
    "token = util.prompt_for_user_token(username = USERNAME, \n",
    "                                   scope = SCOPE, \n",
    "                                   client_id = CLIENT_ID, \n",
    "                                   client_secret = CLIENT_SECRET, \n",
    "                                   redirect_uri = REDIRECT_URI)\n",
    "\n",
    "if token:\n",
    "   sp = spotipy.Spotify(auth=token)"
   ]
  },
  {
   "cell_type": "code",
   "execution_count": 3,
   "metadata": {},
   "outputs": [
    {
     "data": {
      "text/plain": [
       "'BQD1ONV_O9THa5Ttk2-uHDKsAzD10jj8njwvxkt2i1P0igqwiFhpMfUbLtAzC9KO0ORCIuhDMrM8Z5apAW6Hq_LB3R-HA9lUdYPWMAd04bQWCMm2YHBIxo30_8_7v7f47V9hvVPgiuuHcTNvjqZ_NopNSfVeETOBpcvYkVZnWMNa5C5Bxvf0dF5Wo1xqjCQlYY-j-90DPw'"
      ]
     },
     "execution_count": 3,
     "metadata": {},
     "output_type": "execute_result"
    }
   ],
   "source": [
    "token"
   ]
  },
  {
   "cell_type": "markdown",
   "metadata": {},
   "source": [
    "# Automated Recommendations Utilizing User Data"
   ]
  },
  {
   "cell_type": "code",
   "execution_count": 49,
   "metadata": {},
   "outputs": [],
   "source": [
    "class Sound_Drip:\n",
    "    \n",
    "    def __init__(self, token):\n",
    "        self.token = token\n",
    "    \n",
    "    def instantiate_sp(self,token):\n",
    "        sp = spotipy.Spotify(auth=token)\n",
    "        return sp\n",
    "\n",
    "    def get_user_song_id(self,sp):\n",
    "        results = sp.current_user_saved_tracks()\n",
    "        genre = []\n",
    "        counter = 0 \n",
    "        for song_number in range(0,19):\n",
    "            counter += 1 \n",
    "            song_id = results['items'][song_number]['track']['id']\n",
    "            artist_id = self.get_artist_id(song_id)\n",
    "            genre = self.get_genres(artist_id)\n",
    "            if genre != []:\n",
    "                break\n",
    "        return song_id\n",
    "\n",
    "    def get_acoustical_features(self,song_id,sp):\n",
    "        acoustical_features = sp.audio_features(song_id)[0]\n",
    "        return acoustical_features\n",
    "\n",
    "    def get_popularity(self, song_id):\n",
    "        popularity =  sp.track(song_id)['popularity']\n",
    "        return popularity\n",
    "\n",
    "    def get_artist_id(self, song_id):\n",
    "        artist = sp.track(song_id)['artists'][0]['id']\n",
    "        return artist\n",
    "\n",
    "    def get_genres(self, artist):\n",
    "        genre = sp.artist(artist)['genres']\n",
    "        return genre\n",
    "    \n",
    "    def create_feature_object(self,popularity, acoustical_features):\n",
    "        popularity_dict = {'popularity': popularity}\n",
    "        song_features = acoustical_features\n",
    "        song_features.update(popularity_dict)\n",
    "        song_features = {\n",
    "    \"audio_features\": {\n",
    "        key: song_features[key] for key in song_features.keys() & {\n",
    "            'popularity',\n",
    "            'acousticness',\n",
    "            'danceability',\n",
    "            'energy',\n",
    "            'instrumentalness',\n",
    "            'key',\n",
    "            'liveness',\n",
    "            'loudness',\n",
    "            'mode',\n",
    "            'speechiness',\n",
    "            'tempo',\n",
    "            'time_signature',\n",
    "            'valence'}}}\n",
    "\n",
    "        df = pd.DataFrame.from_dict(json_normalize(song_features[\"audio_features\"]),orient='columns')   \n",
    "        df = df.reindex(sorted(df.columns), axis=1)\n",
    "        return df\n",
    "    \n",
    "    def get_results(self,song_features_df):\n",
    "        scaler = load(\"./models/scalar3.joblib\")\n",
    "        print('Scaling data...')\n",
    "        data_scaled = scaler.transform(song_features_df)\n",
    "        normalizer = Normalizer()\n",
    "        data_normalized = normalizer.fit_transform(data_scaled)\n",
    "        print('Loading pickled model...')\n",
    "        model = load('./models/model5.joblib')\n",
    "        results = model.kneighbors([data_normalized][0])[1:]\n",
    "        print('results returned')\n",
    "        return results[0]\n",
    "    \n",
    "    def filter_model(self,model_results,source_genre_list): \n",
    "        #loop takes KNN results and filters by source track genres\n",
    "        print(\"filter for genres initiated\")\n",
    "        genre_array = pickle.load(open(\"./data/genres_array_2.pkl\",\"rb\"))\n",
    "        filtered_list = []\n",
    "        song_list_length = 20\n",
    "        for output_song_index in model_results[0][1:]:\n",
    "            output_genre_list = genre_array[output_song_index]\n",
    "            for output_genre in output_genre_list:\n",
    "                output_genre = output_genre.strip(\" \")\n",
    "                for source_genre in source_genre_list:\n",
    "                    source_genre = \"'\" + source_genre + \"'\"\n",
    "                    if source_genre == output_genre:\n",
    "                        filtered_list.append(output_song_index)\n",
    "                    else:\n",
    "                        continue\n",
    "        if len(set(filtered_list)) > song_list_length:\n",
    "            print(\"filter found at least 20 genre matches\")\n",
    "            filtered_list = set(filtered_list)\n",
    "            filtered_list = list(filtered_list)[0:20]\n",
    "        else:\n",
    "            counter = song_list_length - len(set(filtered_list))\n",
    "            print(len(set(filtered_list)))\n",
    "            print(counter)\n",
    "            print(f'need to add {counter} items to final song output')\n",
    "            for output_song_index in model_results[1:]:\n",
    "                if output_song_index not in filtered_list:\n",
    "                    if counter > 0:\n",
    "                        filtered_list.append(output_song_index)\n",
    "                        counter -= 1\n",
    "                    else:\n",
    "                        break\n",
    "        print(\"filtered list with 20 unique song indices returned\")\n",
    "        return filtered_list\n",
    "    \n",
    "    def song_id_prediction_output(self,filtered_list): \n",
    "        similar_songs = []\n",
    "        print('song_id_list loading...')\n",
    "        song_id_array = pickle.load(open('./data/song_id_array3.pkl', 'rb'))\n",
    "        print('song_id_list loaded')\n",
    "        for song_row in filtered_list:\n",
    "            song_id = song_id_array[song_row]\n",
    "            similar_songs.append({'similarity': [.99], 'values': song_id})\n",
    "        json_dict = {\"songs\": similar_songs}\n",
    "        print(\"Results returned\")\n",
    "        return json_dict"
   ]
  },
  {
   "cell_type": "code",
   "execution_count": 13,
   "metadata": {},
   "outputs": [
    {
     "name": "stdout",
     "output_type": "stream",
     "text": [
      "Scaling data...\n",
      "Loading pickled model...\n",
      "results returned\n",
      "filter for genres initiated\n",
      "filter found at least 20 genre matches\n",
      "filtered list with 20 unique song indices returned\n",
      "song_id_list loading...\n",
      "song_id_list loaded\n",
      "Results returned\n"
     ]
    },
    {
     "data": {
      "text/plain": [
       "{'songs': [{'similarity': [0.99], 'values': '2C1FzUUtHp31ZdQsTGDM2f'},\n",
       "  {'similarity': [0.99], 'values': '1NVsdk9Z0xNG2sUhZmkbD0'},\n",
       "  {'similarity': [0.99], 'values': '5SwPRje7oQV5RP0saxoZp8'},\n",
       "  {'similarity': [0.99], 'values': '5RrWu7ddslbnrRImeW7LOs'},\n",
       "  {'similarity': [0.99], 'values': '0FQjfJB4cdkVfxZHz8RV4M'},\n",
       "  {'similarity': [0.99], 'values': '6PF0WYSCH6OhGKHRHOQSxG'},\n",
       "  {'similarity': [0.99], 'values': '6vEAyRqugkWBfQpccdiWFU'},\n",
       "  {'similarity': [0.99], 'values': '7g7aNOC904ne2PUc14Xevb'},\n",
       "  {'similarity': [0.99], 'values': '4jJwm24UagUP51wTp657Xp'},\n",
       "  {'similarity': [0.99], 'values': '6roY6Z2b0Q7DH3ZM4SRoTz'},\n",
       "  {'similarity': [0.99], 'values': '5wmn1zWhSSDLUmLLwYO9Rj'},\n",
       "  {'similarity': [0.99], 'values': '34tFidHrETMAjsiK87WVVW'},\n",
       "  {'similarity': [0.99], 'values': '0rUyA7P4nPKCRVvKhFo7XL'},\n",
       "  {'similarity': [0.99], 'values': '5i2859ZJXGPOzDwdZSOMiH'},\n",
       "  {'similarity': [0.99], 'values': '3QOQEObqJvCi4M2SNeko7V'},\n",
       "  {'similarity': [0.99], 'values': '2raNLL2FWxWNA4veLZIuAj'},\n",
       "  {'similarity': [0.99], 'values': '5UORiENC2iuNTFWopBTJKV'},\n",
       "  {'similarity': [0.99], 'values': '4vTZpkN2Ri8Lfk2149NqWC'},\n",
       "  {'similarity': [0.99], 'values': '56RfNBJGUgL1ZFCB1KEJrQ'},\n",
       "  {'similarity': [0.99], 'values': '2jw0Fejobu4pxfJ1RRNT4W'}]}"
      ]
     },
     "execution_count": 13,
     "metadata": {},
     "output_type": "execute_result"
    }
   ],
   "source": [
    "sd = Sound_Drip(token)\n",
    "sp = sd.instantiate_sp(token)\n",
    "song_id = sd.get_user_song_id(sp)\n",
    "acoustical_features = sd.get_acoustical_features(song_id, sp)\n",
    "popularity = sd.get_popularity(song_id)\n",
    "song_features_df = sd.create_feature_object(popularity, acoustical_features)\n",
    "results = sd.get_results(song_features_df)\n",
    "source_genre = sd.get_genres(sd.get_artist_id(song_id))\n",
    "filtered_list = sd.filter_model(results,source_genre)\n",
    "sd.song_id_prediction_output(filtered_list)"
   ]
  },
  {
   "cell_type": "markdown",
   "metadata": {},
   "source": [
    "# Slider Functionality Utilizing Acoustical Features / Popularity "
   ]
  },
  {
   "cell_type": "code",
   "execution_count": 132,
   "metadata": {},
   "outputs": [],
   "source": [
    "class Slider(Sound_Drip):\n",
    "\n",
    "    def __init__(self,slider_features):\n",
    "        self.slider_features = slider_features\n",
    "        self.slider_features_df = self.create_slider_feature_df(slider_features)\n",
    "        self.slider_results_list = self.get_slider_results(self.slider_features_df)[0][0:20]\n",
    "        self.slider_predictions = self.song_id_prediction_output(self.slider_results_list)\n",
    "\n",
    "    def create_slider_feature_df(self,slider_features):\n",
    "            df = pd.DataFrame.from_dict(json_normalize(self.slider_features[\"audio_features\"]),orient='columns')   \n",
    "            df = df.reindex(sorted(df.columns), axis=1)\n",
    "            return df\n",
    "        \n",
    "    def get_slider_results(self,song_features_df):\n",
    "        scaler = load(\"./models/scalar3.joblib\")\n",
    "        print('Scaling data...')\n",
    "        data_scaled = scaler.transform(song_features_df)\n",
    "        normalizer = Normalizer()\n",
    "        data_normalized = normalizer.fit_transform(data_scaled)\n",
    "        print('Loading pickled model...')\n",
    "        model = load('./models/slider_model6.joblib')\n",
    "        results = model.kneighbors([data_normalized][0])[1:]\n",
    "        print('results returned')\n",
    "        return results[0]"
   ]
  },
  {
   "cell_type": "code",
   "execution_count": 133,
   "metadata": {},
   "outputs": [
    {
     "name": "stdout",
     "output_type": "stream",
     "text": [
      "Scaling data...\n",
      "Loading pickled model...\n",
      "results returned\n",
      "song_id_list loading...\n",
      "song_id_list loaded\n",
      "Results returned\n"
     ]
    }
   ],
   "source": [
    "slider = Slider({'audio_features': {'time_signature': 4,\n",
    "  'speechiness': 0.0486,\n",
    "  'acousticness': 0.961,\n",
    "  'danceability': 0.62,\n",
    "  'tempo': 104.853,\n",
    "  'loudness': -23.873,\n",
    "  'mode': 1,\n",
    "  'popularity': 31,\n",
    "  'valence': 0.053,\n",
    "  'key': 11,\n",
    "  'liveness': 0.0741,\n",
    "  'instrumentalness': 0.911,\n",
    "  'energy': 0.231}})"
   ]
  },
  {
   "cell_type": "code",
   "execution_count": 134,
   "metadata": {},
   "outputs": [
    {
     "data": {
      "text/plain": [
       "{'songs': [{'similarity': [0.99], 'values': '5veDwfLOlXmBuhIVm3RSZO'},\n",
       "  {'similarity': [0.99], 'values': '6felOCUcTlQkJFDHirtjMj'},\n",
       "  {'similarity': [0.99], 'values': '7ouMGV7ScnMUGXKFGAGjXe'},\n",
       "  {'similarity': [0.99], 'values': '2qV5Ce0sMlFsrseRO5CTMU'},\n",
       "  {'similarity': [0.99], 'values': '3AJsTNjbYSH4odSmP1I6ox'},\n",
       "  {'similarity': [0.99], 'values': '0VNZCqwaPxzWPRX2HI4jrR'},\n",
       "  {'similarity': [0.99], 'values': '2pOwQxSiySqoz62gSTOM5O'},\n",
       "  {'similarity': [0.99], 'values': '3SW6e25WyEZ6bNQBwhp0xL'},\n",
       "  {'similarity': [0.99], 'values': '7ipLv29x7jjxTJjn64DQ7F'},\n",
       "  {'similarity': [0.99], 'values': '4eHq5gcF7S78ouJxR12mGc'},\n",
       "  {'similarity': [0.99], 'values': '4zMdab1CnihodiQ9WKYYlC'},\n",
       "  {'similarity': [0.99], 'values': '7u1vYcWXbkuuanQXrgykWk'},\n",
       "  {'similarity': [0.99], 'values': '1oIbOjq8A5mTMy5UdhCDai'},\n",
       "  {'similarity': [0.99], 'values': '4N6XEpicdgcQNcwUDW5mnM'},\n",
       "  {'similarity': [0.99], 'values': '0QiHMdOI4BZ4D9Lc6kczNl'},\n",
       "  {'similarity': [0.99], 'values': '0por6sYzb2g12BcYrqBUiW'},\n",
       "  {'similarity': [0.99], 'values': '3jqcJNacs1yDhtMk0wckxv'},\n",
       "  {'similarity': [0.99], 'values': '2fe8fbP6m9AfxbEHsj3ll5'},\n",
       "  {'similarity': [0.99], 'values': '0R6Jlsq25eZB3Wftpxi3oF'},\n",
       "  {'similarity': [0.99], 'values': '3RoQX4ou3qYEASsuC7YAWD'}]}"
      ]
     },
     "execution_count": 134,
     "metadata": {},
     "output_type": "execute_result"
    }
   ],
   "source": [
    "slider.slider_predictions"
   ]
  },
  {
   "cell_type": "markdown",
   "metadata": {},
   "source": [
    "# Sandbox - Play Dirty!"
   ]
  },
  {
   "cell_type": "code",
   "execution_count": 53,
   "metadata": {},
   "outputs": [],
   "source": [
    "# import numpy as np\n",
    "\n",
    "# old_song_list = load('data/song_id_list2(1).joblib')\n",
    "\n",
    "# old_song_array = np.array(old_song_list)\n",
    "\n",
    "# pickle.dump(old_song_array, open('data/old_song_array.pkl', 'wb'))"
   ]
  },
  {
   "cell_type": "markdown",
   "metadata": {},
   "source": [
    "# Prediction Functions Slated for Production - Canvas 2  "
   ]
  },
  {
   "cell_type": "code",
   "execution_count": 143,
   "metadata": {},
   "outputs": [],
   "source": [
    "## Updated function - Not in Flask - \n",
    "\n",
    "def get_results(song_features_df):\n",
    "    scaler = load(\"./data/scalar3.joblib\")\n",
    "#     print('Scaling data...')\n",
    "    data_scaled = scaler.transform(song_features_df)\n",
    "#     print(data_scaled)\n",
    "#     print('Data scaled')\n",
    "    normalizer = Normalizer()\n",
    "#     print('Normalizing data...')\n",
    "    data_normalized = normalizer.fit_transform(data_scaled)\n",
    "#     print(data_normalized)\n",
    "#     print('Data normalized')\n",
    "#     print('Loading pickled model...')\n",
    "    model = load('./models/model5.joblib')\n",
    "    results = model.kneighbors([data_normalized][0])[1:]\n",
    "    print('Prediction executed')\n",
    "    return results[0]"
   ]
  },
  {
   "cell_type": "code",
   "execution_count": 168,
   "metadata": {},
   "outputs": [],
   "source": [
    "def filter_model(model_results,source_genre_list): \n",
    "    #loop takes KNN results and filters by source track genres\n",
    "    genre_array = pickle.load(open(\"./data/genres_array_2.pkl\",\"rb\"))\n",
    "    filtered_list = []\n",
    "    song_list_length = 20\n",
    "    for output_song_index in model_results[0][1:]:\n",
    "        output_genre_list = genre_array[output_song_index]\n",
    "        for output_genre in output_genre_list:\n",
    "            output_genre = output_genre.strip(\" \")\n",
    "            for source_genre in source_genre_list:\n",
    "                source_genre = \"'\" + source_genre + \"'\"\n",
    "                if source_genre == output_genre:\n",
    "                    filtered_list.append(output_song_index)\n",
    "                else:\n",
    "                    continue\n",
    "    if len(set(filtered_list)) > song_list_length:\n",
    "        filtered_list = set(filtered_list)\n",
    "        filtered_list = list(filtered_list)[0:20]\n",
    "    else:\n",
    "        counter = song_list_length - len(set(filtered_list))\n",
    "        print(len(set(filtered_list)))\n",
    "        print(counter)\n",
    "        print(f'need to add {counter} items to final song output')\n",
    "        for output_song_index in model_results[1:]:\n",
    "            if output_song_index not in filtered_list:\n",
    "                if counter > 0:\n",
    "                    filtered_list.append(output_song_index)\n",
    "                    counter -= 1\n",
    "                else:\n",
    "                    break\n",
    "    return filtered_list    "
   ]
  },
  {
   "cell_type": "code",
   "execution_count": 169,
   "metadata": {},
   "outputs": [],
   "source": [
    "# results = predictfunc(song_features)\n",
    "source_genre_list = (get_genres(get_artist_id(song_id)))\n",
    "# source_genre_list =['techno']\n",
    "# print(source_genre_list)\n",
    "filtered_list = filter_model(results,source_genre_list)"
   ]
  },
  {
   "cell_type": "code",
   "execution_count": 157,
   "metadata": {},
   "outputs": [],
   "source": [
    "def song_id_prediction_output(filtered_list): \n",
    "    similar_songs = []\n",
    "    print('song_id_list loading...')\n",
    "    song_id_array = pickle.load(open('./data/song_id_array3.pkl', 'rb'))\n",
    "    print('song_id_list loaded')\n",
    "    print('beginning for loop...')\n",
    "    for song_row in filtered_list:\n",
    "        song_id = song_id_array[song_row]\n",
    "        similar_songs.append({'similarity': [.99], 'values': song_id})\n",
    "    json_dict = {\"songs\": similar_songs}\n",
    "    print(\"Results returned\")\n",
    "    return json_dict"
   ]
  },
  {
   "cell_type": "code",
   "execution_count": 171,
   "metadata": {},
   "outputs": [
    {
     "name": "stdout",
     "output_type": "stream",
     "text": [
      "song_id_list loading...\n",
      "song_id_list loaded\n",
      "beginning for loop...\n",
      "Results returned\n"
     ]
    },
    {
     "data": {
      "text/plain": [
       "{'songs': [{'similarity': [0.99], 'values': '2C1FzUUtHp31ZdQsTGDM2f'},\n",
       "  {'similarity': [0.99], 'values': '1NVsdk9Z0xNG2sUhZmkbD0'},\n",
       "  {'similarity': [0.99], 'values': '5SwPRje7oQV5RP0saxoZp8'},\n",
       "  {'similarity': [0.99], 'values': '5RrWu7ddslbnrRImeW7LOs'},\n",
       "  {'similarity': [0.99], 'values': '0FQjfJB4cdkVfxZHz8RV4M'},\n",
       "  {'similarity': [0.99], 'values': '6PF0WYSCH6OhGKHRHOQSxG'},\n",
       "  {'similarity': [0.99], 'values': '6vEAyRqugkWBfQpccdiWFU'},\n",
       "  {'similarity': [0.99], 'values': '7g7aNOC904ne2PUc14Xevb'},\n",
       "  {'similarity': [0.99], 'values': '4jJwm24UagUP51wTp657Xp'},\n",
       "  {'similarity': [0.99], 'values': '6roY6Z2b0Q7DH3ZM4SRoTz'},\n",
       "  {'similarity': [0.99], 'values': '5wmn1zWhSSDLUmLLwYO9Rj'},\n",
       "  {'similarity': [0.99], 'values': '34tFidHrETMAjsiK87WVVW'},\n",
       "  {'similarity': [0.99], 'values': '0rUyA7P4nPKCRVvKhFo7XL'},\n",
       "  {'similarity': [0.99], 'values': '5i2859ZJXGPOzDwdZSOMiH'},\n",
       "  {'similarity': [0.99], 'values': '3QOQEObqJvCi4M2SNeko7V'},\n",
       "  {'similarity': [0.99], 'values': '2raNLL2FWxWNA4veLZIuAj'},\n",
       "  {'similarity': [0.99], 'values': '5UORiENC2iuNTFWopBTJKV'},\n",
       "  {'similarity': [0.99], 'values': '4vTZpkN2Ri8Lfk2149NqWC'},\n",
       "  {'similarity': [0.99], 'values': '56RfNBJGUgL1ZFCB1KEJrQ'},\n",
       "  {'similarity': [0.99], 'values': '2jw0Fejobu4pxfJ1RRNT4W'}]}"
      ]
     },
     "execution_count": 171,
     "metadata": {},
     "output_type": "execute_result"
    }
   ],
   "source": [
    "song_id_prediction_output(filtered_list)"
   ]
  },
  {
   "cell_type": "markdown",
   "metadata": {},
   "source": [
    "# Older Genre Filtering Code for Reference - Attemping another approach using dataframe"
   ]
  },
  {
   "cell_type": "code",
   "execution_count": 306,
   "metadata": {},
   "outputs": [
    {
     "name": "stdout",
     "output_type": "stream",
     "text": [
      "807 !!!!!\n"
     ]
    }
   ],
   "source": [
    "# #loop takes KNN results and filters by source track genres\n",
    "# # old\n",
    "# filtered_list = []\n",
    "# # filtered_lists = []\n",
    "# source_song_index = knn_results1[0][0]\n",
    "# source_genre_list = df.loc[source_song_index][\"genres_stripped\"].split(\",\")\n",
    "# # print(source_genre_list)\n",
    "# for output_song_index in knn_results1[0][1:]:\n",
    "# #     print(output_song_index)\n",
    "#     output_genre_list = df.loc[output_song_index][\"genres_stripped\"].split(\",\")\n",
    "# #     print(output_genre_list)\n",
    "#     for output_genre in output_genre_list:\n",
    "#         output_genre = output_genre.strip(' ')\n",
    "# #         print(output_genre)\n",
    "#         for source_genre in source_genre_list:\n",
    "#             source_genre = source_genre.strip(' ')\n",
    "# #             print(source_genre)\n",
    "#             if source_genre == output_genre:\n",
    "# #                 print(output_song_index,source_genre,output_genre)\n",
    "#                 filtered_list.append(output_song_index)\n",
    "# #             print(filtered_list)\n",
    "#             else:\n",
    "# # #             print(\"source genre does not match output genre!\")\n",
    "#                 continue\n",
    "# #     filtered_lists.append(filtered_list)\n",
    "# print(len(set(filtered_list)),\"!!!!!\")"
   ]
  },
  {
   "cell_type": "markdown",
   "metadata": {},
   "source": [
    "# For Reference - Working code in KNN Model 3 Notebook - \n",
    "# Ready for Production - Load in Genre Array and Utilize in updated function for genre filtering"
   ]
  },
  {
   "cell_type": "code",
   "execution_count": null,
   "metadata": {},
   "outputs": [],
   "source": [
    "def filter_model(): \n",
    "    #loop takes KNN results and filters by source track genres\n",
    "    filtered_list = []\n",
    "    song_list_length = 364\n",
    "    source_song_index = knn_results1[0][0]\n",
    "    source_genre_list = genre_array[source_song_index]\n",
    "    for output_song_index in knn_results1[0][1:]:\n",
    "        output_genre_list = genre_array[output_song_index]\n",
    "        for output_genre in output_genre_list:\n",
    "            for source_genre in source_genre_list:\n",
    "                if source_genre == output_genre:\n",
    "                    filtered_list.append(output_song_index)\n",
    "                else:\n",
    "                    continue\n",
    "    if len(set(filtered_list)) > song_list_length:\n",
    "        print(\"list large enough\")\n",
    "    else:\n",
    "        counter = song_list_length - len(set(filtered_list))\n",
    "        print(len(set(filtered_list)))\n",
    "        print(counter)\n",
    "        print(f'need to add {counter} items to final song output')\n",
    "        for output_song_index in knn_results1[0][1:]:\n",
    "            if output_song_index not in filtered_list:\n",
    "                if counter > 0:\n",
    "                    filtered_list.append(output_song_index)\n",
    "                    counter -= 1\n",
    "                else:\n",
    "                    break\n",
    "            \n",
    "#     print(len(output_song_index_list),\"!!!!!\")    "
   ]
  },
  {
   "cell_type": "code",
   "execution_count": null,
   "metadata": {},
   "outputs": [],
   "source": [
    "filter_model()"
   ]
  },
  {
   "cell_type": "markdown",
   "metadata": {},
   "source": [
    "# Test Multiple Rows - Functional!"
   ]
  },
  {
   "cell_type": "code",
   "execution_count": 272,
   "metadata": {},
   "outputs": [],
   "source": [
    "def output_len_of_lists(list_of_lists):\n",
    "    for list_item in list_of_lists:\n",
    "        print(len(list_item))"
   ]
  },
  {
   "cell_type": "code",
   "execution_count": null,
   "metadata": {},
   "outputs": [],
   "source": [
    "#loop takes range of KNN results per defined track range and filter matches by source track genres\n",
    "filtered_lists = []\n",
    "for source_song_index in range(0,1000):\n",
    "    knn_results1 = knn1.kneighbors([data_normalized[source_song_index]])[1]\n",
    "    knn_result_ouputs = knn_results1[0][1:]\n",
    "    filtered_list = []\n",
    "    source_genre_list = genre_array[source_song_index]\n",
    "    for output_song_index in knn_result_ouputs:\n",
    "        output_genre_list = genre_array[output_song_index]\n",
    "        for output_genre in output_genre_list:\n",
    "            for source_genre in source_genre_list:\n",
    "                if source_genre == output_genre:\n",
    "                    filtered_list.append(output_song_index)\n",
    "                else:\n",
    "                    continue\n",
    "    filtered_lists.append(set(filtered_list))\n",
    "    \n",
    "output_len_of_lists(filtered_lists)"
   ]
  },
  {
   "cell_type": "markdown",
   "metadata": {},
   "source": [
    "# From predict.py - Old Production Code"
   ]
  },
  {
   "cell_type": "code",
   "execution_count": 27,
   "metadata": {},
   "outputs": [],
   "source": [
    "def instantiate_sp(token):\n",
    "    sp = spotipy.Spotify(auth=token)\n",
    "    return sp"
   ]
  },
  {
   "cell_type": "code",
   "execution_count": 28,
   "metadata": {},
   "outputs": [
    {
     "data": {
      "text/plain": [
       "<spotipy.client.Spotify at 0x11ac0dbd0>"
      ]
     },
     "execution_count": 28,
     "metadata": {},
     "output_type": "execute_result"
    }
   ],
   "source": [
    "instantiate_sp(token)"
   ]
  },
  {
   "cell_type": "code",
   "execution_count": 29,
   "metadata": {},
   "outputs": [],
   "source": [
    "def get_user_song_id(sp):\n",
    "    results = sp.current_user_saved_tracks()\n",
    "    genre = []\n",
    "    counter = 0 \n",
    "    for song_number in range(0,19):\n",
    "        counter += 1 \n",
    "        song_id = results['items'][song_number]['track']['id']\n",
    "        artist_id = get_artist_id(song_id)\n",
    "        genre = get_genres(artist_id)\n",
    "        if genre != []:\n",
    "            break\n",
    "    return song_id"
   ]
  },
  {
   "cell_type": "code",
   "execution_count": 30,
   "metadata": {},
   "outputs": [],
   "source": [
    "def get_acoustical_features(song_id,sp):\n",
    "    return sp.audio_features(song_id)[0]"
   ]
  },
  {
   "cell_type": "code",
   "execution_count": 31,
   "metadata": {},
   "outputs": [],
   "source": [
    "def get_popularity(trackID):\n",
    "    return sp.track(trackID)['popularity']"
   ]
  },
  {
   "cell_type": "code",
   "execution_count": 32,
   "metadata": {},
   "outputs": [],
   "source": [
    "def get_artist_id(trackID):\n",
    "    return sp.track(trackID)['artists'][0]['id']"
   ]
  },
  {
   "cell_type": "code",
   "execution_count": 33,
   "metadata": {},
   "outputs": [],
   "source": [
    "def get_genres(artistID):\n",
    "    return sp.artist(artistID)['genres']"
   ]
  },
  {
   "cell_type": "code",
   "execution_count": 34,
   "metadata": {},
   "outputs": [],
   "source": [
    "song_id = get_user_song_id(instantiate_sp(token))"
   ]
  },
  {
   "cell_type": "code",
   "execution_count": 35,
   "metadata": {},
   "outputs": [
    {
     "data": {
      "text/plain": [
       "'1WbwlYiiMZGQlrFGirRnHv'"
      ]
     },
     "execution_count": 35,
     "metadata": {},
     "output_type": "execute_result"
    }
   ],
   "source": [
    "song_id"
   ]
  },
  {
   "cell_type": "code",
   "execution_count": 40,
   "metadata": {},
   "outputs": [
    {
     "data": {
      "text/plain": [
       "{'danceability': 0.62,\n",
       " 'energy': 0.231,\n",
       " 'key': 11,\n",
       " 'loudness': -23.873,\n",
       " 'mode': 1,\n",
       " 'speechiness': 0.0486,\n",
       " 'acousticness': 0.961,\n",
       " 'instrumentalness': 0.911,\n",
       " 'liveness': 0.0741,\n",
       " 'valence': 0.053,\n",
       " 'tempo': 104.853,\n",
       " 'type': 'audio_features',\n",
       " 'id': '1WbwlYiiMZGQlrFGirRnHv',\n",
       " 'uri': 'spotify:track:1WbwlYiiMZGQlrFGirRnHv',\n",
       " 'track_href': 'https://api.spotify.com/v1/tracks/1WbwlYiiMZGQlrFGirRnHv',\n",
       " 'analysis_url': 'https://api.spotify.com/v1/audio-analysis/1WbwlYiiMZGQlrFGirRnHv',\n",
       " 'duration_ms': 185720,\n",
       " 'time_signature': 4}"
      ]
     },
     "execution_count": 40,
     "metadata": {},
     "output_type": "execute_result"
    }
   ],
   "source": [
    "get_acoustical_features(song_id,sp)"
   ]
  },
  {
   "cell_type": "markdown",
   "metadata": {},
   "source": [
    "# Production Flask Predict function"
   ]
  },
  {
   "cell_type": "code",
   "execution_count": 36,
   "metadata": {},
   "outputs": [],
   "source": [
    "def get_features(song_id,sp):\n",
    "    results_dict = sp.audio_features(song_id)[0]\n",
    "    audio_features = {\n",
    "        \"audio_features\": {\n",
    "            key: results_dict[key] for key in results_dict.keys() & {\n",
    "                'danceability',\n",
    "                'energy',\n",
    "                'key',\n",
    "                'loudness',\n",
    "                'mode',\n",
    "                'speechiness',\n",
    "                'acousticness',\n",
    "                'instrumentalness',\n",
    "                'liveness',\n",
    "                'valence',\n",
    "                'tempo',\n",
    "                'time_signature'}}}\n",
    "\n",
    "    return audio_features"
   ]
  },
  {
   "cell_type": "code",
   "execution_count": 37,
   "metadata": {},
   "outputs": [
    {
     "data": {
      "text/plain": [
       "{'audio_features': {'time_signature': 4,\n",
       "  'speechiness': 0.0486,\n",
       "  'acousticness': 0.961,\n",
       "  'danceability': 0.62,\n",
       "  'tempo': 104.853,\n",
       "  'mode': 1,\n",
       "  'loudness': -23.873,\n",
       "  'valence': 0.053,\n",
       "  'key': 11,\n",
       "  'liveness': 0.0741,\n",
       "  'instrumentalness': 0.911,\n",
       "  'energy': 0.231}}"
      ]
     },
     "execution_count": 37,
     "metadata": {},
     "output_type": "execute_result"
    }
   ],
   "source": [
    "get_features(song_id,sp)"
   ]
  },
  {
   "cell_type": "code",
   "execution_count": 13,
   "metadata": {},
   "outputs": [],
   "source": [
    "def predict(content):\n",
    "    similar_songs = []\n",
    "    print('Loading dataframe...')\n",
    "    dataframe = pd.DataFrame.from_dict(\n",
    "        json_normalize(content['audio_features']),\n",
    "                                orient='columns')\n",
    "    print(dataframe)\n",
    "    print('Dataframe Object Created')\n",
    "    print('Loading pickled scaler...')\n",
    "    scalar = load('./models/scalar2.joblib')\n",
    "    print('Pickled scaler loaded')\n",
    "    print('Scaling dataframe object...')\n",
    "    df_array = np.array(dataframe)\n",
    "    print(df_array)\n",
    "    dataframe_scaled = scalar.transform(df_array)\n",
    "    print(dataframe_scaled)\n",
    "    print('Dataframe scaled')\n",
    "    print('Loading pickled model...')\n",
    "    model = load('./models/model2.joblib')\n",
    "    print('Model loaded')\n",
    "    results = model.kneighbors([dataframe_scaled][0])[1]\n",
    "    print('Prediction executed')\n",
    "    print('song_id_list loading...')\n",
    "    song_id_list = load('./data/song_id_list2.joblib')\n",
    "    print('song_id_list loaded')\n",
    "    \n",
    "    print('beginning for loop...')\n",
    "    for song_row in results[0][1:]:\n",
    "        song_id = song_id_list[song_row]\n",
    "        similar_songs.append({'similarity': [.99], 'values': song_id})\n",
    "    json_dict = {\"songs\": similar_songs}\n",
    "    return json_dict"
   ]
  },
  {
   "cell_type": "code",
   "execution_count": 14,
   "metadata": {},
   "outputs": [
    {
     "name": "stdout",
     "output_type": "stream",
     "text": [
      "Loading dataframe...\n",
      "   danceability  energy    tempo  speechiness  key  liveness  valence  \\\n",
      "0          0.62   0.231  104.853       0.0486   11    0.0741    0.053   \n",
      "\n",
      "   instrumentalness  loudness  time_signature  acousticness  mode  \n",
      "0             0.911   -23.873               4         0.961     1  \n",
      "Dataframe Object Created\n",
      "Loading pickled scaler...\n",
      "Pickled scaler loaded\n",
      "Scaling dataframe object...\n",
      "[[ 6.20000e-01  2.31000e-01  1.04853e+02  4.86000e-02  1.10000e+01\n",
      "   7.41000e-02  5.30000e-02  9.11000e-01 -2.38730e+01  4.00000e+00\n",
      "   9.61000e-01  1.00000e+00]]\n",
      "[[ 6.22489960e-01  2.31695085e-01  1.04853000e+02  4.86000000e-02\n",
      "   1.00000000e+00  7.41000000e-02  9.05285215e-01  9.11000000e-01\n",
      "  -2.46621901e+01  1.60010881e-02  1.92200000e-01  1.00000000e+00]]\n",
      "Dataframe scaled\n",
      "Loading pickled model...\n",
      "Model loaded\n",
      "Prediction executed\n",
      "song_id_list loading...\n",
      "song_id_list loaded\n",
      "beginning for loop...\n"
     ]
    },
    {
     "data": {
      "text/plain": [
       "{'songs': [{'similarity': [0.99], 'values': '5JCOty8yyvF9TViLuErnGs'},\n",
       "  {'similarity': [0.99], 'values': '6TlIKA2WbzqMe5XYSfZlAN'},\n",
       "  {'similarity': [0.99], 'values': '55GUHzqAzcnLQxxXUzUXBG'},\n",
       "  {'similarity': [0.99], 'values': '25KWesixaxoMc9pw0yKTJ5'},\n",
       "  {'similarity': [0.99], 'values': '3ga81Ra1zTzxrdl1QEi1Vq'},\n",
       "  {'similarity': [0.99], 'values': '0YsxUUcK9nAbDBMKyAQrxK'},\n",
       "  {'similarity': [0.99], 'values': '41hQCtZslX1BMRB8bsswlm'},\n",
       "  {'similarity': [0.99], 'values': '3iM84eZQ6JLFfWLcqF9mCd'},\n",
       "  {'similarity': [0.99], 'values': '2BW7QcTMnChZR8XGTVZzf9'},\n",
       "  {'similarity': [0.99], 'values': '53E0iLvaSlApDIcIdL7Q3G'},\n",
       "  {'similarity': [0.99], 'values': '1jb95UllYPKzg0tZaEhj78'},\n",
       "  {'similarity': [0.99], 'values': '6wzvPnGC7pnB2Yms834o1l'},\n",
       "  {'similarity': [0.99], 'values': '4PWlZhmZSuSvfne0jXMNSg'},\n",
       "  {'similarity': [0.99], 'values': '4WnqkG5DAC8GWM6d4Hyqdf'},\n",
       "  {'similarity': [0.99], 'values': '3LCA1ZrMYxeQ9j9ZeIE9uN'},\n",
       "  {'similarity': [0.99], 'values': '4Tr0syfaxqpeq3MlVvmJdb'},\n",
       "  {'similarity': [0.99], 'values': '65FpzER0tiiz7InVpBEOqZ'},\n",
       "  {'similarity': [0.99], 'values': '5ILPFVn0wOiihxfSaSwTkR'},\n",
       "  {'similarity': [0.99], 'values': '2qCHgh9suraXWzvB9kUkmH'},\n",
       "  {'similarity': [0.99], 'values': '0L6sa3YZFykpGrekkYyRTo'}]}"
      ]
     },
     "execution_count": 14,
     "metadata": {},
     "output_type": "execute_result"
    }
   ],
   "source": [
    "predict(get_features(song_id,sp))"
   ]
  },
  {
   "cell_type": "code",
   "execution_count": 15,
   "metadata": {},
   "outputs": [
    {
     "data": {
      "text/plain": [
       "'1WbwlYiiMZGQlrFGirRnHv'"
      ]
     },
     "execution_count": 15,
     "metadata": {},
     "output_type": "execute_result"
    }
   ],
   "source": [
    "song_id"
   ]
  },
  {
   "cell_type": "code",
   "execution_count": null,
   "metadata": {},
   "outputs": [],
   "source": []
  }
 ],
 "metadata": {
  "kernelspec": {
   "display_name": "Python 3",
   "language": "python",
   "name": "python3"
  },
  "language_info": {
   "codemirror_mode": {
    "name": "ipython",
    "version": 3
   },
   "file_extension": ".py",
   "mimetype": "text/x-python",
   "name": "python",
   "nbconvert_exporter": "python",
   "pygments_lexer": "ipython3",
   "version": "3.7.4"
  }
 },
 "nbformat": 4,
 "nbformat_minor": 4
}
