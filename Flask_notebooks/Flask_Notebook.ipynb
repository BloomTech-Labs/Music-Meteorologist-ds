{
 "cells": [
  {
   "cell_type": "code",
   "execution_count": 58,
   "metadata": {},
   "outputs": [],
   "source": [
    "import spotipy\n",
    "import spotipy.util as util\n",
    "from sklearn.neighbors import NearestNeighbors\n",
    "from sklearn.preprocessing import StandardScaler, MinMaxScaler, Normalizer\n",
    "import pandas as pd\n",
    "from pandas.io.json import json_normalize\n",
    "from flask import jsonify\n",
    "from joblib import load\n",
    "import pickle"
   ]
  },
  {
   "cell_type": "code",
   "execution_count": 4,
   "metadata": {},
   "outputs": [
    {
     "name": "stdout",
     "output_type": "stream",
     "text": [
      "\n",
      "\n",
      "            User authentication requires interaction with your\n",
      "            web browser. Once you enter your credentials and\n",
      "            give authorization, you will be redirected to\n",
      "            a url.  Paste that url you were directed to to\n",
      "            complete the authorization.\n",
      "\n",
      "        \n",
      "Opened https://accounts.spotify.com/authorize?client_id=b954b92b9a674e6a9cf7322649da82d1&response_type=code&redirect_uri=https%3A%2F%2Fgoogle.com%2F&scope=user-library-read in your browser\n",
      "\n",
      "\n"
     ]
    },
    {
     "name": "stdin",
     "output_type": "stream",
     "text": [
      "Enter the URL you were redirected to:  https://www.google.com/?code=AQBA9YISXwisxtIAhKsVLsnovM2M0W1YmsE-LOmis72YKs8wipZimrIkrbl7Xq-xUdZLqoDf1_dKAAL8QV-RGRY6N0nGcI65LYOIfv3Y5aN9j8zn03X9_HxBc5e31V7bfPjd23oTYB-8WHTRBlhpYo6_uCX-lxeYT4UyfB_mw0BY6PMP8ednN4YNC1hH2D-NEO-R5bQ0i-G5TMDQ\n"
     ]
    },
    {
     "name": "stdout",
     "output_type": "stream",
     "text": [
      "\n",
      "\n"
     ]
    }
   ],
   "source": [
    "USERNAME = 'augt12ocf9csxa4s8kbq9reg8' #your spotify username\n",
    "CLIENT_ID = 'b954b92b9a674e6a9cf7322649da82d1' #set at your developer account\n",
    "CLIENT_SECRET = '920cd41023994b1a99210243ce8967b2' #set at your developer account\n",
    "REDIRECT_URI = 'https://google.com/' #set at your developer account, usually \"http://localhost:8000\"\n",
    "SCOPE = 'user-library-read' # or else\n",
    "# ps. REDIRECT_URI is crucial here. if http://localhost:8000 is not set, or with a single '/' misplaced, it will generate a connection error.\n",
    "\n",
    "# then pass them:\n",
    "\n",
    "token = util.prompt_for_user_token(username = USERNAME, \n",
    "                                   scope = SCOPE, \n",
    "                                   client_id = CLIENT_ID, \n",
    "                                   client_secret = CLIENT_SECRET, \n",
    "                                   redirect_uri = REDIRECT_URI)\n",
    "\n",
    "if token:\n",
    "   sp = spotipy.Spotify(auth=token)"
   ]
  },
  {
   "cell_type": "markdown",
   "metadata": {},
   "source": [
    "# Flask Predict function"
   ]
  },
  {
   "cell_type": "code",
   "execution_count": null,
   "metadata": {},
   "outputs": [],
   "source": [
    "def predict(content):\n",
    "    similar_songs = []\n",
    "    print('Loading dataframe...')\n",
    "    dataframe = pd.DataFrame.from_dict(\n",
    "        json_normalize(content['audio_features']),\n",
    "                                orient='columns')\n",
    "    print('Dataframe Object Created')\n",
    "    print('Loading pickled scaler...')\n",
    "    scalar = load('scalar2.joblib')\n",
    "    print('Pickled scaler loaded')\n",
    "    print('Scaling dataframe object...')\n",
    "    dataframe_scaled = scalar.transform(dataframe)\n",
    "    print('Dataframe scaled')\n",
    "    print('Loading pickled model...')\n",
    "    model = load('model2.joblib')\n",
    "    print('Model loaded')\n",
    "    results = model.kneighbors([dataframe_scaled][0])[1]\n",
    "    print('Prediction executed')\n",
    "    print('song_id_list loading...')\n",
    "    song_id_list = load('song_id_list2.joblib')\n",
    "    print('song_id_list loaded')\n",
    "    \n",
    "    print('beginning for loop...')\n",
    "    for song_row in results[0][1:]:\n",
    "        song_id = song_id_list[song_row]\n",
    "        similar_songs.append({'similarity': [.99], 'values': song_id})\n",
    "    json_dict = {\"songs\": similar_songs}\n",
    "    return json_dict"
   ]
  },
  {
   "cell_type": "code",
   "execution_count": null,
   "metadata": {},
   "outputs": [],
   "source": [
    "from sklearn.neighbors import NearestNeighbors\n",
    "from sklearn.preprocessing import StandardScaler, MinMaxScaler\n",
    "from flask import request\n",
    "from joblib import dump\n",
    "from joblib import load\n",
    "\n",
    "import pandas as pd\n",
    "from pandas.io.json import json_normalize\n",
    "from flask import jsonify"
   ]
  },
  {
   "cell_type": "code",
   "execution_count": null,
   "metadata": {},
   "outputs": [],
   "source": []
  },
  {
   "cell_type": "markdown",
   "metadata": {},
   "source": [
    "# Attemping another approach using dataframe - success"
   ]
  },
  {
   "cell_type": "code",
   "execution_count": 306,
   "metadata": {},
   "outputs": [
    {
     "name": "stdout",
     "output_type": "stream",
     "text": [
      "807 !!!!!\n"
     ]
    }
   ],
   "source": [
    "#loop takes KNN results and filters by source track genres\n",
    "# old\n",
    "filtered_list = []\n",
    "# filtered_lists = []\n",
    "source_song_index = knn_results1[0][0]\n",
    "source_genre_list = df.loc[source_song_index][\"genres_stripped\"].split(\",\")\n",
    "# print(source_genre_list)\n",
    "for output_song_index in knn_results1[0][1:]:\n",
    "#     print(output_song_index)\n",
    "    output_genre_list = df.loc[output_song_index][\"genres_stripped\"].split(\",\")\n",
    "#     print(output_genre_list)\n",
    "    for output_genre in output_genre_list:\n",
    "        output_genre = output_genre.strip(' ')\n",
    "#         print(output_genre)\n",
    "        for source_genre in source_genre_list:\n",
    "            source_genre = source_genre.strip(' ')\n",
    "#             print(source_genre)\n",
    "            if source_genre == output_genre:\n",
    "#                 print(output_song_index,source_genre,output_genre)\n",
    "                filtered_list.append(output_song_index)\n",
    "#             print(filtered_list)\n",
    "            else:\n",
    "# #             print(\"source genre does not match output genre!\")\n",
    "                continue\n",
    "#     filtered_lists.append(filtered_list)\n",
    "print(len(set(filtered_list)),\"!!!!!\")"
   ]
  },
  {
   "cell_type": "code",
   "execution_count": 260,
   "metadata": {},
   "outputs": [
    {
     "data": {
      "text/plain": [
       "376"
      ]
     },
     "execution_count": 260,
     "metadata": {},
     "output_type": "execute_result"
    }
   ],
   "source": [
    "len(set(filtered_list))"
   ]
  },
  {
   "cell_type": "code",
   "execution_count": 308,
   "metadata": {},
   "outputs": [
    {
     "data": {
      "text/plain": [
       "2"
      ]
     },
     "execution_count": 308,
     "metadata": {},
     "output_type": "execute_result"
    }
   ],
   "source": [
    "knn_results1[0][0]"
   ]
  },
  {
   "cell_type": "markdown",
   "metadata": {},
   "source": [
    "# Ready for Production - Load in Genre Array and Utilize in updated function for genre filtering"
   ]
  },
  {
   "cell_type": "code",
   "execution_count": null,
   "metadata": {},
   "outputs": [],
   "source": [
    "def filter_model(): \n",
    "    #loop takes KNN results and filters by source track genres\n",
    "    filtered_list = []\n",
    "    song_list_length = 364\n",
    "    source_song_index = knn_results1[0][0]\n",
    "    source_genre_list = genre_array[source_song_index]\n",
    "    for output_song_index in knn_results1[0][1:]:\n",
    "        output_genre_list = genre_array[output_song_index]\n",
    "        for output_genre in output_genre_list:\n",
    "            for source_genre in source_genre_list:\n",
    "                if source_genre == output_genre:\n",
    "                    filtered_list.append(output_song_index)\n",
    "                else:\n",
    "                    continue\n",
    "    if len(set(filtered_list)) > song_list_length:\n",
    "        print(\"list large enough\")\n",
    "    else:\n",
    "        counter = song_list_length - len(set(filtered_list))\n",
    "        print(len(set(filtered_list)))\n",
    "        print(counter)\n",
    "        print(f'need to add {counter} items to final song output')\n",
    "        for output_song_index in knn_results1[0][1:]:\n",
    "            if output_song_index not in filtered_list:\n",
    "                if counter > 0:\n",
    "                    filtered_list.append(output_song_index)\n",
    "                    counter -= 1\n",
    "                else:\n",
    "                    break\n",
    "            \n",
    "#     print(len(output_song_index_list),\"!!!!!\")    "
   ]
  },
  {
   "cell_type": "code",
   "execution_count": null,
   "metadata": {},
   "outputs": [],
   "source": [
    "filter_model()"
   ]
  },
  {
   "cell_type": "markdown",
   "metadata": {},
   "source": [
    "# Test Multiple Rows - Functional!"
   ]
  },
  {
   "cell_type": "code",
   "execution_count": 272,
   "metadata": {},
   "outputs": [],
   "source": [
    "def output_len_of_lists(list_of_lists):\n",
    "    for list_item in list_of_lists:\n",
    "        print(len(list_item))"
   ]
  },
  {
   "cell_type": "code",
   "execution_count": null,
   "metadata": {},
   "outputs": [],
   "source": [
    "#loop takes range of KNN results per defined track range and filter matches by source track genres\n",
    "filtered_lists = []\n",
    "for source_song_index in range(0,1000):\n",
    "    knn_results1 = knn1.kneighbors([data_normalized[source_song_index]])[1]\n",
    "    knn_result_ouputs = knn_results1[0][1:]\n",
    "    filtered_list = []\n",
    "    source_genre_list = genre_array[source_song_index]\n",
    "    for output_song_index in knn_result_ouputs:\n",
    "        output_genre_list = genre_array[output_song_index]\n",
    "        for output_genre in output_genre_list:\n",
    "            for source_genre in source_genre_list:\n",
    "                if source_genre == output_genre:\n",
    "                    filtered_list.append(output_song_index)\n",
    "                else:\n",
    "                    continue\n",
    "    filtered_lists.append(set(filtered_list))\n",
    "    \n",
    "output_len_of_lists(filtered_lists)"
   ]
  },
  {
   "cell_type": "markdown",
   "metadata": {},
   "source": [
    "# From predict.py"
   ]
  },
  {
   "cell_type": "code",
   "execution_count": 5,
   "metadata": {},
   "outputs": [],
   "source": [
    "def instantiate_sp(token):\n",
    "    sp = spotipy.Spotify(auth=token)\n",
    "    return sp"
   ]
  },
  {
   "cell_type": "code",
   "execution_count": 6,
   "metadata": {},
   "outputs": [
    {
     "data": {
      "text/plain": [
       "<spotipy.client.Spotify at 0x11c1357f0>"
      ]
     },
     "execution_count": 6,
     "metadata": {},
     "output_type": "execute_result"
    }
   ],
   "source": [
    "instantiate_sp(token)"
   ]
  },
  {
   "cell_type": "code",
   "execution_count": 7,
   "metadata": {},
   "outputs": [],
   "source": [
    "def get_id(sp):\n",
    "    results = sp.current_user_saved_tracks()\n",
    "    song_id = results['items'][0]['track']['id']\n",
    "    return song_id"
   ]
  },
  {
   "cell_type": "code",
   "execution_count": 8,
   "metadata": {},
   "outputs": [],
   "source": [
    "song_id = get_id(instantiate_sp(token))"
   ]
  },
  {
   "cell_type": "code",
   "execution_count": 9,
   "metadata": {},
   "outputs": [],
   "source": [
    "def get_features(song_id,sp):\n",
    "    results_dict = sp.audio_features(song_id)[0]\n",
    "    audio_features = {\n",
    "        \"audio_features\": {\n",
    "            key: results_dict[key] for key in results_dict.keys() & {\n",
    "                'danceability',\n",
    "                'energy',\n",
    "                'key',\n",
    "                'loudness',\n",
    "                'mode',\n",
    "                'speechiness',\n",
    "                'acousticness',\n",
    "                'instrumentalness',\n",
    "                'liveness',\n",
    "                'valence',\n",
    "                'tempo',\n",
    "                'time_signature'}}}\n",
    "\n",
    "    return audio_features"
   ]
  },
  {
   "cell_type": "code",
   "execution_count": 10,
   "metadata": {},
   "outputs": [],
   "source": [
    "content = get_features(song_id,sp)"
   ]
  },
  {
   "cell_type": "code",
   "execution_count": 71,
   "metadata": {},
   "outputs": [],
   "source": [
    "def predictfunc(content):\n",
    "    similar_songs = []\n",
    "    print('Loading dataframe...')\n",
    "    dataframe = pd.DataFrame.from_dict(\n",
    "        json_normalize(content['audio_features']),\n",
    "        orient='columns')\n",
    "    print('Dataframe Object Created')\n",
    "    print(dataframe)\n",
    "    scaler = MinMaxScaler()\n",
    "    print('Scaling data...')\n",
    "    data_scaled = scaler.fit_transform(dataframe)\n",
    "    print('Data scaled')\n",
    "    normalizer = Normalizer()\n",
    "    print('Normalizing data...')\n",
    "    data_normalized = normalizer.fit_transform(data_scaled)\n",
    "    print('Data normalized')\n",
    "    print('Loading pickled model...')\n",
    "    model = load('models/model2.joblib')\n",
    "    print('Model loaded')\n",
    "#     need to add popularity and genre filtering here\n",
    "    \n",
    "    results = model.kneighbors([data_scaled][0])[1]\n",
    "#     genre filtering\n",
    "    print('Prediction executed')\n",
    "    print('song_id_list loading...')\n",
    "    song_id_list = pickle.load(open('data/old_song_array.pkl', 'rb'))\n",
    "    print('song_id_list loaded')\n",
    "\n",
    "    print('beginning for loop...')\n",
    "    for song_row in results[0][1:]:\n",
    "        song_id = song_id_list[song_row]\n",
    "        similar_songs.append({'similarity': [.99], 'values': song_id})\n",
    "    json_dict = {\"songs\": similar_songs}\n",
    "    return json_dict\n"
   ]
  },
  {
   "cell_type": "code",
   "execution_count": 72,
   "metadata": {},
   "outputs": [
    {
     "name": "stdout",
     "output_type": "stream",
     "text": [
      "Loading dataframe...\n",
      "Dataframe Object Created\n",
      "    tempo  mode  key  loudness  instrumentalness  valence  energy  liveness  \\\n",
      "0  75.863     0    0    -4.647                 0    0.298   0.652     0.142   \n",
      "\n",
      "   acousticness  speechiness  time_signature  danceability  \n",
      "0         0.215       0.0406               4         0.253  \n",
      "Scaling data...\n",
      "Data scaled\n",
      "Normalizing data...\n",
      "Data normalized\n",
      "Loading pickled model...\n"
     ]
    },
    {
     "name": "stderr",
     "output_type": "stream",
     "text": [
      "/Users/alexanderbennett/.local/share/virtualenvs/model_notebooks-FtE4iyOL/lib/python3.7/site-packages/ipykernel_launcher.py:5: FutureWarning: pandas.io.json.json_normalize is deprecated, use pandas.json_normalize instead\n",
      "  \"\"\"\n"
     ]
    },
    {
     "name": "stdout",
     "output_type": "stream",
     "text": [
      "Model loaded\n",
      "Prediction executed\n",
      "song_id_list loading...\n",
      "song_id_list loaded\n",
      "beginning for loop...\n"
     ]
    },
    {
     "data": {
      "text/plain": [
       "{'songs': [{'similarity': [0.99], 'values': '41rgtFRfQKyPO6ZU40eWor'},\n",
       "  {'similarity': [0.99], 'values': '1yPXig0m7bQIQ8UixN8lOJ'},\n",
       "  {'similarity': [0.99], 'values': '2q2KTvUpl3KLrHMWBAmNI8'},\n",
       "  {'similarity': [0.99], 'values': '5I9f40X50PyLIEvKlN1tyo'},\n",
       "  {'similarity': [0.99], 'values': '3BoH4AvNZzY3cQdurkvhU4'},\n",
       "  {'similarity': [0.99], 'values': '45GRVGGiLwPa2Z0BeUZcAv'},\n",
       "  {'similarity': [0.99], 'values': '2m1ThHoDeAULinkfzASSqg'},\n",
       "  {'similarity': [0.99], 'values': '72koDZY0TS6BmTw8kYPR7w'},\n",
       "  {'similarity': [0.99], 'values': '5IOoDlyOTBGClrDRO8aZuw'},\n",
       "  {'similarity': [0.99], 'values': '0Lkwk8rd0gL1XHp1QBPE6c'},\n",
       "  {'similarity': [0.99], 'values': '3ytgAYdNoaywvU0ATOlrnH'},\n",
       "  {'similarity': [0.99], 'values': '1jf8Uqw7jiUrzC8UjiBHgN'},\n",
       "  {'similarity': [0.99], 'values': '0zU122kgLbboswDR0WCUsU'},\n",
       "  {'similarity': [0.99], 'values': '4CrDyjkgbFHQrbemVWBshN'},\n",
       "  {'similarity': [0.99], 'values': '09GND2Z9Gl8hOLZtL4Wlba'},\n",
       "  {'similarity': [0.99], 'values': '45xTUDva3Di8eSIuAVg3uI'},\n",
       "  {'similarity': [0.99], 'values': '2V6ChvUSND13QxYGkOBqdh'},\n",
       "  {'similarity': [0.99], 'values': '2nS33VatQh7dwN4FwV0ElK'},\n",
       "  {'similarity': [0.99], 'values': '33VsUkTdoYkuPjtClfS4P6'},\n",
       "  {'similarity': [0.99], 'values': '1UFbpb3JtpS8S1lDZtSefX'}]}"
      ]
     },
     "execution_count": 72,
     "metadata": {},
     "output_type": "execute_result"
    }
   ],
   "source": [
    "predictfunc(content)"
   ]
  },
  {
   "cell_type": "code",
   "execution_count": 53,
   "metadata": {},
   "outputs": [],
   "source": [
    "# import numpy as np\n",
    "\n",
    "# old_song_list = load('data/song_id_list2(1).joblib')\n",
    "\n",
    "# old_song_array = np.array(old_song_list)\n",
    "\n",
    "# pickle.dump(old_song_array, open('data/old_song_array.pkl', 'wb'))"
   ]
  },
  {
   "cell_type": "code",
   "execution_count": null,
   "metadata": {},
   "outputs": [],
   "source": [
    "def filter_model(): \n",
    "    #loop takes KNN results and filters by source track genres\n",
    "    filtered_list = []\n",
    "    song_list_length = 364\n",
    "    source_song_index = knn_results1[0][0]\n",
    "    source_genre_list = genre_array[source_song_index]\n",
    "    for output_song_index in knn_results1[0][1:]:\n",
    "        output_genre_list = genre_array[output_song_index]\n",
    "        for output_genre in output_genre_list:\n",
    "            for source_genre in source_genre_list:\n",
    "                if source_genre == output_genre:\n",
    "                    filtered_list.append(output_song_index)\n",
    "                else:\n",
    "                    continue\n",
    "    if len(set(filtered_list)) > song_list_length:\n",
    "        print(\"list large enough\")\n",
    "    else:\n",
    "        counter = song_list_length - len(set(filtered_list))\n",
    "        print(len(set(filtered_list)))\n",
    "        print(counter)\n",
    "        print(f'need to add {counter} items to final song output')\n",
    "        for output_song_index in knn_results1[0][1:]:\n",
    "            if output_song_index not in filtered_list:\n",
    "                if counter > 0:\n",
    "                    filtered_list.append(output_song_index)\n",
    "                    counter -= 1\n",
    "                else:\n",
    "                    break\n",
    "            \n",
    "#     print(len(output_song_index_list),\"!!!!!\")    "
   ]
  }
 ],
 "metadata": {
  "kernelspec": {
   "display_name": "model_notebooks",
   "language": "python",
   "name": "model_notebooks"
  },
  "language_info": {
   "codemirror_mode": {
    "name": "ipython",
    "version": 3
   },
   "file_extension": ".py",
   "mimetype": "text/x-python",
   "name": "python",
   "nbconvert_exporter": "python",
   "pygments_lexer": "ipython3",
   "version": "3.7.3"
  }
 },
 "nbformat": 4,
 "nbformat_minor": 4
}
