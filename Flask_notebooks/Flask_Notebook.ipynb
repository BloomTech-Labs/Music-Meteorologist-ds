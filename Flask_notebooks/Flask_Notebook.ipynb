{
 "cells": [
  {
   "cell_type": "code",
   "execution_count": 1,
   "metadata": {},
   "outputs": [],
   "source": [
    "import spotipy\n",
    "import spotipy.util as util\n",
    "from sklearn.neighbors import NearestNeighbors\n",
    "from sklearn.preprocessing import StandardScaler, MinMaxScaler, Normalizer\n",
    "import pandas as pd\n",
    "from pandas.io.json import json_normalize\n",
    "from flask import jsonify\n",
    "from joblib import load\n",
    "import pickle\n",
    "import numpy as np"
   ]
  },
  {
   "cell_type": "code",
   "execution_count": 2,
   "metadata": {},
   "outputs": [],
   "source": [
    "USERNAME = 'augt12ocf9csxa4s8kbq9reg8' #your spotify username\n",
    "CLIENT_ID = 'b954b92b9a674e6a9cf7322649da82d1' #set at your developer account\n",
    "CLIENT_SECRET = '920cd41023994b1a99210243ce8967b2' #set at your developer account\n",
    "REDIRECT_URI = 'https://google.com/' #set at your developer account, usually \"http://localhost:8000\"\n",
    "SCOPE = 'user-library-read' # or else\n",
    "# ps. REDIRECT_URI is crucial here. if http://localhost:8000 is not set, or with a single '/' misplaced, it will generate a connection error.\n",
    "\n",
    "# then pass them:\n",
    "\n",
    "token = util.prompt_for_user_token(username = USERNAME, \n",
    "                                   scope = SCOPE, \n",
    "                                   client_id = CLIENT_ID, \n",
    "                                   client_secret = CLIENT_SECRET, \n",
    "                                   redirect_uri = REDIRECT_URI)\n",
    "\n",
    "if token:\n",
    "   sp = spotipy.Spotify(auth=token)"
   ]
  },
  {
   "cell_type": "markdown",
   "metadata": {},
   "source": [
    "# Flask Predict function"
   ]
  },
  {
   "cell_type": "code",
   "execution_count": 37,
   "metadata": {},
   "outputs": [],
   "source": [
    "def get_features(song_id,sp):\n",
    "    results_dict = sp.audio_features(song_id)[0]\n",
    "    audio_features = {\n",
    "        \"audio_features\": {\n",
    "            key: results_dict[key] for key in results_dict.keys() & {\n",
    "                'danceability',\n",
    "                'energy',\n",
    "                'key',\n",
    "                'loudness',\n",
    "                'mode',\n",
    "                'speechiness',\n",
    "                'acousticness',\n",
    "                'instrumentalness',\n",
    "                'liveness',\n",
    "                'valence',\n",
    "                'tempo',\n",
    "                'time_signature'}}}\n",
    "\n",
    "    return audio_features"
   ]
  },
  {
   "cell_type": "code",
   "execution_count": 58,
   "metadata": {},
   "outputs": [],
   "source": [
    "def predict(content):\n",
    "    similar_songs = []\n",
    "    print('Loading dataframe...')\n",
    "    dataframe = pd.DataFrame.from_dict(\n",
    "        json_normalize(content['audio_features']),\n",
    "                                orient='columns')\n",
    "    print(dataframe)\n",
    "    print('Dataframe Object Created')\n",
    "    print('Loading pickled scaler...')\n",
    "    scalar = load('./models/scalar2.joblib')\n",
    "    print(scalar)\n",
    "    print('Pickled scaler loaded')\n",
    "    print('Scaling dataframe object...')\n",
    "    df_array = np.array(dataframe)\n",
    "    print(df_array)\n",
    "    dataframe_scaled = scalar.transform(df_array)\n",
    "    print(dataframe_scaled)\n",
    "#     print('Dataframe scaled')\n",
    "#     print('Loading pickled model...')\n",
    "#     model = load('./models/model2.joblib')\n",
    "#     print('Model loaded')\n",
    "#     results = model.kneighbors([dataframe_scaled][0])[1]\n",
    "#     print('Prediction executed')\n",
    "#     print('song_id_list loading...')\n",
    "#     song_id_list = load('./data/song_id_list2.joblib')\n",
    "#     print('song_id_list loaded')\n",
    "    \n",
    "#     print('beginning for loop...')\n",
    "#     for song_row in results[0][1:]:\n",
    "#         song_id = song_id_list[song_row]\n",
    "#         similar_songs.append({'similarity': [.99], 'values': song_id})\n",
    "#     json_dict = {\"songs\": similar_songs}\n",
    "#     return json_dict"
   ]
  },
  {
   "cell_type": "code",
   "execution_count": 50,
   "metadata": {},
   "outputs": [],
   "source": [
    "from sklearn.neighbors import NearestNeighbors\n",
    "from sklearn.preprocessing import StandardScaler, MinMaxScaler\n",
    "from flask import request\n",
    "from joblib import dump\n",
    "from joblib import load\n",
    "\n",
    "import pandas as pd\n",
    "from pandas.io.json import json_normalize\n",
    "from flask import jsonify"
   ]
  },
  {
   "cell_type": "code",
   "execution_count": 59,
   "metadata": {},
   "outputs": [
    {
     "name": "stdout",
     "output_type": "stream",
     "text": [
      "Loading dataframe...\n",
      "   energy  loudness  key   tempo  liveness  instrumentalness  mode  \\\n",
      "0   0.652    -4.647    0  75.863     0.142                 0     0   \n",
      "\n",
      "   danceability  valence  acousticness  speechiness  time_signature  \n",
      "0         0.253    0.298         0.215       0.0406               4  \n",
      "Dataframe Object Created\n",
      "Loading pickled scaler...\n",
      "MinMaxScaler(copy=True, feature_range=(0, 1))\n",
      "Pickled scaler loaded\n",
      "Scaling dataframe object...\n",
      "[[ 6.5200e-01 -4.6470e+00  0.0000e+00  7.5863e+01  1.4200e-01  0.0000e+00\n",
      "   0.0000e+00  2.5300e-01  2.9800e-01  2.1500e-01  4.0600e-02  4.0000e+00]]\n",
      "[[ 6.54618474e-01 -4.66098295e+00  0.00000000e+00  7.58630000e+01\n",
      "   1.29090909e-02  0.00000000e+00  9.04486252e-01  2.53000000e-01\n",
      "   3.07851240e-01  8.60058484e-04  8.12000000e-03  4.00000000e+00]]\n"
     ]
    },
    {
     "name": "stderr",
     "output_type": "stream",
     "text": [
      "/Users/user/.local/share/virtualenvs/model_notebooks-inW34qmC/lib/python3.7/site-packages/ipykernel_launcher.py:5: FutureWarning: pandas.io.json.json_normalize is deprecated, use pandas.json_normalize instead\n",
      "  \"\"\"\n"
     ]
    }
   ],
   "source": [
    "predict(get_features(song_id,sp))"
   ]
  },
  {
   "cell_type": "markdown",
   "metadata": {},
   "source": [
    "# Attemping another approach using dataframe - success"
   ]
  },
  {
   "cell_type": "code",
   "execution_count": 306,
   "metadata": {},
   "outputs": [
    {
     "name": "stdout",
     "output_type": "stream",
     "text": [
      "807 !!!!!\n"
     ]
    }
   ],
   "source": [
    "#loop takes KNN results and filters by source track genres\n",
    "# old\n",
    "filtered_list = []\n",
    "# filtered_lists = []\n",
    "source_song_index = knn_results1[0][0]\n",
    "source_genre_list = df.loc[source_song_index][\"genres_stripped\"].split(\",\")\n",
    "# print(source_genre_list)\n",
    "for output_song_index in knn_results1[0][1:]:\n",
    "#     print(output_song_index)\n",
    "    output_genre_list = df.loc[output_song_index][\"genres_stripped\"].split(\",\")\n",
    "#     print(output_genre_list)\n",
    "    for output_genre in output_genre_list:\n",
    "        output_genre = output_genre.strip(' ')\n",
    "#         print(output_genre)\n",
    "        for source_genre in source_genre_list:\n",
    "            source_genre = source_genre.strip(' ')\n",
    "#             print(source_genre)\n",
    "            if source_genre == output_genre:\n",
    "#                 print(output_song_index,source_genre,output_genre)\n",
    "                filtered_list.append(output_song_index)\n",
    "#             print(filtered_list)\n",
    "            else:\n",
    "# #             print(\"source genre does not match output genre!\")\n",
    "                continue\n",
    "#     filtered_lists.append(filtered_list)\n",
    "print(len(set(filtered_list)),\"!!!!!\")"
   ]
  },
  {
   "cell_type": "code",
   "execution_count": 260,
   "metadata": {},
   "outputs": [
    {
     "data": {
      "text/plain": [
       "376"
      ]
     },
     "execution_count": 260,
     "metadata": {},
     "output_type": "execute_result"
    }
   ],
   "source": [
    "len(set(filtered_list))"
   ]
  },
  {
   "cell_type": "code",
   "execution_count": 308,
   "metadata": {},
   "outputs": [
    {
     "data": {
      "text/plain": [
       "2"
      ]
     },
     "execution_count": 308,
     "metadata": {},
     "output_type": "execute_result"
    }
   ],
   "source": [
    "knn_results1[0][0]"
   ]
  },
  {
   "cell_type": "markdown",
   "metadata": {},
   "source": [
    "# Ready for Production - Load in Genre Array and Utilize in updated function for genre filtering"
   ]
  },
  {
   "cell_type": "code",
   "execution_count": null,
   "metadata": {},
   "outputs": [],
   "source": [
    "def filter_model(): \n",
    "    #loop takes KNN results and filters by source track genres\n",
    "    filtered_list = []\n",
    "    song_list_length = 364\n",
    "    source_song_index = knn_results1[0][0]\n",
    "    source_genre_list = genre_array[source_song_index]\n",
    "    for output_song_index in knn_results1[0][1:]:\n",
    "        output_genre_list = genre_array[output_song_index]\n",
    "        for output_genre in output_genre_list:\n",
    "            for source_genre in source_genre_list:\n",
    "                if source_genre == output_genre:\n",
    "                    filtered_list.append(output_song_index)\n",
    "                else:\n",
    "                    continue\n",
    "    if len(set(filtered_list)) > song_list_length:\n",
    "        print(\"list large enough\")\n",
    "    else:\n",
    "        counter = song_list_length - len(set(filtered_list))\n",
    "        print(len(set(filtered_list)))\n",
    "        print(counter)\n",
    "        print(f'need to add {counter} items to final song output')\n",
    "        for output_song_index in knn_results1[0][1:]:\n",
    "            if output_song_index not in filtered_list:\n",
    "                if counter > 0:\n",
    "                    filtered_list.append(output_song_index)\n",
    "                    counter -= 1\n",
    "                else:\n",
    "                    break\n",
    "            \n",
    "#     print(len(output_song_index_list),\"!!!!!\")    "
   ]
  },
  {
   "cell_type": "code",
   "execution_count": null,
   "metadata": {},
   "outputs": [],
   "source": [
    "filter_model()"
   ]
  },
  {
   "cell_type": "markdown",
   "metadata": {},
   "source": [
    "# Test Multiple Rows - Functional!"
   ]
  },
  {
   "cell_type": "code",
   "execution_count": 272,
   "metadata": {},
   "outputs": [],
   "source": [
    "def output_len_of_lists(list_of_lists):\n",
    "    for list_item in list_of_lists:\n",
    "        print(len(list_item))"
   ]
  },
  {
   "cell_type": "code",
   "execution_count": null,
   "metadata": {},
   "outputs": [],
   "source": [
    "#loop takes range of KNN results per defined track range and filter matches by source track genres\n",
    "filtered_lists = []\n",
    "for source_song_index in range(0,1000):\n",
    "    knn_results1 = knn1.kneighbors([data_normalized[source_song_index]])[1]\n",
    "    knn_result_ouputs = knn_results1[0][1:]\n",
    "    filtered_list = []\n",
    "    source_genre_list = genre_array[source_song_index]\n",
    "    for output_song_index in knn_result_ouputs:\n",
    "        output_genre_list = genre_array[output_song_index]\n",
    "        for output_genre in output_genre_list:\n",
    "            for source_genre in source_genre_list:\n",
    "                if source_genre == output_genre:\n",
    "                    filtered_list.append(output_song_index)\n",
    "                else:\n",
    "                    continue\n",
    "    filtered_lists.append(set(filtered_list))\n",
    "    \n",
    "output_len_of_lists(filtered_lists)"
   ]
  },
  {
   "cell_type": "markdown",
   "metadata": {},
   "source": [
    "# From predict.py - Production"
   ]
  },
  {
   "cell_type": "code",
   "execution_count": 25,
   "metadata": {},
   "outputs": [],
   "source": [
    "def instantiate_sp(token):\n",
    "    sp = spotipy.Spotify(auth=token)\n",
    "    return sp"
   ]
  },
  {
   "cell_type": "code",
   "execution_count": 26,
   "metadata": {},
   "outputs": [
    {
     "data": {
      "text/plain": [
       "<spotipy.client.Spotify at 0x11d512450>"
      ]
     },
     "execution_count": 26,
     "metadata": {},
     "output_type": "execute_result"
    }
   ],
   "source": [
    "instantiate_sp(token)"
   ]
  },
  {
   "cell_type": "code",
   "execution_count": 27,
   "metadata": {},
   "outputs": [],
   "source": [
    "def get_id(sp):\n",
    "    results = sp.current_user_saved_tracks()\n",
    "    song_id = results['items'][0]['track']['id']\n",
    "    return song_id"
   ]
  },
  {
   "cell_type": "code",
   "execution_count": 28,
   "metadata": {},
   "outputs": [],
   "source": [
    "song_id = get_id(instantiate_sp(token))"
   ]
  },
  {
   "cell_type": "code",
   "execution_count": 30,
   "metadata": {},
   "outputs": [],
   "source": [
    "def get_acoustical_features(song_id,sp):\n",
    "    return sp.audio_features(song_id)[0]"
   ]
  },
  {
   "cell_type": "code",
   "execution_count": 31,
   "metadata": {},
   "outputs": [],
   "source": [
    "def get_popularity(trackID):\n",
    "    return sp.track(trackID)['popularity']"
   ]
  },
  {
   "cell_type": "code",
   "execution_count": 32,
   "metadata": {},
   "outputs": [],
   "source": [
    "def get_artist_id(trackID):\n",
    "    return sp.track(trackID)['artists'][0]['id']"
   ]
  },
  {
   "cell_type": "code",
   "execution_count": 33,
   "metadata": {},
   "outputs": [],
   "source": [
    "def get_genres(artistID):\n",
    "    return sp.artist(artistID)['genres']"
   ]
  },
  {
   "cell_type": "markdown",
   "metadata": {},
   "source": [
    "# Definining New Class for Use in Predict.py"
   ]
  },
  {
   "cell_type": "code",
   "execution_count": 3,
   "metadata": {},
   "outputs": [],
   "source": [
    "class Sound_Drip:\n",
    "    \n",
    "    def __init__(self, token):\n",
    "        self.token = token\n",
    "    \n",
    "    def instantiate_sp(self,token):\n",
    "        sp = spotipy.Spotify(auth=token)\n",
    "        return sp\n",
    "\n",
    "    def get_id(self, sp):\n",
    "        results = sp.current_user_saved_tracks()\n",
    "        song_id = results['items'][0]['track']['id']\n",
    "        return song_id\n",
    "\n",
    "    def get_acoustical_features(self,song_id,sp):\n",
    "        acoustical_features = sp.audio_features(song_id)[0]\n",
    "        return acoustical_features\n",
    "\n",
    "    def get_popularity(self, song_id):\n",
    "        popularity =  sp.track(song_id)['popularity']\n",
    "        return popularity\n",
    "\n",
    "    def get_artist_id(self, song_id):\n",
    "        artist = sp.track(song_id)['artists'][0]['id']\n",
    "        return artist\n",
    "\n",
    "    def get_genres(self, artist):\n",
    "        genre = sp.artist(artist)['genres']\n",
    "        return genre\n",
    "    \n",
    "    def create_feature_object(self,popularity, acoustical_features):\n",
    "        popularity_dict = {'popularity': popularity}\n",
    "        song_features = acoustical_features\n",
    "        song_features.update(popularity_dict)\n",
    "        song_features = {\n",
    "    \"audio_features\": {\n",
    "        key: song_features[key] for key in song_features.keys() & {\n",
    "            'popularity',\n",
    "            'acousticness',\n",
    "            'danceability',\n",
    "            'energy',\n",
    "            'instrumentalness',\n",
    "            'key',\n",
    "            'liveness',\n",
    "            'loudness',\n",
    "            'mode',\n",
    "            'speechiness',\n",
    "            'tempo',\n",
    "            'time_signature',\n",
    "            'valence'}}}\n",
    "        print(song_features)\n",
    "#         df = pd.DataFrame.from_dict(json_normalize(song_features[\"audio_features\"]),orient='columns')   \n",
    "#         df = df.reindex(sorted(df.columns), axis=1)\n",
    "#         feature_array = df.to_numpy()\n",
    "#         return feature_array\n",
    "    "
   ]
  },
  {
   "cell_type": "code",
   "execution_count": 17,
   "metadata": {},
   "outputs": [],
   "source": [
    "#         audio_features = {\n",
    "#             \"audio_features\": {\n",
    "#                 key: raw_results[key] for key in results_dict.keys() & {\n",
    "#                     'danceability',\n",
    "#                     'energy',\n",
    "#                     'key',\n",
    "#                     'loudness',\n",
    "#                     'mode',\n",
    "#                     'speechiness',\n",
    "#                     'acousticness',\n",
    "#                     'instrumentalness',\n",
    "#                     'liveness',\n",
    "#                     'valence',\n",
    "#                     'tempo',\n",
    "#                     'time_signature'}}}"
   ]
  },
  {
   "cell_type": "code",
   "execution_count": 4,
   "metadata": {},
   "outputs": [],
   "source": [
    "sd = Sound_Drip(token)"
   ]
  },
  {
   "cell_type": "code",
   "execution_count": 5,
   "metadata": {},
   "outputs": [],
   "source": [
    "sp = sd.instantiate_sp(token)"
   ]
  },
  {
   "cell_type": "code",
   "execution_count": 6,
   "metadata": {},
   "outputs": [],
   "source": [
    "song_id = sd.get_id(sp)"
   ]
  },
  {
   "cell_type": "code",
   "execution_count": 7,
   "metadata": {},
   "outputs": [],
   "source": [
    "acoustical_features = sd.get_acoustical_features(song_id, sp)"
   ]
  },
  {
   "cell_type": "code",
   "execution_count": 8,
   "metadata": {},
   "outputs": [],
   "source": [
    "popularity = sd.get_popularity(song_id)"
   ]
  },
  {
   "cell_type": "code",
   "execution_count": 9,
   "metadata": {},
   "outputs": [],
   "source": [
    "artist = sd.get_artist_id(song_id)"
   ]
  },
  {
   "cell_type": "code",
   "execution_count": 10,
   "metadata": {},
   "outputs": [],
   "source": [
    "genre = sd.get_genres(artist)"
   ]
  },
  {
   "cell_type": "code",
   "execution_count": 16,
   "metadata": {},
   "outputs": [
    {
     "name": "stdout",
     "output_type": "stream",
     "text": [
      "{'audio_features': {'mode': 0, 'liveness': 0.142, 'loudness': -4.647, 'time_signature': 4, 'danceability': 0.253, 'instrumentalness': 0, 'popularity': 39, 'key': 0, 'acousticness': 0.215, 'valence': 0.298, 'tempo': 75.863, 'energy': 0.652, 'speechiness': 0.0406}}\n"
     ]
    }
   ],
   "source": [
    "song_features = sd.create_feature_object(popularity, acoustical_features)"
   ]
  },
  {
   "cell_type": "code",
   "execution_count": 18,
   "metadata": {},
   "outputs": [
    {
     "name": "stdout",
     "output_type": "stream",
     "text": [
      "None\n"
     ]
    }
   ],
   "source": [
    "print(song_features)"
   ]
  },
  {
   "cell_type": "code",
   "execution_count": 13,
   "metadata": {},
   "outputs": [],
   "source": [
    "## Updated function - Not in Flask - \n",
    "\n",
    "def predictfunc(song_features):\n",
    "    dataframe = pd.DataFrame.from_dict(\n",
    "        json_normalize(song_features['audio_features']),\n",
    "                                orient='columns')\n",
    "    scaler = MinMaxScaler()\n",
    "    print('Scaling data...')\n",
    "    data_scaled = scaler.fit_transform(song_features)\n",
    "    print(data_scaled)\n",
    "    print('Data scaled')\n",
    "    normalizer = Normalizer()\n",
    "    print('Normalizing data...')\n",
    "#     data_normalized = normalizer.fit_transform(data_scaled)\n",
    "#     print('Data normalized')\n",
    "#     print('Loading pickled model...')\n",
    "#     model = load('models/model2.joblib')\n",
    "#     print('Model loaded')\n",
    "# #     need to add popularity and genre filtering here\n",
    "    \n",
    "#     results = model.kneighbors([data_scaled][0])[1]\n",
    "# #     genre filtering\n",
    "\n",
    "#     print('Prediction executed')\n",
    "#     print('song_id_list loading...')\n",
    "#     song_id_list = pickle.load(open('data/old_song_array.pkl', 'rb'))\n",
    "#     print('song_id_list loaded')\n",
    "\n",
    "#     print('beginning for loop...')\n",
    "#     for song_row in results[0][1:]:\n",
    "#         song_id = song_id_list[song_row]\n",
    "#         similar_songs.append({'similarity': [.99], 'values': song_id})\n",
    "#     json_dict = {\"songs\": similar_songs}\n",
    "#     return json_dict"
   ]
  },
  {
   "cell_type": "code",
   "execution_count": 14,
   "metadata": {},
   "outputs": [
    {
     "ename": "TypeError",
     "evalue": "'NoneType' object is not subscriptable",
     "output_type": "error",
     "traceback": [
      "\u001b[0;31m---------------------------------------------------------------------------\u001b[0m",
      "\u001b[0;31mTypeError\u001b[0m                                 Traceback (most recent call last)",
      "\u001b[0;32m<ipython-input-14-d4d5e396143b>\u001b[0m in \u001b[0;36m<module>\u001b[0;34m\u001b[0m\n\u001b[0;32m----> 1\u001b[0;31m \u001b[0mpredictfunc\u001b[0m\u001b[0;34m(\u001b[0m\u001b[0msong_features\u001b[0m\u001b[0;34m)\u001b[0m\u001b[0;34m\u001b[0m\u001b[0;34m\u001b[0m\u001b[0m\n\u001b[0m",
      "\u001b[0;32m<ipython-input-13-ffd435d9627f>\u001b[0m in \u001b[0;36mpredictfunc\u001b[0;34m(song_features)\u001b[0m\n\u001b[1;32m      3\u001b[0m \u001b[0;32mdef\u001b[0m \u001b[0mpredictfunc\u001b[0m\u001b[0;34m(\u001b[0m\u001b[0msong_features\u001b[0m\u001b[0;34m)\u001b[0m\u001b[0;34m:\u001b[0m\u001b[0;34m\u001b[0m\u001b[0;34m\u001b[0m\u001b[0m\n\u001b[1;32m      4\u001b[0m     dataframe = pd.DataFrame.from_dict(\n\u001b[0;32m----> 5\u001b[0;31m         \u001b[0mjson_normalize\u001b[0m\u001b[0;34m(\u001b[0m\u001b[0msong_features\u001b[0m\u001b[0;34m[\u001b[0m\u001b[0;34m'audio_features'\u001b[0m\u001b[0;34m]\u001b[0m\u001b[0;34m)\u001b[0m\u001b[0;34m,\u001b[0m\u001b[0;34m\u001b[0m\u001b[0;34m\u001b[0m\u001b[0m\n\u001b[0m\u001b[1;32m      6\u001b[0m                                 orient='columns')\n\u001b[1;32m      7\u001b[0m     \u001b[0mscaler\u001b[0m \u001b[0;34m=\u001b[0m \u001b[0mMinMaxScaler\u001b[0m\u001b[0;34m(\u001b[0m\u001b[0;34m)\u001b[0m\u001b[0;34m\u001b[0m\u001b[0;34m\u001b[0m\u001b[0m\n",
      "\u001b[0;31mTypeError\u001b[0m: 'NoneType' object is not subscriptable"
     ]
    }
   ],
   "source": [
    "predictfunc(song_features)"
   ]
  },
  {
   "cell_type": "markdown",
   "metadata": {},
   "source": [
    "# For prediction.py - New Functions"
   ]
  },
  {
   "cell_type": "code",
   "execution_count": null,
   "metadata": {},
   "outputs": [],
   "source": [
    "def filter_model(): \n",
    "    #loop takes KNN results and filters by source track genres\n",
    "    filtered_list = []\n",
    "    song_list_length = 20\n",
    "    source_genre_list = genre_array[source_song_index]\n",
    "    for output_song_index in knn_results1[0][1:]:\n",
    "        output_genre_list = genre_array[output_song_index]\n",
    "        for output_genre in output_genre_list:\n",
    "            for source_genre in source_genre_list:\n",
    "                if source_genre == output_genre:\n",
    "                    filtered_list.append(output_song_index)\n",
    "                else:\n",
    "                    continue\n",
    "    if len(set(filtered_list)) > song_list_length:\n",
    "        print(\"list large enough\")\n",
    "    else:\n",
    "        counter = song_list_length - len(set(filtered_list))\n",
    "        print(len(set(filtered_list)))\n",
    "        print(counter)\n",
    "        print(f'need to add {counter} items to final song output')\n",
    "        for output_song_index in knn_results1[0][1:]:\n",
    "            if output_song_index not in filtered_list:\n",
    "                if counter > 0:\n",
    "                    filtered_list.append(output_song_index)\n",
    "                    counter -= 1\n",
    "                else:\n",
    "                    break\n",
    "            \n",
    "#     print(len(output_song_index_list),\"!!!!!\")    "
   ]
  },
  {
   "cell_type": "code",
   "execution_count": 53,
   "metadata": {},
   "outputs": [],
   "source": [
    "# import numpy as np\n",
    "\n",
    "# old_song_list = load('data/song_id_list2(1).joblib')\n",
    "\n",
    "# old_song_array = np.array(old_song_list)\n",
    "\n",
    "# pickle.dump(old_song_array, open('data/old_song_array.pkl', 'wb'))"
   ]
  }
 ],
 "metadata": {
  "kernelspec": {
   "display_name": "model_notebooks",
   "language": "python",
   "name": "model_notebooks"
  },
  "language_info": {
   "codemirror_mode": {
    "name": "ipython",
    "version": 3
   },
   "file_extension": ".py",
   "mimetype": "text/x-python",
   "name": "python",
   "nbconvert_exporter": "python",
   "pygments_lexer": "ipython3",
   "version": "3.7.4"
  }
 },
 "nbformat": 4,
 "nbformat_minor": 4
}
