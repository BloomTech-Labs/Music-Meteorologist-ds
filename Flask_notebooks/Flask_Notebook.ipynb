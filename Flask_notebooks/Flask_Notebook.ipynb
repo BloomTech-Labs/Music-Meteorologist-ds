{
 "cells": [
  {
   "cell_type": "code",
   "execution_count": 76,
   "metadata": {},
   "outputs": [],
   "source": [
    "import spotipy\n",
    "import spotipy.util as util\n",
    "from sklearn.neighbors import NearestNeighbors\n",
    "from sklearn.preprocessing import StandardScaler, MinMaxScaler, Normalizer\n",
    "import pandas as pd\n",
    "from pandas.io.json import json_normalize\n",
    "from flask import jsonify\n",
    "from joblib import load\n",
    "import pickle"
   ]
  },
  {
   "cell_type": "code",
   "execution_count": 147,
   "metadata": {},
   "outputs": [],
   "source": [
    "USERNAME = 'augt12ocf9csxa4s8kbq9reg8' #your spotify username\n",
    "CLIENT_ID = 'b954b92b9a674e6a9cf7322649da82d1' #set at your developer account\n",
    "CLIENT_SECRET = '920cd41023994b1a99210243ce8967b2' #set at your developer account\n",
    "REDIRECT_URI = 'https://google.com/' #set at your developer account, usually \"http://localhost:8000\"\n",
    "SCOPE = 'user-library-read' # or else\n",
    "# ps. REDIRECT_URI is crucial here. if http://localhost:8000 is not set, or with a single '/' misplaced, it will generate a connection error.\n",
    "\n",
    "# then pass them:\n",
    "\n",
    "token = util.prompt_for_user_token(username = USERNAME, \n",
    "                                   scope = SCOPE, \n",
    "                                   client_id = CLIENT_ID, \n",
    "                                   client_secret = CLIENT_SECRET, \n",
    "                                   redirect_uri = REDIRECT_URI)\n",
    "\n",
    "if token:\n",
    "   sp = spotipy.Spotify(auth=token)"
   ]
  },
  {
   "cell_type": "markdown",
   "metadata": {},
   "source": [
    "# Flask Predict function"
   ]
  },
  {
   "cell_type": "code",
   "execution_count": null,
   "metadata": {},
   "outputs": [],
   "source": [
    "def predict(content):\n",
    "    similar_songs = []\n",
    "    print('Loading dataframe...')\n",
    "    dataframe = pd.DataFrame.from_dict(\n",
    "        json_normalize(content['audio_features']),\n",
    "                                orient='columns')\n",
    "    print('Dataframe Object Created')\n",
    "    print('Loading pickled scaler...')\n",
    "    scalar = load('scalar2.joblib')\n",
    "    print('Pickled scaler loaded')\n",
    "    print('Scaling dataframe object...')\n",
    "    dataframe_scaled = scalar.transform(dataframe)\n",
    "    print('Dataframe scaled')\n",
    "    print('Loading pickled model...')\n",
    "    model = load('model2.joblib')\n",
    "    print('Model loaded')\n",
    "    results = model.kneighbors([dataframe_scaled][0])[1]\n",
    "    print('Prediction executed')\n",
    "    print('song_id_list loading...')\n",
    "    song_id_list = load('song_id_list2.joblib')\n",
    "    print('song_id_list loaded')\n",
    "    \n",
    "    print('beginning for loop...')\n",
    "    for song_row in results[0][1:]:\n",
    "        song_id = song_id_list[song_row]\n",
    "        similar_songs.append({'similarity': [.99], 'values': song_id})\n",
    "    json_dict = {\"songs\": similar_songs}\n",
    "    return json_dict"
   ]
  },
  {
   "cell_type": "code",
   "execution_count": null,
   "metadata": {},
   "outputs": [],
   "source": [
    "from sklearn.neighbors import NearestNeighbors\n",
    "from sklearn.preprocessing import StandardScaler, MinMaxScaler\n",
    "from flask import request\n",
    "from joblib import dump\n",
    "from joblib import load\n",
    "\n",
    "import pandas as pd\n",
    "from pandas.io.json import json_normalize\n",
    "from flask import jsonify"
   ]
  },
  {
   "cell_type": "code",
   "execution_count": null,
   "metadata": {},
   "outputs": [],
   "source": []
  },
  {
   "cell_type": "markdown",
   "metadata": {},
   "source": [
    "# Attemping another approach using dataframe - success"
   ]
  },
  {
   "cell_type": "code",
   "execution_count": 306,
   "metadata": {},
   "outputs": [
    {
     "name": "stdout",
     "output_type": "stream",
     "text": [
      "807 !!!!!\n"
     ]
    }
   ],
   "source": [
    "#loop takes KNN results and filters by source track genres\n",
    "# old\n",
    "filtered_list = []\n",
    "# filtered_lists = []\n",
    "source_song_index = knn_results1[0][0]\n",
    "source_genre_list = df.loc[source_song_index][\"genres_stripped\"].split(\",\")\n",
    "# print(source_genre_list)\n",
    "for output_song_index in knn_results1[0][1:]:\n",
    "#     print(output_song_index)\n",
    "    output_genre_list = df.loc[output_song_index][\"genres_stripped\"].split(\",\")\n",
    "#     print(output_genre_list)\n",
    "    for output_genre in output_genre_list:\n",
    "        output_genre = output_genre.strip(' ')\n",
    "#         print(output_genre)\n",
    "        for source_genre in source_genre_list:\n",
    "            source_genre = source_genre.strip(' ')\n",
    "#             print(source_genre)\n",
    "            if source_genre == output_genre:\n",
    "#                 print(output_song_index,source_genre,output_genre)\n",
    "                filtered_list.append(output_song_index)\n",
    "#             print(filtered_list)\n",
    "            else:\n",
    "# #             print(\"source genre does not match output genre!\")\n",
    "                continue\n",
    "#     filtered_lists.append(filtered_list)\n",
    "print(len(set(filtered_list)),\"!!!!!\")"
   ]
  },
  {
   "cell_type": "code",
   "execution_count": 260,
   "metadata": {},
   "outputs": [
    {
     "data": {
      "text/plain": [
       "376"
      ]
     },
     "execution_count": 260,
     "metadata": {},
     "output_type": "execute_result"
    }
   ],
   "source": [
    "len(set(filtered_list))"
   ]
  },
  {
   "cell_type": "code",
   "execution_count": 308,
   "metadata": {},
   "outputs": [
    {
     "data": {
      "text/plain": [
       "2"
      ]
     },
     "execution_count": 308,
     "metadata": {},
     "output_type": "execute_result"
    }
   ],
   "source": [
    "knn_results1[0][0]"
   ]
  },
  {
   "cell_type": "markdown",
   "metadata": {},
   "source": [
    "# Ready for Production - Load in Genre Array and Utilize in updated function for genre filtering"
   ]
  },
  {
   "cell_type": "code",
   "execution_count": null,
   "metadata": {},
   "outputs": [],
   "source": [
    "def filter_model(): \n",
    "    #loop takes KNN results and filters by source track genres\n",
    "    filtered_list = []\n",
    "    song_list_length = 364\n",
    "    source_song_index = knn_results1[0][0]\n",
    "    source_genre_list = genre_array[source_song_index]\n",
    "    for output_song_index in knn_results1[0][1:]:\n",
    "        output_genre_list = genre_array[output_song_index]\n",
    "        for output_genre in output_genre_list:\n",
    "            for source_genre in source_genre_list:\n",
    "                if source_genre == output_genre:\n",
    "                    filtered_list.append(output_song_index)\n",
    "                else:\n",
    "                    continue\n",
    "    if len(set(filtered_list)) > song_list_length:\n",
    "        print(\"list large enough\")\n",
    "    else:\n",
    "        counter = song_list_length - len(set(filtered_list))\n",
    "        print(len(set(filtered_list)))\n",
    "        print(counter)\n",
    "        print(f'need to add {counter} items to final song output')\n",
    "        for output_song_index in knn_results1[0][1:]:\n",
    "            if output_song_index not in filtered_list:\n",
    "                if counter > 0:\n",
    "                    filtered_list.append(output_song_index)\n",
    "                    counter -= 1\n",
    "                else:\n",
    "                    break\n",
    "            \n",
    "#     print(len(output_song_index_list),\"!!!!!\")    "
   ]
  },
  {
   "cell_type": "code",
   "execution_count": null,
   "metadata": {},
   "outputs": [],
   "source": [
    "filter_model()"
   ]
  },
  {
   "cell_type": "markdown",
   "metadata": {},
   "source": [
    "# Test Multiple Rows - Functional!"
   ]
  },
  {
   "cell_type": "code",
   "execution_count": 272,
   "metadata": {},
   "outputs": [],
   "source": [
    "def output_len_of_lists(list_of_lists):\n",
    "    for list_item in list_of_lists:\n",
    "        print(len(list_item))"
   ]
  },
  {
   "cell_type": "code",
   "execution_count": null,
   "metadata": {},
   "outputs": [],
   "source": [
    "#loop takes range of KNN results per defined track range and filter matches by source track genres\n",
    "filtered_lists = []\n",
    "for source_song_index in range(0,1000):\n",
    "    knn_results1 = knn1.kneighbors([data_normalized[source_song_index]])[1]\n",
    "    knn_result_ouputs = knn_results1[0][1:]\n",
    "    filtered_list = []\n",
    "    source_genre_list = genre_array[source_song_index]\n",
    "    for output_song_index in knn_result_ouputs:\n",
    "        output_genre_list = genre_array[output_song_index]\n",
    "        for output_genre in output_genre_list:\n",
    "            for source_genre in source_genre_list:\n",
    "                if source_genre == output_genre:\n",
    "                    filtered_list.append(output_song_index)\n",
    "                else:\n",
    "                    continue\n",
    "    filtered_lists.append(set(filtered_list))\n",
    "    \n",
    "output_len_of_lists(filtered_lists)"
   ]
  },
  {
   "cell_type": "markdown",
   "metadata": {},
   "source": [
    "# From predict.py - Production"
   ]
  },
  {
   "cell_type": "code",
   "execution_count": 5,
   "metadata": {},
   "outputs": [],
   "source": [
    "def instantiate_sp(token):\n",
    "    sp = spotipy.Spotify(auth=token)\n",
    "    return sp"
   ]
  },
  {
   "cell_type": "code",
   "execution_count": 6,
   "metadata": {},
   "outputs": [
    {
     "data": {
      "text/plain": [
       "<spotipy.client.Spotify at 0x11c1357f0>"
      ]
     },
     "execution_count": 6,
     "metadata": {},
     "output_type": "execute_result"
    }
   ],
   "source": [
    "instantiate_sp(token)"
   ]
  },
  {
   "cell_type": "code",
   "execution_count": 7,
   "metadata": {},
   "outputs": [],
   "source": [
    "def get_id(sp):\n",
    "    results = sp.current_user_saved_tracks()\n",
    "    song_id = results['items'][0]['track']['id']\n",
    "    return song_id"
   ]
  },
  {
   "cell_type": "code",
   "execution_count": 8,
   "metadata": {},
   "outputs": [],
   "source": [
    "song_id = get_id(instantiate_sp(token))"
   ]
  },
  {
   "cell_type": "code",
   "execution_count": 89,
   "metadata": {},
   "outputs": [
    {
     "data": {
      "text/plain": [
       "<spotipy.client.Spotify at 0x10841b630>"
      ]
     },
     "execution_count": 89,
     "metadata": {},
     "output_type": "execute_result"
    }
   ],
   "source": [
    "sp.audio"
   ]
  },
  {
   "cell_type": "code",
   "execution_count": 105,
   "metadata": {},
   "outputs": [],
   "source": [
    "def get_acoustical_features(song_id,sp):\n",
    "    return sp.audio_features(song_id)[0]"
   ]
  },
  {
   "cell_type": "code",
   "execution_count": 106,
   "metadata": {},
   "outputs": [],
   "source": [
    "def get_popularity(trackID):\n",
    "    return sp.track(trackID)['popularity']"
   ]
  },
  {
   "cell_type": "code",
   "execution_count": 107,
   "metadata": {},
   "outputs": [],
   "source": [
    "def get_artist_id(trackID):\n",
    "    return sp.track(trackID)['artists'][0]['id']"
   ]
  },
  {
   "cell_type": "code",
   "execution_count": 108,
   "metadata": {},
   "outputs": [],
   "source": [
    "def get_genres(artistID):\n",
    "    return sp.artist(artistID)['genres']"
   ]
  },
  {
   "cell_type": "code",
   "execution_count": 210,
   "metadata": {},
   "outputs": [],
   "source": [
    "class Sound_Drip:\n",
    "    \n",
    "    def __init__(self, token):\n",
    "        self.token = token\n",
    "    \n",
    "    def instantiate_sp(self,token):\n",
    "        sp = spotipy.Spotify(auth=token)\n",
    "        return sp\n",
    "\n",
    "    def get_id(self, sp):\n",
    "        results = sp.current_user_saved_tracks()\n",
    "        song_id = results['items'][0]['track']['id']\n",
    "        return song_id\n",
    "\n",
    "    def get_acoustical_features(self,song_id,sp):\n",
    "        acoustical_features = sp.audio_features(song_id)[0]\n",
    "        return acoustical_features\n",
    "\n",
    "    def get_popularity(self, song_id):\n",
    "        popularity =  sp.track(song_id)['popularity']\n",
    "        return popularity\n",
    "\n",
    "    def get_artist_id(self, song_id):\n",
    "        artist = sp.track(song_id)['artists'][0]['id']\n",
    "        return artist\n",
    "\n",
    "    def get_genres(self, artist):\n",
    "        genre = sp.artist(artist)['genres']\n",
    "        return genre\n",
    "    \n",
    "    def create_feature_object(self, genre, popularity, acoustical_features):\n",
    "        \n",
    "#         print(genre, popularity, acoustical_features)\n",
    "        \n",
    "        raw_results = {'genre': genre, 'popularity': popularity, 'acoustical_features': acoustical_features}\n",
    "#         print(raw_results)\n",
    "        \n",
    "        audio_features = {\n",
    "            \"audio_features\": {\n",
    "                key: raw_results[key] for key in results_dict.keys() & {\n",
    "                    'danceability',\n",
    "                    'energy',\n",
    "                    'key',\n",
    "                    'loudness',\n",
    "                    'mode',\n",
    "                    'speechiness',\n",
    "                    'acousticness',\n",
    "                    'instrumentalness',\n",
    "                    'liveness',\n",
    "                    'valence',\n",
    "                    'tempo',\n",
    "                    'time_signature'}}}\n",
    "        "
   ]
  },
  {
   "cell_type": "code",
   "execution_count": 211,
   "metadata": {},
   "outputs": [],
   "source": [
    "sd = Sound_Drip(token)"
   ]
  },
  {
   "cell_type": "code",
   "execution_count": 212,
   "metadata": {},
   "outputs": [],
   "source": [
    "sp = sd.instantiate_sp(token)"
   ]
  },
  {
   "cell_type": "code",
   "execution_count": 213,
   "metadata": {},
   "outputs": [
    {
     "data": {
      "text/plain": [
       "'41WPocvLc3zvC48Xo1duZo'"
      ]
     },
     "execution_count": 213,
     "metadata": {},
     "output_type": "execute_result"
    }
   ],
   "source": [
    "sd.get_id(sp)"
   ]
  },
  {
   "cell_type": "code",
   "execution_count": 214,
   "metadata": {},
   "outputs": [],
   "source": [
    "acoustical_features = sd.get_acoustical_features(song_id, sp)"
   ]
  },
  {
   "cell_type": "code",
   "execution_count": 215,
   "metadata": {},
   "outputs": [],
   "source": [
    "popularity = sd.get_popularity(song_id)"
   ]
  },
  {
   "cell_type": "code",
   "execution_count": 216,
   "metadata": {},
   "outputs": [
    {
     "data": {
      "text/plain": [
       "'3p2pMpzDerhMR4w2xZyHWg'"
      ]
     },
     "execution_count": 216,
     "metadata": {},
     "output_type": "execute_result"
    }
   ],
   "source": [
    "sd.get_artist_id(song_id)"
   ]
  },
  {
   "cell_type": "code",
   "execution_count": 217,
   "metadata": {},
   "outputs": [],
   "source": [
    "genre = sd.get_genres('1dfeR4HaWDbWqFHLkxsg1d')"
   ]
  },
  {
   "cell_type": "code",
   "execution_count": 221,
   "metadata": {},
   "outputs": [
    {
     "name": "stdout",
     "output_type": "stream",
     "text": [
      "{'genre': ['glam rock', 'rock'], 'popularity': 39, 'acoustical_features': {'danceability': 0.253, 'energy': 0.652, 'key': 0, 'loudness': -4.647, 'mode': 0, 'speechiness': 0.0406, 'acousticness': 0.215, 'instrumentalness': 0, 'liveness': 0.142, 'valence': 0.298, 'tempo': 75.863, 'type': 'audio_features', 'id': '41WPocvLc3zvC48Xo1duZo', 'uri': 'spotify:track:41WPocvLc3zvC48Xo1duZo', 'track_href': 'https://api.spotify.com/v1/tracks/41WPocvLc3zvC48Xo1duZo', 'analysis_url': 'https://api.spotify.com/v1/audio-analysis/41WPocvLc3zvC48Xo1duZo', 'duration_ms': 197780, 'time_signature': 4}}\n"
     ]
    }
   ],
   "source": [
    "sd.create_feature_object(genre, popularity, acoustical_features)"
   ]
  },
  {
   "cell_type": "code",
   "execution_count": 202,
   "metadata": {},
   "outputs": [
    {
     "data": {
      "text/plain": [
       "{'danceability': 0.253,\n",
       " 'energy': 0.652,\n",
       " 'key': 0,\n",
       " 'loudness': -4.647,\n",
       " 'mode': 0,\n",
       " 'speechiness': 0.0406,\n",
       " 'acousticness': 0.215,\n",
       " 'instrumentalness': 0,\n",
       " 'liveness': 0.142,\n",
       " 'valence': 0.298,\n",
       " 'tempo': 75.863,\n",
       " 'type': 'audio_features',\n",
       " 'id': '41WPocvLc3zvC48Xo1duZo',\n",
       " 'uri': 'spotify:track:41WPocvLc3zvC48Xo1duZo',\n",
       " 'track_href': 'https://api.spotify.com/v1/tracks/41WPocvLc3zvC48Xo1duZo',\n",
       " 'analysis_url': 'https://api.spotify.com/v1/audio-analysis/41WPocvLc3zvC48Xo1duZo',\n",
       " 'duration_ms': 197780,\n",
       " 'time_signature': 4}"
      ]
     },
     "execution_count": 202,
     "metadata": {},
     "output_type": "execute_result"
    }
   ],
   "source": [
    "acoustical_features"
   ]
  },
  {
   "cell_type": "code",
   "execution_count": 166,
   "metadata": {},
   "outputs": [],
   "source": [
    "## Updated function - Not in Flask - \n",
    "\n",
    "def predictfunc(content):\n",
    "    similar_songs = []\n",
    "    print('Loading dataframe...')\n",
    "    dataframe = pd.DataFrame.from_dict(\n",
    "        json_normalize(content['audio_features']),\n",
    "        orient='columns')\n",
    "    print('Dataframe Object Created')\n",
    "    print(dataframe)\n",
    "    scaler = MinMaxScaler()\n",
    "    print('Scaling data...')\n",
    "    data_scaled = scaler.fit_transform(dataframe)\n",
    "    print('Data scaled')\n",
    "    normalizer = Normalizer()\n",
    "    print('Normalizing data...')\n",
    "    data_normalized = normalizer.fit_transform(data_scaled)\n",
    "    print('Data normalized')\n",
    "    print('Loading pickled model...')\n",
    "    model = load('models/model2.joblib')\n",
    "    print('Model loaded')\n",
    "#     need to add popularity and genre filtering here\n",
    "    \n",
    "    results = model.kneighbors([data_scaled][0])[1]\n",
    "#     genre filtering\n",
    "\n",
    "    print('Prediction executed')\n",
    "    print('song_id_list loading...')\n",
    "    song_id_list = pickle.load(open('data/old_song_array.pkl', 'rb'))\n",
    "    print('song_id_list loaded')\n",
    "\n",
    "    print('beginning for loop...')\n",
    "    for song_row in results[0][1:]:\n",
    "        song_id = song_id_list[song_row]\n",
    "        similar_songs.append({'similarity': [.99], 'values': song_id})\n",
    "    json_dict = {\"songs\": similar_songs}\n",
    "    return json_dict"
   ]
  },
  {
   "cell_type": "code",
   "execution_count": 72,
   "metadata": {},
   "outputs": [
    {
     "name": "stdout",
     "output_type": "stream",
     "text": [
      "Loading dataframe...\n",
      "Dataframe Object Created\n",
      "    tempo  mode  key  loudness  instrumentalness  valence  energy  liveness  \\\n",
      "0  75.863     0    0    -4.647                 0    0.298   0.652     0.142   \n",
      "\n",
      "   acousticness  speechiness  time_signature  danceability  \n",
      "0         0.215       0.0406               4         0.253  \n",
      "Scaling data...\n",
      "Data scaled\n",
      "Normalizing data...\n",
      "Data normalized\n",
      "Loading pickled model...\n"
     ]
    },
    {
     "name": "stderr",
     "output_type": "stream",
     "text": [
      "/Users/alexanderbennett/.local/share/virtualenvs/model_notebooks-FtE4iyOL/lib/python3.7/site-packages/ipykernel_launcher.py:5: FutureWarning: pandas.io.json.json_normalize is deprecated, use pandas.json_normalize instead\n",
      "  \"\"\"\n"
     ]
    },
    {
     "name": "stdout",
     "output_type": "stream",
     "text": [
      "Model loaded\n",
      "Prediction executed\n",
      "song_id_list loading...\n",
      "song_id_list loaded\n",
      "beginning for loop...\n"
     ]
    },
    {
     "data": {
      "text/plain": [
       "{'songs': [{'similarity': [0.99], 'values': '41rgtFRfQKyPO6ZU40eWor'},\n",
       "  {'similarity': [0.99], 'values': '1yPXig0m7bQIQ8UixN8lOJ'},\n",
       "  {'similarity': [0.99], 'values': '2q2KTvUpl3KLrHMWBAmNI8'},\n",
       "  {'similarity': [0.99], 'values': '5I9f40X50PyLIEvKlN1tyo'},\n",
       "  {'similarity': [0.99], 'values': '3BoH4AvNZzY3cQdurkvhU4'},\n",
       "  {'similarity': [0.99], 'values': '45GRVGGiLwPa2Z0BeUZcAv'},\n",
       "  {'similarity': [0.99], 'values': '2m1ThHoDeAULinkfzASSqg'},\n",
       "  {'similarity': [0.99], 'values': '72koDZY0TS6BmTw8kYPR7w'},\n",
       "  {'similarity': [0.99], 'values': '5IOoDlyOTBGClrDRO8aZuw'},\n",
       "  {'similarity': [0.99], 'values': '0Lkwk8rd0gL1XHp1QBPE6c'},\n",
       "  {'similarity': [0.99], 'values': '3ytgAYdNoaywvU0ATOlrnH'},\n",
       "  {'similarity': [0.99], 'values': '1jf8Uqw7jiUrzC8UjiBHgN'},\n",
       "  {'similarity': [0.99], 'values': '0zU122kgLbboswDR0WCUsU'},\n",
       "  {'similarity': [0.99], 'values': '4CrDyjkgbFHQrbemVWBshN'},\n",
       "  {'similarity': [0.99], 'values': '09GND2Z9Gl8hOLZtL4Wlba'},\n",
       "  {'similarity': [0.99], 'values': '45xTUDva3Di8eSIuAVg3uI'},\n",
       "  {'similarity': [0.99], 'values': '2V6ChvUSND13QxYGkOBqdh'},\n",
       "  {'similarity': [0.99], 'values': '2nS33VatQh7dwN4FwV0ElK'},\n",
       "  {'similarity': [0.99], 'values': '33VsUkTdoYkuPjtClfS4P6'},\n",
       "  {'similarity': [0.99], 'values': '1UFbpb3JtpS8S1lDZtSefX'}]}"
      ]
     },
     "execution_count": 72,
     "metadata": {},
     "output_type": "execute_result"
    }
   ],
   "source": [
    "predictfunc(content)"
   ]
  },
  {
   "cell_type": "markdown",
   "metadata": {},
   "source": [
    "# For prediction.py - New Functions"
   ]
  },
  {
   "cell_type": "code",
   "execution_count": null,
   "metadata": {},
   "outputs": [],
   "source": [
    "def filter_model(): \n",
    "    #loop takes KNN results and filters by source track genres\n",
    "    filtered_list = []\n",
    "    song_list_length = 20\n",
    "    source_genre_list = genre_array[source_song_index]\n",
    "    for output_song_index in knn_results1[0][1:]:\n",
    "        output_genre_list = genre_array[output_song_index]\n",
    "        for output_genre in output_genre_list:\n",
    "            for source_genre in source_genre_list:\n",
    "                if source_genre == output_genre:\n",
    "                    filtered_list.append(output_song_index)\n",
    "                else:\n",
    "                    continue\n",
    "    if len(set(filtered_list)) > song_list_length:\n",
    "        print(\"list large enough\")\n",
    "    else:\n",
    "        counter = song_list_length - len(set(filtered_list))\n",
    "        print(len(set(filtered_list)))\n",
    "        print(counter)\n",
    "        print(f'need to add {counter} items to final song output')\n",
    "        for output_song_index in knn_results1[0][1:]:\n",
    "            if output_song_index not in filtered_list:\n",
    "                if counter > 0:\n",
    "                    filtered_list.append(output_song_index)\n",
    "                    counter -= 1\n",
    "                else:\n",
    "                    break\n",
    "            \n",
    "#     print(len(output_song_index_list),\"!!!!!\")    "
   ]
  },
  {
   "cell_type": "code",
   "execution_count": 53,
   "metadata": {},
   "outputs": [],
   "source": [
    "# import numpy as np\n",
    "\n",
    "# old_song_list = load('data/song_id_list2(1).joblib')\n",
    "\n",
    "# old_song_array = np.array(old_song_list)\n",
    "\n",
    "# pickle.dump(old_song_array, open('data/old_song_array.pkl', 'wb'))"
   ]
  }
 ],
 "metadata": {
  "kernelspec": {
   "display_name": "model_notebooks",
   "language": "python",
   "name": "model_notebooks"
  },
  "language_info": {
   "codemirror_mode": {
    "name": "ipython",
    "version": 3
   },
   "file_extension": ".py",
   "mimetype": "text/x-python",
   "name": "python",
   "nbconvert_exporter": "python",
   "pygments_lexer": "ipython3",
   "version": "3.7.3"
  }
 },
 "nbformat": 4,
 "nbformat_minor": 4
}
