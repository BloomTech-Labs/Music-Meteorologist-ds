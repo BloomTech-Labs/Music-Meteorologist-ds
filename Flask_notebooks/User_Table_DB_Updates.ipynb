{
 "cells": [
  {
   "cell_type": "code",
   "execution_count": 7,
   "metadata": {},
   "outputs": [],
   "source": [
    "import psycopg2 as ps\n",
    "import spotipy\n",
    "import spotipy.util as util\n",
    "from sklearn.neighbors import NearestNeighbors\n",
    "from sklearn.preprocessing import MinMaxScaler, Normalizer\n",
    "import pandas as pd\n",
    "from pandas.io.json import json_normalize\n",
    "from flask import jsonify\n",
    "from joblib import load\n",
    "import pickle\n",
    "import numpy as np\n",
    "from flask import request\n",
    "from joblib import dump\n",
    "from joblib import load\n",
    "import pandas as pd\n",
    "import importlib\n",
    "\n",
    "from env_vars import * \n",
    "\n",
    "import SD_mod"
   ]
  },
  {
   "cell_type": "code",
   "execution_count": 8,
   "metadata": {},
   "outputs": [
    {
     "data": {
      "text/plain": [
       "module"
      ]
     },
     "execution_count": 8,
     "metadata": {},
     "output_type": "execute_result"
    }
   ],
   "source": [
    "type(SD_mod)"
   ]
  },
  {
   "cell_type": "code",
   "execution_count": 106,
   "metadata": {},
   "outputs": [
    {
     "data": {
      "text/plain": [
       "<module 'SD_mod' from '/Users/user/Documents/GitHub/Lambda/labs/Music-Meteorologist-ds/Flask_notebooks/SD_mod.py'>"
      ]
     },
     "execution_count": 106,
     "metadata": {},
     "output_type": "execute_result"
    }
   ],
   "source": [
    "importlib.reload(SD_mod)"
   ]
  },
  {
   "cell_type": "code",
   "execution_count": 107,
   "metadata": {},
   "outputs": [],
   "source": [
    "from SD_mod import *"
   ]
  },
  {
   "cell_type": "markdown",
   "metadata": {},
   "source": [
    "# Variables for DB inserts"
   ]
  },
  {
   "cell_type": "code",
   "execution_count": 63,
   "metadata": {},
   "outputs": [],
   "source": [
    "# USERNAME = 'rileypence4' #your spotify username\n",
    "# CLIENT_ID = '47c4f0d3dcaa433c9ef4ec6686e5b1f1' #set at your developer account\n",
    "# CLIENT_SECRET = '65812a5fb52b4a3486f59ec672d499ff' #set at your developer account\n",
    "# REDIRECT_URI = 'https://google.com/' #set at your developer account, usually \"http://localhost:8000\"\n",
    "# SCOPE = 'user-library-read' # or else\n",
    "# # ps. REDIRECT_URI is crucial here. if http://localhost:8000 is not set, or with a single '/' misplaced, it will generate a connection error.\n",
    "\n",
    "# then pass them:\n",
    "\n",
    "token = util.prompt_for_user_token(username = USERNAME, \n",
    "                                   scope = SCOPE, \n",
    "                                   client_id = CLIENT_ID, \n",
    "                                   client_secret = CLIENT_SECRET, \n",
    "                                   redirect_uri = REDIRECT_URI)\n",
    "\n",
    "if token:\n",
    "   sp = spotipy.Spotify(auth=token)"
   ]
  },
  {
   "cell_type": "code",
   "execution_count": 64,
   "metadata": {},
   "outputs": [
    {
     "data": {
      "text/plain": [
       "'BQBaQvt5nNhCaeC1HNqY-F-8Uox2zkB0DgsavJm-GbUkQKtkMF8uGIIKEkvRieyvibr49zzeib6M7k_Bij7inUi2Q5PltuX60y6hO7hL7sUL1KbcjAZQfGXih6MMwV0lsg1FMf2Bi_OMEV9ON59P-jvmz0kM4DRGJdd1dztZaSrpQVr_Rk6k8xWq9uDUqWAgHANHuPU9TA'"
      ]
     },
     "execution_count": 64,
     "metadata": {},
     "output_type": "execute_result"
    }
   ],
   "source": [
    "token"
   ]
  },
  {
   "cell_type": "code",
   "execution_count": 117,
   "metadata": {},
   "outputs": [],
   "source": [
    "token = 'BQCrvSl2xcEuIcomgB0rj7l0hHpxUHrmYIKuwZ5hl5ZhjfBag63UZTn6zQU94jnVqwln74jYSj-W-NbEmdKjmUk4TdBEI5k9e3VXc821rjt5x8yxcy0d0BwN2Fvb5kTdr-WcJUh6L01xlKm98LM7phxOcJYlbw'"
   ]
  },
  {
   "cell_type": "code",
   "execution_count": 5,
   "metadata": {
    "jupyter": {
     "source_hidden": true
    }
   },
   "outputs": [],
   "source": [
    "# class Sound_Drip:\n",
    "    \n",
    "#     def __init__(self, token):\n",
    "#         self.token = token\n",
    "    \n",
    "#     def instantiate_sp(self,token):\n",
    "#         sp = spotipy.Spotify(auth=token)\n",
    "#         return sp\n",
    "\n",
    "#     def get_user_song_id(self,sp):\n",
    "#         results = sp.current_user_saved_tracks()\n",
    "#         genre = []\n",
    "#         counter = 0 \n",
    "#         for song_number in range(0,19):\n",
    "#             counter += 1 \n",
    "#             song_id = results['items'][song_number]['track']['id']\n",
    "#             artist_id = self.get_artist_id(song_id)\n",
    "#             genre = self.get_genres(artist_id)\n",
    "#             if genre != []:\n",
    "#                 break\n",
    "#         return song_id\n",
    "\n",
    "#     def get_acoustical_features(self,song_id,sp):\n",
    "#         acoustical_features = sp.audio_features(song_id)[0]\n",
    "#         return acoustical_features\n",
    "\n",
    "#     def get_popularity(self, song_id):\n",
    "#         popularity =  sp.track(song_id)['popularity']\n",
    "#         return popularity\n",
    "\n",
    "#     def get_artist_id(self, song_id):\n",
    "#         artist = sp.track(song_id)['artists'][0]['id']\n",
    "#         return artist\n",
    "\n",
    "#     def get_genres(self, artist):\n",
    "#         genre = sp.artist(artist)['genres']\n",
    "#         return genre\n",
    "    \n",
    "#     def create_feature_object(self,popularity, acoustical_features):\n",
    "#         popularity_dict = {'popularity': popularity}\n",
    "#         song_features = acoustical_features\n",
    "#         song_features.update(popularity_dict)\n",
    "#         song_features = {\n",
    "#     \"audio_features\": {\n",
    "#         key: song_features[key] for key in song_features.keys() & {\n",
    "#             'popularity',\n",
    "#             'acousticness',\n",
    "#             'danceability',\n",
    "#             'energy',\n",
    "#             'instrumentalness',\n",
    "#             'key',\n",
    "#             'liveness',\n",
    "#             'loudness',\n",
    "#             'mode',\n",
    "#             'speechiness',\n",
    "#             'tempo',\n",
    "#             'time_signature',\n",
    "#             'valence'}}}\n",
    "\n",
    "#         df = pd.DataFrame.from_dict(json_normalize(song_features[\"audio_features\"]),orient='columns')   \n",
    "#         df = df.reindex(sorted(df.columns), axis=1)\n",
    "#         return df\n",
    "    \n",
    "#     def get_results(self,song_features_df):\n",
    "#         scaler = load(\"./models/scalar3.joblib\")\n",
    "#         print('Scaling data...')\n",
    "#         data_scaled = scaler.transform(song_features_df)\n",
    "#         normalizer = Normalizer()\n",
    "#         data_normalized = normalizer.fit_transform(data_scaled)\n",
    "#         print('Loading pickled model...')\n",
    "#         model = load('./models/model5.joblib')\n",
    "#         results = model.kneighbors([data_normalized][0])[1:]\n",
    "#         print('results returned')\n",
    "#         return results[0]\n",
    "    \n",
    "#     def filter_model(self,model_results,source_genre_list): \n",
    "#         #loop takes KNN results and filters by source track genres\n",
    "#         print(\"filter for genres initiated\")\n",
    "#         genre_array = pickle.load(open(\"./data/genres_array_2.pkl\",\"rb\"))\n",
    "#         filtered_list = []\n",
    "#         song_list_length = 20\n",
    "#         for output_song_index in model_results[0][1:]:\n",
    "#             output_genre_list = genre_array[output_song_index]\n",
    "#             for output_genre in output_genre_list:\n",
    "#                 output_genre = output_genre.strip(\" \")\n",
    "#                 for source_genre in source_genre_list:\n",
    "#                     source_genre = \"'\" + source_genre + \"'\"\n",
    "#                     if source_genre == output_genre:\n",
    "#                         filtered_list.append(output_song_index)\n",
    "#                     else:\n",
    "#                         continue\n",
    "#         if len(set(filtered_list)) > song_list_length:\n",
    "#             print(\"filter found at least 20 genre matches\")\n",
    "#             filtered_list = set(filtered_list)\n",
    "#             filtered_list = list(filtered_list)[0:20]\n",
    "#         else:\n",
    "#             counter = song_list_length - len(set(filtered_list))\n",
    "#             print(len(set(filtered_list)))\n",
    "#             print(counter)\n",
    "#             print(f'need to add {counter} items to final song output')\n",
    "#             for output_song_index in model_results[1:]:\n",
    "#                 if output_song_index not in filtered_list:\n",
    "#                     if counter > 0:\n",
    "#                         filtered_list.append(output_song_index)\n",
    "#                         counter -= 1\n",
    "#                     else:\n",
    "#                         break\n",
    "#         print(\"filtered list with 20 unique song indices returned\")\n",
    "#         return filtered_list\n",
    "    \n",
    "#     def song_id_prediction_output(self,filtered_list): \n",
    "#         similar_songs = []\n",
    "#         print('song_id_list loading...')\n",
    "#         song_id_array = pickle.load(open('./data/song_id_array3.pkl', 'rb'))\n",
    "#         print('song_id_list loaded')\n",
    "#         for song_row in filtered_list:\n",
    "#             song_id = song_id_array[song_row]\n",
    "#             similar_songs.append({'similarity': [.99], 'values': song_id})\n",
    "#         json_dict = {\"songs\": similar_songs}\n",
    "#         print(\"Results returned\")\n",
    "#         return json_dict\n",
    "    \n",
    "#     def get_user_ids(self, sp):\n",
    "#         current_user_dict = sp.current_user()\n",
    "#         display_name = current_user_dict['display_name']\n",
    "#         user_id = current_user_dict['id']\n",
    "#         return user_id, display_name"
   ]
  },
  {
   "cell_type": "code",
   "execution_count": 125,
   "metadata": {},
   "outputs": [
    {
     "name": "stdout",
     "output_type": "stream",
     "text": [
      "retrieving user id and display name for current token\n",
      "['5E5kHXR820ZE1Tv4NgcRpb', '0VmNuYiwoI21vKJwgzxZMw', '4eYaDRhiL5iesFp2EuoODr', None, '3ZTlVHzTAzcBxrLQuEPb0u', '1YBkXyn1nlp2SdCdsNkGtS', '3AAwJ043uT1wXSKDtGyuxF']\n",
      "5\n",
      "0\n",
      "3AAwJ043uT1wXSKDtGyuxF\n",
      "1\n",
      "15VQzotNvOlrURjpzNfByJ\n",
      "artist_id: 7Bx0qiG4t9Ewq8NyPDtxab\n",
      "2\n",
      "2Pan3RlcjS43Yck4LrXBQ1\n",
      "artist_id: 1xgCilwCIEuDwK6P1DzNKH\n",
      "3\n",
      "7lSNZV9U8D7BnzwTIM8zlG\n",
      "artist_id: 4Mp7yETSzhsOZt0lm4TaRu\n",
      "the genre is: ['afrobeat', 'classic afrobeat']\n",
      "Scaling data...\n",
      "Loading pickled model...\n",
      "results returned\n",
      "['afrobeat', 'classic afrobeat']\n",
      "filter for genres initiated\n",
      "126 stale tracks were removed for the user\n",
      "filter found at least 20 genre matches\n",
      "filtered list with 20 unique song indices returned\n",
      "song_id_list loading...\n",
      "song_id_list loaded\n",
      "Results returned\n",
      "predicts inserted into db\n"
     ]
    }
   ],
   "source": [
    "importlib.reload(SD_mod)\n",
    "from SD_mod import *\n",
    "sd_obj = Sound_Drip(token)"
   ]
  },
  {
   "cell_type": "code",
   "execution_count": null,
   "metadata": {
    "jupyter": {
     "source_hidden": true
    }
   },
   "outputs": [],
   "source": [
    "sd = Sound_Drip(token)\n",
    "sp = sd.instantiate_sp(token)\n",
    "song_id = sd.get_user_song_id(sp)\n",
    "acoustical_features = sd.get_acoustical_features(song_id, sp)\n",
    "popularity = sd.get_popularity(song_id)\n",
    "song_features_df = sd.create_feature_object(popularity, acoustical_features)\n",
    "results = sd.get_results(song_features_df)\n",
    "source_genre = sd.get_genres(sd.get_artist_id(song_id))\n",
    "filtered_list = sd.filter_model(results,source_genre)\n",
    "sd.song_id_prediction_output(filtered_list)"
   ]
  },
  {
   "cell_type": "code",
   "execution_count": 62,
   "metadata": {},
   "outputs": [
    {
     "data": {
      "text/plain": [
       "[None, '1WbwlYiiMZGQlrFGirRnHv']"
      ]
     },
     "execution_count": 62,
     "metadata": {},
     "output_type": "execute_result"
    }
   ],
   "source": [
    "sd_obj.get_stale_seed()"
   ]
  },
  {
   "cell_type": "code",
   "execution_count": 151,
   "metadata": {},
   "outputs": [
    {
     "data": {
      "text/plain": [
       "[565263,\n",
       " 552474,\n",
       " 358408,\n",
       " 125962,\n",
       " 143880,\n",
       " 89604,\n",
       " 238606,\n",
       " 569370,\n",
       " 89611,\n",
       " 171023,\n",
       " 277504,\n",
       " 521730,\n",
       " 221696,\n",
       " 110103,\n",
       " 118276,\n",
       " 552471,\n",
       " 216602,\n",
       " 356894,\n",
       " 552475,\n",
       " 233497]"
      ]
     },
     "execution_count": 151,
     "metadata": {},
     "output_type": "execute_result"
    }
   ],
   "source": [
    "sd_obj.get_stale_results()"
   ]
  },
  {
   "cell_type": "markdown",
   "metadata": {},
   "source": [
    "# Db Calls Sandbox"
   ]
  },
  {
   "cell_type": "code",
   "execution_count": 2,
   "metadata": {},
   "outputs": [],
   "source": [
    "def connect():\n",
    "    conn = ps.connect(host=POSTGRES_ADDRESS,\n",
    "              database=POSTGRES_DBNAME,\n",
    "              user=POSTGRES_USERNAME,\n",
    "              password=POSTGRES_PASSWORD,\n",
    "              port=POSTGRES_PORT)\n",
    "    cur = conn.cursor()\n",
    "    return conn,cur"
   ]
  },
  {
   "cell_type": "code",
   "execution_count": 42,
   "metadata": {},
   "outputs": [],
   "source": [
    "# def run_query():\n",
    "#     try:\n",
    "#         cur.execute(query)\n",
    "#     except Exception as e:\n",
    "#         print (e.message)\n",
    "#         return reconnect()"
   ]
  },
  {
   "cell_type": "code",
   "execution_count": 43,
   "metadata": {},
   "outputs": [],
   "source": [
    "# run_query()"
   ]
  },
  {
   "cell_type": "code",
   "execution_count": 90,
   "metadata": {},
   "outputs": [],
   "source": [
    "user_id = sd_obj.user_id"
   ]
  },
  {
   "cell_type": "code",
   "execution_count": 91,
   "metadata": {},
   "outputs": [
    {
     "data": {
      "text/plain": [
       "'basslaughter'"
      ]
     },
     "execution_count": 91,
     "metadata": {},
     "output_type": "execute_result"
    }
   ],
   "source": [
    "user_id"
   ]
  },
  {
   "cell_type": "code",
   "execution_count": 109,
   "metadata": {},
   "outputs": [],
   "source": [
    "query = f'SELECT DISTINCT (songlistindex) FROM recommendations WHERE userid = \\'{user_id}\\';'\n",
    "\n",
    "cur.execute(query)\n",
    "list_of_goodies = cur.fetchall()"
   ]
  },
  {
   "cell_type": "code",
   "execution_count": 119,
   "metadata": {},
   "outputs": [
    {
     "data": {
      "text/plain": [
       "[565263,\n",
       " 552474,\n",
       " 358408,\n",
       " 125962,\n",
       " 143880,\n",
       " 89604,\n",
       " 238606,\n",
       " 569370,\n",
       " 89611,\n",
       " 171023,\n",
       " 277504,\n",
       " 521730,\n",
       " 221696,\n",
       " 110103,\n",
       " 118276,\n",
       " 552471,\n",
       " 216602,\n",
       " 356894,\n",
       " 552475,\n",
       " 233497]"
      ]
     },
     "execution_count": 119,
     "metadata": {},
     "output_type": "execute_result"
    }
   ],
   "source": [
    "stale_results = []\n",
    "for index in list_of_goodies:\n",
    "    stale_results.append(index[0])\n",
    "stale_results"
   ]
  },
  {
   "cell_type": "code",
   "execution_count": 170,
   "metadata": {},
   "outputs": [],
   "source": [
    "sd_obj.insert_user_predictions()"
   ]
  },
  {
   "cell_type": "code",
   "execution_count": 113,
   "metadata": {},
   "outputs": [
    {
     "data": {
      "text/plain": [
       "{'2C1FzUUtHp31ZdQsTGDM2f': 221696,\n",
       " '1NVsdk9Z0xNG2sUhZmkbD0': 277504,\n",
       " '5SwPRje7oQV5RP0saxoZp8': 521730,\n",
       " '5RrWu7ddslbnrRImeW7LOs': 118276,\n",
       " '0FQjfJB4cdkVfxZHz8RV4M': 89604,\n",
       " '6PF0WYSCH6OhGKHRHOQSxG': 143880,\n",
       " '6vEAyRqugkWBfQpccdiWFU': 358408,\n",
       " '7g7aNOC904ne2PUc14Xevb': 125962,\n",
       " '4jJwm24UagUP51wTp657Xp': 89611,\n",
       " '6roY6Z2b0Q7DH3ZM4SRoTz': 238606,\n",
       " '5wmn1zWhSSDLUmLLwYO9Rj': 565263,\n",
       " '34tFidHrETMAjsiK87WVVW': 171023,\n",
       " '0rUyA7P4nPKCRVvKhFo7XL': 552471,\n",
       " '5i2859ZJXGPOzDwdZSOMiH': 110103,\n",
       " '3QOQEObqJvCi4M2SNeko7V': 233497,\n",
       " '2raNLL2FWxWNA4veLZIuAj': 216602,\n",
       " '5UORiENC2iuNTFWopBTJKV': 552475,\n",
       " '4vTZpkN2Ri8Lfk2149NqWC': 552474,\n",
       " '56RfNBJGUgL1ZFCB1KEJrQ': 569370,\n",
       " '2jw0Fejobu4pxfJ1RRNT4W': 356894}"
      ]
     },
     "execution_count": 113,
     "metadata": {},
     "output_type": "execute_result"
    }
   ],
   "source": [
    "sd_obj.song_id_predictions[1]"
   ]
  },
  {
   "cell_type": "code",
   "execution_count": 27,
   "metadata": {},
   "outputs": [],
   "source": [
    "conn,cur = sd_obj.db_connect()"
   ]
  },
  {
   "cell_type": "code",
   "execution_count": 58,
   "metadata": {},
   "outputs": [],
   "source": [
    "query = \"\"\"DELETE FROM recommendations WHERE userid = 'basslaughter' OR userid = 'rileypence4';\"\"\"\n",
    "\n",
    "cur.execute(query)\n",
    "# cur.fetchall()\n",
    "conn.commit()"
   ]
  },
  {
   "cell_type": "code",
   "execution_count": 28,
   "metadata": {},
   "outputs": [
    {
     "ename": "UndefinedObject",
     "evalue": "constraint \"recommendations_id\" of relation \"recommendations\" does not exist\n",
     "output_type": "error",
     "traceback": [
      "\u001b[0;31m-------------------------------------------------------------------------\u001b[0m",
      "\u001b[0;31mUndefinedObject\u001b[0m                         Traceback (most recent call last)",
      "\u001b[0;32m<ipython-input-28-51225a765b80>\u001b[0m in \u001b[0;36m<module>\u001b[0;34m\u001b[0m\n\u001b[1;32m      1\u001b[0m \u001b[0mquery\u001b[0m \u001b[0;34m=\u001b[0m \u001b[0;34m\"\"\"ALTER TABLE recommendations DROP CONSTRAINT recommendations_id;\"\"\"\u001b[0m\u001b[0;34m\u001b[0m\u001b[0;34m\u001b[0m\u001b[0m\n\u001b[0;32m----> 2\u001b[0;31m \u001b[0mcur\u001b[0m\u001b[0;34m.\u001b[0m\u001b[0mexecute\u001b[0m\u001b[0;34m(\u001b[0m\u001b[0mquery\u001b[0m\u001b[0;34m)\u001b[0m\u001b[0;34m\u001b[0m\u001b[0;34m\u001b[0m\u001b[0m\n\u001b[0m\u001b[1;32m      3\u001b[0m \u001b[0mconn\u001b[0m\u001b[0;34m.\u001b[0m\u001b[0mcommit\u001b[0m\u001b[0;34m(\u001b[0m\u001b[0;34m)\u001b[0m\u001b[0;34m\u001b[0m\u001b[0;34m\u001b[0m\u001b[0m\n\u001b[1;32m      4\u001b[0m \u001b[0;31m# conn.close()\u001b[0m\u001b[0;34m\u001b[0m\u001b[0;34m\u001b[0m\u001b[0;34m\u001b[0m\u001b[0m\n\u001b[1;32m      5\u001b[0m \u001b[0;34m\u001b[0m\u001b[0m\n",
      "\u001b[0;31mUndefinedObject\u001b[0m: constraint \"recommendations_id\" of relation \"recommendations\" does not exist\n"
     ]
    }
   ],
   "source": [
    "query = \"\"\"ALTER TABLE recommendations DROP CONSTRAINT recommendations_id;\"\"\"\n",
    "cur.execute(query)\n",
    "conn.commit()\n",
    "# conn.close()\n",
    "\n",
    "# ALTER TABLE recommendations DROP CONSTRAINT id"
   ]
  },
  {
   "cell_type": "code",
   "execution_count": null,
   "metadata": {},
   "outputs": [],
   "source": []
  },
  {
   "cell_type": "code",
   "execution_count": null,
   "metadata": {},
   "outputs": [],
   "source": []
  },
  {
   "cell_type": "code",
   "execution_count": 37,
   "metadata": {},
   "outputs": [
    {
     "data": {
      "text/plain": [
       "'ewfjhewjfhewjhfew'"
      ]
     },
     "execution_count": 37,
     "metadata": {},
     "output_type": "execute_result"
    }
   ],
   "source": [
    "f'ewfjhewjfhewjhfew'"
   ]
  },
  {
   "cell_type": "code",
   "execution_count": 106,
   "metadata": {},
   "outputs": [],
   "source": [
    "# cur.execute(\"\"\"DROP TABLE recommendations;\"\"\")\n",
    "# conn.commit()"
   ]
  },
  {
   "cell_type": "code",
   "execution_count": 95,
   "metadata": {},
   "outputs": [],
   "source": [
    "#deciding to remove users table as it is redundant \n",
    "\n",
    "# cur.execute(\"\"\"CREATE TABLE users\n",
    "#                 (id serial PRIMARY KEY, \n",
    "#                 display_name varchar(50),\n",
    "#                 userID varchar(50)\n",
    "#                 );\"\"\")\n",
    "# # Commit table creation\n",
    "# conn.commit()"
   ]
  },
  {
   "cell_type": "code",
   "execution_count": null,
   "metadata": {},
   "outputs": [],
   "source": [
    "# cur.execute(\"\"\"CREATE TABLE recommendations\n",
    "#                 (id serial PRIMARY KEY,\n",
    "#                 userID varchar(50), \n",
    "#                 songID varchar(50),\n",
    "#                 songlistindex integer,\n",
    "#                 recDate DATE \n",
    "#                 )\"\"\")\n",
    "# # Commit table creation\n",
    "# conn.commit()"
   ]
  },
  {
   "cell_type": "code",
   "execution_count": null,
   "metadata": {},
   "outputs": [],
   "source": [
    "# query = \"\"\"SELECT * FROM users\n",
    "#             WHERE schemaname != 'pg_catalog'\n",
    "#             AND schemaname != 'information_schema';\"\"\"\n",
    "# cur.execute(query)\n",
    "# cur.fetchall()"
   ]
  },
  {
   "cell_type": "code",
   "execution_count": 38,
   "metadata": {},
   "outputs": [
    {
     "data": {
      "text/plain": [
       "'basslaughter'"
      ]
     },
     "execution_count": 38,
     "metadata": {},
     "output_type": "execute_result"
    }
   ],
   "source": [
    "user_id"
   ]
  },
  {
   "cell_type": "code",
   "execution_count": 39,
   "metadata": {},
   "outputs": [
    {
     "data": {
      "text/plain": [
       "'1WbwlYiiMZGQlrFGirRnHv'"
      ]
     },
     "execution_count": 39,
     "metadata": {},
     "output_type": "execute_result"
    }
   ],
   "source": [
    "song_id"
   ]
  },
  {
   "cell_type": "code",
   "execution_count": 32,
   "metadata": {},
   "outputs": [
    {
     "data": {
      "text/plain": [
       "({'songs': [{'similarity': [0.99], 'values': '2C1FzUUtHp31ZdQsTGDM2f'},\n",
       "   {'similarity': [0.99], 'values': '1NVsdk9Z0xNG2sUhZmkbD0'},\n",
       "   {'similarity': [0.99], 'values': '5SwPRje7oQV5RP0saxoZp8'},\n",
       "   {'similarity': [0.99], 'values': '5RrWu7ddslbnrRImeW7LOs'},\n",
       "   {'similarity': [0.99], 'values': '0FQjfJB4cdkVfxZHz8RV4M'},\n",
       "   {'similarity': [0.99], 'values': '6PF0WYSCH6OhGKHRHOQSxG'},\n",
       "   {'similarity': [0.99], 'values': '6vEAyRqugkWBfQpccdiWFU'},\n",
       "   {'similarity': [0.99], 'values': '7g7aNOC904ne2PUc14Xevb'},\n",
       "   {'similarity': [0.99], 'values': '4jJwm24UagUP51wTp657Xp'},\n",
       "   {'similarity': [0.99], 'values': '6roY6Z2b0Q7DH3ZM4SRoTz'},\n",
       "   {'similarity': [0.99], 'values': '5wmn1zWhSSDLUmLLwYO9Rj'},\n",
       "   {'similarity': [0.99], 'values': '34tFidHrETMAjsiK87WVVW'},\n",
       "   {'similarity': [0.99], 'values': '0rUyA7P4nPKCRVvKhFo7XL'},\n",
       "   {'similarity': [0.99], 'values': '5i2859ZJXGPOzDwdZSOMiH'},\n",
       "   {'similarity': [0.99], 'values': '3QOQEObqJvCi4M2SNeko7V'},\n",
       "   {'similarity': [0.99], 'values': '2raNLL2FWxWNA4veLZIuAj'},\n",
       "   {'similarity': [0.99], 'values': '5UORiENC2iuNTFWopBTJKV'},\n",
       "   {'similarity': [0.99], 'values': '4vTZpkN2Ri8Lfk2149NqWC'},\n",
       "   {'similarity': [0.99], 'values': '56RfNBJGUgL1ZFCB1KEJrQ'},\n",
       "   {'similarity': [0.99], 'values': '2jw0Fejobu4pxfJ1RRNT4W'}]},\n",
       " {'2C1FzUUtHp31ZdQsTGDM2f': 221696,\n",
       "  '1NVsdk9Z0xNG2sUhZmkbD0': 277504,\n",
       "  '5SwPRje7oQV5RP0saxoZp8': 521730,\n",
       "  '5RrWu7ddslbnrRImeW7LOs': 118276,\n",
       "  '0FQjfJB4cdkVfxZHz8RV4M': 89604,\n",
       "  '6PF0WYSCH6OhGKHRHOQSxG': 143880,\n",
       "  '6vEAyRqugkWBfQpccdiWFU': 358408,\n",
       "  '7g7aNOC904ne2PUc14Xevb': 125962,\n",
       "  '4jJwm24UagUP51wTp657Xp': 89611,\n",
       "  '6roY6Z2b0Q7DH3ZM4SRoTz': 238606,\n",
       "  '5wmn1zWhSSDLUmLLwYO9Rj': 565263,\n",
       "  '34tFidHrETMAjsiK87WVVW': 171023,\n",
       "  '0rUyA7P4nPKCRVvKhFo7XL': 552471,\n",
       "  '5i2859ZJXGPOzDwdZSOMiH': 110103,\n",
       "  '3QOQEObqJvCi4M2SNeko7V': 233497,\n",
       "  '2raNLL2FWxWNA4veLZIuAj': 216602,\n",
       "  '5UORiENC2iuNTFWopBTJKV': 552475,\n",
       "  '4vTZpkN2Ri8Lfk2149NqWC': 552474,\n",
       "  '56RfNBJGUgL1ZFCB1KEJrQ': 569370,\n",
       "  '2jw0Fejobu4pxfJ1RRNT4W': 356894})"
      ]
     },
     "execution_count": 32,
     "metadata": {},
     "output_type": "execute_result"
    }
   ],
   "source": [
    "sd_obj.song_id_predictions"
   ]
  },
  {
   "cell_type": "code",
   "execution_count": 35,
   "metadata": {},
   "outputs": [],
   "source": [
    "song_id_index = sd_obj.song_id_predictions[1]"
   ]
  },
  {
   "cell_type": "code",
   "execution_count": 33,
   "metadata": {},
   "outputs": [],
   "source": [
    "user_id = sd_obj.user_id"
   ]
  },
  {
   "cell_type": "code",
   "execution_count": 34,
   "metadata": {},
   "outputs": [
    {
     "data": {
      "text/plain": [
       "'basslaughter'"
      ]
     },
     "execution_count": 34,
     "metadata": {},
     "output_type": "execute_result"
    }
   ],
   "source": [
    "user_id"
   ]
  },
  {
   "cell_type": "code",
   "execution_count": 29,
   "metadata": {},
   "outputs": [],
   "source": [
    "conn, cur = connect()"
   ]
  },
  {
   "cell_type": "code",
   "execution_count": 36,
   "metadata": {},
   "outputs": [],
   "source": [
    "#only insert statement that we're using\n",
    "for song_id,song_index in song_id_index.items():\n",
    "    cur.execute(\n",
    "        'INSERT INTO recommendations'\n",
    "        '(userid,songid,songlistindex,recdate)'\n",
    "        f' VALUES (\\'{user_id}\\',\\'{song_id}\\',\\'{song_index}\\',current_timestamp);')\n",
    "conn.commit()"
   ]
  },
  {
   "cell_type": "code",
   "execution_count": 93,
   "metadata": {},
   "outputs": [],
   "source": [
    "# cur.execute(\n",
    "#         f'INSERT INTO users'\n",
    "#         f'(display_name,userid)'\n",
    "#         f' VALUES (\\'{display_name}\\',\\'{user_id}\\');')\n",
    "# conn.commit()"
   ]
  },
  {
   "cell_type": "code",
   "execution_count": null,
   "metadata": {},
   "outputs": [],
   "source": [
    "insertstatement1 {songid_lis[0]}\n",
    "insertstatement1 {songid_lis[1]}"
   ]
  },
  {
   "cell_type": "code",
   "execution_count": null,
   "metadata": {},
   "outputs": [],
   "source": [
    "(f'INSERT INTO users (songid, artist, track) VALUES (\\\"{f[\"songid\"]}\\\",\\\"{f[\"artist\"]}\\\",\\\"{f[\"track\"]}\\\", {f[\"danceability\"]}, {f[\"energy\"]}, {f[\"key\"]}, {f[\"loudness\"]}, {f[\"mode\"]}, {f[\"speechiness\"]}, {f[\"acousticness\"]},  {f[\"instrumentalness\"]}, {f[\"liveness\"]}, {f[\"valence\"]}, {f[\"tempo\"]}, {f[\"duration_ms\"]},{f[\"time_signature\"]});')"
   ]
  }
 ],
 "metadata": {
  "kernelspec": {
   "display_name": "Flask_notebooks",
   "language": "python",
   "name": "flask_notebooks"
  },
  "language_info": {
   "codemirror_mode": {
    "name": "ipython",
    "version": 3
   },
   "file_extension": ".py",
   "mimetype": "text/x-python",
   "name": "python",
   "nbconvert_exporter": "python",
   "pygments_lexer": "ipython3",
   "version": "3.7.4"
  }
 },
 "nbformat": 4,
 "nbformat_minor": 4
}
