{
 "cells": [
  {
   "cell_type": "code",
   "execution_count": 1,
   "metadata": {},
   "outputs": [],
   "source": [
    "import psycopg2 as ps\n",
    "from env_vars import *\n",
    "import spotipy\n",
    "\n",
    "import spotipy\n",
    "import spotipy.util as util\n",
    "from sklearn.neighbors import NearestNeighbors\n",
    "from sklearn.preprocessing import MinMaxScaler, Normalizer\n",
    "import pandas as pd\n",
    "from pandas.io.json import json_normalize\n",
    "from flask import jsonify\n",
    "from joblib import load\n",
    "import pickle\n",
    "import numpy as np\n",
    "from flask import request\n",
    "from joblib import dump\n",
    "from joblib import load\n",
    "import pandas as pd\n",
    "\n",
    "from env_vars import * "
   ]
  },
  {
   "cell_type": "markdown",
   "metadata": {},
   "source": [
    "# Variables for DB inserts"
   ]
  },
  {
   "cell_type": "code",
   "execution_count": 75,
   "metadata": {},
   "outputs": [],
   "source": [
    "# USERNAME = 'rileypence4' #your spotify username\n",
    "# CLIENT_ID = '47c4f0d3dcaa433c9ef4ec6686e5b1f1' #set at your developer account\n",
    "# CLIENT_SECRET = '65812a5fb52b4a3486f59ec672d499ff' #set at your developer account\n",
    "# REDIRECT_URI = 'https://google.com/' #set at your developer account, usually \"http://localhost:8000\"\n",
    "# SCOPE = 'user-library-read' # or else\n",
    "# # ps. REDIRECT_URI is crucial here. if http://localhost:8000 is not set, or with a single '/' misplaced, it will generate a connection error.\n",
    "\n",
    "# then pass them:\n",
    "\n",
    "token = util.prompt_for_user_token(username = USERNAME, \n",
    "                                   scope = SCOPE, \n",
    "                                   client_id = CLIENT_ID, \n",
    "                                   client_secret = CLIENT_SECRET, \n",
    "                                   redirect_uri = REDIRECT_URI)\n",
    "\n",
    "if token:\n",
    "   sp = spotipy.Spotify(auth=token)"
   ]
  },
  {
   "cell_type": "code",
   "execution_count": 76,
   "metadata": {},
   "outputs": [
    {
     "data": {
      "text/plain": [
       "'BQDN5qESdvaWZ0NyIbDiloX5aarwKPrkg44xb0mwHzPNEHRqaeUI4VY_-ATXb6nYbdmsK_tfAeFxONR9R3DXb5DijzwEFJMQah-9cZx6WAGCxM3dOzVkUZn4vE-iTc5BVhLJuwMdnCg7oM_ybpGo67PbBqZDcnwsrilWMfFvBt9fqczks2IHX4Z2tr4UehkH_t8J1RlTMQ'"
      ]
     },
     "execution_count": 76,
     "metadata": {},
     "output_type": "execute_result"
    }
   ],
   "source": [
    "token"
   ]
  },
  {
   "cell_type": "code",
   "execution_count": 77,
   "metadata": {},
   "outputs": [],
   "source": [
    "class Sound_Drip:\n",
    "    \n",
    "    def __init__(self, token):\n",
    "        self.token = token\n",
    "    \n",
    "    def instantiate_sp(self,token):\n",
    "        sp = spotipy.Spotify(auth=token)\n",
    "        return sp\n",
    "\n",
    "    def get_user_song_id(self,sp):\n",
    "        results = sp.current_user_saved_tracks()\n",
    "        genre = []\n",
    "        counter = 0 \n",
    "        for song_number in range(0,19):\n",
    "            counter += 1 \n",
    "            song_id = results['items'][song_number]['track']['id']\n",
    "            artist_id = self.get_artist_id(song_id)\n",
    "            genre = self.get_genres(artist_id)\n",
    "            if genre != []:\n",
    "                break\n",
    "        return song_id\n",
    "\n",
    "    def get_acoustical_features(self,song_id,sp):\n",
    "        acoustical_features = sp.audio_features(song_id)[0]\n",
    "        return acoustical_features\n",
    "\n",
    "    def get_popularity(self, song_id):\n",
    "        popularity =  sp.track(song_id)['popularity']\n",
    "        return popularity\n",
    "\n",
    "    def get_artist_id(self, song_id):\n",
    "        artist = sp.track(song_id)['artists'][0]['id']\n",
    "        return artist\n",
    "\n",
    "    def get_genres(self, artist):\n",
    "        genre = sp.artist(artist)['genres']\n",
    "        return genre\n",
    "    \n",
    "    def create_feature_object(self,popularity, acoustical_features):\n",
    "        popularity_dict = {'popularity': popularity}\n",
    "        song_features = acoustical_features\n",
    "        song_features.update(popularity_dict)\n",
    "        song_features = {\n",
    "    \"audio_features\": {\n",
    "        key: song_features[key] for key in song_features.keys() & {\n",
    "            'popularity',\n",
    "            'acousticness',\n",
    "            'danceability',\n",
    "            'energy',\n",
    "            'instrumentalness',\n",
    "            'key',\n",
    "            'liveness',\n",
    "            'loudness',\n",
    "            'mode',\n",
    "            'speechiness',\n",
    "            'tempo',\n",
    "            'time_signature',\n",
    "            'valence'}}}\n",
    "\n",
    "        df = pd.DataFrame.from_dict(json_normalize(song_features[\"audio_features\"]),orient='columns')   \n",
    "        df = df.reindex(sorted(df.columns), axis=1)\n",
    "        return df\n",
    "    \n",
    "    def get_results(self,song_features_df):\n",
    "        scaler = load(\"./models/scalar3.joblib\")\n",
    "        print('Scaling data...')\n",
    "        data_scaled = scaler.transform(song_features_df)\n",
    "        normalizer = Normalizer()\n",
    "        data_normalized = normalizer.fit_transform(data_scaled)\n",
    "        print('Loading pickled model...')\n",
    "        model = load('./models/model5.joblib')\n",
    "        results = model.kneighbors([data_normalized][0])[1:]\n",
    "        print('results returned')\n",
    "        return results[0]\n",
    "    \n",
    "    def filter_model(self,model_results,source_genre_list): \n",
    "        #loop takes KNN results and filters by source track genres\n",
    "        print(\"filter for genres initiated\")\n",
    "        genre_array = pickle.load(open(\"./data/genres_array_2.pkl\",\"rb\"))\n",
    "        filtered_list = []\n",
    "        song_list_length = 20\n",
    "        for output_song_index in model_results[0][1:]:\n",
    "            output_genre_list = genre_array[output_song_index]\n",
    "            for output_genre in output_genre_list:\n",
    "                output_genre = output_genre.strip(\" \")\n",
    "                for source_genre in source_genre_list:\n",
    "                    source_genre = \"'\" + source_genre + \"'\"\n",
    "                    if source_genre == output_genre:\n",
    "                        filtered_list.append(output_song_index)\n",
    "                    else:\n",
    "                        continue\n",
    "        if len(set(filtered_list)) > song_list_length:\n",
    "            print(\"filter found at least 20 genre matches\")\n",
    "            filtered_list = set(filtered_list)\n",
    "            filtered_list = list(filtered_list)[0:20]\n",
    "        else:\n",
    "            counter = song_list_length - len(set(filtered_list))\n",
    "            print(len(set(filtered_list)))\n",
    "            print(counter)\n",
    "            print(f'need to add {counter} items to final song output')\n",
    "            for output_song_index in model_results[1:]:\n",
    "                if output_song_index not in filtered_list:\n",
    "                    if counter > 0:\n",
    "                        filtered_list.append(output_song_index)\n",
    "                        counter -= 1\n",
    "                    else:\n",
    "                        break\n",
    "        print(\"filtered list with 20 unique song indices returned\")\n",
    "        return filtered_list\n",
    "    \n",
    "    def song_id_prediction_output(self,filtered_list): \n",
    "        similar_songs = []\n",
    "        print('song_id_list loading...')\n",
    "        song_id_array = pickle.load(open('./data/song_id_array3.pkl', 'rb'))\n",
    "        print('song_id_list loaded')\n",
    "        for song_row in filtered_list:\n",
    "            song_id = song_id_array[song_row]\n",
    "            similar_songs.append({'similarity': [.99], 'values': song_id})\n",
    "        json_dict = {\"songs\": similar_songs}\n",
    "        print(\"Results returned\")\n",
    "        return json_dict\n",
    "    \n",
    "    def get_user_ids(self, sp):\n",
    "        current_user_dict = sp.current_user()\n",
    "        display_name = current_user_dict['display_name']\n",
    "        user_id = current_user_dict['id']\n",
    "        return user_id, display_name"
   ]
  },
  {
   "cell_type": "code",
   "execution_count": 78,
   "metadata": {},
   "outputs": [
    {
     "data": {
      "text/plain": [
       "'BQDN5qESdvaWZ0NyIbDiloX5aarwKPrkg44xb0mwHzPNEHRqaeUI4VY_-ATXb6nYbdmsK_tfAeFxONR9R3DXb5DijzwEFJMQah-9cZx6WAGCxM3dOzVkUZn4vE-iTc5BVhLJuwMdnCg7oM_ybpGo67PbBqZDcnwsrilWMfFvBt9fqczks2IHX4Z2tr4UehkH_t8J1RlTMQ'"
      ]
     },
     "execution_count": 78,
     "metadata": {},
     "output_type": "execute_result"
    }
   ],
   "source": [
    "token"
   ]
  },
  {
   "cell_type": "code",
   "execution_count": 79,
   "metadata": {},
   "outputs": [],
   "source": [
    "sd_obj = Sound_Drip(token)"
   ]
  },
  {
   "cell_type": "code",
   "execution_count": 80,
   "metadata": {},
   "outputs": [],
   "source": [
    "sp = sd_obj.instantiate_sp(token)"
   ]
  },
  {
   "cell_type": "code",
   "execution_count": 81,
   "metadata": {},
   "outputs": [
    {
     "data": {
      "text/plain": [
       "<spotipy.client.Spotify at 0x1360df810>"
      ]
     },
     "execution_count": 81,
     "metadata": {},
     "output_type": "execute_result"
    }
   ],
   "source": [
    "sp"
   ]
  },
  {
   "cell_type": "code",
   "execution_count": 82,
   "metadata": {},
   "outputs": [],
   "source": [
    "user_id, display_name = sd_obj.get_user_ids(sp)"
   ]
  },
  {
   "cell_type": "code",
   "execution_count": 83,
   "metadata": {},
   "outputs": [
    {
     "data": {
      "text/plain": [
       "('basslaughter', 'Zhenya Warshavsky')"
      ]
     },
     "execution_count": 83,
     "metadata": {},
     "output_type": "execute_result"
    }
   ],
   "source": [
    "user_id, display_name"
   ]
  },
  {
   "cell_type": "code",
   "execution_count": 12,
   "metadata": {},
   "outputs": [],
   "source": [
    "user_song_id = sd_obj.get_user_song_id(sp)"
   ]
  },
  {
   "cell_type": "code",
   "execution_count": 36,
   "metadata": {},
   "outputs": [
    {
     "data": {
      "text/plain": [
       "'1WbwlYiiMZGQlrFGirRnHv'"
      ]
     },
     "execution_count": 36,
     "metadata": {},
     "output_type": "execute_result"
    }
   ],
   "source": [
    "user_song_id"
   ]
  },
  {
   "cell_type": "code",
   "execution_count": 13,
   "metadata": {},
   "outputs": [
    {
     "name": "stderr",
     "output_type": "stream",
     "text": [
      "/Users/user/.local/share/virtualenvs/unique-song-reqs-Bk3t-qK-/lib/python3.7/site-packages/ipykernel_launcher.py:60: FutureWarning: pandas.io.json.json_normalize is deprecated, use pandas.json_normalize instead\n"
     ]
    },
    {
     "name": "stdout",
     "output_type": "stream",
     "text": [
      "Scaling data...\n",
      "Loading pickled model...\n",
      "results returned\n",
      "filter for genres initiated\n",
      "filter found at least 20 genre matches\n",
      "filtered list with 20 unique song indices returned\n",
      "song_id_list loading...\n",
      "song_id_list loaded\n",
      "Results returned\n"
     ]
    },
    {
     "data": {
      "text/plain": [
       "{'songs': [{'similarity': [0.99], 'values': '2C1FzUUtHp31ZdQsTGDM2f'},\n",
       "  {'similarity': [0.99], 'values': '1NVsdk9Z0xNG2sUhZmkbD0'},\n",
       "  {'similarity': [0.99], 'values': '5SwPRje7oQV5RP0saxoZp8'},\n",
       "  {'similarity': [0.99], 'values': '5RrWu7ddslbnrRImeW7LOs'},\n",
       "  {'similarity': [0.99], 'values': '0FQjfJB4cdkVfxZHz8RV4M'},\n",
       "  {'similarity': [0.99], 'values': '6PF0WYSCH6OhGKHRHOQSxG'},\n",
       "  {'similarity': [0.99], 'values': '6vEAyRqugkWBfQpccdiWFU'},\n",
       "  {'similarity': [0.99], 'values': '7g7aNOC904ne2PUc14Xevb'},\n",
       "  {'similarity': [0.99], 'values': '4jJwm24UagUP51wTp657Xp'},\n",
       "  {'similarity': [0.99], 'values': '6roY6Z2b0Q7DH3ZM4SRoTz'},\n",
       "  {'similarity': [0.99], 'values': '5wmn1zWhSSDLUmLLwYO9Rj'},\n",
       "  {'similarity': [0.99], 'values': '34tFidHrETMAjsiK87WVVW'},\n",
       "  {'similarity': [0.99], 'values': '0rUyA7P4nPKCRVvKhFo7XL'},\n",
       "  {'similarity': [0.99], 'values': '5i2859ZJXGPOzDwdZSOMiH'},\n",
       "  {'similarity': [0.99], 'values': '3QOQEObqJvCi4M2SNeko7V'},\n",
       "  {'similarity': [0.99], 'values': '2raNLL2FWxWNA4veLZIuAj'},\n",
       "  {'similarity': [0.99], 'values': '5UORiENC2iuNTFWopBTJKV'},\n",
       "  {'similarity': [0.99], 'values': '4vTZpkN2Ri8Lfk2149NqWC'},\n",
       "  {'similarity': [0.99], 'values': '56RfNBJGUgL1ZFCB1KEJrQ'},\n",
       "  {'similarity': [0.99], 'values': '2jw0Fejobu4pxfJ1RRNT4W'}]}"
      ]
     },
     "execution_count": 13,
     "metadata": {},
     "output_type": "execute_result"
    }
   ],
   "source": [
    "sd = Sound_Drip(token)\n",
    "sp = sd.instantiate_sp(token)\n",
    "song_id = sd.get_user_song_id(sp)\n",
    "acoustical_features = sd.get_acoustical_features(song_id, sp)\n",
    "popularity = sd.get_popularity(song_id)\n",
    "song_features_df = sd.create_feature_object(popularity, acoustical_features)\n",
    "results = sd.get_results(song_features_df)\n",
    "source_genre = sd.get_genres(sd.get_artist_id(song_id))\n",
    "filtered_list = sd.filter_model(results,source_genre)\n",
    "sd.song_id_prediction_output(filtered_list)"
   ]
  },
  {
   "cell_type": "code",
   "execution_count": 17,
   "metadata": {},
   "outputs": [
    {
     "name": "stdout",
     "output_type": "stream",
     "text": [
      "song_id_list loading...\n",
      "song_id_list loaded\n",
      "Results returned\n"
     ]
    }
   ],
   "source": [
    "final_result = sd.song_id_prediction_output(filtered_list)"
   ]
  },
  {
   "cell_type": "code",
   "execution_count": 98,
   "metadata": {},
   "outputs": [
    {
     "data": {
      "text/plain": [
       "['2C1FzUUtHp31ZdQsTGDM2f',\n",
       " '1NVsdk9Z0xNG2sUhZmkbD0',\n",
       " '5SwPRje7oQV5RP0saxoZp8',\n",
       " '5RrWu7ddslbnrRImeW7LOs',\n",
       " '0FQjfJB4cdkVfxZHz8RV4M',\n",
       " '6PF0WYSCH6OhGKHRHOQSxG',\n",
       " '6vEAyRqugkWBfQpccdiWFU',\n",
       " '7g7aNOC904ne2PUc14Xevb',\n",
       " '4jJwm24UagUP51wTp657Xp',\n",
       " '6roY6Z2b0Q7DH3ZM4SRoTz',\n",
       " '5wmn1zWhSSDLUmLLwYO9Rj',\n",
       " '34tFidHrETMAjsiK87WVVW',\n",
       " '0rUyA7P4nPKCRVvKhFo7XL',\n",
       " '5i2859ZJXGPOzDwdZSOMiH',\n",
       " '3QOQEObqJvCi4M2SNeko7V',\n",
       " '2raNLL2FWxWNA4veLZIuAj',\n",
       " '5UORiENC2iuNTFWopBTJKV',\n",
       " '4vTZpkN2Ri8Lfk2149NqWC',\n",
       " '56RfNBJGUgL1ZFCB1KEJrQ',\n",
       " '2jw0Fejobu4pxfJ1RRNT4W']"
      ]
     },
     "execution_count": 98,
     "metadata": {},
     "output_type": "execute_result"
    }
   ],
   "source": [
    "song_list = []\n",
    "for song in final_result[\"songs\"]:\n",
    "    song_list.append((((song[\"values\"]))))\n",
    "    \n",
    "song_list"
   ]
  },
  {
   "cell_type": "markdown",
   "metadata": {},
   "source": [
    "# Db Calls"
   ]
  },
  {
   "cell_type": "code",
   "execution_count": 33,
   "metadata": {},
   "outputs": [],
   "source": [
    "def connect():\n",
    "    conn = ps.connect(host=POSTGRES_ADDRESS,\n",
    "              database=POSTGRES_DBNAME,\n",
    "              user=POSTGRES_USERNAME,\n",
    "              password=POSTGRES_PASSWORD,\n",
    "              port=POSTGRES_PORT)\n",
    "    cur = conn.cursor()\n",
    "    return conn,cur"
   ]
  },
  {
   "cell_type": "code",
   "execution_count": 42,
   "metadata": {},
   "outputs": [],
   "source": [
    "# def run_query():\n",
    "#     try:\n",
    "#         cur.execute(query)\n",
    "#     except Exception as e:\n",
    "#         print (e.message)\n",
    "#         return reconnect()"
   ]
  },
  {
   "cell_type": "code",
   "execution_count": 43,
   "metadata": {},
   "outputs": [],
   "source": [
    "# run_query()"
   ]
  },
  {
   "cell_type": "code",
   "execution_count": 35,
   "metadata": {},
   "outputs": [
    {
     "data": {
      "text/plain": [
       "[]"
      ]
     },
     "execution_count": 35,
     "metadata": {},
     "output_type": "execute_result"
    }
   ],
   "source": [
    "query = \"\"\"SELECT * FROM users;\"\"\"\n",
    "\n",
    "cur.execute(query)\n",
    "cur.fetchall()"
   ]
  },
  {
   "cell_type": "code",
   "execution_count": 31,
   "metadata": {},
   "outputs": [
    {
     "data": {
      "text/plain": [
       "[]"
      ]
     },
     "execution_count": 31,
     "metadata": {},
     "output_type": "execute_result"
    }
   ],
   "source": [
    "query = \"\"\"SELECT * FROM recommendations\"\"\"\n",
    "\n",
    "cur.execute(query)\n",
    "cur.fetchall()"
   ]
  },
  {
   "cell_type": "code",
   "execution_count": 37,
   "metadata": {},
   "outputs": [
    {
     "data": {
      "text/plain": [
       "'ewfjhewjfhewjhfew'"
      ]
     },
     "execution_count": 37,
     "metadata": {},
     "output_type": "execute_result"
    }
   ],
   "source": [
    "f'ewfjhewjfhewjhfew'"
   ]
  },
  {
   "cell_type": "code",
   "execution_count": 94,
   "metadata": {},
   "outputs": [],
   "source": [
    "# cur.execute(\"\"\"DROP TABLE users;\"\"\")\n",
    "# conn.commit()"
   ]
  },
  {
   "cell_type": "code",
   "execution_count": 95,
   "metadata": {},
   "outputs": [],
   "source": [
    "#deciding to remove users table as it is redundant \n",
    "\n",
    "# cur.execute(\"\"\"CREATE TABLE users\n",
    "#                 (id serial PRIMARY KEY, \n",
    "#                 display_name varchar(50),\n",
    "#                 userID varchar(50)\n",
    "#                 );\"\"\")\n",
    "# # Commit table creation\n",
    "# conn.commit()"
   ]
  },
  {
   "cell_type": "code",
   "execution_count": 32,
   "metadata": {},
   "outputs": [],
   "source": [
    "# cur.execute(\"\"\"CREATE TABLE recommendations\n",
    "#                 (id serial PRIMARY KEY,\n",
    "#                 userID varchar(50), \n",
    "#                 songID varchar(50),\n",
    "#                 recDate DATE \n",
    "#                 )\"\"\")\n",
    "# # Commit table creation\n",
    "# conn.commit()"
   ]
  },
  {
   "cell_type": "code",
   "execution_count": null,
   "metadata": {},
   "outputs": [],
   "source": [
    "# query = \"\"\"SELECT * FROM users\n",
    "#             WHERE schemaname != 'pg_catalog'\n",
    "#             AND schemaname != 'information_schema';\"\"\"\n",
    "# cur.execute(query)\n",
    "# cur.fetchall()"
   ]
  },
  {
   "cell_type": "code",
   "execution_count": 38,
   "metadata": {},
   "outputs": [
    {
     "data": {
      "text/plain": [
       "'basslaughter'"
      ]
     },
     "execution_count": 38,
     "metadata": {},
     "output_type": "execute_result"
    }
   ],
   "source": [
    "user_id"
   ]
  },
  {
   "cell_type": "code",
   "execution_count": 39,
   "metadata": {},
   "outputs": [
    {
     "data": {
      "text/plain": [
       "'1WbwlYiiMZGQlrFGirRnHv'"
      ]
     },
     "execution_count": 39,
     "metadata": {},
     "output_type": "execute_result"
    }
   ],
   "source": [
    "song_id"
   ]
  },
  {
   "cell_type": "code",
   "execution_count": 71,
   "metadata": {},
   "outputs": [
    {
     "data": {
      "text/plain": [
       "['2C1FzUUtHp31ZdQsTGDM2f',\n",
       " '1NVsdk9Z0xNG2sUhZmkbD0',\n",
       " '5SwPRje7oQV5RP0saxoZp8',\n",
       " '5RrWu7ddslbnrRImeW7LOs',\n",
       " '0FQjfJB4cdkVfxZHz8RV4M',\n",
       " '6PF0WYSCH6OhGKHRHOQSxG',\n",
       " '6vEAyRqugkWBfQpccdiWFU',\n",
       " '7g7aNOC904ne2PUc14Xevb',\n",
       " '4jJwm24UagUP51wTp657Xp',\n",
       " '6roY6Z2b0Q7DH3ZM4SRoTz',\n",
       " '5wmn1zWhSSDLUmLLwYO9Rj',\n",
       " '34tFidHrETMAjsiK87WVVW',\n",
       " '0rUyA7P4nPKCRVvKhFo7XL',\n",
       " '5i2859ZJXGPOzDwdZSOMiH',\n",
       " '3QOQEObqJvCi4M2SNeko7V',\n",
       " '2raNLL2FWxWNA4veLZIuAj',\n",
       " '5UORiENC2iuNTFWopBTJKV',\n",
       " '4vTZpkN2Ri8Lfk2149NqWC',\n",
       " '56RfNBJGUgL1ZFCB1KEJrQ',\n",
       " '2jw0Fejobu4pxfJ1RRNT4W']"
      ]
     },
     "execution_count": 71,
     "metadata": {},
     "output_type": "execute_result"
    }
   ],
   "source": [
    "song_list"
   ]
  },
  {
   "cell_type": "code",
   "execution_count": 90,
   "metadata": {},
   "outputs": [],
   "source": [
    "conn, cur = connect()"
   ]
  },
  {
   "cell_type": "code",
   "execution_count": 73,
   "metadata": {},
   "outputs": [],
   "source": [
    "for song_id in song_list:\n",
    "    cur.execute(\n",
    "        f'INSERT INTO recommendations'\n",
    "        f'(userid,songid,recdate)'\n",
    "        f' VALUES (\\'{user_id}\\',\\'{song_id}\\',current_timestamp);')\n",
    "conn.commit()"
   ]
  },
  {
   "cell_type": "code",
   "execution_count": 93,
   "metadata": {},
   "outputs": [],
   "source": [
    "cur.execute(\n",
    "        f'INSERT INTO users'\n",
    "        f'(display_name,userid)'\n",
    "        f' VALUES (\\'{display_name}\\',\\'{user_id}\\');')\n",
    "conn.commit()"
   ]
  },
  {
   "cell_type": "code",
   "execution_count": null,
   "metadata": {},
   "outputs": [],
   "source": [
    "insertstatement1 {songid_lis[0]}\n",
    "insertstatement1 {songid_lis[1]}"
   ]
  },
  {
   "cell_type": "code",
   "execution_count": null,
   "metadata": {},
   "outputs": [],
   "source": [
    "(f'INSERT INTO users (songid, artist, track) VALUES (\\\"{f[\"songid\"]}\\\",\\\"{f[\"artist\"]}\\\",\\\"{f[\"track\"]}\\\", {f[\"danceability\"]}, {f[\"energy\"]}, {f[\"key\"]}, {f[\"loudness\"]}, {f[\"mode\"]}, {f[\"speechiness\"]}, {f[\"acousticness\"]},  {f[\"instrumentalness\"]}, {f[\"liveness\"]}, {f[\"valence\"]}, {f[\"tempo\"]}, {f[\"duration_ms\"]},{f[\"time_signature\"]});')"
   ]
  }
 ],
 "metadata": {
  "kernelspec": {
   "display_name": "unique-song-reqs",
   "language": "python",
   "name": "unique-song-reqs"
  },
  "language_info": {
   "codemirror_mode": {
    "name": "ipython",
    "version": 3
   },
   "file_extension": ".py",
   "mimetype": "text/x-python",
   "name": "python",
   "nbconvert_exporter": "python",
   "pygments_lexer": "ipython3",
   "version": "3.7.4"
  }
 },
 "nbformat": 4,
 "nbformat_minor": 4
}
