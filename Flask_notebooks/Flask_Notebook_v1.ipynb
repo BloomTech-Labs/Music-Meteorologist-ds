{
 "cells": [
  {
   "cell_type": "code",
   "execution_count": 1,
   "metadata": {},
   "outputs": [],
   "source": [
    "# importing necessary libraries\n",
    "import spotipy\n",
    "import spotipy.util as util\n",
    "from sklearn.neighbors import NearestNeighbors\n",
    "from sklearn.preprocessing import StandardScaler, MinMaxScaler\n",
    "import pandas as pd\n",
    "from pandas.io.json import json_normalize\n",
    "from flask import jsonify\n",
    "from joblib import load\n",
    "import pickle"
   ]
  },
  {
   "cell_type": "code",
   "execution_count": 2,
   "metadata": {},
   "outputs": [],
   "source": [
    "def instantiate_sp(token):\n",
    "    sp = spotipy.Spotify(auth=token)\n",
    "    return sp"
   ]
  },
  {
   "cell_type": "code",
   "execution_count": 3,
   "metadata": {},
   "outputs": [],
   "source": [
    "def get_id(sp):\n",
    "    results = sp.current_user_saved_tracks()\n",
    "    song_id = results['items'][0]['track']['id']\n",
    "    return song_id"
   ]
  },
  {
   "cell_type": "code",
   "execution_count": 4,
   "metadata": {},
   "outputs": [],
   "source": [
    "def get_features(song_id,sp):\n",
    "    results_dict = sp.audio_features(song_id)[0]\n",
    "    audio_features = {\n",
    "        \"audio_features\": {\n",
    "            key: results_dict[key] for key in results_dict.keys() & {\n",
    "                'danceability',\n",
    "                'energy',\n",
    "                'key',\n",
    "                'loudness',\n",
    "                'mode',\n",
    "                'speechiness',\n",
    "                'acousticness',\n",
    "                'instrumentalness',\n",
    "                'liveness',\n",
    "                'valence',\n",
    "                'tempo',\n",
    "                'time_signature'}}}\n",
    "    return audio_features"
   ]
  },
  {
   "cell_type": "code",
   "execution_count": null,
   "metadata": {},
   "outputs": [],
   "source": [
    "def predictfunc(content):\n",
    "    similar_songs = []\n",
    "    print('Loading dataframe...')\n",
    "    dataframe = pd.DataFrame.from_dict(\n",
    "        json_normalize(content['audio_features']),\n",
    "        orient='columns')\n",
    "    print('Dataframe Object Created')\n",
    "    print('Loading pickled scaler...')\n",
    "    scaler = load('./models/scalar2.joblib')\n",
    "    print('Pickled scaler loaded')\n",
    "    print('Scaling dataframe object...')\n",
    "    dataframe_scaled = scaler.transform(dataframe)\n",
    "    print('Dataframe scaled')\n",
    "    print('Loading pickled model...')\n",
    "    model = load('./models/model2.joblib')\n",
    "    print('Model loaded')\n",
    "    results = model.kneighbors([dataframe_scaled][0])[1]\n",
    "    print('Prediction executed')\n",
    "    print('song_id_list loading...')\n",
    "    #song_id_list = load('./data/song_id_list2.joblib')\n",
    "    # (added 3.4 sec to run time)\n",
    "    song_id_list = pickle.load(open('./data/song_id_list2.pkl', 'rb'))\n",
    "    print('song_id_list loaded')\n",
    "\n",
    "    print('beginning for loop...')\n",
    "    for song_row in results[0][1:]:\n",
    "        song_id = song_id_list[song_row]\n",
    "        similar_songs.append({'similarity': [.99], 'values': song_id})\n",
    "    json_dict = {\"songs\": similar_songs}\n",
    "    return json_dict\n"
   ]
  }
 ],
 "metadata": {
  "kernelspec": {
   "display_name": "Flask_Notebooks",
   "language": "python",
   "name": "flask_notebooks"
  },
  "language_info": {
   "codemirror_mode": {
    "name": "ipython",
    "version": 3
   },
   "file_extension": ".py",
   "mimetype": "text/x-python",
   "name": "python",
   "nbconvert_exporter": "python",
   "pygments_lexer": "ipython3",
   "version": "3.7.3"
  }
 },
 "nbformat": 4,
 "nbformat_minor": 4
}
