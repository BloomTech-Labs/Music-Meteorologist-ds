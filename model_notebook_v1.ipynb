{
 "cells": [
  {
   "cell_type": "code",
   "execution_count": 0,
   "metadata": {
    "id": "NMoV_svz03-T",
    "colab_type": "code",
    "colab": {}
   },
   "outputs": [],
   "source": [
    "import pandas as pd\n",
    "import numpy as np\n",
    "from scipy.linalg import norm as normsp\n",
    "\n",
    "# TODO: Load dataframe with 1mil+ songs\n",
    "# Loading two datafames with 100k songs each\n",
    "df = pd.read_csv('SpotifyAudioFeaturesApril2019.csv')\n",
    "df_other = pd.read_csv('SpotifyAudioFeaturesNov2018.csv')\n",
    "\n",
    "# Remove irrelevant features\n",
    "df = df.drop('popularity', 1)\n",
    "df = df.drop('duration_ms', 1)\n",
    "df = df.dropna()\n",
    "df_other = df_other.drop('popularity', 1)\n",
    "df_other = df_other.drop('duration_ms', 1)\n",
    "df_other = df_other.dropna()\n",
    "# Combine \n",
    "df = pd.concat([df,df_other]).drop_duplicates().reset_index(drop=True)"
   ]
  },
  {
   "cell_type": "code",
   "execution_count": 0,
   "metadata": {
    "id": "l6a6B_tf3I4t",
    "colab_type": "code",
    "colab": {}
   },
   "outputs": [],
   "source": [
    "# Split data into X and Y (df, dfy)\n",
    "# This is so that we have labels for all the numbers that the model outputs\n",
    "\n",
    "dfy = df[['artist_name','track_id', 'track_name']]\n",
    "df2 = df.drop('artist_name', 1)\n",
    "df2 = df2.drop('track_id', 1)\n",
    "df2 = df2.drop('track_name', 1)"
   ]
  },
  {
   "cell_type": "code",
   "execution_count": 0,
   "metadata": {
    "id": "TsdBR5J328to",
    "colab_type": "code",
    "colab": {}
   },
   "outputs": [],
   "source": [
    "# Convert dataframe to array\n",
    "array = df.values\n",
    "\n",
    "# Find a random song by indexing the array\n",
    "song = array[1549]"
   ]
  },
  {
   "cell_type": "code",
   "execution_count": 0,
   "metadata": {
    "id": "6NRokuVb29PS",
    "colab_type": "code",
    "colab": {}
   },
   "outputs": [],
   "source": [
    "# Calculates the similarity of two songs\n",
    "def cosine_similarity(a, b):\n",
    "  dot_product = np.dot(a,b)\n",
    "  norm_a = normsp(a)\n",
    "  norm_b = normsp(b)\n",
    "  \n",
    "  return dot_product / (norm_a * norm_b)\n",
    "\n",
    "# Find the cosine similarity for each song with our chosen song....\n",
    "# Return a rank-ordered list of our song dataframe with cosine_similarity values \n",
    "# TODO: Don't order the *entire* dataframe. Subset by genre?\n",
    "def all_similarities(a, dfy):\n",
    "  similar_songs = []\n",
    "  for spotify_song, metadata in zip(array, dfy.values):\n",
    "    similarity = cosine_similarity(a, spotify_song)\n",
    "    similar_songs.append({'similarity': similarity, 'values': metadata})\n",
    "  return similar_songs"
   ]
  },
  {
   "cell_type": "code",
   "execution_count": 0,
   "metadata": {
    "id": "47FejwAG3CNv",
    "colab_type": "code",
    "colab": {}
   },
   "outputs": [],
   "source": [
    "similarities = all_similarities(song, dfy)"
   ]
  }
 ],
 "metadata": {
  "colab": {
   "name": "Untitled20.ipynb",
   "version": "0.3.2",
   "provenance": []
  },
  "kernelspec": {
   "name": "python3",
   "display_name": "Python 3"
  }
 },
 "nbformat": 4,
 "nbformat_minor": 0
}